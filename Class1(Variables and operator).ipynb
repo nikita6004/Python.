{
 "cells": [
  {
   "cell_type": "code",
   "execution_count": 1,
   "id": "e1cd097b",
   "metadata": {},
   "outputs": [],
   "source": [
    "a=10\n"
   ]
  },
  {
   "cell_type": "code",
   "execution_count": 1,
   "id": "81247eb5",
   "metadata": {},
   "outputs": [
    {
     "data": {
      "text/plain": [
       "'C:\\\\Users\\\\Nikita Uprety\\\\Python Class'"
      ]
     },
     "execution_count": 1,
     "metadata": {},
     "output_type": "execute_result"
    }
   ],
   "source": [
    "pwd\n"
   ]
  },
  {
   "cell_type": "code",
   "execution_count": 2,
   "id": "44a90a03",
   "metadata": {},
   "outputs": [
    {
     "data": {
      "text/plain": [
       "int"
      ]
     },
     "execution_count": 2,
     "metadata": {},
     "output_type": "execute_result"
    }
   ],
   "source": [
    "type(a)"
   ]
  },
  {
   "cell_type": "code",
   "execution_count": 3,
   "id": "5e573427",
   "metadata": {},
   "outputs": [],
   "source": [
    "a='kkk'\n",
    "b=20.3\n",
    "c=True"
   ]
  },
  {
   "cell_type": "code",
   "execution_count": null,
   "id": "046d112f",
   "metadata": {
    "scrolled": false
   },
   "outputs": [],
   "source": [
    "type(a)"
   ]
  },
  {
   "cell_type": "code",
   "execution_count": null,
   "id": "d79013df",
   "metadata": {},
   "outputs": [],
   "source": [
    "print(type(c))"
   ]
  },
  {
   "cell_type": "code",
   "execution_count": null,
   "id": "e9647c57",
   "metadata": {},
   "outputs": [],
   "source": [
    "print(type(b))"
   ]
  },
  {
   "cell_type": "code",
   "execution_count": null,
   "id": "51fc1482",
   "metadata": {},
   "outputs": [],
   "source": [
    "a=2**5\n",
    "print (a)"
   ]
  },
  {
   "cell_type": "code",
   "execution_count": null,
   "id": "34111b59",
   "metadata": {},
   "outputs": [],
   "source": [
    "print(a)"
   ]
  },
  {
   "cell_type": "code",
   "execution_count": null,
   "id": "5447c38c",
   "metadata": {},
   "outputs": [],
   "source": [
    "b=10//5\n",
    "print(b)"
   ]
  },
  {
   "cell_type": "code",
   "execution_count": null,
   "id": "1ed719f7",
   "metadata": {},
   "outputs": [],
   "source": [
    "a='hello '\n",
    "b='world'\n",
    "print (a+b)\n",
    "print(a*2)"
   ]
  },
  {
   "cell_type": "code",
   "execution_count": null,
   "id": "7a05d781",
   "metadata": {},
   "outputs": [],
   "source": [
    "a = True\n",
    "b = False\n",
    "print (a+b)\n",
    "print (a+a)"
   ]
  },
  {
   "cell_type": "code",
   "execution_count": null,
   "id": "8e2921f7",
   "metadata": {},
   "outputs": [],
   "source": [
    "a= 3+4j\n",
    "b= 4+1j\n",
    "print(a+b)"
   ]
  },
  {
   "cell_type": "code",
   "execution_count": null,
   "id": "ee12da55",
   "metadata": {},
   "outputs": [],
   "source": [
    "a='10'\n",
    "b=90\n",
    "int(a)\n",
    "str(b)\n",
    "float(a)\n"
   ]
  },
  {
   "cell_type": "code",
   "execution_count": null,
   "id": "5920dda8",
   "metadata": {},
   "outputs": [],
   "source": [
    "a=input()"
   ]
  },
  {
   "cell_type": "code",
   "execution_count": null,
   "id": "1e88947a",
   "metadata": {},
   "outputs": [],
   "source": [
    "print (a)"
   ]
  },
  {
   "cell_type": "code",
   "execution_count": 4,
   "id": "c427bc58",
   "metadata": {},
   "outputs": [
    {
     "name": "stdout",
     "output_type": "stream",
     "text": [
      "enter bhello\n",
      "hello\n"
     ]
    }
   ],
   "source": [
    "b = input(\"enter b\")\n",
    "print (b)"
   ]
  },
  {
   "cell_type": "code",
   "execution_count": 6,
   "id": "d1f6b0f7",
   "metadata": {},
   "outputs": [
    {
     "name": "stdout",
     "output_type": "stream",
     "text": [
      "enter a10\n",
      "enter b10\n",
      "20\n"
     ]
    }
   ],
   "source": [
    "a = int(input(\"enter a\"))\n",
    "b = int(input(\"enter b\"))\n",
    "print(a+b)"
   ]
  },
  {
   "cell_type": "code",
   "execution_count": 8,
   "id": "9f96c30a",
   "metadata": {},
   "outputs": [
    {
     "name": "stdout",
     "output_type": "stream",
     "text": [
      "enter principle = 20.00\n",
      "enter Time = 3\n",
      "enter rate = 4\n",
      "The Intrest is  2.4\n"
     ]
    }
   ],
   "source": [
    "p=float(input(\"enter principle = \"))\n",
    "t=int(input(\"enter Time = \"))\n",
    "r=float(input(\"enter rate = \"))\n",
    "Intrest = (p*t*r)/100\n",
    "print(\"The Intrest is \",Intrest)\n",
    "\n"
   ]
  },
  {
   "cell_type": "code",
   "execution_count": 7,
   "id": "1187a6d7",
   "metadata": {},
   "outputs": [
    {
     "name": "stdout",
     "output_type": "stream",
     "text": [
      "<class 'int'>\n",
      "<class 'float'>\n"
     ]
    }
   ],
   "source": [
    "a=10\n",
    "b='Pink'\n",
    "c=0.9\n",
    "d=True\n",
    "print(type(a))\n",
    "print(type(c))"
   ]
  },
  {
   "cell_type": "code",
   "execution_count": 2,
   "id": "1ebbd95a",
   "metadata": {},
   "outputs": [
    {
     "data": {
      "text/plain": [
       "str"
      ]
     },
     "execution_count": 2,
     "metadata": {},
     "output_type": "execute_result"
    }
   ],
   "source": [
    "type(b)"
   ]
  },
  {
   "cell_type": "code",
   "execution_count": 8,
   "id": "8de5ccca",
   "metadata": {},
   "outputs": [
    {
     "name": "stdout",
     "output_type": "stream",
     "text": [
      "<class 'float'>\n"
     ]
    }
   ],
   "source": [
    "print(type(c))"
   ]
  },
  {
   "cell_type": "code",
   "execution_count": 9,
   "id": "ae30016d",
   "metadata": {},
   "outputs": [
    {
     "name": "stdout",
     "output_type": "stream",
     "text": [
      "<class 'bool'>\n"
     ]
    }
   ],
   "source": [
    "print(type(d))"
   ]
  },
  {
   "cell_type": "code",
   "execution_count": null,
   "id": "ffba6f31",
   "metadata": {},
   "outputs": [],
   "source": []
  }
 ],
 "metadata": {
  "kernelspec": {
   "display_name": "Python 3 (ipykernel)",
   "language": "python",
   "name": "python3"
  },
  "language_info": {
   "codemirror_mode": {
    "name": "ipython",
    "version": 3
   },
   "file_extension": ".py",
   "mimetype": "text/x-python",
   "name": "python",
   "nbconvert_exporter": "python",
   "pygments_lexer": "ipython3",
   "version": "3.9.13"
  }
 },
 "nbformat": 4,
 "nbformat_minor": 5
}
