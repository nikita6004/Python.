{
 "cells": [
  {
   "cell_type": "code",
   "execution_count": null,
   "id": "7de54a3b",
   "metadata": {},
   "outputs": [],
   "source": [
    "#pre defined function\n",
    "# print() type() int() str() float() bool() input()\n",
    "\n",
    "# user defined function\n",
    "# def<function_name>():\n",
    "#     <operations>\n",
    "# function_name()\n",
    "\n",
    "\n"
   ]
  },
  {
   "cell_type": "code",
   "execution_count": 1,
   "id": "8e907a7e",
   "metadata": {},
   "outputs": [
    {
     "name": "stdout",
     "output_type": "stream",
     "text": [
      "Hello World\n"
     ]
    }
   ],
   "source": [
    "def hello():\n",
    "    print(\"Hello World\")\n",
    "\n",
    "hello()"
   ]
  },
  {
   "cell_type": "code",
   "execution_count": 4,
   "id": "7b9ff2a7",
   "metadata": {},
   "outputs": [
    {
     "name": "stdout",
     "output_type": "stream",
     "text": [
      "Enter the value of length 60\n",
      "Enter the value of breadth 60\n",
      "The total area is 3600\n"
     ]
    }
   ],
   "source": [
    "def cal():\n",
    "    l=int(input(\"Enter the value of length \"))#localvariable\n",
    "    b=int(input(\"Enter the value of breadth \"))#localvariable\n",
    "    Area=l*b\n",
    "    print(\"The total area is\",Area)\n",
    "    \n",
    "cal()"
   ]
  },
  {
   "cell_type": "code",
   "execution_count": 2,
   "id": "041d1241",
   "metadata": {},
   "outputs": [
    {
     "name": "stdout",
     "output_type": "stream",
     "text": [
      "Enter the value of length 60\n",
      "Enter the value of breadth 50\n",
      "The total area is 1500.0\n"
     ]
    }
   ],
   "source": [
    "# function without argument and no return type\n",
    "def cal():\n",
    "    Area=0.5*l*b\n",
    "    print(\"The total area is\",Area)\n",
    "l=int(input(\"Enter the value of length \"))#globalvariable\n",
    "b=int(input(\"Enter the value of breadth \"))#globalvariable\n",
    "cal()"
   ]
  },
  {
   "cell_type": "code",
   "execution_count": 4,
   "id": "aac4d4c9",
   "metadata": {},
   "outputs": [],
   "source": [
    "# argument return type\n",
    "# function without argument and no return type\n",
    "# function with argument and no return type\n",
    "# function without argument and return type\n",
    "# function with argument and return type\n"
   ]
  },
  {
   "cell_type": "code",
   "execution_count": 5,
   "id": "1f976c1d",
   "metadata": {},
   "outputs": [
    {
     "name": "stdout",
     "output_type": "stream",
     "text": [
      "Enter the value of length 50\n",
      "Enter the value of breadth 40\n",
      "The total area is 1000.0\n"
     ]
    }
   ],
   "source": [
    "# function with argument and no return type\n",
    "def cal(l,b): #parameter\n",
    "    Area=2*l*b\n",
    "    print(\"The total area is\",Area)\n",
    "    \n",
    "    \n",
    "l=int(input(\"Enter the value of length \"))#globalvariable\n",
    "b=int(input(\"Enter the value of breadth \"))#globalvariable\n",
    "cal(l,b) ##argument"
   ]
  },
  {
   "cell_type": "code",
   "execution_count": 7,
   "id": "53cb8165",
   "metadata": {},
   "outputs": [
    {
     "name": "stdout",
     "output_type": "stream",
     "text": [
      "Enter the value of length 60\n",
      "Enter the value of breadth 49\n",
      "Enter the value of height30\n",
      "The total area is 2940 meter square\n",
      "The total volume is 88200 meter cube\n"
     ]
    }
   ],
   "source": [
    "# function with argument and no return type\n",
    "def area(x,y):\n",
    "    Area=x*y\n",
    "    print(\"The total area is\",Area,\"meter square\")\n",
    "    \n",
    "def volume(x,y,z):\n",
    "    Volume=x*y*z\n",
    "    print(\"The total volume is\",Volume,\"meter cube\")\n",
    "    \n",
    "l=int(input(\"Enter the value of length \"))#globalvariable\n",
    "b=int(input(\"Enter the value of breadth \"))#globalvariable\n",
    "h=int(input(\"Enter the value of height\"))#globalvariable\n",
    "\n",
    "area(l,b) #argument\n",
    "volume(l,b,h) #argument\n"
   ]
  },
  {
   "cell_type": "code",
   "execution_count": 8,
   "id": "2780b815",
   "metadata": {},
   "outputs": [
    {
     "name": "stdout",
     "output_type": "stream",
     "text": [
      "C\n",
      "C++\n",
      "Python\n",
      "Python\n"
     ]
    }
   ],
   "source": [
    "def language(lan=\"Python\"):\n",
    "    print(lan)\n",
    "    \n",
    "language(\"C\")\n",
    "language(\"C++\")\n",
    "language(\"Python\")\n",
    "language()\n"
   ]
  },
  {
   "cell_type": "code",
   "execution_count": 9,
   "id": "fec82064",
   "metadata": {},
   "outputs": [
    {
     "name": "stdout",
     "output_type": "stream",
     "text": [
      "Python\n"
     ]
    }
   ],
   "source": [
    "def language(lan=\"Python\"):\n",
    "    print(lan)\n",
    "language()"
   ]
  },
  {
   "cell_type": "code",
   "execution_count": 13,
   "id": "81e54a83",
   "metadata": {},
   "outputs": [
    {
     "name": "stdout",
     "output_type": "stream",
     "text": [
      "Ram 18\n",
      "90 18\n"
     ]
    }
   ],
   "source": [
    "def info(name=\"unknown\",age=18):\n",
    "    print(name,age)\n",
    "info(\"Ram\")\n",
    "info(90)"
   ]
  },
  {
   "cell_type": "code",
   "execution_count": 14,
   "id": "46d5b765",
   "metadata": {},
   "outputs": [
    {
     "data": {
      "text/plain": [
       "'Hello'"
      ]
     },
     "execution_count": 14,
     "metadata": {},
     "output_type": "execute_result"
    }
   ],
   "source": [
    "#return type function\n",
    "def hello():\n",
    "    return\"Hello\"\n",
    "hello()"
   ]
  },
  {
   "cell_type": "code",
   "execution_count": 15,
   "id": "b1456852",
   "metadata": {},
   "outputs": [
    {
     "name": "stdout",
     "output_type": "stream",
     "text": [
      "Hello\n"
     ]
    }
   ],
   "source": [
    "#return type function\n",
    "def hello():\n",
    "    return\"Hello\"\n",
    "x=hello()\n",
    "print(x)"
   ]
  },
  {
   "cell_type": "code",
   "execution_count": 3,
   "id": "fcd00b0c",
   "metadata": {},
   "outputs": [
    {
     "name": "stdout",
     "output_type": "stream",
     "text": [
      "Hello World\n"
     ]
    }
   ],
   "source": [
    "#return type function\n",
    "def hello():\n",
    "    return\"Hello\"\n",
    "x=hello()\n",
    "print(x+\" \"+\"World\")"
   ]
  },
  {
   "cell_type": "markdown",
   "id": "bef1b6ac",
   "metadata": {},
   "source": []
  },
  {
   "cell_type": "code",
   "execution_count": 2,
   "id": "ac51acdc",
   "metadata": {},
   "outputs": [
    {
     "name": "stdout",
     "output_type": "stream",
     "text": [
      "Enter Length30\n",
      "Enter breadth20\n",
      "Enter heigth20\n",
      "area= 600\n",
      "volume= 12000\n"
     ]
    }
   ],
   "source": [
    "#function with argument and return type\n",
    "def area(x,y): \n",
    "    a=x*y \n",
    "    return a #return type\n",
    "\n",
    "l=int(input(\"Enter Length\"))\n",
    "b=int(input(\"Enter breadth\"))\n",
    "h=int(input(\"Enter heigth\"))\n",
    "\n",
    "ar=area(l,b) #argument\n",
    "v=ar*h\n",
    "print(\"area=\",ar)\n",
    "print(\"volume=\",v)"
   ]
  },
  {
   "cell_type": "code",
   "execution_count": 1,
   "id": "1a0a33ef",
   "metadata": {},
   "outputs": [
    {
     "name": "stdout",
     "output_type": "stream",
     "text": [
      "Enter Length70\n",
      "Enter breadth70\n",
      "Enter heigth80\n",
      "area= 4900\n",
      "volume= 392000\n"
     ]
    }
   ],
   "source": [
    "#function with argument and return type\n",
    "def area(x,y): \n",
    "    a=x*y \n",
    "    return a #return type\n",
    "def volume(x,y,z):\n",
    "    ar=area(l,b) \n",
    "    print(\"area=\",ar)\n",
    "    v=ar*h\n",
    "    return v\n",
    "\n",
    "l=int(input(\"Enter Length\"))\n",
    "b=int(input(\"Enter breadth\"))\n",
    "h=int(input(\"Enter heigth\"))\n",
    "\n",
    "#ar=area(l,b)\n",
    "vo=volume(l,b,h)\n",
    "#print(\"area=\",ar)\n",
    "print(\"volume=\",vo)"
   ]
  },
  {
   "cell_type": "code",
   "execution_count": 3,
   "id": "b9916a22",
   "metadata": {},
   "outputs": [
    {
     "name": "stdout",
     "output_type": "stream",
     "text": [
      "Enter length40\n",
      "Enter breadth30\n",
      "Enter heigth20\n",
      "(1200, 24000)\n"
     ]
    }
   ],
   "source": [
    "#function with argument and return type\n",
    "def cal(x,y,z):\n",
    "    a=x*y\n",
    "    v=a*z\n",
    "    return a,v\n",
    "l=int(input(\"Enter length\"))\n",
    "b=int(input(\"Enter breadth\"))\n",
    "h=int(input(\"Enter heigth\"))\n",
    "\n",
    "av=cal(l,b,h)\n",
    "print(av)"
   ]
  },
  {
   "cell_type": "code",
   "execution_count": 4,
   "id": "6ab1c333",
   "metadata": {},
   "outputs": [
    {
     "name": "stdout",
     "output_type": "stream",
     "text": [
      "1200 24000\n"
     ]
    }
   ],
   "source": [
    "area,volume=av\n",
    "print(area,volume)"
   ]
  },
  {
   "cell_type": "code",
   "execution_count": null,
   "id": "d35501cf",
   "metadata": {},
   "outputs": [],
   "source": [
    "#recursive function\n",
    "def hello():\n",
    "    print(\"Hello\")\n",
    "    hello()\n",
    "\n",
    "hello()"
   ]
  },
  {
   "cell_type": "code",
   "execution_count": null,
   "id": "bca111c7",
   "metadata": {},
   "outputs": [
    {
     "name": "stdout",
     "output_type": "stream",
     "text": [
      "Enter principle 6000\n",
      "Enter time 3\n",
      "Enter rate 13\n",
      "2340.0\n",
      "Press enter for more calculations\n",
      "Enter principle 7000\n",
      "Enter time 4\n",
      "Enter rate 10\n",
      "2800.0\n"
     ]
    }
   ],
   "source": [
    "def cal():\n",
    "    p=int(input(\"Enter principle \"))\n",
    "    t=float(input(\"Enter time \"))\n",
    "    r=float(input(\"Enter rate \"))\n",
    "    i=p*t*r/100\n",
    "    \n",
    "    print(i)\n",
    "    x= input(\"Press enter for more calculations\")\n",
    "    if x== \"\":\n",
    "        cal()\n",
    "cal()"
   ]
  },
  {
   "cell_type": "code",
   "execution_count": null,
   "id": "ad417bf6",
   "metadata": {},
   "outputs": [],
   "source": [
    "n=int(input(\"Enter number\"))\n",
    "k=n\n",
    "t=0\n",
    "for i in range(n):\n",
    "    d=n%10\n",
    "    t=t*10+d\n",
    "    n=n//10\n",
    "    \n",
    "if t==n:\n",
    "    print(\"Palindrome\")\n",
    "else:\n",
    "    print(\"Not Palindrome\")"
   ]
  },
  {
   "cell_type": "code",
   "execution_count": null,
   "id": "e5dc30b6",
   "metadata": {},
   "outputs": [],
   "source": []
  }
 ],
 "metadata": {
  "kernelspec": {
   "display_name": "Python 3 (ipykernel)",
   "language": "python",
   "name": "python3"
  },
  "language_info": {
   "codemirror_mode": {
    "name": "ipython",
    "version": 3
   },
   "file_extension": ".py",
   "mimetype": "text/x-python",
   "name": "python",
   "nbconvert_exporter": "python",
   "pygments_lexer": "ipython3",
   "version": "3.9.13"
  }
 },
 "nbformat": 4,
 "nbformat_minor": 5
}
