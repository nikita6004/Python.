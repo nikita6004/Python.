{
 "cells": [
  {
   "cell_type": "code",
   "execution_count": 1,
   "id": "46c04f43",
   "metadata": {},
   "outputs": [],
   "source": [
    "# while \n",
    "# control statement\n",
    "#break\n",
    "#continue"
   ]
  },
  {
   "cell_type": "code",
   "execution_count": 12,
   "id": "299de78c",
   "metadata": {},
   "outputs": [
    {
     "name": "stdout",
     "output_type": "stream",
     "text": [
      "0 1 2 3 4 5 "
     ]
    }
   ],
   "source": [
    "for i in range(10):\n",
    "    if i==6:\n",
    "        break\n",
    "    print(i, end=\" \")"
   ]
  },
  {
   "cell_type": "code",
   "execution_count": 13,
   "id": "dec5ae2f",
   "metadata": {},
   "outputs": [
    {
     "name": "stdout",
     "output_type": "stream",
     "text": [
      "0 1 2 3 4 5 7 8 9 "
     ]
    }
   ],
   "source": [
    "for i in range(10):\n",
    "    if i==6:\n",
    "        continue\n",
    "    print(i,end=\" \")"
   ]
  },
  {
   "cell_type": "code",
   "execution_count": 11,
   "id": "707517a1",
   "metadata": {},
   "outputs": [
    {
     "name": "stdout",
     "output_type": "stream",
     "text": [
      "3\n",
      "6\n",
      "9\n",
      "12\n",
      "15\n",
      "18\n",
      "21\n",
      "24\n",
      "27\n",
      "30\n"
     ]
    }
   ],
   "source": [
    "for i in range(1,31):\n",
    "    if i%3!=0:\n",
    "        continue\n",
    "    print(i)"
   ]
  },
  {
   "cell_type": "code",
   "execution_count": 20,
   "id": "c0dc2514",
   "metadata": {},
   "outputs": [
    {
     "name": "stdout",
     "output_type": "stream",
     "text": [
      "H\n",
      "e\n",
      "l\n",
      "l\n",
      "o\n"
     ]
    }
   ],
   "source": [
    "a= \"Hello Python\"\n",
    "for i in a:\n",
    "    if i==\" \":\n",
    "        break\n",
    "    print(i)"
   ]
  },
  {
   "cell_type": "code",
   "execution_count": 21,
   "id": "f959ea55",
   "metadata": {},
   "outputs": [
    {
     "name": "stdout",
     "output_type": "stream",
     "text": [
      "HelloPython"
     ]
    }
   ],
   "source": [
    "a=\"Hello Python\"\n",
    "for i in a:\n",
    "    if i== \" \" :\n",
    "        continue\n",
    "    print(i,end=\"\")"
   ]
  },
  {
   "cell_type": "code",
   "execution_count": null,
   "id": "0225edd2",
   "metadata": {},
   "outputs": [],
   "source": [
    "# while loop\n",
    "# while <condition>:\n",
    "#     <operation>"
   ]
  },
  {
   "cell_type": "code",
   "execution_count": 1,
   "id": "9d386190",
   "metadata": {},
   "outputs": [
    {
     "name": "stdout",
     "output_type": "stream",
     "text": [
      "Hello World\n",
      "Hello World\n",
      "Hello World\n",
      "Hello World\n",
      "Hello World\n"
     ]
    }
   ],
   "source": [
    "a=0\n",
    "while a<5:\n",
    "    print(\"Hello World\")\n",
    "    a=a+1"
   ]
  },
  {
   "cell_type": "code",
   "execution_count": 2,
   "id": "3bc668e2",
   "metadata": {},
   "outputs": [
    {
     "name": "stdout",
     "output_type": "stream",
     "text": [
      "0 Hello World\n",
      "1 Hello World\n",
      "2 Hello World\n",
      "3 Hello World\n",
      "4 Hello World\n"
     ]
    }
   ],
   "source": [
    "a=0\n",
    "while a<5:\n",
    "    print(a,\"Hello World\")\n",
    "    a=a+1"
   ]
  },
  {
   "cell_type": "code",
   "execution_count": 3,
   "id": "ca6d1900",
   "metadata": {},
   "outputs": [
    {
     "name": "stdout",
     "output_type": "stream",
     "text": [
      "5 Hello World\n",
      "4 Hello World\n",
      "3 Hello World\n",
      "2 Hello World\n",
      "1 Hello World\n"
     ]
    }
   ],
   "source": [
    "a=5\n",
    "while a>0:\n",
    "    print(a,\"Hello World\")\n",
    "    a=a-1"
   ]
  },
  {
   "cell_type": "code",
   "execution_count": 6,
   "id": "d1834604",
   "metadata": {},
   "outputs": [
    {
     "name": "stdout",
     "output_type": "stream",
     "text": [
      "Enter n= 4\n",
      "4 X 1 = 4\n",
      "4 X 2 = 8\n",
      "4 X 3 = 12\n",
      "4 X 4 = 16\n",
      "4 X 5 = 20\n",
      "4 X 6 = 24\n",
      "4 X 7 = 28\n",
      "4 X 8 = 32\n",
      "4 X 9 = 36\n",
      "4 X 10 = 40\n"
     ]
    }
   ],
   "source": [
    "i=1\n",
    "n=int(input(\"Enter n= \"))\n",
    "while i<=10:\n",
    "    print(n,\"X\",i,\"=\",n*i)\n",
    "    i=i+1"
   ]
  },
  {
   "cell_type": "code",
   "execution_count": 8,
   "id": "e2378256",
   "metadata": {},
   "outputs": [
    {
     "name": "stdout",
     "output_type": "stream",
     "text": [
      "Enter n = 4\n",
      "Enter Value= 7\n",
      "Enter Value= 6\n",
      "Enter Value= 5\n",
      "Enter Value= 4\n",
      "Total value is 22\n"
     ]
    }
   ],
   "source": [
    "i=0\n",
    "s=0\n",
    "n=int(input(\"Enter n = \"))\n",
    "while i<n:\n",
    "    x=int(input(\"Enter Value= \"))\n",
    "    s=s+x\n",
    "    i=i+1\n",
    "print(\"Total value is\",s)\n"
   ]
  },
  {
   "cell_type": "code",
   "execution_count": 2,
   "id": "f7efd55d",
   "metadata": {},
   "outputs": [
    {
     "name": "stdout",
     "output_type": "stream",
     "text": [
      "Enter n = 3\n",
      "Enter name Nikita\n",
      "Enter phone number \n",
      "Enter name Uprety\n",
      "Enter phone number 9860826004\n",
      "Enter name khatiwada\n",
      "Enter phone number 9860826004\n",
      "Nikita \n",
      "Uprety 9860826004\n",
      "khatiwada 9860826004\n",
      "\n"
     ]
    }
   ],
   "source": [
    "i=0\n",
    "s=\"\"\n",
    "n=int(input(\"Enter n = \"))\n",
    "while i<n:\n",
    "    name=(input(\"Enter name \"))\n",
    "    phone=(input(\"Enter phone number \"))\n",
    "    s=s+name+\" \"+phone+\"\\n\"\n",
    "    i=i+1\n",
    "print(s)"
   ]
  },
  {
   "cell_type": "code",
   "execution_count": 1,
   "id": "f490946f",
   "metadata": {},
   "outputs": [
    {
     "name": "stdout",
     "output_type": "stream",
     "text": [
      "Enter number 7\n",
      "5040\n"
     ]
    }
   ],
   "source": [
    "i=1\n",
    "s=1\n",
    "n=int(input(\"Enter number \"))\n",
    "while i<=n:\n",
    "    s=s*i\n",
    "    i=i+1\n",
    "print(s)"
   ]
  },
  {
   "cell_type": "code",
   "execution_count": 3,
   "id": "fca41e1f",
   "metadata": {},
   "outputs": [
    {
     "name": "stdout",
     "output_type": "stream",
     "text": [
      "0 1 2 3 4 5 "
     ]
    }
   ],
   "source": [
    "#break\n",
    "i=0\n",
    "while i<10:\n",
    "    if i==6:\n",
    "        break\n",
    "        \n",
    "    print(i,end=\" \")\n",
    "    i=i+1"
   ]
  },
  {
   "cell_type": "code",
   "execution_count": 1,
   "id": "e1491536",
   "metadata": {},
   "outputs": [
    {
     "name": "stdout",
     "output_type": "stream",
     "text": [
      "0 1 2 3 4 5 7 8 9 "
     ]
    }
   ],
   "source": [
    "#continue\n",
    "i=0\n",
    "while i<10:\n",
    "    if i==6:\n",
    "        i=i+1\n",
    "        continue\n",
    "        \n",
    "    print(i,end=\" \")\n",
    "    i=i+1"
   ]
  },
  {
   "cell_type": "code",
   "execution_count": 9,
   "id": "b839c560",
   "metadata": {},
   "outputs": [
    {
     "name": "stdout",
     "output_type": "stream",
     "text": [
      "Enter n 6\n",
      "6 is composite number\n"
     ]
    }
   ],
   "source": [
    "n = int(input(\"Enter n \"))\n",
    "if n>=2:\n",
    "    for i in range (2,n):\n",
    "        if n%i==0:\n",
    "            print(n,\"is composite number\")\n",
    "            break\n",
    "        \n",
    "    else:\n",
    "        print(n,\"is prime number\")"
   ]
  },
  {
   "cell_type": "code",
   "execution_count": null,
   "id": "e1f853dd",
   "metadata": {},
   "outputs": [],
   "source": []
  }
 ],
 "metadata": {
  "kernelspec": {
   "display_name": "Python 3 (ipykernel)",
   "language": "python",
   "name": "python3"
  },
  "language_info": {
   "codemirror_mode": {
    "name": "ipython",
    "version": 3
   },
   "file_extension": ".py",
   "mimetype": "text/x-python",
   "name": "python",
   "nbconvert_exporter": "python",
   "pygments_lexer": "ipython3",
   "version": "3.9.13"
  }
 },
 "nbformat": 4,
 "nbformat_minor": 5
}
