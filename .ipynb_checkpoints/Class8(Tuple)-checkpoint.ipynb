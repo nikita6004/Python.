{
 "cells": [
  {
   "cell_type": "code",
   "execution_count": 24,
   "id": "4ba7d439",
   "metadata": {},
   "outputs": [],
   "source": [
    "#tuple\n",
    "#indexing\n",
    "#ordered\n",
    "#multiple and duplicate value\n",
    "#Immutable\n"
   ]
  },
  {
   "cell_type": "code",
   "execution_count": null,
   "id": "19a30871",
   "metadata": {},
   "outputs": [],
   "source": [
    "#a=(a,b,c...)"
   ]
  },
  {
   "cell_type": "code",
   "execution_count": 3,
   "id": "f9fb6cef",
   "metadata": {},
   "outputs": [
    {
     "name": "stdout",
     "output_type": "stream",
     "text": [
      "<class 'tuple'>\n",
      "<class 'tuple'>\n"
     ]
    }
   ],
   "source": [
    "a=(\"Apple\",\"Ball\",\"Cat\",\"Dog\")\n",
    "b=(1,2,3,4,5,6,7,8,9,0)\n",
    "print(type(a))\n",
    "print(type(b))"
   ]
  },
  {
   "cell_type": "code",
   "execution_count": 4,
   "id": "0f56cc74",
   "metadata": {},
   "outputs": [
    {
     "name": "stdout",
     "output_type": "stream",
     "text": [
      "<class 'str'>\n"
     ]
    }
   ],
   "source": [
    "a=(\"Apple\")\n",
    "print(type(a))"
   ]
  },
  {
   "cell_type": "code",
   "execution_count": 5,
   "id": "a38fcbcb",
   "metadata": {},
   "outputs": [
    {
     "name": "stdout",
     "output_type": "stream",
     "text": [
      "<class 'tuple'>\n"
     ]
    }
   ],
   "source": [
    "a=(\"Apple\",)\n",
    "print(type(a))"
   ]
  },
  {
   "cell_type": "code",
   "execution_count": null,
   "id": "c4e13d22",
   "metadata": {},
   "outputs": [],
   "source": [
    "#no append() insert() extend()\n",
    "#no update\n",
    "#no del remove() pop()"
   ]
  },
  {
   "cell_type": "code",
   "execution_count": 9,
   "id": "47e2efec",
   "metadata": {},
   "outputs": [
    {
     "data": {
      "text/plain": [
       "('Apple', 'Ball')"
      ]
     },
     "execution_count": 9,
     "metadata": {},
     "output_type": "execute_result"
    }
   ],
   "source": [
    "a=()\n",
    "b=(\"Apple\",)\n",
    "d=(\"Ball\",)\n",
    "c=a+b+d\n",
    "c"
   ]
  },
  {
   "cell_type": "code",
   "execution_count": 10,
   "id": "e99ce8d1",
   "metadata": {},
   "outputs": [
    {
     "name": "stdout",
     "output_type": "stream",
     "text": [
      "Enter n 2\n",
      "Enter x1\n",
      "Enter x2\n",
      "(1, 2)\n"
     ]
    }
   ],
   "source": [
    "n=int(input(\"Enter n \"))\n",
    "l=()\n",
    "for i in range(n):\n",
    "    x=int(input(\"Enter x\"))\n",
    "    l=l+(x,)\n",
    "print(l)"
   ]
  },
  {
   "cell_type": "code",
   "execution_count": 17,
   "id": "882eefde",
   "metadata": {},
   "outputs": [
    {
     "name": "stdout",
     "output_type": "stream",
     "text": [
      "(123, 45, 63, 22, 34, 78, 87, 654)\n",
      "[123, 45, 63, 22, 34, 78, 87, 654]\n"
     ]
    }
   ],
   "source": [
    "a=123,45,63,22,34,78,87,654\n",
    "b=list(a)\n",
    "print(a)\n",
    "print(b)"
   ]
  },
  {
   "cell_type": "code",
   "execution_count": 22,
   "id": "9884ab10",
   "metadata": {},
   "outputs": [
    {
     "name": "stdout",
     "output_type": "stream",
     "text": [
      "[45, 63, 22, 34, 78, 87, 654]\n"
     ]
    }
   ],
   "source": [
    "a=(123,45,63,22,34,78,87,654)\n",
    "b= list(a)\n",
    "del b[0]\n",
    "print(b)"
   ]
  },
  {
   "cell_type": "code",
   "execution_count": 23,
   "id": "d94b5c9b",
   "metadata": {},
   "outputs": [
    {
     "data": {
      "text/plain": [
       "(45, 63, 22, 34, 78, 87, 654)"
      ]
     },
     "execution_count": 23,
     "metadata": {},
     "output_type": "execute_result"
    }
   ],
   "source": [
    "a= tuple(b)\n",
    "a"
   ]
  },
  {
   "cell_type": "code",
   "execution_count": null,
   "id": "47dce096",
   "metadata": {},
   "outputs": [],
   "source": []
  }
 ],
 "metadata": {
  "kernelspec": {
   "display_name": "Python 3 (ipykernel)",
   "language": "python",
   "name": "python3"
  },
  "language_info": {
   "codemirror_mode": {
    "name": "ipython",
    "version": 3
   },
   "file_extension": ".py",
   "mimetype": "text/x-python",
   "name": "python",
   "nbconvert_exporter": "python",
   "pygments_lexer": "ipython3",
   "version": "3.9.13"
  }
 },
 "nbformat": 4,
 "nbformat_minor": 5
}
