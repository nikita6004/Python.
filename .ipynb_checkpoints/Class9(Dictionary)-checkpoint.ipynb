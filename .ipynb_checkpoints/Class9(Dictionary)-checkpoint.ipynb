{
 "cells": [
  {
   "cell_type": "code",
   "execution_count": null,
   "id": "c4d8cd25",
   "metadata": {},
   "outputs": [],
   "source": [
    "#Dictionary\n",
    "#Indexed\n",
    "#Multiple and duplicate value\n",
    "#Ordered\n",
    "#Mutable"
   ]
  },
  {
   "cell_type": "code",
   "execution_count": 1,
   "id": "ef2cb247",
   "metadata": {},
   "outputs": [
    {
     "name": "stdout",
     "output_type": "stream",
     "text": [
      "{'a': 'Apple', 'b': 'Ball', 'c': 'Cat'}\n",
      "<class 'dict'>\n"
     ]
    }
   ],
   "source": [
    "#d={<key>:<value>,<key>:value>,...}\n",
    "d={'a':'Apple','b':'Ball','c':'Cat'}\n",
    "print(d)\n",
    "print(type(d))"
   ]
  },
  {
   "cell_type": "code",
   "execution_count": 2,
   "id": "a03de56f",
   "metadata": {},
   "outputs": [
    {
     "name": "stdout",
     "output_type": "stream",
     "text": [
      "Ram\n",
      "10\n",
      "Nepal\n"
     ]
    }
   ],
   "source": [
    "info={'name':'Ram', 'age':10, 'add':'Nepal'}\n",
    "print(info['name'])\n",
    "print(info['age'])\n",
    "print(info['add'])"
   ]
  },
  {
   "cell_type": "code",
   "execution_count": 3,
   "id": "7e200193",
   "metadata": {},
   "outputs": [
    {
     "name": "stdout",
     "output_type": "stream",
     "text": [
      "{'a': 'Apple', 'b': 'Ball', 'c': 'Cat'}\n"
     ]
    }
   ],
   "source": [
    "#d=dict()\n",
    "d={}\n",
    "d['a']='Apple'\n",
    "d['b']='Ball'\n",
    "d['c']='Cat'\n",
    "print(d)"
   ]
  },
  {
   "cell_type": "code",
   "execution_count": 4,
   "id": "5de05acf",
   "metadata": {},
   "outputs": [
    {
     "name": "stdout",
     "output_type": "stream",
     "text": [
      "Enter n 3\n",
      "Enter name Nikita\n",
      "Enter phone 9860826004\n",
      "Enter name Avinandan\n",
      "Enter phone 878787\n",
      "Enter name Poppy\n",
      "Enter phone 98989899\n",
      "{'Nikita': 9860826004, 'Avinandan': 878787, 'Poppy': 98989899}\n"
     ]
    }
   ],
   "source": [
    "info={}\n",
    "n = int(input(\"Enter n \"))\n",
    "for i in range(n):\n",
    "    name= input(\"Enter name \")\n",
    "    phone= int(input(\"Enter phone \"))\n",
    "    info[name]= phone\n",
    "print(info)"
   ]
  },
  {
   "cell_type": "code",
   "execution_count": 6,
   "id": "15ca3020",
   "metadata": {},
   "outputs": [
    {
     "name": "stdout",
     "output_type": "stream",
     "text": [
      "Ram\n",
      "Shyam\n"
     ]
    }
   ],
   "source": [
    "a={'Ram':9860826004, 'Shyam':980666787}\n",
    "for i in a:\n",
    "    print(i)"
   ]
  },
  {
   "cell_type": "code",
   "execution_count": 8,
   "id": "b899973b",
   "metadata": {},
   "outputs": [
    {
     "name": "stdout",
     "output_type": "stream",
     "text": [
      "9860826004\n",
      "980666787\n"
     ]
    }
   ],
   "source": [
    "a={'Ram':9860826004, 'Shyam':980666787}\n",
    "for i in a.values():\n",
    "    print(i)"
   ]
  },
  {
   "cell_type": "code",
   "execution_count": 9,
   "id": "09ba0ffc",
   "metadata": {},
   "outputs": [
    {
     "name": "stdout",
     "output_type": "stream",
     "text": [
      "('Ram', 9860826004)\n",
      "('Shyam', 980666787)\n"
     ]
    }
   ],
   "source": [
    "a={'Ram':9860826004, 'Shyam':980666787}\n",
    "for i in a.items():\n",
    "    print(i)"
   ]
  },
  {
   "cell_type": "code",
   "execution_count": 10,
   "id": "4da3bcd9",
   "metadata": {},
   "outputs": [
    {
     "name": "stdout",
     "output_type": "stream",
     "text": [
      "[('Ram', 9860826004), ('Shyam', 980666787)]\n"
     ]
    }
   ],
   "source": [
    "#tupples inside lists\n",
    "l=[]\n",
    "a={'Ram':9860826004, 'Shyam':980666787}\n",
    "for i in a.items():\n",
    "    l.append(i)\n",
    "print(l)"
   ]
  },
  {
   "cell_type": "code",
   "execution_count": 11,
   "id": "b6745ec9",
   "metadata": {},
   "outputs": [
    {
     "data": {
      "text/plain": [
       "{'Ram': 9860826004, 'Shyam': 980666787}"
      ]
     },
     "execution_count": 11,
     "metadata": {},
     "output_type": "execute_result"
    }
   ],
   "source": [
    "dict (l)"
   ]
  },
  {
   "cell_type": "code",
   "execution_count": 13,
   "id": "da2c037f",
   "metadata": {},
   "outputs": [
    {
     "data": {
      "text/plain": [
       "{'Ram': 9860826004, 'Shyam': 980666787, 'Hari': 986782653}"
      ]
     },
     "execution_count": 13,
     "metadata": {},
     "output_type": "execute_result"
    }
   ],
   "source": [
    "d={'Ram':9860826004, 'Shyam':980666787}\n",
    "a={'Hari':986782653}\n",
    "d.update(a)\n",
    "d"
   ]
  },
  {
   "cell_type": "code",
   "execution_count": 14,
   "id": "e95a16a1",
   "metadata": {},
   "outputs": [
    {
     "data": {
      "text/plain": [
       "{'Ram': 980800900, 'Shyam': 980666787}"
      ]
     },
     "execution_count": 14,
     "metadata": {},
     "output_type": "execute_result"
    }
   ],
   "source": [
    "a={'Ram':9860826004, 'Shyam':980666787}\n",
    "a['Ram']= 980800900\n",
    "a"
   ]
  },
  {
   "cell_type": "code",
   "execution_count": 15,
   "id": "4edf1705",
   "metadata": {},
   "outputs": [
    {
     "data": {
      "text/plain": [
       "{'Ram': [9860826004, 98088772836], 'Shyam': [9806667874, 9827536373]}"
      ]
     },
     "execution_count": 15,
     "metadata": {},
     "output_type": "execute_result"
    }
   ],
   "source": [
    "#list inside dictionary\n",
    "a={'Ram':[9860826004,98088772836], 'Shyam':[9806667874,9827536373]}\n",
    "a"
   ]
  },
  {
   "cell_type": "code",
   "execution_count": 16,
   "id": "d8713e76",
   "metadata": {},
   "outputs": [
    {
     "name": "stdout",
     "output_type": "stream",
     "text": [
      "Enter the value of n 4\n",
      "Enter name Nikita\n",
      "Enter age 25\n",
      "Enter ntc number 9860829004\n",
      "Enter ncell number 8792836647\n",
      "Enter name Avi\n",
      "Enter age 27\n",
      "Enter ntc number 7387383\n",
      "Enter ncell number 376476487\n",
      "Enter name poppy\n",
      "Enter age 65\n",
      "Enter ntc number 7265633\n",
      "Enter ncell number 87350\n",
      "Enter name Niko\n",
      "Enter age 34\n",
      "Enter ntc number 76437637\n",
      "Enter ncell number 288375\n",
      "{'Nikita': [25, 9860829004, 8792836647], 'Avi': [27, 7387383, 376476487], 'poppy': [65, 7265633, 87350], 'Niko': [34, 76437637, 288375]}\n"
     ]
    }
   ],
   "source": [
    "info={}\n",
    "n=int(input(\"Enter the value of n \"))\n",
    "for i in range(n):\n",
    "    name = input (\"Enter name \")\n",
    "    age= int(input(\"Enter age \"))\n",
    "    ntc= int(input(\"Enter ntc number \"))\n",
    "    ncell= int(input(\"Enter ncell number \"))\n",
    "    info[name]=[age,ntc,ncell]\n",
    "print(info)"
   ]
  },
  {
   "cell_type": "code",
   "execution_count": 2,
   "id": "c327d544",
   "metadata": {},
   "outputs": [
    {
     "name": "stdout",
     "output_type": "stream",
     "text": [
      "Enter the value of n 2\n",
      "Enter name Nikita\n",
      "Enter age 26\n",
      "Enter address Bra\n",
      "Enter name Niki\n",
      "Enter age 77\n",
      "Enter address Bara\n",
      "{'Name': ['Nikita', 'Niki'], 'Age': [26, 77], 'Add': ['Bra', 'Bara']}\n"
     ]
    }
   ],
   "source": [
    "# data = {'Name':['Ram','Shyam','Hari'],\n",
    "#        'Age':[45,32,45],\n",
    "#        'Add':['Kathmandu','Bhaktapur','Lalitpur']}\n",
    "\n",
    "info={'Name':[],'Age':[], 'Add':[]}\n",
    "n=int(input(\"Enter the value of n \"))\n",
    "for i in range(n):\n",
    "    name= input(\"Enter name \")\n",
    "    age= int(input(\"Enter age \"))\n",
    "    add= input(\"Enter address \")\n",
    "    info['Name'].append(name)\n",
    "    info['Age'].append(age) \n",
    "    info['Add'].append(add)\n",
    "print(info)"
   ]
  },
  {
   "cell_type": "code",
   "execution_count": 18,
   "id": "68f7c20f",
   "metadata": {},
   "outputs": [
    {
     "data": {
      "text/plain": [
       "{'Name': ['Ram', 'Shyam', 'Hari'],\n",
       " 'Age': [36, 65, 54],\n",
       " 'Add': ['Kathmandu', 'Bhaktapur', 'Bara']}"
      ]
     },
     "execution_count": 18,
     "metadata": {},
     "output_type": "execute_result"
    }
   ],
   "source": [
    "a= {'Name': ['Ram', 'Shyam'], \n",
    " 'Age': [36, 65], \n",
    " 'Add': ['Kathmandu', 'Bhaktapur']}\n",
    "a['Name'].append('Hari')\n",
    "a['Age'].append(54)\n",
    "a['Add'].append('Bara')\n",
    "a\n"
   ]
  },
  {
   "cell_type": "code",
   "execution_count": 20,
   "id": "37dd06cd",
   "metadata": {},
   "outputs": [
    {
     "data": {
      "text/plain": [
       "{'Name': ['Ram', 'Shyam'], 'Age': [36, 65]}"
      ]
     },
     "execution_count": 20,
     "metadata": {},
     "output_type": "execute_result"
    }
   ],
   "source": [
    "#del pop()\n",
    "d=  {'Name': ['Ram', 'Shyam'], \n",
    "     'Age': [36, 65], \n",
    "     'Add': ['Kathmandu', 'Bhaktapur']}\n",
    "del d['Add']\n",
    "d"
   ]
  },
  {
   "cell_type": "code",
   "execution_count": 22,
   "id": "9d41d189",
   "metadata": {},
   "outputs": [
    {
     "data": {
      "text/plain": [
       "{'Name': ['Shyam'], 'Age': [65], 'Add': ['Bhaktapur']}"
      ]
     },
     "execution_count": 22,
     "metadata": {},
     "output_type": "execute_result"
    }
   ],
   "source": [
    "a=  {'Name': ['Ram', 'Shyam'], \n",
    "     'Age': [36, 65], \n",
    "     'Add': ['Kathmandu', 'Bhaktapur']}\n",
    "del a['Name'][0]\n",
    "del a['Age'][0]\n",
    "del a['Add'][0]\n",
    "a"
   ]
  },
  {
   "cell_type": "code",
   "execution_count": 23,
   "id": "d2e046e6",
   "metadata": {},
   "outputs": [
    {
     "data": {
      "text/plain": [
       "{'Name': ['Ram', 'Shyam'], 'Age': [36, 55], 'Add': ['Kathmandu', 'Bhaktapur']}"
      ]
     },
     "execution_count": 23,
     "metadata": {},
     "output_type": "execute_result"
    }
   ],
   "source": [
    "a=  {'Name': ['Ram', 'Shyam'], \n",
    "     'Age': [36, 65], \n",
    "     'Add': ['Kathmandu', 'Bhaktapur']}\n",
    "a['Age'][1]=55\n",
    "a"
   ]
  },
  {
   "cell_type": "code",
   "execution_count": 1,
   "id": "4aa945be",
   "metadata": {},
   "outputs": [
    {
     "data": {
      "text/plain": [
       "[{'name': 'Ram', 'age': 23, 'add': 'Kathmandu'},\n",
       " {'name': 'Shyam', 'age': 34, 'add': 'Kathmandu'},\n",
       " {'name': 'Hari', 'age': 21, 'add': 'Jhapa'}]"
      ]
     },
     "execution_count": 1,
     "metadata": {},
     "output_type": "execute_result"
    }
   ],
   "source": [
    "# dict inside list\n",
    "l = [{'name':'Ram','age':23,'add':'Kathmandu'},\n",
    "    {'name':'Shyam','age':34,'add':'Kathmandu'},\n",
    "    {'name':'Hari','age':21,'add':'Jhapa'}]\n",
    "l"
   ]
  },
  {
   "cell_type": "code",
   "execution_count": 3,
   "id": "8469be04",
   "metadata": {},
   "outputs": [
    {
     "name": "stdout",
     "output_type": "stream",
     "text": [
      "Enter the value of n2\n",
      "Enter name Nikita\n",
      "Enter age 34\n",
      "Enter address Bara\n",
      "Enter name Niki\n",
      "Enter age 67\n",
      "Enter address Bhaktapur\n",
      "[{'name': 'Nikita', 'age': 34, 'add': 'Bara'}, {'name': 'Niki', 'age': 67, 'add': 'Bhaktapur'}]\n"
     ]
    }
   ],
   "source": [
    "data=[]\n",
    "n=int(input(\"Enter the value of n\"))\n",
    "for i in range(n):\n",
    "    name= input(\"Enter name \")\n",
    "    age= int(input(\"Enter age \"))\n",
    "    add= input(\"Enter address \")\n",
    "    info = {'name': name, 'age':age, 'add':add}\n",
    "    data.append(info)\n",
    "print(data)"
   ]
  },
  {
   "cell_type": "code",
   "execution_count": 4,
   "id": "710d2aa2",
   "metadata": {},
   "outputs": [
    {
     "data": {
      "text/plain": [
       "[{'name': 'Rama', 'age': 34, 'add': 'Bara'},\n",
       " {'name': 'Niki', 'age': 67, 'add': 'Bhaktapur'}]"
      ]
     },
     "execution_count": 4,
     "metadata": {},
     "output_type": "execute_result"
    }
   ],
   "source": [
    "data[0]['name']='Rama'\n",
    "data"
   ]
  },
  {
   "cell_type": "code",
   "execution_count": null,
   "id": "05282d98",
   "metadata": {},
   "outputs": [],
   "source": [
    "# #dict inside dict\n",
    "# info = {1:{'name': 'Rama', 'age': 34, 'add': 'Bara'},\n",
    "#        2:{'name': 'Rama', 'age': 34, 'add': 'Bara}}\n",
    "\n"
   ]
  },
  {
   "cell_type": "code",
   "execution_count": 5,
   "id": "37b76f21",
   "metadata": {},
   "outputs": [
    {
     "name": "stdout",
     "output_type": "stream",
     "text": [
      "Enter the value of n2\n",
      "Enter name Niki\n",
      "Enter age 56\n",
      "Enter address Bara\n",
      "Enter name Poppy\n",
      "Enter age 66\n",
      "Enter address Kathmandu\n",
      "{1: {'name': 'Niki', 'age': 56, 'add': 'Bara'}, 2: {'name': 'Poppy', 'age': 66, 'add': 'Kathmandu'}}\n"
     ]
    }
   ],
   "source": [
    "data={}\n",
    "n=int(input(\"Enter the value of n\"))\n",
    "for i in range(1,n+1):\n",
    "    name= input(\"Enter name \")\n",
    "    age= int(input(\"Enter age \"))\n",
    "    add= input(\"Enter address \")\n",
    "    info = {'name': name, 'age':age, 'add':add}\n",
    "    data[i]=info\n",
    "print(data)"
   ]
  },
  {
   "cell_type": "code",
   "execution_count": 6,
   "id": "92d7d9e8",
   "metadata": {},
   "outputs": [
    {
     "data": {
      "text/plain": [
       "{1: {'name': 'Niki', 'age': 56, 'add': 'Bara'},\n",
       " 2: {'name': 'Poppy', 'age': 66, 'add': 'Kathmandu'},\n",
       " 3: {'name': 'Nabin', 'age': 78, 'add': 'Chitwan'}}"
      ]
     },
     "execution_count": 6,
     "metadata": {},
     "output_type": "execute_result"
    }
   ],
   "source": [
    "data[3]={'name': 'Nabin', 'age': 78, 'add': 'Chitwan'}\n",
    "data"
   ]
  },
  {
   "cell_type": "code",
   "execution_count": 7,
   "id": "e6ee7935",
   "metadata": {},
   "outputs": [
    {
     "data": {
      "text/plain": [
       "{1: {'name': 'Niki', 'age': 56, 'add': 'Bara'},\n",
       " 2: {'name': 'Poppy', 'age': 66, 'add': 'Kathmandu'},\n",
       " 3: {'name': 'Nabin', 'age': 99, 'add': 'Chitwan'}}"
      ]
     },
     "execution_count": 7,
     "metadata": {},
     "output_type": "execute_result"
    }
   ],
   "source": [
    "data[3]['age']=99\n",
    "data"
   ]
  },
  {
   "cell_type": "code",
   "execution_count": 8,
   "id": "f9983389",
   "metadata": {},
   "outputs": [
    {
     "data": {
      "text/plain": [
       "{1: {'name': 'Niki', 'age': 56, 'add': {'per': 'Jhapa', 'temp': 'Bara'}},\n",
       " 2: {'name': 'Poppy', 'age': 66, 'add': {'per': 'Bara', 'temp': 'Kathmandu'}},\n",
       " 3: {'name': 'Nabin', 'age': 99, 'add': {'per': 'Illam', 'temp': 'Bhaktapur'}}}"
      ]
     },
     "execution_count": 8,
     "metadata": {},
     "output_type": "execute_result"
    }
   ],
   "source": [
    "data1= {1: {'name': 'Niki', 'age': 56, 'add': {'per': 'Jhapa', 'temp':'Bara'}},\n",
    " 2: {'name': 'Poppy', 'age': 66, 'add': {'per': 'Bara', 'temp':'Kathmandu'}},\n",
    " 3: {'name': 'Nabin', 'age': 99, 'add': {'per': 'Illam', 'temp':'Bhaktapur'}}}\n",
    "\n",
    "data1"
   ]
  },
  {
   "cell_type": "code",
   "execution_count": 10,
   "id": "7af69a09",
   "metadata": {},
   "outputs": [
    {
     "data": {
      "text/plain": [
       "{'Ram': [67, 87], 'Shyam': [908, 756]}"
      ]
     },
     "execution_count": 10,
     "metadata": {},
     "output_type": "execute_result"
    }
   ],
   "source": [
    "d= {'Ram':[67,87],\n",
    "   'Shyam':[908,756]}\n",
    "d"
   ]
  },
  {
   "cell_type": "code",
   "execution_count": 12,
   "id": "0459f67f",
   "metadata": {},
   "outputs": [
    {
     "data": {
      "text/plain": [
       "{('Ram', 'Shyam'): 980877789, ('Hari', 'Sita'): 980986543}"
      ]
     },
     "execution_count": 12,
     "metadata": {},
     "output_type": "execute_result"
    }
   ],
   "source": [
    "d= {('Ram','Shyam'):980877789, ('Hari','Sita'):980986543}\n",
    "d"
   ]
  },
  {
   "cell_type": "code",
   "execution_count": 13,
   "id": "63fcb06c",
   "metadata": {},
   "outputs": [
    {
     "data": {
      "text/plain": [
       "980877789"
      ]
     },
     "execution_count": 13,
     "metadata": {},
     "output_type": "execute_result"
    }
   ],
   "source": [
    "d[('Ram','Shyam')]"
   ]
  },
  {
   "cell_type": "code",
   "execution_count": null,
   "id": "95638237",
   "metadata": {},
   "outputs": [],
   "source": []
  }
 ],
 "metadata": {
  "kernelspec": {
   "display_name": "Python 3 (ipykernel)",
   "language": "python",
   "name": "python3"
  },
  "language_info": {
   "codemirror_mode": {
    "name": "ipython",
    "version": 3
   },
   "file_extension": ".py",
   "mimetype": "text/x-python",
   "name": "python",
   "nbconvert_exporter": "python",
   "pygments_lexer": "ipython3",
   "version": "3.9.13"
  }
 },
 "nbformat": 4,
 "nbformat_minor": 5
}
