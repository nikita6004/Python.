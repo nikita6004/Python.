{
 "cells": [
  {
   "cell_type": "code",
   "execution_count": 2,
   "id": "d234696c",
   "metadata": {},
   "outputs": [
    {
     "name": "stdout",
     "output_type": "stream",
     "text": [
      "False\n"
     ]
    }
   ],
   "source": [
    "a=20\n",
    "b=20\n",
    "c=10\n",
    "print(a<b)"
   ]
  },
  {
   "cell_type": "code",
   "execution_count": 4,
   "id": "d6f07e30",
   "metadata": {},
   "outputs": [
    {
     "name": "stdout",
     "output_type": "stream",
     "text": [
      "False\n"
     ]
    }
   ],
   "source": [
    "#ascii value\n",
    "a=\"hello\"\n",
    "b=\"ball\"\n",
    "print(a<b)"
   ]
  },
  {
   "cell_type": "code",
   "execution_count": 3,
   "id": "b946dfbf",
   "metadata": {},
   "outputs": [
    {
     "name": "stdout",
     "output_type": "stream",
     "text": [
      "False\n"
     ]
    }
   ],
   "source": [
    "print(a>b)"
   ]
  },
  {
   "cell_type": "code",
   "execution_count": 2,
   "id": "2205e8da",
   "metadata": {},
   "outputs": [
    {
     "name": "stdout",
     "output_type": "stream",
     "text": [
      "True\n"
     ]
    }
   ],
   "source": [
    "print(a==b)"
   ]
  },
  {
   "cell_type": "code",
   "execution_count": 3,
   "id": "310ed7e8",
   "metadata": {},
   "outputs": [
    {
     "name": "stdout",
     "output_type": "stream",
     "text": [
      "True\n",
      "True\n"
     ]
    }
   ],
   "source": [
    "print(a>c)\n",
    "print(a!=c)"
   ]
  },
  {
   "cell_type": "code",
   "execution_count": 4,
   "id": "9a0ce97e",
   "metadata": {},
   "outputs": [
    {
     "name": "stdout",
     "output_type": "stream",
     "text": [
      "Enter a= 2\n",
      "2 is even\n"
     ]
    }
   ],
   "source": [
    "a=int(input(\"Enter a= \"))\n",
    "if a%2==0:\n",
    "    print(a,\"is even\")\n",
    "else:\n",
    "    print(a,\"is odd\")"
   ]
  },
  {
   "cell_type": "code",
   "execution_count": 5,
   "id": "87f41c26",
   "metadata": {},
   "outputs": [
    {
     "name": "stdout",
     "output_type": "stream",
     "text": [
      "Enter a= 10\n",
      "Enter b= 20\n",
      "20 is greater than 10\n"
     ]
    }
   ],
   "source": [
    "a=int(input(\"Enter a= \"))\n",
    "b=int(input(\"Enter b= \"))\n",
    "if a>b:\n",
    "    print(a,\"is greater than\",b)\n",
    "elif b>a:\n",
    "    print(b,\"is greater than\",a)\n",
    "else:\n",
    "    print(a,\"and\",b,\"are equal\")"
   ]
  },
  {
   "cell_type": "code",
   "execution_count": 6,
   "id": "464f1917",
   "metadata": {},
   "outputs": [
    {
     "name": "stdout",
     "output_type": "stream",
     "text": [
      "Enter marks of physics= 20\n",
      "Enter marks of chemistry= 80\n",
      "Enter marks of Mathematics= 90\n",
      "Enter marks of English= 70\n",
      "Enter marks of Nepali= 60\n",
      "Total =  320.0\n",
      "Pecentage =  64.0 %\n",
      "Grade =  B\n"
     ]
    }
   ],
   "source": [
    "Physics=float(input(\"Enter marks of physics= \"))\n",
    "Chemistry=float(input(\"Enter marks of chemistry= \"))\n",
    "Math=float(input(\"Enter marks of Mathematics= \"))\n",
    "English=float(input(\"Enter marks of English= \"))\n",
    "Nepali=float(input(\"Enter marks of Nepali= \"))\n",
    "\n",
    "Total=Physics+Chemistry+Math+English+Nepali\n",
    "Percentage=Total/5\n",
    "\n",
    "if Percentage>=80:\n",
    "    grade='A'\n",
    "elif Percentage>=60:\n",
    "    grade='B'\n",
    "elif Percentage>=45:\n",
    "    grade='C'\n",
    "else:\n",
    "    grade='F'\n",
    "    \n",
    "print(\"Total = \",Total)\n",
    "print(\"Pecentage = \",Percentage,\"%\")\n",
    "print(\"Grade = \",grade)"
   ]
  },
  {
   "cell_type": "code",
   "execution_count": 7,
   "id": "d56e28fc",
   "metadata": {},
   "outputs": [
    {
     "name": "stdout",
     "output_type": "stream",
     "text": [
      "Enter a= 8\n",
      "Enter b= 0\n",
      "Enter o= /\n",
      "The value of b should not be 0\n"
     ]
    }
   ],
   "source": [
    "a=int(input(\"Enter a= \"))\n",
    "b=int(input(\"Enter b= \"))\n",
    "o=input(\"Enter o= \")\n",
    "\n",
    "if o == '+':\n",
    "    print(a+b)\n",
    "elif o == '-':\n",
    "    print(a-b)\n",
    "elif o == '*':\n",
    "    print(a*b)\n",
    "elif o == '/' and b!=0:\n",
    "    print(a/b)\n",
    "elif o == '/' and b==0:\n",
    "    print(\"The value of b should not be 0\")\n",
    "else:\n",
    "    print(\"Enter valid operator\")"
   ]
  },
  {
   "cell_type": "code",
   "execution_count": 8,
   "id": "cf43ef34",
   "metadata": {},
   "outputs": [
    {
     "name": "stdout",
     "output_type": "stream",
     "text": [
      "Enter the value of a  10\n",
      "a is even and +ve\n"
     ]
    }
   ],
   "source": [
    "#nested if\n",
    "a=int(input(\"Enter the value of a  \"))\n",
    "if a>0:\n",
    "    if a%2 == 0:\n",
    "        print (\"a is even and +ve\")\n",
    "    else:\n",
    "        print(\"a is +ve but not even\")\n",
    "        \n",
    "else:\n",
    "    print(\"a is not +ve\")"
   ]
  },
  {
   "cell_type": "code",
   "execution_count": 9,
   "id": "b2261fbd",
   "metadata": {},
   "outputs": [
    {
     "name": "stdout",
     "output_type": "stream",
     "text": [
      "Enter a= 20\n",
      "Enter b= 0\n",
      "Enter o= /\n",
      "The value of b should not be 0\n"
     ]
    }
   ],
   "source": [
    "a=int(input(\"Enter a= \"))\n",
    "b=int(input(\"Enter b= \"))\n",
    "o=input(\"Enter o= \")\n",
    "\n",
    "if o == '+':\n",
    "    print(a+b)\n",
    "elif o == '-':\n",
    "    print(a-b)\n",
    "elif o == '*':\n",
    "    print(a*b)\n",
    "elif o == '/':\n",
    "    if b!= 0:\n",
    "        print(a/b)\n",
    "    else:\n",
    "        print(\"The value of b should not be 0\")\n",
    "else:\n",
    "    print(\"Enter valid operator\")"
   ]
  },
  {
   "cell_type": "code",
   "execution_count": null,
   "id": "413f98e2",
   "metadata": {},
   "outputs": [],
   "source": []
  }
 ],
 "metadata": {
  "kernelspec": {
   "display_name": "Python 3 (ipykernel)",
   "language": "python",
   "name": "python3"
  },
  "language_info": {
   "codemirror_mode": {
    "name": "ipython",
    "version": 3
   },
   "file_extension": ".py",
   "mimetype": "text/x-python",
   "name": "python",
   "nbconvert_exporter": "python",
   "pygments_lexer": "ipython3",
   "version": "3.9.13"
  }
 },
 "nbformat": 4,
 "nbformat_minor": 5
}
