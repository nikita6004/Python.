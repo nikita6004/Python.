{
 "cells": [
  {
   "cell_type": "code",
   "execution_count": null,
   "id": "cb632f46",
   "metadata": {},
   "outputs": [],
   "source": [
    "#python collection\n",
    "#list\n",
    "#tuple\n",
    "#dict\n",
    "#set"
   ]
  },
  {
   "cell_type": "code",
   "execution_count": null,
   "id": "8e81592a",
   "metadata": {},
   "outputs": [],
   "source": [
    "#list\n",
    "#indexing\n",
    "#ordered\n",
    "#multiple and duplicate value\n",
    "#mutable\n",
    "#a=[a,b,...]"
   ]
  },
  {
   "cell_type": "code",
   "execution_count": 43,
   "id": "ec75a026",
   "metadata": {},
   "outputs": [
    {
     "name": "stdout",
     "output_type": "stream",
     "text": [
      "<class 'list'>\n",
      "<class 'list'>\n",
      "['Apple', 'Ball', 'Cat']\n",
      "[1, 2, 3, 4, 5, 6, 7, 8, 9, 0]\n"
     ]
    }
   ],
   "source": [
    "a=[\"Apple\",\"Ball\",\"Cat\"]\n",
    "b=[1,2,3,4,5,6,7,8,9,0]\n",
    "print(type(a))\n",
    "print(type(b))\n",
    "print(a)\n",
    "print(b)\n"
   ]
  },
  {
   "cell_type": "code",
   "execution_count": 42,
   "id": "573a06ea",
   "metadata": {},
   "outputs": [
    {
     "name": "stdout",
     "output_type": "stream",
     "text": [
      "['Apple', 'Ball', 'Cat']\n"
     ]
    }
   ],
   "source": [
    "a=[\"Apple\",\"Ball\",\"Cat\"]\n",
    "print(a[0:3])"
   ]
  },
  {
   "cell_type": "code",
   "execution_count": 4,
   "id": "bb73653f",
   "metadata": {},
   "outputs": [
    {
     "name": "stdout",
     "output_type": "stream",
     "text": [
      "['Apple', 'Ball', 'Cat', 'Apple', 'Ball', 'Cat']\n"
     ]
    }
   ],
   "source": [
    "a=[\"Apple\",\"Ball\",\"Cat\"]\n",
    "print(a*2)"
   ]
  },
  {
   "cell_type": "code",
   "execution_count": 5,
   "id": "e8f86f8a",
   "metadata": {},
   "outputs": [
    {
     "name": "stdout",
     "output_type": "stream",
     "text": [
      "['Apple', 'Ball', 'Cat', 1, 2, 3, 4, 5, 6, 7, 8, 9, 0]\n"
     ]
    }
   ],
   "source": [
    "a=[\"Apple\",\"Ball\",\"Cat\"]\n",
    "b=[1,2,3,4,5,6,7,8,9,0]\n",
    "c=a+b\n",
    "print(c)"
   ]
  },
  {
   "cell_type": "code",
   "execution_count": 6,
   "id": "f8a3132d",
   "metadata": {},
   "outputs": [
    {
     "name": "stdout",
     "output_type": "stream",
     "text": [
      "[1, 2, 3, 4, 5, 6, 7, 8, 9, 0, 1, 2, 3, 4, 5, 6, 7, 8, 9, 0]\n"
     ]
    }
   ],
   "source": [
    "b=[1,2,3,4,5,6,7,8,9,0]\n",
    "print(b*2)"
   ]
  },
  {
   "cell_type": "code",
   "execution_count": 8,
   "id": "3509aa9f",
   "metadata": {},
   "outputs": [
    {
     "data": {
      "text/plain": [
       "[9860826004, 9841818572]"
      ]
     },
     "execution_count": 8,
     "metadata": {},
     "output_type": "execute_result"
    }
   ],
   "source": [
    "\n",
    "phone=[9860826004,9841818572]\n",
    "phone"
   ]
  },
  {
   "cell_type": "code",
   "execution_count": 2,
   "id": "b0d70e55",
   "metadata": {},
   "outputs": [
    {
     "name": "stdout",
     "output_type": "stream",
     "text": [
      "Enter n = 5\n",
      "Enter x = 7\n",
      "Enter x = 3\n",
      "Enter x = 5\n",
      "Enter x = 6\n",
      "Enter x = 9\n",
      "[7, 3, 5, 6, 9]\n"
     ]
    }
   ],
   "source": [
    "n=int(input(\"Enter n = \"))\n",
    "l=[]\n",
    "for i in range(n):\n",
    "    x=int(input(\"Enter x = \"))\n",
    "    l=l+[x]\n",
    "print(l)"
   ]
  },
  {
   "cell_type": "code",
   "execution_count": 8,
   "id": "a3539263",
   "metadata": {},
   "outputs": [
    {
     "name": "stdout",
     "output_type": "stream",
     "text": [
      "The max value= 9\n",
      "The min value 3\n",
      "The sum of the all value= 30\n",
      "[3, 5, 6, 7, 9]\n",
      "[9, 7, 6, 5, 3]\n"
     ]
    }
   ],
   "source": [
    "print(\"The max value=\",max(l))\n",
    "print(\"The min value\", min(l))\n",
    "print(\"The sum of the all value=\" , sum(l))\n",
    "l.sort()\n",
    "print(l)\n",
    "l.reverse()\n",
    "print(l)"
   ]
  },
  {
   "cell_type": "code",
   "execution_count": 9,
   "id": "7a89656a",
   "metadata": {},
   "outputs": [
    {
     "name": "stdout",
     "output_type": "stream",
     "text": [
      "['Banana', 'Cat', 'apple', 'zebra']\n"
     ]
    }
   ],
   "source": [
    "a=[\"apple\",\"zebra\",\"Banana\",\"Cat\"]\n",
    "a.sort()\n",
    "print(a)"
   ]
  },
  {
   "cell_type": "code",
   "execution_count": 10,
   "id": "4e4d4070",
   "metadata": {},
   "outputs": [
    {
     "name": "stdout",
     "output_type": "stream",
     "text": [
      "apple\n",
      "zebra\n",
      "Banana\n",
      "Cat\n"
     ]
    }
   ],
   "source": [
    "a=[\"apple\",\"zebra\",\"Banana\",\"Cat\"]\n",
    "for i in a:\n",
    "    print(i)"
   ]
  },
  {
   "cell_type": "code",
   "execution_count": 13,
   "id": "4b35c923",
   "metadata": {},
   "outputs": [
    {
     "name": "stdout",
     "output_type": "stream",
     "text": [
      "len of a=  4\n",
      "Yes 1\n"
     ]
    }
   ],
   "source": [
    "a=[\"Ram\",\"Shyam\",\"Hari\",\"Ramesh\"]\n",
    "print(\"len of a= \",len(a))\n",
    "if \"Shyam\" in a:\n",
    "    print(\"Yes\",a.count(\"Shyam\"))\n",
    "else:\n",
    "    print(\"No\")\n",
    "    "
   ]
  },
  {
   "cell_type": "code",
   "execution_count": 14,
   "id": "e163517f",
   "metadata": {},
   "outputs": [],
   "source": [
    "#write list\n",
    "# append() insert() extend()\n",
    "#dekete\n",
    "# del() remove() pop()"
   ]
  },
  {
   "cell_type": "code",
   "execution_count": 15,
   "id": "d4ace369",
   "metadata": {},
   "outputs": [
    {
     "data": {
      "text/plain": [
       "['Ram', 'Shyam', 'Hari', 'Ramesh', 'Rakesh']"
      ]
     },
     "execution_count": 15,
     "metadata": {},
     "output_type": "execute_result"
    }
   ],
   "source": [
    "#append()\n",
    "a=[\"Ram\",\"Shyam\",\"Hari\",\"Ramesh\"]\n",
    "a.append(\"Rakesh\")\n",
    "a"
   ]
  },
  {
   "cell_type": "code",
   "execution_count": 16,
   "id": "97f769ca",
   "metadata": {},
   "outputs": [
    {
     "data": {
      "text/plain": [
       "['Ram', 'Sita', 'Shyam', 'Hari', 'Ramesh']"
      ]
     },
     "execution_count": 16,
     "metadata": {},
     "output_type": "execute_result"
    }
   ],
   "source": [
    "#insert()\n",
    "a=[\"Ram\",\"Shyam\",\"Hari\",\"Ramesh\"]\n",
    "a.insert(1,\"Sita\")\n",
    "a\n"
   ]
  },
  {
   "cell_type": "code",
   "execution_count": 17,
   "id": "62d442a4",
   "metadata": {},
   "outputs": [
    {
     "name": "stdout",
     "output_type": "stream",
     "text": [
      "['Apple', 'Ball', 'Cat', 1, 2, 3, 4, 5, 6, 7, 8, 9, 0]\n"
     ]
    }
   ],
   "source": [
    "#extend()\n",
    "a=[\"Apple\",\"Ball\",\"Cat\"]\n",
    "b=[1,2,3,4,5,6,7,8,9,0]\n",
    "a.extend(b)\n",
    "print(a)"
   ]
  },
  {
   "cell_type": "code",
   "execution_count": 18,
   "id": "01cdb1f7",
   "metadata": {},
   "outputs": [
    {
     "data": {
      "text/plain": [
       "['Shyam', 'Hari', 'Ramesh']"
      ]
     },
     "execution_count": 18,
     "metadata": {},
     "output_type": "execute_result"
    }
   ],
   "source": [
    "#delete()\n",
    "a=[\"Ram\",\"Shyam\",\"Hari\",\"Ramesh\"]\n",
    "del a[0]\n",
    "a"
   ]
  },
  {
   "cell_type": "code",
   "execution_count": 19,
   "id": "027f1e9f",
   "metadata": {},
   "outputs": [
    {
     "data": {
      "text/plain": [
       "['Shyam', 'Hari', 'Ramesh']"
      ]
     },
     "execution_count": 19,
     "metadata": {},
     "output_type": "execute_result"
    }
   ],
   "source": [
    "#remove()\n",
    "a=[\"Ram\",\"Shyam\",\"Hari\",\"Ramesh\"]\n",
    "a.remove(\"Ram\")\n",
    "a"
   ]
  },
  {
   "cell_type": "code",
   "execution_count": 20,
   "id": "b165d057",
   "metadata": {},
   "outputs": [
    {
     "name": "stdout",
     "output_type": "stream",
     "text": [
      "['Ram', 'Hari', 'Ramesh']\n",
      "Shyam\n"
     ]
    }
   ],
   "source": [
    "#pop()\n",
    "a=[\"Ram\",\"Shyam\",\"Hari\",\"Ramesh\"]\n",
    "b=a.pop(1)\n",
    "print(a)\n",
    "print(b)"
   ]
  },
  {
   "cell_type": "code",
   "execution_count": 22,
   "id": "6b63ba1c",
   "metadata": {},
   "outputs": [
    {
     "data": {
      "text/plain": [
       "['Ram', 'Hari', 'Ramesh']"
      ]
     },
     "execution_count": 22,
     "metadata": {},
     "output_type": "execute_result"
    }
   ],
   "source": [
    "#delete()\n",
    "a=[\"Ram\",\"Shyam\",\"Hari\",\"Ramesh\"]\n",
    "del a[1:2]\n",
    "a"
   ]
  },
  {
   "cell_type": "code",
   "execution_count": 23,
   "id": "2c4cf42e",
   "metadata": {},
   "outputs": [
    {
     "data": {
      "text/plain": [
       "['Shyam', 'Hari', 'Ramesh']"
      ]
     },
     "execution_count": 23,
     "metadata": {},
     "output_type": "execute_result"
    }
   ],
   "source": [
    "a=[\"Ram\",\"Shyam\",\"Hari\",\"Ramesh\",\"Ram\"]\n",
    "c=a.count(\"Ram\")\n",
    "for i in range(c):\n",
    "    a.remove(\"Ram\")\n",
    "a"
   ]
  },
  {
   "cell_type": "code",
   "execution_count": 24,
   "id": "d77c4139",
   "metadata": {},
   "outputs": [
    {
     "data": {
      "text/plain": [
       "['Rama', 'Shyam', 'Hari', 'Ramesh']"
      ]
     },
     "execution_count": 24,
     "metadata": {},
     "output_type": "execute_result"
    }
   ],
   "source": [
    "#update\n",
    "a=[\"Ram\",\"Shyam\",\"Hari\",\"Ramesh\"]\n",
    "a[0]=\"Rama\"\n",
    "a"
   ]
  },
  {
   "cell_type": "code",
   "execution_count": 25,
   "id": "239e2755",
   "metadata": {},
   "outputs": [
    {
     "data": {
      "text/plain": [
       "['Rama', 'Shyama', 'Hari', 'Ramesh']"
      ]
     },
     "execution_count": 25,
     "metadata": {},
     "output_type": "execute_result"
    }
   ],
   "source": [
    "a=[\"Ram\",\"Shyam\",\"Hari\",\"Ramesh\"]\n",
    "a[0:2]=[\"Rama\",\"Shyama\"]\n",
    "a"
   ]
  },
  {
   "cell_type": "code",
   "execution_count": 27,
   "id": "a0065518",
   "metadata": {},
   "outputs": [
    {
     "data": {
      "text/plain": [
       "['Apple 2 600 ', ' Banana 100 3 300']"
      ]
     },
     "execution_count": 27,
     "metadata": {},
     "output_type": "execute_result"
    }
   ],
   "source": [
    "a=\"Apple 2 600 \\n Banana 100 3 300\"\n",
    "a.split('\\n')"
   ]
  },
  {
   "cell_type": "code",
   "execution_count": 11,
   "id": "992f8f30",
   "metadata": {},
   "outputs": [
    {
     "name": "stdout",
     "output_type": "stream",
     "text": [
      "3\n"
     ]
    }
   ],
   "source": [
    "#list inside list\n",
    "a=[[1,2,3],[4,5,6],[7,8,9]]\n",
    "print (len(a))\n"
   ]
  },
  {
   "cell_type": "code",
   "execution_count": 8,
   "id": "43a98f23",
   "metadata": {},
   "outputs": [
    {
     "name": "stdout",
     "output_type": "stream",
     "text": [
      "3\n"
     ]
    }
   ],
   "source": [
    "a=[['Ram',89,'Kathmandu'],\n",
    "   ['Shyam', 67,'Bhaktapur'],\n",
    "   ['Hari',56,'Lalitpur']]\n",
    "print(len(a))"
   ]
  },
  {
   "cell_type": "code",
   "execution_count": 13,
   "id": "968d50b3",
   "metadata": {},
   "outputs": [
    {
     "name": "stdout",
     "output_type": "stream",
     "text": [
      "['Shyam', 67, 'Bhaktapur']\n"
     ]
    }
   ],
   "source": [
    "a=[['Ram',89,'Kathmandu'],\n",
    "   ['Shyam', 67,'Bhaktapur'],\n",
    "   ['Hari',56,'Lalitpur']]\n",
    "print(a[1])"
   ]
  },
  {
   "cell_type": "code",
   "execution_count": 17,
   "id": "377796b7",
   "metadata": {},
   "outputs": [
    {
     "name": "stdout",
     "output_type": "stream",
     "text": [
      "Lalitpur\n"
     ]
    }
   ],
   "source": [
    "a=[['Ram',89,'Kathmandu'],\n",
    "   ['Shyam', 67,'Bhaktapur'],\n",
    "   ['Hari',56,'Lalitpur']]\n",
    "print(a[2][2])"
   ]
  },
  {
   "cell_type": "code",
   "execution_count": 19,
   "id": "4430e890",
   "metadata": {},
   "outputs": [
    {
     "data": {
      "text/plain": [
       "[['Ram', 89, 'Kathmandu'],\n",
       " ['Shyam', 67, 'Bhaktapur'],\n",
       " ['Hari', 56, 'Lalitpur'],\n",
       " ['Nabin', 89, 'Bara']]"
      ]
     },
     "execution_count": 19,
     "metadata": {},
     "output_type": "execute_result"
    }
   ],
   "source": [
    "a=[['Ram',89,'Kathmandu'],\n",
    "   ['Shyam', 67,'Bhaktapur'],\n",
    "   ['Hari',56,'Lalitpur']]\n",
    "a=a+[['Nabin',89,'Bara']]\n",
    "a"
   ]
  },
  {
   "cell_type": "code",
   "execution_count": 20,
   "id": "cd68f446",
   "metadata": {},
   "outputs": [
    {
     "name": "stdout",
     "output_type": "stream",
     "text": [
      "Enter n 2\n",
      "Enter name Nikita\n",
      "Enter age 24\n",
      "Enter address Bhaktapur\n",
      "Enter name Avu\n",
      "Enter age 27\n",
      "Enter address Kathmandu\n",
      "[['Nikita', 24, 'Bhaktapur'], ['Avu', 27, 'Kathmandu']]\n"
     ]
    }
   ],
   "source": [
    "data=[]\n",
    "n=int(input(\"Enter n \"))\n",
    "for i in range(n):\n",
    "    name=input(\"Enter name \")\n",
    "    age=int(input(\"Enter age \"))\n",
    "    add= input(\"Enter address \")\n",
    "    info= [name,age,add]\n",
    "    data.append(info)\n",
    "print(data)"
   ]
  },
  {
   "cell_type": "code",
   "execution_count": 27,
   "id": "35cbf13a",
   "metadata": {},
   "outputs": [
    {
     "data": {
      "text/plain": [
       "[['Ram', 89, 'Kathmandu'],\n",
       " ['Shyam', 67, 'Bhaktapur'],\n",
       " ['Hari', 56, 'Lalitpur'],\n",
       " ['Nabin', 23, 'Bara']]"
      ]
     },
     "execution_count": 27,
     "metadata": {},
     "output_type": "execute_result"
    }
   ],
   "source": [
    "a=[['Ram',89,'Kathmandu'],\n",
    "   ['Shyam', 67,'Bhaktapur'],\n",
    "   ['Hari',56,'Lalitpur']]\n",
    "a.append(['Nabin',23,'Bara'])\n",
    "a\n"
   ]
  },
  {
   "cell_type": "code",
   "execution_count": 29,
   "id": "1d1ff4db",
   "metadata": {},
   "outputs": [
    {
     "data": {
      "text/plain": [
       "[['Rama', 89, 'Kathmandu'],\n",
       " ['Shyam', 67, 'Bhaktapur'],\n",
       " ['Hari', 56, 'Lalitpur'],\n",
       " ['Nabin', 23, 'Bara']]"
      ]
     },
     "execution_count": 29,
     "metadata": {},
     "output_type": "execute_result"
    }
   ],
   "source": [
    "a[0][0]='Rama'\n",
    "a"
   ]
  },
  {
   "cell_type": "code",
   "execution_count": 30,
   "id": "4073a93a",
   "metadata": {},
   "outputs": [
    {
     "data": {
      "text/plain": [
       "[['Shyam', 67, 'Bhaktapur'], ['Hari', 56, 'Lalitpur'], ['Nabin', 23, 'Bara']]"
      ]
     },
     "execution_count": 30,
     "metadata": {},
     "output_type": "execute_result"
    }
   ],
   "source": [
    "del a[0]\n",
    "a"
   ]
  },
  {
   "cell_type": "code",
   "execution_count": 36,
   "id": "14ed1532",
   "metadata": {},
   "outputs": [
    {
     "name": "stdout",
     "output_type": "stream",
     "text": [
      "Enter name Rama\n",
      "['Rama', 89, 'Kathmandu']\n",
      "[['Shyam', 67, 'Bhaktapur'], ['Hari', 56, 'Lalitpur']]\n"
     ]
    }
   ],
   "source": [
    "#search\n",
    "a=[['Rama',89,'Kathmandu'],\n",
    "   ['Shyam', 67,'Bhaktapur'],\n",
    "   ['Hari',56,'Lalitpur']]\n",
    "search = input(\"Enter name \")\n",
    "for i in a:\n",
    "    if search in i:\n",
    "        print(i)\n",
    "        a.remove(i)\n",
    "print(a)\n"
   ]
  },
  {
   "cell_type": "code",
   "execution_count": 40,
   "id": "298d752b",
   "metadata": {},
   "outputs": [
    {
     "name": "stdout",
     "output_type": "stream",
     "text": [
      "Enter name Rama\n",
      "0\n",
      "[['Rama', 89, 'Kathmandu'], ['Shyam', 67, 'Bhaktapur'], ['Hari', 56, 'Lalitpur']]\n"
     ]
    }
   ],
   "source": [
    "#index\n",
    "a=[['Rama',89,'Kathmandu'],\n",
    "   ['Shyam', 67,'Bhaktapur'],\n",
    "   ['Hari',56,'Lalitpur']]\n",
    "l=len(a)\n",
    "search = input(\"Enter name \")\n",
    "for i in range(l):\n",
    "    if search in a[i]:\n",
    "        print(i)\n",
    "print(a)\n"
   ]
  },
  {
   "cell_type": "code",
   "execution_count": 41,
   "id": "e1c664f8",
   "metadata": {},
   "outputs": [
    {
     "name": "stdout",
     "output_type": "stream",
     "text": [
      "['Apple 2 600 ', ' Banana 100 3 300']\n",
      "[['Apple', '2', '600'], ['Banana', '100', '3', '300']]\n"
     ]
    }
   ],
   "source": [
    "a=\"Apple 2 600 \\n Banana 100 3 300\"\n",
    "x=a.split('\\n')\n",
    "print(x)\n",
    "data=[]\n",
    "for i in x:\n",
    "    y=i.split()\n",
    "    data.append(y)\n",
    "print(data)\n"
   ]
  },
  {
   "cell_type": "code",
   "execution_count": null,
   "id": "b5e377f9",
   "metadata": {},
   "outputs": [],
   "source": []
  }
 ],
 "metadata": {
  "kernelspec": {
   "display_name": "Python 3 (ipykernel)",
   "language": "python",
   "name": "python3"
  },
  "language_info": {
   "codemirror_mode": {
    "name": "ipython",
    "version": 3
   },
   "file_extension": ".py",
   "mimetype": "text/x-python",
   "name": "python",
   "nbconvert_exporter": "python",
   "pygments_lexer": "ipython3",
   "version": "3.9.13"
  }
 },
 "nbformat": 4,
 "nbformat_minor": 5
}
