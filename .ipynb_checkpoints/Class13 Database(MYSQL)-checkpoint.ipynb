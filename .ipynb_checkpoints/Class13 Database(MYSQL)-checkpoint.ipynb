{
 "cells": [
  {
   "cell_type": "code",
   "execution_count": 1,
   "id": "f3cc167a",
   "metadata": {},
   "outputs": [
    {
     "name": "stdout",
     "output_type": "stream",
     "text": [
      "Requirement already satisfied: mysql-connector in c:\\users\\nikita uprety\\anaconda3\\lib\\site-packages (2.2.9)\n"
     ]
    }
   ],
   "source": [
    "!pip install mysql-connector"
   ]
  },
  {
   "cell_type": "code",
   "execution_count": 2,
   "id": "6dd669e8",
   "metadata": {},
   "outputs": [],
   "source": [
    "import mysql.connector\n",
    "#importing database\n",
    "database = mysql.connector.connect(\n",
    "host=\"localhost\",\n",
    "user=\"root\",\n",
    "password=\"\",\n",
    "database=\"pythonclassdb\"\n",
    ")\n",
    "db = database.cursor()"
   ]
  },
  {
   "cell_type": "code",
   "execution_count": 3,
   "id": "8502d2c9",
   "metadata": {},
   "outputs": [
    {
     "name": "stdout",
     "output_type": "stream",
     "text": [
      "[(1, 'Pop', 56, 65, 44, 35, 67, 300, 88.5, 'B'), (2, 'Tom', 88, 98, 78, 99, 77, 400, 89.0, 'A+'), (3, 'Monkey', 59, 74, 63, 67, 78, 350, 81.5, 'B+'), (4, 'Dommy', 66, 89, 77, 34, 67, 340, 82.0, 'B+'), (5, 'Cat', 78, 77, 80, 87, 65, 390, 87.0, 'A'), (6, 'Brownie', 40, 47, 35, 38, 44, 287, 75.0, 'B-'), (7, 'Whitey', 70, 77, 65, 68, 54, 300, 75.0, 'B'), (8, 'Nanny', 56, 56, 67, 43, 45, 233, 65.0, 'C'), (9, 'Bunny', 86, 85, 97, 93, 95, 450, 89.0, 'A+'), (10, 'Sunny', 86, 85, 97, 93, 95, 450, 89.0, 'A+')]\n"
     ]
    }
   ],
   "source": [
    "sql = \"SELECT * FROM python\"\n",
    "db.execute(sql)\n",
    "result=db.fetchall()\n",
    "print(result)"
   ]
  },
  {
   "cell_type": "code",
   "execution_count": 4,
   "id": "3fd9ddaf",
   "metadata": {},
   "outputs": [
    {
     "name": "stdout",
     "output_type": "stream",
     "text": [
      "[(5, 'Cat', 78, 77, 80, 87, 65, 390, 87.0, 'A')]\n"
     ]
    }
   ],
   "source": [
    "#select\n",
    "sql = \"SELECT * FROM python WHERE grade = 'A'\"\n",
    "db.execute(sql)\n",
    "result=db.fetchall()\n",
    "print(result)"
   ]
  },
  {
   "cell_type": "code",
   "execution_count": 5,
   "id": "d63d8150",
   "metadata": {},
   "outputs": [],
   "source": [
    "\n",
    "#insert\n",
    "sql = \"INSERT INTO python (sn, name, physics, chemistry, maths, english, nepali, total, percentage, grade) VALUES (11, 'Munny', 86, 85, 97, 93, 95, 450, 89, 'A+')\"\n",
    "db.execute(sql)\n",
    "\n",
    "database.commit()\n"
   ]
  },
  {
   "cell_type": "code",
   "execution_count": 6,
   "id": "79242428",
   "metadata": {},
   "outputs": [
    {
     "name": "stdout",
     "output_type": "stream",
     "text": [
      "[(1, 'Pop', 56, 65, 44, 35, 67, 300, 88.5, 'B'), (2, 'Tom', 88, 98, 78, 99, 77, 400, 89.0, 'A+'), (3, 'Monkey', 59, 74, 63, 67, 78, 350, 81.5, 'B+'), (4, 'Dommy', 66, 89, 77, 34, 67, 340, 82.0, 'B+'), (5, 'Cat', 78, 77, 80, 87, 65, 390, 87.0, 'A'), (6, 'Brownie', 40, 47, 35, 38, 44, 287, 75.0, 'B-'), (7, 'Whitey', 70, 77, 65, 68, 54, 300, 75.0, 'B'), (8, 'Nanny', 56, 56, 67, 43, 45, 233, 65.0, 'C'), (9, 'Bunny', 86, 85, 97, 93, 95, 450, 89.0, 'A+'), (10, 'Sunny', 86, 85, 97, 93, 95, 450, 89.0, 'A+'), (11, 'Munny', 86, 85, 97, 93, 95, 450, 89.0, 'A+')]\n"
     ]
    }
   ],
   "source": [
    "sql = \"SELECT * FROM python\"\n",
    "db.execute(sql)\n",
    "result=db.fetchall()\n",
    "print(result)"
   ]
  },
  {
   "cell_type": "code",
   "execution_count": 7,
   "id": "4c561ffc",
   "metadata": {},
   "outputs": [
    {
     "name": "stdout",
     "output_type": "stream",
     "text": [
      "Enter Name Ankita\n",
      "Enter number of physics60\n",
      "Enter number of chemistry70\n",
      "Enter number of maths40\n",
      "Enter number of english30\n",
      "Enter number of nepali88\n"
     ]
    }
   ],
   "source": [
    "#insert from user input\n",
    "name=input(\"Enter Name \")\n",
    "p = int(input(\"Enter number of physics\"))\n",
    "c = int(input(\"Enter number of chemistry\"))\n",
    "m = int(input(\"Enter number of maths\"))\n",
    "e = int(input(\"Enter number of english\"))\n",
    "n = int(input(\"Enter number of nepali\"))\n",
    "total = p+c+m+e+n\n",
    "per = total/5\n",
    "if per>=80:\n",
    "    grade='A'\n",
    "elif per>=60:\n",
    "    grade='B'\n",
    "elif per>=45:\n",
    "    grade='C'\n",
    "else:\n",
    "    grade='F'\n",
    "\n",
    "sql = f\"INSERT INTO python (name, physics, chemistry, maths, english, nepali, total, percentage, grade) VALUES ('{name}', {p}, {c}, {m}, {e}, {n}, {total}, {per}, '{grade}')\"\n",
    "db.execute(sql)\n",
    "database.commit()\n"
   ]
  },
  {
   "cell_type": "code",
   "execution_count": 8,
   "id": "be817c02",
   "metadata": {},
   "outputs": [
    {
     "name": "stdout",
     "output_type": "stream",
     "text": [
      "[(1, 'Pop', 56, 65, 44, 35, 67, 300, 88.5, 'B'), (2, 'Tom', 88, 98, 78, 99, 77, 400, 89.0, 'A+'), (3, 'Monkey', 59, 74, 63, 67, 78, 350, 81.5, 'B+'), (4, 'Dommy', 66, 89, 77, 34, 67, 340, 82.0, 'B+'), (5, 'Cat', 78, 77, 80, 87, 65, 390, 87.0, 'A'), (6, 'Brownie', 40, 47, 35, 38, 44, 287, 75.0, 'B-'), (7, 'Whitey', 70, 77, 65, 68, 54, 300, 75.0, 'B'), (8, 'Nanny', 56, 56, 67, 43, 45, 233, 65.0, 'C'), (9, 'Bunny', 86, 85, 97, 93, 95, 450, 89.0, 'A+'), (10, 'Sunny', 86, 85, 97, 93, 95, 450, 89.0, 'A+'), (11, 'Munny', 86, 85, 97, 93, 95, 450, 89.0, 'A+'), (12, 'Ankita', 60, 70, 40, 30, 88, 288, 57.6, 'C')]\n"
     ]
    }
   ],
   "source": [
    "sql = \"SELECT * FROM python\"\n",
    "db.execute(sql)\n",
    "result=db.fetchall()\n",
    "print(result)"
   ]
  },
  {
   "cell_type": "code",
   "execution_count": 10,
   "id": "9a57b354",
   "metadata": {},
   "outputs": [],
   "source": [
    "#update\n",
    "sql = \"UPDATE python SET name = 'Pramit' WHERE python.sn= 8\"\n",
    "db.execute(sql)\n",
    "database.commit()"
   ]
  },
  {
   "cell_type": "code",
   "execution_count": 11,
   "id": "fddc65a6",
   "metadata": {},
   "outputs": [
    {
     "name": "stdout",
     "output_type": "stream",
     "text": [
      "[(1, 'Pop', 56, 65, 44, 35, 67, 300, 68.5, 'B'), (2, 'Tom', 88, 98, 78, 99, 77, 400, 89.0, 'A'), (3, 'Monkey', 59, 74, 63, 67, 78, 350, 81.5, 'A'), (4, 'Dommy', 66, 89, 77, 34, 67, 340, 82.0, 'A'), (5, 'Cat', 78, 77, 80, 87, 65, 390, 87.0, 'A'), (6, 'Brownie', 40, 47, 35, 38, 44, 287, 75.0, 'B'), (7, 'Whitey', 70, 77, 65, 68, 54, 300, 75.0, 'B'), (8, 'Pramit', 56, 56, 67, 43, 45, 233, 55.0, 'C'), (9, 'Bunny', 86, 85, 97, 93, 95, 450, 89.0, 'A'), (10, 'Sunny', 86, 85, 97, 93, 95, 450, 89.0, 'A'), (11, 'Munny', 86, 85, 97, 93, 95, 450, 89.0, 'A'), (12, 'Ankita', 60, 70, 40, 30, 88, 288, 57.6, 'C')]\n"
     ]
    }
   ],
   "source": [
    "sql = \"SELECT * FROM python\"\n",
    "db.execute(sql)\n",
    "result=db.fetchall()\n",
    "print(result)"
   ]
  },
  {
   "cell_type": "code",
   "execution_count": 12,
   "id": "ed8ac1fb",
   "metadata": {},
   "outputs": [
    {
     "name": "stdout",
     "output_type": "stream",
     "text": [
      "Enter Name Inkey\n",
      "Enter serial number7\n"
     ]
    }
   ],
   "source": [
    "#update from user input\n",
    "name=input(\"Enter Name \")\n",
    "sn = int(input(\"Enter serial number\"))\n",
    "sql = f\"UPDATE python SET name = '{name}' WHERE python.sn= {sn}\"\n",
    "db.execute(sql)\n",
    "database.commit()"
   ]
  },
  {
   "cell_type": "code",
   "execution_count": 13,
   "id": "1c5f4867",
   "metadata": {},
   "outputs": [
    {
     "name": "stdout",
     "output_type": "stream",
     "text": [
      "[(1, 'Pop', 56, 65, 44, 35, 67, 300, 68.5, 'B'), (2, 'Tom', 88, 98, 78, 99, 77, 400, 89.0, 'A'), (3, 'Monkey', 59, 74, 63, 67, 78, 350, 81.5, 'A'), (4, 'Dommy', 66, 89, 77, 34, 67, 340, 82.0, 'A'), (5, 'Cat', 78, 77, 80, 87, 65, 390, 87.0, 'A'), (6, 'Brownie', 40, 47, 35, 38, 44, 287, 75.0, 'B'), (7, 'Inkey', 70, 77, 65, 68, 54, 300, 75.0, 'B'), (8, 'Pramit', 56, 56, 67, 43, 45, 233, 55.0, 'C'), (9, 'Bunny', 86, 85, 97, 93, 95, 450, 89.0, 'A'), (10, 'Sunny', 86, 85, 97, 93, 95, 450, 89.0, 'A'), (11, 'Munny', 86, 85, 97, 93, 95, 450, 89.0, 'A'), (12, 'Ankita', 60, 70, 40, 30, 88, 288, 57.6, 'C')]\n"
     ]
    }
   ],
   "source": [
    "sql = \"SELECT * FROM python\"\n",
    "db.execute(sql)\n",
    "result=db.fetchall()\n",
    "print(result)"
   ]
  },
  {
   "cell_type": "code",
   "execution_count": 14,
   "id": "0a388929",
   "metadata": {},
   "outputs": [],
   "source": [
    "#delete\n",
    "sql = \"DELETE FROM python WHERE sn= 8\"\n",
    "db.execute(sql)\n",
    "database.commit()"
   ]
  },
  {
   "cell_type": "code",
   "execution_count": 15,
   "id": "f6af02f1",
   "metadata": {},
   "outputs": [
    {
     "name": "stdout",
     "output_type": "stream",
     "text": [
      "[(1, 'Pop', 56, 65, 44, 35, 67, 300, 68.5, 'B'), (2, 'Tom', 88, 98, 78, 99, 77, 400, 89.0, 'A'), (3, 'Monkey', 59, 74, 63, 67, 78, 350, 81.5, 'A'), (4, 'Dommy', 66, 89, 77, 34, 67, 340, 82.0, 'A'), (5, 'Cat', 78, 77, 80, 87, 65, 390, 87.0, 'A'), (6, 'Brownie', 40, 47, 35, 38, 44, 287, 75.0, 'B'), (7, 'Inkey', 70, 77, 65, 68, 54, 300, 75.0, 'B'), (9, 'Bunny', 86, 85, 97, 93, 95, 450, 89.0, 'A'), (10, 'Sunny', 86, 85, 97, 93, 95, 450, 89.0, 'A'), (11, 'Munny', 86, 85, 97, 93, 95, 450, 89.0, 'A'), (12, 'Ankita', 60, 70, 40, 30, 88, 288, 57.6, 'C')]\n"
     ]
    }
   ],
   "source": [
    "sql = \"SELECT * FROM python\"\n",
    "db.execute(sql)\n",
    "result=db.fetchall()\n",
    "print(result)"
   ]
  },
  {
   "cell_type": "code",
   "execution_count": 16,
   "id": "b3d80aec",
   "metadata": {},
   "outputs": [
    {
     "name": "stdout",
     "output_type": "stream",
     "text": [
      "Enter serial number7\n"
     ]
    }
   ],
   "source": [
    "#delete from user input\n",
    "sn = int(input(\"Enter serial number\"))\n",
    "sql = f\"DELETE FROM python WHERE sn= {sn}\"\n",
    "db.execute(sql)\n",
    "database.commit()"
   ]
  },
  {
   "cell_type": "code",
   "execution_count": 17,
   "id": "4c334fcd",
   "metadata": {},
   "outputs": [
    {
     "name": "stdout",
     "output_type": "stream",
     "text": [
      "[(1, 'Pop', 56, 65, 44, 35, 67, 300, 68.5, 'B'), (2, 'Tom', 88, 98, 78, 99, 77, 400, 89.0, 'A'), (3, 'Monkey', 59, 74, 63, 67, 78, 350, 81.5, 'A'), (4, 'Dommy', 66, 89, 77, 34, 67, 340, 82.0, 'A'), (5, 'Cat', 78, 77, 80, 87, 65, 390, 87.0, 'A'), (6, 'Brownie', 40, 47, 35, 38, 44, 287, 75.0, 'B'), (9, 'Bunny', 86, 85, 97, 93, 95, 450, 89.0, 'A'), (10, 'Sunny', 86, 85, 97, 93, 95, 450, 89.0, 'A'), (11, 'Munny', 86, 85, 97, 93, 95, 450, 89.0, 'A'), (12, 'Ankita', 60, 70, 40, 30, 88, 288, 57.6, 'C')]\n"
     ]
    }
   ],
   "source": [
    "sql = \"SELECT * FROM python\"\n",
    "db.execute(sql)\n",
    "result=db.fetchall()\n",
    "print(result)"
   ]
  },
  {
   "cell_type": "code",
   "execution_count": null,
   "id": "08e57985",
   "metadata": {},
   "outputs": [],
   "source": []
  }
 ],
 "metadata": {
  "kernelspec": {
   "display_name": "Python 3 (ipykernel)",
   "language": "python",
   "name": "python3"
  },
  "language_info": {
   "codemirror_mode": {
    "name": "ipython",
    "version": 3
   },
   "file_extension": ".py",
   "mimetype": "text/x-python",
   "name": "python",
   "nbconvert_exporter": "python",
   "pygments_lexer": "ipython3",
   "version": "3.9.13"
  }
 },
 "nbformat": 4,
 "nbformat_minor": 5
}
