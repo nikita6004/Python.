{
 "cells": [
  {
   "cell_type": "code",
   "execution_count": 1,
   "id": "d98d3a3a",
   "metadata": {},
   "outputs": [],
   "source": [
    "# b=open('<file name>','<mode>')\n",
    "# close\n",
    "# with open('<file_name>','<mode>') as f:\n",
    "#     <operations>\n",
    "# modes\n",
    "# r->read\n",
    "# x-> create\n",
    "# w-> write\n",
    "# a->append"
   ]
  },
  {
   "cell_type": "code",
   "execution_count": 4,
   "id": "3f433c75",
   "metadata": {},
   "outputs": [
    {
     "name": "stdout",
     "output_type": "stream",
     "text": [
      "The file is already there\n"
     ]
    }
   ],
   "source": [
    "try:\n",
    "    b=open('data.txt','x')\n",
    "    b.close()\n",
    "except:\n",
    "    print(\"The file is already there\")"
   ]
  },
  {
   "cell_type": "code",
   "execution_count": 6,
   "id": "de4b1a9b",
   "metadata": {},
   "outputs": [
    {
     "name": "stdout",
     "output_type": "stream",
     "text": [
      "Hello World\n",
      "I am Sofiya\n",
      "I am Robot\n",
      "\n"
     ]
    }
   ],
   "source": [
    "file = open('data.txt','r')\n",
    "x= file.read()\n",
    "print(x)\n",
    "file.close()"
   ]
  },
  {
   "cell_type": "code",
   "execution_count": 7,
   "id": "38dbb274",
   "metadata": {},
   "outputs": [
    {
     "data": {
      "text/plain": [
       "['Hello World', 'I am Sofiya', 'I am Robot', '']"
      ]
     },
     "execution_count": 7,
     "metadata": {},
     "output_type": "execute_result"
    }
   ],
   "source": [
    "x.split('\\n')"
   ]
  },
  {
   "cell_type": "code",
   "execution_count": 10,
   "id": "b0127e41",
   "metadata": {},
   "outputs": [
    {
     "name": "stdout",
     "output_type": "stream",
     "text": [
      "Enter line number 2\n"
     ]
    },
    {
     "data": {
      "text/plain": [
       "'I am Sofiya'"
      ]
     },
     "execution_count": 10,
     "metadata": {},
     "output_type": "execute_result"
    }
   ],
   "source": [
    "data = x.split('\\n')\n",
    "line_n=int(input(\"Enter line number \"))\n",
    "data[line_n-1]"
   ]
  },
  {
   "cell_type": "code",
   "execution_count": 11,
   "id": "9d5b5757",
   "metadata": {},
   "outputs": [
    {
     "name": "stdout",
     "output_type": "stream",
     "text": [
      "Hello World\n",
      "\n",
      "<class 'str'>\n"
     ]
    }
   ],
   "source": [
    "file = open('data.txt','r')\n",
    "x= file.readline()\n",
    "print(x)\n",
    "print(type(x))\n",
    "file.close()"
   ]
  },
  {
   "cell_type": "code",
   "execution_count": 14,
   "id": "bbb1c959",
   "metadata": {},
   "outputs": [
    {
     "name": "stdout",
     "output_type": "stream",
     "text": [
      "Hello World\n",
      "\n",
      "<class 'str'>\n"
     ]
    }
   ],
   "source": [
    "file = open('data.txt','r')\n",
    "x= file.readline(25)\n",
    "print(x)\n",
    "print(type(x))\n",
    "file.close()"
   ]
  },
  {
   "cell_type": "code",
   "execution_count": 15,
   "id": "751ed11a",
   "metadata": {},
   "outputs": [],
   "source": [
    "file = open('data.txt','w')\n",
    "file.write(\"Hello hello hello\")\n",
    "file.close()"
   ]
  },
  {
   "cell_type": "code",
   "execution_count": 22,
   "id": "4e89c68c",
   "metadata": {},
   "outputs": [
    {
     "name": "stdout",
     "output_type": "stream",
     "text": [
      "Enter number2\n",
      "Enter  name Apple\n",
      "Enter price 700\n",
      "Enter quantity 2\n",
      "Enter  name Banana\n",
      "Enter price 800\n",
      "Enter quantity 3\n",
      "all total= 3800\n",
      "Apple, 700, 2, 1400\n",
      "Banana, 800, 3, 2400\n",
      "\n"
     ]
    }
   ],
   "source": [
    "s=0\n",
    "bill=str()\n",
    "n=int(input(\"Enter number\"))\n",
    "for i in range(n):\n",
    "    oname = input(\"Enter  name \")\n",
    "    price = int(input(\"Enter price \"))\n",
    "    quantity = int(input(\"Enter quantity \"))\n",
    "    total= price*quantity\n",
    "    bill = bill + f\"{oname}, {price}, {quantity}, {total}\\n\"\n",
    "    s=s+total\n",
    "    \n",
    "print(\"all total=\",s)\n",
    "print(bill)\n",
    "\n",
    "file = open('bill.txt','w')\n",
    "file.write('oname,price,quantity,total\\n')\n",
    "file.write(bill)\n",
    "file.close()"
   ]
  },
  {
   "cell_type": "code",
   "execution_count": 20,
   "id": "3f6ee764",
   "metadata": {},
   "outputs": [
    {
     "data": {
      "text/plain": [
       "'C:\\\\Users\\\\Nikita Uprety\\\\Python Class'"
      ]
     },
     "execution_count": 20,
     "metadata": {},
     "output_type": "execute_result"
    }
   ],
   "source": [
    "pwd"
   ]
  },
  {
   "cell_type": "code",
   "execution_count": null,
   "id": "4862f357",
   "metadata": {},
   "outputs": [],
   "source": []
  }
 ],
 "metadata": {
  "kernelspec": {
   "display_name": "Python 3 (ipykernel)",
   "language": "python",
   "name": "python3"
  },
  "language_info": {
   "codemirror_mode": {
    "name": "ipython",
    "version": 3
   },
   "file_extension": ".py",
   "mimetype": "text/x-python",
   "name": "python",
   "nbconvert_exporter": "python",
   "pygments_lexer": "ipython3",
   "version": "3.9.13"
  }
 },
 "nbformat": 4,
 "nbformat_minor": 5
}
