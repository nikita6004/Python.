{
 "cells": [
  {
   "cell_type": "code",
   "execution_count": 2,
   "id": "cd2e1502",
   "metadata": {},
   "outputs": [
    {
     "name": "stdout",
     "output_type": "stream",
     "text": [
      "Hello World"
     ]
    }
   ],
   "source": [
    "a=\"Hello World\"\n",
    "for i in a:\n",
    "    print(i,end=\"\")"
   ]
  },
  {
   "cell_type": "code",
   "execution_count": 3,
   "id": "9c14505b",
   "metadata": {},
   "outputs": [
    {
     "name": "stdout",
     "output_type": "stream",
     "text": [
      "Enter a= 100\n",
      "100\n"
     ]
    }
   ],
   "source": [
    "a=input(\"Enter a= \")\n",
    "print(a)"
   ]
  },
  {
   "cell_type": "code",
   "execution_count": 5,
   "id": "59da26a3",
   "metadata": {},
   "outputs": [
    {
     "data": {
      "text/plain": [
       "'l'"
      ]
     },
     "execution_count": 5,
     "metadata": {},
     "output_type": "execute_result"
    }
   ],
   "source": [
    "a=\"Hello World\"\n",
    "a[2]"
   ]
  },
  {
   "cell_type": "code",
   "execution_count": 6,
   "id": "27a012fb",
   "metadata": {},
   "outputs": [
    {
     "data": {
      "text/plain": [
       "'Hello Wo'"
      ]
     },
     "execution_count": 6,
     "metadata": {},
     "output_type": "execute_result"
    }
   ],
   "source": [
    "a=\"Hello World\"\n",
    "a[0:8]"
   ]
  },
  {
   "cell_type": "code",
   "execution_count": 7,
   "id": "77ccac00",
   "metadata": {},
   "outputs": [
    {
     "data": {
      "text/plain": [
       "'e'"
      ]
     },
     "execution_count": 7,
     "metadata": {},
     "output_type": "execute_result"
    }
   ],
   "source": [
    "a[1]"
   ]
  },
  {
   "cell_type": "code",
   "execution_count": 8,
   "id": "0a63cb2c",
   "metadata": {},
   "outputs": [
    {
     "data": {
      "text/plain": [
       "'HloWr'"
      ]
     },
     "execution_count": 8,
     "metadata": {},
     "output_type": "execute_result"
    }
   ],
   "source": [
    "a[0:9:2]"
   ]
  },
  {
   "cell_type": "code",
   "execution_count": 9,
   "id": "181fe944",
   "metadata": {},
   "outputs": [
    {
     "data": {
      "text/plain": [
       "'l'"
      ]
     },
     "execution_count": 9,
     "metadata": {},
     "output_type": "execute_result"
    }
   ],
   "source": [
    "a[2]"
   ]
  },
  {
   "cell_type": "code",
   "execution_count": 10,
   "id": "f5c968aa",
   "metadata": {},
   "outputs": [
    {
     "data": {
      "text/plain": [
       "'l'"
      ]
     },
     "execution_count": 10,
     "metadata": {},
     "output_type": "execute_result"
    }
   ],
   "source": [
    "a[3]"
   ]
  },
  {
   "cell_type": "code",
   "execution_count": 15,
   "id": "f03d29a6",
   "metadata": {},
   "outputs": [
    {
     "data": {
      "text/plain": [
       "11"
      ]
     },
     "execution_count": 15,
     "metadata": {},
     "output_type": "execute_result"
    }
   ],
   "source": [
    "a=\"Hello World\"\n",
    "a=len(a)\n",
    "a"
   ]
  },
  {
   "cell_type": "code",
   "execution_count": 18,
   "id": "29c0def1",
   "metadata": {},
   "outputs": [
    {
     "data": {
      "text/plain": [
       "'dlroW olleH'"
      ]
     },
     "execution_count": 18,
     "metadata": {},
     "output_type": "execute_result"
    }
   ],
   "source": [
    "a=\"Hello World\"\n",
    "a[-1::-1]"
   ]
  },
  {
   "cell_type": "code",
   "execution_count": 19,
   "id": "e0b646b0",
   "metadata": {},
   "outputs": [
    {
     "data": {
      "text/plain": [
       "'o'"
      ]
     },
     "execution_count": 19,
     "metadata": {},
     "output_type": "execute_result"
    }
   ],
   "source": [
    "a=\"Hello World\"\n",
    "a[4]"
   ]
  },
  {
   "cell_type": "code",
   "execution_count": 20,
   "id": "843d0d2a",
   "metadata": {},
   "outputs": [
    {
     "data": {
      "text/plain": [
       "'l'"
      ]
     },
     "execution_count": 20,
     "metadata": {},
     "output_type": "execute_result"
    }
   ],
   "source": [
    "a=\"Hello World\"\n",
    "a[3]"
   ]
  },
  {
   "cell_type": "code",
   "execution_count": 25,
   "id": "88a383a0",
   "metadata": {},
   "outputs": [
    {
     "name": "stdout",
     "output_type": "stream",
     "text": [
      "Hello World I am Ram I am from Kathmandu I am 23\n"
     ]
    }
   ],
   "source": [
    "name=\"Ram\"\n",
    "age=23\n",
    "add=\"Kathmandu\"\n",
    "info =\"Hello World I am \"+name+\" I am from \"+add+\" I am \"+str(age)\n",
    "print(info)"
   ]
  },
  {
   "cell_type": "code",
   "execution_count": null,
   "id": "076afca4",
   "metadata": {},
   "outputs": [],
   "source": [
    "name = input (\"Enter name= \")\n",
    "age= int(input(\"Enter age= \"))\n",
    "add= input(\"Enter address= \")\n",
    "info = f\"Hello world I am {name}. I am from {add}. I am {age}\"\n",
    "print(info)"
   ]
  },
  {
   "cell_type": "code",
   "execution_count": 32,
   "id": "eb77b61b",
   "metadata": {},
   "outputs": [
    {
     "name": "stdout",
     "output_type": "stream",
     "text": [
      "Enter number2\n",
      "Enter  name okok\n",
      "Enter price 400\n",
      "Enter quality 4\n",
      "Enter  name okokok\n",
      "Enter price 7000\n",
      "Enter quality 90\n",
      "all total= 631600\n",
      "okok 400 4 1600\n",
      "okokok 7000 90 630000\n",
      "\n"
     ]
    }
   ],
   "source": [
    "s=0\n",
    "bill=str()\n",
    "n=int(input(\"Enter number\"))\n",
    "for i in range(n):\n",
    "    oname = input(\"Enter  name \")\n",
    "    price = int(input(\"Enter price \"))\n",
    "    quantity = int(input(\"Enter quality \"))\n",
    "    total= price*quantity\n",
    "    bill = bill + f\"{oname} {price} {quantity} {total}\\n\"\n",
    "    s=s+total\n",
    "    \n",
    "print(\"all total=\",s)\n",
    "print(bill)\n",
    "    \n",
    "    "
   ]
  },
  {
   "cell_type": "code",
   "execution_count": 35,
   "id": "9f503987",
   "metadata": {},
   "outputs": [
    {
     "name": "stdout",
     "output_type": "stream",
     "text": [
      "Search valueHaha\n",
      "There is Haha\n",
      "1\n"
     ]
    }
   ],
   "source": [
    "a=\"Ram Bro Sam Haha Ok Akki\"\n",
    "b=input(\"Search value\")\n",
    "if b in a:\n",
    "    print(\"There is\", b)\n",
    "    print(a.count(b))\n",
    "    \n",
    "else:\n",
    "    print(\"Sorry, There is no\",b)"
   ]
  },
  {
   "cell_type": "code",
   "execution_count": 37,
   "id": "22ec9cb4",
   "metadata": {},
   "outputs": [
    {
     "name": "stdout",
     "output_type": "stream",
     "text": [
      "ram bro sam haha ok akki\n",
      "RAM BRO SAM HAHA OK AKKI\n",
      "Ram Bro Sam Haha Ok Akki\n"
     ]
    }
   ],
   "source": [
    "a=\"Ram Bro Sam Haha Ok Akki\"\n",
    "print(a.lower())\n",
    "print(a.upper())\n",
    "print(a)"
   ]
  },
  {
   "cell_type": "code",
   "execution_count": 42,
   "id": "3f1fc8b6",
   "metadata": {},
   "outputs": [
    {
     "name": "stdout",
     "output_type": "stream",
     "text": [
      "Search valuehaha\n",
      "There is haha\n",
      "There is 1 haha\n"
     ]
    }
   ],
   "source": [
    "a=\"Ram Bro Sam Haha Ok Akki\".lower()\n",
    "b=input(\"Search value\").lower()\n",
    "if b in a:\n",
    "    print(\"There is\", b)\n",
    "    print(\"There is\",a.count(b),b)\n",
    "    \n",
    "else:\n",
    "    print(\"Sorry, There is no\",b)"
   ]
  },
  {
   "cell_type": "code",
   "execution_count": 46,
   "id": "9ee746ff",
   "metadata": {},
   "outputs": [
    {
     "name": "stdout",
     "output_type": "stream",
     "text": [
      "Enter any number567\n",
      "Enter any number765\n",
      "It is palindrome\n"
     ]
    }
   ],
   "source": [
    "a=input(\"Enter any number\")\n",
    "b=input(\"Enter any number\")\n",
    "if a==b[::-1]:\n",
    "    print(\"It is palindrome\")\n",
    "else:\n",
    "    print(\"it is not palindrome\")"
   ]
  },
  {
   "cell_type": "code",
   "execution_count": 48,
   "id": "bc1303f7",
   "metadata": {},
   "outputs": [
    {
     "name": "stdout",
     "output_type": "stream",
     "text": [
      "Enter any number323\n",
      "It is palindrome\n"
     ]
    }
   ],
   "source": [
    "a=input(\"Enter any number\")\n",
    "if a==a[::-1]:\n",
    "    print(\"It is palindrome\")\n",
    "else:\n",
    "    print(\"it is not palindrome\")"
   ]
  },
  {
   "cell_type": "code",
   "execution_count": 51,
   "id": "2d183447",
   "metadata": {},
   "outputs": [
    {
     "name": "stdout",
     "output_type": "stream",
     "text": [
      "Ram Bro Sam Haha Ok Pra\n"
     ]
    }
   ],
   "source": [
    "a=\"Ram Bro Sam Haha Ok Akki\"\n",
    "a=a.replace(\"Akki\",\"Pra\")\n",
    "print(a)"
   ]
  },
  {
   "cell_type": "code",
   "execution_count": null,
   "id": "6b8ccd4c",
   "metadata": {},
   "outputs": [],
   "source": []
  }
 ],
 "metadata": {
  "kernelspec": {
   "display_name": "Python 3 (ipykernel)",
   "language": "python",
   "name": "python3"
  },
  "language_info": {
   "codemirror_mode": {
    "name": "ipython",
    "version": 3
   },
   "file_extension": ".py",
   "mimetype": "text/x-python",
   "name": "python",
   "nbconvert_exporter": "python",
   "pygments_lexer": "ipython3",
   "version": "3.9.13"
  }
 },
 "nbformat": 4,
 "nbformat_minor": 5
}
