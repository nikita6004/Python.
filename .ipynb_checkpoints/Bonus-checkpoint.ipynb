{
 "cells": [
  {
   "cell_type": "code",
   "execution_count": null,
   "id": "41aff966",
   "metadata": {},
   "outputs": [],
   "source": [
    "# Comprehensive: List, Dictionary \n"
   ]
  },
  {
   "cell_type": "code",
   "execution_count": 1,
   "id": "fbdf9572",
   "metadata": {},
   "outputs": [
    {
     "name": "stdout",
     "output_type": "stream",
     "text": [
      "[0, 1, 2, 3, 4]\n"
     ]
    }
   ],
   "source": [
    "# list\n",
    "a = [i for i in range(5)]\n",
    "print(a)"
   ]
  },
  {
   "cell_type": "code",
   "execution_count": 2,
   "id": "32182f08",
   "metadata": {},
   "outputs": [
    {
     "name": "stdout",
     "output_type": "stream",
     "text": [
      "Enter valur2\n",
      "Enter valur3\n",
      "Enter valur45\n",
      "Enter valur6\n",
      "Enter valur75\n",
      "[2, 3, 45, 6, 75]\n"
     ]
    }
   ],
   "source": [
    "#list\n",
    "a = [int(input(\"Enter value\"))for i in range(5)]\n",
    "print(a)"
   ]
  },
  {
   "cell_type": "code",
   "execution_count": 4,
   "id": "632ad1f8",
   "metadata": {},
   "outputs": [
    {
     "name": "stdout",
     "output_type": "stream",
     "text": [
      "Enter value45\n",
      "Enter value6\n",
      "Enter value7\n",
      "Enter value8\n",
      "Enter value9\n",
      "[45, 6, 7, 8, 9]\n"
     ]
    }
   ],
   "source": [
    "#list\n",
    "a = list(int(input(\"Enter value\"))for i in range(5))\n",
    "print(a)"
   ]
  },
  {
   "cell_type": "code",
   "execution_count": 6,
   "id": "9fc15d22",
   "metadata": {},
   "outputs": [
    {
     "name": "stdout",
     "output_type": "stream",
     "text": [
      "[34, 456]\n"
     ]
    }
   ],
   "source": [
    "data=[34,65,45,37,87,99,456]\n",
    "a = list(i for i in data if i %2==0)\n",
    "print(a)"
   ]
  },
  {
   "cell_type": "code",
   "execution_count": 7,
   "id": "c53f5453",
   "metadata": {},
   "outputs": [
    {
     "name": "stdout",
     "output_type": "stream",
     "text": [
      "['Apple', 'Cat', 'DOG', 'Fish']\n"
     ]
    }
   ],
   "source": [
    "data=[\"Apple\",\"ball\",\"Cat\",\"DOG\",\"Fish\"]\n",
    "a = list(i for i in data if i[0].isupper() )\n",
    "print(a)"
   ]
  },
  {
   "cell_type": "code",
   "execution_count": 9,
   "id": "88ae5de5",
   "metadata": {},
   "outputs": [
    {
     "data": {
      "text/plain": [
       "{1: 1, 2: 4, 3: 9, 4: 16, 5: 25, 6: 36, 7: 49, 8: 64, 9: 81, 10: 100}"
      ]
     },
     "execution_count": 9,
     "metadata": {},
     "output_type": "execute_result"
    }
   ],
   "source": [
    "data = {i:i**2 for i in range(1,11)}\n",
    "data"
   ]
  },
  {
   "cell_type": "code",
   "execution_count": 12,
   "id": "b4fd1c65",
   "metadata": {},
   "outputs": [
    {
     "data": {
      "text/plain": [
       "['apple', 'cat', 'dog', 'fish']"
      ]
     },
     "execution_count": 12,
     "metadata": {},
     "output_type": "execute_result"
    }
   ],
   "source": [
    "data=[\"Apple\",\"ball\",\"Cat\",\"DOG\",\"Fish\"]\n",
    "data={i:i.lower() for i in a}\n",
    "data\n",
    "list(data.values())\n"
   ]
  },
  {
   "cell_type": "code",
   "execution_count": 16,
   "id": "cf2eb44b",
   "metadata": {},
   "outputs": [
    {
     "name": "stdout",
     "output_type": "stream",
     "text": [
      "Sun Dec  4 16:58:31 2022\n"
     ]
    }
   ],
   "source": [
    "# Python date and time\n",
    "import datetime\n",
    "\n",
    "x = datetime.datetime.now()\n",
    "\n",
    "print(x.strftime(\"%c\"))"
   ]
  },
  {
   "cell_type": "code",
   "execution_count": 17,
   "id": "4a009272",
   "metadata": {},
   "outputs": [
    {
     "name": "stdout",
     "output_type": "stream",
     "text": [
      "Enter namekiki\n",
      "0:00:03.624105\n"
     ]
    }
   ],
   "source": [
    "import datetime\n",
    "\n",
    "x = datetime.datetime.now()\n",
    "name =input(\"Enter name\")\n",
    "\n",
    "y = datetime.datetime.now()\n",
    "print(y-x)"
   ]
  },
  {
   "cell_type": "code",
   "execution_count": 22,
   "id": "46395d90",
   "metadata": {},
   "outputs": [
    {
     "data": {
      "text/html": [
       "<div>\n",
       "<style scoped>\n",
       "    .dataframe tbody tr th:only-of-type {\n",
       "        vertical-align: middle;\n",
       "    }\n",
       "\n",
       "    .dataframe tbody tr th {\n",
       "        vertical-align: top;\n",
       "    }\n",
       "\n",
       "    .dataframe thead th {\n",
       "        text-align: right;\n",
       "    }\n",
       "</style>\n",
       "<table border=\"1\" class=\"dataframe\">\n",
       "  <thead>\n",
       "    <tr style=\"text-align: right;\">\n",
       "      <th></th>\n",
       "      <th>Name</th>\n",
       "      <th>Age</th>\n",
       "      <th>Address</th>\n",
       "      <th>Phone Number</th>\n",
       "    </tr>\n",
       "  </thead>\n",
       "  <tbody>\n",
       "    <tr>\n",
       "      <th>0</th>\n",
       "      <td>Nikita</td>\n",
       "      <td>24</td>\n",
       "      <td>Dhumbarahi</td>\n",
       "      <td>9860826004</td>\n",
       "    </tr>\n",
       "    <tr>\n",
       "      <th>1</th>\n",
       "      <td>Avi</td>\n",
       "      <td>26</td>\n",
       "      <td>Thimi</td>\n",
       "      <td>9841818572</td>\n",
       "    </tr>\n",
       "  </tbody>\n",
       "</table>\n",
       "</div>"
      ],
      "text/plain": [
       "     Name  Age     Address  Phone Number\n",
       "0  Nikita   24  Dhumbarahi    9860826004\n",
       "1     Avi   26       Thimi    9841818572"
      ]
     },
     "execution_count": 22,
     "metadata": {},
     "output_type": "execute_result"
    }
   ],
   "source": [
    "import pandas as pd\n",
    "df= pd.read_excel(\"Book.xlsx\")\n",
    "df"
   ]
  },
  {
   "cell_type": "code",
   "execution_count": 23,
   "id": "bb679b9c",
   "metadata": {},
   "outputs": [
    {
     "data": {
      "text/plain": [
       "['.git',\n",
       " '.ipynb_checkpoints',\n",
       " 'bill.txt',\n",
       " 'Bonus.ipynb',\n",
       " 'Book.xlsx',\n",
       " 'books.csv',\n",
       " 'Class1(Variables and operator).ipynb',\n",
       " 'Class10 (Set).ipynb',\n",
       " 'Class11(File).ipynb',\n",
       " 'Class12(pandas).ipynb',\n",
       " 'Class13 Database(MYSQL).ipynb',\n",
       " 'Class14(OOP).ipynb',\n",
       " 'Class15(OOP-Inheritance, Encapsulation).ipynb',\n",
       " 'Class16(Web Scrapping).ipynb',\n",
       " 'Class2(if else... nested if).ipynb',\n",
       " 'Class3(loop).ipynb',\n",
       " 'Class4(While and Control Statement).ipynb',\n",
       " 'Class5(Functions).ipynb',\n",
       " 'Class6(String).ipynb',\n",
       " 'Class7(List).ipynb',\n",
       " 'Class8(Tuple).ipynb',\n",
       " 'Class9(Dictionary).ipynb',\n",
       " 'covid_data.csv',\n",
       " 'data.csv',\n",
       " 'data.txt',\n",
       " 'list_data.csv',\n",
       " 'new_data.csv',\n",
       " 'Python.docx',\n",
       " '~$Book.xlsx']"
      ]
     },
     "execution_count": 23,
     "metadata": {},
     "output_type": "execute_result"
    }
   ],
   "source": [
    "import os\n",
    "os.listdir()"
   ]
  },
  {
   "cell_type": "code",
   "execution_count": 24,
   "id": "9d991d04",
   "metadata": {},
   "outputs": [],
   "source": [
    "os.mkdir(\"New Folder\")"
   ]
  },
  {
   "cell_type": "code",
   "execution_count": null,
   "id": "5a6c201c",
   "metadata": {
    "collapsed": true
   },
   "outputs": [],
   "source": []
  }
 ],
 "metadata": {
  "kernelspec": {
   "display_name": "Python 3 (ipykernel)",
   "language": "python",
   "name": "python3"
  },
  "language_info": {
   "codemirror_mode": {
    "name": "ipython",
    "version": 3
   },
   "file_extension": ".py",
   "mimetype": "text/x-python",
   "name": "python",
   "nbconvert_exporter": "python",
   "pygments_lexer": "ipython3",
   "version": "3.9.13"
  }
 },
 "nbformat": 4,
 "nbformat_minor": 5
}
