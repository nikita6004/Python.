{
 "cells": [
  {
   "cell_type": "code",
   "execution_count": 1,
   "id": "686ac0a0",
   "metadata": {},
   "outputs": [
    {
     "name": "stdout",
     "output_type": "stream",
     "text": [
      "Hello World\n"
     ]
    }
   ],
   "source": [
    "class hello:\n",
    "    print(\"Hello World\")\n",
    "\n",
    "obj = Hello()    "
   ]
  },
  {
   "cell_type": "code",
   "execution_count": 3,
   "id": "7bb58aad",
   "metadata": {},
   "outputs": [
    {
     "name": "stdout",
     "output_type": "stream",
     "text": [
      "Hello World\n"
     ]
    }
   ],
   "source": [
    "class Hello:\n",
    "    def hello(a):\n",
    "        print(\"Hello World\")\n",
    "        \n",
    "obj = Hello()\n",
    "obj.hello()"
   ]
  },
  {
   "cell_type": "code",
   "execution_count": 3,
   "id": "689f2256",
   "metadata": {},
   "outputs": [
    {
     "name": "stdout",
     "output_type": "stream",
     "text": [
      "Hello World\n"
     ]
    }
   ],
   "source": [
    "class Hello:\n",
    "    @staticmethod\n",
    "    def hello():\n",
    "        print(\"Hello World\")\n",
    "        \n",
    "obj = Hello()\n",
    "obj.hello()"
   ]
  },
  {
   "cell_type": "code",
   "execution_count": 7,
   "id": "8decc77f",
   "metadata": {},
   "outputs": [
    {
     "name": "stdout",
     "output_type": "stream",
     "text": [
      "Hello World\n"
     ]
    }
   ],
   "source": [
    "class Hello:\n",
    "    def hello(self):\n",
    "        print(\"Hello World\")\n",
    "        \n",
    "obj = Hello()\n",
    "obj.hello()"
   ]
  },
  {
   "cell_type": "code",
   "execution_count": 10,
   "id": "d6dd5071",
   "metadata": {},
   "outputs": [
    {
     "name": "stdout",
     "output_type": "stream",
     "text": [
      "20\n"
     ]
    }
   ],
   "source": [
    "class Cal:\n",
    "    def area(self):\n",
    "        l=10\n",
    "        b=2\n",
    "        a=l*b\n",
    "        print(a)\n",
    "        \n",
    "        \n",
    "obj=Cal()\n",
    "obj.area()"
   ]
  },
  {
   "cell_type": "code",
   "execution_count": 11,
   "id": "16add6c5",
   "metadata": {},
   "outputs": [
    {
     "name": "stdout",
     "output_type": "stream",
     "text": [
      "20\n",
      "100\n"
     ]
    }
   ],
   "source": [
    "class Cal:\n",
    "    def area(self):\n",
    "        l=10\n",
    "        b=2\n",
    "        a=l*b\n",
    "        print(a)\n",
    "    def volume(self):\n",
    "        l=10\n",
    "        h=5\n",
    "        b=2\n",
    "        v=l*b*h\n",
    "        print(v)\n",
    "        \n",
    "               \n",
    "obj=Cal()\n",
    "obj.area()\n",
    "obj.volume()"
   ]
  },
  {
   "cell_type": "code",
   "execution_count": 14,
   "id": "e43cec44",
   "metadata": {},
   "outputs": [
    {
     "name": "stdout",
     "output_type": "stream",
     "text": [
      "Enter the value of l6\n",
      "Enter the value of b5\n",
      "Enter the value of h4\n",
      "Area is  30\n",
      "Volume is  120\n"
     ]
    }
   ],
   "source": [
    "class Cal:\n",
    "    def area(self,l,b):\n",
    "        a=l*b\n",
    "        print(\"Area is \", a)\n",
    "    def volume(self,l,b,h):\n",
    "        v=l*b*h\n",
    "        print(\"Volume is \",v)\n",
    "        \n",
    "l = int(input(\"Enter the value of l\"))  \n",
    "b= int(input(\"Enter the value of b\"))\n",
    "h= int(input(\"Enter the value of h\"))\n",
    "obj=Cal()\n",
    "obj.area(l,b)\n",
    "obj.volume(l,b,h)"
   ]
  },
  {
   "cell_type": "code",
   "execution_count": 15,
   "id": "aedfa1f2",
   "metadata": {},
   "outputs": [
    {
     "name": "stdout",
     "output_type": "stream",
     "text": [
      "Enter the value of l78\n",
      "Enter the value of b32\n",
      "Enter the value of h66\n",
      "Area is  2496\n",
      "Volume is  164736\n"
     ]
    }
   ],
   "source": [
    "class Area:\n",
    "    def area(self,l,b):\n",
    "        a=l*b\n",
    "        print(\"Area is \", a)\n",
    "class Volume:\n",
    "    def volume(self,l,b,h):\n",
    "        v=l*b*h\n",
    "        print(\"Volume is \",v)\n",
    "        \n",
    "l = int(input(\"Enter the value of l\"))  \n",
    "b= int(input(\"Enter the value of b\"))\n",
    "h= int(input(\"Enter the value of h\"))\n",
    "obj1=Area()\n",
    "obj2=Volume()\n",
    "obj1.area(l,b)\n",
    "obj2.volume(l,b,h)"
   ]
  },
  {
   "cell_type": "code",
   "execution_count": 5,
   "id": "2b58b2e2",
   "metadata": {},
   "outputs": [
    {
     "name": "stdout",
     "output_type": "stream",
     "text": [
      "Enter the value of l 40\n",
      "Enter the value of b 90\n",
      "Enter the value of h 29\n",
      "Area is  3600\n",
      "Volume is  104400\n"
     ]
    }
   ],
   "source": [
    "class Cal:\n",
    "    def __init__(self,l,b,h): #double underscore\n",
    "        self.x=l\n",
    "        self.y=b\n",
    "        self.z=h\n",
    "    def area(sel):\n",
    "        a=sel.x*sel.y\n",
    "        print(\"Area is \", a)\n",
    "    def volume(yyy):\n",
    "        v=yyy.x*yyy.y*yyy.z\n",
    "        print(\"Volume is \",v)\n",
    "        \n",
    "l = int(input(\"Enter the value of l \"))  \n",
    "b= int(input(\"Enter the value of b \"))\n",
    "h= int(input(\"Enter the value of h \"))\n",
    "obj=Cal(l,b,h)\n",
    "obj.area()\n",
    "obj.volume()"
   ]
  },
  {
   "cell_type": "code",
   "execution_count": 9,
   "id": "7699af2a",
   "metadata": {},
   "outputs": [
    {
     "name": "stdout",
     "output_type": "stream",
     "text": [
      "Enter the value of l 4\n",
      "Enter the value of b 5\n",
      "Enter the value of h 6\n",
      "Area is  20\n",
      "Volume is  120\n"
     ]
    }
   ],
   "source": [
    "class Cal:\n",
    "    def __init__(self,l,b,h): #double underscore\n",
    "        self.x=l\n",
    "        self.y=b\n",
    "        self.z=h\n",
    "    @staticmethod\n",
    "    def area(l,b):\n",
    "        a=l*b\n",
    "        print(\"Area is \", a)\n",
    "    @staticmethod\n",
    "    def volume(l,b,h):\n",
    "        v=l*b*h\n",
    "        print(\"Volume is \",v)\n",
    "        \n",
    "l = int(input(\"Enter the value of l \"))  \n",
    "b= int(input(\"Enter the value of b \"))\n",
    "h= int(input(\"Enter the value of h \"))\n",
    "obj=Cal(l,b,h)\n",
    "obj.area(l,b)\n",
    "obj.volume(l,b,h)"
   ]
  },
  {
   "cell_type": "code",
   "execution_count": 13,
   "id": "e99583e9",
   "metadata": {},
   "outputs": [
    {
     "name": "stdout",
     "output_type": "stream",
     "text": [
      "Enter name Yumi\n",
      "Enter age 67\n",
      "Enter address Bara\n",
      "Hello world I am Yumi. I am from Bara.I am 67years old\n"
     ]
    }
   ],
   "source": [
    "class Info:\n",
    "    def __init__(self,name,age,add):\n",
    "        self.name=name\n",
    "        self.age=age\n",
    "        self.add=add\n",
    "    def info (self):\n",
    "        return f\"Hello world I am {self.name}. I am from {self.add}.I am {self.age}years old\"\n",
    "    \n",
    "name=input(\"Enter name \")\n",
    "age=int(input(\"Enter age \"))\n",
    "add=input(\"Enter address \")\n",
    "    \n",
    "obj = Info(name,age,add)\n",
    "print(obj.info())\n",
    "obj.name\n",
    "obj.age\n",
    "obj.add"
   ]
  },
  {
   "cell_type": "code",
   "execution_count": null,
   "id": "5b90b5a5",
   "metadata": {},
   "outputs": [],
   "source": []
  }
 ],
 "metadata": {
  "kernelspec": {
   "display_name": "Python 3 (ipykernel)",
   "language": "python",
   "name": "python3"
  },
  "language_info": {
   "codemirror_mode": {
    "name": "ipython",
    "version": 3
   },
   "file_extension": ".py",
   "mimetype": "text/x-python",
   "name": "python",
   "nbconvert_exporter": "python",
   "pygments_lexer": "ipython3",
   "version": "3.9.13"
  }
 },
 "nbformat": 4,
 "nbformat_minor": 5
}
