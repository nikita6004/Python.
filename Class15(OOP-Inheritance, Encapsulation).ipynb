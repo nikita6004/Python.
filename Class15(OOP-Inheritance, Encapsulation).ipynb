{
 "cells": [
  {
   "cell_type": "code",
   "execution_count": null,
   "id": "1b67fc4f",
   "metadata": {},
   "outputs": [],
   "source": [
    "# class A:\n",
    "    \n",
    "# class B(A):\n",
    "    \n",
    "# obj = B()\n",
    "\n"
   ]
  },
  {
   "cell_type": "code",
   "execution_count": 2,
   "id": "f72eab60",
   "metadata": {},
   "outputs": [
    {
     "name": "stdout",
     "output_type": "stream",
     "text": [
      "Enter name Apple\n",
      "Enter age 87\n",
      "Enter address Pokhara\n",
      "Hello world I am Apple. I am from Pokhara. I am 87\n"
     ]
    }
   ],
   "source": [
    "class Info:\n",
    "    def __init__(self):\n",
    "        self.name=input(\"Enter name \")\n",
    "        self.age=int(input(\"Enter age \"))\n",
    "        self.add=input(\"Enter address \")\n",
    "    \n",
    "class Data(Info):\n",
    "    def data(self):\n",
    "        print(f\"Hello world I am {self.name}. I am from {self.add}. I am {self.age}\")\n",
    "\n",
    "obj=Data()\n",
    "obj.data()"
   ]
  },
  {
   "cell_type": "code",
   "execution_count": 1,
   "id": "8ea2a7e8",
   "metadata": {},
   "outputs": [
    {
     "name": "stdout",
     "output_type": "stream",
     "text": [
      "Enter name Bun\n",
      "Enter age 17\n",
      "Enter address Bara\n",
      "Hello world I am Bun. I am from Bara. I am 17\n"
     ]
    }
   ],
   "source": [
    "class Info:\n",
    "    def __init__(self,name,age,add):\n",
    "        self.name=name\n",
    "        self.age=age\n",
    "        self.add=add\n",
    "       \n",
    "    \n",
    "class Data(Info):\n",
    "    def data(self):\n",
    "        print(f\"Hello world I am {self.name}. I am from {self.add}. I am {self.age}\")\n",
    "        \n",
    "\n",
    "name=input(\"Enter name \")\n",
    "age=int(input(\"Enter age \"))\n",
    "add=input(\"Enter address \")\n",
    "obj=Data(name,age,add)\n",
    "obj.data()"
   ]
  },
  {
   "cell_type": "code",
   "execution_count": 2,
   "id": "65d41da1",
   "metadata": {},
   "outputs": [
    {
     "name": "stdout",
     "output_type": "stream",
     "text": [
      "Enter name Potato\n",
      "Enter age 19\n",
      "Enter address Kathmandu\n",
      "Hello world I am Potato. I am from Kathmandu. I am 19\n"
     ]
    }
   ],
   "source": [
    "class Info:\n",
    "    def __init__(self,age,add):\n",
    "        self.age=age\n",
    "        self.add=add\n",
    "    def info(self):\n",
    "        print(self.age,self.add)\n",
    "       \n",
    "    \n",
    "class Data(Info):\n",
    "    def __init__(self,name,age,add):\n",
    "        self.name=name\n",
    "        Info.__init__(self,age,add)\n",
    "        \n",
    "        \n",
    "    def data(self):\n",
    "        print(f\"Hello world I am {self.name}. I am from {self.add}. I am {self.age}\")\n",
    "        \n",
    "\n",
    "name=input(\"Enter name \")\n",
    "age=int(input(\"Enter age \"))\n",
    "add=input(\"Enter address \")\n",
    "\n",
    "obj=Data(name,age,add)\n",
    "obj.data()"
   ]
  },
  {
   "cell_type": "code",
   "execution_count": 3,
   "id": "e62fce90",
   "metadata": {},
   "outputs": [],
   "source": [
    "# class A:\n",
    "#     pass\n",
    "# class B(A):\n",
    "#     pass\n",
    "# class C(B):\n",
    "#     pass\n",
    "# obj = C()"
   ]
  },
  {
   "cell_type": "code",
   "execution_count": null,
   "id": "55df31a4",
   "metadata": {},
   "outputs": [],
   "source": [
    "# class A:\n",
    "#     pass\n",
    "# class B:\n",
    "#     pass\n",
    "# class C(A,B):\n",
    "#     pass\n",
    "# obj = C()\n"
   ]
  },
  {
   "cell_type": "code",
   "execution_count": 6,
   "id": "a5aa27cd",
   "metadata": {},
   "outputs": [
    {
     "name": "stdout",
     "output_type": "stream",
     "text": [
      "Enter name Yumi\n",
      "Enter age 17\n",
      "Enter address USA\n",
      "Hello world I am Yumi. I am from USA. I am 17\n"
     ]
    }
   ],
   "source": [
    "class Add:\n",
    "    def __init__(self,add):\n",
    "        self.add=add\n",
    "\n",
    "class Age:\n",
    "    def __init__(self,age):\n",
    "        self.age=age  \n",
    "        Add.__init__(self,add)\n",
    "    \n",
    "class Data(Age):\n",
    "    def __init__(self,name,age,add):\n",
    "        self.name=name\n",
    "        Age.__init__(self,age)\n",
    "        \n",
    "        \n",
    "    def data(self):\n",
    "        print(f\"Hello world I am {self.name}. I am from {self.add}. I am {self.age}\")\n",
    "        \n",
    "\n",
    "name=input(\"Enter name \")\n",
    "age=int(input(\"Enter age \"))\n",
    "add=input(\"Enter address \")\n",
    "\n",
    "obj=Data(name,age,add)\n",
    "obj.data()"
   ]
  },
  {
   "cell_type": "code",
   "execution_count": 7,
   "id": "0f1188e0",
   "metadata": {},
   "outputs": [
    {
     "name": "stdout",
     "output_type": "stream",
     "text": [
      "Enter name Ram\n",
      "Enter age 99\n",
      "Enter address Janakpur\n",
      "Hello world I am Ram. I am from Janakpur. I am 99\n"
     ]
    }
   ],
   "source": [
    "class Add:\n",
    "    def __init__(self,add):\n",
    "        self.add=add\n",
    "    def add(self):\n",
    "        print(self.add)\n",
    "\n",
    "class Age:\n",
    "    def __init__(self,age):\n",
    "        self.age=age  \n",
    "    def age(self):\n",
    "        print(self.age)\n",
    "    \n",
    "class Data(Add, Age):\n",
    "    def __init__(self,name,age,add):\n",
    "        self.name=name\n",
    "        Age.__init__(self,age)\n",
    "        Add.__init__(self,add)\n",
    "        \n",
    "        \n",
    "    def data(self):\n",
    "        print(f\"Hello world I am {self.name}. I am from {self.add}. I am {self.age}\")\n",
    "        \n",
    "\n",
    "name=input(\"Enter name \")\n",
    "age=int(input(\"Enter age \"))\n",
    "add=input(\"Enter address \")\n",
    "\n",
    "obj=Data(name,age,add)\n",
    "obj.data()\n",
    "print(obj.name,obj.age,obj.add)"
   ]
  },
  {
   "cell_type": "code",
   "execution_count": 8,
   "id": "910f4ee6",
   "metadata": {},
   "outputs": [
    {
     "name": "stdout",
     "output_type": "stream",
     "text": [
      "Ram\n",
      "99\n",
      "Janakpur\n"
     ]
    }
   ],
   "source": [
    "# Public members\n",
    "class Info:\n",
    "    def __init__(self,name,age,add):\n",
    "        self.name=\"Ram\"\n",
    "        self.age=24\n",
    "        self.add=\"Bara\"\n",
    "obj=Info()       \n",
    "print(obj.name)\n",
    "print(obj.age)\n",
    "print(obj.add)"
   ]
  },
  {
   "cell_type": "code",
   "execution_count": 3,
   "id": "8bdd489c",
   "metadata": {},
   "outputs": [
    {
     "ename": "AttributeError",
     "evalue": "'Info' object has no attribute '_name'",
     "output_type": "error",
     "traceback": [
      "\u001b[1;31m---------------------------------------------------------------------------\u001b[0m",
      "\u001b[1;31mAttributeError\u001b[0m                            Traceback (most recent call last)",
      "\u001b[1;32m~\\AppData\\Local\\Temp\\ipykernel_14764\\56696907.py\u001b[0m in \u001b[0;36m<module>\u001b[1;34m\u001b[0m\n\u001b[0;32m      6\u001b[0m         \u001b[0mself\u001b[0m\u001b[1;33m.\u001b[0m\u001b[0m_add\u001b[0m\u001b[1;33m=\u001b[0m\u001b[1;34m\"Bara\"\u001b[0m\u001b[1;33m\u001b[0m\u001b[1;33m\u001b[0m\u001b[0m\n\u001b[0;32m      7\u001b[0m \u001b[0mobj\u001b[0m\u001b[1;33m=\u001b[0m\u001b[0mInfo\u001b[0m\u001b[1;33m(\u001b[0m\u001b[1;33m)\u001b[0m\u001b[1;33m\u001b[0m\u001b[1;33m\u001b[0m\u001b[0m\n\u001b[1;32m----> 8\u001b[1;33m \u001b[0mprint\u001b[0m\u001b[1;33m(\u001b[0m\u001b[0mobj\u001b[0m\u001b[1;33m.\u001b[0m\u001b[0m_name\u001b[0m\u001b[1;33m)\u001b[0m\u001b[1;33m\u001b[0m\u001b[1;33m\u001b[0m\u001b[0m\n\u001b[0m\u001b[0;32m      9\u001b[0m \u001b[0mprint\u001b[0m\u001b[1;33m(\u001b[0m\u001b[0mobj\u001b[0m\u001b[1;33m.\u001b[0m\u001b[0m_age\u001b[0m\u001b[1;33m)\u001b[0m\u001b[1;33m\u001b[0m\u001b[1;33m\u001b[0m\u001b[0m\n\u001b[0;32m     10\u001b[0m \u001b[0mprint\u001b[0m\u001b[1;33m(\u001b[0m\u001b[0mobj\u001b[0m\u001b[1;33m.\u001b[0m\u001b[0m_add\u001b[0m\u001b[1;33m)\u001b[0m\u001b[1;33m\u001b[0m\u001b[1;33m\u001b[0m\u001b[0m\n",
      "\u001b[1;31mAttributeError\u001b[0m: 'Info' object has no attribute '_name'"
     ]
    }
   ],
   "source": [
    "# Protected members\n",
    "class Info:\n",
    "    def __init__(self):\n",
    "        self._name=\"Ram\"\n",
    "        self._age=24\n",
    "        self._add=\"Bara\"\n",
    "obj=Info()        \n",
    "print(obj.name)\n",
    "print(obj.age)\n",
    "print(obj.add)"
   ]
  },
  {
   "cell_type": "code",
   "execution_count": null,
   "id": "15ba762c",
   "metadata": {},
   "outputs": [],
   "source": [
    "# Private members\n",
    "class Info:\n",
    "    def __init__(self,name,age,add):\n",
    "        self.__name=\"Ram\"\n",
    "        self.__age=24\n",
    "        self.__add=\"Bara\"\n",
    "        \n",
    "print(obj.name)\n",
    "print(obj.age)\n",
    "print(obj.add)"
   ]
  },
  {
   "cell_type": "code",
   "execution_count": 3,
   "id": "1d0a1158",
   "metadata": {},
   "outputs": [
    {
     "name": "stdout",
     "output_type": "stream",
     "text": [
      "Enter name Nikita \n",
      "Enter age 24\n",
      "Enter address Bara\n",
      "Hello world I am Nikita . I am from Bara\n",
      "Hello world I am Nikita . I am from Bara. I am 24 years old\n"
     ]
    }
   ],
   "source": [
    "# protected & private\n",
    "class Info:\n",
    "    def __init__(self,name,age,add):\n",
    "        self.name=name\n",
    "        self.__age=age #private\n",
    "        self._add=add #protected\n",
    "    def info(self):\n",
    "        print(f\"Hello world I am {self.name}. I am from {self._add}. I am {self.__age} years old\")\n",
    "       \n",
    "    \n",
    "class Data(Info):\n",
    "    def data(self):\n",
    "        print(f\"Hello world I am {self.name}. I am from {self._add}\")\n",
    "        \n",
    "\n",
    "name=input(\"Enter name \")\n",
    "age=int(input(\"Enter age \"))\n",
    "add=input(\"Enter address \")\n",
    "obj=Data(name,age,add)\n",
    "obj.data()\n",
    "obj.info()"
   ]
  },
  {
   "cell_type": "code",
   "execution_count": 5,
   "id": "b9c9022e",
   "metadata": {},
   "outputs": [
    {
     "name": "stdout",
     "output_type": "stream",
     "text": [
      "Enter name Nikita\n",
      "Enter age 34\n",
      "Enter address Bhaktapur\n",
      "Hello world I am Nikita\n",
      "Nikita\n"
     ]
    }
   ],
   "source": [
    "class Add:\n",
    "    def __init__(self,add):\n",
    "        self.__add=add\n",
    "    def add(self):\n",
    "        print(self.__add)\n",
    "\n",
    "class Age:\n",
    "    def __init__(self,age):\n",
    "        self.__age=age  \n",
    "    def age(self):\n",
    "        print(self.age)\n",
    "    \n",
    "class Data(Add, Age):\n",
    "    def __init__(self,name,age,add):\n",
    "        self.name=name\n",
    "        Age.__init__(self,age)\n",
    "        Add.__init__(self,add)\n",
    "        \n",
    "        \n",
    "    def data(self):\n",
    "        print(f\"Hello world I am {self.name}\")\n",
    "        \n",
    "\n",
    "name=input(\"Enter name \")\n",
    "age=int(input(\"Enter age \"))\n",
    "add=input(\"Enter address \")\n",
    "\n",
    "obj=Data(name,age,add)\n",
    "obj.data()\n",
    "print(obj.name)"
   ]
  },
  {
   "cell_type": "code",
   "execution_count": 6,
   "id": "4d9aa1aa",
   "metadata": {},
   "outputs": [
    {
     "name": "stdout",
     "output_type": "stream",
     "text": [
      "Enter name Nikita\n",
      "Enter age 24\n",
      "Enter address Bara\n",
      "Hello world I am Nikita. I am from Bara. I am 24\n",
      "24 Bara\n"
     ]
    }
   ],
   "source": [
    "class Info:\n",
    "    def __init__(self,age,add):\n",
    "        self.age=age\n",
    "        self.add=add\n",
    "    def info(self):\n",
    "        print(self.age,self.add)\n",
    "       \n",
    "    \n",
    "class Data(Info):\n",
    "    def __init__(self,name,age,add):\n",
    "        self.name=name\n",
    "        Info.__init__(self,age,add)\n",
    "        \n",
    "        \n",
    "    def data(self):\n",
    "        print(f\"Hello world I am {self.name}. I am from {self.add}. I am {self.age}\")\n",
    "        super().info()\n",
    "        \n",
    "\n",
    "name=input(\"Enter name \")\n",
    "age=int(input(\"Enter age \"))\n",
    "add=input(\"Enter address \")\n",
    "\n",
    "obj=Data(name,age,add)\n",
    "obj.data()"
   ]
  },
  {
   "cell_type": "code",
   "execution_count": 11,
   "id": "42ee6742",
   "metadata": {},
   "outputs": [
    {
     "name": "stdout",
     "output_type": "stream",
     "text": [
      "<class '__main__.Info'>\n",
      "Ram\n"
     ]
    }
   ],
   "source": [
    "#str method\n",
    "class Info:\n",
    "    def __init__(self,name,age,add):\n",
    "        self.name=\"Ram\"\n",
    "        self.age=24\n",
    "        self.add=\"Bara\"\n",
    "    def __str__(self):\n",
    "        return self.name\n",
    "    \n",
    "obj=Info(name,age,add)       \n",
    "print(type(obj))\n",
    "print(obj)"
   ]
  },
  {
   "cell_type": "code",
   "execution_count": null,
   "id": "868bc349",
   "metadata": {},
   "outputs": [],
   "source": [
    "\n"
   ]
  }
 ],
 "metadata": {
  "kernelspec": {
   "display_name": "Python 3 (ipykernel)",
   "language": "python",
   "name": "python3"
  },
  "language_info": {
   "codemirror_mode": {
    "name": "ipython",
    "version": 3
   },
   "file_extension": ".py",
   "mimetype": "text/x-python",
   "name": "python",
   "nbconvert_exporter": "python",
   "pygments_lexer": "ipython3",
   "version": "3.9.13"
  }
 },
 "nbformat": 4,
 "nbformat_minor": 5
}
