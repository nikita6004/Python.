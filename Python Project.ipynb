{
 "cells": [
  {
   "cell_type": "code",
   "execution_count": 1,
   "id": "eb2a88fb",
   "metadata": {},
   "outputs": [
    {
     "name": "stderr",
     "output_type": "stream",
     "text": [
      "C:\\Users\\Nikita Uprety\\anaconda3\\lib\\site-packages\\bs4\\__init__.py:404: MarkupResemblesLocatorWarning: The input looks more like a URL than markup. You may want to use an HTTP client like requests to get the document behind the URL, and feed that document to Beautiful Soup.\n",
      "  warnings.warn(\n"
     ]
    },
    {
     "data": {
      "text/plain": [
       "<Response [200]>"
      ]
     },
     "execution_count": 1,
     "metadata": {},
     "output_type": "execute_result"
    }
   ],
   "source": [
    "# Web scraping of mero lagani\n",
    "from bs4 import BeautifulSoup\n",
    "import requests\n",
    "url = BeautifulSoup(\"https://merolagani.com/LatestMarket.aspx\", 'html.parser')\n",
    "raw_code = requests.get(url)\n",
    "raw_code"
   ]
  },
  {
   "cell_type": "code",
   "execution_count": 2,
   "id": "427e0484",
   "metadata": {},
   "outputs": [
    {
     "data": {
      "text/plain": [
       "<!DOCTYPE html>\n",
       "<html xmlns=\"http://www.w3.org/1999/xhtml\">\n",
       "<head><meta charset=\"utf-8\"/><meta content=\"IE=edge\" http-equiv=\"X-UA-Compatible\"/><meta content=\"width=device-width, initial-scale=1\" name=\"viewport\"/><title>\n",
       "\tmerolagani - Nepal Stock Exchange (NEPSE) Live Trading Data, Live Floorsheet, Live Indices, Top Gainers, Top Losers\n",
       "</title><link href=\"/bundles/css/main200?v=XBmv3Nbj66DV6lzAxQCBgaIOrn903Diuut8lsSb3n9k1\" rel=\"stylesheet\"/>\n",
       "<link href=\"/bundles/css/site205?v=XfpTpb13QleC-1jczI-2fcsVnZZwOVdhr5NbHe2WGYI1\" rel=\"stylesheet\"/>\n",
       "<link href=\"/Content/Services.css\" rel=\"stylesheet\"/>\n",
       "<link href=\"/Content/owl.carousel.min.css\" rel=\"stylesheet\"/>\n",
       "<link href=\"/Content/lightslider/css/lightslider.css\" rel=\"stylesheet\"/>\n",
       "<script src=\"/scripts/jquery/jquery-1.11.0.min.js\"></script>\n",
       "<script src=\"/scripts/jquery/jquery-ui.js\"></script>\n",
       "<script src=\"/Content/lightslider/js/lightslider.js\"></script>\n",
       "<!--[if lt IE 9]>\n",
       "      <script src=\"https://oss.maxcdn.com/html5shiv/3.7.2/html5shiv.min.js\"></script>\n",
       "      <script src=\"https://oss.maxcdn.com/respond/1.4.2/respond.min.js\"></script>\n",
       "    <![endif]-->\n",
       "<!--[if IE 7]>\n",
       "      <link rel=\"stylesheet\" href=\"path/to/font-awesome/css/font-awesome-ie7.min.css\" />\n",
       "    <![endif]-->\n",
       "<script id=\"_webengage_script_tag\" type=\"text/javascript\">\n",
       "\n",
       "        var webengage; !function (w, e, b, n, g) {\n",
       "            function o(e, t) {\n",
       "                e[t[t.length - 1]] = function () {\n",
       "                    r.__queue.push([t.join(\".\"),\n",
       "                        arguments])\n",
       "                }\n",
       "            } var i, s, r = w[b], z = \" \", l = \"init options track screen onReady\".split(z), a = \"feedback survey notification\".split(z), c = \"options render clear abort\".split(z), p = \"Open Close Submit Complete View Click\".split(z), u = \"identify login logout setAttribute\".split(z); if (!r || !r.__v) { for (w[b] = r = { __queue: [], __v: \"6.0\", user: {} }, i = 0; i < l.length; i++)o(r, [l[i]]); for (i = 0; i < a.length; i++) { for (r[a[i]] = {}, s = 0; s < c.length; s++)o(r[a[i]], [a[i], c[s]]); for (s = 0; s < p.length; s++)o(r[a[i]], [a[i], \"on\" + p[s]]) } for (i = 0; i < u.length; i++)o(r.user, [\"user\", u[i]]); setTimeout(function () { var f = e.createElement(\"script\"), d = e.getElementById(\"_webengage_script_tag\"); f.type = \"text/javascript\", f.async = !0, f.src = (\"https:\" == e.location.protocol ? \"https://ssl.widgets.webengage.com\" : \"http://cdn.widgets.webengage.com\") + \"/js/webengage-min-v-6.0.js\", d.parentNode.insertBefore(f, d) }) }\n",
       "        }(window, document, \"webengage\"); webengage.init(\"58add309\");\n",
       "    </script>\n",
       "<style>\n",
       "         #live-trading .table-responsive {\n",
       "            max-height: 1000px;\n",
       "\t         overflow: auto;\n",
       "        }\n",
       "        #live-trading .table-responsive table thead {\n",
       "            position: sticky;\n",
       "            top: 0;\n",
       "            background: #fff;\n",
       "        }\n",
       "\t</style>\n",
       "<meta content=\"View today's Nepal Stock Exchange NEPSE Live Trading. market, datas,  latest trades, gainers, losers,  LTP, last traded price, LTV, last traded volume, turnover\" name=\"description\"/></head>\n",
       "<body>\n",
       "<!-- Go to www.addthis.com/dashboard to customize your tools -->\n",
       "<script async=\"async\" src=\"//s7.addthis.com/js/300/addthis_widget.js#pubid=ra-545b25ce40103429\" type=\"text/javascript\"></script>\n",
       "<div class=\"popup-wrapper\">\n",
       "<div class=\"popup\">\n",
       "<div class=\"popup-body\">\n",
       "<div class=\"popup-image\">\n",
       "<img alt=\"merolagani logo\" class=\"float-left\" height=\"45\" src=\"Content/images/brand-logo.png\" width=\"100\"/>\n",
       "</div>\n",
       "<div class=\"popup-desc\">\n",
       "<span class=\"float-right\">We'd like to send you notifications for the latest news and updates.</span>\n",
       "</div>\n",
       "</div>\n",
       "<div class=\"popup-footer\">\n",
       "<button class=\"btn btn-sm btn-link\" onclick=\"AlertNotification.updateRequestExpiryDate();$('.popup').hide();\">No Thanks</button>\n",
       "<button class=\"btn btn-sm btn-primary allow-btn\" onclick=\"AlertNotification.requestNotification();$('.popup').hide();\">Allow</button>\n",
       "</div>\n",
       "</div>\n",
       "</div>\n",
       "<form action=\"./LatestMarket.aspx\" id=\"aspnetForm\" method=\"post\">\n",
       "<input id=\"__VIEWSTATE\" name=\"__VIEWSTATE\" type=\"hidden\" value=\"SdgUciFqlUcYYPXvvBa/NEDXt7ruO5WswXFuWOkV8wGctIL9A0eNsvVPiP1GRQ/mXlxBJYP2pJD8112VBxjIgUQTz+NylVNMwMTomRsPD7c=\"/>\n",
       "<script src=\"/ScriptResource.axd?d=NJmAwtEo3Ipnlaxl6CMhvipoe7GwaCubeHW4UfRJaQMYfe2vWimaAfUruL3Jtc4RZThytRvxUyO6d2j9jojy_JqJ8YoxAw6iCsm-JPqTwJfdJvJSxEeEFIbBEXpHYYtCgxTm4YOpj1K-gzjpPimOUKDDL-_Y3e26hQI4FR_aAxo1&amp;t=ffffffffecf19baa\" type=\"text/javascript\"></script>\n",
       "<input id=\"__VIEWSTATEGENERATOR\" name=\"__VIEWSTATEGENERATOR\" type=\"hidden\" value=\"65951B37\"/>\n",
       "<input id=\"__EVENTVALIDATION\" name=\"__EVENTVALIDATION\" type=\"hidden\" value=\"9g5LoqfCmOx2vi0rjsVzVa/L1vrjrzbUy0piETOmf7OKVw+jYyqqlkmYN2hmXDc9peFjx8PxT8domnc4cF/HSPopUGCftjqSaCAuTI5Kwy/AZ24KA+auzOUo8dn2GH3C/ROK+KeJkGe7YDazZasjIT9BYeG29ciPUq2juifA1VKiz0tUiUJDTa1HHyh8pEbIE6daBOnudH9tAu1nY2L4DO3RCp0EAcualCHQgSDf8WzZ/zW21bXNAt81UCIQBDaWKA2sbypgAsc6IzBSfMpOVyKwUGH+/9djHgPz6VOqCZs=\"/>\n",
       "<div>\n",
       "<div class=\"visible-mobile-ad\">\n",
       "</div>\n",
       "<div class=\"topbar\">\n",
       "<div class=\"container\">\n",
       "<div class=\"row\">\n",
       "<div class=\"col-lg-13\">\n",
       "<p class=\"date-topbar pull-left hidden-sm hidden-xs\">Sun, Jan 29, 2023</p>\n",
       "<ul class=\"list-inline list-topbar pull-right\">\n",
       "<li><i class=\"icon-envelope\"></i>support@asteriskt.com</li>\n",
       "<li><i class=\"icon-phone\"></i>(+977) 01-5315101/5315184</li>\n",
       "<li><i class=\"icon-mobile-phone\"></i>9801000860</li>\n",
       "<li>\n",
       "<a class=\"btn btn-primary btn-xs act-btn\" href=\"javascript:__doPostBack('ctl00$btnEn','')\" id=\"ctl00_btnEn\" onclick=\"javascript: window.open('https://eng.merolagani.com');\" title=\"English Version\">\n",
       "<span class=\"glyphicon glyphicon-one-fine-white-dot\">ENGLISH</span></a>\n",
       "</li>\n",
       "<li id=\"ctl00_liFreeAccount\" style=\"display: none\">\n",
       "<a class=\"btn btn-primary btn-xs\" href=\"/FreeUserRegistration.aspx\">Create Free Account</a>\n",
       "</li>\n",
       "<li>\n",
       "<div class=\"btn-group\">\n",
       "<button class=\"btn btn-success btn-xs dropdown-toggle\" data-toggle=\"dropdown\" tabindex=\"-1\" type=\"button\">\n",
       "                                            Help <span class=\"icon-angle-down\"></span>\n",
       "</button>\n",
       "<ul class=\"dropdown-menu\" role=\"menu\">\n",
       "<!--<li>\n",
       "                                                <a href=\"/Uploads/Help.pdf\">PDF</a>\n",
       "                                            </li>-->\n",
       "<li>\n",
       "<a href=\"/VideoTutorials.aspx\">Video Tutorials</a>\n",
       "</li>\n",
       "</ul>\n",
       "</div>\n",
       "</li>\n",
       "<li class=\"mobile-d-none\">\n",
       "<a href=\"/AboutUs.aspx\">About Us</a>\n",
       "</li>\n",
       "<li class=\"mobile-d-none\">\n",
       "<a href=\"/ContactUs.aspx\">Contact Us</a>\n",
       "</li>\n",
       "<li class=\"mobile-d-none\">\n",
       "<a href=\"/BankAccounts.aspx\">Bank Accounts</a>\n",
       "</li>\n",
       "<li id=\"ctl00_liLogout\" style=\"display: none\">\n",
       "<a href=\"/Logout.aspx\" onclick=\"webEngageLogout();\">Log Out</a>\n",
       "</li>\n",
       "</ul>\n",
       "</div>\n",
       "</div>\n",
       "</div>\n",
       "</div>\n",
       "<div class=\"visible-desktop-ad\">\n",
       "<div class=\"slot-A9\">\n",
       "</div>\n",
       "</div>\n",
       "<div class=\"logobar\">\n",
       "<div class=\"container\">\n",
       "<div class=\"row\">\n",
       "<div class=\"visible-mobile-ad\">\n",
       "</div>\n",
       "</div>\n",
       "<div class=\"row\">\n",
       "<div class=\"col-xs-6 col-md-4 col-sm-4\">\n",
       "<a href=\"/Index.aspx\">\n",
       "<img class=\"img-responsive\" src=\"/Content/images/merolagani.png\"/></a>\n",
       "</div>\n",
       "<div class=\"visible-desktop-ad ear-panel\" id=\"ctl00_divA1Ads\">\n",
       "<div id=\"ctl00_A1_divAdvertisement\">\n",
       "<div class=\"col-sm-8\" id=\"ctl00_A1_divA1\">\n",
       "<a href=\"https://merolagani.com/Services.aspx\" onclick=\"addAdvHitCounter.UpdateAdvHitCounter('585',this)\" target=\"_blank\">\n",
       "<img class=\"img-responsive\" src=\"https://images.merolagani.com//content/adverts/53f9e1f4-59de-4cd5-9ae0-c98a139a0068.gif\"/>\n",
       "</a>\n",
       "</div>\n",
       "</div>\n",
       "</div>\n",
       "</div>\n",
       "</div>\n",
       "</div>\n",
       "<div class=\"visible-mobile-ad\">\n",
       "</div>\n",
       "<nav class=\"navbar navbar-inverse\" data-offset-top=\"197\" data-spy=\"affix\">\n",
       "<div class=\"container\">\n",
       "<div class=\"navbar-header\">\n",
       "<button class=\"navbar-toggle collapsed\" data-target=\"#navbar\" data-toggle=\"collapse\" type=\"button\">\n",
       "<span class=\"sr-only\">Toggle navigation</span>\n",
       "<span class=\"icon-bar\"></span>\n",
       "<span class=\"icon-bar\"></span>\n",
       "<span class=\"icon-bar\"></span>\n",
       "</button>\n",
       "<div class=\"navbar-brand visible-xs\">\n",
       "<ul>\n",
       "<li>\n",
       "<div class=\"form-inline home-panel-search\">\n",
       "<autosuggest>\n",
       "<input id=\"ctl00_ASCompany_hdnAutoSuggest\" name=\"ctl00$ASCompany$hdnAutoSuggest\" type=\"hidden\" value=\"0\"/>\n",
       "<input autocomplete=\"off\" class=\"form-control form-control-inline\" data-bound=\"0\" id=\"ctl00_ASCompany_txtAutoSuggest\" maxlength=\"255\" name=\"ctl00$ASCompany$txtAutoSuggest\" onblur=\"\" onkeypress='AutoSuggest.getAutoSuggestDataByElement(\"Company\",this);' onkeyup=\"AutoSuggest.clearValue(event,this);\" placeholder=\"Company name or symbol\" tabindex=\"-1\" title=\"Type company name or stock symbol\" type=\"text\"/>\n",
       "<span class=\"pull-right verify-position\" id=\"username-verify\"></span>\n",
       "</autosuggest>\n",
       "<a class=\"btn btn-primary home-button-search\" data-trigger=\"company-detail\" href=\"javascript:__doPostBack('ctl00$lbtnSearchHeader','')\" id=\"ctl00_lbtnSearchHeader\" onclick=\"return false;\" tabindex=\"-1\" title=\"Search Company Detail\"><span class=\"icon-search\"></span></a>\n",
       "</div>\n",
       "</li>\n",
       "</ul>\n",
       "</div>\n",
       "</div>\n",
       "<div class=\"collapse navbar-collapse\" id=\"navbar\">\n",
       "<ul class=\"nav navbar-nav\">\n",
       "<li class=\"\">\n",
       "<a href=\"/Index.aspx\">\n",
       "<span class=\"icon-home icon-2x\" style=\"line-height: 20px\"></span>\n",
       "</a>\n",
       "</li>\n",
       "<li class=\"dropdown active\">\n",
       "<a class=\"dropdown-toggle\" data-toggle=\"dropdown\" href=\"#\" title=\"Market\">Market <b class=\"icon-angle-down\"></b></a>\n",
       "<ul class=\"dropdown-menu\">\n",
       "<li class=\"active\">\n",
       "<a href=\"/LatestMarket.aspx\">Live Trading</a>\n",
       "</li>\n",
       "<li class=\"\">\n",
       "<a href=\"/StockQuote.aspx\">Todays Shareprice</a>\n",
       "</li>\n",
       "<li class=\"\">\n",
       "<a href=\"/Floorsheet.aspx\">Floorsheet</a>\n",
       "</li>\n",
       "<li class=\"\">\n",
       "<a href=\"/Indices.aspx\">Indices</a>\n",
       "</li>\n",
       "<li class=\"\">\n",
       "<a href=\"/MarketSummary.aspx\">Market Overview</a>\n",
       "</li>\n",
       "<li class=\"divider\"></li>\n",
       "<li class=\"dropdown-header\">Market Summary</li>\n",
       "<li class=\"\">\n",
       "<a href=\"/MarketSummary.aspx?type=gainers\">Top Gainers</a>\n",
       "</li>\n",
       "<li class=\"\">\n",
       "<a href=\"/MarketSummary.aspx?type=losers\">Top Losers</a>\n",
       "</li>\n",
       "<li class=\"\">\n",
       "<a href=\"/MarketSummary.aspx?type=turnovers\">Top Turnovers</a>\n",
       "</li>\n",
       "<li class=\"\">\n",
       "<a href=\"/MarketSummary.aspx?type=sectors\">Top Sectors</a>\n",
       "</li>\n",
       "<li class=\"divider\"></li>\n",
       "<li class=\"\">\n",
       "<a href=\"/#StockEvents\" onclick=\"LayoutMaster_ClientID.TrackEvent_OnStockEvent();\">Stock Events</a>\n",
       "</li>\n",
       "<li class=\"\">\n",
       "<a href=\"/#divOpportunity\">Tender &amp; Auction</a>\n",
       "</li>\n",
       "</ul>\n",
       "</li>\n",
       "<li class=\"dropdown\">\n",
       "<a class=\"dropdown-toggle\" data-toggle=\"dropdown\" href=\"#\" title=\"Market\">News <b class=\"icon-angle-down\"></b></a>\n",
       "<ul class=\"dropdown-menu\">\n",
       "<li class=\"\">\n",
       "<a href=\"/NewsList.aspx\">News</a>\n",
       "</li>\n",
       "<li class=\"divider\"></li>\n",
       "<li class=\"dropdown-header\">News Category</li>\n",
       "<li class=\"\">\n",
       "<a href=\"/NewsList.aspx?id=13&amp;type=latest\">Insurance</a>\n",
       "</li>\n",
       "<li class=\"\">\n",
       "<a href=\"/NewsList.aspx?id=25&amp;type=latest\">Current Affairs</a>\n",
       "</li>\n",
       "<li class=\"\">\n",
       "<a href=\"/NewsList.aspx?id=23&amp;type=latestY\">IT/Auto</a>\n",
       "</li>\n",
       "<li class=\"\">\n",
       "<a href=\"/NewsList.aspx?id=15&amp;type=latest\">Technical Analysis</a>\n",
       "</li>\n",
       "<li class=\"\">\n",
       "<a href=\"/NewsList.aspx?id=10&amp;type=latest\">Opinion &amp; Analysis</a>\n",
       "</li>\n",
       "<li class=\"\">\n",
       "<a href=\"/NewsList.aspx?id=12&amp;type=latest\">International</a>\n",
       "</li>\n",
       "</ul>\n",
       "</li>\n",
       "<li class=\"\">\n",
       "<a href=\"/AnnouncementList.aspx\">Announcements</a>\n",
       "</li>\n",
       "<li class=\"dropdown\">\n",
       "<a class=\"dropdown-toggle\" data-toggle=\"dropdown\" href=\"#\" title=\"Market\">Reports <b class=\"icon-angle-down\"></b></a>\n",
       "<ul class=\"dropdown-menu\">\n",
       "<li class=\"\">\n",
       "<a href=\"/CompanyReports.aspx?type=ANNUAL\">Annual Report</a>\n",
       "</li>\n",
       "<li class=\"\">\n",
       "<a href=\"/CompanyReports.aspx?type=QUARTERLY\">Quarterly Report</a>\n",
       "</li>\n",
       "<li class=\"\">\n",
       "<a href=\"/BrokerList.aspx\">Brokers</a>\n",
       "</li>\n",
       "</ul>\n",
       "</li>\n",
       "<li class=\"dropdown\">\n",
       "<a class=\"dropdown-toggle\" data-toggle=\"dropdown\" href=\"#\">Portfolio <b class=\"icon-angle-down\"></b></a>\n",
       "<ul class=\"dropdown-menu\">\n",
       "<li class=\"\">\n",
       "<a href=\"/MyPortfolio.aspx\">My Portfolio</a>\n",
       "</li>\n",
       "<li class=\"\">\n",
       "<a class=\"\" href=\"/Newsletter.aspx\">Newsletter <span class=\"badge-info\"><span class=\"glyphicon glyphicon-flag blink\" style=\"color: #edaa4e\"></span></span></a>\n",
       "</li>\n",
       "<li class=\"\">\n",
       "<a class=\"\" href=\"/TechnicalData.aspx\">Technical Data <span class=\"badge-info\"><span class=\"glyphicon glyphicon-flag blink\" style=\"color: #edaa4e\"></span></span></a>\n",
       "</li>\n",
       "<li class=\"\">\n",
       "<a class=\"\" href=\"/Podcast.aspx\">Podcast <span class=\"badge-info\"><span class=\"glyphicon glyphicon-flag blink\" style=\"color: #edaa4e\"></span></span></a>\n",
       "</li><li class=\"\">\n",
       "<a class=\"\" href=\"/StockTrainingPodcast.aspx\">Online Stock Training <span class=\"badge-info\"><span class=\"glyphicon glyphicon-flag blink\" style=\"color: #edaa4e\"></span></span></a>\n",
       "</li>\n",
       "</ul>\n",
       "</li>\n",
       "<li class=\"dropdown\">\n",
       "<a class=\"dropdown-toggle\" data-toggle=\"dropdown\" href=\"#\">IPO <b class=\"icon-angle-down\"></b></a>\n",
       "<ul class=\"dropdown-menu\">\n",
       "<li class=\"\">\n",
       "<a href=\"/IpoResult.aspx\">IPO Results</a>\n",
       "</li>\n",
       "<li class=\"\">\n",
       "<a href=\"/Ipo.aspx?type=upcoming\">Upcoming IPO</a>\n",
       "</li>\n",
       "<li class=\"\">\n",
       "<a href=\"/Ipo.aspx?type=past\">Past IPO</a>\n",
       "</li>\n",
       "</ul>\n",
       "</li>\n",
       "<li class=\"\">\n",
       "<a href=\"/Services.aspx\">Services</a>\n",
       "</li>\n",
       "<li class=\"\">\n",
       "<a href=\"/Dashboard.aspx\">Dashboard <span class=\"blink label label-warning\">New</span> </a>\n",
       "</li>\n",
       "</ul>\n",
       "<ul class=\"nav navbar-nav navbar-right\">\n",
       "<!-- Service purchased and pending cart start -->\n",
       "<li class=\"\">\n",
       "<a href=\"/ServicePurchased.aspx\">\n",
       "<span class=\"glyphicon glyphicon-shopping-cart\"></span>\n",
       "</a>\n",
       "</li>\n",
       "<!-- Service purchased and pending cart start -->\n",
       "<li class=\"dropdown search-form\" style=\"display: none;\">\n",
       "<a class=\"dropdown-toggle\" data-toggle=\"dropdown\" href=\"javascript:void(0);\">\n",
       "<span>Search...</span> <i class=\"icon-search\"></i>\n",
       "<span class=\"hidden-sm\"></span>\n",
       "</a>\n",
       "<ul class=\"dropdown-menu\">\n",
       "<li>\n",
       "<input class=\"form-control form-control-inline\" data-news=\"company-detail\" id=\"ctl00_txtNews\" maxlength=\"255\" name=\"ctl00$txtNews\" placeholder=\"News keyword\" style=\"width: 280px\" tabindex=\"-1\" title=\"Enter search keywords\" type=\"text\"/>\n",
       "<br/>\n",
       "<a class=\"btn btn-primary\" href=\"javascript:__doPostBack('ctl00$aa','')\" id=\"ctl00_aa\" onclick=\"return LayoutMaster_ClientID.trackEvent_OnNavSearch();\" style=\"margin-top: 6px\" tabindex=\"-1\" title=\"Search\"><span class=\"icon-search\"></span> Search</a>\n",
       "</li>\n",
       "</ul>\n",
       "</li>\n",
       "<li>\n",
       "<div class=\"form-inline home-panel-search\" id=\"ctl00_Panel1\">\n",
       "<autosuggest>\n",
       "<input id=\"ctl00_AutoSuggest1_hdnAutoSuggest\" name=\"ctl00$AutoSuggest1$hdnAutoSuggest\" type=\"hidden\" value=\"0\"/>\n",
       "<input autocomplete=\"off\" class=\"form-control form-control-inline\" data-bound=\"0\" id=\"ctl00_AutoSuggest1_txtAutoSuggest\" maxlength=\"255\" name=\"ctl00$AutoSuggest1$txtAutoSuggest\" onblur=\"\" onkeypress='AutoSuggest.getAutoSuggestDataByElement(\"Company\",this);' onkeyup=\"AutoSuggest.clearValue(event,this);\" placeholder=\"Company name or symbol\" tabindex=\"-1\" title=\"Type company name or stock symbol\" type=\"text\"/>\n",
       "<span class=\"pull-right verify-position\" id=\"username-verify\"></span>\n",
       "</autosuggest>\n",
       "<a class=\"btn btn-primary home-button-search\" data-trigger=\"company-detail\" href=\"javascript:__doPostBack('ctl00$lbtnSearch','')\" id=\"ctl00_lbtnSearch\" onclick=\"return LayoutMaster_ClientID.trackEvent_OnNavSearch();\" tabindex=\"-1\" title=\"Search\"><span class=\"icon-search\"></span></a>\n",
       "</div>\n",
       "</li>\n",
       "<li id=\"ctl00_liLogin\" style=\"display: none\">\n",
       "<a href=\"/Login.aspx\">\n",
       "<span class=\"icon-user\"></span>\n",
       "<span class=\"hidden-sm\">Log In</span>\n",
       "</a>\n",
       "</li>\n",
       "<li class=\"dropdown\" id=\"ctl00_liUser\" style=\"display: none\">\n",
       "<a class=\"dropdown-toggle\" data-toggle=\"dropdown\" href=\"javascript:void(0);\">\n",
       "<span class=\"icon-user\"></span>\n",
       "<label class=\"hidden-md\" id=\"ctl00_lblUsername\"></label>\n",
       "                                     <i class=\"icon-angle-down\"></i>\n",
       "</a>\n",
       "<ul class=\"dropdown-menu\">\n",
       "<li>\n",
       "<a href=\"/EditAccount.aspx?type=ea\">Edit Account</a>\n",
       "</li>\n",
       "<li>\n",
       "<a href=\"/EditAccount.aspx?type=pw\">Change Password</a>\n",
       "</li>\n",
       "<li>\n",
       "<a href=\"/EditAccount.aspx?type=vm\">Verify Mobile</a>\n",
       "</li>\n",
       "<li>\n",
       "<a href=\"/EditAccount.aspx?type=pi\">Change Pin Code</a>\n",
       "</li>\n",
       "<li class=\"divider\"></li>\n",
       "<li><a href=\"/Logout.aspx\" onclick=\"webEngageLogout();\">Log Out</a></li>\n",
       "</ul>\n",
       "</li>\n",
       "</ul>\n",
       "</div>\n",
       "</div>\n",
       "</nav>\n",
       "</div>\n",
       "<div class=\"container\">\n",
       "<div class=\"page-alert\" id=\"page-alert\"></div>\n",
       "<div id=\"processing\"></div>\n",
       "<div class=\"visible-mobile-ad\">\n",
       "</div>\n",
       "<div class=\"row visible-xs\">\n",
       "<div class=\"col-lg-12\">\n",
       "<div class=\"well well-sm well-nav\">\n",
       "<ul class=\"nav nav-pills nav-stacked\">\n",
       "<li>\n",
       "<a href=\"javascript:void(0);\" onclick=\"scrollToDiv('index-slider');\">Indices &amp; Sub-Indices</a>\n",
       "</li>\n",
       "<li>\n",
       "<a href=\"javascript:void(0);\" onclick=\"scrollToDiv('live-trading');\">Latest Stock Quotes</a>\n",
       "</li>\n",
       "<li>\n",
       "<a href=\"javascript:void(0);\" onclick=\"scrollToDiv('gainers');\">Gainers</a>\n",
       "</li>\n",
       "<li>\n",
       "<a href=\"javascript:void(0);\" onclick=\"scrollToDiv('losers');\">Losers</a>\n",
       "</li>\n",
       "</ul>\n",
       "</div>\n",
       "</div>\n",
       "</div>\n",
       "<div class=\"visible-desktop-ad\">\n",
       "</div>\n",
       "<div class=\"visible-mobile-ad\">\n",
       "</div>\n",
       "<div class=\"row\">\n",
       "<div class=\"col-lg-12\">\n",
       "<ul data-live=\"index-slider\" id=\"index-slider\"></ul>\n",
       "</div>\n",
       "</div>\n",
       "<div class=\"row\">\n",
       "<div class=\"col-md-8\">\n",
       "<div class=\"googleAds center-block\">\n",
       "<script async=\"async\" src=\"//pagead2.googlesyndication.com/pagead/js/adsbygoogle.js\"></script>\n",
       "<ins class=\"adsbygoogle\" data-ad-client=\"ca-pub-0564188802048050\" data-ad-slot=\"6132000347\" style=\"display: inline-block; height: 90px; max-width: 100%; width: 100%;\"></ins>\n",
       "<script>\n",
       "                    (adsbygoogle = window.adsbygoogle || []).push({});\n",
       "                </script>\n",
       "</div>\n",
       "<div class=\"visible-desktop-ad\">\n",
       "</div>\n",
       "<div class=\"visible-mobile-ad\">\n",
       "</div>\n",
       "<div class=\"row\" id=\"live-trading\">\n",
       "<div class=\"col-lg-12\">\n",
       "<h4 class=\"page-header\">\n",
       "<span>Live Trading</span>\n",
       "</h4>\n",
       "<div class=\"date-label\">\n",
       "<span class=\"label label-default\" id=\"live-trading-label-1\"></span>\n",
       "<a class=\"btn btn-primary btn-xs pull-right\" href=\"/TempWatchlist.aspx\">Go to your Watchlist →</a>\n",
       "</div>\n",
       "<div class=\"table-responsive\" id=\"ctl00_ContentPlaceHolder1_LiveTrading\">\n",
       "<table class=\"table table-hover live-trading sortable\" data-live=\"live-trading\" data-live-label=\"#live-trading-label-1\" width=\"100%\">\n",
       "<thead><tr><th><span>Symbol</span></th><th><span>LTP</span></th><th nowrap=\"\"><span>% Change</span></th><th><span>Open</span></th><th><span>High</span></th><th><span>Low</span></th><th><span>Qty.</span></th><th><span>PClose</span></th><th><span>Diff.</span></th><th></th><th></th></tr></thead><tbody>\n",
       "<tr class=\"decrease-row\"><td><a href=\"/CompanyDetail.aspx?symbol=ACLBSL\" target=\"_blank\" title=\"ACLBSL (Aarambha Chautari Laghubitta Bittiya Sanstha Limited)\">ACLBSL</a></td><td class=\"text-right\">833.00</td><td class=\"text-right\">-0.95</td><td class=\"text-right\">854.00</td><td class=\"text-right\">824.20</td><td class=\"text-right\">854.00</td><td class=\"text-right\">1,126</td><td><a href=\"javascript:void(0);\" onclick='addToWatchlist(\"ACLBSL\");' title=\"Add to Watchlist\"><i class=\"icon-tags icon-white\"></i></a></td><td><a href=\"javascript:void(0);\" onclick='setAlert(\"ACLBSL\");' title=\"Set as Alert\"><i class=\"icon-bell icon-white\"></i></a></td></tr>\n",
       "<tr class=\"decrease-row\"><td><a href=\"/CompanyDetail.aspx?symbol=ADBL\" target=\"_blank\" title=\"ADBL (Agriculture Development Bank Limited)\">ADBL</a></td><td class=\"text-right\">305.10</td><td class=\"text-right\">-0.94</td><td class=\"text-right\">310.00</td><td class=\"text-right\">305.10</td><td class=\"text-right\">308.00</td><td class=\"text-right\">37,956</td><td><a href=\"javascript:void(0);\" onclick='addToWatchlist(\"ADBL\");' title=\"Add to Watchlist\"><i class=\"icon-tags icon-white\"></i></a></td><td><a href=\"javascript:void(0);\" onclick='setAlert(\"ADBL\");' title=\"Set as Alert\"><i class=\"icon-bell icon-white\"></i></a></td></tr>\n",
       "<tr class=\"increase-row\"><td><a href=\"/CompanyDetail.aspx?symbol=ADBLD83\" target=\"_blank\" title=\"ADBLD83 (10.35% Agricultural Bank Debenture 2083)\">ADBLD83</a></td><td class=\"text-right\">890.00</td><td class=\"text-right\">0.45</td><td class=\"text-right\">890.00</td><td class=\"text-right\">890.00</td><td class=\"text-right\">890.00</td><td class=\"text-right\">10</td><td><a href=\"javascript:void(0);\" onclick='addToWatchlist(\"ADBLD83\");' title=\"Add to Watchlist\"><i class=\"icon-tags icon-white\"></i></a></td><td><a href=\"javascript:void(0);\" onclick='setAlert(\"ADBLD83\");' title=\"Set as Alert\"><i class=\"icon-bell icon-white\"></i></a></td></tr>\n",
       "<tr class=\"increase-row\"><td><a href=\"/CompanyDetail.aspx?symbol=ADLB\" target=\"_blank\" title=\"ADLB ( Adarsha Laghubitta Bittiya Sanstha Limited)\">ADLB</a></td><td class=\"text-right\">1,317.60</td><td class=\"text-right\">9.99</td><td class=\"text-right\">1,317.60</td><td class=\"text-right\">1,221.80</td><td class=\"text-right\">1,221.80</td><td class=\"text-right\">90</td><td><a href=\"javascript:void(0);\" onclick='addToWatchlist(\"ADLB\");' title=\"Add to Watchlist\"><i class=\"icon-tags icon-white\"></i></a></td><td><a href=\"javascript:void(0);\" onclick='setAlert(\"ADLB\");' title=\"Set as Alert\"><i class=\"icon-bell icon-white\"></i></a></td></tr>\n",
       "<tr class=\"decrease-row\"><td><a href=\"/CompanyDetail.aspx?symbol=AHPC\" target=\"_blank\" title=\"AHPC (Arun Valley Hydropower Development Co. Ltd.)\">AHPC</a></td><td class=\"text-right\">344.00</td><td class=\"text-right\">-1.99</td><td class=\"text-right\">352.00</td><td class=\"text-right\">340.00</td><td class=\"text-right\">344.00</td><td class=\"text-right\">84,498</td><td><a href=\"javascript:void(0);\" onclick='addToWatchlist(\"AHPC\");' title=\"Add to Watchlist\"><i class=\"icon-tags icon-white\"></i></a></td><td><a href=\"javascript:void(0);\" onclick='setAlert(\"AHPC\");' title=\"Set as Alert\"><i class=\"icon-bell icon-white\"></i></a></td></tr>\n",
       "<tr class=\"decrease-row\"><td><a href=\"/CompanyDetail.aspx?symbol=AIL\" target=\"_blank\" title=\"AIL (AJOD Insurance Limited)\">AIL</a></td><td class=\"text-right\">523.00</td><td class=\"text-right\">-2.24</td><td class=\"text-right\">544.00</td><td class=\"text-right\">511.00</td><td class=\"text-right\">524.30</td><td class=\"text-right\">17,050</td><td><a href=\"javascript:void(0);\" onclick='addToWatchlist(\"AIL\");' title=\"Add to Watchlist\"><i class=\"icon-tags icon-white\"></i></a></td><td><a href=\"javascript:void(0);\" onclick='setAlert(\"AIL\");' title=\"Set as Alert\"><i class=\"icon-bell icon-white\"></i></a></td></tr>\n",
       "<tr class=\"decrease-row\"><td><a href=\"/CompanyDetail.aspx?symbol=AKBSL\" target=\"_blank\" title=\"AKBSL (Adhikhola Laghubitta Bittiya Sanstha Limited)\">AKBSL</a></td><td class=\"text-right\">1,277.00</td><td class=\"text-right\">-1.94</td><td class=\"text-right\">1,300.00</td><td class=\"text-right\">1,277.00</td><td class=\"text-right\">1,280.00</td><td class=\"text-right\">1,002</td><td><a href=\"javascript:void(0);\" onclick='addToWatchlist(\"AKBSL\");' title=\"Add to Watchlist\"><i class=\"icon-tags icon-white\"></i></a></td><td><a href=\"javascript:void(0);\" onclick='setAlert(\"AKBSL\");' title=\"Set as Alert\"><i class=\"icon-bell icon-white\"></i></a></td></tr>\n",
       "<tr class=\"increase-row\"><td><a href=\"/CompanyDetail.aspx?symbol=AKJCL\" target=\"_blank\" title=\"AKJCL (Ankhu Khola Jalvidhyut Company Ltd)\">AKJCL</a></td><td class=\"text-right\">253.00</td><td class=\"text-right\">1.2</td><td class=\"text-right\">258.00</td><td class=\"text-right\">246.00</td><td class=\"text-right\">247.00</td><td class=\"text-right\">269,117</td><td><a href=\"javascript:void(0);\" onclick='addToWatchlist(\"AKJCL\");' title=\"Add to Watchlist\"><i class=\"icon-tags icon-white\"></i></a></td><td><a href=\"javascript:void(0);\" onclick='setAlert(\"AKJCL\");' title=\"Set as Alert\"><i class=\"icon-bell icon-white\"></i></a></td></tr>\n",
       "<tr class=\"decrease-row\"><td><a href=\"/CompanyDetail.aspx?symbol=AKPL\" target=\"_blank\" title=\"AKPL (Arun Kabeli Power Ltd.)\">AKPL</a></td><td class=\"text-right\">420.00</td><td class=\"text-right\">-1.64</td><td class=\"text-right\">428.00</td><td class=\"text-right\">416.30</td><td class=\"text-right\">423.00</td><td class=\"text-right\">76,745</td><td><a href=\"javascript:void(0);\" onclick='addToWatchlist(\"AKPL\");' title=\"Add to Watchlist\"><i class=\"icon-tags icon-white\"></i></a></td><td><a href=\"javascript:void(0);\" onclick='setAlert(\"AKPL\");' title=\"Set as Alert\"><i class=\"icon-bell icon-white\"></i></a></td></tr>\n",
       "<tr class=\"decrease-row\"><td><a href=\"/CompanyDetail.aspx?symbol=ALBSL\" target=\"_blank\" title=\"ALBSL (Asha Laghubitta Bittiya Sanstha Limited)\">ALBSL</a></td><td class=\"text-right\">1,037.00</td><td class=\"text-right\">-0.77</td><td class=\"text-right\">1,040.00</td><td class=\"text-right\">1,003.70</td><td class=\"text-right\">1,024.10</td><td class=\"text-right\">1,474</td><td><a href=\"javascript:void(0);\" onclick='addToWatchlist(\"ALBSL\");' title=\"Add to Watchlist\"><i class=\"icon-tags icon-white\"></i></a></td><td><a href=\"javascript:void(0);\" onclick='setAlert(\"ALBSL\");' title=\"Set as Alert\"><i class=\"icon-bell icon-white\"></i></a></td></tr>\n",
       "<tr class=\"decrease-row\"><td><a href=\"/CompanyDetail.aspx?symbol=ALICL\" target=\"_blank\" title=\"ALICL (Asian Life Insurance Co. Limited)\">ALICL</a></td><td class=\"text-right\">705.00</td><td class=\"text-right\">-0.7</td><td class=\"text-right\">722.00</td><td class=\"text-right\">696.00</td><td class=\"text-right\">696.00</td><td class=\"text-right\">42,877</td><td><a href=\"javascript:void(0);\" onclick='addToWatchlist(\"ALICL\");' title=\"Add to Watchlist\"><i class=\"icon-tags icon-white\"></i></a></td><td><a href=\"javascript:void(0);\" onclick='setAlert(\"ALICL\");' title=\"Set as Alert\"><i class=\"icon-bell icon-white\"></i></a></td></tr>\n",
       "<tr class=\"decrease-row\"><td><a href=\"/CompanyDetail.aspx?symbol=API\" target=\"_blank\" title=\"API (Api Power Company Ltd.)\">API</a></td><td class=\"text-right\">291.00</td><td class=\"text-right\">-1.02</td><td class=\"text-right\">297.00</td><td class=\"text-right\">286.00</td><td class=\"text-right\">289.00</td><td class=\"text-right\">189,275</td><td><a href=\"javascript:void(0);\" onclick='addToWatchlist(\"API\");' title=\"Add to Watchlist\"><i class=\"icon-tags icon-white\"></i></a></td><td><a href=\"javascript:void(0);\" onclick='setAlert(\"API\");' title=\"Set as Alert\"><i class=\"icon-bell icon-white\"></i></a></td></tr>\n",
       "<tr class=\"decrease-row\"><td><a href=\"/CompanyDetail.aspx?symbol=AVYAN\" target=\"_blank\" title=\"AVYAN (Aviyan Laghubitta Bittiya Sanstha Limited)\">AVYAN</a></td><td class=\"text-right\">740.00</td><td class=\"text-right\">-0.74</td><td class=\"text-right\">760.00</td><td class=\"text-right\">733.80</td><td class=\"text-right\">745.50</td><td class=\"text-right\">4,200</td><td><a href=\"javascript:void(0);\" onclick='addToWatchlist(\"AVYAN\");' title=\"Add to Watchlist\"><i class=\"icon-tags icon-white\"></i></a></td><td><a href=\"javascript:void(0);\" onclick='setAlert(\"AVYAN\");' title=\"Set as Alert\"><i class=\"icon-bell icon-white\"></i></a></td></tr>\n",
       "<tr class=\"decrease-row\"><td><a href=\"/CompanyDetail.aspx?symbol=BARUN\" target=\"_blank\" title=\"BARUN (Barun Hydropower Co. Ltd.)\">BARUN</a></td><td class=\"text-right\">278.90</td><td class=\"text-right\">-0.04</td><td class=\"text-right\">284.00</td><td class=\"text-right\">270.10</td><td class=\"text-right\">284.00</td><td class=\"text-right\">39,512</td><td><a href=\"javascript:void(0);\" onclick='addToWatchlist(\"BARUN\");' title=\"Add to Watchlist\"><i class=\"icon-tags icon-white\"></i></a></td><td><a href=\"javascript:void(0);\" onclick='setAlert(\"BARUN\");' title=\"Set as Alert\"><i class=\"icon-bell icon-white\"></i></a></td></tr>\n",
       "<tr class=\"decrease-row\"><td><a href=\"/CompanyDetail.aspx?symbol=BBC\" target=\"_blank\" title=\"BBC (Bishal Bazar Company Limited)\">BBC</a></td><td class=\"text-right\">3,450.00</td><td class=\"text-right\">-1.29</td><td class=\"text-right\">3,565.00</td><td class=\"text-right\">3,431.00</td><td class=\"text-right\">3,431.00</td><td class=\"text-right\">215</td><td><a href=\"javascript:void(0);\" onclick='addToWatchlist(\"BBC\");' title=\"Add to Watchlist\"><i class=\"icon-tags icon-white\"></i></a></td><td><a href=\"javascript:void(0);\" onclick='setAlert(\"BBC\");' title=\"Set as Alert\"><i class=\"icon-bell icon-white\"></i></a></td></tr>\n",
       "<tr class=\"decrease-row\"><td><a href=\"/CompanyDetail.aspx?symbol=BFC\" target=\"_blank\" title=\"BFC (Best Finance Company Ltd.)\">BFC</a></td><td class=\"text-right\">358.00</td><td class=\"text-right\">-1.62</td><td class=\"text-right\">365.00</td><td class=\"text-right\">354.00</td><td class=\"text-right\">363.00</td><td class=\"text-right\">16,455</td><td><a href=\"javascript:void(0);\" onclick='addToWatchlist(\"BFC\");' title=\"Add to Watchlist\"><i class=\"icon-tags icon-white\"></i></a></td><td><a href=\"javascript:void(0);\" onclick='setAlert(\"BFC\");' title=\"Set as Alert\"><i class=\"icon-bell icon-white\"></i></a></td></tr>\n",
       "<tr class=\"increase-row\"><td><a href=\"/CompanyDetail.aspx?symbol=BHDC\" target=\"_blank\" title=\"BHDC (Bindyabasini Hydropower Development Company Limited)\">BHDC</a></td><td class=\"text-right\">415.20</td><td class=\"text-right\">2.01</td><td class=\"text-right\">426.00</td><td class=\"text-right\">398.90</td><td class=\"text-right\">407.00</td><td class=\"text-right\">12,097</td><td><a href=\"javascript:void(0);\" onclick='addToWatchlist(\"BHDC\");' title=\"Add to Watchlist\"><i class=\"icon-tags icon-white\"></i></a></td><td><a href=\"javascript:void(0);\" onclick='setAlert(\"BHDC\");' title=\"Set as Alert\"><i class=\"icon-bell icon-white\"></i></a></td></tr>\n",
       "<tr class=\"decrease-row\"><td><a href=\"/CompanyDetail.aspx?symbol=BHL\" target=\"_blank\" title=\"BHL (Balephi Hydropower Limited)\">BHL</a></td><td class=\"text-right\">357.10</td><td class=\"text-right\">-2.96</td><td class=\"text-right\">367.90</td><td class=\"text-right\">346.60</td><td class=\"text-right\">360.70</td><td class=\"text-right\">25,831</td><td><a href=\"javascript:void(0);\" onclick='addToWatchlist(\"BHL\");' title=\"Add to Watchlist\"><i class=\"icon-tags icon-white\"></i></a></td><td><a href=\"javascript:void(0);\" onclick='setAlert(\"BHL\");' title=\"Set as Alert\"><i class=\"icon-bell icon-white\"></i></a></td></tr>\n",
       "<tr class=\"increase-row\"><td><a href=\"/CompanyDetail.aspx?symbol=BHPL\" target=\"_blank\" title=\"BHPL (Barahi Hydropower Public Limited)\">BHPL</a></td><td class=\"text-right\">534.80</td><td class=\"text-right\">10</td><td class=\"text-right\">534.80</td><td class=\"text-right\">487.00</td><td class=\"text-right\">495.90</td><td class=\"text-right\">21,198</td><td><a href=\"javascript:void(0);\" onclick='addToWatchlist(\"BHPL\");' title=\"Add to Watchlist\"><i class=\"icon-tags icon-white\"></i></a></td><td><a href=\"javascript:void(0);\" onclick='setAlert(\"BHPL\");' title=\"Set as Alert\"><i class=\"icon-bell icon-white\"></i></a></td></tr>\n",
       "<tr class=\"decrease-row\"><td><a href=\"/CompanyDetail.aspx?symbol=BNHC\" target=\"_blank\" title=\"BNHC (Buddhabhumi Nepal Hydropower Company Limited)\">BNHC</a></td><td class=\"text-right\">434.10</td><td class=\"text-right\">-1.32</td><td class=\"text-right\">443.00</td><td class=\"text-right\">422.60</td><td class=\"text-right\">431.20</td><td class=\"text-right\">2,082</td><td><a href=\"javascript:void(0);\" onclick='addToWatchlist(\"BNHC\");' title=\"Add to Watchlist\"><i class=\"icon-tags icon-white\"></i></a></td><td><a href=\"javascript:void(0);\" onclick='setAlert(\"BNHC\");' title=\"Set as Alert\"><i class=\"icon-bell icon-white\"></i></a></td></tr>\n",
       "<tr class=\"increase-row\"><td><a href=\"/CompanyDetail.aspx?symbol=BNT\" target=\"_blank\" title=\"BNT (Bottlers Nepal (Terai) Limited)\">BNT</a></td><td class=\"text-right\">13,388.00</td><td class=\"text-right\">2.2</td><td class=\"text-right\">13,620.00</td><td class=\"text-right\">13,172.00</td><td class=\"text-right\">13,360.00</td><td class=\"text-right\">90</td><td><a href=\"javascript:void(0);\" onclick='addToWatchlist(\"BNT\");' title=\"Add to Watchlist\"><i class=\"icon-tags icon-white\"></i></a></td><td><a href=\"javascript:void(0);\" onclick='setAlert(\"BNT\");' title=\"Set as Alert\"><i class=\"icon-bell icon-white\"></i></a></td></tr>\n",
       "<tr class=\"nochange-row\"><td><a href=\"/CompanyDetail.aspx?symbol=BOKD86\" target=\"_blank\" title=\"BOKD86 (8.5% BOK Debenture 2086)\">BOKD86</a></td><td class=\"text-right\">765.00</td><td class=\"text-right\">0</td><td class=\"text-right\">765.00</td><td class=\"text-right\">765.00</td><td class=\"text-right\">765.00</td><td class=\"text-right\">165</td><td><a href=\"javascript:void(0);\" onclick='addToWatchlist(\"BOKD86\");' title=\"Add to Watchlist\"><i class=\"icon-tags icon-white\"></i></a></td><td><a href=\"javascript:void(0);\" onclick='setAlert(\"BOKD86\");' title=\"Set as Alert\"><i class=\"icon-bell icon-white\"></i></a></td></tr>\n",
       "<tr class=\"increase-row\"><td><a href=\"/CompanyDetail.aspx?symbol=BPCL\" target=\"_blank\" title=\"BPCL (Butwal Power Company Limited)\">BPCL</a></td><td class=\"text-right\">338.00</td><td class=\"text-right\">1.53</td><td class=\"text-right\">343.50</td><td class=\"text-right\">330.00</td><td class=\"text-right\">330.00</td><td class=\"text-right\">40,319</td><td><a href=\"javascript:void(0);\" onclick='addToWatchlist(\"BPCL\");' title=\"Add to Watchlist\"><i class=\"icon-tags icon-white\"></i></a></td><td><a href=\"javascript:void(0);\" onclick='setAlert(\"BPCL\");' title=\"Set as Alert\"><i class=\"icon-bell icon-white\"></i></a></td></tr>\n",
       "<tr class=\"decrease-row\"><td><a href=\"/CompanyDetail.aspx?symbol=CBBL\" target=\"_blank\" title=\"CBBL (Chhimek Laghubitta Bittiya Sanstha Limited)\">CBBL</a></td><td class=\"text-right\">1,203.00</td><td class=\"text-right\">-0.66</td><td class=\"text-right\">1,212.00</td><td class=\"text-right\">1,199.00</td><td class=\"text-right\">1,209.00</td><td class=\"text-right\">12,026</td><td><a href=\"javascript:void(0);\" onclick='addToWatchlist(\"CBBL\");' title=\"Add to Watchlist\"><i class=\"icon-tags icon-white\"></i></a></td><td><a href=\"javascript:void(0);\" onclick='setAlert(\"CBBL\");' title=\"Set as Alert\"><i class=\"icon-bell icon-white\"></i></a></td></tr>\n",
       "<tr class=\"decrease-row\"><td><a href=\"/CompanyDetail.aspx?symbol=CBL\" target=\"_blank\" title=\"CBL (Civil Bank Ltd)\">CBL</a></td><td class=\"text-right\">228.50</td><td class=\"text-right\">-1.3</td><td class=\"text-right\">232.00</td><td class=\"text-right\">228.00</td><td class=\"text-right\">229.10</td><td class=\"text-right\">64,629</td><td><a href=\"javascript:void(0);\" onclick='addToWatchlist(\"CBL\");' title=\"Add to Watchlist\"><i class=\"icon-tags icon-white\"></i></a></td><td><a href=\"javascript:void(0);\" onclick='setAlert(\"CBL\");' title=\"Set as Alert\"><i class=\"icon-bell icon-white\"></i></a></td></tr>\n",
       "<tr class=\"nochange-row\"><td><a href=\"/CompanyDetail.aspx?symbol=CCBD88\" target=\"_blank\" title=\"CCBD88 (Century Debenture 2088)\">CCBD88</a></td><td class=\"text-right\">845.00</td><td class=\"text-right\">0</td><td class=\"text-right\">845.00</td><td class=\"text-right\">840.10</td><td class=\"text-right\">840.10</td><td class=\"text-right\">75</td><td><a href=\"javascript:void(0);\" onclick='addToWatchlist(\"CCBD88\");' title=\"Add to Watchlist\"><i class=\"icon-tags icon-white\"></i></a></td><td><a href=\"javascript:void(0);\" onclick='setAlert(\"CCBD88\");' title=\"Set as Alert\"><i class=\"icon-bell icon-white\"></i></a></td></tr>\n",
       "<tr class=\"decrease-row\"><td><a href=\"/CompanyDetail.aspx?symbol=CFCL\" target=\"_blank\" title=\"CFCL (Central Finance Co. Ltd.)\">CFCL</a></td><td class=\"text-right\">341.00</td><td class=\"text-right\">-2.57</td><td class=\"text-right\">350.20</td><td class=\"text-right\">338.10</td><td class=\"text-right\">345.00</td><td class=\"text-right\">20,107</td><td><a href=\"javascript:void(0);\" onclick='addToWatchlist(\"CFCL\");' title=\"Add to Watchlist\"><i class=\"icon-tags icon-white\"></i></a></td><td><a href=\"javascript:void(0);\" onclick='setAlert(\"CFCL\");' title=\"Set as Alert\"><i class=\"icon-bell icon-white\"></i></a></td></tr>\n",
       "<tr class=\"decrease-row\"><td><a href=\"/CompanyDetail.aspx?symbol=CGH\" target=\"_blank\" title=\"CGH (Chandragiri Hills Limited)\">CGH</a></td><td class=\"text-right\">1,350.00</td><td class=\"text-right\">-1.96</td><td class=\"text-right\">1,379.90</td><td class=\"text-right\">1,324.00</td><td class=\"text-right\">1,351.00</td><td class=\"text-right\">6,899</td><td><a href=\"javascript:void(0);\" onclick='addToWatchlist(\"CGH\");' title=\"Add to Watchlist\"><i class=\"icon-tags icon-white\"></i></a></td><td><a href=\"javascript:void(0);\" onclick='setAlert(\"CGH\");' title=\"Set as Alert\"><i class=\"icon-bell icon-white\"></i></a></td></tr>\n",
       "<tr class=\"increase-row\"><td><a href=\"/CompanyDetail.aspx?symbol=CHCL\" target=\"_blank\" title=\"CHCL (Chilime Hydropower Company Limited)\">CHCL</a></td><td class=\"text-right\">460.00</td><td class=\"text-right\">5.02</td><td class=\"text-right\">467.00</td><td class=\"text-right\">427.00</td><td class=\"text-right\">438.00</td><td class=\"text-right\">99,840</td><td><a href=\"javascript:void(0);\" onclick='addToWatchlist(\"CHCL\");' title=\"Add to Watchlist\"><i class=\"icon-tags icon-white\"></i></a></td><td><a href=\"javascript:void(0);\" onclick='setAlert(\"CHCL\");' title=\"Set as Alert\"><i class=\"icon-bell icon-white\"></i></a></td></tr>\n",
       "<tr class=\"decrease-row\"><td><a href=\"/CompanyDetail.aspx?symbol=CHDC\" target=\"_blank\" title=\"CHDC (CEDB Hydropower Development Company Limited)\">CHDC</a></td><td class=\"text-right\">795.00</td><td class=\"text-right\">-1.73</td><td class=\"text-right\">815.00</td><td class=\"text-right\">783.00</td><td class=\"text-right\">815.00</td><td class=\"text-right\">21,806</td><td><a href=\"javascript:void(0);\" onclick='addToWatchlist(\"CHDC\");' title=\"Add to Watchlist\"><i class=\"icon-tags icon-white\"></i></a></td><td><a href=\"javascript:void(0);\" onclick='setAlert(\"CHDC\");' title=\"Set as Alert\"><i class=\"icon-bell icon-white\"></i></a></td></tr>\n",
       "<tr class=\"decrease-row\"><td><a href=\"/CompanyDetail.aspx?symbol=CHL\" target=\"_blank\" title=\"CHL (Chhyangdi Hydropower Ltd.)\">CHL</a></td><td class=\"text-right\">323.00</td><td class=\"text-right\">-2.12</td><td class=\"text-right\">331.00</td><td class=\"text-right\">322.00</td><td class=\"text-right\">328.00</td><td class=\"text-right\">25,825</td><td><a href=\"javascript:void(0);\" onclick='addToWatchlist(\"CHL\");' title=\"Add to Watchlist\"><i class=\"icon-tags icon-white\"></i></a></td><td><a href=\"javascript:void(0);\" onclick='setAlert(\"CHL\");' title=\"Set as Alert\"><i class=\"icon-bell icon-white\"></i></a></td></tr>\n",
       "<tr class=\"decrease-row\"><td><a href=\"/CompanyDetail.aspx?symbol=CIT\" target=\"_blank\" title=\"CIT (Citizen Investment Trust)\">CIT</a></td><td class=\"text-right\">2,102.00</td><td class=\"text-right\">-1.64</td><td class=\"text-right\">2,150.00</td><td class=\"text-right\">2,095.00</td><td class=\"text-right\">2,102.00</td><td class=\"text-right\">7,485</td><td><a href=\"javascript:void(0);\" onclick='addToWatchlist(\"CIT\");' title=\"Add to Watchlist\"><i class=\"icon-tags icon-white\"></i></a></td><td><a href=\"javascript:void(0);\" onclick='setAlert(\"CIT\");' title=\"Set as Alert\"><i class=\"icon-bell icon-white\"></i></a></td></tr>\n",
       "<tr class=\"decrease-row\"><td><a href=\"/CompanyDetail.aspx?symbol=CLBSL\" target=\"_blank\" title=\"CLBSL (Civil Laghubitta Bittiya Sanstha Ltd.)\">CLBSL</a></td><td class=\"text-right\">901.60</td><td class=\"text-right\">-6.08</td><td class=\"text-right\">960.00</td><td class=\"text-right\">901.60</td><td class=\"text-right\">940.80</td><td class=\"text-right\">5,613</td><td><a href=\"javascript:void(0);\" onclick='addToWatchlist(\"CLBSL\");' title=\"Add to Watchlist\"><i class=\"icon-tags icon-white\"></i></a></td><td><a href=\"javascript:void(0);\" onclick='setAlert(\"CLBSL\");' title=\"Set as Alert\"><i class=\"icon-bell icon-white\"></i></a></td></tr>\n",
       "<tr class=\"increase-row\"><td><a href=\"/CompanyDetail.aspx?symbol=CMF1\" target=\"_blank\" title=\"CMF1 (Citizens Mutual Fund -1)\">CMF1</a></td><td class=\"text-right\">9.08</td><td class=\"text-right\">1.45</td><td class=\"text-right\">9.08</td><td class=\"text-right\">8.80</td><td class=\"text-right\">8.80</td><td class=\"text-right\">31,135</td><td><a href=\"javascript:void(0);\" onclick='addToWatchlist(\"CMF1\");' title=\"Add to Watchlist\"><i class=\"icon-tags icon-white\"></i></a></td><td><a href=\"javascript:void(0);\" onclick='setAlert(\"CMF1\");' title=\"Set as Alert\"><i class=\"icon-bell icon-white\"></i></a></td></tr>\n",
       "<tr class=\"decrease-row\"><td><a href=\"/CompanyDetail.aspx?symbol=CMF2\" target=\"_blank\" title=\"CMF2 (CITIZENS MUTUAL FUND 2)\">CMF2</a></td><td class=\"text-right\">8.75</td><td class=\"text-right\">-1.35</td><td class=\"text-right\">8.75</td><td class=\"text-right\">8.61</td><td class=\"text-right\">8.75</td><td class=\"text-right\">16,933</td><td><a href=\"javascript:void(0);\" onclick='addToWatchlist(\"CMF2\");' title=\"Add to Watchlist\"><i class=\"icon-tags icon-white\"></i></a></td><td><a href=\"javascript:void(0);\" onclick='setAlert(\"CMF2\");' title=\"Set as Alert\"><i class=\"icon-bell icon-white\"></i></a></td></tr>\n",
       "<tr class=\"decrease-row\"><td><a href=\"/CompanyDetail.aspx?symbol=CORBL\" target=\"_blank\" title=\"CORBL (Corporate Development Bank Limited)\">CORBL</a></td><td class=\"text-right\">323.00</td><td class=\"text-right\">-2.42</td><td class=\"text-right\">333.30</td><td class=\"text-right\">320.00</td><td class=\"text-right\">326.00</td><td class=\"text-right\">5,052</td><td><a href=\"javascript:void(0);\" onclick='addToWatchlist(\"CORBL\");' title=\"Add to Watchlist\"><i class=\"icon-tags icon-white\"></i></a></td><td><a href=\"javascript:void(0);\" onclick='setAlert(\"CORBL\");' title=\"Set as Alert\"><i class=\"icon-bell icon-white\"></i></a></td></tr>\n",
       "<tr class=\"increase-row\"><td><a href=\"/CompanyDetail.aspx?symbol=CYCL\" target=\"_blank\" title=\"CYCL (CYC Nepal Laghubitta Bittiya Sanstha Limited)\">CYCL</a></td><td class=\"text-right\">1,895.00</td><td class=\"text-right\">0.25</td><td class=\"text-right\">1,905.00</td><td class=\"text-right\">1,863.00</td><td class=\"text-right\">1,863.00</td><td class=\"text-right\">982</td><td><a href=\"javascript:void(0);\" onclick='addToWatchlist(\"CYCL\");' title=\"Add to Watchlist\"><i class=\"icon-tags icon-white\"></i></a></td><td><a href=\"javascript:void(0);\" onclick='setAlert(\"CYCL\");' title=\"Set as Alert\"><i class=\"icon-bell icon-white\"></i></a></td></tr>\n",
       "<tr class=\"decrease-row\"><td><a href=\"/CompanyDetail.aspx?symbol=CZBIL\" target=\"_blank\" title=\"CZBIL (Citizen Bank International Limited)\">CZBIL</a></td><td class=\"text-right\">194.40</td><td class=\"text-right\">-1.32</td><td class=\"text-right\">198.00</td><td class=\"text-right\">194.30</td><td class=\"text-right\">196.00</td><td class=\"text-right\">40,999</td><td><a href=\"javascript:void(0);\" onclick='addToWatchlist(\"CZBIL\");' title=\"Add to Watchlist\"><i class=\"icon-tags icon-white\"></i></a></td><td><a href=\"javascript:void(0);\" onclick='setAlert(\"CZBIL\");' title=\"Set as Alert\"><i class=\"icon-bell icon-white\"></i></a></td></tr>\n",
       "<tr class=\"decrease-row\"><td><a href=\"/CompanyDetail.aspx?symbol=DDBL\" target=\"_blank\" title=\"DDBL (Deprosc Laghubitta Bittiya Sanstha Limited)\">DDBL</a></td><td class=\"text-right\">981.10</td><td class=\"text-right\">-0.29</td><td class=\"text-right\">995.00</td><td class=\"text-right\">976.00</td><td class=\"text-right\">984.00</td><td class=\"text-right\">9,939</td><td><a href=\"javascript:void(0);\" onclick='addToWatchlist(\"DDBL\");' title=\"Add to Watchlist\"><i class=\"icon-tags icon-white\"></i></a></td><td><a href=\"javascript:void(0);\" onclick='setAlert(\"DDBL\");' title=\"Set as Alert\"><i class=\"icon-bell icon-white\"></i></a></td></tr>\n",
       "<tr class=\"decrease-row\"><td><a href=\"/CompanyDetail.aspx?symbol=DHPL\" target=\"_blank\" title=\"DHPL (Dibyashwori Hydropower Ltd.)\">DHPL</a></td><td class=\"text-right\">248.00</td><td class=\"text-right\">-0.8</td><td class=\"text-right\">253.00</td><td class=\"text-right\">240.10</td><td class=\"text-right\">245.00</td><td class=\"text-right\">26,852</td><td><a href=\"javascript:void(0);\" onclick='addToWatchlist(\"DHPL\");' title=\"Add to Watchlist\"><i class=\"icon-tags icon-white\"></i></a></td><td><a href=\"javascript:void(0);\" onclick='setAlert(\"DHPL\");' title=\"Set as Alert\"><i class=\"icon-bell icon-white\"></i></a></td></tr>\n",
       "<tr class=\"increase-row\"><td><a href=\"/CompanyDetail.aspx?symbol=DLBS\" target=\"_blank\" title=\"DLBS (Dhaulagiri Laghubitta Bittiya Sanstha Limited)\">DLBS</a></td><td class=\"text-right\">1,369.90</td><td class=\"text-right\">0.36</td><td class=\"text-right\">1,369.90</td><td class=\"text-right\">1,345.00</td><td class=\"text-right\">1,345.00</td><td class=\"text-right\">1,215</td><td><a href=\"javascript:void(0);\" onclick='addToWatchlist(\"DLBS\");' title=\"Add to Watchlist\"><i class=\"icon-tags icon-white\"></i></a></td><td><a href=\"javascript:void(0);\" onclick='setAlert(\"DLBS\");' title=\"Set as Alert\"><i class=\"icon-bell icon-white\"></i></a></td></tr>\n",
       "<tr class=\"decrease-row\"><td><a href=\"/CompanyDetail.aspx?symbol=DORDI\" target=\"_blank\" title=\"DORDI (Dordi Khola Jal Bidyut Company Limited)\">DORDI</a></td><td class=\"text-right\">325.00</td><td class=\"text-right\">-0.31</td><td class=\"text-right\">335.00</td><td class=\"text-right\">316.00</td><td class=\"text-right\">320.00</td><td class=\"text-right\">34,838</td><td><a href=\"javascript:void(0);\" onclick='addToWatchlist(\"DORDI\");' title=\"Add to Watchlist\"><i class=\"icon-tags icon-white\"></i></a></td><td><a href=\"javascript:void(0);\" onclick='setAlert(\"DORDI\");' title=\"Set as Alert\"><i class=\"icon-bell icon-white\"></i></a></td></tr>\n",
       "<tr class=\"decrease-row\"><td><a href=\"/CompanyDetail.aspx?symbol=EBL\" target=\"_blank\" title=\"EBL (Everest Bank Limited)\">EBL</a></td><td class=\"text-right\">518.00</td><td class=\"text-right\">-0.13</td><td class=\"text-right\">525.00</td><td class=\"text-right\">512.20</td><td class=\"text-right\">519.00</td><td class=\"text-right\">25,712</td><td><a href=\"javascript:void(0);\" onclick='addToWatchlist(\"EBL\");' title=\"Add to Watchlist\"><i class=\"icon-tags icon-white\"></i></a></td><td><a href=\"javascript:void(0);\" onclick='setAlert(\"EBL\");' title=\"Set as Alert\"><i class=\"icon-bell icon-white\"></i></a></td></tr>\n",
       "<tr class=\"decrease-row\"><td><a href=\"/CompanyDetail.aspx?symbol=EDBL\" target=\"_blank\" title=\"EDBL (Excel Development Bank Ltd.)\">EDBL</a></td><td class=\"text-right\">345.00</td><td class=\"text-right\">-2.54</td><td class=\"text-right\">359.90</td><td class=\"text-right\">342.50</td><td class=\"text-right\">350.00</td><td class=\"text-right\">18,104</td><td><a href=\"javascript:void(0);\" onclick='addToWatchlist(\"EDBL\");' title=\"Add to Watchlist\"><i class=\"icon-tags icon-white\"></i></a></td><td><a href=\"javascript:void(0);\" onclick='setAlert(\"EDBL\");' title=\"Set as Alert\"><i class=\"icon-bell icon-white\"></i></a></td></tr>\n",
       "<tr class=\"increase-row\"><td><a href=\"/CompanyDetail.aspx?symbol=EHPL\" target=\"_blank\" title=\"EHPL (Eastern Hydropower Limited)\">EHPL</a></td><td class=\"text-right\">451.50</td><td class=\"text-right\">9.99</td><td class=\"text-right\">451.50</td><td class=\"text-right\">397.00</td><td class=\"text-right\">402.30</td><td class=\"text-right\">16,338</td><td><a href=\"javascript:void(0);\" onclick='addToWatchlist(\"EHPL\");' title=\"Add to Watchlist\"><i class=\"icon-tags icon-white\"></i></a></td><td><a href=\"javascript:void(0);\" onclick='setAlert(\"EHPL\");' title=\"Set as Alert\"><i class=\"icon-bell icon-white\"></i></a></td></tr>\n",
       "<tr class=\"decrease-row\"><td><a href=\"/CompanyDetail.aspx?symbol=ENL\" target=\"_blank\" title=\"ENL (Emerging Nepal Limited)\">ENL</a></td><td class=\"text-right\">681.00</td><td class=\"text-right\">-1.3</td><td class=\"text-right\">694.00</td><td class=\"text-right\">676.20</td><td class=\"text-right\">676.20</td><td class=\"text-right\">1,114</td><td><a href=\"javascript:void(0);\" onclick='addToWatchlist(\"ENL\");' title=\"Add to Watchlist\"><i class=\"icon-tags icon-white\"></i></a></td><td><a href=\"javascript:void(0);\" onclick='setAlert(\"ENL\");' title=\"Set as Alert\"><i class=\"icon-bell icon-white\"></i></a></td></tr>\n",
       "<tr class=\"decrease-row\"><td><a href=\"/CompanyDetail.aspx?symbol=FMDBL\" target=\"_blank\" title=\"FMDBL (First Micro Finance Laghubitta Bittiya Sanstha Limited)\">FMDBL</a></td><td class=\"text-right\">685.00</td><td class=\"text-right\">-1.31</td><td class=\"text-right\">705.00</td><td class=\"text-right\">684.00</td><td class=\"text-right\">691.00</td><td class=\"text-right\">19,342</td><td><a href=\"javascript:void(0);\" onclick='addToWatchlist(\"FMDBL\");' title=\"Add to Watchlist\"><i class=\"icon-tags icon-white\"></i></a></td><td><a href=\"javascript:void(0);\" onclick='setAlert(\"FMDBL\");' title=\"Set as Alert\"><i class=\"icon-bell icon-white\"></i></a></td></tr>\n",
       "<tr class=\"decrease-row\"><td><a href=\"/CompanyDetail.aspx?symbol=FOWAD\" target=\"_blank\" title=\"FOWAD (Forward Microfinance Laghubitta Bittiya Sanstha Ltd.)\">FOWAD</a></td><td class=\"text-right\">1,915.00</td><td class=\"text-right\">-1.14</td><td class=\"text-right\">1,934.00</td><td class=\"text-right\">1,900.00</td><td class=\"text-right\">1,902.00</td><td class=\"text-right\">3,321</td><td><a href=\"javascript:void(0);\" onclick='addToWatchlist(\"FOWAD\");' title=\"Add to Watchlist\"><i class=\"icon-tags icon-white\"></i></a></td><td><a href=\"javascript:void(0);\" onclick='setAlert(\"FOWAD\");' title=\"Set as Alert\"><i class=\"icon-bell icon-white\"></i></a></td></tr>\n",
       "<tr class=\"decrease-row\"><td><a href=\"/CompanyDetail.aspx?symbol=GBBL\" target=\"_blank\" title=\"GBBL (Garima Bikas Bank Limited)\">GBBL</a></td><td class=\"text-right\">368.20</td><td class=\"text-right\">-1.29</td><td class=\"text-right\">377.00</td><td class=\"text-right\">365.70</td><td class=\"text-right\">373.00</td><td class=\"text-right\">30,204</td><td><a href=\"javascript:void(0);\" onclick='addToWatchlist(\"GBBL\");' title=\"Add to Watchlist\"><i class=\"icon-tags icon-white\"></i></a></td><td><a href=\"javascript:void(0);\" onclick='setAlert(\"GBBL\");' title=\"Set as Alert\"><i class=\"icon-bell icon-white\"></i></a></td></tr>\n",
       "<tr class=\"decrease-row\"><td><a href=\"/CompanyDetail.aspx?symbol=GBD80/81\" target=\"_blank\" title=\"GBD80/81 (10.25% Global IME Bank Limited Debenture 2080/81)\">GBD80/81</a></td><td class=\"text-right\">953.40</td><td class=\"text-right\">-0.69</td><td class=\"text-right\">953.40</td><td class=\"text-right\">953.40</td><td class=\"text-right\">953.40</td><td class=\"text-right\">10</td><td><a href=\"javascript:void(0);\" onclick='addToWatchlist(\"GBD80/81\");' title=\"Add to Watchlist\"><i class=\"icon-tags icon-white\"></i></a></td><td><a href=\"javascript:void(0);\" onclick='setAlert(\"GBD80/81\");' title=\"Set as Alert\"><i class=\"icon-bell icon-white\"></i></a></td></tr>\n",
       "<tr class=\"nochange-row\"><td><a href=\"/CompanyDetail.aspx?symbol=GBILD86/87\" target=\"_blank\" title=\"GBILD86/87 (8.5% Global IME Bank Limited Debenture 2086/87)\">GBILD86/87</a></td><td class=\"text-right\">750.00</td><td class=\"text-right\">0</td><td class=\"text-right\">750.00</td><td class=\"text-right\">750.00</td><td class=\"text-right\">750.00</td><td class=\"text-right\">100</td><td><a href=\"javascript:void(0);\" onclick='addToWatchlist(\"GBILD86/87\");' title=\"Add to Watchlist\"><i class=\"icon-tags icon-white\"></i></a></td><td><a href=\"javascript:void(0);\" onclick='setAlert(\"GBILD86/87\");' title=\"Set as Alert\"><i class=\"icon-bell icon-white\"></i></a></td></tr>\n",
       "<tr class=\"decrease-row\"><td><a href=\"/CompanyDetail.aspx?symbol=GBLBS\" target=\"_blank\" title=\"GBLBS (Grameen Bikas Laghubitta Bittiya Sanstha Ltd.)\">GBLBS</a></td><td class=\"text-right\">636.00</td><td class=\"text-right\">-0.62</td><td class=\"text-right\">652.80</td><td class=\"text-right\">635.00</td><td class=\"text-right\">635.00</td><td class=\"text-right\">2,580</td><td><a href=\"javascript:void(0);\" onclick='addToWatchlist(\"GBLBS\");' title=\"Add to Watchlist\"><i class=\"icon-tags icon-white\"></i></a></td><td><a href=\"javascript:void(0);\" onclick='setAlert(\"GBLBS\");' title=\"Set as Alert\"><i class=\"icon-bell icon-white\"></i></a></td></tr>\n",
       "<tr class=\"decrease-row\"><td><a href=\"/CompanyDetail.aspx?symbol=GFCL\" target=\"_blank\" title=\"GFCL (Goodwill Finance Co. Ltd.)\">GFCL</a></td><td class=\"text-right\">511.80</td><td class=\"text-right\">-0.45</td><td class=\"text-right\">520.00</td><td class=\"text-right\">505.00</td><td class=\"text-right\">505.10</td><td class=\"text-right\">8,768</td><td><a href=\"javascript:void(0);\" onclick='addToWatchlist(\"GFCL\");' title=\"Add to Watchlist\"><i class=\"icon-tags icon-white\"></i></a></td><td><a href=\"javascript:void(0);\" onclick='setAlert(\"GFCL\");' title=\"Set as Alert\"><i class=\"icon-bell icon-white\"></i></a></td></tr>\n",
       "<tr class=\"decrease-row\"><td><a href=\"/CompanyDetail.aspx?symbol=GHL\" target=\"_blank\" title=\"GHL (Ghalemdi Hydro Limited)\">GHL</a></td><td class=\"text-right\">297.00</td><td class=\"text-right\">-0.34</td><td class=\"text-right\">305.00</td><td class=\"text-right\">287.00</td><td class=\"text-right\">292.10</td><td class=\"text-right\">99,212</td><td><a href=\"javascript:void(0);\" onclick='addToWatchlist(\"GHL\");' title=\"Add to Watchlist\"><i class=\"icon-tags icon-white\"></i></a></td><td><a href=\"javascript:void(0);\" onclick='setAlert(\"GHL\");' title=\"Set as Alert\"><i class=\"icon-bell icon-white\"></i></a></td></tr>\n",
       "<tr class=\"increase-row\"><td><a href=\"/CompanyDetail.aspx?symbol=GIBF1\" target=\"_blank\" title=\"GIBF1 (Global IME Balanced Fund-1)\">GIBF1</a></td><td class=\"text-right\">8.43</td><td class=\"text-right\">0.36</td><td class=\"text-right\">8.57</td><td class=\"text-right\">8.41</td><td class=\"text-right\">8.41</td><td class=\"text-right\">6,000</td><td><a href=\"javascript:void(0);\" onclick='addToWatchlist(\"GIBF1\");' title=\"Add to Watchlist\"><i class=\"icon-tags icon-white\"></i></a></td><td><a href=\"javascript:void(0);\" onclick='setAlert(\"GIBF1\");' title=\"Set as Alert\"><i class=\"icon-bell icon-white\"></i></a></td></tr>\n",
       "<tr class=\"increase-row\"><td><a href=\"/CompanyDetail.aspx?symbol=GILB\" target=\"_blank\" title=\"GILB (Global IME Laghubitta Bittiya Sanstha Ltd.)\">GILB</a></td><td class=\"text-right\">1,183.00</td><td class=\"text-right\">0.17</td><td class=\"text-right\">1,198.00</td><td class=\"text-right\">1,160.00</td><td class=\"text-right\">1,166.00</td><td class=\"text-right\">520</td><td><a href=\"javascript:void(0);\" onclick='addToWatchlist(\"GILB\");' title=\"Add to Watchlist\"><i class=\"icon-tags icon-white\"></i></a></td><td><a href=\"javascript:void(0);\" onclick='setAlert(\"GILB\");' title=\"Set as Alert\"><i class=\"icon-bell icon-white\"></i></a></td></tr>\n",
       "<tr class=\"nochange-row\"><td><a href=\"/CompanyDetail.aspx?symbol=GIMES1\" target=\"_blank\" title=\"GIMES1 (Global IME Samunnat Scheme-1)\">GIMES1</a></td><td class=\"text-right\">10.15</td><td class=\"text-right\">0</td><td class=\"text-right\">10.15</td><td class=\"text-right\">9.95</td><td class=\"text-right\">9.95</td><td class=\"text-right\">36,491</td><td><a href=\"javascript:void(0);\" onclick='addToWatchlist(\"GIMES1\");' title=\"Add to Watchlist\"><i class=\"icon-tags icon-white\"></i></a></td><td><a href=\"javascript:void(0);\" onclick='setAlert(\"GIMES1\");' title=\"Set as Alert\"><i class=\"icon-bell icon-white\"></i></a></td></tr>\n",
       "<tr class=\"increase-row\"><td><a href=\"/CompanyDetail.aspx?symbol=GLBSL\" target=\"_blank\" title=\"GLBSL (Gurans Laghubitta Bittiya Sanstha Limited)\">GLBSL</a></td><td class=\"text-right\">865.00</td><td class=\"text-right\">1.45</td><td class=\"text-right\">865.00</td><td class=\"text-right\">825.00</td><td class=\"text-right\">836.20</td><td class=\"text-right\">296</td><td><a href=\"javascript:void(0);\" onclick='addToWatchlist(\"GLBSL\");' title=\"Add to Watchlist\"><i class=\"icon-tags icon-white\"></i></a></td><td><a href=\"javascript:void(0);\" onclick='setAlert(\"GLBSL\");' title=\"Set as Alert\"><i class=\"icon-bell icon-white\"></i></a></td></tr>\n",
       "<tr class=\"decrease-row\"><td><a href=\"/CompanyDetail.aspx?symbol=GLH\" target=\"_blank\" title=\"GLH (Greenlife Hydropower Limited)\">GLH</a></td><td class=\"text-right\">337.00</td><td class=\"text-right\">-5.07</td><td class=\"text-right\">356.00</td><td class=\"text-right\">335.00</td><td class=\"text-right\">347.90</td><td class=\"text-right\">39,336</td><td><a href=\"javascript:void(0);\" onclick='addToWatchlist(\"GLH\");' title=\"Add to Watchlist\"><i class=\"icon-tags icon-white\"></i></a></td><td><a href=\"javascript:void(0);\" onclick='setAlert(\"GLH\");' title=\"Set as Alert\"><i class=\"icon-bell icon-white\"></i></a></td></tr>\n",
       "<tr class=\"decrease-row\"><td><a href=\"/CompanyDetail.aspx?symbol=GMFBS\" target=\"_blank\" title=\"GMFBS (Ganapati Microfinance Bittiya Sanstha Ltd)\">GMFBS</a></td><td class=\"text-right\">875.00</td><td class=\"text-right\">-4.68</td><td class=\"text-right\">899.70</td><td class=\"text-right\">852.20</td><td class=\"text-right\">899.70</td><td class=\"text-right\">3,225</td><td><a href=\"javascript:void(0);\" onclick='addToWatchlist(\"GMFBS\");' title=\"Add to Watchlist\"><i class=\"icon-tags icon-white\"></i></a></td><td><a href=\"javascript:void(0);\" onclick='setAlert(\"GMFBS\");' title=\"Set as Alert\"><i class=\"icon-bell icon-white\"></i></a></td></tr>\n",
       "<tr class=\"decrease-row\"><td><a href=\"/CompanyDetail.aspx?symbol=GMFIL\" target=\"_blank\" title=\"GMFIL (Guheshowori Merchant Bank &amp; Finance Co. Ltd.)\">GMFIL</a></td><td class=\"text-right\">370.00</td><td class=\"text-right\">-0.48</td><td class=\"text-right\">378.00</td><td class=\"text-right\">365.00</td><td class=\"text-right\">370.00</td><td class=\"text-right\">11,635</td><td><a href=\"javascript:void(0);\" onclick='addToWatchlist(\"GMFIL\");' title=\"Add to Watchlist\"><i class=\"icon-tags icon-white\"></i></a></td><td><a href=\"javascript:void(0);\" onclick='setAlert(\"GMFIL\");' title=\"Set as Alert\"><i class=\"icon-bell icon-white\"></i></a></td></tr>\n",
       "<tr class=\"decrease-row\"><td><a href=\"/CompanyDetail.aspx?symbol=GRDBL\" target=\"_blank\" title=\"GRDBL (Green Development Bank Ltd.)\">GRDBL</a></td><td class=\"text-right\">284.00</td><td class=\"text-right\">-0.7</td><td class=\"text-right\">295.00</td><td class=\"text-right\">280.40</td><td class=\"text-right\">280.40</td><td class=\"text-right\">4,729</td><td><a href=\"javascript:void(0);\" onclick='addToWatchlist(\"GRDBL\");' title=\"Add to Watchlist\"><i class=\"icon-tags icon-white\"></i></a></td><td><a href=\"javascript:void(0);\" onclick='setAlert(\"GRDBL\");' title=\"Set as Alert\"><i class=\"icon-bell icon-white\"></i></a></td></tr>\n",
       "<tr class=\"decrease-row\"><td><a href=\"/CompanyDetail.aspx?symbol=GUFL\" target=\"_blank\" title=\"GUFL (Gurkhas Finance Ltd.)\">GUFL</a></td><td class=\"text-right\">583.00</td><td class=\"text-right\">-2.83</td><td class=\"text-right\">598.00</td><td class=\"text-right\">581.00</td><td class=\"text-right\">588.80</td><td class=\"text-right\">34,963</td><td><a href=\"javascript:void(0);\" onclick='addToWatchlist(\"GUFL\");' title=\"Add to Watchlist\"><i class=\"icon-tags icon-white\"></i></a></td><td><a href=\"javascript:void(0);\" onclick='setAlert(\"GUFL\");' title=\"Set as Alert\"><i class=\"icon-bell icon-white\"></i></a></td></tr>\n",
       "<tr class=\"decrease-row\"><td><a href=\"/CompanyDetail.aspx?symbol=GVL\" target=\"_blank\" title=\"GVL (Green Ventures Limited)\">GVL</a></td><td class=\"text-right\">467.00</td><td class=\"text-right\">-4.3</td><td class=\"text-right\">488.00</td><td class=\"text-right\">459.50</td><td class=\"text-right\">488.00</td><td class=\"text-right\">65,442</td><td><a href=\"javascript:void(0);\" onclick='addToWatchlist(\"GVL\");' title=\"Add to Watchlist\"><i class=\"icon-tags icon-white\"></i></a></td><td><a href=\"javascript:void(0);\" onclick='setAlert(\"GVL\");' title=\"Set as Alert\"><i class=\"icon-bell icon-white\"></i></a></td></tr>\n",
       "<tr class=\"decrease-row\"><td><a href=\"/CompanyDetail.aspx?symbol=HBL\" target=\"_blank\" title=\"HBL (Himalayan Bank Limited)\">HBL</a></td><td class=\"text-right\">306.00</td><td class=\"text-right\">-0.65</td><td class=\"text-right\">310.00</td><td class=\"text-right\">303.10</td><td class=\"text-right\">304.00</td><td class=\"text-right\">12,986</td><td><a href=\"javascript:void(0);\" onclick='addToWatchlist(\"HBL\");' title=\"Add to Watchlist\"><i class=\"icon-tags icon-white\"></i></a></td><td><a href=\"javascript:void(0);\" onclick='setAlert(\"HBL\");' title=\"Set as Alert\"><i class=\"icon-bell icon-white\"></i></a></td></tr>\n",
       "<tr class=\"decrease-row\"><td><a href=\"/CompanyDetail.aspx?symbol=HDHPC\" target=\"_blank\" title=\"HDHPC (Himal Dolakha Hydropower Company Limited)\">HDHPC</a></td><td class=\"text-right\">248.00</td><td class=\"text-right\">-2.36</td><td class=\"text-right\">255.30</td><td class=\"text-right\">245.20</td><td class=\"text-right\">254.00</td><td class=\"text-right\">261,267</td><td><a href=\"javascript:void(0);\" onclick='addToWatchlist(\"HDHPC\");' title=\"Add to Watchlist\"><i class=\"icon-tags icon-white\"></i></a></td><td><a href=\"javascript:void(0);\" onclick='setAlert(\"HDHPC\");' title=\"Set as Alert\"><i class=\"icon-bell icon-white\"></i></a></td></tr>\n",
       "<tr class=\"decrease-row\"><td><a href=\"/CompanyDetail.aspx?symbol=HDL\" target=\"_blank\" title=\"HDL (Himalayan Distillery Limited)\">HDL</a></td><td class=\"text-right\">2,648.00</td><td class=\"text-right\">-1.01</td><td class=\"text-right\">2,693.00</td><td class=\"text-right\">2,615.00</td><td class=\"text-right\">2,660.00</td><td class=\"text-right\">16,072</td><td><a href=\"javascript:void(0);\" onclick='addToWatchlist(\"HDL\");' title=\"Add to Watchlist\"><i class=\"icon-tags icon-white\"></i></a></td><td><a href=\"javascript:void(0);\" onclick='setAlert(\"HDL\");' title=\"Set as Alert\"><i class=\"icon-bell icon-white\"></i></a></td></tr>\n",
       "<tr class=\"decrease-row\"><td><a href=\"/CompanyDetail.aspx?symbol=HEI\" target=\"_blank\" title=\"HEI (Himalayan Everest Insurance Limited)\">HEI</a></td><td class=\"text-right\">460.00</td><td class=\"text-right\">-2.11</td><td class=\"text-right\">476.90</td><td class=\"text-right\">460.00</td><td class=\"text-right\">461.00</td><td class=\"text-right\">49,437</td><td><a href=\"javascript:void(0);\" onclick='addToWatchlist(\"HEI\");' title=\"Add to Watchlist\"><i class=\"icon-tags icon-white\"></i></a></td><td><a href=\"javascript:void(0);\" onclick='setAlert(\"HEI\");' title=\"Set as Alert\"><i class=\"icon-bell icon-white\"></i></a></td></tr>\n",
       "<tr class=\"decrease-row\"><td><a href=\"/CompanyDetail.aspx?symbol=HEIP\" target=\"_blank\" title=\"HEIP (Himalayan Everest Insurance Limited Promoter)\">HEIP</a></td><td class=\"text-right\">319.00</td><td class=\"text-right\">-3.3</td><td class=\"text-right\">326.00</td><td class=\"text-right\">310.70</td><td class=\"text-right\">323.40</td><td class=\"text-right\">10,230</td><td><a href=\"javascript:void(0);\" onclick='addToWatchlist(\"HEIP\");' title=\"Add to Watchlist\"><i class=\"icon-tags icon-white\"></i></a></td><td><a href=\"javascript:void(0);\" onclick='setAlert(\"HEIP\");' title=\"Set as Alert\"><i class=\"icon-bell icon-white\"></i></a></td></tr>\n",
       "<tr class=\"decrease-row\"><td><a href=\"/CompanyDetail.aspx?symbol=HHL\" target=\"_blank\" title=\"HHL (Himalayan Hydropower Limited)\">HHL</a></td><td class=\"text-right\">307.00</td><td class=\"text-right\">-0.03</td><td class=\"text-right\">311.00</td><td class=\"text-right\">295.00</td><td class=\"text-right\">308.00</td><td class=\"text-right\">37,312</td><td><a href=\"javascript:void(0);\" onclick='addToWatchlist(\"HHL\");' title=\"Add to Watchlist\"><i class=\"icon-tags icon-white\"></i></a></td><td><a href=\"javascript:void(0);\" onclick='setAlert(\"HHL\");' title=\"Set as Alert\"><i class=\"icon-bell icon-white\"></i></a></td></tr>\n",
       "<tr class=\"decrease-row\"><td><a href=\"/CompanyDetail.aspx?symbol=HIDCL\" target=\"_blank\" title=\"HIDCL (Hydorelectricity Investment and Development Company Ltd)\">HIDCL</a></td><td class=\"text-right\">209.00</td><td class=\"text-right\">-1.42</td><td class=\"text-right\">215.00</td><td class=\"text-right\">208.00</td><td class=\"text-right\">212.00</td><td class=\"text-right\">151,096</td><td><a href=\"javascript:void(0);\" onclick='addToWatchlist(\"HIDCL\");' title=\"Add to Watchlist\"><i class=\"icon-tags icon-white\"></i></a></td><td><a href=\"javascript:void(0);\" onclick='setAlert(\"HIDCL\");' title=\"Set as Alert\"><i class=\"icon-bell icon-white\"></i></a></td></tr>\n",
       "<tr class=\"decrease-row\"><td><a href=\"/CompanyDetail.aspx?symbol=HIDCLP\" target=\"_blank\" title=\"HIDCLP (Hydroelectricity Investment and Development Company Limited Promoter Share)\">HIDCLP</a></td><td class=\"text-right\">108.00</td><td class=\"text-right\">-6.09</td><td class=\"text-right\">114.00</td><td class=\"text-right\">106.20</td><td class=\"text-right\">112.70</td><td class=\"text-right\">508,443</td><td><a href=\"javascript:void(0);\" onclick='addToWatchlist(\"HIDCLP\");' title=\"Add to Watchlist\"><i class=\"icon-tags icon-white\"></i></a></td><td><a href=\"javascript:void(0);\" onclick='setAlert(\"HIDCLP\");' title=\"Set as Alert\"><i class=\"icon-bell icon-white\"></i></a></td></tr>\n",
       "<tr class=\"decrease-row\"><td><a href=\"/CompanyDetail.aspx?symbol=HPPL\" target=\"_blank\" title=\"HPPL (Himalayan Power Partner Ltd.)\">HPPL</a></td><td class=\"text-right\">348.00</td><td class=\"text-right\">-1.14</td><td class=\"text-right\">361.00</td><td class=\"text-right\">344.00</td><td class=\"text-right\">359.00</td><td class=\"text-right\">61,460</td><td><a href=\"javascript:void(0);\" onclick='addToWatchlist(\"HPPL\");' title=\"Add to Watchlist\"><i class=\"icon-tags icon-white\"></i></a></td><td><a href=\"javascript:void(0);\" onclick='setAlert(\"HPPL\");' title=\"Set as Alert\"><i class=\"icon-bell icon-white\"></i></a></td></tr>\n",
       "<tr class=\"nochange-row\"><td><a href=\"/CompanyDetail.aspx?symbol=HURJA\" target=\"_blank\" title=\"HURJA (Himalaya Urja Bikas Company Limited)\">HURJA</a></td><td class=\"text-right\">410.00</td><td class=\"text-right\">0</td><td class=\"text-right\">443.40</td><td class=\"text-right\">406.00</td><td class=\"text-right\">418.00</td><td class=\"text-right\">221,609</td><td><a href=\"javascript:void(0);\" onclick='addToWatchlist(\"HURJA\");' title=\"Add to Watchlist\"><i class=\"icon-tags icon-white\"></i></a></td><td><a href=\"javascript:void(0);\" onclick='setAlert(\"HURJA\");' title=\"Set as Alert\"><i class=\"icon-bell icon-white\"></i></a></td></tr>\n",
       "<tr class=\"decrease-row\"><td><a href=\"/CompanyDetail.aspx?symbol=ICFC\" target=\"_blank\" title=\"ICFC (ICFC Finance Limited)\">ICFC</a></td><td class=\"text-right\">479.80</td><td class=\"text-right\">-1.28</td><td class=\"text-right\">488.00</td><td class=\"text-right\">471.00</td><td class=\"text-right\">483.00</td><td class=\"text-right\">28,819</td><td><a href=\"javascript:void(0);\" onclick='addToWatchlist(\"ICFC\");' title=\"Add to Watchlist\"><i class=\"icon-tags icon-white\"></i></a></td><td><a href=\"javascript:void(0);\" onclick='setAlert(\"ICFC\");' title=\"Set as Alert\"><i class=\"icon-bell icon-white\"></i></a></td></tr>\n",
       "<tr class=\"increase-row\"><td><a href=\"/CompanyDetail.aspx?symbol=IGI\" target=\"_blank\" title=\"IGI (IME General Insurance Ltd.)\">IGI</a></td><td class=\"text-right\">516.00</td><td class=\"text-right\">6.39</td><td class=\"text-right\">525.90</td><td class=\"text-right\">480.00</td><td class=\"text-right\">480.00</td><td class=\"text-right\">198,658</td><td><a href=\"javascript:void(0);\" onclick='addToWatchlist(\"IGI\");' title=\"Add to Watchlist\"><i class=\"icon-tags icon-white\"></i></a></td><td><a href=\"javascript:void(0);\" onclick='setAlert(\"IGI\");' title=\"Set as Alert\"><i class=\"icon-bell icon-white\"></i></a></td></tr>\n",
       "<tr class=\"decrease-row\"><td><a href=\"/CompanyDetail.aspx?symbol=ILBS\" target=\"_blank\" title=\"ILBS (Infinity Laghubitta Bittiya Sanstha Limited)\">ILBS</a></td><td class=\"text-right\">1,005.00</td><td class=\"text-right\">-1.08</td><td class=\"text-right\">1,014.00</td><td class=\"text-right\">995.70</td><td class=\"text-right\">996.00</td><td class=\"text-right\">1,285</td><td><a href=\"javascript:void(0);\" onclick='addToWatchlist(\"ILBS\");' title=\"Add to Watchlist\"><i class=\"icon-tags icon-white\"></i></a></td><td><a href=\"javascript:void(0);\" onclick='setAlert(\"ILBS\");' title=\"Set as Alert\"><i class=\"icon-bell icon-white\"></i></a></td></tr>\n",
       "<tr class=\"increase-row\"><td><a href=\"/CompanyDetail.aspx?symbol=JALPA\" target=\"_blank\" title=\"JALPA (Jalpa Samudayik Laghubitta Bittiya Sanstha Limited)\">JALPA</a></td><td class=\"text-right\">3,435.00</td><td class=\"text-right\">0.82</td><td class=\"text-right\">3,462.00</td><td class=\"text-right\">3,393.00</td><td class=\"text-right\">3,420.00</td><td class=\"text-right\">1,642</td><td><a href=\"javascript:void(0);\" onclick='addToWatchlist(\"JALPA\");' title=\"Add to Watchlist\"><i class=\"icon-tags icon-white\"></i></a></td><td><a href=\"javascript:void(0);\" onclick='setAlert(\"JALPA\");' title=\"Set as Alert\"><i class=\"icon-bell icon-white\"></i></a></td></tr>\n",
       "<tr class=\"decrease-row\"><td><a href=\"/CompanyDetail.aspx?symbol=JBBL\" target=\"_blank\" title=\"JBBL (Jyoti Bikas Bank Limited)\">JBBL</a></td><td class=\"text-right\">304.20</td><td class=\"text-right\">-1.87</td><td class=\"text-right\">311.00</td><td class=\"text-right\">304.00</td><td class=\"text-right\">305.40</td><td class=\"text-right\">43,287</td><td><a href=\"javascript:void(0);\" onclick='addToWatchlist(\"JBBL\");' title=\"Add to Watchlist\"><i class=\"icon-tags icon-white\"></i></a></td><td><a href=\"javascript:void(0);\" onclick='setAlert(\"JBBL\");' title=\"Set as Alert\"><i class=\"icon-bell icon-white\"></i></a></td></tr>\n",
       "<tr class=\"increase-row\"><td><a href=\"/CompanyDetail.aspx?symbol=JBLB\" target=\"_blank\" title=\"JBLB (Jeevan Bikas Laghubitta Bittiya Sanstha Limited)\">JBLB</a></td><td class=\"text-right\">2,850.00</td><td class=\"text-right\">0.18</td><td class=\"text-right\">2,875.00</td><td class=\"text-right\">2,845.00</td><td class=\"text-right\">2,846.00</td><td class=\"text-right\">5,044</td><td><a href=\"javascript:void(0);\" onclick='addToWatchlist(\"JBLB\");' title=\"Add to Watchlist\"><i class=\"icon-tags icon-white\"></i></a></td><td><a href=\"javascript:void(0);\" onclick='setAlert(\"JBLB\");' title=\"Set as Alert\"><i class=\"icon-bell icon-white\"></i></a></td></tr>\n",
       "<tr class=\"decrease-row\"><td><a href=\"/CompanyDetail.aspx?symbol=JFL\" target=\"_blank\" title=\"JFL (Janaki Finance Ltd.)\">JFL</a></td><td class=\"text-right\">416.70</td><td class=\"text-right\">-2.39</td><td class=\"text-right\">429.00</td><td class=\"text-right\">416.10</td><td class=\"text-right\">419.00</td><td class=\"text-right\">9,595</td><td><a href=\"javascript:void(0);\" onclick='addToWatchlist(\"JFL\");' title=\"Add to Watchlist\"><i class=\"icon-tags icon-white\"></i></a></td><td><a href=\"javascript:void(0);\" onclick='setAlert(\"JFL\");' title=\"Set as Alert\"><i class=\"icon-bell icon-white\"></i></a></td></tr>\n",
       "<tr class=\"increase-row\"><td><a href=\"/CompanyDetail.aspx?symbol=JOSHI\" target=\"_blank\" title=\"JOSHI (Joshi Hydropower Development Company Ltd)\">JOSHI</a></td><td class=\"text-right\">263.90</td><td class=\"text-right\">4.31</td><td class=\"text-right\">272.00</td><td class=\"text-right\">248.00</td><td class=\"text-right\">250.00</td><td class=\"text-right\">122,581</td><td><a href=\"javascript:void(0);\" onclick='addToWatchlist(\"JOSHI\");' title=\"Add to Watchlist\"><i class=\"icon-tags icon-white\"></i></a></td><td><a href=\"javascript:void(0);\" onclick='setAlert(\"JOSHI\");' title=\"Set as Alert\"><i class=\"icon-bell icon-white\"></i></a></td></tr>\n",
       "<tr class=\"decrease-row\"><td><a href=\"/CompanyDetail.aspx?symbol=JSLBB\" target=\"_blank\" title=\"JSLBB (Janautthan Samudayic Laghubitta Bittiya Sanstha Limited)\">JSLBB</a></td><td class=\"text-right\">1,616.00</td><td class=\"text-right\">-1.82</td><td class=\"text-right\">1,670.00</td><td class=\"text-right\">1,581.80</td><td class=\"text-right\">1,614.00</td><td class=\"text-right\">1,051</td><td><a href=\"javascript:void(0);\" onclick='addToWatchlist(\"JSLBB\");' title=\"Add to Watchlist\"><i class=\"icon-tags icon-white\"></i></a></td><td><a href=\"javascript:void(0);\" onclick='setAlert(\"JSLBB\");' title=\"Set as Alert\"><i class=\"icon-bell icon-white\"></i></a></td></tr>\n",
       "<tr class=\"decrease-row\"><td><a href=\"/CompanyDetail.aspx?symbol=KBL\" target=\"_blank\" title=\"KBL (Kumari Bank Limited)\">KBL</a></td><td class=\"text-right\">195.00</td><td class=\"text-right\">-1.07</td><td class=\"text-right\">199.00</td><td class=\"text-right\">194.00</td><td class=\"text-right\">197.00</td><td class=\"text-right\">172,680</td><td><a href=\"javascript:void(0);\" onclick='addToWatchlist(\"KBL\");' title=\"Add to Watchlist\"><i class=\"icon-tags icon-white\"></i></a></td><td><a href=\"javascript:void(0);\" onclick='setAlert(\"KBL\");' title=\"Set as Alert\"><i class=\"icon-bell icon-white\"></i></a></td></tr>\n",
       "<tr class=\"decrease-row\"><td><a href=\"/CompanyDetail.aspx?symbol=KBLD86\" target=\"_blank\" title=\"KBLD86 (10.25% Kumari Bank Debenture 2086)\">KBLD86</a></td><td class=\"text-right\">864.40</td><td class=\"text-right\">-3.96</td><td class=\"text-right\">882.00</td><td class=\"text-right\">864.40</td><td class=\"text-right\">882.00</td><td class=\"text-right\">200</td><td><a href=\"javascript:void(0);\" onclick='addToWatchlist(\"KBLD86\");' title=\"Add to Watchlist\"><i class=\"icon-tags icon-white\"></i></a></td><td><a href=\"javascript:void(0);\" onclick='setAlert(\"KBLD86\");' title=\"Set as Alert\"><i class=\"icon-bell icon-white\"></i></a></td></tr>\n",
       "<tr class=\"increase-row\"><td><a href=\"/CompanyDetail.aspx?symbol=KDBY\" target=\"_blank\" title=\"KDBY (Kumari Dhanabriddhi Yojana)\">KDBY</a></td><td class=\"text-right\">8.78</td><td class=\"text-right\">1.15</td><td class=\"text-right\">8.89</td><td class=\"text-right\">8.51</td><td class=\"text-right\">8.51</td><td class=\"text-right\">5,700</td><td><a href=\"javascript:void(0);\" onclick='addToWatchlist(\"KDBY\");' title=\"Add to Watchlist\"><i class=\"icon-tags icon-white\"></i></a></td><td><a href=\"javascript:void(0);\" onclick='setAlert(\"KDBY\");' title=\"Set as Alert\"><i class=\"icon-bell icon-white\"></i></a></td></tr>\n",
       "<tr class=\"nochange-row\"><td><a href=\"/CompanyDetail.aspx?symbol=KEF\" target=\"_blank\" title=\"KEF (Kumari Equity Fund)\">KEF</a></td><td class=\"text-right\">9.00</td><td class=\"text-right\">0</td><td class=\"text-right\">9.10</td><td class=\"text-right\">8.71</td><td class=\"text-right\">8.82</td><td class=\"text-right\">17,501</td><td><a href=\"javascript:void(0);\" onclick='addToWatchlist(\"KEF\");' title=\"Add to Watchlist\"><i class=\"icon-tags icon-white\"></i></a></td><td><a href=\"javascript:void(0);\" onclick='setAlert(\"KEF\");' title=\"Set as Alert\"><i class=\"icon-bell icon-white\"></i></a></td></tr>\n",
       "<tr class=\"decrease-row\"><td><a href=\"/CompanyDetail.aspx?symbol=KKHC\" target=\"_blank\" title=\"KKHC (Khanikhola Hydropower Co. Ltd.)\">KKHC</a></td><td class=\"text-right\">257.00</td><td class=\"text-right\">-1.91</td><td class=\"text-right\">264.10</td><td class=\"text-right\">253.90</td><td class=\"text-right\">262.00</td><td class=\"text-right\">15,345</td><td><a href=\"javascript:void(0);\" onclick='addToWatchlist(\"KKHC\");' title=\"Add to Watchlist\"><i class=\"icon-tags icon-white\"></i></a></td><td><a href=\"javascript:void(0);\" onclick='setAlert(\"KKHC\");' title=\"Set as Alert\"><i class=\"icon-bell icon-white\"></i></a></td></tr>\n",
       "<tr class=\"decrease-row\"><td><a href=\"/CompanyDetail.aspx?symbol=KLBS\" target=\"_blank\" title=\"KLBS (Khaptad Laghubitta Bittiya Sanstha Limited)\">KLBS</a></td><td class=\"text-right\">1,384.00</td><td class=\"text-right\">-0.44</td><td class=\"text-right\">1,397.00</td><td class=\"text-right\">1,370.00</td><td class=\"text-right\">1,370.20</td><td class=\"text-right\">950</td><td><a href=\"javascript:void(0);\" onclick='addToWatchlist(\"KLBS\");' title=\"Add to Watchlist\"><i class=\"icon-tags icon-white\"></i></a></td><td><a href=\"javascript:void(0);\" onclick='setAlert(\"KLBS\");' title=\"Set as Alert\"><i class=\"icon-bell icon-white\"></i></a></td></tr>\n",
       "<tr class=\"nochange-row\"><td><a href=\"/CompanyDetail.aspx?symbol=KLBSL\" target=\"_blank\" title=\"KLBSL (Kisan Lagubitta Bittiya Sanstha Limited)\">KLBSL</a></td><td class=\"text-right\">862.00</td><td class=\"text-right\">0</td><td class=\"text-right\">877.00</td><td class=\"text-right\">862.00</td><td class=\"text-right\">865.00</td><td class=\"text-right\">128</td><td><a href=\"javascript:void(0);\" onclick='addToWatchlist(\"KLBSL\");' title=\"Add to Watchlist\"><i class=\"icon-tags icon-white\"></i></a></td><td><a href=\"javascript:void(0);\" onclick='setAlert(\"KLBSL\");' title=\"Set as Alert\"><i class=\"icon-bell icon-white\"></i></a></td></tr>\n",
       "<tr class=\"decrease-row\"><td><a href=\"/CompanyDetail.aspx?symbol=KMCDB\" target=\"_blank\" title=\"KMCDB (Kalika Laghubitta Bittiya Sanstha Limited)\">KMCDB</a></td><td class=\"text-right\">1,020.00</td><td class=\"text-right\">-3.23</td><td class=\"text-right\">1,050.00</td><td class=\"text-right\">1,015.00</td><td class=\"text-right\">1,050.00</td><td class=\"text-right\">1,489</td><td><a href=\"javascript:void(0);\" onclick='addToWatchlist(\"KMCDB\");' title=\"Add to Watchlist\"><i class=\"icon-tags icon-white\"></i></a></td><td><a href=\"javascript:void(0);\" onclick='setAlert(\"KMCDB\");' title=\"Set as Alert\"><i class=\"icon-bell icon-white\"></i></a></td></tr>\n",
       "<tr class=\"decrease-row\"><td><a href=\"/CompanyDetail.aspx?symbol=KPCL\" target=\"_blank\" title=\"KPCL (Kalika power Company Ltd)\">KPCL</a></td><td class=\"text-right\">392.00</td><td class=\"text-right\">-1.75</td><td class=\"text-right\">402.00</td><td class=\"text-right\">390.00</td><td class=\"text-right\">400.00</td><td class=\"text-right\">4,457</td><td><a href=\"javascript:void(0);\" onclick='addToWatchlist(\"KPCL\");' title=\"Add to Watchlist\"><i class=\"icon-tags icon-white\"></i></a></td><td><a href=\"javascript:void(0);\" onclick='setAlert(\"KPCL\");' title=\"Set as Alert\"><i class=\"icon-bell icon-white\"></i></a></td></tr>\n",
       "<tr class=\"decrease-row\"><td><a href=\"/CompanyDetail.aspx?symbol=KRBL\" target=\"_blank\" title=\"KRBL (Karnali Development Bank Limited)\">KRBL</a></td><td class=\"text-right\">299.00</td><td class=\"text-right\">-2.86</td><td class=\"text-right\">304.50</td><td class=\"text-right\">298.00</td><td class=\"text-right\">301.70</td><td class=\"text-right\">13,271</td><td><a href=\"javascript:void(0);\" onclick='addToWatchlist(\"KRBL\");' title=\"Add to Watchlist\"><i class=\"icon-tags icon-white\"></i></a></td><td><a href=\"javascript:void(0);\" onclick='setAlert(\"KRBL\");' title=\"Set as Alert\"><i class=\"icon-bell icon-white\"></i></a></td></tr>\n",
       "<tr class=\"decrease-row\"><td><a href=\"/CompanyDetail.aspx?symbol=KSBBL\" target=\"_blank\" title=\"KSBBL (Kamana Sewa Bikas Bank Limited)\">KSBBL</a></td><td class=\"text-right\">335.30</td><td class=\"text-right\">-1.09</td><td class=\"text-right\">345.00</td><td class=\"text-right\">333.00</td><td class=\"text-right\">338.00</td><td class=\"text-right\">40,166</td><td><a href=\"javascript:void(0);\" onclick='addToWatchlist(\"KSBBL\");' title=\"Add to Watchlist\"><i class=\"icon-tags icon-white\"></i></a></td><td><a href=\"javascript:void(0);\" onclick='setAlert(\"KSBBL\");' title=\"Set as Alert\"><i class=\"icon-bell icon-white\"></i></a></td></tr>\n",
       "<tr class=\"decrease-row\"><td><a href=\"/CompanyDetail.aspx?symbol=LBBL\" target=\"_blank\" title=\"LBBL (Lumbini Bikas Bank Ltd.)\">LBBL</a></td><td class=\"text-right\">366.20</td><td class=\"text-right\">-2.84</td><td class=\"text-right\">384.40</td><td class=\"text-right\">366.00</td><td class=\"text-right\">384.40</td><td class=\"text-right\">32,567</td><td><a href=\"javascript:void(0);\" onclick='addToWatchlist(\"LBBL\");' title=\"Add to Watchlist\"><i class=\"icon-tags icon-white\"></i></a></td><td><a href=\"javascript:void(0);\" onclick='setAlert(\"LBBL\");' title=\"Set as Alert\"><i class=\"icon-bell icon-white\"></i></a></td></tr>\n",
       "<tr class=\"decrease-row\"><td><a href=\"/CompanyDetail.aspx?symbol=LBL\" target=\"_blank\" title=\"LBL (Laxmi Bank Limited)\">LBL</a></td><td class=\"text-right\">199.30</td><td class=\"text-right\">-0.25</td><td class=\"text-right\">202.00</td><td class=\"text-right\">198.60</td><td class=\"text-right\">200.00</td><td class=\"text-right\">24,005</td><td><a href=\"javascript:void(0);\" onclick='addToWatchlist(\"LBL\");' title=\"Add to Watchlist\"><i class=\"icon-tags icon-white\"></i></a></td><td><a href=\"javascript:void(0);\" onclick='setAlert(\"LBL\");' title=\"Set as Alert\"><i class=\"icon-bell icon-white\"></i></a></td></tr>\n",
       "<tr class=\"decrease-row\"><td><a href=\"/CompanyDetail.aspx?symbol=LEC\" target=\"_blank\" title=\"LEC (Liberty Energy Company Limited)\">LEC</a></td><td class=\"text-right\">296.00</td><td class=\"text-right\">-2.92</td><td class=\"text-right\">303.00</td><td class=\"text-right\">290.00</td><td class=\"text-right\">300.00</td><td class=\"text-right\">28,402</td><td><a href=\"javascript:void(0);\" onclick='addToWatchlist(\"LEC\");' title=\"Add to Watchlist\"><i class=\"icon-tags icon-white\"></i></a></td><td><a href=\"javascript:void(0);\" onclick='setAlert(\"LEC\");' title=\"Set as Alert\"><i class=\"icon-bell icon-white\"></i></a></td></tr>\n",
       "<tr class=\"increase-row\"><td><a href=\"/CompanyDetail.aspx?symbol=LEMF\" target=\"_blank\" title=\"LEMF (Laxmi Equity Fund)\">LEMF</a></td><td class=\"text-right\">9.60</td><td class=\"text-right\">1.05</td><td class=\"text-right\">9.60</td><td class=\"text-right\">9.42</td><td class=\"text-right\">9.50</td><td class=\"text-right\">42,650</td><td><a href=\"javascript:void(0);\" onclick='addToWatchlist(\"LEMF\");' title=\"Add to Watchlist\"><i class=\"icon-tags icon-white\"></i></a></td><td><a href=\"javascript:void(0);\" onclick='setAlert(\"LEMF\");' title=\"Set as Alert\"><i class=\"icon-bell icon-white\"></i></a></td></tr>\n",
       "<tr class=\"increase-row\"><td><a href=\"/CompanyDetail.aspx?symbol=LGIL\" target=\"_blank\" title=\"LGIL (Lumbini General Insurance Co. Ltd.)\">LGIL</a></td><td class=\"text-right\">462.20</td><td class=\"text-right\">10</td><td class=\"text-right\">462.20</td><td class=\"text-right\">428.60</td><td class=\"text-right\">428.60</td><td class=\"text-right\">907</td><td><a href=\"javascript:void(0);\" onclick='addToWatchlist(\"LGIL\");' title=\"Add to Watchlist\"><i class=\"icon-tags icon-white\"></i></a></td><td><a href=\"javascript:void(0);\" onclick='setAlert(\"LGIL\");' title=\"Set as Alert\"><i class=\"icon-bell icon-white\"></i></a></td></tr>\n",
       "<tr class=\"decrease-row\"><td><a href=\"/CompanyDetail.aspx?symbol=LICN\" target=\"_blank\" title=\"LICN (Life Insurance Co. Nepal)\">LICN</a></td><td class=\"text-right\">1,539.30</td><td class=\"text-right\">-0.63</td><td class=\"text-right\">1,574.90</td><td class=\"text-right\">1,519.00</td><td class=\"text-right\">1,574.90</td><td class=\"text-right\">10,343</td><td><a href=\"javascript:void(0);\" onclick='addToWatchlist(\"LICN\");' title=\"Add to Watchlist\"><i class=\"icon-tags icon-white\"></i></a></td><td><a href=\"javascript:void(0);\" onclick='setAlert(\"LICN\");' title=\"Set as Alert\"><i class=\"icon-bell icon-white\"></i></a></td></tr>\n",
       "<tr class=\"increase-row\"><td><a href=\"/CompanyDetail.aspx?symbol=LLBS\" target=\"_blank\" title=\"LLBS (Laxmi Laghubitta Bittiya Sanstha Ltd.)\">LLBS</a></td><td class=\"text-right\">1,171.00</td><td class=\"text-right\">1.12</td><td class=\"text-right\">1,179.00</td><td class=\"text-right\">1,135.20</td><td class=\"text-right\">1,135.20</td><td class=\"text-right\">1,030</td><td><a href=\"javascript:void(0);\" onclick='addToWatchlist(\"LLBS\");' title=\"Add to Watchlist\"><i class=\"icon-tags icon-white\"></i></a></td><td><a href=\"javascript:void(0);\" onclick='setAlert(\"LLBS\");' title=\"Set as Alert\"><i class=\"icon-bell icon-white\"></i></a></td></tr>\n",
       "<tr class=\"decrease-row\"><td><a href=\"/CompanyDetail.aspx?symbol=LUK\" target=\"_blank\" title=\"LUK (Laxmi unnati Kosh)\">LUK</a></td><td class=\"text-right\">8.72</td><td class=\"text-right\">-1.8</td><td class=\"text-right\">8.73</td><td class=\"text-right\">8.72</td><td class=\"text-right\">8.73</td><td class=\"text-right\">12,110</td><td><a href=\"javascript:void(0);\" onclick='addToWatchlist(\"LUK\");' title=\"Add to Watchlist\"><i class=\"icon-tags icon-white\"></i></a></td><td><a href=\"javascript:void(0);\" onclick='setAlert(\"LUK\");' title=\"Set as Alert\"><i class=\"icon-bell icon-white\"></i></a></td></tr>\n",
       "<tr class=\"increase-row\"><td><a href=\"/CompanyDetail.aspx?symbol=MBJC\" target=\"_blank\" title=\"MBJC (Madhya Bhotekoshi Jalavidyut Company Limited)\">MBJC</a></td><td class=\"text-right\">326.00</td><td class=\"text-right\">0.62</td><td class=\"text-right\">332.00</td><td class=\"text-right\">315.10</td><td class=\"text-right\">320.00</td><td class=\"text-right\">56,892</td><td><a href=\"javascript:void(0);\" onclick='addToWatchlist(\"MBJC\");' title=\"Add to Watchlist\"><i class=\"icon-tags icon-white\"></i></a></td><td><a href=\"javascript:void(0);\" onclick='setAlert(\"MBJC\");' title=\"Set as Alert\"><i class=\"icon-bell icon-white\"></i></a></td></tr>\n",
       "<tr class=\"decrease-row\"><td><a href=\"/CompanyDetail.aspx?symbol=MBL\" target=\"_blank\" title=\"MBL (Machhapuchchhre Bank Limited)\">MBL</a></td><td class=\"text-right\">243.00</td><td class=\"text-right\">-0.82</td><td class=\"text-right\">249.00</td><td class=\"text-right\">242.00</td><td class=\"text-right\">249.00</td><td class=\"text-right\">19,087</td><td><a href=\"javascript:void(0);\" onclick='addToWatchlist(\"MBL\");' title=\"Add to Watchlist\"><i class=\"icon-tags icon-white\"></i></a></td><td><a href=\"javascript:void(0);\" onclick='setAlert(\"MBL\");' title=\"Set as Alert\"><i class=\"icon-bell icon-white\"></i></a></td></tr>\n",
       "<tr class=\"decrease-row\"><td><a href=\"/CompanyDetail.aspx?symbol=MDB\" target=\"_blank\" title=\"MDB (Miteri Development Bank Limited)\">MDB</a></td><td class=\"text-right\">395.00</td><td class=\"text-right\">-2.47</td><td class=\"text-right\">413.00</td><td class=\"text-right\">395.00</td><td class=\"text-right\">409.90</td><td class=\"text-right\">10,292</td><td><a href=\"javascript:void(0);\" onclick='addToWatchlist(\"MDB\");' title=\"Add to Watchlist\"><i class=\"icon-tags icon-white\"></i></a></td><td><a href=\"javascript:void(0);\" onclick='setAlert(\"MDB\");' title=\"Set as Alert\"><i class=\"icon-bell icon-white\"></i></a></td></tr>\n",
       "<tr class=\"decrease-row\"><td><a href=\"/CompanyDetail.aspx?symbol=MEN\" target=\"_blank\" title=\"MEN (Mountain Energy Nepal Limited)\">MEN</a></td><td class=\"text-right\">812.00</td><td class=\"text-right\">-0.98</td><td class=\"text-right\">825.00</td><td class=\"text-right\">787.60</td><td class=\"text-right\">803.60</td><td class=\"text-right\">1,393</td><td><a href=\"javascript:void(0);\" onclick='addToWatchlist(\"MEN\");' title=\"Add to Watchlist\"><i class=\"icon-tags icon-white\"></i></a></td><td><a href=\"javascript:void(0);\" onclick='setAlert(\"MEN\");' title=\"Set as Alert\"><i class=\"icon-bell icon-white\"></i></a></td></tr>\n",
       "<tr class=\"decrease-row\"><td><a href=\"/CompanyDetail.aspx?symbol=MERO\" target=\"_blank\" title=\"MERO (Meromicrofinance Laghubitta Bittiya Sanstha Ltd.)\">MERO</a></td><td class=\"text-right\">772.50</td><td class=\"text-right\">-1.47</td><td class=\"text-right\">779.00</td><td class=\"text-right\">757.20</td><td class=\"text-right\">769.00</td><td class=\"text-right\">1,661</td><td><a href=\"javascript:void(0);\" onclick='addToWatchlist(\"MERO\");' title=\"Add to Watchlist\"><i class=\"icon-tags icon-white\"></i></a></td><td><a href=\"javascript:void(0);\" onclick='setAlert(\"MERO\");' title=\"Set as Alert\"><i class=\"icon-bell icon-white\"></i></a></td></tr>\n",
       "<tr class=\"decrease-row\"><td><a href=\"/CompanyDetail.aspx?symbol=MFIL\" target=\"_blank\" title=\"MFIL (Manjushree Finance Ltd.)\">MFIL</a></td><td class=\"text-right\">488.00</td><td class=\"text-right\">-0.71</td><td class=\"text-right\">506.00</td><td class=\"text-right\">487.00</td><td class=\"text-right\">491.00</td><td class=\"text-right\">34,460</td><td><a href=\"javascript:void(0);\" onclick='addToWatchlist(\"MFIL\");' title=\"Add to Watchlist\"><i class=\"icon-tags icon-white\"></i></a></td><td><a href=\"javascript:void(0);\" onclick='setAlert(\"MFIL\");' title=\"Set as Alert\"><i class=\"icon-bell icon-white\"></i></a></td></tr>\n",
       "<tr class=\"decrease-row\"><td><a href=\"/CompanyDetail.aspx?symbol=MHL\" target=\"_blank\" title=\"MHL (Mandakini Hydropower Limited)\">MHL</a></td><td class=\"text-right\">394.00</td><td class=\"text-right\">-0.25</td><td class=\"text-right\">398.00</td><td class=\"text-right\">379.40</td><td class=\"text-right\">387.10</td><td class=\"text-right\">16,850</td><td><a href=\"javascript:void(0);\" onclick='addToWatchlist(\"MHL\");' title=\"Add to Watchlist\"><i class=\"icon-tags icon-white\"></i></a></td><td><a href=\"javascript:void(0);\" onclick='setAlert(\"MHL\");' title=\"Set as Alert\"><i class=\"icon-bell icon-white\"></i></a></td></tr>\n",
       "<tr class=\"decrease-row\"><td><a href=\"/CompanyDetail.aspx?symbol=MHNL\" target=\"_blank\" title=\"MHNL (Mountain Hydro Nepal Limited)\">MHNL</a></td><td class=\"text-right\">337.00</td><td class=\"text-right\">-2.01</td><td class=\"text-right\">343.00</td><td class=\"text-right\">333.00</td><td class=\"text-right\">338.10</td><td class=\"text-right\">38,355</td><td><a href=\"javascript:void(0);\" onclick='addToWatchlist(\"MHNL\");' title=\"Add to Watchlist\"><i class=\"icon-tags icon-white\"></i></a></td><td><a href=\"javascript:void(0);\" onclick='setAlert(\"MHNL\");' title=\"Set as Alert\"><i class=\"icon-bell icon-white\"></i></a></td></tr>\n",
       "<tr class=\"decrease-row\"><td><a href=\"/CompanyDetail.aspx?symbol=MKJC\" target=\"_blank\" title=\"MKJC (Mailung Khola Jal Vidhyut Company  Limited)\">MKJC</a></td><td class=\"text-right\">487.90</td><td class=\"text-right\">-1.87</td><td class=\"text-right\">497.00</td><td class=\"text-right\">481.00</td><td class=\"text-right\">490.00</td><td class=\"text-right\">8,276</td><td><a href=\"javascript:void(0);\" onclick='addToWatchlist(\"MKJC\");' title=\"Add to Watchlist\"><i class=\"icon-tags icon-white\"></i></a></td><td><a href=\"javascript:void(0);\" onclick='setAlert(\"MKJC\");' title=\"Set as Alert\"><i class=\"icon-bell icon-white\"></i></a></td></tr>\n",
       "<tr class=\"decrease-row\"><td><a href=\"/CompanyDetail.aspx?symbol=MKLB\" target=\"_blank\" title=\"MKLB (Manakamana Smart Laghubitta Bittiya Sanstha Limited)\">MKLB</a></td><td class=\"text-right\">890.00</td><td class=\"text-right\">-2.57</td><td class=\"text-right\">901.00</td><td class=\"text-right\">888.00</td><td class=\"text-right\">898.10</td><td class=\"text-right\">545</td><td><a href=\"javascript:void(0);\" onclick='addToWatchlist(\"MKLB\");' title=\"Add to Watchlist\"><i class=\"icon-tags icon-white\"></i></a></td><td><a href=\"javascript:void(0);\" onclick='setAlert(\"MKLB\");' title=\"Set as Alert\"><i class=\"icon-bell icon-white\"></i></a></td></tr>\n",
       "<tr class=\"decrease-row\"><td><a href=\"/CompanyDetail.aspx?symbol=MLBBL\" target=\"_blank\" title=\"MLBBL (Mithila Laghubitta Bittiya Sanstha Ltd.)\">MLBBL</a></td><td class=\"text-right\">1,103.00</td><td class=\"text-right\">-1.34</td><td class=\"text-right\">1,139.00</td><td class=\"text-right\">1,101.00</td><td class=\"text-right\">1,139.00</td><td class=\"text-right\">972</td><td><a href=\"javascript:void(0);\" onclick='addToWatchlist(\"MLBBL\");' title=\"Add to Watchlist\"><i class=\"icon-tags icon-white\"></i></a></td><td><a href=\"javascript:void(0);\" onclick='setAlert(\"MLBBL\");' title=\"Set as Alert\"><i class=\"icon-bell icon-white\"></i></a></td></tr>\n",
       "<tr class=\"decrease-row\"><td><a href=\"/CompanyDetail.aspx?symbol=MLBL\" target=\"_blank\" title=\"MLBL (Mahalaxmi Bikas Bank Ltd.)\">MLBL</a></td><td class=\"text-right\">347.50</td><td class=\"text-right\">-1.84</td><td class=\"text-right\">355.00</td><td class=\"text-right\">347.30</td><td class=\"text-right\">352.00</td><td class=\"text-right\">42,047</td><td><a href=\"javascript:void(0);\" onclick='addToWatchlist(\"MLBL\");' title=\"Add to Watchlist\"><i class=\"icon-tags icon-white\"></i></a></td><td><a href=\"javascript:void(0);\" onclick='setAlert(\"MLBL\");' title=\"Set as Alert\"><i class=\"icon-bell icon-white\"></i></a></td></tr>\n",
       "<tr class=\"decrease-row\"><td><a href=\"/CompanyDetail.aspx?symbol=MLBS\" target=\"_blank\" title=\"MLBS (Manushi Laghubitta Bittiya Sanstha Limited)\">MLBS</a></td><td class=\"text-right\">1,050.20</td><td class=\"text-right\">-3.21</td><td class=\"text-right\">1,080.50</td><td class=\"text-right\">1,045.00</td><td class=\"text-right\">1,080.50</td><td class=\"text-right\">330</td><td><a href=\"javascript:void(0);\" onclick='addToWatchlist(\"MLBS\");' title=\"Add to Watchlist\"><i class=\"icon-tags icon-white\"></i></a></td><td><a href=\"javascript:void(0);\" onclick='setAlert(\"MLBS\");' title=\"Set as Alert\"><i class=\"icon-bell icon-white\"></i></a></td></tr>\n",
       "<tr class=\"decrease-row\"><td><a href=\"/CompanyDetail.aspx?symbol=MLBSL\" target=\"_blank\" title=\"MLBSL (Mahila Laghubitta Bittiya Sanstha Limited)\">MLBSL</a></td><td class=\"text-right\">4,103.00</td><td class=\"text-right\">-1.13</td><td class=\"text-right\">4,140.00</td><td class=\"text-right\">4,071.00</td><td class=\"text-right\">4,081.00</td><td class=\"text-right\">696</td><td><a href=\"javascript:void(0);\" onclick='addToWatchlist(\"MLBSL\");' title=\"Add to Watchlist\"><i class=\"icon-tags icon-white\"></i></a></td><td><a href=\"javascript:void(0);\" onclick='setAlert(\"MLBSL\");' title=\"Set as Alert\"><i class=\"icon-bell icon-white\"></i></a></td></tr>\n",
       "<tr class=\"decrease-row\"><td><a href=\"/CompanyDetail.aspx?symbol=MMF1\" target=\"_blank\" title=\"MMF1 (Mega Mutual Fund-1)\">MMF1</a></td><td class=\"text-right\">7.90</td><td class=\"text-right\">-2.59</td><td class=\"text-right\">8.00</td><td class=\"text-right\">7.80</td><td class=\"text-right\">7.95</td><td class=\"text-right\">7,830</td><td><a href=\"javascript:void(0);\" onclick='addToWatchlist(\"MMF1\");' title=\"Add to Watchlist\"><i class=\"icon-tags icon-white\"></i></a></td><td><a href=\"javascript:void(0);\" onclick='setAlert(\"MMF1\");' title=\"Set as Alert\"><i class=\"icon-bell icon-white\"></i></a></td></tr>\n",
       "<tr class=\"decrease-row\"><td><a href=\"/CompanyDetail.aspx?symbol=MMFDB\" target=\"_blank\" title=\"MMFDB (Mirmire Laghubitta Bittiya Sanstha Ltd.)\">MMFDB</a></td><td class=\"text-right\">830.00</td><td class=\"text-right\">-0.02</td><td class=\"text-right\">850.00</td><td class=\"text-right\">825.00</td><td class=\"text-right\">826.00</td><td class=\"text-right\">1,725</td><td><a href=\"javascript:void(0);\" onclick='addToWatchlist(\"MMFDB\");' title=\"Add to Watchlist\"><i class=\"icon-tags icon-white\"></i></a></td><td><a href=\"javascript:void(0);\" onclick='setAlert(\"MMFDB\");' title=\"Set as Alert\"><i class=\"icon-bell icon-white\"></i></a></td></tr>\n",
       "<tr class=\"decrease-row\"><td><a href=\"/CompanyDetail.aspx?symbol=MNBBL\" target=\"_blank\" title=\"MNBBL (Muktinath Bikas Bank Ltd.)\">MNBBL</a></td><td class=\"text-right\">412.00</td><td class=\"text-right\">-1.13</td><td class=\"text-right\">420.00</td><td class=\"text-right\">411.00</td><td class=\"text-right\">415.00</td><td class=\"text-right\">25,550</td><td><a href=\"javascript:void(0);\" onclick='addToWatchlist(\"MNBBL\");' title=\"Add to Watchlist\"><i class=\"icon-tags icon-white\"></i></a></td><td><a href=\"javascript:void(0);\" onclick='setAlert(\"MNBBL\");' title=\"Set as Alert\"><i class=\"icon-bell icon-white\"></i></a></td></tr>\n",
       "<tr class=\"decrease-row\"><td><a href=\"/CompanyDetail.aspx?symbol=MPFL\" target=\"_blank\" title=\"MPFL (Multipurpose Finance Company Limited)\">MPFL</a></td><td class=\"text-right\">347.00</td><td class=\"text-right\">-2.75</td><td class=\"text-right\">354.90</td><td class=\"text-right\">345.10</td><td class=\"text-right\">350.00</td><td class=\"text-right\">12,865</td><td><a href=\"javascript:void(0);\" onclick='addToWatchlist(\"MPFL\");' title=\"Add to Watchlist\"><i class=\"icon-tags icon-white\"></i></a></td><td><a href=\"javascript:void(0);\" onclick='setAlert(\"MPFL\");' title=\"Set as Alert\"><i class=\"icon-bell icon-white\"></i></a></td></tr>\n",
       "<tr class=\"decrease-row\"><td><a href=\"/CompanyDetail.aspx?symbol=MSLB\" target=\"_blank\" title=\"MSLB (Mahuli Laghubitta Bittiya Sanstha Ltd.)\">MSLB</a></td><td class=\"text-right\">1,214.00</td><td class=\"text-right\">-0.98</td><td class=\"text-right\">1,220.00</td><td class=\"text-right\">1,212.00</td><td class=\"text-right\">1,220.00</td><td class=\"text-right\">78</td><td><a href=\"javascript:void(0);\" onclick='addToWatchlist(\"MSLB\");' title=\"Add to Watchlist\"><i class=\"icon-tags icon-white\"></i></a></td><td><a href=\"javascript:void(0);\" onclick='setAlert(\"MSLB\");' title=\"Set as Alert\"><i class=\"icon-bell icon-white\"></i></a></td></tr>\n",
       "<tr class=\"increase-row\"><td><a href=\"/CompanyDetail.aspx?symbol=NABBC\" target=\"_blank\" title=\"NABBC (Narayani Development Bank Limited)\">NABBC</a></td><td class=\"text-right\">468.90</td><td class=\"text-right\">0.95</td><td class=\"text-right\">468.90</td><td class=\"text-right\">441.00</td><td class=\"text-right\">458.00</td><td class=\"text-right\">21,898</td><td><a href=\"javascript:void(0);\" onclick='addToWatchlist(\"NABBC\");' title=\"Add to Watchlist\"><i class=\"icon-tags icon-white\"></i></a></td><td><a href=\"javascript:void(0);\" onclick='setAlert(\"NABBC\");' title=\"Set as Alert\"><i class=\"icon-bell icon-white\"></i></a></td></tr>\n",
       "<tr class=\"decrease-row\"><td><a href=\"/CompanyDetail.aspx?symbol=NABIL\" target=\"_blank\" title=\"NABIL (Nabil Bank Limited)\">NABIL</a></td><td class=\"text-right\">702.50</td><td class=\"text-right\">-0.44</td><td class=\"text-right\">709.00</td><td class=\"text-right\">701.10</td><td class=\"text-right\">707.00</td><td class=\"text-right\">57,268</td><td><a href=\"javascript:void(0);\" onclick='addToWatchlist(\"NABIL\");' title=\"Add to Watchlist\"><i class=\"icon-tags icon-white\"></i></a></td><td><a href=\"javascript:void(0);\" onclick='setAlert(\"NABIL\");' title=\"Set as Alert\"><i class=\"icon-bell icon-white\"></i></a></td></tr>\n",
       "<tr class=\"decrease-row\"><td><a href=\"/CompanyDetail.aspx?symbol=NADEP\" target=\"_blank\" title=\"NADEP (Nadep Laghubitta Bittiya Sanstha Ltd.)\">NADEP</a></td><td class=\"text-right\">786.00</td><td class=\"text-right\">-2.24</td><td class=\"text-right\">800.00</td><td class=\"text-right\">782.00</td><td class=\"text-right\">790.00</td><td class=\"text-right\">7,696</td><td><a href=\"javascript:void(0);\" onclick='addToWatchlist(\"NADEP\");' title=\"Add to Watchlist\"><i class=\"icon-tags icon-white\"></i></a></td><td><a href=\"javascript:void(0);\" onclick='setAlert(\"NADEP\");' title=\"Set as Alert\"><i class=\"icon-bell icon-white\"></i></a></td></tr>\n",
       "<tr class=\"decrease-row\"><td><a href=\"/CompanyDetail.aspx?symbol=NBF2\" target=\"_blank\" title=\"NBF2 (NABIL BALANCED FUND-2)\">NBF2</a></td><td class=\"text-right\">9.00</td><td class=\"text-right\">-0.88</td><td class=\"text-right\">9.10</td><td class=\"text-right\">9.00</td><td class=\"text-right\">9.00</td><td class=\"text-right\">12,580</td><td><a href=\"javascript:void(0);\" onclick='addToWatchlist(\"NBF2\");' title=\"Add to Watchlist\"><i class=\"icon-tags icon-white\"></i></a></td><td><a href=\"javascript:void(0);\" onclick='setAlert(\"NBF2\");' title=\"Set as Alert\"><i class=\"icon-bell icon-white\"></i></a></td></tr>\n",
       "<tr class=\"decrease-row\"><td><a href=\"/CompanyDetail.aspx?symbol=NBF3\" target=\"_blank\" title=\"NBF3 (nabil Balanced Fund-3)\">NBF3</a></td><td class=\"text-right\">7.90</td><td class=\"text-right\">-1.25</td><td class=\"text-right\">7.95</td><td class=\"text-right\">7.70</td><td class=\"text-right\">7.84</td><td class=\"text-right\">19,808</td><td><a href=\"javascript:void(0);\" onclick='addToWatchlist(\"NBF3\");' title=\"Add to Watchlist\"><i class=\"icon-tags icon-white\"></i></a></td><td><a href=\"javascript:void(0);\" onclick='setAlert(\"NBF3\");' title=\"Set as Alert\"><i class=\"icon-bell icon-white\"></i></a></td></tr>\n",
       "<tr class=\"decrease-row\"><td><a href=\"/CompanyDetail.aspx?symbol=NBL\" target=\"_blank\" title=\"NBL (Nepal Bank Limited)\">NBL</a></td><td class=\"text-right\">274.00</td><td class=\"text-right\">-0.47</td><td class=\"text-right\">279.90</td><td class=\"text-right\">273.10</td><td class=\"text-right\">275.30</td><td class=\"text-right\">42,044</td><td><a href=\"javascript:void(0);\" onclick='addToWatchlist(\"NBL\");' title=\"Add to Watchlist\"><i class=\"icon-tags icon-white\"></i></a></td><td><a href=\"javascript:void(0);\" onclick='setAlert(\"NBL\");' title=\"Set as Alert\"><i class=\"icon-bell icon-white\"></i></a></td></tr>\n",
       "<tr class=\"increase-row\"><td><a href=\"/CompanyDetail.aspx?symbol=NBLD87\" target=\"_blank\" title=\"NBLD87 (8.5% Nepal Bank Debenture 2087)\">NBLD87</a></td><td class=\"text-right\">740.00</td><td class=\"text-right\">0.07</td><td class=\"text-right\">754.20</td><td class=\"text-right\">740.00</td><td class=\"text-right\">754.20</td><td class=\"text-right\">80</td><td><a href=\"javascript:void(0);\" onclick='addToWatchlist(\"NBLD87\");' title=\"Add to Watchlist\"><i class=\"icon-tags icon-white\"></i></a></td><td><a href=\"javascript:void(0);\" onclick='setAlert(\"NBLD87\");' title=\"Set as Alert\"><i class=\"icon-bell icon-white\"></i></a></td></tr>\n",
       "<tr class=\"increase-row\"><td><a href=\"/CompanyDetail.aspx?symbol=NEF\" target=\"_blank\" title=\"NEF (Nabil Equity Fund)\">NEF</a></td><td class=\"text-right\">9.05</td><td class=\"text-right\">0.56</td><td class=\"text-right\">9.10</td><td class=\"text-right\">8.99</td><td class=\"text-right\">8.99</td><td class=\"text-right\">30,455</td><td><a href=\"javascript:void(0);\" onclick='addToWatchlist(\"NEF\");' title=\"Add to Watchlist\"><i class=\"icon-tags icon-white\"></i></a></td><td><a href=\"javascript:void(0);\" onclick='setAlert(\"NEF\");' title=\"Set as Alert\"><i class=\"icon-bell icon-white\"></i></a></td></tr>\n",
       "<tr class=\"increase-row\"><td><a href=\"/CompanyDetail.aspx?symbol=NESDO\" target=\"_blank\" title=\"NESDO (NESDO Sambridha Laghubitta Bittiye Sanstha Limited)\">NESDO</a></td><td class=\"text-right\">3,380.00</td><td class=\"text-right\">1.47</td><td class=\"text-right\">3,420.00</td><td class=\"text-right\">3,264.40</td><td class=\"text-right\">3,264.40</td><td class=\"text-right\">12,481</td><td><a href=\"javascript:void(0);\" onclick='addToWatchlist(\"NESDO\");' title=\"Add to Watchlist\"><i class=\"icon-tags icon-white\"></i></a></td><td><a href=\"javascript:void(0);\" onclick='setAlert(\"NESDO\");' title=\"Set as Alert\"><i class=\"icon-bell icon-white\"></i></a></td></tr>\n",
       "<tr class=\"decrease-row\"><td><a href=\"/CompanyDetail.aspx?symbol=NFS\" target=\"_blank\" title=\"NFS (Nepal Finance Ltd.)\">NFS</a></td><td class=\"text-right\">316.80</td><td class=\"text-right\">-3.71</td><td class=\"text-right\">328.00</td><td class=\"text-right\">313.60</td><td class=\"text-right\">323.00</td><td class=\"text-right\">59,180</td><td><a href=\"javascript:void(0);\" onclick='addToWatchlist(\"NFS\");' title=\"Add to Watchlist\"><i class=\"icon-tags icon-white\"></i></a></td><td><a href=\"javascript:void(0);\" onclick='setAlert(\"NFS\");' title=\"Set as Alert\"><i class=\"icon-bell icon-white\"></i></a></td></tr>\n",
       "<tr class=\"decrease-row\"><td><a href=\"/CompanyDetail.aspx?symbol=NGPL\" target=\"_blank\" title=\"NGPL (Ngadi Group Power Ltd.)\">NGPL</a></td><td class=\"text-right\">300.10</td><td class=\"text-right\">-1.93</td><td class=\"text-right\">308.90</td><td class=\"text-right\">298.00</td><td class=\"text-right\">305.00</td><td class=\"text-right\">168,621</td><td><a href=\"javascript:void(0);\" onclick='addToWatchlist(\"NGPL\");' title=\"Add to Watchlist\"><i class=\"icon-tags icon-white\"></i></a></td><td><a href=\"javascript:void(0);\" onclick='setAlert(\"NGPL\");' title=\"Set as Alert\"><i class=\"icon-bell icon-white\"></i></a></td></tr>\n",
       "<tr class=\"decrease-row\"><td><a href=\"/CompanyDetail.aspx?symbol=NHDL\" target=\"_blank\" title=\"NHDL (Nepal Hydro Developers Ltd.)\">NHDL</a></td><td class=\"text-right\">395.00</td><td class=\"text-right\">-0.5</td><td class=\"text-right\">401.90</td><td class=\"text-right\">387.00</td><td class=\"text-right\">394.10</td><td class=\"text-right\">8,965</td><td><a href=\"javascript:void(0);\" onclick='addToWatchlist(\"NHDL\");' title=\"Add to Watchlist\"><i class=\"icon-tags icon-white\"></i></a></td><td><a href=\"javascript:void(0);\" onclick='setAlert(\"NHDL\");' title=\"Set as Alert\"><i class=\"icon-bell icon-white\"></i></a></td></tr>\n",
       "<tr class=\"decrease-row\"><td><a href=\"/CompanyDetail.aspx?symbol=NHPC\" target=\"_blank\" title=\"NHPC (National Hydro Power Company Limited)\">NHPC</a></td><td class=\"text-right\">268.60</td><td class=\"text-right\">-2.33</td><td class=\"text-right\">277.00</td><td class=\"text-right\">266.30</td><td class=\"text-right\">270.00</td><td class=\"text-right\">141,177</td><td><a href=\"javascript:void(0);\" onclick='addToWatchlist(\"NHPC\");' title=\"Add to Watchlist\"><i class=\"icon-tags icon-white\"></i></a></td><td><a href=\"javascript:void(0);\" onclick='setAlert(\"NHPC\");' title=\"Set as Alert\"><i class=\"icon-bell icon-white\"></i></a></td></tr>\n",
       "<tr class=\"increase-row\"><td><a href=\"/CompanyDetail.aspx?symbol=NIBD2082\" target=\"_blank\" title=\"NIBD2082 (10.5% Nepal Investment Debenture 2082)\">NIBD2082</a></td><td class=\"text-right\">905.20</td><td class=\"text-right\">0.52</td><td class=\"text-right\">906.00</td><td class=\"text-right\">905.20</td><td class=\"text-right\">906.00</td><td class=\"text-right\">40</td><td><a href=\"javascript:void(0);\" onclick='addToWatchlist(\"NIBD2082\");' title=\"Add to Watchlist\"><i class=\"icon-tags icon-white\"></i></a></td><td><a href=\"javascript:void(0);\" onclick='setAlert(\"NIBD2082\");' title=\"Set as Alert\"><i class=\"icon-bell icon-white\"></i></a></td></tr>\n",
       "<tr class=\"nochange-row\"><td><a href=\"/CompanyDetail.aspx?symbol=NIBD84\" target=\"_blank\" title=\"NIBD84 (8.5% Nepal Investment Bank Debenture 2084)\">NIBD84</a></td><td class=\"text-right\">776.00</td><td class=\"text-right\">0</td><td class=\"text-right\">776.00</td><td class=\"text-right\">776.00</td><td class=\"text-right\">776.00</td><td class=\"text-right\">50</td><td><a href=\"javascript:void(0);\" onclick='addToWatchlist(\"NIBD84\");' title=\"Add to Watchlist\"><i class=\"icon-tags icon-white\"></i></a></td><td><a href=\"javascript:void(0);\" onclick='setAlert(\"NIBD84\");' title=\"Set as Alert\"><i class=\"icon-bell icon-white\"></i></a></td></tr>\n",
       "<tr class=\"decrease-row\"><td><a href=\"/CompanyDetail.aspx?symbol=NIBLPF\" target=\"_blank\" title=\"NIBLPF (NIBL Pragati Fund)\">NIBLPF</a></td><td class=\"text-right\">8.93</td><td class=\"text-right\">-3.25</td><td class=\"text-right\">9.05</td><td class=\"text-right\">8.87</td><td class=\"text-right\">9.05</td><td class=\"text-right\">36,613</td><td><a href=\"javascript:void(0);\" onclick='addToWatchlist(\"NIBLPF\");' title=\"Add to Watchlist\"><i class=\"icon-tags icon-white\"></i></a></td><td><a href=\"javascript:void(0);\" onclick='setAlert(\"NIBLPF\");' title=\"Set as Alert\"><i class=\"icon-bell icon-white\"></i></a></td></tr>\n",
       "<tr class=\"decrease-row\"><td><a href=\"/CompanyDetail.aspx?symbol=NIBSF2\" target=\"_blank\" title=\"NIBSF2 (NIBL Samriddhi Fund 2)\">NIBSF2</a></td><td class=\"text-right\">7.87</td><td class=\"text-right\">-1.99</td><td class=\"text-right\">8.35</td><td class=\"text-right\">7.76</td><td class=\"text-right\">7.87</td><td class=\"text-right\">14,150</td><td><a href=\"javascript:void(0);\" onclick='addToWatchlist(\"NIBSF2\");' title=\"Add to Watchlist\"><i class=\"icon-tags icon-white\"></i></a></td><td><a href=\"javascript:void(0);\" onclick='setAlert(\"NIBSF2\");' title=\"Set as Alert\"><i class=\"icon-bell icon-white\"></i></a></td></tr>\n",
       "<tr class=\"increase-row\"><td><a href=\"/CompanyDetail.aspx?symbol=NICA\" target=\"_blank\" title=\"NICA (NIC Asia Bank Ltd.)\">NICA</a></td><td class=\"text-right\">826.00</td><td class=\"text-right\">0.24</td><td class=\"text-right\">833.60</td><td class=\"text-right\">820.00</td><td class=\"text-right\">823.00</td><td class=\"text-right\">86,314</td><td><a href=\"javascript:void(0);\" onclick='addToWatchlist(\"NICA\");' title=\"Add to Watchlist\"><i class=\"icon-tags icon-white\"></i></a></td><td><a href=\"javascript:void(0);\" onclick='setAlert(\"NICA\");' title=\"Set as Alert\"><i class=\"icon-bell icon-white\"></i></a></td></tr>\n",
       "<tr class=\"decrease-row\"><td><a href=\"/CompanyDetail.aspx?symbol=NICAD8283\" target=\"_blank\" title=\"NICAD8283 (11% NIC Asia Debenture 082/83)\">NICAD8283</a></td><td class=\"text-right\">928.40</td><td class=\"text-right\">-0.71</td><td class=\"text-right\">928.60</td><td class=\"text-right\">927.50</td><td class=\"text-right\">927.50</td><td class=\"text-right\">420</td><td><a href=\"javascript:void(0);\" onclick='addToWatchlist(\"NICAD8283\");' title=\"Add to Watchlist\"><i class=\"icon-tags icon-white\"></i></a></td><td><a href=\"javascript:void(0);\" onclick='setAlert(\"NICAD8283\");' title=\"Set as Alert\"><i class=\"icon-bell icon-white\"></i></a></td></tr>\n",
       "<tr class=\"increase-row\"><td><a href=\"/CompanyDetail.aspx?symbol=NICBF\" target=\"_blank\" title=\"NICBF (NIC Asia Balanced Fund)\">NICBF</a></td><td class=\"text-right\">9.06</td><td class=\"text-right\">0.11</td><td class=\"text-right\">9.20</td><td class=\"text-right\">9.01</td><td class=\"text-right\">9.01</td><td class=\"text-right\">3,900</td><td><a href=\"javascript:void(0);\" onclick='addToWatchlist(\"NICBF\");' title=\"Add to Watchlist\"><i class=\"icon-tags icon-white\"></i></a></td><td><a href=\"javascript:void(0);\" onclick='setAlert(\"NICBF\");' title=\"Set as Alert\"><i class=\"icon-bell icon-white\"></i></a></td></tr>\n",
       "<tr class=\"increase-row\"><td><a href=\"/CompanyDetail.aspx?symbol=NICD83/84\" target=\"_blank\" title=\"NICD83/84 (10.25% NIC Asia Debenture 2083/84)\">NICD83/84</a></td><td class=\"text-right\">878.00</td><td class=\"text-right\">0.8</td><td class=\"text-right\">878.00</td><td class=\"text-right\">878.00</td><td class=\"text-right\">878.00</td><td class=\"text-right\">10</td><td><a href=\"javascript:void(0);\" onclick='addToWatchlist(\"NICD83/84\");' title=\"Add to Watchlist\"><i class=\"icon-tags icon-white\"></i></a></td><td><a href=\"javascript:void(0);\" onclick='setAlert(\"NICD83/84\");' title=\"Set as Alert\"><i class=\"icon-bell icon-white\"></i></a></td></tr>\n",
       "<tr class=\"decrease-row\"><td><a href=\"/CompanyDetail.aspx?symbol=NICFC\" target=\"_blank\" title=\"NICFC (NIC ASIA Flexi CAP Fund)\">NICFC</a></td><td class=\"text-right\">8.42</td><td class=\"text-right\">-0.94</td><td class=\"text-right\">8.42</td><td class=\"text-right\">8.25</td><td class=\"text-right\">8.33</td><td class=\"text-right\">3,100</td><td><a href=\"javascript:void(0);\" onclick='addToWatchlist(\"NICFC\");' title=\"Add to Watchlist\"><i class=\"icon-tags icon-white\"></i></a></td><td><a href=\"javascript:void(0);\" onclick='setAlert(\"NICFC\");' title=\"Set as Alert\"><i class=\"icon-bell icon-white\"></i></a></td></tr>\n",
       "<tr class=\"nochange-row\"><td><a href=\"/CompanyDetail.aspx?symbol=NICGF\" target=\"_blank\" title=\"NICGF (NIC Asia Growth Fund)\">NICGF</a></td><td class=\"text-right\">9.73</td><td class=\"text-right\">0</td><td class=\"text-right\">9.76</td><td class=\"text-right\">9.73</td><td class=\"text-right\">9.73</td><td class=\"text-right\">43,200</td><td><a href=\"javascript:void(0);\" onclick='addToWatchlist(\"NICGF\");' title=\"Add to Watchlist\"><i class=\"icon-tags icon-white\"></i></a></td><td><a href=\"javascript:void(0);\" onclick='setAlert(\"NICGF\");' title=\"Set as Alert\"><i class=\"icon-bell icon-white\"></i></a></td></tr>\n",
       "<tr class=\"increase-row\"><td><a href=\"/CompanyDetail.aspx?symbol=NICL\" target=\"_blank\" title=\"NICL (Nepal Insurance Co. Ltd.)\">NICL</a></td><td class=\"text-right\">505.00</td><td class=\"text-right\">1.2</td><td class=\"text-right\">514.00</td><td class=\"text-right\">490.30</td><td class=\"text-right\">500.00</td><td class=\"text-right\">30,582</td><td><a href=\"javascript:void(0);\" onclick='addToWatchlist(\"NICL\");' title=\"Add to Watchlist\"><i class=\"icon-tags icon-white\"></i></a></td><td><a href=\"javascript:void(0);\" onclick='setAlert(\"NICL\");' title=\"Set as Alert\"><i class=\"icon-bell icon-white\"></i></a></td></tr>\n",
       "<tr class=\"decrease-row\"><td><a href=\"/CompanyDetail.aspx?symbol=NICLBSL\" target=\"_blank\" title=\"NICLBSL (NIC Asia Laghubitta Biitiya Sanstha Limited)\">NICLBSL</a></td><td class=\"text-right\">805.00</td><td class=\"text-right\">-2.19</td><td class=\"text-right\">823.00</td><td class=\"text-right\">805.00</td><td class=\"text-right\">806.90</td><td class=\"text-right\">6,204</td><td><a href=\"javascript:void(0);\" onclick='addToWatchlist(\"NICLBSL\");' title=\"Add to Watchlist\"><i class=\"icon-tags icon-white\"></i></a></td><td><a href=\"javascript:void(0);\" onclick='setAlert(\"NICLBSL\");' title=\"Set as Alert\"><i class=\"icon-bell icon-white\"></i></a></td></tr>\n",
       "<tr class=\"decrease-row\"><td><a href=\"/CompanyDetail.aspx?symbol=NICSF\" target=\"_blank\" title=\"NICSF (NIC Asia Select - 30 (Index Fund))\">NICSF</a></td><td class=\"text-right\">8.15</td><td class=\"text-right\">-2.28</td><td class=\"text-right\">8.36</td><td class=\"text-right\">8.15</td><td class=\"text-right\">8.20</td><td class=\"text-right\">37,089</td><td><a href=\"javascript:void(0);\" onclick='addToWatchlist(\"NICSF\");' title=\"Add to Watchlist\"><i class=\"icon-tags icon-white\"></i></a></td><td><a href=\"javascript:void(0);\" onclick='setAlert(\"NICSF\");' title=\"Set as Alert\"><i class=\"icon-bell icon-white\"></i></a></td></tr>\n",
       "<tr class=\"decrease-row\"><td><a href=\"/CompanyDetail.aspx?symbol=NIFRA\" target=\"_blank\" title=\"NIFRA (Nepal Infrastructure Bank Limited)\">NIFRA</a></td><td class=\"text-right\">235.00</td><td class=\"text-right\">-2.08</td><td class=\"text-right\">242.80</td><td class=\"text-right\">235.00</td><td class=\"text-right\">241.00</td><td class=\"text-right\">131,466</td><td><a href=\"javascript:void(0);\" onclick='addToWatchlist(\"NIFRA\");' title=\"Add to Watchlist\"><i class=\"icon-tags icon-white\"></i></a></td><td><a href=\"javascript:void(0);\" onclick='setAlert(\"NIFRA\");' title=\"Set as Alert\"><i class=\"icon-bell icon-white\"></i></a></td></tr>\n",
       "<tr class=\"decrease-row\"><td><a href=\"/CompanyDetail.aspx?symbol=NIL\" target=\"_blank\" title=\"NIL (Neco Insurance Co. Ltd.)\">NIL</a></td><td class=\"text-right\">790.00</td><td class=\"text-right\">-0.5</td><td class=\"text-right\">795.00</td><td class=\"text-right\">780.00</td><td class=\"text-right\">780.00</td><td class=\"text-right\">8,245</td><td><a href=\"javascript:void(0);\" onclick='addToWatchlist(\"NIL\");' title=\"Add to Watchlist\"><i class=\"icon-tags icon-white\"></i></a></td><td><a href=\"javascript:void(0);\" onclick='setAlert(\"NIL\");' title=\"Set as Alert\"><i class=\"icon-bell icon-white\"></i></a></td></tr>\n",
       "<tr class=\"decrease-row\"><td><a href=\"/CompanyDetail.aspx?symbol=NLBBL\" target=\"_blank\" title=\"NLBBL (Nerude Laghubita Bittiya Sanstha Limited)\">NLBBL</a></td><td class=\"text-right\">1,020.00</td><td class=\"text-right\">-0.97</td><td class=\"text-right\">1,040.00</td><td class=\"text-right\">1,017.10</td><td class=\"text-right\">1,034.80</td><td class=\"text-right\">11,239</td><td><a href=\"javascript:void(0);\" onclick='addToWatchlist(\"NLBBL\");' title=\"Add to Watchlist\"><i class=\"icon-tags icon-white\"></i></a></td><td><a href=\"javascript:void(0);\" onclick='setAlert(\"NLBBL\");' title=\"Set as Alert\"><i class=\"icon-bell icon-white\"></i></a></td></tr>\n",
       "<tr class=\"nochange-row\"><td><a href=\"/CompanyDetail.aspx?symbol=NLG\" target=\"_blank\" title=\"NLG (NLG Insurance Company Ltd.)\">NLG</a></td><td class=\"text-right\">710.00</td><td class=\"text-right\">0</td><td class=\"text-right\">718.00</td><td class=\"text-right\">696.00</td><td class=\"text-right\">700.00</td><td class=\"text-right\">13,502</td><td><a href=\"javascript:void(0);\" onclick='addToWatchlist(\"NLG\");' title=\"Add to Watchlist\"><i class=\"icon-tags icon-white\"></i></a></td><td><a href=\"javascript:void(0);\" onclick='setAlert(\"NLG\");' title=\"Set as Alert\"><i class=\"icon-bell icon-white\"></i></a></td></tr>\n",
       "<tr class=\"decrease-row\"><td><a href=\"/CompanyDetail.aspx?symbol=NLIC\" target=\"_blank\" title=\"NLIC (Nepal Life Insurance Co. Ltd.)\">NLIC</a></td><td class=\"text-right\">755.00</td><td class=\"text-right\">-1.18</td><td class=\"text-right\">769.80</td><td class=\"text-right\">748.00</td><td class=\"text-right\">767.00</td><td class=\"text-right\">87,517</td><td><a href=\"javascript:void(0);\" onclick='addToWatchlist(\"NLIC\");' title=\"Add to Watchlist\"><i class=\"icon-tags icon-white\"></i></a></td><td><a href=\"javascript:void(0);\" onclick='setAlert(\"NLIC\");' title=\"Set as Alert\"><i class=\"icon-bell icon-white\"></i></a></td></tr>\n",
       "<tr class=\"decrease-row\"><td><a href=\"/CompanyDetail.aspx?symbol=NLICL\" target=\"_blank\" title=\"NLICL (National Life Insurance Co. Ltd.)\">NLICL</a></td><td class=\"text-right\">644.00</td><td class=\"text-right\">-1.38</td><td class=\"text-right\">658.90</td><td class=\"text-right\">640.00</td><td class=\"text-right\">642.10</td><td class=\"text-right\">29,381</td><td><a href=\"javascript:void(0);\" onclick='addToWatchlist(\"NLICL\");' title=\"Add to Watchlist\"><i class=\"icon-tags icon-white\"></i></a></td><td><a href=\"javascript:void(0);\" onclick='setAlert(\"NLICL\");' title=\"Set as Alert\"><i class=\"icon-bell icon-white\"></i></a></td></tr>\n",
       "<tr class=\"decrease-row\"><td><a href=\"/CompanyDetail.aspx?symbol=NMB\" target=\"_blank\" title=\"NMB (NMB Bank Limited)\">NMB</a></td><td class=\"text-right\">243.00</td><td class=\"text-right\">-0.82</td><td class=\"text-right\">245.00</td><td class=\"text-right\">240.00</td><td class=\"text-right\">245.00</td><td class=\"text-right\">41,562</td><td><a href=\"javascript:void(0);\" onclick='addToWatchlist(\"NMB\");' title=\"Add to Watchlist\"><i class=\"icon-tags icon-white\"></i></a></td><td><a href=\"javascript:void(0);\" onclick='setAlert(\"NMB\");' title=\"Set as Alert\"><i class=\"icon-bell icon-white\"></i></a></td></tr>\n",
       "<tr class=\"decrease-row\"><td><a href=\"/CompanyDetail.aspx?symbol=NMB50\" target=\"_blank\" title=\"NMB50 (NMB 50)\">NMB50</a></td><td class=\"text-right\">9.97</td><td class=\"text-right\">-1.97</td><td class=\"text-right\">10.10</td><td class=\"text-right\">9.97</td><td class=\"text-right\">10.09</td><td class=\"text-right\">1,900</td><td><a href=\"javascript:void(0);\" onclick='addToWatchlist(\"NMB50\");' title=\"Add to Watchlist\"><i class=\"icon-tags icon-white\"></i></a></td><td><a href=\"javascript:void(0);\" onclick='setAlert(\"NMB50\");' title=\"Set as Alert\"><i class=\"icon-bell icon-white\"></i></a></td></tr>\n",
       "<tr class=\"decrease-row\"><td><a href=\"/CompanyDetail.aspx?symbol=NMBD87/88\" target=\"_blank\" title=\"NMBD87/88 (8.50% NMB Rinpatra 2087/88)\">NMBD87/88</a></td><td class=\"text-right\">980.00</td><td class=\"text-right\">-2</td><td class=\"text-right\">980.00</td><td class=\"text-right\">980.00</td><td class=\"text-right\">980.00</td><td class=\"text-right\">25</td><td><a href=\"javascript:void(0);\" onclick='addToWatchlist(\"NMBD87/88\");' title=\"Add to Watchlist\"><i class=\"icon-tags icon-white\"></i></a></td><td><a href=\"javascript:void(0);\" onclick='setAlert(\"NMBD87/88\");' title=\"Set as Alert\"><i class=\"icon-bell icon-white\"></i></a></td></tr>\n",
       "<tr class=\"increase-row\"><td><a href=\"/CompanyDetail.aspx?symbol=NMBHF1\" target=\"_blank\" title=\"NMBHF1 (NMB Hybrid Fund L-1)\">NMBHF1</a></td><td class=\"text-right\">9.91</td><td class=\"text-right\">0.1</td><td class=\"text-right\">9.93</td><td class=\"text-right\">9.91</td><td class=\"text-right\">9.92</td><td class=\"text-right\">40,964</td><td><a href=\"javascript:void(0);\" onclick='addToWatchlist(\"NMBHF1\");' title=\"Add to Watchlist\"><i class=\"icon-tags icon-white\"></i></a></td><td><a href=\"javascript:void(0);\" onclick='setAlert(\"NMBHF1\");' title=\"Set as Alert\"><i class=\"icon-bell icon-white\"></i></a></td></tr>\n",
       "<tr class=\"decrease-row\"><td><a href=\"/CompanyDetail.aspx?symbol=NMBMF\" target=\"_blank\" title=\"NMBMF (NMB Laghubitta Bittiya Sanstha Ltd.)\">NMBMF</a></td><td class=\"text-right\">760.00</td><td class=\"text-right\">-1.3</td><td class=\"text-right\">775.00</td><td class=\"text-right\">749.00</td><td class=\"text-right\">765.00</td><td class=\"text-right\">2,288</td><td><a href=\"javascript:void(0);\" onclick='addToWatchlist(\"NMBMF\");' title=\"Add to Watchlist\"><i class=\"icon-tags icon-white\"></i></a></td><td><a href=\"javascript:void(0);\" onclick='setAlert(\"NMBMF\");' title=\"Set as Alert\"><i class=\"icon-bell icon-white\"></i></a></td></tr>\n",
       "<tr class=\"nochange-row\"><td><a href=\"/CompanyDetail.aspx?symbol=NMBPO\" target=\"_blank\" title=\"NMBPO (NMB Bank Limited Promoter Share)\">NMBPO</a></td><td class=\"text-right\">134.00</td><td class=\"text-right\">0</td><td class=\"text-right\">134.00</td><td class=\"text-right\">134.00</td><td class=\"text-right\">134.00</td><td class=\"text-right\">9,761</td><td><a href=\"javascript:void(0);\" onclick='addToWatchlist(\"NMBPO\");' title=\"Add to Watchlist\"><i class=\"icon-tags icon-white\"></i></a></td><td><a href=\"javascript:void(0);\" onclick='setAlert(\"NMBPO\");' title=\"Set as Alert\"><i class=\"icon-bell icon-white\"></i></a></td></tr>\n",
       "<tr class=\"decrease-row\"><td><a href=\"/CompanyDetail.aspx?symbol=NMFBS\" target=\"_blank\" title=\"NMFBS (National Microfinance Laghubitta Bittiya Sanstha Ltd.)\">NMFBS</a></td><td class=\"text-right\">2,289.00</td><td class=\"text-right\">-0.95</td><td class=\"text-right\">2,330.00</td><td class=\"text-right\">2,280.00</td><td class=\"text-right\">2,330.00</td><td class=\"text-right\">8,487</td><td><a href=\"javascript:void(0);\" onclick='addToWatchlist(\"NMFBS\");' title=\"Add to Watchlist\"><i class=\"icon-tags icon-white\"></i></a></td><td><a href=\"javascript:void(0);\" onclick='setAlert(\"NMFBS\");' title=\"Set as Alert\"><i class=\"icon-bell icon-white\"></i></a></td></tr>\n",
       "<tr class=\"decrease-row\"><td><a href=\"/CompanyDetail.aspx?symbol=NRIC\" target=\"_blank\" title=\"NRIC (Nepal Re-Insurance Company Limited)\">NRIC</a></td><td class=\"text-right\">838.00</td><td class=\"text-right\">-1.99</td><td class=\"text-right\">855.00</td><td class=\"text-right\">831.00</td><td class=\"text-right\">850.00</td><td class=\"text-right\">34,960</td><td><a href=\"javascript:void(0);\" onclick='addToWatchlist(\"NRIC\");' title=\"Add to Watchlist\"><i class=\"icon-tags icon-white\"></i></a></td><td><a href=\"javascript:void(0);\" onclick='setAlert(\"NRIC\");' title=\"Set as Alert\"><i class=\"icon-bell icon-white\"></i></a></td></tr>\n",
       "<tr class=\"decrease-row\"><td><a href=\"/CompanyDetail.aspx?symbol=NRN\" target=\"_blank\" title=\"NRN (NRN Infrastructure and Development Limited)\">NRN</a></td><td class=\"text-right\">519.00</td><td class=\"text-right\">-2.63</td><td class=\"text-right\">532.00</td><td class=\"text-right\">518.50</td><td class=\"text-right\">522.40</td><td class=\"text-right\">11,015</td><td><a href=\"javascript:void(0);\" onclick='addToWatchlist(\"NRN\");' title=\"Add to Watchlist\"><i class=\"icon-tags icon-white\"></i></a></td><td><a href=\"javascript:void(0);\" onclick='setAlert(\"NRN\");' title=\"Set as Alert\"><i class=\"icon-bell icon-white\"></i></a></td></tr>\n",
       "<tr class=\"decrease-row\"><td><a href=\"/CompanyDetail.aspx?symbol=NSLB\" target=\"_blank\" title=\"NSLB (Naya Sarathi Laghubitta Bittiya Sanstha Limited)\">NSLB</a></td><td class=\"text-right\">925.00</td><td class=\"text-right\">-1.16</td><td class=\"text-right\">948.60</td><td class=\"text-right\">921.00</td><td class=\"text-right\">921.00</td><td class=\"text-right\">466</td><td><a href=\"javascript:void(0);\" onclick='addToWatchlist(\"NSLB\");' title=\"Add to Watchlist\"><i class=\"icon-tags icon-white\"></i></a></td><td><a href=\"javascript:void(0);\" onclick='setAlert(\"NSLB\");' title=\"Set as Alert\"><i class=\"icon-bell icon-white\"></i></a></td></tr>\n",
       "<tr class=\"decrease-row\"><td><a href=\"/CompanyDetail.aspx?symbol=NTC\" target=\"_blank\" title=\"NTC (Nepal Doorsanchar Comapany Limited)\">NTC</a></td><td class=\"text-right\">852.00</td><td class=\"text-right\">-1.5</td><td class=\"text-right\">882.00</td><td class=\"text-right\">851.00</td><td class=\"text-right\">882.00</td><td class=\"text-right\">42,494</td><td><a href=\"javascript:void(0);\" onclick='addToWatchlist(\"NTC\");' title=\"Add to Watchlist\"><i class=\"icon-tags icon-white\"></i></a></td><td><a href=\"javascript:void(0);\" onclick='setAlert(\"NTC\");' title=\"Set as Alert\"><i class=\"icon-bell icon-white\"></i></a></td></tr>\n",
       "<tr class=\"decrease-row\"><td><a href=\"/CompanyDetail.aspx?symbol=NUBL\" target=\"_blank\" title=\"NUBL (Nirdhan Utthan Laghubitta Bittiya Sanstha Limited)\">NUBL</a></td><td class=\"text-right\">998.00</td><td class=\"text-right\">-0.7</td><td class=\"text-right\">1,010.00</td><td class=\"text-right\">990.00</td><td class=\"text-right\">1,000.00</td><td class=\"text-right\">4,210</td><td><a href=\"javascript:void(0);\" onclick='addToWatchlist(\"NUBL\");' title=\"Add to Watchlist\"><i class=\"icon-tags icon-white\"></i></a></td><td><a href=\"javascript:void(0);\" onclick='setAlert(\"NUBL\");' title=\"Set as Alert\"><i class=\"icon-bell icon-white\"></i></a></td></tr>\n",
       "<tr class=\"increase-row\"><td><a href=\"/CompanyDetail.aspx?symbol=NYADI\" target=\"_blank\" title=\"NYADI (Nyadi Hydropower Limited)\">NYADI</a></td><td class=\"text-right\">355.00</td><td class=\"text-right\">3.2</td><td class=\"text-right\">358.00</td><td class=\"text-right\">331.40</td><td class=\"text-right\">344.00</td><td class=\"text-right\">19,300</td><td><a href=\"javascript:void(0);\" onclick='addToWatchlist(\"NYADI\");' title=\"Add to Watchlist\"><i class=\"icon-tags icon-white\"></i></a></td><td><a href=\"javascript:void(0);\" onclick='setAlert(\"NYADI\");' title=\"Set as Alert\"><i class=\"icon-bell icon-white\"></i></a></td></tr>\n",
       "<tr class=\"increase-row\"><td><a href=\"/CompanyDetail.aspx?symbol=OHL\" target=\"_blank\" title=\"OHL (Oriental Hotels Limited)\">OHL</a></td><td class=\"text-right\">555.10</td><td class=\"text-right\">0.93</td><td class=\"text-right\">570.00</td><td class=\"text-right\">539.10</td><td class=\"text-right\">539.20</td><td class=\"text-right\">12,398</td><td><a href=\"javascript:void(0);\" onclick='addToWatchlist(\"OHL\");' title=\"Add to Watchlist\"><i class=\"icon-tags icon-white\"></i></a></td><td><a href=\"javascript:void(0);\" onclick='setAlert(\"OHL\");' title=\"Set as Alert\"><i class=\"icon-bell icon-white\"></i></a></td></tr>\n",
       "<tr class=\"increase-row\"><td><a href=\"/CompanyDetail.aspx?symbol=PBD85\" target=\"_blank\" title=\"PBD85 (8.75% Prime Commercial Bank Debenture 2085)\">PBD85</a></td><td class=\"text-right\">770.00</td><td class=\"text-right\">0.65</td><td class=\"text-right\">770.00</td><td class=\"text-right\">770.00</td><td class=\"text-right\">770.00</td><td class=\"text-right\">25</td><td><a href=\"javascript:void(0);\" onclick='addToWatchlist(\"PBD85\");' title=\"Add to Watchlist\"><i class=\"icon-tags icon-white\"></i></a></td><td><a href=\"javascript:void(0);\" onclick='setAlert(\"PBD85\");' title=\"Set as Alert\"><i class=\"icon-bell icon-white\"></i></a></td></tr>\n",
       "<tr class=\"decrease-row\"><td><a href=\"/CompanyDetail.aspx?symbol=PBD88\" target=\"_blank\" title=\"PBD88 (10% Prime Debenture 2088)\">PBD88</a></td><td class=\"text-right\">825.00</td><td class=\"text-right\">-1.9</td><td class=\"text-right\">840.00</td><td class=\"text-right\">825.00</td><td class=\"text-right\">825.00</td><td class=\"text-right\">279</td><td><a href=\"javascript:void(0);\" onclick='addToWatchlist(\"PBD88\");' title=\"Add to Watchlist\"><i class=\"icon-tags icon-white\"></i></a></td><td><a href=\"javascript:void(0);\" onclick='setAlert(\"PBD88\");' title=\"Set as Alert\"><i class=\"icon-bell icon-white\"></i></a></td></tr>\n",
       "<tr class=\"decrease-row\"><td><a href=\"/CompanyDetail.aspx?symbol=PBLD84\" target=\"_blank\" title=\"PBLD84 (10% Prabhu Bank Debenture 2084 )\">PBLD84</a></td><td class=\"text-right\">866.00</td><td class=\"text-right\">-0.46</td><td class=\"text-right\">870.00</td><td class=\"text-right\">853.10</td><td class=\"text-right\">870.00</td><td class=\"text-right\">194</td><td><a href=\"javascript:void(0);\" onclick='addToWatchlist(\"PBLD84\");' title=\"Add to Watchlist\"><i class=\"icon-tags icon-white\"></i></a></td><td><a href=\"javascript:void(0);\" onclick='setAlert(\"PBLD84\");' title=\"Set as Alert\"><i class=\"icon-bell icon-white\"></i></a></td></tr>\n",
       "<tr class=\"decrease-row\"><td><a href=\"/CompanyDetail.aspx?symbol=PCBL\" target=\"_blank\" title=\"PCBL (Prime Commercial Bank Ltd.)\">PCBL</a></td><td class=\"text-right\">222.90</td><td class=\"text-right\">-0.4</td><td class=\"text-right\">228.20</td><td class=\"text-right\">218.90</td><td class=\"text-right\">228.20</td><td class=\"text-right\">53,496</td><td><a href=\"javascript:void(0);\" onclick='addToWatchlist(\"PCBL\");' title=\"Add to Watchlist\"><i class=\"icon-tags icon-white\"></i></a></td><td><a href=\"javascript:void(0);\" onclick='setAlert(\"PCBL\");' title=\"Set as Alert\"><i class=\"icon-bell icon-white\"></i></a></td></tr>\n",
       "<tr class=\"decrease-row\"><td><a href=\"/CompanyDetail.aspx?symbol=PFL\" target=\"_blank\" title=\"PFL (Pokhara Finance Ltd.)\">PFL</a></td><td class=\"text-right\">412.60</td><td class=\"text-right\">-1.1</td><td class=\"text-right\">425.00</td><td class=\"text-right\">410.00</td><td class=\"text-right\">419.00</td><td class=\"text-right\">30,234</td><td><a href=\"javascript:void(0);\" onclick='addToWatchlist(\"PFL\");' title=\"Add to Watchlist\"><i class=\"icon-tags icon-white\"></i></a></td><td><a href=\"javascript:void(0);\" onclick='setAlert(\"PFL\");' title=\"Set as Alert\"><i class=\"icon-bell icon-white\"></i></a></td></tr>\n",
       "<tr class=\"decrease-row\"><td><a href=\"/CompanyDetail.aspx?symbol=PHCL\" target=\"_blank\" title=\"PHCL (Peoples Hydropower Company Limited)\">PHCL</a></td><td class=\"text-right\">361.80</td><td class=\"text-right\">-2.22</td><td class=\"text-right\">374.00</td><td class=\"text-right\">355.40</td><td class=\"text-right\">362.60</td><td class=\"text-right\">57,465</td><td><a href=\"javascript:void(0);\" onclick='addToWatchlist(\"PHCL\");' title=\"Add to Watchlist\"><i class=\"icon-tags icon-white\"></i></a></td><td><a href=\"javascript:void(0);\" onclick='setAlert(\"PHCL\");' title=\"Set as Alert\"><i class=\"icon-bell icon-white\"></i></a></td></tr>\n",
       "<tr class=\"increase-row\"><td><a href=\"/CompanyDetail.aspx?symbol=PIC\" target=\"_blank\" title=\"PIC (Premier Insurance Co. Ltd.)\">PIC</a></td><td class=\"text-right\">665.20</td><td class=\"text-right\">0.03</td><td class=\"text-right\">678.00</td><td class=\"text-right\">657.00</td><td class=\"text-right\">670.00</td><td class=\"text-right\">9,396</td><td><a href=\"javascript:void(0);\" onclick='addToWatchlist(\"PIC\");' title=\"Add to Watchlist\"><i class=\"icon-tags icon-white\"></i></a></td><td><a href=\"javascript:void(0);\" onclick='setAlert(\"PIC\");' title=\"Set as Alert\"><i class=\"icon-bell icon-white\"></i></a></td></tr>\n",
       "<tr class=\"increase-row\"><td><a href=\"/CompanyDetail.aspx?symbol=PICL\" target=\"_blank\" title=\"PICL (Prudential Insurance Co. Ltd.)\">PICL</a></td><td class=\"text-right\">480.00</td><td class=\"text-right\">0.21</td><td class=\"text-right\">485.00</td><td class=\"text-right\">472.00</td><td class=\"text-right\">480.00</td><td class=\"text-right\">33,920</td><td><a href=\"javascript:void(0);\" onclick='addToWatchlist(\"PICL\");' title=\"Add to Watchlist\"><i class=\"icon-tags icon-white\"></i></a></td><td><a href=\"javascript:void(0);\" onclick='setAlert(\"PICL\");' title=\"Set as Alert\"><i class=\"icon-bell icon-white\"></i></a></td></tr>\n",
       "<tr class=\"increase-row\"><td><a href=\"/CompanyDetail.aspx?symbol=PLI\" target=\"_blank\" title=\"PLI (Prabhu Life Insurance Limited)\">PLI</a></td><td class=\"text-right\">527.00</td><td class=\"text-right\">2.63</td><td class=\"text-right\">536.30</td><td class=\"text-right\">497.00</td><td class=\"text-right\">507.00</td><td class=\"text-right\">23,931</td><td><a href=\"javascript:void(0);\" onclick='addToWatchlist(\"PLI\");' title=\"Add to Watchlist\"><i class=\"icon-tags icon-white\"></i></a></td><td><a href=\"javascript:void(0);\" onclick='setAlert(\"PLI\");' title=\"Set as Alert\"><i class=\"icon-bell icon-white\"></i></a></td></tr>\n",
       "<tr class=\"decrease-row\"><td><a href=\"/CompanyDetail.aspx?symbol=PMHPL\" target=\"_blank\" title=\"PMHPL (Panchakanya Mai Hydropower Ltd)\">PMHPL</a></td><td class=\"text-right\">272.50</td><td class=\"text-right\">-2.68</td><td class=\"text-right\">284.00</td><td class=\"text-right\">272.50</td><td class=\"text-right\">280.00</td><td class=\"text-right\">16,349</td><td><a href=\"javascript:void(0);\" onclick='addToWatchlist(\"PMHPL\");' title=\"Add to Watchlist\"><i class=\"icon-tags icon-white\"></i></a></td><td><a href=\"javascript:void(0);\" onclick='setAlert(\"PMHPL\");' title=\"Set as Alert\"><i class=\"icon-bell icon-white\"></i></a></td></tr>\n",
       "<tr class=\"decrease-row\"><td><a href=\"/CompanyDetail.aspx?symbol=PPCL\" target=\"_blank\" title=\"PPCL (Panchthar Power Company Limited)\">PPCL</a></td><td class=\"text-right\">377.00</td><td class=\"text-right\">-2.33</td><td class=\"text-right\">385.00</td><td class=\"text-right\">375.00</td><td class=\"text-right\">384.00</td><td class=\"text-right\">36,149</td><td><a href=\"javascript:void(0);\" onclick='addToWatchlist(\"PPCL\");' title=\"Add to Watchlist\"><i class=\"icon-tags icon-white\"></i></a></td><td><a href=\"javascript:void(0);\" onclick='setAlert(\"PPCL\");' title=\"Set as Alert\"><i class=\"icon-bell icon-white\"></i></a></td></tr>\n",
       "<tr class=\"decrease-row\"><td><a href=\"/CompanyDetail.aspx?symbol=PPL\" limited=\"\" power=\"\" s=\"\" target=\"_blank\" title=\"PPL (People\">PPL</a></td><td class=\"text-right\">315.10</td><td class=\"text-right\">-3.05</td><td class=\"text-right\">328.00</td><td class=\"text-right\">309.00</td><td class=\"text-right\">325.00</td><td class=\"text-right\">25,826</td><td><a href=\"javascript:void(0);\" onclick='addToWatchlist(\"PPL\");' title=\"Add to Watchlist\"><i class=\"icon-tags icon-white\"></i></a></td><td><a href=\"javascript:void(0);\" onclick='setAlert(\"PPL\");' title=\"Set as Alert\"><i class=\"icon-bell icon-white\"></i></a></td></tr>\n",
       "<tr class=\"decrease-row\"><td><a href=\"/CompanyDetail.aspx?symbol=PRIN\" target=\"_blank\" title=\"PRIN (Prabhu Insurance Ltd.)\">PRIN</a></td><td class=\"text-right\">598.00</td><td class=\"text-right\">-0.17</td><td class=\"text-right\">612.00</td><td class=\"text-right\">587.10</td><td class=\"text-right\">599.00</td><td class=\"text-right\">8,779</td><td><a href=\"javascript:void(0);\" onclick='addToWatchlist(\"PRIN\");' title=\"Add to Watchlist\"><i class=\"icon-tags icon-white\"></i></a></td><td><a href=\"javascript:void(0);\" onclick='setAlert(\"PRIN\");' title=\"Set as Alert\"><i class=\"icon-bell icon-white\"></i></a></td></tr>\n",
       "<tr class=\"decrease-row\"><td><a href=\"/CompanyDetail.aspx?symbol=PROFL\" target=\"_blank\" title=\"PROFL (Progressive Finance Limited)\">PROFL</a></td><td class=\"text-right\">348.00</td><td class=\"text-right\">-3.33</td><td class=\"text-right\">367.00</td><td class=\"text-right\">348.00</td><td class=\"text-right\">358.00</td><td class=\"text-right\">14,761</td><td><a href=\"javascript:void(0);\" onclick='addToWatchlist(\"PROFL\");' title=\"Add to Watchlist\"><i class=\"icon-tags icon-white\"></i></a></td><td><a href=\"javascript:void(0);\" onclick='setAlert(\"PROFL\");' title=\"Set as Alert\"><i class=\"icon-bell icon-white\"></i></a></td></tr>\n",
       "<tr class=\"decrease-row\"><td><a href=\"/CompanyDetail.aspx?symbol=PRVU\" target=\"_blank\" title=\"PRVU (Prabhu Bank Limited)\">PRVU</a></td><td class=\"text-right\">200.50</td><td class=\"text-right\">-0.99</td><td class=\"text-right\">204.30</td><td class=\"text-right\">200.00</td><td class=\"text-right\">202.00</td><td class=\"text-right\">50,286</td><td><a href=\"javascript:void(0);\" onclick='addToWatchlist(\"PRVU\");' title=\"Add to Watchlist\"><i class=\"icon-tags icon-white\"></i></a></td><td><a href=\"javascript:void(0);\" onclick='setAlert(\"PRVU\");' title=\"Set as Alert\"><i class=\"icon-bell icon-white\"></i></a></td></tr>\n",
       "<tr class=\"decrease-row\"><td><a href=\"/CompanyDetail.aspx?symbol=PSF\" target=\"_blank\" title=\"PSF (Prabhu Select Fund)\">PSF</a></td><td class=\"text-right\">8.36</td><td class=\"text-right\">-0.48</td><td class=\"text-right\">8.51</td><td class=\"text-right\">8.30</td><td class=\"text-right\">8.30</td><td class=\"text-right\">14,300</td><td><a href=\"javascript:void(0);\" onclick='addToWatchlist(\"PSF\");' title=\"Add to Watchlist\"><i class=\"icon-tags icon-white\"></i></a></td><td><a href=\"javascript:void(0);\" onclick='setAlert(\"PSF\");' title=\"Set as Alert\"><i class=\"icon-bell icon-white\"></i></a></td></tr>\n",
       "<tr class=\"decrease-row\"><td><a href=\"/CompanyDetail.aspx?symbol=RADHI\" target=\"_blank\" title=\"RADHI (Radhi Bidyut Company Ltd)\">RADHI</a></td><td class=\"text-right\">270.60</td><td class=\"text-right\">-1.64</td><td class=\"text-right\">278.00</td><td class=\"text-right\">265.00</td><td class=\"text-right\">269.70</td><td class=\"text-right\">50,549</td><td><a href=\"javascript:void(0);\" onclick='addToWatchlist(\"RADHI\");' title=\"Add to Watchlist\"><i class=\"icon-tags icon-white\"></i></a></td><td><a href=\"javascript:void(0);\" onclick='setAlert(\"RADHI\");' title=\"Set as Alert\"><i class=\"icon-bell icon-white\"></i></a></td></tr>\n",
       "<tr class=\"decrease-row\"><td><a href=\"/CompanyDetail.aspx?symbol=RBCL\" target=\"_blank\" title=\"RBCL (Rastriya Beema Company Limited)\">RBCL</a></td><td class=\"text-right\">13,800.00</td><td class=\"text-right\">-0.72</td><td class=\"text-right\">13,969.90</td><td class=\"text-right\">13,800.00</td><td class=\"text-right\">13,900.00</td><td class=\"text-right\">278</td><td><a href=\"javascript:void(0);\" onclick='addToWatchlist(\"RBCL\");' title=\"Add to Watchlist\"><i class=\"icon-tags icon-white\"></i></a></td><td><a href=\"javascript:void(0);\" onclick='setAlert(\"RBCL\");' title=\"Set as Alert\"><i class=\"icon-bell icon-white\"></i></a></td></tr>\n",
       "<tr class=\"decrease-row\"><td><a href=\"/CompanyDetail.aspx?symbol=RBCLPO\" target=\"_blank\" title=\"RBCLPO (Rastriya Beema Company Limited Promoter Share)\">RBCLPO</a></td><td class=\"text-right\">11,852.00</td><td class=\"text-right\">-2.85</td><td class=\"text-right\">12,011.00</td><td class=\"text-right\">11,800.00</td><td class=\"text-right\">11,999.00</td><td class=\"text-right\">610</td><td><a href=\"javascript:void(0);\" onclick='addToWatchlist(\"RBCLPO\");' title=\"Add to Watchlist\"><i class=\"icon-tags icon-white\"></i></a></td><td><a href=\"javascript:void(0);\" onclick='setAlert(\"RBCLPO\");' title=\"Set as Alert\"><i class=\"icon-bell icon-white\"></i></a></td></tr>\n",
       "<tr class=\"increase-row\"><td><a href=\"/CompanyDetail.aspx?symbol=RFPL\" target=\"_blank\" title=\"RFPL (River Falls Power Limited)\">RFPL</a></td><td class=\"text-right\">320.00</td><td class=\"text-right\">3.9</td><td class=\"text-right\">325.00</td><td class=\"text-right\">295.10</td><td class=\"text-right\">302.00</td><td class=\"text-right\">54,004</td><td><a href=\"javascript:void(0);\" onclick='addToWatchlist(\"RFPL\");' title=\"Add to Watchlist\"><i class=\"icon-tags icon-white\"></i></a></td><td><a href=\"javascript:void(0);\" onclick='setAlert(\"RFPL\");' title=\"Set as Alert\"><i class=\"icon-bell icon-white\"></i></a></td></tr>\n",
       "<tr class=\"decrease-row\"><td><a href=\"/CompanyDetail.aspx?symbol=RHGCL\" target=\"_blank\" title=\"RHGCL (Rapti Hydro and General Construction Limited)\">RHGCL</a></td><td class=\"text-right\">310.00</td><td class=\"text-right\">-0.96</td><td class=\"text-right\">319.20</td><td class=\"text-right\">300.10</td><td class=\"text-right\">319.20</td><td class=\"text-right\">37,323</td><td><a href=\"javascript:void(0);\" onclick='addToWatchlist(\"RHGCL\");' title=\"Add to Watchlist\"><i class=\"icon-tags icon-white\"></i></a></td><td><a href=\"javascript:void(0);\" onclick='setAlert(\"RHGCL\");' title=\"Set as Alert\"><i class=\"icon-bell icon-white\"></i></a></td></tr>\n",
       "<tr class=\"increase-row\"><td><a href=\"/CompanyDetail.aspx?symbol=RHPL\" target=\"_blank\" title=\"RHPL (RASUWAGADHI HYDROPOWER COMPANY LIMITED)\">RHPL</a></td><td class=\"text-right\">329.80</td><td class=\"text-right\">0.24</td><td class=\"text-right\">337.90</td><td class=\"text-right\">323.00</td><td class=\"text-right\">324.00</td><td class=\"text-right\">74,735</td><td><a href=\"javascript:void(0);\" onclick='addToWatchlist(\"RHPL\");' title=\"Add to Watchlist\"><i class=\"icon-tags icon-white\"></i></a></td><td><a href=\"javascript:void(0);\" onclick='setAlert(\"RHPL\");' title=\"Set as Alert\"><i class=\"icon-bell icon-white\"></i></a></td></tr>\n",
       "<tr class=\"decrease-row\"><td><a href=\"/CompanyDetail.aspx?symbol=RIDI\" target=\"_blank\" title=\"RIDI (Ridi Power Company Limited)\">RIDI</a></td><td class=\"text-right\">565.00</td><td class=\"text-right\">-0.53</td><td class=\"text-right\">579.00</td><td class=\"text-right\">563.10</td><td class=\"text-right\">579.00</td><td class=\"text-right\">109,072</td><td><a href=\"javascript:void(0);\" onclick='addToWatchlist(\"RIDI\");' title=\"Add to Watchlist\"><i class=\"icon-tags icon-white\"></i></a></td><td><a href=\"javascript:void(0);\" onclick='setAlert(\"RIDI\");' title=\"Set as Alert\"><i class=\"icon-bell icon-white\"></i></a></td></tr>\n",
       "<tr class=\"decrease-row\"><td><a href=\"/CompanyDetail.aspx?symbol=RLFL\" target=\"_blank\" title=\"RLFL (Reliance Finance Ltd.)\">RLFL</a></td><td class=\"text-right\">344.00</td><td class=\"text-right\">-2.27</td><td class=\"text-right\">355.00</td><td class=\"text-right\">341.00</td><td class=\"text-right\">345.10</td><td class=\"text-right\">19,550</td><td><a href=\"javascript:void(0);\" onclick='addToWatchlist(\"RLFL\");' title=\"Add to Watchlist\"><i class=\"icon-tags icon-white\"></i></a></td><td><a href=\"javascript:void(0);\" onclick='setAlert(\"RLFL\");' title=\"Set as Alert\"><i class=\"icon-bell icon-white\"></i></a></td></tr>\n",
       "<tr class=\"increase-row\"><td><a href=\"/CompanyDetail.aspx?symbol=RLI\" target=\"_blank\" title=\"RLI (Reliance Life Insurance Company Limited)\">RLI</a></td><td class=\"text-right\">457.80</td><td class=\"text-right\">1.06</td><td class=\"text-right\">459.90</td><td class=\"text-right\">446.10</td><td class=\"text-right\">455.00</td><td class=\"text-right\">9,493</td><td><a href=\"javascript:void(0);\" onclick='addToWatchlist(\"RLI\");' title=\"Add to Watchlist\"><i class=\"icon-tags icon-white\"></i></a></td><td><a href=\"javascript:void(0);\" onclick='setAlert(\"RLI\");' title=\"Set as Alert\"><i class=\"icon-bell icon-white\"></i></a></td></tr>\n",
       "<tr class=\"decrease-row\"><td><a href=\"/CompanyDetail.aspx?symbol=RMDC\" target=\"_blank\" title=\"RMDC (RMDC Laghubitta Bittiya Sanstha Limited)\">RMDC</a></td><td class=\"text-right\">1,076.00</td><td class=\"text-right\">-0.38</td><td class=\"text-right\">1,098.80</td><td class=\"text-right\">1,076.00</td><td class=\"text-right\">1,098.80</td><td class=\"text-right\">8,138</td><td><a href=\"javascript:void(0);\" onclick='addToWatchlist(\"RMDC\");' title=\"Add to Watchlist\"><i class=\"icon-tags icon-white\"></i></a></td><td><a href=\"javascript:void(0);\" onclick='setAlert(\"RMDC\");' title=\"Set as Alert\"><i class=\"icon-bell icon-white\"></i></a></td></tr>\n",
       "<tr class=\"increase-row\"><td><a href=\"/CompanyDetail.aspx?symbol=RMF1\" target=\"_blank\" title=\"RMF1 (RBB Mutual Fund 1)\">RMF1</a></td><td class=\"text-right\">7.94</td><td class=\"text-right\">4.47</td><td class=\"text-right\">7.94</td><td class=\"text-right\">7.45</td><td class=\"text-right\">7.45</td><td class=\"text-right\">27,375</td><td><a href=\"javascript:void(0);\" onclick='addToWatchlist(\"RMF1\");' title=\"Add to Watchlist\"><i class=\"icon-tags icon-white\"></i></a></td><td><a href=\"javascript:void(0);\" onclick='setAlert(\"RMF1\");' title=\"Set as Alert\"><i class=\"icon-bell icon-white\"></i></a></td></tr>\n",
       "<tr class=\"decrease-row\"><td><a href=\"/CompanyDetail.aspx?symbol=RSDC\" target=\"_blank\" title=\"RSDC (RSDC Laghubitta Bittiya Sanstha Ltd.)\">RSDC</a></td><td class=\"text-right\">636.00</td><td class=\"text-right\">-0.62</td><td class=\"text-right\">639.00</td><td class=\"text-right\">628.10</td><td class=\"text-right\">628.20</td><td class=\"text-right\">4,381</td><td><a href=\"javascript:void(0);\" onclick='addToWatchlist(\"RSDC\");' title=\"Add to Watchlist\"><i class=\"icon-tags icon-white\"></i></a></td><td><a href=\"javascript:void(0);\" onclick='setAlert(\"RSDC\");' title=\"Set as Alert\"><i class=\"icon-bell icon-white\"></i></a></td></tr>\n",
       "<tr class=\"decrease-row\"><td><a href=\"/CompanyDetail.aspx?symbol=RULB\" target=\"_blank\" title=\"RULB (Rastra Utthan Laghubitta Sanstha Limited)\">RULB</a></td><td class=\"text-right\">945.00</td><td class=\"text-right\">-3.28</td><td class=\"text-right\">977.00</td><td class=\"text-right\">945.00</td><td class=\"text-right\">957.50</td><td class=\"text-right\">1,593</td><td><a href=\"javascript:void(0);\" onclick='addToWatchlist(\"RULB\");' title=\"Add to Watchlist\"><i class=\"icon-tags icon-white\"></i></a></td><td><a href=\"javascript:void(0);\" onclick='setAlert(\"RULB\");' title=\"Set as Alert\"><i class=\"icon-bell icon-white\"></i></a></td></tr>\n",
       "<tr class=\"decrease-row\"><td><a href=\"/CompanyDetail.aspx?symbol=RURU\" target=\"_blank\" title=\"RURU (Ru Ru Jalbidhyut Pariyojana Limited)\">RURU</a></td><td class=\"text-right\">773.00</td><td class=\"text-right\">-1.53</td><td class=\"text-right\">785.00</td><td class=\"text-right\">770.00</td><td class=\"text-right\">771.50</td><td class=\"text-right\">1,918</td><td><a href=\"javascript:void(0);\" onclick='addToWatchlist(\"RURU\");' title=\"Add to Watchlist\"><i class=\"icon-tags icon-white\"></i></a></td><td><a href=\"javascript:void(0);\" onclick='setAlert(\"RURU\");' title=\"Set as Alert\"><i class=\"icon-bell icon-white\"></i></a></td></tr>\n",
       "<tr class=\"decrease-row\"><td><a href=\"/CompanyDetail.aspx?symbol=SABSL\" target=\"_blank\" title=\"SABSL (SABAIKO LAGHUBITTA BITTIYA SANSTHA LIMITED)\">SABSL</a></td><td class=\"text-right\">1,008.00</td><td class=\"text-right\">-1.18</td><td class=\"text-right\">1,020.00</td><td class=\"text-right\">990.00</td><td class=\"text-right\">1,005.00</td><td class=\"text-right\">1,716</td><td><a href=\"javascript:void(0);\" onclick='addToWatchlist(\"SABSL\");' title=\"Add to Watchlist\"><i class=\"icon-tags icon-white\"></i></a></td><td><a href=\"javascript:void(0);\" onclick='setAlert(\"SABSL\");' title=\"Set as Alert\"><i class=\"icon-bell icon-white\"></i></a></td></tr>\n",
       "<tr class=\"decrease-row\"><td><a href=\"/CompanyDetail.aspx?symbol=SADBL\" target=\"_blank\" title=\"SADBL (Shangrila Development Bank Ltd.)\">SADBL</a></td><td class=\"text-right\">340.00</td><td class=\"text-right\">-1.25</td><td class=\"text-right\">344.90</td><td class=\"text-right\">331.30</td><td class=\"text-right\">337.50</td><td class=\"text-right\">29,948</td><td><a href=\"javascript:void(0);\" onclick='addToWatchlist(\"SADBL\");' title=\"Add to Watchlist\"><i class=\"icon-tags icon-white\"></i></a></td><td><a href=\"javascript:void(0);\" onclick='setAlert(\"SADBL\");' title=\"Set as Alert\"><i class=\"icon-bell icon-white\"></i></a></td></tr>\n",
       "<tr class=\"nochange-row\"><td><a href=\"/CompanyDetail.aspx?symbol=SAEF\" target=\"_blank\" title=\"SAEF (Sanima Equity Fund)\">SAEF</a></td><td class=\"text-right\">11.12</td><td class=\"text-right\">0</td><td class=\"text-right\">11.13</td><td class=\"text-right\">11.03</td><td class=\"text-right\">11.12</td><td class=\"text-right\">25,095</td><td><a href=\"javascript:void(0);\" onclick='addToWatchlist(\"SAEF\");' title=\"Add to Watchlist\"><i class=\"icon-tags icon-white\"></i></a></td><td><a href=\"javascript:void(0);\" onclick='setAlert(\"SAEF\");' title=\"Set as Alert\"><i class=\"icon-bell icon-white\"></i></a></td></tr>\n",
       "<tr class=\"increase-row\"><td><a href=\"/CompanyDetail.aspx?symbol=SAHAS\" target=\"_blank\" title=\"SAHAS (Sahas Urja Limited)\">SAHAS</a></td><td class=\"text-right\">608.10</td><td class=\"text-right\">1.52</td><td class=\"text-right\">616.00</td><td class=\"text-right\">577.30</td><td class=\"text-right\">588.00</td><td class=\"text-right\">61,546</td><td><a href=\"javascript:void(0);\" onclick='addToWatchlist(\"SAHAS\");' title=\"Add to Watchlist\"><i class=\"icon-tags icon-white\"></i></a></td><td><a href=\"javascript:void(0);\" onclick='setAlert(\"SAHAS\");' title=\"Set as Alert\"><i class=\"icon-bell icon-white\"></i></a></td></tr>\n",
       "<tr class=\"increase-row\"><td><a href=\"/CompanyDetail.aspx?symbol=SANIMA\" target=\"_blank\" title=\"SANIMA (Sanima Bank Limited)\">SANIMA</a></td><td class=\"text-right\">260.80</td><td class=\"text-right\">0.69</td><td class=\"text-right\">265.00</td><td class=\"text-right\">259.00</td><td class=\"text-right\">259.00</td><td class=\"text-right\">63,662</td><td><a href=\"javascript:void(0);\" onclick='addToWatchlist(\"SANIMA\");' title=\"Add to Watchlist\"><i class=\"icon-tags icon-white\"></i></a></td><td><a href=\"javascript:void(0);\" onclick='setAlert(\"SANIMA\");' title=\"Set as Alert\"><i class=\"icon-bell icon-white\"></i></a></td></tr>\n",
       "<tr class=\"decrease-row\"><td><a href=\"/CompanyDetail.aspx?symbol=SAPDBL\" target=\"_blank\" title=\"SAPDBL (Saptakoshi Development Bank Ltd)\">SAPDBL</a></td><td class=\"text-right\">260.10</td><td class=\"text-right\">-3.42</td><td class=\"text-right\">274.00</td><td class=\"text-right\">260.10</td><td class=\"text-right\">264.00</td><td class=\"text-right\">20,826</td><td><a href=\"javascript:void(0);\" onclick='addToWatchlist(\"SAPDBL\");' title=\"Add to Watchlist\"><i class=\"icon-tags icon-white\"></i></a></td><td><a href=\"javascript:void(0);\" onclick='setAlert(\"SAPDBL\");' title=\"Set as Alert\"><i class=\"icon-bell icon-white\"></i></a></td></tr>\n",
       "<tr class=\"decrease-row\"><td><a href=\"/CompanyDetail.aspx?symbol=SBCF\" target=\"_blank\" title=\"SBCF (Sunrise Bluechip Fund)\">SBCF</a></td><td class=\"text-right\">8.50</td><td class=\"text-right\">-1.96</td><td class=\"text-right\">8.65</td><td class=\"text-right\">8.50</td><td class=\"text-right\">8.50</td><td class=\"text-right\">150,636</td><td><a href=\"javascript:void(0);\" onclick='addToWatchlist(\"SBCF\");' title=\"Add to Watchlist\"><i class=\"icon-tags icon-white\"></i></a></td><td><a href=\"javascript:void(0);\" onclick='setAlert(\"SBCF\");' title=\"Set as Alert\"><i class=\"icon-bell icon-white\"></i></a></td></tr>\n",
       "<tr class=\"nochange-row\"><td><a href=\"/CompanyDetail.aspx?symbol=SBD87\" target=\"_blank\" title=\"SBD87 (8.5% Sanima Debenture 2087)\">SBD87</a></td><td class=\"text-right\">765.00</td><td class=\"text-right\">0</td><td class=\"text-right\">765.00</td><td class=\"text-right\">765.00</td><td class=\"text-right\">765.00</td><td class=\"text-right\">110</td><td><a href=\"javascript:void(0);\" onclick='addToWatchlist(\"SBD87\");' title=\"Add to Watchlist\"><i class=\"icon-tags icon-white\"></i></a></td><td><a href=\"javascript:void(0);\" onclick='setAlert(\"SBD87\");' title=\"Set as Alert\"><i class=\"icon-bell icon-white\"></i></a></td></tr>\n",
       "<tr class=\"decrease-row\"><td><a href=\"/CompanyDetail.aspx?symbol=SBI\" target=\"_blank\" title=\"SBI (Nepal SBI Bank Limited)\">SBI</a></td><td class=\"text-right\">331.00</td><td class=\"text-right\">-4.06</td><td class=\"text-right\">344.00</td><td class=\"text-right\">329.00</td><td class=\"text-right\">343.90</td><td class=\"text-right\">45,986</td><td><a href=\"javascript:void(0);\" onclick='addToWatchlist(\"SBI\");' title=\"Add to Watchlist\"><i class=\"icon-tags icon-white\"></i></a></td><td><a href=\"javascript:void(0);\" onclick='setAlert(\"SBI\");' title=\"Set as Alert\"><i class=\"icon-bell icon-white\"></i></a></td></tr>\n",
       "<tr class=\"increase-row\"><td><a href=\"/CompanyDetail.aspx?symbol=SBID83\" target=\"_blank\" title=\"SBID83 (10.25% Nepal SBI Bank Debenture 2083)\">SBID83</a></td><td class=\"text-right\">880.10</td><td class=\"text-right\">0.01</td><td class=\"text-right\">880.10</td><td class=\"text-right\">880.10</td><td class=\"text-right\">880.10</td><td class=\"text-right\">25</td><td><a href=\"javascript:void(0);\" onclick='addToWatchlist(\"SBID83\");' title=\"Add to Watchlist\"><i class=\"icon-tags icon-white\"></i></a></td><td><a href=\"javascript:void(0);\" onclick='setAlert(\"SBID83\");' title=\"Set as Alert\"><i class=\"icon-bell icon-white\"></i></a></td></tr>\n",
       "<tr class=\"decrease-row\"><td><a href=\"/CompanyDetail.aspx?symbol=SBL\" target=\"_blank\" title=\"SBL (Siddhartha Bank Limited)\">SBL</a></td><td class=\"text-right\">294.00</td><td class=\"text-right\">-0.68</td><td class=\"text-right\">297.80</td><td class=\"text-right\">293.00</td><td class=\"text-right\">297.00</td><td class=\"text-right\">37,470</td><td><a href=\"javascript:void(0);\" onclick='addToWatchlist(\"SBL\");' title=\"Add to Watchlist\"><i class=\"icon-tags icon-white\"></i></a></td><td><a href=\"javascript:void(0);\" onclick='setAlert(\"SBL\");' title=\"Set as Alert\"><i class=\"icon-bell icon-white\"></i></a></td></tr>\n",
       "<tr class=\"nochange-row\"><td><a href=\"/CompanyDetail.aspx?symbol=SBLD2082\" target=\"_blank\" title=\"SBLD2082 (10.50% SBL Debenture 2082)\">SBLD2082</a></td><td class=\"text-right\">920.00</td><td class=\"text-right\">0</td><td class=\"text-right\">920.00</td><td class=\"text-right\">920.00</td><td class=\"text-right\">920.00</td><td class=\"text-right\">50</td><td><a href=\"javascript:void(0);\" onclick='addToWatchlist(\"SBLD2082\");' title=\"Add to Watchlist\"><i class=\"icon-tags icon-white\"></i></a></td><td><a href=\"javascript:void(0);\" onclick='setAlert(\"SBLD2082\");' title=\"Set as Alert\"><i class=\"icon-bell icon-white\"></i></a></td></tr>\n",
       "<tr class=\"increase-row\"><td><a href=\"/CompanyDetail.aspx?symbol=SBLD84\" target=\"_blank\" title=\"SBLD84 (8.5% SBL Debenture 2084)\">SBLD84</a></td><td class=\"text-right\">790.00</td><td class=\"text-right\">0.38</td><td class=\"text-right\">790.00</td><td class=\"text-right\">790.00</td><td class=\"text-right\">790.00</td><td class=\"text-right\">25</td><td><a href=\"javascript:void(0);\" onclick='addToWatchlist(\"SBLD84\");' title=\"Add to Watchlist\"><i class=\"icon-tags icon-white\"></i></a></td><td><a href=\"javascript:void(0);\" onclick='setAlert(\"SBLD84\");' title=\"Set as Alert\"><i class=\"icon-bell icon-white\"></i></a></td></tr>\n",
       "<tr class=\"nochange-row\"><td><a href=\"/CompanyDetail.aspx?symbol=SBLPO\" target=\"_blank\" title=\"SBLPO (Siddhartha Bank Limited Promoter Share)\">SBLPO</a></td><td class=\"text-right\">171.50</td><td class=\"text-right\">0</td><td class=\"text-right\">171.50</td><td class=\"text-right\">171.50</td><td class=\"text-right\">171.50</td><td class=\"text-right\">46,869</td><td><a href=\"javascript:void(0);\" onclick='addToWatchlist(\"SBLPO\");' title=\"Add to Watchlist\"><i class=\"icon-tags icon-white\"></i></a></td><td><a href=\"javascript:void(0);\" onclick='setAlert(\"SBLPO\");' title=\"Set as Alert\"><i class=\"icon-bell icon-white\"></i></a></td></tr>\n",
       "<tr class=\"decrease-row\"><td><a href=\"/CompanyDetail.aspx?symbol=SCB\" target=\"_blank\" title=\"SCB (Standard Chartered Bank Limited)\">SCB</a></td><td class=\"text-right\">500.00</td><td class=\"text-right\">-0.6</td><td class=\"text-right\">510.00</td><td class=\"text-right\">497.00</td><td class=\"text-right\">507.00</td><td class=\"text-right\">40,164</td><td><a href=\"javascript:void(0);\" onclick='addToWatchlist(\"SCB\");' title=\"Add to Watchlist\"><i class=\"icon-tags icon-white\"></i></a></td><td><a href=\"javascript:void(0);\" onclick='setAlert(\"SCB\");' title=\"Set as Alert\"><i class=\"icon-bell icon-white\"></i></a></td></tr>\n",
       "<tr class=\"nochange-row\"><td><a href=\"/CompanyDetail.aspx?symbol=SDBD87\" target=\"_blank\" title=\"SDBD87 (9% Shangri-la Development Bank Debenture 2087)\">SDBD87</a></td><td class=\"text-right\">780.00</td><td class=\"text-right\">0</td><td class=\"text-right\">780.00</td><td class=\"text-right\">780.00</td><td class=\"text-right\">780.00</td><td class=\"text-right\">200</td><td><a href=\"javascript:void(0);\" onclick='addToWatchlist(\"SDBD87\");' title=\"Add to Watchlist\"><i class=\"icon-tags icon-white\"></i></a></td><td><a href=\"javascript:void(0);\" onclick='setAlert(\"SDBD87\");' title=\"Set as Alert\"><i class=\"icon-bell icon-white\"></i></a></td></tr>\n",
       "<tr class=\"decrease-row\"><td><a href=\"/CompanyDetail.aspx?symbol=SDLBSL\" target=\"_blank\" title=\"SDLBSL (Sadhana Laghubitta Bittiya Sanstha Limited)\">SDLBSL</a></td><td class=\"text-right\">900.00</td><td class=\"text-right\">-1.64</td><td class=\"text-right\">910.00</td><td class=\"text-right\">900.00</td><td class=\"text-right\">902.00</td><td class=\"text-right\">784</td><td><a href=\"javascript:void(0);\" onclick='addToWatchlist(\"SDLBSL\");' title=\"Add to Watchlist\"><i class=\"icon-tags icon-white\"></i></a></td><td><a href=\"javascript:void(0);\" onclick='setAlert(\"SDLBSL\");' title=\"Set as Alert\"><i class=\"icon-bell icon-white\"></i></a></td></tr>\n",
       "<tr class=\"decrease-row\"><td><a href=\"/CompanyDetail.aspx?symbol=SEF\" target=\"_blank\" title=\"SEF (Siddhartha Equity Fund)\">SEF</a></td><td class=\"text-right\">8.77</td><td class=\"text-right\">-3.63</td><td class=\"text-right\">9.00</td><td class=\"text-right\">8.75</td><td class=\"text-right\">8.92</td><td class=\"text-right\">8,720</td><td><a href=\"javascript:void(0);\" onclick='addToWatchlist(\"SEF\");' title=\"Add to Watchlist\"><i class=\"icon-tags icon-white\"></i></a></td><td><a href=\"javascript:void(0);\" onclick='setAlert(\"SEF\");' title=\"Set as Alert\"><i class=\"icon-bell icon-white\"></i></a></td></tr>\n",
       "<tr class=\"decrease-row\"><td><a href=\"/CompanyDetail.aspx?symbol=SFCL\" target=\"_blank\" title=\"SFCL (Samriddhi Finance Company Limited)\">SFCL</a></td><td class=\"text-right\">324.00</td><td class=\"text-right\">-6.09</td><td class=\"text-right\">343.70</td><td class=\"text-right\">323.50</td><td class=\"text-right\">340.10</td><td class=\"text-right\">95,677</td><td><a href=\"javascript:void(0);\" onclick='addToWatchlist(\"SFCL\");' title=\"Add to Watchlist\"><i class=\"icon-tags icon-white\"></i></a></td><td><a href=\"javascript:void(0);\" onclick='setAlert(\"SFCL\");' title=\"Set as Alert\"><i class=\"icon-bell icon-white\"></i></a></td></tr>\n",
       "<tr class=\"nochange-row\"><td><a href=\"/CompanyDetail.aspx?symbol=SFMF\" target=\"_blank\" title=\"SFMF (Sunrise First Mutual Fund)\">SFMF</a></td><td class=\"text-right\">10.22</td><td class=\"text-right\">0</td><td class=\"text-right\">10.42</td><td class=\"text-right\">10.02</td><td class=\"text-right\">10.02</td><td class=\"text-right\">1,700</td><td><a href=\"javascript:void(0);\" onclick='addToWatchlist(\"SFMF\");' title=\"Add to Watchlist\"><i class=\"icon-tags icon-white\"></i></a></td><td><a href=\"javascript:void(0);\" onclick='setAlert(\"SFMF\");' title=\"Set as Alert\"><i class=\"icon-bell icon-white\"></i></a></td></tr>\n",
       "<tr class=\"increase-row\"><td><a href=\"/CompanyDetail.aspx?symbol=SGHC\" target=\"_blank\" title=\"SGHC (Swet-Ganga Hydropower &amp; Construction Limited )\">SGHC</a></td><td class=\"text-right\">411.60</td><td class=\"text-right\">9.67</td><td class=\"text-right\">411.60</td><td class=\"text-right\">358.00</td><td class=\"text-right\">367.80</td><td class=\"text-right\">29,501</td><td><a href=\"javascript:void(0);\" onclick='addToWatchlist(\"SGHC\");' title=\"Add to Watchlist\"><i class=\"icon-tags icon-white\"></i></a></td><td><a href=\"javascript:void(0);\" onclick='setAlert(\"SGHC\");' title=\"Set as Alert\"><i class=\"icon-bell icon-white\"></i></a></td></tr>\n",
       "<tr class=\"increase-row\"><td><a href=\"/CompanyDetail.aspx?symbol=SGIC\" target=\"_blank\" title=\"SGIC (Sanima GIC Insurance Limited)\">SGIC</a></td><td class=\"text-right\">498.00</td><td class=\"text-right\">0.61</td><td class=\"text-right\">514.00</td><td class=\"text-right\">476.00</td><td class=\"text-right\">485.10</td><td class=\"text-right\">23,218</td><td><a href=\"javascript:void(0);\" onclick='addToWatchlist(\"SGIC\");' title=\"Add to Watchlist\"><i class=\"icon-tags icon-white\"></i></a></td><td><a href=\"javascript:void(0);\" onclick='setAlert(\"SGIC\");' title=\"Set as Alert\"><i class=\"icon-bell icon-white\"></i></a></td></tr>\n",
       "<tr class=\"decrease-row\"><td><a href=\"/CompanyDetail.aspx?symbol=SHEL\" target=\"_blank\" title=\"SHEL (Singati Hydro Energy Limited)\">SHEL</a></td><td class=\"text-right\">352.00</td><td class=\"text-right\">-2.79</td><td class=\"text-right\">363.00</td><td class=\"text-right\">350.00</td><td class=\"text-right\">360.00</td><td class=\"text-right\">16,621</td><td><a href=\"javascript:void(0);\" onclick='addToWatchlist(\"SHEL\");' title=\"Add to Watchlist\"><i class=\"icon-tags icon-white\"></i></a></td><td><a href=\"javascript:void(0);\" onclick='setAlert(\"SHEL\");' title=\"Set as Alert\"><i class=\"icon-bell icon-white\"></i></a></td></tr>\n",
       "<tr class=\"decrease-row\"><td><a href=\"/CompanyDetail.aspx?symbol=SHINE\" target=\"_blank\" title=\"SHINE (Shine Resunga Development Bank Ltd.)\">SHINE</a></td><td class=\"text-right\">355.00</td><td class=\"text-right\">-1.11</td><td class=\"text-right\">360.30</td><td class=\"text-right\">351.90</td><td class=\"text-right\">352.00</td><td class=\"text-right\">42,126</td><td><a href=\"javascript:void(0);\" onclick='addToWatchlist(\"SHINE\");' title=\"Add to Watchlist\"><i class=\"icon-tags icon-white\"></i></a></td><td><a href=\"javascript:void(0);\" onclick='setAlert(\"SHINE\");' title=\"Set as Alert\"><i class=\"icon-bell icon-white\"></i></a></td></tr>\n",
       "<tr class=\"decrease-row\"><td><a href=\"/CompanyDetail.aspx?symbol=SHIVM\" target=\"_blank\" title=\"SHIVM (SHIVAM CEMENTS LTD)\">SHIVM</a></td><td class=\"text-right\">525.00</td><td class=\"text-right\">-0.38</td><td class=\"text-right\">534.00</td><td class=\"text-right\">521.00</td><td class=\"text-right\">525.00</td><td class=\"text-right\">94,868</td><td><a href=\"javascript:void(0);\" onclick='addToWatchlist(\"SHIVM\");' title=\"Add to Watchlist\"><i class=\"icon-tags icon-white\"></i></a></td><td><a href=\"javascript:void(0);\" onclick='setAlert(\"SHIVM\");' title=\"Set as Alert\"><i class=\"icon-bell icon-white\"></i></a></td></tr>\n",
       "<tr class=\"increase-row\"><td><a href=\"/CompanyDetail.aspx?symbol=SHL\" target=\"_blank\" title=\"SHL (Soaltee Hotel Limited)\">SHL</a></td><td class=\"text-right\">233.90</td><td class=\"text-right\">0.39</td><td class=\"text-right\">235.00</td><td class=\"text-right\">225.40</td><td class=\"text-right\">230.00</td><td class=\"text-right\">29,133</td><td><a href=\"javascript:void(0);\" onclick='addToWatchlist(\"SHL\");' title=\"Add to Watchlist\"><i class=\"icon-tags icon-white\"></i></a></td><td><a href=\"javascript:void(0);\" onclick='setAlert(\"SHL\");' title=\"Set as Alert\"><i class=\"icon-bell icon-white\"></i></a></td></tr>\n",
       "<tr class=\"decrease-row\"><td><a href=\"/CompanyDetail.aspx?symbol=SHLB\" target=\"_blank\" title=\"SHLB (Shrijanshil Laghubitta Bittiya Sanstha Limited)\">SHLB</a></td><td class=\"text-right\">2,359.00</td><td class=\"text-right\">-0.25</td><td class=\"text-right\">2,404.00</td><td class=\"text-right\">2,353.50</td><td class=\"text-right\">2,355.00</td><td class=\"text-right\">3,435</td><td><a href=\"javascript:void(0);\" onclick='addToWatchlist(\"SHLB\");' title=\"Add to Watchlist\"><i class=\"icon-tags icon-white\"></i></a></td><td><a href=\"javascript:void(0);\" onclick='setAlert(\"SHLB\");' title=\"Set as Alert\"><i class=\"icon-bell icon-white\"></i></a></td></tr>\n",
       "<tr class=\"decrease-row\"><td><a href=\"/CompanyDetail.aspx?symbol=SHPC\" target=\"_blank\" title=\"SHPC (Sanima Mai Hydropower Ltd.)\">SHPC</a></td><td class=\"text-right\">338.00</td><td class=\"text-right\">-0.29</td><td class=\"text-right\">345.00</td><td class=\"text-right\">330.00</td><td class=\"text-right\">333.00</td><td class=\"text-right\">55,667</td><td><a href=\"javascript:void(0);\" onclick='addToWatchlist(\"SHPC\");' title=\"Add to Watchlist\"><i class=\"icon-tags icon-white\"></i></a></td><td><a href=\"javascript:void(0);\" onclick='setAlert(\"SHPC\");' title=\"Set as Alert\"><i class=\"icon-bell icon-white\"></i></a></td></tr>\n",
       "<tr class=\"decrease-row\"><td><a href=\"/CompanyDetail.aspx?symbol=SIC\" target=\"_blank\" title=\"SIC (Sagarmatha Insurance Co. Ltd.)\">SIC</a></td><td class=\"text-right\">870.00</td><td class=\"text-right\">-4.4</td><td class=\"text-right\">930.00</td><td class=\"text-right\">870.00</td><td class=\"text-right\">928.20</td><td class=\"text-right\">15,844</td><td><a href=\"javascript:void(0);\" onclick='addToWatchlist(\"SIC\");' title=\"Add to Watchlist\"><i class=\"icon-tags icon-white\"></i></a></td><td><a href=\"javascript:void(0);\" onclick='setAlert(\"SIC\");' title=\"Set as Alert\"><i class=\"icon-bell icon-white\"></i></a></td></tr>\n",
       "<tr class=\"decrease-row\"><td><a href=\"/CompanyDetail.aspx?symbol=SICL\" target=\"_blank\" title=\"SICL (Shikhar Insurance Co. Ltd.)\">SICL</a></td><td class=\"text-right\">947.20</td><td class=\"text-right\">-1.33</td><td class=\"text-right\">960.00</td><td class=\"text-right\">940.00</td><td class=\"text-right\">941.00</td><td class=\"text-right\">19,240</td><td><a href=\"javascript:void(0);\" onclick='addToWatchlist(\"SICL\");' title=\"Add to Watchlist\"><i class=\"icon-tags icon-white\"></i></a></td><td><a href=\"javascript:void(0);\" onclick='setAlert(\"SICL\");' title=\"Set as Alert\"><i class=\"icon-bell icon-white\"></i></a></td></tr>\n",
       "<tr class=\"decrease-row\"><td><a href=\"/CompanyDetail.aspx?symbol=SIFC\" target=\"_blank\" title=\"SIFC (Shree Investment Finance Co. Ltd.)\">SIFC</a></td><td class=\"text-right\">346.30</td><td class=\"text-right\">-3.54</td><td class=\"text-right\">359.00</td><td class=\"text-right\">345.10</td><td class=\"text-right\">352.30</td><td class=\"text-right\">10,981</td><td><a href=\"javascript:void(0);\" onclick='addToWatchlist(\"SIFC\");' title=\"Add to Watchlist\"><i class=\"icon-tags icon-white\"></i></a></td><td><a href=\"javascript:void(0);\" onclick='setAlert(\"SIFC\");' title=\"Set as Alert\"><i class=\"icon-bell icon-white\"></i></a></td></tr>\n",
       "<tr class=\"decrease-row\"><td><a href=\"/CompanyDetail.aspx?symbol=SIGS2\" target=\"_blank\" title=\"SIGS2 (Siddhartha Investment Growth Scheme - 2)\">SIGS2</a></td><td class=\"text-right\">8.80</td><td class=\"text-right\">-2.65</td><td class=\"text-right\">8.86</td><td class=\"text-right\">8.77</td><td class=\"text-right\">8.86</td><td class=\"text-right\">3,700</td><td><a href=\"javascript:void(0);\" onclick='addToWatchlist(\"SIGS2\");' title=\"Add to Watchlist\"><i class=\"icon-tags icon-white\"></i></a></td><td><a href=\"javascript:void(0);\" onclick='setAlert(\"SIGS2\");' title=\"Set as Alert\"><i class=\"icon-bell icon-white\"></i></a></td></tr>\n",
       "<tr class=\"increase-row\"><td><a href=\"/CompanyDetail.aspx?symbol=SIKLES\" target=\"_blank\" title=\"SIKLES (Sikles Hydropower Limited)\">SIKLES</a></td><td class=\"text-right\">487.00</td><td class=\"text-right\">0.41</td><td class=\"text-right\">487.50</td><td class=\"text-right\">460.90</td><td class=\"text-right\">477.00</td><td class=\"text-right\">20,670</td><td><a href=\"javascript:void(0);\" onclick='addToWatchlist(\"SIKLES\");' title=\"Add to Watchlist\"><i class=\"icon-tags icon-white\"></i></a></td><td><a href=\"javascript:void(0);\" onclick='setAlert(\"SIKLES\");' title=\"Set as Alert\"><i class=\"icon-bell icon-white\"></i></a></td></tr>\n",
       "<tr class=\"increase-row\"><td><a href=\"/CompanyDetail.aspx?symbol=SIL\" target=\"_blank\" title=\"SIL (Siddhartha Insurance Ltd.)\">SIL</a></td><td class=\"text-right\">660.00</td><td class=\"text-right\">1.06</td><td class=\"text-right\">693.90</td><td class=\"text-right\">640.10</td><td class=\"text-right\">640.10</td><td class=\"text-right\">5,818</td><td><a href=\"javascript:void(0);\" onclick='addToWatchlist(\"SIL\");' title=\"Add to Watchlist\"><i class=\"icon-tags icon-white\"></i></a></td><td><a href=\"javascript:void(0);\" onclick='setAlert(\"SIL\");' title=\"Set as Alert\"><i class=\"icon-bell icon-white\"></i></a></td></tr>\n",
       "<tr class=\"decrease-row\"><td><a href=\"/CompanyDetail.aspx?symbol=SINDU\" target=\"_blank\" title=\"SINDU (Sindhu Bikash Bank Ltd)\">SINDU</a></td><td class=\"text-right\">296.00</td><td class=\"text-right\">-1.99</td><td class=\"text-right\">303.00</td><td class=\"text-right\">295.00</td><td class=\"text-right\">296.00</td><td class=\"text-right\">6,030</td><td><a href=\"javascript:void(0);\" onclick='addToWatchlist(\"SINDU\");' title=\"Add to Watchlist\"><i class=\"icon-tags icon-white\"></i></a></td><td><a href=\"javascript:void(0);\" onclick='setAlert(\"SINDU\");' title=\"Set as Alert\"><i class=\"icon-bell icon-white\"></i></a></td></tr>\n",
       "<tr class=\"decrease-row\"><td><a href=\"/CompanyDetail.aspx?symbol=SJCL\" target=\"_blank\" title=\"SJCL (SANJEN JALAVIDHYUT COMPANY LIMITED)\">SJCL</a></td><td class=\"text-right\">331.00</td><td class=\"text-right\">-3.22</td><td class=\"text-right\">344.90</td><td class=\"text-right\">327.70</td><td class=\"text-right\">336.00</td><td class=\"text-right\">50,441</td><td><a href=\"javascript:void(0);\" onclick='addToWatchlist(\"SJCL\");' title=\"Add to Watchlist\"><i class=\"icon-tags icon-white\"></i></a></td><td><a href=\"javascript:void(0);\" onclick='setAlert(\"SJCL\");' title=\"Set as Alert\"><i class=\"icon-bell icon-white\"></i></a></td></tr>\n",
       "<tr class=\"increase-row\"><td><a href=\"/CompanyDetail.aspx?symbol=SJLIC\" target=\"_blank\" title=\"SJLIC (SuryaJyoti Life Insurance Company Limited)\">SJLIC</a></td><td class=\"text-right\">494.40</td><td class=\"text-right\">9.99</td><td class=\"text-right\">494.40</td><td class=\"text-right\">458.40</td><td class=\"text-right\">458.40</td><td class=\"text-right\">1,815</td><td><a href=\"javascript:void(0);\" onclick='addToWatchlist(\"SJLIC\");' title=\"Add to Watchlist\"><i class=\"icon-tags icon-white\"></i></a></td><td><a href=\"javascript:void(0);\" onclick='setAlert(\"SJLIC\");' title=\"Set as Alert\"><i class=\"icon-bell icon-white\"></i></a></td></tr>\n",
       "<tr class=\"decrease-row\"><td><a href=\"/CompanyDetail.aspx?symbol=SKBBL\" target=\"_blank\" title=\"SKBBL (Sana Kisan Bikas Laghubitta Bittiya sanstha Limited.)\">SKBBL</a></td><td class=\"text-right\">1,266.00</td><td class=\"text-right\">-0.71</td><td class=\"text-right\">1,285.90</td><td class=\"text-right\">1,263.00</td><td class=\"text-right\">1,275.00</td><td class=\"text-right\">4,864</td><td><a href=\"javascript:void(0);\" onclick='addToWatchlist(\"SKBBL\");' title=\"Add to Watchlist\"><i class=\"icon-tags icon-white\"></i></a></td><td><a href=\"javascript:void(0);\" onclick='setAlert(\"SKBBL\");' title=\"Set as Alert\"><i class=\"icon-bell icon-white\"></i></a></td></tr>\n",
       "<tr class=\"decrease-row\"><td><a href=\"/CompanyDetail.aspx?symbol=SLBBL\" target=\"_blank\" title=\"SLBBL (Swarojgar Laghubitta Bittiya Sanstha Ltd.)\">SLBBL</a></td><td class=\"text-right\">1,034.00</td><td class=\"text-right\">-0.3</td><td class=\"text-right\">1,036.00</td><td class=\"text-right\">1,018.00</td><td class=\"text-right\">1,036.00</td><td class=\"text-right\">4,068</td><td><a href=\"javascript:void(0);\" onclick='addToWatchlist(\"SLBBL\");' title=\"Add to Watchlist\"><i class=\"icon-tags icon-white\"></i></a></td><td><a href=\"javascript:void(0);\" onclick='setAlert(\"SLBBL\");' title=\"Set as Alert\"><i class=\"icon-bell icon-white\"></i></a></td></tr>\n",
       "<tr class=\"decrease-row\"><td><a href=\"/CompanyDetail.aspx?symbol=SLBSL\" target=\"_blank\" title=\"SLBSL (Samudayik Laghubitta Bittiya Sanstha Limited)\">SLBSL</a></td><td class=\"text-right\">1,258.00</td><td class=\"text-right\">-0.48</td><td class=\"text-right\">1,283.00</td><td class=\"text-right\">1,258.00</td><td class=\"text-right\">1,283.00</td><td class=\"text-right\">134</td><td><a href=\"javascript:void(0);\" onclick='addToWatchlist(\"SLBSL\");' title=\"Add to Watchlist\"><i class=\"icon-tags icon-white\"></i></a></td><td><a href=\"javascript:void(0);\" onclick='setAlert(\"SLBSL\");' title=\"Set as Alert\"><i class=\"icon-bell icon-white\"></i></a></td></tr>\n",
       "<tr class=\"decrease-row\"><td><a href=\"/CompanyDetail.aspx?symbol=SLCF\" target=\"_blank\" title=\"SLCF (Sanima Large Cap Fund)\">SLCF</a></td><td class=\"text-right\">8.21</td><td class=\"text-right\">-2.49</td><td class=\"text-right\">8.40</td><td class=\"text-right\">8.20</td><td class=\"text-right\">8.26</td><td class=\"text-right\">57,080</td><td><a href=\"javascript:void(0);\" onclick='addToWatchlist(\"SLCF\");' title=\"Add to Watchlist\"><i class=\"icon-tags icon-white\"></i></a></td><td><a href=\"javascript:void(0);\" onclick='setAlert(\"SLCF\");' title=\"Set as Alert\"><i class=\"icon-bell icon-white\"></i></a></td></tr>\n",
       "<tr class=\"decrease-row\"><td><a href=\"/CompanyDetail.aspx?symbol=SLI\" target=\"_blank\" title=\"SLI (Sanima Life Insurance)\">SLI</a></td><td class=\"text-right\">452.00</td><td class=\"text-right\">-0.24</td><td class=\"text-right\">464.00</td><td class=\"text-right\">442.00</td><td class=\"text-right\">453.10</td><td class=\"text-right\">13,927</td><td><a href=\"javascript:void(0);\" onclick='addToWatchlist(\"SLI\");' title=\"Add to Watchlist\"><i class=\"icon-tags icon-white\"></i></a></td><td><a href=\"javascript:void(0);\" onclick='setAlert(\"SLI\");' title=\"Set as Alert\"><i class=\"icon-bell icon-white\"></i></a></td></tr>\n",
       "<tr class=\"decrease-row\"><td><a href=\"/CompanyDetail.aspx?symbol=SMATA\" target=\"_blank\" title=\"SMATA (Samata Gharelu Laghubitta Bittiya Sanstha Limited)\">SMATA</a></td><td class=\"text-right\">844.00</td><td class=\"text-right\">-2.43</td><td class=\"text-right\">858.80</td><td class=\"text-right\">840.00</td><td class=\"text-right\">848.00</td><td class=\"text-right\">1,179</td><td><a href=\"javascript:void(0);\" onclick='addToWatchlist(\"SMATA\");' title=\"Add to Watchlist\"><i class=\"icon-tags icon-white\"></i></a></td><td><a href=\"javascript:void(0);\" onclick='setAlert(\"SMATA\");' title=\"Set as Alert\"><i class=\"icon-bell icon-white\"></i></a></td></tr>\n",
       "<tr class=\"decrease-row\"><td><a href=\"/CompanyDetail.aspx?symbol=SMB\" target=\"_blank\" title=\"SMB (Support Microfinance Bittiya Sanstha Ltd.)\">SMB</a></td><td class=\"text-right\">1,264.00</td><td class=\"text-right\">-1.94</td><td class=\"text-right\">1,265.00</td><td class=\"text-right\">1,264.00</td><td class=\"text-right\">1,265.00</td><td class=\"text-right\">56</td><td><a href=\"javascript:void(0);\" onclick='addToWatchlist(\"SMB\");' title=\"Add to Watchlist\"><i class=\"icon-tags icon-white\"></i></a></td><td><a href=\"javascript:void(0);\" onclick='setAlert(\"SMB\");' title=\"Set as Alert\"><i class=\"icon-bell icon-white\"></i></a></td></tr>\n",
       "<tr class=\"increase-row\"><td><a href=\"/CompanyDetail.aspx?symbol=SMFBS\" target=\"_blank\" title=\"SMFBS (Swabhimaan Laghubitta Bittiya Sanstha Ltd)\">SMFBS</a></td><td class=\"text-right\">1,550.00</td><td class=\"text-right\">2.99</td><td class=\"text-right\">1,550.00</td><td class=\"text-right\">1,525.00</td><td class=\"text-right\">1,535.00</td><td class=\"text-right\">531</td><td><a href=\"javascript:void(0);\" onclick='addToWatchlist(\"SMFBS\");' title=\"Add to Watchlist\"><i class=\"icon-tags icon-white\"></i></a></td><td><a href=\"javascript:void(0);\" onclick='setAlert(\"SMFBS\");' title=\"Set as Alert\"><i class=\"icon-bell icon-white\"></i></a></td></tr>\n",
       "<tr class=\"decrease-row\"><td><a href=\"/CompanyDetail.aspx?symbol=SMFDB\" target=\"_blank\" title=\"SMFDB (Summit Laghubitta Bittiya Sanstha  Ltd.)\">SMFDB</a></td><td class=\"text-right\">1,324.00</td><td class=\"text-right\">-1.34</td><td class=\"text-right\">1,334.00</td><td class=\"text-right\">1,312.10</td><td class=\"text-right\">1,320.00</td><td class=\"text-right\">2,587</td><td><a href=\"javascript:void(0);\" onclick='addToWatchlist(\"SMFDB\");' title=\"Add to Watchlist\"><i class=\"icon-tags icon-white\"></i></a></td><td><a href=\"javascript:void(0);\" onclick='setAlert(\"SMFDB\");' title=\"Set as Alert\"><i class=\"icon-bell icon-white\"></i></a></td></tr>\n",
       "<tr class=\"increase-row\"><td><a href=\"/CompanyDetail.aspx?symbol=SPC\" target=\"_blank\" title=\"SPC (Samling Power Company Limited)\">SPC</a></td><td class=\"text-right\">497.00</td><td class=\"text-right\">4.63</td><td class=\"text-right\">500.00</td><td class=\"text-right\">465.00</td><td class=\"text-right\">466.00</td><td class=\"text-right\">18,719</td><td><a href=\"javascript:void(0);\" onclick='addToWatchlist(\"SPC\");' title=\"Add to Watchlist\"><i class=\"icon-tags icon-white\"></i></a></td><td><a href=\"javascript:void(0);\" onclick='setAlert(\"SPC\");' title=\"Set as Alert\"><i class=\"icon-bell icon-white\"></i></a></td></tr>\n",
       "<tr class=\"increase-row\"><td><a href=\"/CompanyDetail.aspx?symbol=SPDL\" target=\"_blank\" title=\"SPDL (Synergy Power Development Ltd.)\">SPDL</a></td><td class=\"text-right\">338.50</td><td class=\"text-right\">0.59</td><td class=\"text-right\">349.80</td><td class=\"text-right\">330.00</td><td class=\"text-right\">333.00</td><td class=\"text-right\">57,277</td><td><a href=\"javascript:void(0);\" onclick='addToWatchlist(\"SPDL\");' title=\"Add to Watchlist\"><i class=\"icon-tags icon-white\"></i></a></td><td><a href=\"javascript:void(0);\" onclick='setAlert(\"SPDL\");' title=\"Set as Alert\"><i class=\"icon-bell icon-white\"></i></a></td></tr>\n",
       "<tr class=\"increase-row\"><td><a href=\"/CompanyDetail.aspx?symbol=SPHL\" target=\"_blank\" title=\"SPHL (Sayapatri Hydropower Limited)\">SPHL</a></td><td class=\"text-right\">483.00</td><td class=\"text-right\">9.8</td><td class=\"text-right\">483.80</td><td class=\"text-right\">420.00</td><td class=\"text-right\">431.20</td><td class=\"text-right\">22,851</td><td><a href=\"javascript:void(0);\" onclick='addToWatchlist(\"SPHL\");' title=\"Add to Watchlist\"><i class=\"icon-tags icon-white\"></i></a></td><td><a href=\"javascript:void(0);\" onclick='setAlert(\"SPHL\");' title=\"Set as Alert\"><i class=\"icon-bell icon-white\"></i></a></td></tr>\n",
       "<tr class=\"decrease-row\"><td><a href=\"/CompanyDetail.aspx?symbol=SRBL\" target=\"_blank\" title=\"SRBL (Sunrise Bank Limited)\">SRBL</a></td><td class=\"text-right\">197.00</td><td class=\"text-right\">-0.25</td><td class=\"text-right\">200.00</td><td class=\"text-right\">195.00</td><td class=\"text-right\">197.50</td><td class=\"text-right\">15,774</td><td><a href=\"javascript:void(0);\" onclick='addToWatchlist(\"SRBL\");' title=\"Add to Watchlist\"><i class=\"icon-tags icon-white\"></i></a></td><td><a href=\"javascript:void(0);\" onclick='setAlert(\"SRBL\");' title=\"Set as Alert\"><i class=\"icon-bell icon-white\"></i></a></td></tr>\n",
       "<tr class=\"decrease-row\"><td><a href=\"/CompanyDetail.aspx?symbol=SRBLD83\" target=\"_blank\" title=\"SRBLD83 (10.25% Sunrise Bank Debenture 2083)\">SRBLD83</a></td><td class=\"text-right\">900.00</td><td class=\"text-right\">-1.59</td><td class=\"text-right\">900.00</td><td class=\"text-right\">900.00</td><td class=\"text-right\">900.00</td><td class=\"text-right\">20</td><td><a href=\"javascript:void(0);\" onclick='addToWatchlist(\"SRBLD83\");' title=\"Add to Watchlist\"><i class=\"icon-tags icon-white\"></i></a></td><td><a href=\"javascript:void(0);\" onclick='setAlert(\"SRBLD83\");' title=\"Set as Alert\"><i class=\"icon-bell icon-white\"></i></a></td></tr>\n",
       "<tr class=\"decrease-row\"><td><a href=\"/CompanyDetail.aspx?symbol=SSHL\" target=\"_blank\" title=\"SSHL (Shiva Shree Hydropower Limited)\">SSHL</a></td><td class=\"text-right\">262.00</td><td class=\"text-right\">-2.6</td><td class=\"text-right\">270.00</td><td class=\"text-right\">260.70</td><td class=\"text-right\">264.00</td><td class=\"text-right\">142,089</td><td><a href=\"javascript:void(0);\" onclick='addToWatchlist(\"SSHL\");' title=\"Add to Watchlist\"><i class=\"icon-tags icon-white\"></i></a></td><td><a href=\"javascript:void(0);\" onclick='setAlert(\"SSHL\");' title=\"Set as Alert\"><i class=\"icon-bell icon-white\"></i></a></td></tr>\n",
       "<tr class=\"decrease-row\"><td><a href=\"/CompanyDetail.aspx?symbol=STC\" target=\"_blank\" title=\"STC (Salt Trading Corporation)\">STC</a></td><td class=\"text-right\">4,670.00</td><td class=\"text-right\">-0.34</td><td class=\"text-right\">4,685.00</td><td class=\"text-right\">4,593.00</td><td class=\"text-right\">4,593.00</td><td class=\"text-right\">1,284</td><td><a href=\"javascript:void(0);\" onclick='addToWatchlist(\"STC\");' title=\"Add to Watchlist\"><i class=\"icon-tags icon-white\"></i></a></td><td><a href=\"javascript:void(0);\" onclick='setAlert(\"STC\");' title=\"Set as Alert\"><i class=\"icon-bell icon-white\"></i></a></td></tr>\n",
       "<tr class=\"decrease-row\"><td><a href=\"/CompanyDetail.aspx?symbol=SWBBL\" target=\"_blank\" title=\"SWBBL (Swabalamban Laghubitta Bittiya Sanstha Limited)\">SWBBL</a></td><td class=\"text-right\">1,180.20</td><td class=\"text-right\">-0.66</td><td class=\"text-right\">1,191.90</td><td class=\"text-right\">1,180.00</td><td class=\"text-right\">1,181.00</td><td class=\"text-right\">1,817</td><td><a href=\"javascript:void(0);\" onclick='addToWatchlist(\"SWBBL\");' title=\"Add to Watchlist\"><i class=\"icon-tags icon-white\"></i></a></td><td><a href=\"javascript:void(0);\" onclick='setAlert(\"SWBBL\");' title=\"Set as Alert\"><i class=\"icon-bell icon-white\"></i></a></td></tr>\n",
       "<tr class=\"decrease-row\"><td><a href=\"/CompanyDetail.aspx?symbol=SWMF\" target=\"_blank\" title=\"SWMF (Suryodaya Womi Laghubitta Bittiya Sanstha Limited )\">SWMF</a></td><td class=\"text-right\">914.00</td><td class=\"text-right\">-5.28</td><td class=\"text-right\">952.00</td><td class=\"text-right\">914.00</td><td class=\"text-right\">946.00</td><td class=\"text-right\">11,867</td><td><a href=\"javascript:void(0);\" onclick='addToWatchlist(\"SWMF\");' title=\"Add to Watchlist\"><i class=\"icon-tags icon-white\"></i></a></td><td><a href=\"javascript:void(0);\" onclick='setAlert(\"SWMF\");' title=\"Set as Alert\"><i class=\"icon-bell icon-white\"></i></a></td></tr>\n",
       "<tr class=\"increase-row\"><td><a href=\"/CompanyDetail.aspx?symbol=TPC\" target=\"_blank\" title=\"TPC (Terhathum Power Company Limited)\">TPC</a></td><td class=\"text-right\">439.00</td><td class=\"text-right\">1.86</td><td class=\"text-right\">451.90</td><td class=\"text-right\">421.50</td><td class=\"text-right\">430.00</td><td class=\"text-right\">10,930</td><td><a href=\"javascript:void(0);\" onclick='addToWatchlist(\"TPC\");' title=\"Add to Watchlist\"><i class=\"icon-tags icon-white\"></i></a></td><td><a href=\"javascript:void(0);\" onclick='setAlert(\"TPC\");' title=\"Set as Alert\"><i class=\"icon-bell icon-white\"></i></a></td></tr>\n",
       "<tr class=\"increase-row\"><td><a href=\"/CompanyDetail.aspx?symbol=TRH\" target=\"_blank\" title=\"TRH (Taragaon Regency Hotel Limited)\">TRH</a></td><td class=\"text-right\">507.00</td><td class=\"text-right\">4.32</td><td class=\"text-right\">507.00</td><td class=\"text-right\">469.00</td><td class=\"text-right\">476.30</td><td class=\"text-right\">67,776</td><td><a href=\"javascript:void(0);\" onclick='addToWatchlist(\"TRH\");' title=\"Add to Watchlist\"><i class=\"icon-tags icon-white\"></i></a></td><td><a href=\"javascript:void(0);\" onclick='setAlert(\"TRH\");' title=\"Set as Alert\"><i class=\"icon-bell icon-white\"></i></a></td></tr>\n",
       "<tr class=\"nochange-row\"><td><a href=\"/CompanyDetail.aspx?symbol=UHEWA\" target=\"_blank\" title=\"UHEWA (Upper Hewakhola Hydropower Company Limited)\">UHEWA</a></td><td class=\"text-right\">470.00</td><td class=\"text-right\">0</td><td class=\"text-right\">480.00</td><td class=\"text-right\">453.00</td><td class=\"text-right\">460.60</td><td class=\"text-right\">15,290</td><td><a href=\"javascript:void(0);\" onclick='addToWatchlist(\"UHEWA\");' title=\"Add to Watchlist\"><i class=\"icon-tags icon-white\"></i></a></td><td><a href=\"javascript:void(0);\" onclick='setAlert(\"UHEWA\");' title=\"Set as Alert\"><i class=\"icon-bell icon-white\"></i></a></td></tr>\n",
       "<tr class=\"decrease-row\"><td><a href=\"/CompanyDetail.aspx?symbol=UIC\" target=\"_blank\" title=\"UIC (United Insurance Co. (Nepal) Ltd.)\">UIC</a></td><td class=\"text-right\">470.10</td><td class=\"text-right\">-0.19</td><td class=\"text-right\">480.00</td><td class=\"text-right\">462.00</td><td class=\"text-right\">465.00</td><td class=\"text-right\">17,855</td><td><a href=\"javascript:void(0);\" onclick='addToWatchlist(\"UIC\");' title=\"Add to Watchlist\"><i class=\"icon-tags icon-white\"></i></a></td><td><a href=\"javascript:void(0);\" onclick='setAlert(\"UIC\");' title=\"Set as Alert\"><i class=\"icon-bell icon-white\"></i></a></td></tr>\n",
       "<tr class=\"increase-row\"><td><a href=\"/CompanyDetail.aspx?symbol=ULBSL\" target=\"_blank\" title=\"ULBSL (Upakar Laghubitta Bittiya Sanstha Limited)\">ULBSL</a></td><td class=\"text-right\">3,789.00</td><td class=\"text-right\">1.47</td><td class=\"text-right\">3,951.40</td><td class=\"text-right\">3,700.00</td><td class=\"text-right\">3,730.00</td><td class=\"text-right\">14,474</td><td><a href=\"javascript:void(0);\" onclick='addToWatchlist(\"ULBSL\");' title=\"Add to Watchlist\"><i class=\"icon-tags icon-white\"></i></a></td><td><a href=\"javascript:void(0);\" onclick='setAlert(\"ULBSL\");' title=\"Set as Alert\"><i class=\"icon-bell icon-white\"></i></a></td></tr>\n",
       "<tr class=\"decrease-row\"><td><a href=\"/CompanyDetail.aspx?symbol=UMHL\" target=\"_blank\" title=\"UMHL (United Modi Hydropower Ltd.)\">UMHL</a></td><td class=\"text-right\">280.00</td><td class=\"text-right\">-1.51</td><td class=\"text-right\">285.00</td><td class=\"text-right\">277.00</td><td class=\"text-right\">280.00</td><td class=\"text-right\">89,657</td><td><a href=\"javascript:void(0);\" onclick='addToWatchlist(\"UMHL\");' title=\"Add to Watchlist\"><i class=\"icon-tags icon-white\"></i></a></td><td><a href=\"javascript:void(0);\" onclick='setAlert(\"UMHL\");' title=\"Set as Alert\"><i class=\"icon-bell icon-white\"></i></a></td></tr>\n",
       "<tr class=\"increase-row\"><td><a href=\"/CompanyDetail.aspx?symbol=UMRH\" target=\"_blank\" title=\"UMRH (United IDI Mardi RB Hydropower Limited.)\">UMRH</a></td><td class=\"text-right\">590.00</td><td class=\"text-right\">7.08</td><td class=\"text-right\">590.00</td><td class=\"text-right\">530.00</td><td class=\"text-right\">550.00</td><td class=\"text-right\">33,807</td><td><a href=\"javascript:void(0);\" onclick='addToWatchlist(\"UMRH\");' title=\"Add to Watchlist\"><i class=\"icon-tags icon-white\"></i></a></td><td><a href=\"javascript:void(0);\" onclick='setAlert(\"UMRH\");' title=\"Set as Alert\"><i class=\"icon-bell icon-white\"></i></a></td></tr>\n",
       "<tr class=\"decrease-row\"><td><a href=\"/CompanyDetail.aspx?symbol=UNHPL\" target=\"_blank\" title=\"UNHPL (Union Hydropower Limited)\">UNHPL</a></td><td class=\"text-right\">254.00</td><td class=\"text-right\">-0.39</td><td class=\"text-right\">260.10</td><td class=\"text-right\">246.00</td><td class=\"text-right\">250.00</td><td class=\"text-right\">77,233</td><td><a href=\"javascript:void(0);\" onclick='addToWatchlist(\"UNHPL\");' title=\"Add to Watchlist\"><i class=\"icon-tags icon-white\"></i></a></td><td><a href=\"javascript:void(0);\" onclick='setAlert(\"UNHPL\");' title=\"Set as Alert\"><i class=\"icon-bell icon-white\"></i></a></td></tr>\n",
       "<tr class=\"increase-row\"><td><a href=\"/CompanyDetail.aspx?symbol=UNL\" target=\"_blank\" title=\"UNL (Unilever Nepal Limited)\">UNL</a></td><td class=\"text-right\">18,400.00</td><td class=\"text-right\">0.44</td><td class=\"text-right\">18,400.00</td><td class=\"text-right\">18,321.00</td><td class=\"text-right\">18,325.00</td><td class=\"text-right\">55</td><td><a href=\"javascript:void(0);\" onclick='addToWatchlist(\"UNL\");' title=\"Add to Watchlist\"><i class=\"icon-tags icon-white\"></i></a></td><td><a href=\"javascript:void(0);\" onclick='setAlert(\"UNL\");' title=\"Set as Alert\"><i class=\"icon-bell icon-white\"></i></a></td></tr>\n",
       "<tr class=\"decrease-row\"><td><a href=\"/CompanyDetail.aspx?symbol=UPCL\" target=\"_blank\" title=\"UPCL (UNIVERSAL POWER COMPANY LTD)\">UPCL</a></td><td class=\"text-right\">262.30</td><td class=\"text-right\">-1.47</td><td class=\"text-right\">270.00</td><td class=\"text-right\">262.00</td><td class=\"text-right\">262.00</td><td class=\"text-right\">94,783</td><td><a href=\"javascript:void(0);\" onclick='addToWatchlist(\"UPCL\");' title=\"Add to Watchlist\"><i class=\"icon-tags icon-white\"></i></a></td><td><a href=\"javascript:void(0);\" onclick='setAlert(\"UPCL\");' title=\"Set as Alert\"><i class=\"icon-bell icon-white\"></i></a></td></tr>\n",
       "<tr class=\"decrease-row\"><td><a href=\"/CompanyDetail.aspx?symbol=UPPER\" target=\"_blank\" title=\"UPPER (Upper Tamakoshi Hydropower Ltd)\">UPPER</a></td><td class=\"text-right\">537.00</td><td class=\"text-right\">-2.13</td><td class=\"text-right\">549.90</td><td class=\"text-right\">535.10</td><td class=\"text-right\">548.70</td><td class=\"text-right\">97,998</td><td><a href=\"javascript:void(0);\" onclick='addToWatchlist(\"UPPER\");' title=\"Add to Watchlist\"><i class=\"icon-tags icon-white\"></i></a></td><td><a href=\"javascript:void(0);\" onclick='setAlert(\"UPPER\");' title=\"Set as Alert\"><i class=\"icon-bell icon-white\"></i></a></td></tr>\n",
       "<tr class=\"decrease-row\"><td><a href=\"/CompanyDetail.aspx?symbol=USHEC\" target=\"_blank\" title=\"USHEC (Upper Solu Hydro Electric Company Limited )\">USHEC</a></td><td class=\"text-right\">382.00</td><td class=\"text-right\">-2.3</td><td class=\"text-right\">392.80</td><td class=\"text-right\">376.10</td><td class=\"text-right\">383.20</td><td class=\"text-right\">20,627</td><td><a href=\"javascript:void(0);\" onclick='addToWatchlist(\"USHEC\");' title=\"Add to Watchlist\"><i class=\"icon-tags icon-white\"></i></a></td><td><a href=\"javascript:void(0);\" onclick='setAlert(\"USHEC\");' title=\"Set as Alert\"><i class=\"icon-bell icon-white\"></i></a></td></tr>\n",
       "<tr class=\"decrease-row\"><td><a href=\"/CompanyDetail.aspx?symbol=USLB\" target=\"_blank\" title=\"USLB (Unnati Sahakarya Laghubitta Bittiya Sanstha Limited)\">USLB</a></td><td class=\"text-right\">983.90</td><td class=\"text-right\">-0.01</td><td class=\"text-right\">984.00</td><td class=\"text-right\">980.00</td><td class=\"text-right\">984.00</td><td class=\"text-right\">360</td><td><a href=\"javascript:void(0);\" onclick='addToWatchlist(\"USLB\");' title=\"Add to Watchlist\"><i class=\"icon-tags icon-white\"></i></a></td><td><a href=\"javascript:void(0);\" onclick='setAlert(\"USLB\");' title=\"Set as Alert\"><i class=\"icon-bell icon-white\"></i></a></td></tr>\n",
       "<tr class=\"decrease-row\"><td><a href=\"/CompanyDetail.aspx?symbol=VLBS\" target=\"_blank\" title=\"VLBS (Vijaya laghubitta Bittiya Sanstha Ltd.)\">VLBS</a></td><td class=\"text-right\">953.10</td><td class=\"text-right\">-2.74</td><td class=\"text-right\">978.00</td><td class=\"text-right\">949.50</td><td class=\"text-right\">961.00</td><td class=\"text-right\">956</td><td><a href=\"javascript:void(0);\" onclick='addToWatchlist(\"VLBS\");' title=\"Add to Watchlist\"><i class=\"icon-tags icon-white\"></i></a></td><td><a href=\"javascript:void(0);\" onclick='setAlert(\"VLBS\");' title=\"Set as Alert\"><i class=\"icon-bell icon-white\"></i></a></td></tr>\n",
       "<tr class=\"decrease-row\"><td><a href=\"/CompanyDetail.aspx?symbol=WNLB\" target=\"_blank\" title=\"WNLB (WEAN Nepal Laghubitta Bittiya Sanstha Limited)\">WNLB</a></td><td class=\"text-right\">1,030.10</td><td class=\"text-right\">-2.91</td><td class=\"text-right\">1,046.00</td><td class=\"text-right\">1,006.00</td><td class=\"text-right\">1,040.00</td><td class=\"text-right\">240</td><td><a href=\"javascript:void(0);\" onclick='addToWatchlist(\"WNLB\");' title=\"Add to Watchlist\"><i class=\"icon-tags icon-white\"></i></a></td><td><a href=\"javascript:void(0);\" onclick='setAlert(\"WNLB\");' title=\"Set as Alert\"><i class=\"icon-bell icon-white\"></i></a></td></tr>\n",
       "</tbody></table>\n",
       "</div>\n",
       "</div>\n",
       "</div>\n",
       "<div class=\"row visible-xs visible-sm\">\n",
       "<div class=\"col-lg-12\">\n",
       "</div>\n",
       "</div>\n",
       "<div class=\"row visible-xs visible-sm\" id=\"gainers\">\n",
       "<div class=\"col-lg-12\">\n",
       "<h4 class=\"page-header\">\n",
       "<span>Gainers</span>\n",
       "</h4>\n",
       "<div class=\"table-responsive\">\n",
       "<table class=\"table table-hover table-index\" data-live=\"gainers\" data-live-range=\"10\" data-live-summary=\"true\"></table>\n",
       "</div>\n",
       "</div>\n",
       "</div>\n",
       "<div class=\"row visible-xs visible-sm\" id=\"losers\">\n",
       "<div class=\"col-lg-12\">\n",
       "<h4 class=\"page-header\">\n",
       "<span>Losers</span>\n",
       "</h4>\n",
       "<div class=\"table-responsive\">\n",
       "<table class=\"table table-hover table-index\" data-live=\"losers\" data-live-range=\"10\" data-live-summary=\"true\"></table>\n",
       "</div>\n",
       "</div>\n",
       "</div>\n",
       "<div class=\"row visible-xs visible-sm\">\n",
       "<div class=\"col-lg-12\">\n",
       "</div>\n",
       "</div>\n",
       "</div>\n",
       "<div class=\"col-md-4 hidden-xs hidden-sm\">\n",
       "<div class=\"row\">\n",
       "<div class=\"col-lg-12\">\n",
       "<h4 class=\"page-header\">\n",
       "<span>Gainers</span>\n",
       "</h4>\n",
       "<div class=\"table-responsive\" id=\"ctl00_ContentPlaceHolder1_LiveGainers\">\n",
       "<table class=\"table table-hover table-index\" data-live=\"gainers\" data-live-range=\"10\" data-live-summary=\"true\">\n",
       "<tr><th>Symbol</th><th>LTP</th><th nowrap=\"\">% Change</th><th class=\"hidden\">High</th><th class=\"hidden\">Low</th><th class=\"hidden\">Open</th><th>Qty</th><th class=\"hidden\">Turnover</th></tr>\n",
       "<tr class=\"increase\"><td><a href=\"/CompanyDetail.aspx?symbol=BHPL\" target=\"_blank\" title=\"BHPL (Barahi Hydropower Public Limited)\">BHPL</a></td><td class=\"text-right\">534.80</td><td class=\"text-right\">10</td><td class=\"hidden\">534.80</td><td class=\"hidden\">487.00</td><td class=\"hidden\">495.90</td><td class=\"text-right\">21,198</td><td class=\"hidden\">11,070,296.20</td></tr>\n",
       "<tr class=\"increase\"><td><a href=\"/CompanyDetail.aspx?symbol=LGIL\" target=\"_blank\" title=\"LGIL (Lumbini General Insurance Co. Ltd.)\">LGIL</a></td><td class=\"text-right\">462.20</td><td class=\"text-right\">10</td><td class=\"hidden\">462.20</td><td class=\"hidden\">428.60</td><td class=\"hidden\">428.60</td><td class=\"text-right\">907</td><td class=\"hidden\">418,314.40</td></tr>\n",
       "<tr class=\"increase\"><td><a href=\"/CompanyDetail.aspx?symbol=ADLB\" target=\"_blank\" title=\"ADLB ( Adarsha Laghubitta Bittiya Sanstha Limited)\">ADLB</a></td><td class=\"text-right\">1,317.60</td><td class=\"text-right\">9.99</td><td class=\"hidden\">1,317.60</td><td class=\"hidden\">1,221.80</td><td class=\"hidden\">1,221.80</td><td class=\"text-right\">90</td><td class=\"hidden\">116,236.00</td></tr>\n",
       "<tr class=\"increase\"><td><a href=\"/CompanyDetail.aspx?symbol=EHPL\" target=\"_blank\" title=\"EHPL (Eastern Hydropower Limited)\">EHPL</a></td><td class=\"text-right\">451.50</td><td class=\"text-right\">9.99</td><td class=\"hidden\">451.50</td><td class=\"hidden\">397.00</td><td class=\"hidden\">402.30</td><td class=\"text-right\">16,338</td><td class=\"hidden\">7,184,832.60</td></tr>\n",
       "<tr class=\"increase\"><td><a href=\"/CompanyDetail.aspx?symbol=SJLIC\" target=\"_blank\" title=\"SJLIC (SuryaJyoti Life Insurance Company Limited)\">SJLIC</a></td><td class=\"text-right\">494.40</td><td class=\"text-right\">9.99</td><td class=\"hidden\">494.40</td><td class=\"hidden\">458.40</td><td class=\"hidden\">458.40</td><td class=\"text-right\">1,815</td><td class=\"hidden\">894,162.10</td></tr>\n",
       "<tr class=\"increase\"><td><a href=\"/CompanyDetail.aspx?symbol=SPHL\" target=\"_blank\" title=\"SPHL (Sayapatri Hydropower Limited)\">SPHL</a></td><td class=\"text-right\">483.00</td><td class=\"text-right\">9.8</td><td class=\"hidden\">483.80</td><td class=\"hidden\">420.00</td><td class=\"hidden\">431.20</td><td class=\"text-right\">22,851</td><td class=\"hidden\">10,479,321.10</td></tr>\n",
       "<tr class=\"increase\"><td><a href=\"/CompanyDetail.aspx?symbol=SGHC\" target=\"_blank\" title=\"SGHC (Swet-Ganga Hydropower &amp; Construction Limited )\">SGHC</a></td><td class=\"text-right\">411.60</td><td class=\"text-right\">9.67</td><td class=\"hidden\">411.60</td><td class=\"hidden\">358.00</td><td class=\"hidden\">367.80</td><td class=\"text-right\">29,501</td><td class=\"hidden\">11,058,768.50</td></tr>\n",
       "<tr class=\"increase\"><td><a href=\"/CompanyDetail.aspx?symbol=UMRH\" target=\"_blank\" title=\"UMRH (United IDI Mardi RB Hydropower Limited.)\">UMRH</a></td><td class=\"text-right\">590.00</td><td class=\"text-right\">7.08</td><td class=\"hidden\">590.00</td><td class=\"hidden\">530.00</td><td class=\"hidden\">550.00</td><td class=\"text-right\">33,807</td><td class=\"hidden\">19,070,870.30</td></tr>\n",
       "<tr class=\"increase\"><td><a href=\"/CompanyDetail.aspx?symbol=IGI\" target=\"_blank\" title=\"IGI (IME General Insurance Ltd.)\">IGI</a></td><td class=\"text-right\">516.00</td><td class=\"text-right\">6.39</td><td class=\"hidden\">525.90</td><td class=\"hidden\">480.00</td><td class=\"hidden\">480.00</td><td class=\"text-right\">198,658</td><td class=\"hidden\">99,904,392.30</td></tr>\n",
       "<tr class=\"increase\"><td><a href=\"/CompanyDetail.aspx?symbol=CHCL\" target=\"_blank\" title=\"CHCL (Chilime Hydropower Company Limited)\">CHCL</a></td><td class=\"text-right\">460.00</td><td class=\"text-right\">5.02</td><td class=\"hidden\">467.00</td><td class=\"hidden\">427.00</td><td class=\"hidden\">438.00</td><td class=\"text-right\">99,840</td><td class=\"hidden\">45,382,085.00</td></tr>\n",
       "</table>\n",
       "</div>\n",
       "</div>\n",
       "</div>\n",
       "<div class=\"row\">\n",
       "<div class=\"col-lg-12\">\n",
       "<h4 class=\"page-header\">\n",
       "<span>Losers</span>\n",
       "</h4>\n",
       "<div class=\"table-responsive\" id=\"ctl00_ContentPlaceHolder1_LiveLosers\">\n",
       "<table class=\"table table-hover table-index\" data-live=\"losers\" data-live-range=\"10\" data-live-summary=\"true\">\n",
       "<tr><th>Symbol</th><th>LTP</th><th nowrap=\"\">% Change</th><th class=\"hidden\">High</th><th class=\"hidden\">Low</th><th class=\"hidden\">Open</th><th>Qty</th><th class=\"hidden\">Turnover</th></tr>\n",
       "<tr class=\"decrease\"><td><a href=\"/CompanyDetail.aspx?symbol=HIDCLP\" target=\"_blank\" title=\"HIDCLP (Hydroelectricity Investment and Development Company Limited Promoter Share)\">HIDCLP</a></td><td class=\"text-right\">108.00</td><td class=\"text-right\">-6.09</td><td class=\"hidden\">114.00</td><td class=\"hidden\">106.20</td><td class=\"hidden\">112.70</td><td class=\"text-right\">508,443</td><td class=\"hidden\">55,446,179.60</td></tr>\n",
       "<tr class=\"decrease\"><td><a href=\"/CompanyDetail.aspx?symbol=SFCL\" target=\"_blank\" title=\"SFCL (Samriddhi Finance Company Limited)\">SFCL</a></td><td class=\"text-right\">324.00</td><td class=\"text-right\">-6.09</td><td class=\"hidden\">343.70</td><td class=\"hidden\">323.50</td><td class=\"hidden\">340.10</td><td class=\"text-right\">95,677</td><td class=\"hidden\">31,769,236.70</td></tr>\n",
       "<tr class=\"decrease\"><td><a href=\"/CompanyDetail.aspx?symbol=CLBSL\" target=\"_blank\" title=\"CLBSL (Civil Laghubitta Bittiya Sanstha Ltd.)\">CLBSL</a></td><td class=\"text-right\">901.60</td><td class=\"text-right\">-6.08</td><td class=\"hidden\">960.00</td><td class=\"hidden\">901.60</td><td class=\"hidden\">940.80</td><td class=\"text-right\">5,613</td><td class=\"hidden\">5,197,570.90</td></tr>\n",
       "<tr class=\"decrease\"><td><a href=\"/CompanyDetail.aspx?symbol=SWMF\" target=\"_blank\" title=\"SWMF (Suryodaya Womi Laghubitta Bittiya Sanstha Limited )\">SWMF</a></td><td class=\"text-right\">914.00</td><td class=\"text-right\">-5.28</td><td class=\"hidden\">952.00</td><td class=\"hidden\">914.00</td><td class=\"hidden\">946.00</td><td class=\"text-right\">11,867</td><td class=\"hidden\">11,036,285.30</td></tr>\n",
       "<tr class=\"decrease\"><td><a href=\"/CompanyDetail.aspx?symbol=GLH\" target=\"_blank\" title=\"GLH (Greenlife Hydropower Limited)\">GLH</a></td><td class=\"text-right\">337.00</td><td class=\"text-right\">-5.07</td><td class=\"hidden\">356.00</td><td class=\"hidden\">335.00</td><td class=\"hidden\">347.90</td><td class=\"text-right\">39,336</td><td class=\"hidden\">13,540,364.30</td></tr>\n",
       "<tr class=\"decrease\"><td><a href=\"/CompanyDetail.aspx?symbol=GMFBS\" target=\"_blank\" title=\"GMFBS (Ganapati Microfinance Bittiya Sanstha Ltd)\">GMFBS</a></td><td class=\"text-right\">875.00</td><td class=\"text-right\">-4.68</td><td class=\"hidden\">899.70</td><td class=\"hidden\">852.20</td><td class=\"hidden\">899.70</td><td class=\"text-right\">3,225</td><td class=\"hidden\">2,789,523.40</td></tr>\n",
       "<tr class=\"decrease\"><td><a href=\"/CompanyDetail.aspx?symbol=SIC\" target=\"_blank\" title=\"SIC (Sagarmatha Insurance Co. Ltd.)\">SIC</a></td><td class=\"text-right\">870.00</td><td class=\"text-right\">-4.4</td><td class=\"hidden\">930.00</td><td class=\"hidden\">870.00</td><td class=\"hidden\">928.20</td><td class=\"text-right\">15,844</td><td class=\"hidden\">14,023,380.60</td></tr>\n",
       "<tr class=\"decrease\"><td><a href=\"/CompanyDetail.aspx?symbol=GVL\" target=\"_blank\" title=\"GVL (Green Ventures Limited)\">GVL</a></td><td class=\"text-right\">467.00</td><td class=\"text-right\">-4.3</td><td class=\"hidden\">488.00</td><td class=\"hidden\">459.50</td><td class=\"hidden\">488.00</td><td class=\"text-right\">65,442</td><td class=\"hidden\">30,918,394.20</td></tr>\n",
       "<tr class=\"decrease\"><td><a href=\"/CompanyDetail.aspx?symbol=SBI\" target=\"_blank\" title=\"SBI (Nepal SBI Bank Limited)\">SBI</a></td><td class=\"text-right\">331.00</td><td class=\"text-right\">-4.06</td><td class=\"hidden\">344.00</td><td class=\"hidden\">329.00</td><td class=\"hidden\">343.90</td><td class=\"text-right\">45,986</td><td class=\"hidden\">15,317,776.90</td></tr>\n",
       "<tr class=\"decrease\"><td><a href=\"/CompanyDetail.aspx?symbol=KBLD86\" target=\"_blank\" title=\"KBLD86 (10.25% Kumari Bank Debenture 2086)\">KBLD86</a></td><td class=\"text-right\">864.40</td><td class=\"text-right\">-3.96</td><td class=\"hidden\">882.00</td><td class=\"hidden\">864.40</td><td class=\"hidden\">882.00</td><td class=\"text-right\">200</td><td class=\"hidden\">173,476.80</td></tr>\n",
       "</table>\n",
       "</div>\n",
       "</div>\n",
       "</div>\n",
       "<div class=\"row\">\n",
       "<div class=\"col-lg-12\">\n",
       "<h4 class=\"page-header\">\n",
       "<span>Top Turnovers</span>\n",
       "</h4>\n",
       "<div class=\"table-responsive\" id=\"ctl00_ContentPlaceHolder1_LiveTurnovers\">\n",
       "<table class=\"table table-hover\" data-live=\"turnovers\" data-live-label=\"#label-top-turnovers-1\" data-live-range=\"10\" data-live-summary=\"true\">\n",
       "<tr><th>Symbol</th><th>Turnover</th><th>LTP</th></tr>\n",
       "<tr><td><a href=\"/CompanyDetail.aspx?symbol=IGI\" target=\"_blank\" title=\"IGI (IME General Insurance Ltd.)\">IGI</a></td><td class=\"text-right\">99,904,392.30</td><td class=\"text-right\">516.00</td></tr>\n",
       "<tr><td><a href=\"/CompanyDetail.aspx?symbol=HURJA\" target=\"_blank\" title=\"HURJA (Himalaya Urja Bikas Company Limited)\">HURJA</a></td><td class=\"text-right\">92,118,742.70</td><td class=\"text-right\">410.00</td></tr>\n",
       "<tr><td><a href=\"/CompanyDetail.aspx?symbol=NICA\" target=\"_blank\" title=\"NICA (NIC Asia Bank Ltd.)\">NICA</a></td><td class=\"text-right\">71,318,301.10</td><td class=\"text-right\">826.00</td></tr>\n",
       "<tr><td><a href=\"/CompanyDetail.aspx?symbol=AKJCL\" target=\"_blank\" title=\"AKJCL (Ankhu Khola Jalvidhyut Company Ltd)\">AKJCL</a></td><td class=\"text-right\">68,370,012.70</td><td class=\"text-right\">253.00</td></tr>\n",
       "<tr><td><a href=\"/CompanyDetail.aspx?symbol=NLIC\" target=\"_blank\" title=\"NLIC (Nepal Life Insurance Co. Ltd.)\">NLIC</a></td><td class=\"text-right\">66,247,793.30</td><td class=\"text-right\">755.00</td></tr>\n",
       "<tr><td><a href=\"/CompanyDetail.aspx?symbol=HDHPC\" target=\"_blank\" title=\"HDHPC (Himal Dolakha Hydropower Company Limited)\">HDHPC</a></td><td class=\"text-right\">65,443,967.40</td><td class=\"text-right\">248.00</td></tr>\n",
       "<tr><td><a href=\"/CompanyDetail.aspx?symbol=RIDI\" target=\"_blank\" title=\"RIDI (Ridi Power Company Limited)\">RIDI</a></td><td class=\"text-right\">61,813,387.10</td><td class=\"text-right\">565.00</td></tr>\n",
       "<tr><td><a href=\"/CompanyDetail.aspx?symbol=HIDCLP\" target=\"_blank\" title=\"HIDCLP (Hydroelectricity Investment and Development Company Limited Promoter Share)\">HIDCLP</a></td><td class=\"text-right\">55,446,179.60</td><td class=\"text-right\">108.00</td></tr>\n",
       "<tr><td><a href=\"/CompanyDetail.aspx?symbol=API\" target=\"_blank\" title=\"API (Api Power Company Ltd.)\">API</a></td><td class=\"text-right\">55,410,650.40</td><td class=\"text-right\">291.00</td></tr>\n",
       "<tr><td><a href=\"/CompanyDetail.aspx?symbol=ULBSL\" target=\"_blank\" title=\"ULBSL (Upakar Laghubitta Bittiya Sanstha Limited)\">ULBSL</a></td><td class=\"text-right\">55,367,614.60</td><td class=\"text-right\">3,789.00</td></tr>\n",
       "</table>\n",
       "</div>\n",
       "</div>\n",
       "</div>\n",
       "<div class=\"row\">\n",
       "<div class=\"col-lg-12\">\n",
       "<h4 class=\"page-header\">\n",
       "<span>Top Sectors</span>\n",
       "</h4>\n",
       "<div class=\"table-responsive\" id=\"ctl00_ContentPlaceHolder1_LiveSectors\">\n",
       "<table class=\"table table-hover\" data-live=\"sectors\" data-live-label=\"#label-top-sectors-1\" data-live-range=\"10\" data-live-summary=\"true\">\n",
       "<tr><th>Sector</th><th>Turnover</th></tr>\n",
       "<tr><td><span title=\"Hydro Power\">Hydro Power</span></td><td class=\"text-right\">1,286,530,452.40</td></tr>\n",
       "<tr><td><span title=\"Commercial Banks\">Commercial Banks</span></td><td class=\"text-right\">316,692,325.10</td></tr>\n",
       "<tr><td><span title=\"Microfinance\">Microfinance</span></td><td class=\"text-right\">300,542,640.40</td></tr>\n",
       "<tr><td><span title=\"Non-Life Insurance\">Non-Life Insurance</span></td><td class=\"text-right\">251,589,743.90</td></tr>\n",
       "<tr><td><span title=\"Finance\">Finance</span></td><td class=\"text-right\">160,424,754.20</td></tr>\n",
       "<tr><td><span title=\"Life Insurance\">Life Insurance</span></td><td class=\"text-right\">155,370,449.40</td></tr>\n",
       "<tr><td><span title=\"Development Bank Limited\">Development Bank Limited</span></td><td class=\"text-right\">135,153,312.50</td></tr>\n",
       "<tr><td><span title=\"Investment\">Investment</span></td><td class=\"text-right\">102,769,865.10</td></tr>\n",
       "<tr><td><span title=\"Manufacturing And Processing\">Manufacturing And Processing</span></td><td class=\"text-right\">95,156,588.60</td></tr>\n",
       "<tr><td><span title=\"Promotor Share\">Promotor Share</span></td><td class=\"text-right\">75,729,518.10</td></tr>\n",
       "</table>\n",
       "</div>\n",
       "</div>\n",
       "</div>\n",
       "</div>\n",
       "</div>\n",
       "</div>\n",
       "<div class=\"footer\">\n",
       "<div class=\"container\">\n",
       "<div class=\"row\">\n",
       "<div class=\"col-sm-4 col-md-3\">\n",
       "<ul class=\"nav-stacked\">\n",
       "<li><a href=\"/Index.aspx\" tabindex=\"-1\">Home</a></li>\n",
       "<li><a href=\"/LatestMarket.aspx\" tabindex=\"-1\">Latest Market</a></li>\n",
       "<li><a href=\"/StockQuote.aspx\" tabindex=\"-1\">Daily Stock Quotes</a></li>\n",
       "<li><a href=\"/Floorsheet.aspx\" tabindex=\"-1\">Floorsheet</a></li>\n",
       "<li><a href=\"/Indices.aspx\" tabindex=\"-1\">Indices</a></li>\n",
       "<li><a href=\"/MarketSummary.aspx?type=brokers\" tabindex=\"-1\">Top Brokers</a></li>\n",
       "<li><a href=\"/MarketSummary.aspx?type=gainers\" tabindex=\"-1\">Top Gainers</a></li>\n",
       "<li><a href=\"/MarketSummary.aspx?type=losers\" tabindex=\"-1\">Top Losers</a></li>\n",
       "</ul>\n",
       "</div>\n",
       "<div class=\"col-sm-4 col-md-3\">\n",
       "<ul class=\"nav-stacked\">\n",
       "<li><a href=\"/NewsList.aspx?popular=false\" tabindex=\"-1\">Latest News</a></li>\n",
       "<li><a href=\"/NewsList.aspx?popular=true\" tabindex=\"-1\">Popular News</a></li>\n",
       "<li><a href=\"/AnnouncementList.aspx\" tabindex=\"-1\">Announcements</a></li>\n",
       "<li><a href=\"/CompanyReports.aspx?type=ANNUAL\" tabindex=\"-1\">Annual Reports</a></li>\n",
       "<li><a href=\"/CompanyReports.aspx?type=QUARTERLY\" tabindex=\"-1\">Quarterly Reports</a></li>\n",
       "<li><a href=\"/CompanyList.aspx\" tabindex=\"-1\">Companies</a></li>\n",
       "<li><a href=\"/BrokerList.aspx\" tabindex=\"-1\">Brokers</a></li>\n",
       "</ul>\n",
       "</div>\n",
       "<div class=\"col-sm-4 col-md-3\">\n",
       "<ul class=\"nav-stacked\">\n",
       "<li><a href=\"/ContactUs.aspx\" tabindex=\"-1\">Contact Us</a></li>\n",
       "<!--<li><a tabindex=\"-1\" href=\"/Uploads/Help.pdf\" target=\"_blank\">Help Docs</a></li>-->\n",
       "<li><a href=\"/VideoTutorials.aspx\" tabindex=\"-1\" target=\"_blank\">Video Tutorials</a></li>\n",
       "<li><a href=\"/BankAccounts.aspx\" tabindex=\"-1\">Bank Accounts</a></li>\n",
       "<li><a href=\"/AboutUs.aspx\" tabindex=\"-1\">About Us</a></li>\n",
       "</ul>\n",
       "</div>\n",
       "<div class=\"col-sm-12 col-md-3\">\n",
       "<hr class=\"visible-xs-block visible-sm-block\"/>\n",
       "<address>\n",
       "<strong>MERO LAGANI</strong>\n",
       "<br/>\n",
       "                            4th Floor, Orchid Hotel Building\n",
       "                            <br/>\n",
       "                            Tripureshwor, Kathmandu, Nepal\n",
       "                            <br/>\n",
       "<strong>Tel:</strong>\n",
       "                            (+977) 01-5315101/5315184\n",
       "                            <br/>\n",
       "<strong>Mobile:</strong>\n",
       "                            9801000860\n",
       "                            <br/>\n",
       "<strong>E-mail:</strong>\n",
       "                            support@asteriskt.com                            \n",
       "                            <br/>\n",
       "<strong>For advertisement:</strong><br/>\n",
       "<em>Brajesh Subedi</em><br/>\n",
       "<i>Marketing Manager</i><br/>\n",
       "<em>9851004547</em>\n",
       "<em>merolaganimarketing@gmail.com</em>\n",
       "<br/>\n",
       "</address>\n",
       "<ul class=\"list-inline list-social-icons\">\n",
       "<li>\n",
       "<a href=\"https://www.facebook.com/Merolagani\" target=\"_blank\"><i class=\"icon-facebook-sign icon-3x\"></i></a>\n",
       "</li>\n",
       "<li>\n",
       "<a href=\"https://twitter.com/ComMerolagani\" target=\"_blank\"><i class=\"icon-twitter-sign icon-3x\"></i></a>\n",
       "</li>\n",
       "<li>\n",
       "<a href=\"https://www.youtube.com/channel/UCygzOsiHWgvOq5vNahSTehg\" target=\"_blank\"><i class=\"icon-youtube-sign icon-3x\"></i></a>\n",
       "</li>\n",
       "</ul>\n",
       "</div>\n",
       "</div>\n",
       "<div class=\"row payment-method\">\n",
       "<div class=\"col-sm-12 col-md-5\">\n",
       "<strong>PAYMENT PARTNERS</strong>\n",
       "<br/>\n",
       "<ul class=\"list-inline list-payment-partners\">\n",
       "<li>\n",
       "<a href=\"/Services.aspx\" target=\"_blank\">\n",
       "<img src=\"https://images.merolagani.com/Content/images/payment-partners/Ncell-new.png\" style=\"width:100%\" title=\"NCELL\"/>\n",
       "</a>\n",
       "</li>\n",
       "<li>\n",
       "<a href=\"/Services.aspx\" target=\"_blank\">\n",
       "<img src=\"https://images.merolagani.com/Content/images/payment-partners/esewa-new.png\" style=\"width:100%\" title=\"ESEWA\"/>\n",
       "</a>\n",
       "</li>\n",
       "<li>\n",
       "<a href=\"/Services.aspx\" target=\"_blank\">\n",
       "<img src=\"https://images.merolagani.com/Content/images/payment-partners/ConnectIPS-new.png\" style=\"width:100%\" title=\"CONNECTIPS\"/>\n",
       "</a>\n",
       "</li>\n",
       "<li>\n",
       "<a href=\"/Services.aspx\" target=\"_blank\">\n",
       "<img src=\"https://images.merolagani.com/Content/images/payment-partners/khalti-final.png\" style=\"width:100%\" title=\"KHALTI\"/>\n",
       "</a>\n",
       "</li>\n",
       "<li>\n",
       "<a href=\"/Services.aspx\" target=\"_blank\">\n",
       "<img src=\"https://images.merolagani.com/Content/images/payment-partners/IMEPAY-new.png\" style=\"width:100%\" title=\"IME PAY\"/>\n",
       "</a>\n",
       "</li>\n",
       "</ul>\n",
       "</div>\n",
       "<div class=\"col-sm-12 col-md-4\">\n",
       "<strong>WE ACCEPT</strong>\n",
       "<br/>\n",
       "<ul class=\"list-inline list-payment-partners list-payment-partners-accept\">\n",
       "<li>\n",
       "<a href=\"/Services.aspx\" target=\"_blank\">\n",
       "<img src=\"https://images.merolagani.com/Content/images/payment-partners/nabil-bank.png\" style=\"width:100%\"/>\n",
       "</a>\n",
       "</li>\n",
       "<li>\n",
       "<a href=\"/Services.aspx\" target=\"_blank\">\n",
       "<img src=\"https://images.merolagani.com/Content/images/payment-partners/verified.png\" style=\"width:100%\"/>\n",
       "</a>\n",
       "</li>\n",
       "</ul>\n",
       "</div>\n",
       "<div class=\"col-sm-12 col-md-3 freeAccount\">\n",
       "<div class=\"\" id=\"ctl00_divFreeAccount\">\n",
       "<a class=\"btn btn-default btn-lg\" href=\"/FreeUserRegistration.aspx\">Create Free Account</a>\n",
       "</div>\n",
       "</div>\n",
       "</div>\n",
       "<br/>\n",
       "<div class=\"row\">\n",
       "<div class=\"col-lg-12 col-md-12 col-sm-12 col-xs-12\">\n",
       "<center><strong>सुचना तथा प्रसारण विभाग द.न. ४४०/०७३/०७४     *     प्रकाशक - एस्ट्रिक टेक्नोलोजी प्रा.लि.    *    इमेल:  editor@merolagani.com</strong></center>\n",
       "</div>\n",
       "<br/>\n",
       "<br/>\n",
       "</div>\n",
       "<a class=\"scrollToTop\" href=\"javascript:void(0);\" title=\"click here for top\"><i class=\"icon-chevron-up\"></i></a>\n",
       "</div>\n",
       "<div class=\"copyright\">\n",
       "<div class=\"container\">\n",
       "<div class=\"row\">\n",
       "<div class=\"credential_footer\">\n",
       "<div class=\"col-sm-5 col-xs-12\">\n",
       "                                © 2023 - MERO LAGANI. All Rights Reserved  \n",
       "                            | Developed by <a href=\"#\">Asterisk Technology </a>\n",
       "</div>\n",
       "<div class=\"col-sm-4 col-xs-12 text-left\">\n",
       "<ul class=\"list-inline\">\n",
       "<li>Supported By<a href=\"http://www.podamibenepal.com\" target=\"_blank\">\n",
       "<img src=\"Content/images/podamibe.png\"/>\n",
       "</a>\n",
       "<a href=\"https://play.google.com/store/apps/details?id=com.worldwar4endgames.ENDGAME\" target=\"_blank\">World War IV - Endgames</a>\n",
       "</li>\n",
       "</ul>\n",
       "</div>\n",
       "<div class=\"col-sm-3 col-xs-12 text-right\">\n",
       "<ul class=\"list-inline\">\n",
       "<li><a href=\"/Disclaimer.aspx\">Disclaimer, Privacy &amp; Terms of Use</a></li>\n",
       "</ul>\n",
       "</div>\n",
       "</div>\n",
       "</div>\n",
       "</div>\n",
       "</div>\n",
       "</div>\n",
       "<script type=\"text/javascript\">\n",
       "//<![CDATA[\n",
       "$(document).ready(function(){AutoSuggest.getAutoSuggestDataById('Company','ctl00_ASCompany_txtAutoSuggest');});$(document).ready(function(){AutoSuggest.getAutoSuggestDataById('Company','ctl00_AutoSuggest1_txtAutoSuggest');});//]]>\n",
       "</script>\n",
       "</form>\n",
       "<script src=\"/bundles/js/main202?v=TstbAbE5lEnLUwtZ_Fui-D2CksP6A5aVpUO5oiBRGEA1\"></script>\n",
       "<script src=\"/bundles/js/site205?v=C8FVwthJVSCNvtYjwZ-56JlXUfKqomLOvsguszpWfrY1\"></script>\n",
       "<script src=\"/Scripts/jquery.cookie.min.js\"></script>\n",
       "<script src=\"/Scripts/advertisementHitCounter.js\"></script>\n",
       "<script src=\"/Scripts/jquicker-1.5.js\"></script>\n",
       "<script type=\"text/javascript\">\n",
       "        var uid = \"\";\n",
       "        var LayoutMaster_ClientID = {\n",
       "\n",
       "            liUser: \"ctl00_liUser\",\n",
       "            liLogin: \"ctl00_liLogin\",\n",
       "            liStartTour: \"ctl00_liStartTour\",\n",
       "            liFreeAccount: \"ctl00_liFreeAccount\",\n",
       "            divFreeAccount: \"ctl00_divFreeAccount\",\n",
       "            liLogout: \"ctl00_liLogout\",\n",
       "            lblUsername: \"ctl00_lblUsername\",\n",
       "            trackEvent_OnNavSearch: function () {\n",
       "                var newsletter = $(\"#ctl00_txtNews\").val();\n",
       "                if (newsletter.length > 0) {\n",
       "                    webengage.track(\"News Keyword Search\",\n",
       "                    {\n",
       "                        \"NewsKeywords\": newsletter\n",
       "                    });\n",
       "                }\n",
       "                else {\n",
       "                    webengage.track(\"Company Search\",\n",
       "                    {\n",
       "                         \"CompanyNameOrSymbol\": $(\"#ctl00_AutoSuggest1_txtAutoSuggest\").val().toString()\n",
       "                    });\n",
       "                }\n",
       "               \n",
       "                return false;\n",
       "            },\n",
       "            TrackEvent_OnStockEvent: function () {\n",
       "                webengage.track(\"StockEvents_Viewed\",\n",
       "                {\n",
       "                    \"EventDate\": (new Date()).toString()\n",
       "                });\n",
       "            }\n",
       "        };\n",
       "\n",
       "        AutoSuggest.getAutoSuggestDataById(\"Company\", \"ctl00_ASCompany_txtAutoSuggest\");\n",
       "        AutoSuggest.getAutoSuggestDataById(\"Company\", \"ctl00_AutoSuggest1_txtAutoSuggest\");\n",
       "\n",
       "        $(function () {\n",
       "            $('.navbar-toggle').on('click',\n",
       "                function () {\n",
       "                    if ($('#navbar').hasClass(\"navbar-collapse collapse in\")) {\n",
       "                        $('.affix').css({ \"height\": \"auto\" });\n",
       "                    } else {\n",
       "                        $('.affix').css({ \"height\": \"100%\", \"overflow\": \"scroll\" });\n",
       "                    }\n",
       "                });\n",
       "        });\n",
       "\n",
       "    </script>\n",
       "<script src=\"/scripts/jquery.signalR-1.1.4.min.js\"></script>\n",
       "<script src=\"/signalr/hubs\"></script>\n",
       "<script src=\"/bundles/js/signalr204?v=BbMG3gc45MZuS9XMh-41CqRqNP8C3Xdm2gQ2hxvhY5Y1\"></script>\n",
       "<link href=\"/Content/sortable.css\" rel=\"stylesheet\"/>\n",
       "<script src=\"/scripts/jquery/sortable.js\"></script>\n",
       "<script type=\"text/javascript\">\n",
       "        //$(document).ready(function () {\n",
       "        //    $('table.sortable').sorttable({\n",
       "        //        widgets: [\"zebra\"],\n",
       "        //        usNumberFormat: true,\n",
       "        //        sortIndicator: true,\n",
       "        //        sortList: [[0, 0]],\n",
       "        //        headers: {\n",
       "        //            1: { sorter: 'numbers' },\n",
       "        //            2: { sorter: 'numbers' },\n",
       "        //            3: { sorter: 'numbers' },\n",
       "        //            4: { sorter: 'numbers' },\n",
       "        //            5: { sorter: 'numbers' },\n",
       "        //            6: { sorter: 'numbers' },\n",
       "        //            7: { sorter: 'numbers' },\n",
       "        //        }\n",
       "        //    });\n",
       "        //});\n",
       "\n",
       "        function addToWatchlist(ss) {\n",
       "            showProcessing();\n",
       "            $.ajax({\n",
       "                url: \"/handlers/watchlisthandler.ashx?type=add_to_watchlist\",\n",
       "                type: \"POST\",\n",
       "                data: {\n",
       "                    stockSymbol: ss\n",
       "                },\n",
       "                dataType: \"json\",\n",
       "                success: function (data) {\n",
       "                    if (data != null) {\n",
       "                        window.location = \"/TempWatchlist.aspx?mt=\" + data.msgType + \"&m=\" + data.msg;\n",
       "                    } else showMessage(data.msgType, data.msg);\n",
       "                    hideProcessing();\n",
       "                },\n",
       "                error: function (xhr, s, e) {\n",
       "                    console.log(e);\n",
       "                    hideProcessing();\n",
       "                }\n",
       "            });\n",
       "        }\n",
       "\n",
       "        function setAlert(ss) {\n",
       "            window.location = \"/MyWatchlist.aspx?sa=1&ss=\" + ss;\n",
       "        }\n",
       "\n",
       "        webengage.track(\"LiveTrading_Viewed\", {\n",
       "            \"ShowStockQuotes\": 1,\n",
       "            \"ShowIndices\": 1,\n",
       "            \"ShowLatestTrades\": 1,\n",
       "        });\n",
       "    </script>\n",
       "<div id=\"ctl00_divAnalytics\">\n",
       "<script type=\"text/javascript\">\n",
       "            var ChatUserEmail = \"\", ChatMobileNumber = \"\", ChatUserName = \"\";\n",
       "\n",
       "            (function (i, s, o, g, r, a, m) {\n",
       "                i['GoogleAnalyticsObject'] = r; i[r] = i[r] || function () {\n",
       "                    (i[r].q = i[r].q || []).push(arguments)\n",
       "                }, i[r].l = 1 * new Date(); a = s.createElement(o),\n",
       "                    m = s.getElementsByTagName(o)[0]; a.async = 1; a.src = g; m.parentNode.insertBefore(a, m)\n",
       "            })(window, document, 'script', '//www.google-analytics.com/analytics.js', 'ga');\n",
       "\n",
       "            ga('create', 'UA-4719539-2', 'auto');\n",
       "            ga('send', 'pageview');\n",
       "\n",
       "            $.ajax({\n",
       "                url: window.location.origin + \"/handlers/webrequesthandler.ashx?type=Current_User_Info\",\n",
       "                type: \"GET\",\n",
       "                dataType: \"json\",\n",
       "                success: function (data) {\n",
       "\t\t\t\t  console.log(\"success...\");\n",
       "                    if (data != null) {\n",
       "\t\t\t\t\t\t  console.log(\"here in...\");\n",
       "                        if (data.IsAuthenticated) { \n",
       "\t\t\t\t\t\t\tconsole.log(\"true...\");\t\t\t\t\t\t\n",
       "                            $(\"#\" + LayoutMaster_ClientID.liUser).show();\n",
       "                            $(\"#\" + LayoutMaster_ClientID.liLogin).hide();\n",
       "                            $(\"#\" + LayoutMaster_ClientID.liStartTour).show();\n",
       "                            $(\"#\" + LayoutMaster_ClientID.liFreeAccount).hide();\n",
       "                            $(\"#\" + LayoutMaster_ClientID.divFreeAccount).hide();\n",
       "                            $(\"#\" + LayoutMaster_ClientID.liLogout).show();\n",
       "\n",
       "                            var userEmail = data.UserEmail;\n",
       "                            var mobileNumber = data.MobileNumber;\n",
       "\n",
       "                            if (userEmail.indexOf(\"@\") >= 0) {\n",
       "                                userEmail = (userEmail == \"\")\n",
       "                                    ? mobileNumber\n",
       "                                    : userEmail.substring(0, userEmail.indexOf(\"@\"));\n",
       "                            }\n",
       "                            else {\n",
       "                                userEmail = mobileNumber;\n",
       "                            }\n",
       "                            $(\"#\" + LayoutMaster_ClientID.lblUsername).val(userEmail);\n",
       "                            $(\"#\" + LayoutMaster_ClientID.lblUsername).text(userEmail);\n",
       "\n",
       "                            ChatUserEmail = (data.UserEmail == \"\") ? mobileNumber : data.UserEmail;\n",
       "                            ChatMobileNumber = (mobileNumber == \"\") ? userEmail : mobileNumber;\n",
       "                            ChatUserName = userEmail == \"\" ? ChatMobileNumber : userEmail;\n",
       "\n",
       "                            $.getScript(\"https://msg.dmnepal.online/userIsLoggedIn?partyId=50446b4c-4447-4b74-8709-23242d05272f&userName=\" + ChatUserName + \"&userEmail=\" + ChatUserEmail + \"&phone=\" + ChatMobileNumber);\n",
       "\n",
       "                        }\n",
       "                        else {\n",
       "\t\t\t\t\t\t\t console.log(\"false...\");\n",
       "                            $(\"#\" + LayoutMaster_ClientID.liUser).hide();\n",
       "                            $(\"#\" + LayoutMaster_ClientID.liLogin).show();\n",
       "                            $(\"#\" + LayoutMaster_ClientID.liStartTour).hide();\n",
       "                            $(\"#\" + LayoutMaster_ClientID.liFreeAccount).show();\n",
       "                            $(\"#\" + LayoutMaster_ClientID.liLogout).hide();\n",
       "\n",
       "                            $.getScript(\"https://msg.dmnepal.online/3rd/foo/platform.js?partyId=50446b4c-4447-4b74-8709-23242d05272f\");\n",
       "                        }\n",
       "                    }\n",
       "                    else {\n",
       "\t\t\t\t\t console.log(\"here out ...\");\n",
       "                        $(\"#\" + LayoutMaster_ClientID.liUser).hide();\n",
       "                        $(\"#\" + LayoutMaster_ClientID.liLogin).show();\n",
       "                        $(\"#\" + LayoutMaster_ClientID.liStartTour).hide();\n",
       "                        $(\"#\" + LayoutMaster_ClientID.liFreeAccount).show();\n",
       "                        $(\"#\" + LayoutMaster_ClientID.liLogout).hide();\n",
       "                        $.getScript(\"https://msg.dmnepal.online/3rd/foo/platform.js?partyId=50446b4c-4447-4b74-8709-23242d05272f\");\n",
       "                    }\n",
       "                },\n",
       "                error: function (xhr, s, e) {\n",
       "\t\t\t\t console.log(\"error ...\");\n",
       "                    $(\"#\" + LayoutMaster_ClientID.liUser).hide();\n",
       "                    $(\"#\" + LayoutMaster_ClientID.liLogin).show();\n",
       "                    $(\"#\" + LayoutMaster_ClientID.liStartTour).hide();\n",
       "                    $(\"#\" + LayoutMaster_ClientID.liFreeAccount).show();\n",
       "                    $(\"#\" + LayoutMaster_ClientID.liLogout).hide();\n",
       "                    $.getScript(\"https://msg.dmnepal.online/3rd/foo/platform.js?partyId=50446b4c-4447-4b74-8709-23242d05272f\");\n",
       "\n",
       "                 }\n",
       "             });\n",
       "\n",
       "            function webEngageLogout() {\n",
       "                webengage.user.logout();\n",
       "            }\n",
       "        </script>\n",
       "</div>\n",
       "</body>\n",
       "</html>"
      ]
     },
     "execution_count": 2,
     "metadata": {},
     "output_type": "execute_result"
    }
   ],
   "source": [
    "raw_code=BeautifulSoup(raw_code.text,'lxml')\n",
    "raw_code"
   ]
  },
  {
   "cell_type": "code",
   "execution_count": 3,
   "id": "9e56c6f3",
   "metadata": {},
   "outputs": [
    {
     "data": {
      "text/plain": [
       "<table class=\"table table-hover live-trading sortable\" data-live=\"live-trading\" data-live-label=\"#live-trading-label-1\" width=\"100%\">\n",
       "<thead><tr><th><span>Symbol</span></th><th><span>LTP</span></th><th nowrap=\"\"><span>% Change</span></th><th><span>Open</span></th><th><span>High</span></th><th><span>Low</span></th><th><span>Qty.</span></th><th><span>PClose</span></th><th><span>Diff.</span></th><th></th><th></th></tr></thead><tbody>\n",
       "<tr class=\"decrease-row\"><td><a href=\"/CompanyDetail.aspx?symbol=ACLBSL\" target=\"_blank\" title=\"ACLBSL (Aarambha Chautari Laghubitta Bittiya Sanstha Limited)\">ACLBSL</a></td><td class=\"text-right\">833.00</td><td class=\"text-right\">-0.95</td><td class=\"text-right\">854.00</td><td class=\"text-right\">824.20</td><td class=\"text-right\">854.00</td><td class=\"text-right\">1,126</td><td><a href=\"javascript:void(0);\" onclick='addToWatchlist(\"ACLBSL\");' title=\"Add to Watchlist\"><i class=\"icon-tags icon-white\"></i></a></td><td><a href=\"javascript:void(0);\" onclick='setAlert(\"ACLBSL\");' title=\"Set as Alert\"><i class=\"icon-bell icon-white\"></i></a></td></tr>\n",
       "<tr class=\"decrease-row\"><td><a href=\"/CompanyDetail.aspx?symbol=ADBL\" target=\"_blank\" title=\"ADBL (Agriculture Development Bank Limited)\">ADBL</a></td><td class=\"text-right\">305.10</td><td class=\"text-right\">-0.94</td><td class=\"text-right\">310.00</td><td class=\"text-right\">305.10</td><td class=\"text-right\">308.00</td><td class=\"text-right\">37,956</td><td><a href=\"javascript:void(0);\" onclick='addToWatchlist(\"ADBL\");' title=\"Add to Watchlist\"><i class=\"icon-tags icon-white\"></i></a></td><td><a href=\"javascript:void(0);\" onclick='setAlert(\"ADBL\");' title=\"Set as Alert\"><i class=\"icon-bell icon-white\"></i></a></td></tr>\n",
       "<tr class=\"increase-row\"><td><a href=\"/CompanyDetail.aspx?symbol=ADBLD83\" target=\"_blank\" title=\"ADBLD83 (10.35% Agricultural Bank Debenture 2083)\">ADBLD83</a></td><td class=\"text-right\">890.00</td><td class=\"text-right\">0.45</td><td class=\"text-right\">890.00</td><td class=\"text-right\">890.00</td><td class=\"text-right\">890.00</td><td class=\"text-right\">10</td><td><a href=\"javascript:void(0);\" onclick='addToWatchlist(\"ADBLD83\");' title=\"Add to Watchlist\"><i class=\"icon-tags icon-white\"></i></a></td><td><a href=\"javascript:void(0);\" onclick='setAlert(\"ADBLD83\");' title=\"Set as Alert\"><i class=\"icon-bell icon-white\"></i></a></td></tr>\n",
       "<tr class=\"increase-row\"><td><a href=\"/CompanyDetail.aspx?symbol=ADLB\" target=\"_blank\" title=\"ADLB ( Adarsha Laghubitta Bittiya Sanstha Limited)\">ADLB</a></td><td class=\"text-right\">1,317.60</td><td class=\"text-right\">9.99</td><td class=\"text-right\">1,317.60</td><td class=\"text-right\">1,221.80</td><td class=\"text-right\">1,221.80</td><td class=\"text-right\">90</td><td><a href=\"javascript:void(0);\" onclick='addToWatchlist(\"ADLB\");' title=\"Add to Watchlist\"><i class=\"icon-tags icon-white\"></i></a></td><td><a href=\"javascript:void(0);\" onclick='setAlert(\"ADLB\");' title=\"Set as Alert\"><i class=\"icon-bell icon-white\"></i></a></td></tr>\n",
       "<tr class=\"decrease-row\"><td><a href=\"/CompanyDetail.aspx?symbol=AHPC\" target=\"_blank\" title=\"AHPC (Arun Valley Hydropower Development Co. Ltd.)\">AHPC</a></td><td class=\"text-right\">344.00</td><td class=\"text-right\">-1.99</td><td class=\"text-right\">352.00</td><td class=\"text-right\">340.00</td><td class=\"text-right\">344.00</td><td class=\"text-right\">84,498</td><td><a href=\"javascript:void(0);\" onclick='addToWatchlist(\"AHPC\");' title=\"Add to Watchlist\"><i class=\"icon-tags icon-white\"></i></a></td><td><a href=\"javascript:void(0);\" onclick='setAlert(\"AHPC\");' title=\"Set as Alert\"><i class=\"icon-bell icon-white\"></i></a></td></tr>\n",
       "<tr class=\"decrease-row\"><td><a href=\"/CompanyDetail.aspx?symbol=AIL\" target=\"_blank\" title=\"AIL (AJOD Insurance Limited)\">AIL</a></td><td class=\"text-right\">523.00</td><td class=\"text-right\">-2.24</td><td class=\"text-right\">544.00</td><td class=\"text-right\">511.00</td><td class=\"text-right\">524.30</td><td class=\"text-right\">17,050</td><td><a href=\"javascript:void(0);\" onclick='addToWatchlist(\"AIL\");' title=\"Add to Watchlist\"><i class=\"icon-tags icon-white\"></i></a></td><td><a href=\"javascript:void(0);\" onclick='setAlert(\"AIL\");' title=\"Set as Alert\"><i class=\"icon-bell icon-white\"></i></a></td></tr>\n",
       "<tr class=\"decrease-row\"><td><a href=\"/CompanyDetail.aspx?symbol=AKBSL\" target=\"_blank\" title=\"AKBSL (Adhikhola Laghubitta Bittiya Sanstha Limited)\">AKBSL</a></td><td class=\"text-right\">1,277.00</td><td class=\"text-right\">-1.94</td><td class=\"text-right\">1,300.00</td><td class=\"text-right\">1,277.00</td><td class=\"text-right\">1,280.00</td><td class=\"text-right\">1,002</td><td><a href=\"javascript:void(0);\" onclick='addToWatchlist(\"AKBSL\");' title=\"Add to Watchlist\"><i class=\"icon-tags icon-white\"></i></a></td><td><a href=\"javascript:void(0);\" onclick='setAlert(\"AKBSL\");' title=\"Set as Alert\"><i class=\"icon-bell icon-white\"></i></a></td></tr>\n",
       "<tr class=\"increase-row\"><td><a href=\"/CompanyDetail.aspx?symbol=AKJCL\" target=\"_blank\" title=\"AKJCL (Ankhu Khola Jalvidhyut Company Ltd)\">AKJCL</a></td><td class=\"text-right\">253.00</td><td class=\"text-right\">1.2</td><td class=\"text-right\">258.00</td><td class=\"text-right\">246.00</td><td class=\"text-right\">247.00</td><td class=\"text-right\">269,117</td><td><a href=\"javascript:void(0);\" onclick='addToWatchlist(\"AKJCL\");' title=\"Add to Watchlist\"><i class=\"icon-tags icon-white\"></i></a></td><td><a href=\"javascript:void(0);\" onclick='setAlert(\"AKJCL\");' title=\"Set as Alert\"><i class=\"icon-bell icon-white\"></i></a></td></tr>\n",
       "<tr class=\"decrease-row\"><td><a href=\"/CompanyDetail.aspx?symbol=AKPL\" target=\"_blank\" title=\"AKPL (Arun Kabeli Power Ltd.)\">AKPL</a></td><td class=\"text-right\">420.00</td><td class=\"text-right\">-1.64</td><td class=\"text-right\">428.00</td><td class=\"text-right\">416.30</td><td class=\"text-right\">423.00</td><td class=\"text-right\">76,745</td><td><a href=\"javascript:void(0);\" onclick='addToWatchlist(\"AKPL\");' title=\"Add to Watchlist\"><i class=\"icon-tags icon-white\"></i></a></td><td><a href=\"javascript:void(0);\" onclick='setAlert(\"AKPL\");' title=\"Set as Alert\"><i class=\"icon-bell icon-white\"></i></a></td></tr>\n",
       "<tr class=\"decrease-row\"><td><a href=\"/CompanyDetail.aspx?symbol=ALBSL\" target=\"_blank\" title=\"ALBSL (Asha Laghubitta Bittiya Sanstha Limited)\">ALBSL</a></td><td class=\"text-right\">1,037.00</td><td class=\"text-right\">-0.77</td><td class=\"text-right\">1,040.00</td><td class=\"text-right\">1,003.70</td><td class=\"text-right\">1,024.10</td><td class=\"text-right\">1,474</td><td><a href=\"javascript:void(0);\" onclick='addToWatchlist(\"ALBSL\");' title=\"Add to Watchlist\"><i class=\"icon-tags icon-white\"></i></a></td><td><a href=\"javascript:void(0);\" onclick='setAlert(\"ALBSL\");' title=\"Set as Alert\"><i class=\"icon-bell icon-white\"></i></a></td></tr>\n",
       "<tr class=\"decrease-row\"><td><a href=\"/CompanyDetail.aspx?symbol=ALICL\" target=\"_blank\" title=\"ALICL (Asian Life Insurance Co. Limited)\">ALICL</a></td><td class=\"text-right\">705.00</td><td class=\"text-right\">-0.7</td><td class=\"text-right\">722.00</td><td class=\"text-right\">696.00</td><td class=\"text-right\">696.00</td><td class=\"text-right\">42,877</td><td><a href=\"javascript:void(0);\" onclick='addToWatchlist(\"ALICL\");' title=\"Add to Watchlist\"><i class=\"icon-tags icon-white\"></i></a></td><td><a href=\"javascript:void(0);\" onclick='setAlert(\"ALICL\");' title=\"Set as Alert\"><i class=\"icon-bell icon-white\"></i></a></td></tr>\n",
       "<tr class=\"decrease-row\"><td><a href=\"/CompanyDetail.aspx?symbol=API\" target=\"_blank\" title=\"API (Api Power Company Ltd.)\">API</a></td><td class=\"text-right\">291.00</td><td class=\"text-right\">-1.02</td><td class=\"text-right\">297.00</td><td class=\"text-right\">286.00</td><td class=\"text-right\">289.00</td><td class=\"text-right\">189,275</td><td><a href=\"javascript:void(0);\" onclick='addToWatchlist(\"API\");' title=\"Add to Watchlist\"><i class=\"icon-tags icon-white\"></i></a></td><td><a href=\"javascript:void(0);\" onclick='setAlert(\"API\");' title=\"Set as Alert\"><i class=\"icon-bell icon-white\"></i></a></td></tr>\n",
       "<tr class=\"decrease-row\"><td><a href=\"/CompanyDetail.aspx?symbol=AVYAN\" target=\"_blank\" title=\"AVYAN (Aviyan Laghubitta Bittiya Sanstha Limited)\">AVYAN</a></td><td class=\"text-right\">740.00</td><td class=\"text-right\">-0.74</td><td class=\"text-right\">760.00</td><td class=\"text-right\">733.80</td><td class=\"text-right\">745.50</td><td class=\"text-right\">4,200</td><td><a href=\"javascript:void(0);\" onclick='addToWatchlist(\"AVYAN\");' title=\"Add to Watchlist\"><i class=\"icon-tags icon-white\"></i></a></td><td><a href=\"javascript:void(0);\" onclick='setAlert(\"AVYAN\");' title=\"Set as Alert\"><i class=\"icon-bell icon-white\"></i></a></td></tr>\n",
       "<tr class=\"decrease-row\"><td><a href=\"/CompanyDetail.aspx?symbol=BARUN\" target=\"_blank\" title=\"BARUN (Barun Hydropower Co. Ltd.)\">BARUN</a></td><td class=\"text-right\">278.90</td><td class=\"text-right\">-0.04</td><td class=\"text-right\">284.00</td><td class=\"text-right\">270.10</td><td class=\"text-right\">284.00</td><td class=\"text-right\">39,512</td><td><a href=\"javascript:void(0);\" onclick='addToWatchlist(\"BARUN\");' title=\"Add to Watchlist\"><i class=\"icon-tags icon-white\"></i></a></td><td><a href=\"javascript:void(0);\" onclick='setAlert(\"BARUN\");' title=\"Set as Alert\"><i class=\"icon-bell icon-white\"></i></a></td></tr>\n",
       "<tr class=\"decrease-row\"><td><a href=\"/CompanyDetail.aspx?symbol=BBC\" target=\"_blank\" title=\"BBC (Bishal Bazar Company Limited)\">BBC</a></td><td class=\"text-right\">3,450.00</td><td class=\"text-right\">-1.29</td><td class=\"text-right\">3,565.00</td><td class=\"text-right\">3,431.00</td><td class=\"text-right\">3,431.00</td><td class=\"text-right\">215</td><td><a href=\"javascript:void(0);\" onclick='addToWatchlist(\"BBC\");' title=\"Add to Watchlist\"><i class=\"icon-tags icon-white\"></i></a></td><td><a href=\"javascript:void(0);\" onclick='setAlert(\"BBC\");' title=\"Set as Alert\"><i class=\"icon-bell icon-white\"></i></a></td></tr>\n",
       "<tr class=\"decrease-row\"><td><a href=\"/CompanyDetail.aspx?symbol=BFC\" target=\"_blank\" title=\"BFC (Best Finance Company Ltd.)\">BFC</a></td><td class=\"text-right\">358.00</td><td class=\"text-right\">-1.62</td><td class=\"text-right\">365.00</td><td class=\"text-right\">354.00</td><td class=\"text-right\">363.00</td><td class=\"text-right\">16,455</td><td><a href=\"javascript:void(0);\" onclick='addToWatchlist(\"BFC\");' title=\"Add to Watchlist\"><i class=\"icon-tags icon-white\"></i></a></td><td><a href=\"javascript:void(0);\" onclick='setAlert(\"BFC\");' title=\"Set as Alert\"><i class=\"icon-bell icon-white\"></i></a></td></tr>\n",
       "<tr class=\"increase-row\"><td><a href=\"/CompanyDetail.aspx?symbol=BHDC\" target=\"_blank\" title=\"BHDC (Bindyabasini Hydropower Development Company Limited)\">BHDC</a></td><td class=\"text-right\">415.20</td><td class=\"text-right\">2.01</td><td class=\"text-right\">426.00</td><td class=\"text-right\">398.90</td><td class=\"text-right\">407.00</td><td class=\"text-right\">12,097</td><td><a href=\"javascript:void(0);\" onclick='addToWatchlist(\"BHDC\");' title=\"Add to Watchlist\"><i class=\"icon-tags icon-white\"></i></a></td><td><a href=\"javascript:void(0);\" onclick='setAlert(\"BHDC\");' title=\"Set as Alert\"><i class=\"icon-bell icon-white\"></i></a></td></tr>\n",
       "<tr class=\"decrease-row\"><td><a href=\"/CompanyDetail.aspx?symbol=BHL\" target=\"_blank\" title=\"BHL (Balephi Hydropower Limited)\">BHL</a></td><td class=\"text-right\">357.10</td><td class=\"text-right\">-2.96</td><td class=\"text-right\">367.90</td><td class=\"text-right\">346.60</td><td class=\"text-right\">360.70</td><td class=\"text-right\">25,831</td><td><a href=\"javascript:void(0);\" onclick='addToWatchlist(\"BHL\");' title=\"Add to Watchlist\"><i class=\"icon-tags icon-white\"></i></a></td><td><a href=\"javascript:void(0);\" onclick='setAlert(\"BHL\");' title=\"Set as Alert\"><i class=\"icon-bell icon-white\"></i></a></td></tr>\n",
       "<tr class=\"increase-row\"><td><a href=\"/CompanyDetail.aspx?symbol=BHPL\" target=\"_blank\" title=\"BHPL (Barahi Hydropower Public Limited)\">BHPL</a></td><td class=\"text-right\">534.80</td><td class=\"text-right\">10</td><td class=\"text-right\">534.80</td><td class=\"text-right\">487.00</td><td class=\"text-right\">495.90</td><td class=\"text-right\">21,198</td><td><a href=\"javascript:void(0);\" onclick='addToWatchlist(\"BHPL\");' title=\"Add to Watchlist\"><i class=\"icon-tags icon-white\"></i></a></td><td><a href=\"javascript:void(0);\" onclick='setAlert(\"BHPL\");' title=\"Set as Alert\"><i class=\"icon-bell icon-white\"></i></a></td></tr>\n",
       "<tr class=\"decrease-row\"><td><a href=\"/CompanyDetail.aspx?symbol=BNHC\" target=\"_blank\" title=\"BNHC (Buddhabhumi Nepal Hydropower Company Limited)\">BNHC</a></td><td class=\"text-right\">434.10</td><td class=\"text-right\">-1.32</td><td class=\"text-right\">443.00</td><td class=\"text-right\">422.60</td><td class=\"text-right\">431.20</td><td class=\"text-right\">2,082</td><td><a href=\"javascript:void(0);\" onclick='addToWatchlist(\"BNHC\");' title=\"Add to Watchlist\"><i class=\"icon-tags icon-white\"></i></a></td><td><a href=\"javascript:void(0);\" onclick='setAlert(\"BNHC\");' title=\"Set as Alert\"><i class=\"icon-bell icon-white\"></i></a></td></tr>\n",
       "<tr class=\"increase-row\"><td><a href=\"/CompanyDetail.aspx?symbol=BNT\" target=\"_blank\" title=\"BNT (Bottlers Nepal (Terai) Limited)\">BNT</a></td><td class=\"text-right\">13,388.00</td><td class=\"text-right\">2.2</td><td class=\"text-right\">13,620.00</td><td class=\"text-right\">13,172.00</td><td class=\"text-right\">13,360.00</td><td class=\"text-right\">90</td><td><a href=\"javascript:void(0);\" onclick='addToWatchlist(\"BNT\");' title=\"Add to Watchlist\"><i class=\"icon-tags icon-white\"></i></a></td><td><a href=\"javascript:void(0);\" onclick='setAlert(\"BNT\");' title=\"Set as Alert\"><i class=\"icon-bell icon-white\"></i></a></td></tr>\n",
       "<tr class=\"nochange-row\"><td><a href=\"/CompanyDetail.aspx?symbol=BOKD86\" target=\"_blank\" title=\"BOKD86 (8.5% BOK Debenture 2086)\">BOKD86</a></td><td class=\"text-right\">765.00</td><td class=\"text-right\">0</td><td class=\"text-right\">765.00</td><td class=\"text-right\">765.00</td><td class=\"text-right\">765.00</td><td class=\"text-right\">165</td><td><a href=\"javascript:void(0);\" onclick='addToWatchlist(\"BOKD86\");' title=\"Add to Watchlist\"><i class=\"icon-tags icon-white\"></i></a></td><td><a href=\"javascript:void(0);\" onclick='setAlert(\"BOKD86\");' title=\"Set as Alert\"><i class=\"icon-bell icon-white\"></i></a></td></tr>\n",
       "<tr class=\"increase-row\"><td><a href=\"/CompanyDetail.aspx?symbol=BPCL\" target=\"_blank\" title=\"BPCL (Butwal Power Company Limited)\">BPCL</a></td><td class=\"text-right\">338.00</td><td class=\"text-right\">1.53</td><td class=\"text-right\">343.50</td><td class=\"text-right\">330.00</td><td class=\"text-right\">330.00</td><td class=\"text-right\">40,319</td><td><a href=\"javascript:void(0);\" onclick='addToWatchlist(\"BPCL\");' title=\"Add to Watchlist\"><i class=\"icon-tags icon-white\"></i></a></td><td><a href=\"javascript:void(0);\" onclick='setAlert(\"BPCL\");' title=\"Set as Alert\"><i class=\"icon-bell icon-white\"></i></a></td></tr>\n",
       "<tr class=\"decrease-row\"><td><a href=\"/CompanyDetail.aspx?symbol=CBBL\" target=\"_blank\" title=\"CBBL (Chhimek Laghubitta Bittiya Sanstha Limited)\">CBBL</a></td><td class=\"text-right\">1,203.00</td><td class=\"text-right\">-0.66</td><td class=\"text-right\">1,212.00</td><td class=\"text-right\">1,199.00</td><td class=\"text-right\">1,209.00</td><td class=\"text-right\">12,026</td><td><a href=\"javascript:void(0);\" onclick='addToWatchlist(\"CBBL\");' title=\"Add to Watchlist\"><i class=\"icon-tags icon-white\"></i></a></td><td><a href=\"javascript:void(0);\" onclick='setAlert(\"CBBL\");' title=\"Set as Alert\"><i class=\"icon-bell icon-white\"></i></a></td></tr>\n",
       "<tr class=\"decrease-row\"><td><a href=\"/CompanyDetail.aspx?symbol=CBL\" target=\"_blank\" title=\"CBL (Civil Bank Ltd)\">CBL</a></td><td class=\"text-right\">228.50</td><td class=\"text-right\">-1.3</td><td class=\"text-right\">232.00</td><td class=\"text-right\">228.00</td><td class=\"text-right\">229.10</td><td class=\"text-right\">64,629</td><td><a href=\"javascript:void(0);\" onclick='addToWatchlist(\"CBL\");' title=\"Add to Watchlist\"><i class=\"icon-tags icon-white\"></i></a></td><td><a href=\"javascript:void(0);\" onclick='setAlert(\"CBL\");' title=\"Set as Alert\"><i class=\"icon-bell icon-white\"></i></a></td></tr>\n",
       "<tr class=\"nochange-row\"><td><a href=\"/CompanyDetail.aspx?symbol=CCBD88\" target=\"_blank\" title=\"CCBD88 (Century Debenture 2088)\">CCBD88</a></td><td class=\"text-right\">845.00</td><td class=\"text-right\">0</td><td class=\"text-right\">845.00</td><td class=\"text-right\">840.10</td><td class=\"text-right\">840.10</td><td class=\"text-right\">75</td><td><a href=\"javascript:void(0);\" onclick='addToWatchlist(\"CCBD88\");' title=\"Add to Watchlist\"><i class=\"icon-tags icon-white\"></i></a></td><td><a href=\"javascript:void(0);\" onclick='setAlert(\"CCBD88\");' title=\"Set as Alert\"><i class=\"icon-bell icon-white\"></i></a></td></tr>\n",
       "<tr class=\"decrease-row\"><td><a href=\"/CompanyDetail.aspx?symbol=CFCL\" target=\"_blank\" title=\"CFCL (Central Finance Co. Ltd.)\">CFCL</a></td><td class=\"text-right\">341.00</td><td class=\"text-right\">-2.57</td><td class=\"text-right\">350.20</td><td class=\"text-right\">338.10</td><td class=\"text-right\">345.00</td><td class=\"text-right\">20,107</td><td><a href=\"javascript:void(0);\" onclick='addToWatchlist(\"CFCL\");' title=\"Add to Watchlist\"><i class=\"icon-tags icon-white\"></i></a></td><td><a href=\"javascript:void(0);\" onclick='setAlert(\"CFCL\");' title=\"Set as Alert\"><i class=\"icon-bell icon-white\"></i></a></td></tr>\n",
       "<tr class=\"decrease-row\"><td><a href=\"/CompanyDetail.aspx?symbol=CGH\" target=\"_blank\" title=\"CGH (Chandragiri Hills Limited)\">CGH</a></td><td class=\"text-right\">1,350.00</td><td class=\"text-right\">-1.96</td><td class=\"text-right\">1,379.90</td><td class=\"text-right\">1,324.00</td><td class=\"text-right\">1,351.00</td><td class=\"text-right\">6,899</td><td><a href=\"javascript:void(0);\" onclick='addToWatchlist(\"CGH\");' title=\"Add to Watchlist\"><i class=\"icon-tags icon-white\"></i></a></td><td><a href=\"javascript:void(0);\" onclick='setAlert(\"CGH\");' title=\"Set as Alert\"><i class=\"icon-bell icon-white\"></i></a></td></tr>\n",
       "<tr class=\"increase-row\"><td><a href=\"/CompanyDetail.aspx?symbol=CHCL\" target=\"_blank\" title=\"CHCL (Chilime Hydropower Company Limited)\">CHCL</a></td><td class=\"text-right\">460.00</td><td class=\"text-right\">5.02</td><td class=\"text-right\">467.00</td><td class=\"text-right\">427.00</td><td class=\"text-right\">438.00</td><td class=\"text-right\">99,840</td><td><a href=\"javascript:void(0);\" onclick='addToWatchlist(\"CHCL\");' title=\"Add to Watchlist\"><i class=\"icon-tags icon-white\"></i></a></td><td><a href=\"javascript:void(0);\" onclick='setAlert(\"CHCL\");' title=\"Set as Alert\"><i class=\"icon-bell icon-white\"></i></a></td></tr>\n",
       "<tr class=\"decrease-row\"><td><a href=\"/CompanyDetail.aspx?symbol=CHDC\" target=\"_blank\" title=\"CHDC (CEDB Hydropower Development Company Limited)\">CHDC</a></td><td class=\"text-right\">795.00</td><td class=\"text-right\">-1.73</td><td class=\"text-right\">815.00</td><td class=\"text-right\">783.00</td><td class=\"text-right\">815.00</td><td class=\"text-right\">21,806</td><td><a href=\"javascript:void(0);\" onclick='addToWatchlist(\"CHDC\");' title=\"Add to Watchlist\"><i class=\"icon-tags icon-white\"></i></a></td><td><a href=\"javascript:void(0);\" onclick='setAlert(\"CHDC\");' title=\"Set as Alert\"><i class=\"icon-bell icon-white\"></i></a></td></tr>\n",
       "<tr class=\"decrease-row\"><td><a href=\"/CompanyDetail.aspx?symbol=CHL\" target=\"_blank\" title=\"CHL (Chhyangdi Hydropower Ltd.)\">CHL</a></td><td class=\"text-right\">323.00</td><td class=\"text-right\">-2.12</td><td class=\"text-right\">331.00</td><td class=\"text-right\">322.00</td><td class=\"text-right\">328.00</td><td class=\"text-right\">25,825</td><td><a href=\"javascript:void(0);\" onclick='addToWatchlist(\"CHL\");' title=\"Add to Watchlist\"><i class=\"icon-tags icon-white\"></i></a></td><td><a href=\"javascript:void(0);\" onclick='setAlert(\"CHL\");' title=\"Set as Alert\"><i class=\"icon-bell icon-white\"></i></a></td></tr>\n",
       "<tr class=\"decrease-row\"><td><a href=\"/CompanyDetail.aspx?symbol=CIT\" target=\"_blank\" title=\"CIT (Citizen Investment Trust)\">CIT</a></td><td class=\"text-right\">2,102.00</td><td class=\"text-right\">-1.64</td><td class=\"text-right\">2,150.00</td><td class=\"text-right\">2,095.00</td><td class=\"text-right\">2,102.00</td><td class=\"text-right\">7,485</td><td><a href=\"javascript:void(0);\" onclick='addToWatchlist(\"CIT\");' title=\"Add to Watchlist\"><i class=\"icon-tags icon-white\"></i></a></td><td><a href=\"javascript:void(0);\" onclick='setAlert(\"CIT\");' title=\"Set as Alert\"><i class=\"icon-bell icon-white\"></i></a></td></tr>\n",
       "<tr class=\"decrease-row\"><td><a href=\"/CompanyDetail.aspx?symbol=CLBSL\" target=\"_blank\" title=\"CLBSL (Civil Laghubitta Bittiya Sanstha Ltd.)\">CLBSL</a></td><td class=\"text-right\">901.60</td><td class=\"text-right\">-6.08</td><td class=\"text-right\">960.00</td><td class=\"text-right\">901.60</td><td class=\"text-right\">940.80</td><td class=\"text-right\">5,613</td><td><a href=\"javascript:void(0);\" onclick='addToWatchlist(\"CLBSL\");' title=\"Add to Watchlist\"><i class=\"icon-tags icon-white\"></i></a></td><td><a href=\"javascript:void(0);\" onclick='setAlert(\"CLBSL\");' title=\"Set as Alert\"><i class=\"icon-bell icon-white\"></i></a></td></tr>\n",
       "<tr class=\"increase-row\"><td><a href=\"/CompanyDetail.aspx?symbol=CMF1\" target=\"_blank\" title=\"CMF1 (Citizens Mutual Fund -1)\">CMF1</a></td><td class=\"text-right\">9.08</td><td class=\"text-right\">1.45</td><td class=\"text-right\">9.08</td><td class=\"text-right\">8.80</td><td class=\"text-right\">8.80</td><td class=\"text-right\">31,135</td><td><a href=\"javascript:void(0);\" onclick='addToWatchlist(\"CMF1\");' title=\"Add to Watchlist\"><i class=\"icon-tags icon-white\"></i></a></td><td><a href=\"javascript:void(0);\" onclick='setAlert(\"CMF1\");' title=\"Set as Alert\"><i class=\"icon-bell icon-white\"></i></a></td></tr>\n",
       "<tr class=\"decrease-row\"><td><a href=\"/CompanyDetail.aspx?symbol=CMF2\" target=\"_blank\" title=\"CMF2 (CITIZENS MUTUAL FUND 2)\">CMF2</a></td><td class=\"text-right\">8.75</td><td class=\"text-right\">-1.35</td><td class=\"text-right\">8.75</td><td class=\"text-right\">8.61</td><td class=\"text-right\">8.75</td><td class=\"text-right\">16,933</td><td><a href=\"javascript:void(0);\" onclick='addToWatchlist(\"CMF2\");' title=\"Add to Watchlist\"><i class=\"icon-tags icon-white\"></i></a></td><td><a href=\"javascript:void(0);\" onclick='setAlert(\"CMF2\");' title=\"Set as Alert\"><i class=\"icon-bell icon-white\"></i></a></td></tr>\n",
       "<tr class=\"decrease-row\"><td><a href=\"/CompanyDetail.aspx?symbol=CORBL\" target=\"_blank\" title=\"CORBL (Corporate Development Bank Limited)\">CORBL</a></td><td class=\"text-right\">323.00</td><td class=\"text-right\">-2.42</td><td class=\"text-right\">333.30</td><td class=\"text-right\">320.00</td><td class=\"text-right\">326.00</td><td class=\"text-right\">5,052</td><td><a href=\"javascript:void(0);\" onclick='addToWatchlist(\"CORBL\");' title=\"Add to Watchlist\"><i class=\"icon-tags icon-white\"></i></a></td><td><a href=\"javascript:void(0);\" onclick='setAlert(\"CORBL\");' title=\"Set as Alert\"><i class=\"icon-bell icon-white\"></i></a></td></tr>\n",
       "<tr class=\"increase-row\"><td><a href=\"/CompanyDetail.aspx?symbol=CYCL\" target=\"_blank\" title=\"CYCL (CYC Nepal Laghubitta Bittiya Sanstha Limited)\">CYCL</a></td><td class=\"text-right\">1,895.00</td><td class=\"text-right\">0.25</td><td class=\"text-right\">1,905.00</td><td class=\"text-right\">1,863.00</td><td class=\"text-right\">1,863.00</td><td class=\"text-right\">982</td><td><a href=\"javascript:void(0);\" onclick='addToWatchlist(\"CYCL\");' title=\"Add to Watchlist\"><i class=\"icon-tags icon-white\"></i></a></td><td><a href=\"javascript:void(0);\" onclick='setAlert(\"CYCL\");' title=\"Set as Alert\"><i class=\"icon-bell icon-white\"></i></a></td></tr>\n",
       "<tr class=\"decrease-row\"><td><a href=\"/CompanyDetail.aspx?symbol=CZBIL\" target=\"_blank\" title=\"CZBIL (Citizen Bank International Limited)\">CZBIL</a></td><td class=\"text-right\">194.40</td><td class=\"text-right\">-1.32</td><td class=\"text-right\">198.00</td><td class=\"text-right\">194.30</td><td class=\"text-right\">196.00</td><td class=\"text-right\">40,999</td><td><a href=\"javascript:void(0);\" onclick='addToWatchlist(\"CZBIL\");' title=\"Add to Watchlist\"><i class=\"icon-tags icon-white\"></i></a></td><td><a href=\"javascript:void(0);\" onclick='setAlert(\"CZBIL\");' title=\"Set as Alert\"><i class=\"icon-bell icon-white\"></i></a></td></tr>\n",
       "<tr class=\"decrease-row\"><td><a href=\"/CompanyDetail.aspx?symbol=DDBL\" target=\"_blank\" title=\"DDBL (Deprosc Laghubitta Bittiya Sanstha Limited)\">DDBL</a></td><td class=\"text-right\">981.10</td><td class=\"text-right\">-0.29</td><td class=\"text-right\">995.00</td><td class=\"text-right\">976.00</td><td class=\"text-right\">984.00</td><td class=\"text-right\">9,939</td><td><a href=\"javascript:void(0);\" onclick='addToWatchlist(\"DDBL\");' title=\"Add to Watchlist\"><i class=\"icon-tags icon-white\"></i></a></td><td><a href=\"javascript:void(0);\" onclick='setAlert(\"DDBL\");' title=\"Set as Alert\"><i class=\"icon-bell icon-white\"></i></a></td></tr>\n",
       "<tr class=\"decrease-row\"><td><a href=\"/CompanyDetail.aspx?symbol=DHPL\" target=\"_blank\" title=\"DHPL (Dibyashwori Hydropower Ltd.)\">DHPL</a></td><td class=\"text-right\">248.00</td><td class=\"text-right\">-0.8</td><td class=\"text-right\">253.00</td><td class=\"text-right\">240.10</td><td class=\"text-right\">245.00</td><td class=\"text-right\">26,852</td><td><a href=\"javascript:void(0);\" onclick='addToWatchlist(\"DHPL\");' title=\"Add to Watchlist\"><i class=\"icon-tags icon-white\"></i></a></td><td><a href=\"javascript:void(0);\" onclick='setAlert(\"DHPL\");' title=\"Set as Alert\"><i class=\"icon-bell icon-white\"></i></a></td></tr>\n",
       "<tr class=\"increase-row\"><td><a href=\"/CompanyDetail.aspx?symbol=DLBS\" target=\"_blank\" title=\"DLBS (Dhaulagiri Laghubitta Bittiya Sanstha Limited)\">DLBS</a></td><td class=\"text-right\">1,369.90</td><td class=\"text-right\">0.36</td><td class=\"text-right\">1,369.90</td><td class=\"text-right\">1,345.00</td><td class=\"text-right\">1,345.00</td><td class=\"text-right\">1,215</td><td><a href=\"javascript:void(0);\" onclick='addToWatchlist(\"DLBS\");' title=\"Add to Watchlist\"><i class=\"icon-tags icon-white\"></i></a></td><td><a href=\"javascript:void(0);\" onclick='setAlert(\"DLBS\");' title=\"Set as Alert\"><i class=\"icon-bell icon-white\"></i></a></td></tr>\n",
       "<tr class=\"decrease-row\"><td><a href=\"/CompanyDetail.aspx?symbol=DORDI\" target=\"_blank\" title=\"DORDI (Dordi Khola Jal Bidyut Company Limited)\">DORDI</a></td><td class=\"text-right\">325.00</td><td class=\"text-right\">-0.31</td><td class=\"text-right\">335.00</td><td class=\"text-right\">316.00</td><td class=\"text-right\">320.00</td><td class=\"text-right\">34,838</td><td><a href=\"javascript:void(0);\" onclick='addToWatchlist(\"DORDI\");' title=\"Add to Watchlist\"><i class=\"icon-tags icon-white\"></i></a></td><td><a href=\"javascript:void(0);\" onclick='setAlert(\"DORDI\");' title=\"Set as Alert\"><i class=\"icon-bell icon-white\"></i></a></td></tr>\n",
       "<tr class=\"decrease-row\"><td><a href=\"/CompanyDetail.aspx?symbol=EBL\" target=\"_blank\" title=\"EBL (Everest Bank Limited)\">EBL</a></td><td class=\"text-right\">518.00</td><td class=\"text-right\">-0.13</td><td class=\"text-right\">525.00</td><td class=\"text-right\">512.20</td><td class=\"text-right\">519.00</td><td class=\"text-right\">25,712</td><td><a href=\"javascript:void(0);\" onclick='addToWatchlist(\"EBL\");' title=\"Add to Watchlist\"><i class=\"icon-tags icon-white\"></i></a></td><td><a href=\"javascript:void(0);\" onclick='setAlert(\"EBL\");' title=\"Set as Alert\"><i class=\"icon-bell icon-white\"></i></a></td></tr>\n",
       "<tr class=\"decrease-row\"><td><a href=\"/CompanyDetail.aspx?symbol=EDBL\" target=\"_blank\" title=\"EDBL (Excel Development Bank Ltd.)\">EDBL</a></td><td class=\"text-right\">345.00</td><td class=\"text-right\">-2.54</td><td class=\"text-right\">359.90</td><td class=\"text-right\">342.50</td><td class=\"text-right\">350.00</td><td class=\"text-right\">18,104</td><td><a href=\"javascript:void(0);\" onclick='addToWatchlist(\"EDBL\");' title=\"Add to Watchlist\"><i class=\"icon-tags icon-white\"></i></a></td><td><a href=\"javascript:void(0);\" onclick='setAlert(\"EDBL\");' title=\"Set as Alert\"><i class=\"icon-bell icon-white\"></i></a></td></tr>\n",
       "<tr class=\"increase-row\"><td><a href=\"/CompanyDetail.aspx?symbol=EHPL\" target=\"_blank\" title=\"EHPL (Eastern Hydropower Limited)\">EHPL</a></td><td class=\"text-right\">451.50</td><td class=\"text-right\">9.99</td><td class=\"text-right\">451.50</td><td class=\"text-right\">397.00</td><td class=\"text-right\">402.30</td><td class=\"text-right\">16,338</td><td><a href=\"javascript:void(0);\" onclick='addToWatchlist(\"EHPL\");' title=\"Add to Watchlist\"><i class=\"icon-tags icon-white\"></i></a></td><td><a href=\"javascript:void(0);\" onclick='setAlert(\"EHPL\");' title=\"Set as Alert\"><i class=\"icon-bell icon-white\"></i></a></td></tr>\n",
       "<tr class=\"decrease-row\"><td><a href=\"/CompanyDetail.aspx?symbol=ENL\" target=\"_blank\" title=\"ENL (Emerging Nepal Limited)\">ENL</a></td><td class=\"text-right\">681.00</td><td class=\"text-right\">-1.3</td><td class=\"text-right\">694.00</td><td class=\"text-right\">676.20</td><td class=\"text-right\">676.20</td><td class=\"text-right\">1,114</td><td><a href=\"javascript:void(0);\" onclick='addToWatchlist(\"ENL\");' title=\"Add to Watchlist\"><i class=\"icon-tags icon-white\"></i></a></td><td><a href=\"javascript:void(0);\" onclick='setAlert(\"ENL\");' title=\"Set as Alert\"><i class=\"icon-bell icon-white\"></i></a></td></tr>\n",
       "<tr class=\"decrease-row\"><td><a href=\"/CompanyDetail.aspx?symbol=FMDBL\" target=\"_blank\" title=\"FMDBL (First Micro Finance Laghubitta Bittiya Sanstha Limited)\">FMDBL</a></td><td class=\"text-right\">685.00</td><td class=\"text-right\">-1.31</td><td class=\"text-right\">705.00</td><td class=\"text-right\">684.00</td><td class=\"text-right\">691.00</td><td class=\"text-right\">19,342</td><td><a href=\"javascript:void(0);\" onclick='addToWatchlist(\"FMDBL\");' title=\"Add to Watchlist\"><i class=\"icon-tags icon-white\"></i></a></td><td><a href=\"javascript:void(0);\" onclick='setAlert(\"FMDBL\");' title=\"Set as Alert\"><i class=\"icon-bell icon-white\"></i></a></td></tr>\n",
       "<tr class=\"decrease-row\"><td><a href=\"/CompanyDetail.aspx?symbol=FOWAD\" target=\"_blank\" title=\"FOWAD (Forward Microfinance Laghubitta Bittiya Sanstha Ltd.)\">FOWAD</a></td><td class=\"text-right\">1,915.00</td><td class=\"text-right\">-1.14</td><td class=\"text-right\">1,934.00</td><td class=\"text-right\">1,900.00</td><td class=\"text-right\">1,902.00</td><td class=\"text-right\">3,321</td><td><a href=\"javascript:void(0);\" onclick='addToWatchlist(\"FOWAD\");' title=\"Add to Watchlist\"><i class=\"icon-tags icon-white\"></i></a></td><td><a href=\"javascript:void(0);\" onclick='setAlert(\"FOWAD\");' title=\"Set as Alert\"><i class=\"icon-bell icon-white\"></i></a></td></tr>\n",
       "<tr class=\"decrease-row\"><td><a href=\"/CompanyDetail.aspx?symbol=GBBL\" target=\"_blank\" title=\"GBBL (Garima Bikas Bank Limited)\">GBBL</a></td><td class=\"text-right\">368.20</td><td class=\"text-right\">-1.29</td><td class=\"text-right\">377.00</td><td class=\"text-right\">365.70</td><td class=\"text-right\">373.00</td><td class=\"text-right\">30,204</td><td><a href=\"javascript:void(0);\" onclick='addToWatchlist(\"GBBL\");' title=\"Add to Watchlist\"><i class=\"icon-tags icon-white\"></i></a></td><td><a href=\"javascript:void(0);\" onclick='setAlert(\"GBBL\");' title=\"Set as Alert\"><i class=\"icon-bell icon-white\"></i></a></td></tr>\n",
       "<tr class=\"decrease-row\"><td><a href=\"/CompanyDetail.aspx?symbol=GBD80/81\" target=\"_blank\" title=\"GBD80/81 (10.25% Global IME Bank Limited Debenture 2080/81)\">GBD80/81</a></td><td class=\"text-right\">953.40</td><td class=\"text-right\">-0.69</td><td class=\"text-right\">953.40</td><td class=\"text-right\">953.40</td><td class=\"text-right\">953.40</td><td class=\"text-right\">10</td><td><a href=\"javascript:void(0);\" onclick='addToWatchlist(\"GBD80/81\");' title=\"Add to Watchlist\"><i class=\"icon-tags icon-white\"></i></a></td><td><a href=\"javascript:void(0);\" onclick='setAlert(\"GBD80/81\");' title=\"Set as Alert\"><i class=\"icon-bell icon-white\"></i></a></td></tr>\n",
       "<tr class=\"nochange-row\"><td><a href=\"/CompanyDetail.aspx?symbol=GBILD86/87\" target=\"_blank\" title=\"GBILD86/87 (8.5% Global IME Bank Limited Debenture 2086/87)\">GBILD86/87</a></td><td class=\"text-right\">750.00</td><td class=\"text-right\">0</td><td class=\"text-right\">750.00</td><td class=\"text-right\">750.00</td><td class=\"text-right\">750.00</td><td class=\"text-right\">100</td><td><a href=\"javascript:void(0);\" onclick='addToWatchlist(\"GBILD86/87\");' title=\"Add to Watchlist\"><i class=\"icon-tags icon-white\"></i></a></td><td><a href=\"javascript:void(0);\" onclick='setAlert(\"GBILD86/87\");' title=\"Set as Alert\"><i class=\"icon-bell icon-white\"></i></a></td></tr>\n",
       "<tr class=\"decrease-row\"><td><a href=\"/CompanyDetail.aspx?symbol=GBLBS\" target=\"_blank\" title=\"GBLBS (Grameen Bikas Laghubitta Bittiya Sanstha Ltd.)\">GBLBS</a></td><td class=\"text-right\">636.00</td><td class=\"text-right\">-0.62</td><td class=\"text-right\">652.80</td><td class=\"text-right\">635.00</td><td class=\"text-right\">635.00</td><td class=\"text-right\">2,580</td><td><a href=\"javascript:void(0);\" onclick='addToWatchlist(\"GBLBS\");' title=\"Add to Watchlist\"><i class=\"icon-tags icon-white\"></i></a></td><td><a href=\"javascript:void(0);\" onclick='setAlert(\"GBLBS\");' title=\"Set as Alert\"><i class=\"icon-bell icon-white\"></i></a></td></tr>\n",
       "<tr class=\"decrease-row\"><td><a href=\"/CompanyDetail.aspx?symbol=GFCL\" target=\"_blank\" title=\"GFCL (Goodwill Finance Co. Ltd.)\">GFCL</a></td><td class=\"text-right\">511.80</td><td class=\"text-right\">-0.45</td><td class=\"text-right\">520.00</td><td class=\"text-right\">505.00</td><td class=\"text-right\">505.10</td><td class=\"text-right\">8,768</td><td><a href=\"javascript:void(0);\" onclick='addToWatchlist(\"GFCL\");' title=\"Add to Watchlist\"><i class=\"icon-tags icon-white\"></i></a></td><td><a href=\"javascript:void(0);\" onclick='setAlert(\"GFCL\");' title=\"Set as Alert\"><i class=\"icon-bell icon-white\"></i></a></td></tr>\n",
       "<tr class=\"decrease-row\"><td><a href=\"/CompanyDetail.aspx?symbol=GHL\" target=\"_blank\" title=\"GHL (Ghalemdi Hydro Limited)\">GHL</a></td><td class=\"text-right\">297.00</td><td class=\"text-right\">-0.34</td><td class=\"text-right\">305.00</td><td class=\"text-right\">287.00</td><td class=\"text-right\">292.10</td><td class=\"text-right\">99,212</td><td><a href=\"javascript:void(0);\" onclick='addToWatchlist(\"GHL\");' title=\"Add to Watchlist\"><i class=\"icon-tags icon-white\"></i></a></td><td><a href=\"javascript:void(0);\" onclick='setAlert(\"GHL\");' title=\"Set as Alert\"><i class=\"icon-bell icon-white\"></i></a></td></tr>\n",
       "<tr class=\"increase-row\"><td><a href=\"/CompanyDetail.aspx?symbol=GIBF1\" target=\"_blank\" title=\"GIBF1 (Global IME Balanced Fund-1)\">GIBF1</a></td><td class=\"text-right\">8.43</td><td class=\"text-right\">0.36</td><td class=\"text-right\">8.57</td><td class=\"text-right\">8.41</td><td class=\"text-right\">8.41</td><td class=\"text-right\">6,000</td><td><a href=\"javascript:void(0);\" onclick='addToWatchlist(\"GIBF1\");' title=\"Add to Watchlist\"><i class=\"icon-tags icon-white\"></i></a></td><td><a href=\"javascript:void(0);\" onclick='setAlert(\"GIBF1\");' title=\"Set as Alert\"><i class=\"icon-bell icon-white\"></i></a></td></tr>\n",
       "<tr class=\"increase-row\"><td><a href=\"/CompanyDetail.aspx?symbol=GILB\" target=\"_blank\" title=\"GILB (Global IME Laghubitta Bittiya Sanstha Ltd.)\">GILB</a></td><td class=\"text-right\">1,183.00</td><td class=\"text-right\">0.17</td><td class=\"text-right\">1,198.00</td><td class=\"text-right\">1,160.00</td><td class=\"text-right\">1,166.00</td><td class=\"text-right\">520</td><td><a href=\"javascript:void(0);\" onclick='addToWatchlist(\"GILB\");' title=\"Add to Watchlist\"><i class=\"icon-tags icon-white\"></i></a></td><td><a href=\"javascript:void(0);\" onclick='setAlert(\"GILB\");' title=\"Set as Alert\"><i class=\"icon-bell icon-white\"></i></a></td></tr>\n",
       "<tr class=\"nochange-row\"><td><a href=\"/CompanyDetail.aspx?symbol=GIMES1\" target=\"_blank\" title=\"GIMES1 (Global IME Samunnat Scheme-1)\">GIMES1</a></td><td class=\"text-right\">10.15</td><td class=\"text-right\">0</td><td class=\"text-right\">10.15</td><td class=\"text-right\">9.95</td><td class=\"text-right\">9.95</td><td class=\"text-right\">36,491</td><td><a href=\"javascript:void(0);\" onclick='addToWatchlist(\"GIMES1\");' title=\"Add to Watchlist\"><i class=\"icon-tags icon-white\"></i></a></td><td><a href=\"javascript:void(0);\" onclick='setAlert(\"GIMES1\");' title=\"Set as Alert\"><i class=\"icon-bell icon-white\"></i></a></td></tr>\n",
       "<tr class=\"increase-row\"><td><a href=\"/CompanyDetail.aspx?symbol=GLBSL\" target=\"_blank\" title=\"GLBSL (Gurans Laghubitta Bittiya Sanstha Limited)\">GLBSL</a></td><td class=\"text-right\">865.00</td><td class=\"text-right\">1.45</td><td class=\"text-right\">865.00</td><td class=\"text-right\">825.00</td><td class=\"text-right\">836.20</td><td class=\"text-right\">296</td><td><a href=\"javascript:void(0);\" onclick='addToWatchlist(\"GLBSL\");' title=\"Add to Watchlist\"><i class=\"icon-tags icon-white\"></i></a></td><td><a href=\"javascript:void(0);\" onclick='setAlert(\"GLBSL\");' title=\"Set as Alert\"><i class=\"icon-bell icon-white\"></i></a></td></tr>\n",
       "<tr class=\"decrease-row\"><td><a href=\"/CompanyDetail.aspx?symbol=GLH\" target=\"_blank\" title=\"GLH (Greenlife Hydropower Limited)\">GLH</a></td><td class=\"text-right\">337.00</td><td class=\"text-right\">-5.07</td><td class=\"text-right\">356.00</td><td class=\"text-right\">335.00</td><td class=\"text-right\">347.90</td><td class=\"text-right\">39,336</td><td><a href=\"javascript:void(0);\" onclick='addToWatchlist(\"GLH\");' title=\"Add to Watchlist\"><i class=\"icon-tags icon-white\"></i></a></td><td><a href=\"javascript:void(0);\" onclick='setAlert(\"GLH\");' title=\"Set as Alert\"><i class=\"icon-bell icon-white\"></i></a></td></tr>\n",
       "<tr class=\"decrease-row\"><td><a href=\"/CompanyDetail.aspx?symbol=GMFBS\" target=\"_blank\" title=\"GMFBS (Ganapati Microfinance Bittiya Sanstha Ltd)\">GMFBS</a></td><td class=\"text-right\">875.00</td><td class=\"text-right\">-4.68</td><td class=\"text-right\">899.70</td><td class=\"text-right\">852.20</td><td class=\"text-right\">899.70</td><td class=\"text-right\">3,225</td><td><a href=\"javascript:void(0);\" onclick='addToWatchlist(\"GMFBS\");' title=\"Add to Watchlist\"><i class=\"icon-tags icon-white\"></i></a></td><td><a href=\"javascript:void(0);\" onclick='setAlert(\"GMFBS\");' title=\"Set as Alert\"><i class=\"icon-bell icon-white\"></i></a></td></tr>\n",
       "<tr class=\"decrease-row\"><td><a href=\"/CompanyDetail.aspx?symbol=GMFIL\" target=\"_blank\" title=\"GMFIL (Guheshowori Merchant Bank &amp; Finance Co. Ltd.)\">GMFIL</a></td><td class=\"text-right\">370.00</td><td class=\"text-right\">-0.48</td><td class=\"text-right\">378.00</td><td class=\"text-right\">365.00</td><td class=\"text-right\">370.00</td><td class=\"text-right\">11,635</td><td><a href=\"javascript:void(0);\" onclick='addToWatchlist(\"GMFIL\");' title=\"Add to Watchlist\"><i class=\"icon-tags icon-white\"></i></a></td><td><a href=\"javascript:void(0);\" onclick='setAlert(\"GMFIL\");' title=\"Set as Alert\"><i class=\"icon-bell icon-white\"></i></a></td></tr>\n",
       "<tr class=\"decrease-row\"><td><a href=\"/CompanyDetail.aspx?symbol=GRDBL\" target=\"_blank\" title=\"GRDBL (Green Development Bank Ltd.)\">GRDBL</a></td><td class=\"text-right\">284.00</td><td class=\"text-right\">-0.7</td><td class=\"text-right\">295.00</td><td class=\"text-right\">280.40</td><td class=\"text-right\">280.40</td><td class=\"text-right\">4,729</td><td><a href=\"javascript:void(0);\" onclick='addToWatchlist(\"GRDBL\");' title=\"Add to Watchlist\"><i class=\"icon-tags icon-white\"></i></a></td><td><a href=\"javascript:void(0);\" onclick='setAlert(\"GRDBL\");' title=\"Set as Alert\"><i class=\"icon-bell icon-white\"></i></a></td></tr>\n",
       "<tr class=\"decrease-row\"><td><a href=\"/CompanyDetail.aspx?symbol=GUFL\" target=\"_blank\" title=\"GUFL (Gurkhas Finance Ltd.)\">GUFL</a></td><td class=\"text-right\">583.00</td><td class=\"text-right\">-2.83</td><td class=\"text-right\">598.00</td><td class=\"text-right\">581.00</td><td class=\"text-right\">588.80</td><td class=\"text-right\">34,963</td><td><a href=\"javascript:void(0);\" onclick='addToWatchlist(\"GUFL\");' title=\"Add to Watchlist\"><i class=\"icon-tags icon-white\"></i></a></td><td><a href=\"javascript:void(0);\" onclick='setAlert(\"GUFL\");' title=\"Set as Alert\"><i class=\"icon-bell icon-white\"></i></a></td></tr>\n",
       "<tr class=\"decrease-row\"><td><a href=\"/CompanyDetail.aspx?symbol=GVL\" target=\"_blank\" title=\"GVL (Green Ventures Limited)\">GVL</a></td><td class=\"text-right\">467.00</td><td class=\"text-right\">-4.3</td><td class=\"text-right\">488.00</td><td class=\"text-right\">459.50</td><td class=\"text-right\">488.00</td><td class=\"text-right\">65,442</td><td><a href=\"javascript:void(0);\" onclick='addToWatchlist(\"GVL\");' title=\"Add to Watchlist\"><i class=\"icon-tags icon-white\"></i></a></td><td><a href=\"javascript:void(0);\" onclick='setAlert(\"GVL\");' title=\"Set as Alert\"><i class=\"icon-bell icon-white\"></i></a></td></tr>\n",
       "<tr class=\"decrease-row\"><td><a href=\"/CompanyDetail.aspx?symbol=HBL\" target=\"_blank\" title=\"HBL (Himalayan Bank Limited)\">HBL</a></td><td class=\"text-right\">306.00</td><td class=\"text-right\">-0.65</td><td class=\"text-right\">310.00</td><td class=\"text-right\">303.10</td><td class=\"text-right\">304.00</td><td class=\"text-right\">12,986</td><td><a href=\"javascript:void(0);\" onclick='addToWatchlist(\"HBL\");' title=\"Add to Watchlist\"><i class=\"icon-tags icon-white\"></i></a></td><td><a href=\"javascript:void(0);\" onclick='setAlert(\"HBL\");' title=\"Set as Alert\"><i class=\"icon-bell icon-white\"></i></a></td></tr>\n",
       "<tr class=\"decrease-row\"><td><a href=\"/CompanyDetail.aspx?symbol=HDHPC\" target=\"_blank\" title=\"HDHPC (Himal Dolakha Hydropower Company Limited)\">HDHPC</a></td><td class=\"text-right\">248.00</td><td class=\"text-right\">-2.36</td><td class=\"text-right\">255.30</td><td class=\"text-right\">245.20</td><td class=\"text-right\">254.00</td><td class=\"text-right\">261,267</td><td><a href=\"javascript:void(0);\" onclick='addToWatchlist(\"HDHPC\");' title=\"Add to Watchlist\"><i class=\"icon-tags icon-white\"></i></a></td><td><a href=\"javascript:void(0);\" onclick='setAlert(\"HDHPC\");' title=\"Set as Alert\"><i class=\"icon-bell icon-white\"></i></a></td></tr>\n",
       "<tr class=\"decrease-row\"><td><a href=\"/CompanyDetail.aspx?symbol=HDL\" target=\"_blank\" title=\"HDL (Himalayan Distillery Limited)\">HDL</a></td><td class=\"text-right\">2,648.00</td><td class=\"text-right\">-1.01</td><td class=\"text-right\">2,693.00</td><td class=\"text-right\">2,615.00</td><td class=\"text-right\">2,660.00</td><td class=\"text-right\">16,072</td><td><a href=\"javascript:void(0);\" onclick='addToWatchlist(\"HDL\");' title=\"Add to Watchlist\"><i class=\"icon-tags icon-white\"></i></a></td><td><a href=\"javascript:void(0);\" onclick='setAlert(\"HDL\");' title=\"Set as Alert\"><i class=\"icon-bell icon-white\"></i></a></td></tr>\n",
       "<tr class=\"decrease-row\"><td><a href=\"/CompanyDetail.aspx?symbol=HEI\" target=\"_blank\" title=\"HEI (Himalayan Everest Insurance Limited)\">HEI</a></td><td class=\"text-right\">460.00</td><td class=\"text-right\">-2.11</td><td class=\"text-right\">476.90</td><td class=\"text-right\">460.00</td><td class=\"text-right\">461.00</td><td class=\"text-right\">49,437</td><td><a href=\"javascript:void(0);\" onclick='addToWatchlist(\"HEI\");' title=\"Add to Watchlist\"><i class=\"icon-tags icon-white\"></i></a></td><td><a href=\"javascript:void(0);\" onclick='setAlert(\"HEI\");' title=\"Set as Alert\"><i class=\"icon-bell icon-white\"></i></a></td></tr>\n",
       "<tr class=\"decrease-row\"><td><a href=\"/CompanyDetail.aspx?symbol=HEIP\" target=\"_blank\" title=\"HEIP (Himalayan Everest Insurance Limited Promoter)\">HEIP</a></td><td class=\"text-right\">319.00</td><td class=\"text-right\">-3.3</td><td class=\"text-right\">326.00</td><td class=\"text-right\">310.70</td><td class=\"text-right\">323.40</td><td class=\"text-right\">10,230</td><td><a href=\"javascript:void(0);\" onclick='addToWatchlist(\"HEIP\");' title=\"Add to Watchlist\"><i class=\"icon-tags icon-white\"></i></a></td><td><a href=\"javascript:void(0);\" onclick='setAlert(\"HEIP\");' title=\"Set as Alert\"><i class=\"icon-bell icon-white\"></i></a></td></tr>\n",
       "<tr class=\"decrease-row\"><td><a href=\"/CompanyDetail.aspx?symbol=HHL\" target=\"_blank\" title=\"HHL (Himalayan Hydropower Limited)\">HHL</a></td><td class=\"text-right\">307.00</td><td class=\"text-right\">-0.03</td><td class=\"text-right\">311.00</td><td class=\"text-right\">295.00</td><td class=\"text-right\">308.00</td><td class=\"text-right\">37,312</td><td><a href=\"javascript:void(0);\" onclick='addToWatchlist(\"HHL\");' title=\"Add to Watchlist\"><i class=\"icon-tags icon-white\"></i></a></td><td><a href=\"javascript:void(0);\" onclick='setAlert(\"HHL\");' title=\"Set as Alert\"><i class=\"icon-bell icon-white\"></i></a></td></tr>\n",
       "<tr class=\"decrease-row\"><td><a href=\"/CompanyDetail.aspx?symbol=HIDCL\" target=\"_blank\" title=\"HIDCL (Hydorelectricity Investment and Development Company Ltd)\">HIDCL</a></td><td class=\"text-right\">209.00</td><td class=\"text-right\">-1.42</td><td class=\"text-right\">215.00</td><td class=\"text-right\">208.00</td><td class=\"text-right\">212.00</td><td class=\"text-right\">151,096</td><td><a href=\"javascript:void(0);\" onclick='addToWatchlist(\"HIDCL\");' title=\"Add to Watchlist\"><i class=\"icon-tags icon-white\"></i></a></td><td><a href=\"javascript:void(0);\" onclick='setAlert(\"HIDCL\");' title=\"Set as Alert\"><i class=\"icon-bell icon-white\"></i></a></td></tr>\n",
       "<tr class=\"decrease-row\"><td><a href=\"/CompanyDetail.aspx?symbol=HIDCLP\" target=\"_blank\" title=\"HIDCLP (Hydroelectricity Investment and Development Company Limited Promoter Share)\">HIDCLP</a></td><td class=\"text-right\">108.00</td><td class=\"text-right\">-6.09</td><td class=\"text-right\">114.00</td><td class=\"text-right\">106.20</td><td class=\"text-right\">112.70</td><td class=\"text-right\">508,443</td><td><a href=\"javascript:void(0);\" onclick='addToWatchlist(\"HIDCLP\");' title=\"Add to Watchlist\"><i class=\"icon-tags icon-white\"></i></a></td><td><a href=\"javascript:void(0);\" onclick='setAlert(\"HIDCLP\");' title=\"Set as Alert\"><i class=\"icon-bell icon-white\"></i></a></td></tr>\n",
       "<tr class=\"decrease-row\"><td><a href=\"/CompanyDetail.aspx?symbol=HPPL\" target=\"_blank\" title=\"HPPL (Himalayan Power Partner Ltd.)\">HPPL</a></td><td class=\"text-right\">348.00</td><td class=\"text-right\">-1.14</td><td class=\"text-right\">361.00</td><td class=\"text-right\">344.00</td><td class=\"text-right\">359.00</td><td class=\"text-right\">61,460</td><td><a href=\"javascript:void(0);\" onclick='addToWatchlist(\"HPPL\");' title=\"Add to Watchlist\"><i class=\"icon-tags icon-white\"></i></a></td><td><a href=\"javascript:void(0);\" onclick='setAlert(\"HPPL\");' title=\"Set as Alert\"><i class=\"icon-bell icon-white\"></i></a></td></tr>\n",
       "<tr class=\"nochange-row\"><td><a href=\"/CompanyDetail.aspx?symbol=HURJA\" target=\"_blank\" title=\"HURJA (Himalaya Urja Bikas Company Limited)\">HURJA</a></td><td class=\"text-right\">410.00</td><td class=\"text-right\">0</td><td class=\"text-right\">443.40</td><td class=\"text-right\">406.00</td><td class=\"text-right\">418.00</td><td class=\"text-right\">221,609</td><td><a href=\"javascript:void(0);\" onclick='addToWatchlist(\"HURJA\");' title=\"Add to Watchlist\"><i class=\"icon-tags icon-white\"></i></a></td><td><a href=\"javascript:void(0);\" onclick='setAlert(\"HURJA\");' title=\"Set as Alert\"><i class=\"icon-bell icon-white\"></i></a></td></tr>\n",
       "<tr class=\"decrease-row\"><td><a href=\"/CompanyDetail.aspx?symbol=ICFC\" target=\"_blank\" title=\"ICFC (ICFC Finance Limited)\">ICFC</a></td><td class=\"text-right\">479.80</td><td class=\"text-right\">-1.28</td><td class=\"text-right\">488.00</td><td class=\"text-right\">471.00</td><td class=\"text-right\">483.00</td><td class=\"text-right\">28,819</td><td><a href=\"javascript:void(0);\" onclick='addToWatchlist(\"ICFC\");' title=\"Add to Watchlist\"><i class=\"icon-tags icon-white\"></i></a></td><td><a href=\"javascript:void(0);\" onclick='setAlert(\"ICFC\");' title=\"Set as Alert\"><i class=\"icon-bell icon-white\"></i></a></td></tr>\n",
       "<tr class=\"increase-row\"><td><a href=\"/CompanyDetail.aspx?symbol=IGI\" target=\"_blank\" title=\"IGI (IME General Insurance Ltd.)\">IGI</a></td><td class=\"text-right\">516.00</td><td class=\"text-right\">6.39</td><td class=\"text-right\">525.90</td><td class=\"text-right\">480.00</td><td class=\"text-right\">480.00</td><td class=\"text-right\">198,658</td><td><a href=\"javascript:void(0);\" onclick='addToWatchlist(\"IGI\");' title=\"Add to Watchlist\"><i class=\"icon-tags icon-white\"></i></a></td><td><a href=\"javascript:void(0);\" onclick='setAlert(\"IGI\");' title=\"Set as Alert\"><i class=\"icon-bell icon-white\"></i></a></td></tr>\n",
       "<tr class=\"decrease-row\"><td><a href=\"/CompanyDetail.aspx?symbol=ILBS\" target=\"_blank\" title=\"ILBS (Infinity Laghubitta Bittiya Sanstha Limited)\">ILBS</a></td><td class=\"text-right\">1,005.00</td><td class=\"text-right\">-1.08</td><td class=\"text-right\">1,014.00</td><td class=\"text-right\">995.70</td><td class=\"text-right\">996.00</td><td class=\"text-right\">1,285</td><td><a href=\"javascript:void(0);\" onclick='addToWatchlist(\"ILBS\");' title=\"Add to Watchlist\"><i class=\"icon-tags icon-white\"></i></a></td><td><a href=\"javascript:void(0);\" onclick='setAlert(\"ILBS\");' title=\"Set as Alert\"><i class=\"icon-bell icon-white\"></i></a></td></tr>\n",
       "<tr class=\"increase-row\"><td><a href=\"/CompanyDetail.aspx?symbol=JALPA\" target=\"_blank\" title=\"JALPA (Jalpa Samudayik Laghubitta Bittiya Sanstha Limited)\">JALPA</a></td><td class=\"text-right\">3,435.00</td><td class=\"text-right\">0.82</td><td class=\"text-right\">3,462.00</td><td class=\"text-right\">3,393.00</td><td class=\"text-right\">3,420.00</td><td class=\"text-right\">1,642</td><td><a href=\"javascript:void(0);\" onclick='addToWatchlist(\"JALPA\");' title=\"Add to Watchlist\"><i class=\"icon-tags icon-white\"></i></a></td><td><a href=\"javascript:void(0);\" onclick='setAlert(\"JALPA\");' title=\"Set as Alert\"><i class=\"icon-bell icon-white\"></i></a></td></tr>\n",
       "<tr class=\"decrease-row\"><td><a href=\"/CompanyDetail.aspx?symbol=JBBL\" target=\"_blank\" title=\"JBBL (Jyoti Bikas Bank Limited)\">JBBL</a></td><td class=\"text-right\">304.20</td><td class=\"text-right\">-1.87</td><td class=\"text-right\">311.00</td><td class=\"text-right\">304.00</td><td class=\"text-right\">305.40</td><td class=\"text-right\">43,287</td><td><a href=\"javascript:void(0);\" onclick='addToWatchlist(\"JBBL\");' title=\"Add to Watchlist\"><i class=\"icon-tags icon-white\"></i></a></td><td><a href=\"javascript:void(0);\" onclick='setAlert(\"JBBL\");' title=\"Set as Alert\"><i class=\"icon-bell icon-white\"></i></a></td></tr>\n",
       "<tr class=\"increase-row\"><td><a href=\"/CompanyDetail.aspx?symbol=JBLB\" target=\"_blank\" title=\"JBLB (Jeevan Bikas Laghubitta Bittiya Sanstha Limited)\">JBLB</a></td><td class=\"text-right\">2,850.00</td><td class=\"text-right\">0.18</td><td class=\"text-right\">2,875.00</td><td class=\"text-right\">2,845.00</td><td class=\"text-right\">2,846.00</td><td class=\"text-right\">5,044</td><td><a href=\"javascript:void(0);\" onclick='addToWatchlist(\"JBLB\");' title=\"Add to Watchlist\"><i class=\"icon-tags icon-white\"></i></a></td><td><a href=\"javascript:void(0);\" onclick='setAlert(\"JBLB\");' title=\"Set as Alert\"><i class=\"icon-bell icon-white\"></i></a></td></tr>\n",
       "<tr class=\"decrease-row\"><td><a href=\"/CompanyDetail.aspx?symbol=JFL\" target=\"_blank\" title=\"JFL (Janaki Finance Ltd.)\">JFL</a></td><td class=\"text-right\">416.70</td><td class=\"text-right\">-2.39</td><td class=\"text-right\">429.00</td><td class=\"text-right\">416.10</td><td class=\"text-right\">419.00</td><td class=\"text-right\">9,595</td><td><a href=\"javascript:void(0);\" onclick='addToWatchlist(\"JFL\");' title=\"Add to Watchlist\"><i class=\"icon-tags icon-white\"></i></a></td><td><a href=\"javascript:void(0);\" onclick='setAlert(\"JFL\");' title=\"Set as Alert\"><i class=\"icon-bell icon-white\"></i></a></td></tr>\n",
       "<tr class=\"increase-row\"><td><a href=\"/CompanyDetail.aspx?symbol=JOSHI\" target=\"_blank\" title=\"JOSHI (Joshi Hydropower Development Company Ltd)\">JOSHI</a></td><td class=\"text-right\">263.90</td><td class=\"text-right\">4.31</td><td class=\"text-right\">272.00</td><td class=\"text-right\">248.00</td><td class=\"text-right\">250.00</td><td class=\"text-right\">122,581</td><td><a href=\"javascript:void(0);\" onclick='addToWatchlist(\"JOSHI\");' title=\"Add to Watchlist\"><i class=\"icon-tags icon-white\"></i></a></td><td><a href=\"javascript:void(0);\" onclick='setAlert(\"JOSHI\");' title=\"Set as Alert\"><i class=\"icon-bell icon-white\"></i></a></td></tr>\n",
       "<tr class=\"decrease-row\"><td><a href=\"/CompanyDetail.aspx?symbol=JSLBB\" target=\"_blank\" title=\"JSLBB (Janautthan Samudayic Laghubitta Bittiya Sanstha Limited)\">JSLBB</a></td><td class=\"text-right\">1,616.00</td><td class=\"text-right\">-1.82</td><td class=\"text-right\">1,670.00</td><td class=\"text-right\">1,581.80</td><td class=\"text-right\">1,614.00</td><td class=\"text-right\">1,051</td><td><a href=\"javascript:void(0);\" onclick='addToWatchlist(\"JSLBB\");' title=\"Add to Watchlist\"><i class=\"icon-tags icon-white\"></i></a></td><td><a href=\"javascript:void(0);\" onclick='setAlert(\"JSLBB\");' title=\"Set as Alert\"><i class=\"icon-bell icon-white\"></i></a></td></tr>\n",
       "<tr class=\"decrease-row\"><td><a href=\"/CompanyDetail.aspx?symbol=KBL\" target=\"_blank\" title=\"KBL (Kumari Bank Limited)\">KBL</a></td><td class=\"text-right\">195.00</td><td class=\"text-right\">-1.07</td><td class=\"text-right\">199.00</td><td class=\"text-right\">194.00</td><td class=\"text-right\">197.00</td><td class=\"text-right\">172,680</td><td><a href=\"javascript:void(0);\" onclick='addToWatchlist(\"KBL\");' title=\"Add to Watchlist\"><i class=\"icon-tags icon-white\"></i></a></td><td><a href=\"javascript:void(0);\" onclick='setAlert(\"KBL\");' title=\"Set as Alert\"><i class=\"icon-bell icon-white\"></i></a></td></tr>\n",
       "<tr class=\"decrease-row\"><td><a href=\"/CompanyDetail.aspx?symbol=KBLD86\" target=\"_blank\" title=\"KBLD86 (10.25% Kumari Bank Debenture 2086)\">KBLD86</a></td><td class=\"text-right\">864.40</td><td class=\"text-right\">-3.96</td><td class=\"text-right\">882.00</td><td class=\"text-right\">864.40</td><td class=\"text-right\">882.00</td><td class=\"text-right\">200</td><td><a href=\"javascript:void(0);\" onclick='addToWatchlist(\"KBLD86\");' title=\"Add to Watchlist\"><i class=\"icon-tags icon-white\"></i></a></td><td><a href=\"javascript:void(0);\" onclick='setAlert(\"KBLD86\");' title=\"Set as Alert\"><i class=\"icon-bell icon-white\"></i></a></td></tr>\n",
       "<tr class=\"increase-row\"><td><a href=\"/CompanyDetail.aspx?symbol=KDBY\" target=\"_blank\" title=\"KDBY (Kumari Dhanabriddhi Yojana)\">KDBY</a></td><td class=\"text-right\">8.78</td><td class=\"text-right\">1.15</td><td class=\"text-right\">8.89</td><td class=\"text-right\">8.51</td><td class=\"text-right\">8.51</td><td class=\"text-right\">5,700</td><td><a href=\"javascript:void(0);\" onclick='addToWatchlist(\"KDBY\");' title=\"Add to Watchlist\"><i class=\"icon-tags icon-white\"></i></a></td><td><a href=\"javascript:void(0);\" onclick='setAlert(\"KDBY\");' title=\"Set as Alert\"><i class=\"icon-bell icon-white\"></i></a></td></tr>\n",
       "<tr class=\"nochange-row\"><td><a href=\"/CompanyDetail.aspx?symbol=KEF\" target=\"_blank\" title=\"KEF (Kumari Equity Fund)\">KEF</a></td><td class=\"text-right\">9.00</td><td class=\"text-right\">0</td><td class=\"text-right\">9.10</td><td class=\"text-right\">8.71</td><td class=\"text-right\">8.82</td><td class=\"text-right\">17,501</td><td><a href=\"javascript:void(0);\" onclick='addToWatchlist(\"KEF\");' title=\"Add to Watchlist\"><i class=\"icon-tags icon-white\"></i></a></td><td><a href=\"javascript:void(0);\" onclick='setAlert(\"KEF\");' title=\"Set as Alert\"><i class=\"icon-bell icon-white\"></i></a></td></tr>\n",
       "<tr class=\"decrease-row\"><td><a href=\"/CompanyDetail.aspx?symbol=KKHC\" target=\"_blank\" title=\"KKHC (Khanikhola Hydropower Co. Ltd.)\">KKHC</a></td><td class=\"text-right\">257.00</td><td class=\"text-right\">-1.91</td><td class=\"text-right\">264.10</td><td class=\"text-right\">253.90</td><td class=\"text-right\">262.00</td><td class=\"text-right\">15,345</td><td><a href=\"javascript:void(0);\" onclick='addToWatchlist(\"KKHC\");' title=\"Add to Watchlist\"><i class=\"icon-tags icon-white\"></i></a></td><td><a href=\"javascript:void(0);\" onclick='setAlert(\"KKHC\");' title=\"Set as Alert\"><i class=\"icon-bell icon-white\"></i></a></td></tr>\n",
       "<tr class=\"decrease-row\"><td><a href=\"/CompanyDetail.aspx?symbol=KLBS\" target=\"_blank\" title=\"KLBS (Khaptad Laghubitta Bittiya Sanstha Limited)\">KLBS</a></td><td class=\"text-right\">1,384.00</td><td class=\"text-right\">-0.44</td><td class=\"text-right\">1,397.00</td><td class=\"text-right\">1,370.00</td><td class=\"text-right\">1,370.20</td><td class=\"text-right\">950</td><td><a href=\"javascript:void(0);\" onclick='addToWatchlist(\"KLBS\");' title=\"Add to Watchlist\"><i class=\"icon-tags icon-white\"></i></a></td><td><a href=\"javascript:void(0);\" onclick='setAlert(\"KLBS\");' title=\"Set as Alert\"><i class=\"icon-bell icon-white\"></i></a></td></tr>\n",
       "<tr class=\"nochange-row\"><td><a href=\"/CompanyDetail.aspx?symbol=KLBSL\" target=\"_blank\" title=\"KLBSL (Kisan Lagubitta Bittiya Sanstha Limited)\">KLBSL</a></td><td class=\"text-right\">862.00</td><td class=\"text-right\">0</td><td class=\"text-right\">877.00</td><td class=\"text-right\">862.00</td><td class=\"text-right\">865.00</td><td class=\"text-right\">128</td><td><a href=\"javascript:void(0);\" onclick='addToWatchlist(\"KLBSL\");' title=\"Add to Watchlist\"><i class=\"icon-tags icon-white\"></i></a></td><td><a href=\"javascript:void(0);\" onclick='setAlert(\"KLBSL\");' title=\"Set as Alert\"><i class=\"icon-bell icon-white\"></i></a></td></tr>\n",
       "<tr class=\"decrease-row\"><td><a href=\"/CompanyDetail.aspx?symbol=KMCDB\" target=\"_blank\" title=\"KMCDB (Kalika Laghubitta Bittiya Sanstha Limited)\">KMCDB</a></td><td class=\"text-right\">1,020.00</td><td class=\"text-right\">-3.23</td><td class=\"text-right\">1,050.00</td><td class=\"text-right\">1,015.00</td><td class=\"text-right\">1,050.00</td><td class=\"text-right\">1,489</td><td><a href=\"javascript:void(0);\" onclick='addToWatchlist(\"KMCDB\");' title=\"Add to Watchlist\"><i class=\"icon-tags icon-white\"></i></a></td><td><a href=\"javascript:void(0);\" onclick='setAlert(\"KMCDB\");' title=\"Set as Alert\"><i class=\"icon-bell icon-white\"></i></a></td></tr>\n",
       "<tr class=\"decrease-row\"><td><a href=\"/CompanyDetail.aspx?symbol=KPCL\" target=\"_blank\" title=\"KPCL (Kalika power Company Ltd)\">KPCL</a></td><td class=\"text-right\">392.00</td><td class=\"text-right\">-1.75</td><td class=\"text-right\">402.00</td><td class=\"text-right\">390.00</td><td class=\"text-right\">400.00</td><td class=\"text-right\">4,457</td><td><a href=\"javascript:void(0);\" onclick='addToWatchlist(\"KPCL\");' title=\"Add to Watchlist\"><i class=\"icon-tags icon-white\"></i></a></td><td><a href=\"javascript:void(0);\" onclick='setAlert(\"KPCL\");' title=\"Set as Alert\"><i class=\"icon-bell icon-white\"></i></a></td></tr>\n",
       "<tr class=\"decrease-row\"><td><a href=\"/CompanyDetail.aspx?symbol=KRBL\" target=\"_blank\" title=\"KRBL (Karnali Development Bank Limited)\">KRBL</a></td><td class=\"text-right\">299.00</td><td class=\"text-right\">-2.86</td><td class=\"text-right\">304.50</td><td class=\"text-right\">298.00</td><td class=\"text-right\">301.70</td><td class=\"text-right\">13,271</td><td><a href=\"javascript:void(0);\" onclick='addToWatchlist(\"KRBL\");' title=\"Add to Watchlist\"><i class=\"icon-tags icon-white\"></i></a></td><td><a href=\"javascript:void(0);\" onclick='setAlert(\"KRBL\");' title=\"Set as Alert\"><i class=\"icon-bell icon-white\"></i></a></td></tr>\n",
       "<tr class=\"decrease-row\"><td><a href=\"/CompanyDetail.aspx?symbol=KSBBL\" target=\"_blank\" title=\"KSBBL (Kamana Sewa Bikas Bank Limited)\">KSBBL</a></td><td class=\"text-right\">335.30</td><td class=\"text-right\">-1.09</td><td class=\"text-right\">345.00</td><td class=\"text-right\">333.00</td><td class=\"text-right\">338.00</td><td class=\"text-right\">40,166</td><td><a href=\"javascript:void(0);\" onclick='addToWatchlist(\"KSBBL\");' title=\"Add to Watchlist\"><i class=\"icon-tags icon-white\"></i></a></td><td><a href=\"javascript:void(0);\" onclick='setAlert(\"KSBBL\");' title=\"Set as Alert\"><i class=\"icon-bell icon-white\"></i></a></td></tr>\n",
       "<tr class=\"decrease-row\"><td><a href=\"/CompanyDetail.aspx?symbol=LBBL\" target=\"_blank\" title=\"LBBL (Lumbini Bikas Bank Ltd.)\">LBBL</a></td><td class=\"text-right\">366.20</td><td class=\"text-right\">-2.84</td><td class=\"text-right\">384.40</td><td class=\"text-right\">366.00</td><td class=\"text-right\">384.40</td><td class=\"text-right\">32,567</td><td><a href=\"javascript:void(0);\" onclick='addToWatchlist(\"LBBL\");' title=\"Add to Watchlist\"><i class=\"icon-tags icon-white\"></i></a></td><td><a href=\"javascript:void(0);\" onclick='setAlert(\"LBBL\");' title=\"Set as Alert\"><i class=\"icon-bell icon-white\"></i></a></td></tr>\n",
       "<tr class=\"decrease-row\"><td><a href=\"/CompanyDetail.aspx?symbol=LBL\" target=\"_blank\" title=\"LBL (Laxmi Bank Limited)\">LBL</a></td><td class=\"text-right\">199.30</td><td class=\"text-right\">-0.25</td><td class=\"text-right\">202.00</td><td class=\"text-right\">198.60</td><td class=\"text-right\">200.00</td><td class=\"text-right\">24,005</td><td><a href=\"javascript:void(0);\" onclick='addToWatchlist(\"LBL\");' title=\"Add to Watchlist\"><i class=\"icon-tags icon-white\"></i></a></td><td><a href=\"javascript:void(0);\" onclick='setAlert(\"LBL\");' title=\"Set as Alert\"><i class=\"icon-bell icon-white\"></i></a></td></tr>\n",
       "<tr class=\"decrease-row\"><td><a href=\"/CompanyDetail.aspx?symbol=LEC\" target=\"_blank\" title=\"LEC (Liberty Energy Company Limited)\">LEC</a></td><td class=\"text-right\">296.00</td><td class=\"text-right\">-2.92</td><td class=\"text-right\">303.00</td><td class=\"text-right\">290.00</td><td class=\"text-right\">300.00</td><td class=\"text-right\">28,402</td><td><a href=\"javascript:void(0);\" onclick='addToWatchlist(\"LEC\");' title=\"Add to Watchlist\"><i class=\"icon-tags icon-white\"></i></a></td><td><a href=\"javascript:void(0);\" onclick='setAlert(\"LEC\");' title=\"Set as Alert\"><i class=\"icon-bell icon-white\"></i></a></td></tr>\n",
       "<tr class=\"increase-row\"><td><a href=\"/CompanyDetail.aspx?symbol=LEMF\" target=\"_blank\" title=\"LEMF (Laxmi Equity Fund)\">LEMF</a></td><td class=\"text-right\">9.60</td><td class=\"text-right\">1.05</td><td class=\"text-right\">9.60</td><td class=\"text-right\">9.42</td><td class=\"text-right\">9.50</td><td class=\"text-right\">42,650</td><td><a href=\"javascript:void(0);\" onclick='addToWatchlist(\"LEMF\");' title=\"Add to Watchlist\"><i class=\"icon-tags icon-white\"></i></a></td><td><a href=\"javascript:void(0);\" onclick='setAlert(\"LEMF\");' title=\"Set as Alert\"><i class=\"icon-bell icon-white\"></i></a></td></tr>\n",
       "<tr class=\"increase-row\"><td><a href=\"/CompanyDetail.aspx?symbol=LGIL\" target=\"_blank\" title=\"LGIL (Lumbini General Insurance Co. Ltd.)\">LGIL</a></td><td class=\"text-right\">462.20</td><td class=\"text-right\">10</td><td class=\"text-right\">462.20</td><td class=\"text-right\">428.60</td><td class=\"text-right\">428.60</td><td class=\"text-right\">907</td><td><a href=\"javascript:void(0);\" onclick='addToWatchlist(\"LGIL\");' title=\"Add to Watchlist\"><i class=\"icon-tags icon-white\"></i></a></td><td><a href=\"javascript:void(0);\" onclick='setAlert(\"LGIL\");' title=\"Set as Alert\"><i class=\"icon-bell icon-white\"></i></a></td></tr>\n",
       "<tr class=\"decrease-row\"><td><a href=\"/CompanyDetail.aspx?symbol=LICN\" target=\"_blank\" title=\"LICN (Life Insurance Co. Nepal)\">LICN</a></td><td class=\"text-right\">1,539.30</td><td class=\"text-right\">-0.63</td><td class=\"text-right\">1,574.90</td><td class=\"text-right\">1,519.00</td><td class=\"text-right\">1,574.90</td><td class=\"text-right\">10,343</td><td><a href=\"javascript:void(0);\" onclick='addToWatchlist(\"LICN\");' title=\"Add to Watchlist\"><i class=\"icon-tags icon-white\"></i></a></td><td><a href=\"javascript:void(0);\" onclick='setAlert(\"LICN\");' title=\"Set as Alert\"><i class=\"icon-bell icon-white\"></i></a></td></tr>\n",
       "<tr class=\"increase-row\"><td><a href=\"/CompanyDetail.aspx?symbol=LLBS\" target=\"_blank\" title=\"LLBS (Laxmi Laghubitta Bittiya Sanstha Ltd.)\">LLBS</a></td><td class=\"text-right\">1,171.00</td><td class=\"text-right\">1.12</td><td class=\"text-right\">1,179.00</td><td class=\"text-right\">1,135.20</td><td class=\"text-right\">1,135.20</td><td class=\"text-right\">1,030</td><td><a href=\"javascript:void(0);\" onclick='addToWatchlist(\"LLBS\");' title=\"Add to Watchlist\"><i class=\"icon-tags icon-white\"></i></a></td><td><a href=\"javascript:void(0);\" onclick='setAlert(\"LLBS\");' title=\"Set as Alert\"><i class=\"icon-bell icon-white\"></i></a></td></tr>\n",
       "<tr class=\"decrease-row\"><td><a href=\"/CompanyDetail.aspx?symbol=LUK\" target=\"_blank\" title=\"LUK (Laxmi unnati Kosh)\">LUK</a></td><td class=\"text-right\">8.72</td><td class=\"text-right\">-1.8</td><td class=\"text-right\">8.73</td><td class=\"text-right\">8.72</td><td class=\"text-right\">8.73</td><td class=\"text-right\">12,110</td><td><a href=\"javascript:void(0);\" onclick='addToWatchlist(\"LUK\");' title=\"Add to Watchlist\"><i class=\"icon-tags icon-white\"></i></a></td><td><a href=\"javascript:void(0);\" onclick='setAlert(\"LUK\");' title=\"Set as Alert\"><i class=\"icon-bell icon-white\"></i></a></td></tr>\n",
       "<tr class=\"increase-row\"><td><a href=\"/CompanyDetail.aspx?symbol=MBJC\" target=\"_blank\" title=\"MBJC (Madhya Bhotekoshi Jalavidyut Company Limited)\">MBJC</a></td><td class=\"text-right\">326.00</td><td class=\"text-right\">0.62</td><td class=\"text-right\">332.00</td><td class=\"text-right\">315.10</td><td class=\"text-right\">320.00</td><td class=\"text-right\">56,892</td><td><a href=\"javascript:void(0);\" onclick='addToWatchlist(\"MBJC\");' title=\"Add to Watchlist\"><i class=\"icon-tags icon-white\"></i></a></td><td><a href=\"javascript:void(0);\" onclick='setAlert(\"MBJC\");' title=\"Set as Alert\"><i class=\"icon-bell icon-white\"></i></a></td></tr>\n",
       "<tr class=\"decrease-row\"><td><a href=\"/CompanyDetail.aspx?symbol=MBL\" target=\"_blank\" title=\"MBL (Machhapuchchhre Bank Limited)\">MBL</a></td><td class=\"text-right\">243.00</td><td class=\"text-right\">-0.82</td><td class=\"text-right\">249.00</td><td class=\"text-right\">242.00</td><td class=\"text-right\">249.00</td><td class=\"text-right\">19,087</td><td><a href=\"javascript:void(0);\" onclick='addToWatchlist(\"MBL\");' title=\"Add to Watchlist\"><i class=\"icon-tags icon-white\"></i></a></td><td><a href=\"javascript:void(0);\" onclick='setAlert(\"MBL\");' title=\"Set as Alert\"><i class=\"icon-bell icon-white\"></i></a></td></tr>\n",
       "<tr class=\"decrease-row\"><td><a href=\"/CompanyDetail.aspx?symbol=MDB\" target=\"_blank\" title=\"MDB (Miteri Development Bank Limited)\">MDB</a></td><td class=\"text-right\">395.00</td><td class=\"text-right\">-2.47</td><td class=\"text-right\">413.00</td><td class=\"text-right\">395.00</td><td class=\"text-right\">409.90</td><td class=\"text-right\">10,292</td><td><a href=\"javascript:void(0);\" onclick='addToWatchlist(\"MDB\");' title=\"Add to Watchlist\"><i class=\"icon-tags icon-white\"></i></a></td><td><a href=\"javascript:void(0);\" onclick='setAlert(\"MDB\");' title=\"Set as Alert\"><i class=\"icon-bell icon-white\"></i></a></td></tr>\n",
       "<tr class=\"decrease-row\"><td><a href=\"/CompanyDetail.aspx?symbol=MEN\" target=\"_blank\" title=\"MEN (Mountain Energy Nepal Limited)\">MEN</a></td><td class=\"text-right\">812.00</td><td class=\"text-right\">-0.98</td><td class=\"text-right\">825.00</td><td class=\"text-right\">787.60</td><td class=\"text-right\">803.60</td><td class=\"text-right\">1,393</td><td><a href=\"javascript:void(0);\" onclick='addToWatchlist(\"MEN\");' title=\"Add to Watchlist\"><i class=\"icon-tags icon-white\"></i></a></td><td><a href=\"javascript:void(0);\" onclick='setAlert(\"MEN\");' title=\"Set as Alert\"><i class=\"icon-bell icon-white\"></i></a></td></tr>\n",
       "<tr class=\"decrease-row\"><td><a href=\"/CompanyDetail.aspx?symbol=MERO\" target=\"_blank\" title=\"MERO (Meromicrofinance Laghubitta Bittiya Sanstha Ltd.)\">MERO</a></td><td class=\"text-right\">772.50</td><td class=\"text-right\">-1.47</td><td class=\"text-right\">779.00</td><td class=\"text-right\">757.20</td><td class=\"text-right\">769.00</td><td class=\"text-right\">1,661</td><td><a href=\"javascript:void(0);\" onclick='addToWatchlist(\"MERO\");' title=\"Add to Watchlist\"><i class=\"icon-tags icon-white\"></i></a></td><td><a href=\"javascript:void(0);\" onclick='setAlert(\"MERO\");' title=\"Set as Alert\"><i class=\"icon-bell icon-white\"></i></a></td></tr>\n",
       "<tr class=\"decrease-row\"><td><a href=\"/CompanyDetail.aspx?symbol=MFIL\" target=\"_blank\" title=\"MFIL (Manjushree Finance Ltd.)\">MFIL</a></td><td class=\"text-right\">488.00</td><td class=\"text-right\">-0.71</td><td class=\"text-right\">506.00</td><td class=\"text-right\">487.00</td><td class=\"text-right\">491.00</td><td class=\"text-right\">34,460</td><td><a href=\"javascript:void(0);\" onclick='addToWatchlist(\"MFIL\");' title=\"Add to Watchlist\"><i class=\"icon-tags icon-white\"></i></a></td><td><a href=\"javascript:void(0);\" onclick='setAlert(\"MFIL\");' title=\"Set as Alert\"><i class=\"icon-bell icon-white\"></i></a></td></tr>\n",
       "<tr class=\"decrease-row\"><td><a href=\"/CompanyDetail.aspx?symbol=MHL\" target=\"_blank\" title=\"MHL (Mandakini Hydropower Limited)\">MHL</a></td><td class=\"text-right\">394.00</td><td class=\"text-right\">-0.25</td><td class=\"text-right\">398.00</td><td class=\"text-right\">379.40</td><td class=\"text-right\">387.10</td><td class=\"text-right\">16,850</td><td><a href=\"javascript:void(0);\" onclick='addToWatchlist(\"MHL\");' title=\"Add to Watchlist\"><i class=\"icon-tags icon-white\"></i></a></td><td><a href=\"javascript:void(0);\" onclick='setAlert(\"MHL\");' title=\"Set as Alert\"><i class=\"icon-bell icon-white\"></i></a></td></tr>\n",
       "<tr class=\"decrease-row\"><td><a href=\"/CompanyDetail.aspx?symbol=MHNL\" target=\"_blank\" title=\"MHNL (Mountain Hydro Nepal Limited)\">MHNL</a></td><td class=\"text-right\">337.00</td><td class=\"text-right\">-2.01</td><td class=\"text-right\">343.00</td><td class=\"text-right\">333.00</td><td class=\"text-right\">338.10</td><td class=\"text-right\">38,355</td><td><a href=\"javascript:void(0);\" onclick='addToWatchlist(\"MHNL\");' title=\"Add to Watchlist\"><i class=\"icon-tags icon-white\"></i></a></td><td><a href=\"javascript:void(0);\" onclick='setAlert(\"MHNL\");' title=\"Set as Alert\"><i class=\"icon-bell icon-white\"></i></a></td></tr>\n",
       "<tr class=\"decrease-row\"><td><a href=\"/CompanyDetail.aspx?symbol=MKJC\" target=\"_blank\" title=\"MKJC (Mailung Khola Jal Vidhyut Company  Limited)\">MKJC</a></td><td class=\"text-right\">487.90</td><td class=\"text-right\">-1.87</td><td class=\"text-right\">497.00</td><td class=\"text-right\">481.00</td><td class=\"text-right\">490.00</td><td class=\"text-right\">8,276</td><td><a href=\"javascript:void(0);\" onclick='addToWatchlist(\"MKJC\");' title=\"Add to Watchlist\"><i class=\"icon-tags icon-white\"></i></a></td><td><a href=\"javascript:void(0);\" onclick='setAlert(\"MKJC\");' title=\"Set as Alert\"><i class=\"icon-bell icon-white\"></i></a></td></tr>\n",
       "<tr class=\"decrease-row\"><td><a href=\"/CompanyDetail.aspx?symbol=MKLB\" target=\"_blank\" title=\"MKLB (Manakamana Smart Laghubitta Bittiya Sanstha Limited)\">MKLB</a></td><td class=\"text-right\">890.00</td><td class=\"text-right\">-2.57</td><td class=\"text-right\">901.00</td><td class=\"text-right\">888.00</td><td class=\"text-right\">898.10</td><td class=\"text-right\">545</td><td><a href=\"javascript:void(0);\" onclick='addToWatchlist(\"MKLB\");' title=\"Add to Watchlist\"><i class=\"icon-tags icon-white\"></i></a></td><td><a href=\"javascript:void(0);\" onclick='setAlert(\"MKLB\");' title=\"Set as Alert\"><i class=\"icon-bell icon-white\"></i></a></td></tr>\n",
       "<tr class=\"decrease-row\"><td><a href=\"/CompanyDetail.aspx?symbol=MLBBL\" target=\"_blank\" title=\"MLBBL (Mithila Laghubitta Bittiya Sanstha Ltd.)\">MLBBL</a></td><td class=\"text-right\">1,103.00</td><td class=\"text-right\">-1.34</td><td class=\"text-right\">1,139.00</td><td class=\"text-right\">1,101.00</td><td class=\"text-right\">1,139.00</td><td class=\"text-right\">972</td><td><a href=\"javascript:void(0);\" onclick='addToWatchlist(\"MLBBL\");' title=\"Add to Watchlist\"><i class=\"icon-tags icon-white\"></i></a></td><td><a href=\"javascript:void(0);\" onclick='setAlert(\"MLBBL\");' title=\"Set as Alert\"><i class=\"icon-bell icon-white\"></i></a></td></tr>\n",
       "<tr class=\"decrease-row\"><td><a href=\"/CompanyDetail.aspx?symbol=MLBL\" target=\"_blank\" title=\"MLBL (Mahalaxmi Bikas Bank Ltd.)\">MLBL</a></td><td class=\"text-right\">347.50</td><td class=\"text-right\">-1.84</td><td class=\"text-right\">355.00</td><td class=\"text-right\">347.30</td><td class=\"text-right\">352.00</td><td class=\"text-right\">42,047</td><td><a href=\"javascript:void(0);\" onclick='addToWatchlist(\"MLBL\");' title=\"Add to Watchlist\"><i class=\"icon-tags icon-white\"></i></a></td><td><a href=\"javascript:void(0);\" onclick='setAlert(\"MLBL\");' title=\"Set as Alert\"><i class=\"icon-bell icon-white\"></i></a></td></tr>\n",
       "<tr class=\"decrease-row\"><td><a href=\"/CompanyDetail.aspx?symbol=MLBS\" target=\"_blank\" title=\"MLBS (Manushi Laghubitta Bittiya Sanstha Limited)\">MLBS</a></td><td class=\"text-right\">1,050.20</td><td class=\"text-right\">-3.21</td><td class=\"text-right\">1,080.50</td><td class=\"text-right\">1,045.00</td><td class=\"text-right\">1,080.50</td><td class=\"text-right\">330</td><td><a href=\"javascript:void(0);\" onclick='addToWatchlist(\"MLBS\");' title=\"Add to Watchlist\"><i class=\"icon-tags icon-white\"></i></a></td><td><a href=\"javascript:void(0);\" onclick='setAlert(\"MLBS\");' title=\"Set as Alert\"><i class=\"icon-bell icon-white\"></i></a></td></tr>\n",
       "<tr class=\"decrease-row\"><td><a href=\"/CompanyDetail.aspx?symbol=MLBSL\" target=\"_blank\" title=\"MLBSL (Mahila Laghubitta Bittiya Sanstha Limited)\">MLBSL</a></td><td class=\"text-right\">4,103.00</td><td class=\"text-right\">-1.13</td><td class=\"text-right\">4,140.00</td><td class=\"text-right\">4,071.00</td><td class=\"text-right\">4,081.00</td><td class=\"text-right\">696</td><td><a href=\"javascript:void(0);\" onclick='addToWatchlist(\"MLBSL\");' title=\"Add to Watchlist\"><i class=\"icon-tags icon-white\"></i></a></td><td><a href=\"javascript:void(0);\" onclick='setAlert(\"MLBSL\");' title=\"Set as Alert\"><i class=\"icon-bell icon-white\"></i></a></td></tr>\n",
       "<tr class=\"decrease-row\"><td><a href=\"/CompanyDetail.aspx?symbol=MMF1\" target=\"_blank\" title=\"MMF1 (Mega Mutual Fund-1)\">MMF1</a></td><td class=\"text-right\">7.90</td><td class=\"text-right\">-2.59</td><td class=\"text-right\">8.00</td><td class=\"text-right\">7.80</td><td class=\"text-right\">7.95</td><td class=\"text-right\">7,830</td><td><a href=\"javascript:void(0);\" onclick='addToWatchlist(\"MMF1\");' title=\"Add to Watchlist\"><i class=\"icon-tags icon-white\"></i></a></td><td><a href=\"javascript:void(0);\" onclick='setAlert(\"MMF1\");' title=\"Set as Alert\"><i class=\"icon-bell icon-white\"></i></a></td></tr>\n",
       "<tr class=\"decrease-row\"><td><a href=\"/CompanyDetail.aspx?symbol=MMFDB\" target=\"_blank\" title=\"MMFDB (Mirmire Laghubitta Bittiya Sanstha Ltd.)\">MMFDB</a></td><td class=\"text-right\">830.00</td><td class=\"text-right\">-0.02</td><td class=\"text-right\">850.00</td><td class=\"text-right\">825.00</td><td class=\"text-right\">826.00</td><td class=\"text-right\">1,725</td><td><a href=\"javascript:void(0);\" onclick='addToWatchlist(\"MMFDB\");' title=\"Add to Watchlist\"><i class=\"icon-tags icon-white\"></i></a></td><td><a href=\"javascript:void(0);\" onclick='setAlert(\"MMFDB\");' title=\"Set as Alert\"><i class=\"icon-bell icon-white\"></i></a></td></tr>\n",
       "<tr class=\"decrease-row\"><td><a href=\"/CompanyDetail.aspx?symbol=MNBBL\" target=\"_blank\" title=\"MNBBL (Muktinath Bikas Bank Ltd.)\">MNBBL</a></td><td class=\"text-right\">412.00</td><td class=\"text-right\">-1.13</td><td class=\"text-right\">420.00</td><td class=\"text-right\">411.00</td><td class=\"text-right\">415.00</td><td class=\"text-right\">25,550</td><td><a href=\"javascript:void(0);\" onclick='addToWatchlist(\"MNBBL\");' title=\"Add to Watchlist\"><i class=\"icon-tags icon-white\"></i></a></td><td><a href=\"javascript:void(0);\" onclick='setAlert(\"MNBBL\");' title=\"Set as Alert\"><i class=\"icon-bell icon-white\"></i></a></td></tr>\n",
       "<tr class=\"decrease-row\"><td><a href=\"/CompanyDetail.aspx?symbol=MPFL\" target=\"_blank\" title=\"MPFL (Multipurpose Finance Company Limited)\">MPFL</a></td><td class=\"text-right\">347.00</td><td class=\"text-right\">-2.75</td><td class=\"text-right\">354.90</td><td class=\"text-right\">345.10</td><td class=\"text-right\">350.00</td><td class=\"text-right\">12,865</td><td><a href=\"javascript:void(0);\" onclick='addToWatchlist(\"MPFL\");' title=\"Add to Watchlist\"><i class=\"icon-tags icon-white\"></i></a></td><td><a href=\"javascript:void(0);\" onclick='setAlert(\"MPFL\");' title=\"Set as Alert\"><i class=\"icon-bell icon-white\"></i></a></td></tr>\n",
       "<tr class=\"decrease-row\"><td><a href=\"/CompanyDetail.aspx?symbol=MSLB\" target=\"_blank\" title=\"MSLB (Mahuli Laghubitta Bittiya Sanstha Ltd.)\">MSLB</a></td><td class=\"text-right\">1,214.00</td><td class=\"text-right\">-0.98</td><td class=\"text-right\">1,220.00</td><td class=\"text-right\">1,212.00</td><td class=\"text-right\">1,220.00</td><td class=\"text-right\">78</td><td><a href=\"javascript:void(0);\" onclick='addToWatchlist(\"MSLB\");' title=\"Add to Watchlist\"><i class=\"icon-tags icon-white\"></i></a></td><td><a href=\"javascript:void(0);\" onclick='setAlert(\"MSLB\");' title=\"Set as Alert\"><i class=\"icon-bell icon-white\"></i></a></td></tr>\n",
       "<tr class=\"increase-row\"><td><a href=\"/CompanyDetail.aspx?symbol=NABBC\" target=\"_blank\" title=\"NABBC (Narayani Development Bank Limited)\">NABBC</a></td><td class=\"text-right\">468.90</td><td class=\"text-right\">0.95</td><td class=\"text-right\">468.90</td><td class=\"text-right\">441.00</td><td class=\"text-right\">458.00</td><td class=\"text-right\">21,898</td><td><a href=\"javascript:void(0);\" onclick='addToWatchlist(\"NABBC\");' title=\"Add to Watchlist\"><i class=\"icon-tags icon-white\"></i></a></td><td><a href=\"javascript:void(0);\" onclick='setAlert(\"NABBC\");' title=\"Set as Alert\"><i class=\"icon-bell icon-white\"></i></a></td></tr>\n",
       "<tr class=\"decrease-row\"><td><a href=\"/CompanyDetail.aspx?symbol=NABIL\" target=\"_blank\" title=\"NABIL (Nabil Bank Limited)\">NABIL</a></td><td class=\"text-right\">702.50</td><td class=\"text-right\">-0.44</td><td class=\"text-right\">709.00</td><td class=\"text-right\">701.10</td><td class=\"text-right\">707.00</td><td class=\"text-right\">57,268</td><td><a href=\"javascript:void(0);\" onclick='addToWatchlist(\"NABIL\");' title=\"Add to Watchlist\"><i class=\"icon-tags icon-white\"></i></a></td><td><a href=\"javascript:void(0);\" onclick='setAlert(\"NABIL\");' title=\"Set as Alert\"><i class=\"icon-bell icon-white\"></i></a></td></tr>\n",
       "<tr class=\"decrease-row\"><td><a href=\"/CompanyDetail.aspx?symbol=NADEP\" target=\"_blank\" title=\"NADEP (Nadep Laghubitta Bittiya Sanstha Ltd.)\">NADEP</a></td><td class=\"text-right\">786.00</td><td class=\"text-right\">-2.24</td><td class=\"text-right\">800.00</td><td class=\"text-right\">782.00</td><td class=\"text-right\">790.00</td><td class=\"text-right\">7,696</td><td><a href=\"javascript:void(0);\" onclick='addToWatchlist(\"NADEP\");' title=\"Add to Watchlist\"><i class=\"icon-tags icon-white\"></i></a></td><td><a href=\"javascript:void(0);\" onclick='setAlert(\"NADEP\");' title=\"Set as Alert\"><i class=\"icon-bell icon-white\"></i></a></td></tr>\n",
       "<tr class=\"decrease-row\"><td><a href=\"/CompanyDetail.aspx?symbol=NBF2\" target=\"_blank\" title=\"NBF2 (NABIL BALANCED FUND-2)\">NBF2</a></td><td class=\"text-right\">9.00</td><td class=\"text-right\">-0.88</td><td class=\"text-right\">9.10</td><td class=\"text-right\">9.00</td><td class=\"text-right\">9.00</td><td class=\"text-right\">12,580</td><td><a href=\"javascript:void(0);\" onclick='addToWatchlist(\"NBF2\");' title=\"Add to Watchlist\"><i class=\"icon-tags icon-white\"></i></a></td><td><a href=\"javascript:void(0);\" onclick='setAlert(\"NBF2\");' title=\"Set as Alert\"><i class=\"icon-bell icon-white\"></i></a></td></tr>\n",
       "<tr class=\"decrease-row\"><td><a href=\"/CompanyDetail.aspx?symbol=NBF3\" target=\"_blank\" title=\"NBF3 (nabil Balanced Fund-3)\">NBF3</a></td><td class=\"text-right\">7.90</td><td class=\"text-right\">-1.25</td><td class=\"text-right\">7.95</td><td class=\"text-right\">7.70</td><td class=\"text-right\">7.84</td><td class=\"text-right\">19,808</td><td><a href=\"javascript:void(0);\" onclick='addToWatchlist(\"NBF3\");' title=\"Add to Watchlist\"><i class=\"icon-tags icon-white\"></i></a></td><td><a href=\"javascript:void(0);\" onclick='setAlert(\"NBF3\");' title=\"Set as Alert\"><i class=\"icon-bell icon-white\"></i></a></td></tr>\n",
       "<tr class=\"decrease-row\"><td><a href=\"/CompanyDetail.aspx?symbol=NBL\" target=\"_blank\" title=\"NBL (Nepal Bank Limited)\">NBL</a></td><td class=\"text-right\">274.00</td><td class=\"text-right\">-0.47</td><td class=\"text-right\">279.90</td><td class=\"text-right\">273.10</td><td class=\"text-right\">275.30</td><td class=\"text-right\">42,044</td><td><a href=\"javascript:void(0);\" onclick='addToWatchlist(\"NBL\");' title=\"Add to Watchlist\"><i class=\"icon-tags icon-white\"></i></a></td><td><a href=\"javascript:void(0);\" onclick='setAlert(\"NBL\");' title=\"Set as Alert\"><i class=\"icon-bell icon-white\"></i></a></td></tr>\n",
       "<tr class=\"increase-row\"><td><a href=\"/CompanyDetail.aspx?symbol=NBLD87\" target=\"_blank\" title=\"NBLD87 (8.5% Nepal Bank Debenture 2087)\">NBLD87</a></td><td class=\"text-right\">740.00</td><td class=\"text-right\">0.07</td><td class=\"text-right\">754.20</td><td class=\"text-right\">740.00</td><td class=\"text-right\">754.20</td><td class=\"text-right\">80</td><td><a href=\"javascript:void(0);\" onclick='addToWatchlist(\"NBLD87\");' title=\"Add to Watchlist\"><i class=\"icon-tags icon-white\"></i></a></td><td><a href=\"javascript:void(0);\" onclick='setAlert(\"NBLD87\");' title=\"Set as Alert\"><i class=\"icon-bell icon-white\"></i></a></td></tr>\n",
       "<tr class=\"increase-row\"><td><a href=\"/CompanyDetail.aspx?symbol=NEF\" target=\"_blank\" title=\"NEF (Nabil Equity Fund)\">NEF</a></td><td class=\"text-right\">9.05</td><td class=\"text-right\">0.56</td><td class=\"text-right\">9.10</td><td class=\"text-right\">8.99</td><td class=\"text-right\">8.99</td><td class=\"text-right\">30,455</td><td><a href=\"javascript:void(0);\" onclick='addToWatchlist(\"NEF\");' title=\"Add to Watchlist\"><i class=\"icon-tags icon-white\"></i></a></td><td><a href=\"javascript:void(0);\" onclick='setAlert(\"NEF\");' title=\"Set as Alert\"><i class=\"icon-bell icon-white\"></i></a></td></tr>\n",
       "<tr class=\"increase-row\"><td><a href=\"/CompanyDetail.aspx?symbol=NESDO\" target=\"_blank\" title=\"NESDO (NESDO Sambridha Laghubitta Bittiye Sanstha Limited)\">NESDO</a></td><td class=\"text-right\">3,380.00</td><td class=\"text-right\">1.47</td><td class=\"text-right\">3,420.00</td><td class=\"text-right\">3,264.40</td><td class=\"text-right\">3,264.40</td><td class=\"text-right\">12,481</td><td><a href=\"javascript:void(0);\" onclick='addToWatchlist(\"NESDO\");' title=\"Add to Watchlist\"><i class=\"icon-tags icon-white\"></i></a></td><td><a href=\"javascript:void(0);\" onclick='setAlert(\"NESDO\");' title=\"Set as Alert\"><i class=\"icon-bell icon-white\"></i></a></td></tr>\n",
       "<tr class=\"decrease-row\"><td><a href=\"/CompanyDetail.aspx?symbol=NFS\" target=\"_blank\" title=\"NFS (Nepal Finance Ltd.)\">NFS</a></td><td class=\"text-right\">316.80</td><td class=\"text-right\">-3.71</td><td class=\"text-right\">328.00</td><td class=\"text-right\">313.60</td><td class=\"text-right\">323.00</td><td class=\"text-right\">59,180</td><td><a href=\"javascript:void(0);\" onclick='addToWatchlist(\"NFS\");' title=\"Add to Watchlist\"><i class=\"icon-tags icon-white\"></i></a></td><td><a href=\"javascript:void(0);\" onclick='setAlert(\"NFS\");' title=\"Set as Alert\"><i class=\"icon-bell icon-white\"></i></a></td></tr>\n",
       "<tr class=\"decrease-row\"><td><a href=\"/CompanyDetail.aspx?symbol=NGPL\" target=\"_blank\" title=\"NGPL (Ngadi Group Power Ltd.)\">NGPL</a></td><td class=\"text-right\">300.10</td><td class=\"text-right\">-1.93</td><td class=\"text-right\">308.90</td><td class=\"text-right\">298.00</td><td class=\"text-right\">305.00</td><td class=\"text-right\">168,621</td><td><a href=\"javascript:void(0);\" onclick='addToWatchlist(\"NGPL\");' title=\"Add to Watchlist\"><i class=\"icon-tags icon-white\"></i></a></td><td><a href=\"javascript:void(0);\" onclick='setAlert(\"NGPL\");' title=\"Set as Alert\"><i class=\"icon-bell icon-white\"></i></a></td></tr>\n",
       "<tr class=\"decrease-row\"><td><a href=\"/CompanyDetail.aspx?symbol=NHDL\" target=\"_blank\" title=\"NHDL (Nepal Hydro Developers Ltd.)\">NHDL</a></td><td class=\"text-right\">395.00</td><td class=\"text-right\">-0.5</td><td class=\"text-right\">401.90</td><td class=\"text-right\">387.00</td><td class=\"text-right\">394.10</td><td class=\"text-right\">8,965</td><td><a href=\"javascript:void(0);\" onclick='addToWatchlist(\"NHDL\");' title=\"Add to Watchlist\"><i class=\"icon-tags icon-white\"></i></a></td><td><a href=\"javascript:void(0);\" onclick='setAlert(\"NHDL\");' title=\"Set as Alert\"><i class=\"icon-bell icon-white\"></i></a></td></tr>\n",
       "<tr class=\"decrease-row\"><td><a href=\"/CompanyDetail.aspx?symbol=NHPC\" target=\"_blank\" title=\"NHPC (National Hydro Power Company Limited)\">NHPC</a></td><td class=\"text-right\">268.60</td><td class=\"text-right\">-2.33</td><td class=\"text-right\">277.00</td><td class=\"text-right\">266.30</td><td class=\"text-right\">270.00</td><td class=\"text-right\">141,177</td><td><a href=\"javascript:void(0);\" onclick='addToWatchlist(\"NHPC\");' title=\"Add to Watchlist\"><i class=\"icon-tags icon-white\"></i></a></td><td><a href=\"javascript:void(0);\" onclick='setAlert(\"NHPC\");' title=\"Set as Alert\"><i class=\"icon-bell icon-white\"></i></a></td></tr>\n",
       "<tr class=\"increase-row\"><td><a href=\"/CompanyDetail.aspx?symbol=NIBD2082\" target=\"_blank\" title=\"NIBD2082 (10.5% Nepal Investment Debenture 2082)\">NIBD2082</a></td><td class=\"text-right\">905.20</td><td class=\"text-right\">0.52</td><td class=\"text-right\">906.00</td><td class=\"text-right\">905.20</td><td class=\"text-right\">906.00</td><td class=\"text-right\">40</td><td><a href=\"javascript:void(0);\" onclick='addToWatchlist(\"NIBD2082\");' title=\"Add to Watchlist\"><i class=\"icon-tags icon-white\"></i></a></td><td><a href=\"javascript:void(0);\" onclick='setAlert(\"NIBD2082\");' title=\"Set as Alert\"><i class=\"icon-bell icon-white\"></i></a></td></tr>\n",
       "<tr class=\"nochange-row\"><td><a href=\"/CompanyDetail.aspx?symbol=NIBD84\" target=\"_blank\" title=\"NIBD84 (8.5% Nepal Investment Bank Debenture 2084)\">NIBD84</a></td><td class=\"text-right\">776.00</td><td class=\"text-right\">0</td><td class=\"text-right\">776.00</td><td class=\"text-right\">776.00</td><td class=\"text-right\">776.00</td><td class=\"text-right\">50</td><td><a href=\"javascript:void(0);\" onclick='addToWatchlist(\"NIBD84\");' title=\"Add to Watchlist\"><i class=\"icon-tags icon-white\"></i></a></td><td><a href=\"javascript:void(0);\" onclick='setAlert(\"NIBD84\");' title=\"Set as Alert\"><i class=\"icon-bell icon-white\"></i></a></td></tr>\n",
       "<tr class=\"decrease-row\"><td><a href=\"/CompanyDetail.aspx?symbol=NIBLPF\" target=\"_blank\" title=\"NIBLPF (NIBL Pragati Fund)\">NIBLPF</a></td><td class=\"text-right\">8.93</td><td class=\"text-right\">-3.25</td><td class=\"text-right\">9.05</td><td class=\"text-right\">8.87</td><td class=\"text-right\">9.05</td><td class=\"text-right\">36,613</td><td><a href=\"javascript:void(0);\" onclick='addToWatchlist(\"NIBLPF\");' title=\"Add to Watchlist\"><i class=\"icon-tags icon-white\"></i></a></td><td><a href=\"javascript:void(0);\" onclick='setAlert(\"NIBLPF\");' title=\"Set as Alert\"><i class=\"icon-bell icon-white\"></i></a></td></tr>\n",
       "<tr class=\"decrease-row\"><td><a href=\"/CompanyDetail.aspx?symbol=NIBSF2\" target=\"_blank\" title=\"NIBSF2 (NIBL Samriddhi Fund 2)\">NIBSF2</a></td><td class=\"text-right\">7.87</td><td class=\"text-right\">-1.99</td><td class=\"text-right\">8.35</td><td class=\"text-right\">7.76</td><td class=\"text-right\">7.87</td><td class=\"text-right\">14,150</td><td><a href=\"javascript:void(0);\" onclick='addToWatchlist(\"NIBSF2\");' title=\"Add to Watchlist\"><i class=\"icon-tags icon-white\"></i></a></td><td><a href=\"javascript:void(0);\" onclick='setAlert(\"NIBSF2\");' title=\"Set as Alert\"><i class=\"icon-bell icon-white\"></i></a></td></tr>\n",
       "<tr class=\"increase-row\"><td><a href=\"/CompanyDetail.aspx?symbol=NICA\" target=\"_blank\" title=\"NICA (NIC Asia Bank Ltd.)\">NICA</a></td><td class=\"text-right\">826.00</td><td class=\"text-right\">0.24</td><td class=\"text-right\">833.60</td><td class=\"text-right\">820.00</td><td class=\"text-right\">823.00</td><td class=\"text-right\">86,314</td><td><a href=\"javascript:void(0);\" onclick='addToWatchlist(\"NICA\");' title=\"Add to Watchlist\"><i class=\"icon-tags icon-white\"></i></a></td><td><a href=\"javascript:void(0);\" onclick='setAlert(\"NICA\");' title=\"Set as Alert\"><i class=\"icon-bell icon-white\"></i></a></td></tr>\n",
       "<tr class=\"decrease-row\"><td><a href=\"/CompanyDetail.aspx?symbol=NICAD8283\" target=\"_blank\" title=\"NICAD8283 (11% NIC Asia Debenture 082/83)\">NICAD8283</a></td><td class=\"text-right\">928.40</td><td class=\"text-right\">-0.71</td><td class=\"text-right\">928.60</td><td class=\"text-right\">927.50</td><td class=\"text-right\">927.50</td><td class=\"text-right\">420</td><td><a href=\"javascript:void(0);\" onclick='addToWatchlist(\"NICAD8283\");' title=\"Add to Watchlist\"><i class=\"icon-tags icon-white\"></i></a></td><td><a href=\"javascript:void(0);\" onclick='setAlert(\"NICAD8283\");' title=\"Set as Alert\"><i class=\"icon-bell icon-white\"></i></a></td></tr>\n",
       "<tr class=\"increase-row\"><td><a href=\"/CompanyDetail.aspx?symbol=NICBF\" target=\"_blank\" title=\"NICBF (NIC Asia Balanced Fund)\">NICBF</a></td><td class=\"text-right\">9.06</td><td class=\"text-right\">0.11</td><td class=\"text-right\">9.20</td><td class=\"text-right\">9.01</td><td class=\"text-right\">9.01</td><td class=\"text-right\">3,900</td><td><a href=\"javascript:void(0);\" onclick='addToWatchlist(\"NICBF\");' title=\"Add to Watchlist\"><i class=\"icon-tags icon-white\"></i></a></td><td><a href=\"javascript:void(0);\" onclick='setAlert(\"NICBF\");' title=\"Set as Alert\"><i class=\"icon-bell icon-white\"></i></a></td></tr>\n",
       "<tr class=\"increase-row\"><td><a href=\"/CompanyDetail.aspx?symbol=NICD83/84\" target=\"_blank\" title=\"NICD83/84 (10.25% NIC Asia Debenture 2083/84)\">NICD83/84</a></td><td class=\"text-right\">878.00</td><td class=\"text-right\">0.8</td><td class=\"text-right\">878.00</td><td class=\"text-right\">878.00</td><td class=\"text-right\">878.00</td><td class=\"text-right\">10</td><td><a href=\"javascript:void(0);\" onclick='addToWatchlist(\"NICD83/84\");' title=\"Add to Watchlist\"><i class=\"icon-tags icon-white\"></i></a></td><td><a href=\"javascript:void(0);\" onclick='setAlert(\"NICD83/84\");' title=\"Set as Alert\"><i class=\"icon-bell icon-white\"></i></a></td></tr>\n",
       "<tr class=\"decrease-row\"><td><a href=\"/CompanyDetail.aspx?symbol=NICFC\" target=\"_blank\" title=\"NICFC (NIC ASIA Flexi CAP Fund)\">NICFC</a></td><td class=\"text-right\">8.42</td><td class=\"text-right\">-0.94</td><td class=\"text-right\">8.42</td><td class=\"text-right\">8.25</td><td class=\"text-right\">8.33</td><td class=\"text-right\">3,100</td><td><a href=\"javascript:void(0);\" onclick='addToWatchlist(\"NICFC\");' title=\"Add to Watchlist\"><i class=\"icon-tags icon-white\"></i></a></td><td><a href=\"javascript:void(0);\" onclick='setAlert(\"NICFC\");' title=\"Set as Alert\"><i class=\"icon-bell icon-white\"></i></a></td></tr>\n",
       "<tr class=\"nochange-row\"><td><a href=\"/CompanyDetail.aspx?symbol=NICGF\" target=\"_blank\" title=\"NICGF (NIC Asia Growth Fund)\">NICGF</a></td><td class=\"text-right\">9.73</td><td class=\"text-right\">0</td><td class=\"text-right\">9.76</td><td class=\"text-right\">9.73</td><td class=\"text-right\">9.73</td><td class=\"text-right\">43,200</td><td><a href=\"javascript:void(0);\" onclick='addToWatchlist(\"NICGF\");' title=\"Add to Watchlist\"><i class=\"icon-tags icon-white\"></i></a></td><td><a href=\"javascript:void(0);\" onclick='setAlert(\"NICGF\");' title=\"Set as Alert\"><i class=\"icon-bell icon-white\"></i></a></td></tr>\n",
       "<tr class=\"increase-row\"><td><a href=\"/CompanyDetail.aspx?symbol=NICL\" target=\"_blank\" title=\"NICL (Nepal Insurance Co. Ltd.)\">NICL</a></td><td class=\"text-right\">505.00</td><td class=\"text-right\">1.2</td><td class=\"text-right\">514.00</td><td class=\"text-right\">490.30</td><td class=\"text-right\">500.00</td><td class=\"text-right\">30,582</td><td><a href=\"javascript:void(0);\" onclick='addToWatchlist(\"NICL\");' title=\"Add to Watchlist\"><i class=\"icon-tags icon-white\"></i></a></td><td><a href=\"javascript:void(0);\" onclick='setAlert(\"NICL\");' title=\"Set as Alert\"><i class=\"icon-bell icon-white\"></i></a></td></tr>\n",
       "<tr class=\"decrease-row\"><td><a href=\"/CompanyDetail.aspx?symbol=NICLBSL\" target=\"_blank\" title=\"NICLBSL (NIC Asia Laghubitta Biitiya Sanstha Limited)\">NICLBSL</a></td><td class=\"text-right\">805.00</td><td class=\"text-right\">-2.19</td><td class=\"text-right\">823.00</td><td class=\"text-right\">805.00</td><td class=\"text-right\">806.90</td><td class=\"text-right\">6,204</td><td><a href=\"javascript:void(0);\" onclick='addToWatchlist(\"NICLBSL\");' title=\"Add to Watchlist\"><i class=\"icon-tags icon-white\"></i></a></td><td><a href=\"javascript:void(0);\" onclick='setAlert(\"NICLBSL\");' title=\"Set as Alert\"><i class=\"icon-bell icon-white\"></i></a></td></tr>\n",
       "<tr class=\"decrease-row\"><td><a href=\"/CompanyDetail.aspx?symbol=NICSF\" target=\"_blank\" title=\"NICSF (NIC Asia Select - 30 (Index Fund))\">NICSF</a></td><td class=\"text-right\">8.15</td><td class=\"text-right\">-2.28</td><td class=\"text-right\">8.36</td><td class=\"text-right\">8.15</td><td class=\"text-right\">8.20</td><td class=\"text-right\">37,089</td><td><a href=\"javascript:void(0);\" onclick='addToWatchlist(\"NICSF\");' title=\"Add to Watchlist\"><i class=\"icon-tags icon-white\"></i></a></td><td><a href=\"javascript:void(0);\" onclick='setAlert(\"NICSF\");' title=\"Set as Alert\"><i class=\"icon-bell icon-white\"></i></a></td></tr>\n",
       "<tr class=\"decrease-row\"><td><a href=\"/CompanyDetail.aspx?symbol=NIFRA\" target=\"_blank\" title=\"NIFRA (Nepal Infrastructure Bank Limited)\">NIFRA</a></td><td class=\"text-right\">235.00</td><td class=\"text-right\">-2.08</td><td class=\"text-right\">242.80</td><td class=\"text-right\">235.00</td><td class=\"text-right\">241.00</td><td class=\"text-right\">131,466</td><td><a href=\"javascript:void(0);\" onclick='addToWatchlist(\"NIFRA\");' title=\"Add to Watchlist\"><i class=\"icon-tags icon-white\"></i></a></td><td><a href=\"javascript:void(0);\" onclick='setAlert(\"NIFRA\");' title=\"Set as Alert\"><i class=\"icon-bell icon-white\"></i></a></td></tr>\n",
       "<tr class=\"decrease-row\"><td><a href=\"/CompanyDetail.aspx?symbol=NIL\" target=\"_blank\" title=\"NIL (Neco Insurance Co. Ltd.)\">NIL</a></td><td class=\"text-right\">790.00</td><td class=\"text-right\">-0.5</td><td class=\"text-right\">795.00</td><td class=\"text-right\">780.00</td><td class=\"text-right\">780.00</td><td class=\"text-right\">8,245</td><td><a href=\"javascript:void(0);\" onclick='addToWatchlist(\"NIL\");' title=\"Add to Watchlist\"><i class=\"icon-tags icon-white\"></i></a></td><td><a href=\"javascript:void(0);\" onclick='setAlert(\"NIL\");' title=\"Set as Alert\"><i class=\"icon-bell icon-white\"></i></a></td></tr>\n",
       "<tr class=\"decrease-row\"><td><a href=\"/CompanyDetail.aspx?symbol=NLBBL\" target=\"_blank\" title=\"NLBBL (Nerude Laghubita Bittiya Sanstha Limited)\">NLBBL</a></td><td class=\"text-right\">1,020.00</td><td class=\"text-right\">-0.97</td><td class=\"text-right\">1,040.00</td><td class=\"text-right\">1,017.10</td><td class=\"text-right\">1,034.80</td><td class=\"text-right\">11,239</td><td><a href=\"javascript:void(0);\" onclick='addToWatchlist(\"NLBBL\");' title=\"Add to Watchlist\"><i class=\"icon-tags icon-white\"></i></a></td><td><a href=\"javascript:void(0);\" onclick='setAlert(\"NLBBL\");' title=\"Set as Alert\"><i class=\"icon-bell icon-white\"></i></a></td></tr>\n",
       "<tr class=\"nochange-row\"><td><a href=\"/CompanyDetail.aspx?symbol=NLG\" target=\"_blank\" title=\"NLG (NLG Insurance Company Ltd.)\">NLG</a></td><td class=\"text-right\">710.00</td><td class=\"text-right\">0</td><td class=\"text-right\">718.00</td><td class=\"text-right\">696.00</td><td class=\"text-right\">700.00</td><td class=\"text-right\">13,502</td><td><a href=\"javascript:void(0);\" onclick='addToWatchlist(\"NLG\");' title=\"Add to Watchlist\"><i class=\"icon-tags icon-white\"></i></a></td><td><a href=\"javascript:void(0);\" onclick='setAlert(\"NLG\");' title=\"Set as Alert\"><i class=\"icon-bell icon-white\"></i></a></td></tr>\n",
       "<tr class=\"decrease-row\"><td><a href=\"/CompanyDetail.aspx?symbol=NLIC\" target=\"_blank\" title=\"NLIC (Nepal Life Insurance Co. Ltd.)\">NLIC</a></td><td class=\"text-right\">755.00</td><td class=\"text-right\">-1.18</td><td class=\"text-right\">769.80</td><td class=\"text-right\">748.00</td><td class=\"text-right\">767.00</td><td class=\"text-right\">87,517</td><td><a href=\"javascript:void(0);\" onclick='addToWatchlist(\"NLIC\");' title=\"Add to Watchlist\"><i class=\"icon-tags icon-white\"></i></a></td><td><a href=\"javascript:void(0);\" onclick='setAlert(\"NLIC\");' title=\"Set as Alert\"><i class=\"icon-bell icon-white\"></i></a></td></tr>\n",
       "<tr class=\"decrease-row\"><td><a href=\"/CompanyDetail.aspx?symbol=NLICL\" target=\"_blank\" title=\"NLICL (National Life Insurance Co. Ltd.)\">NLICL</a></td><td class=\"text-right\">644.00</td><td class=\"text-right\">-1.38</td><td class=\"text-right\">658.90</td><td class=\"text-right\">640.00</td><td class=\"text-right\">642.10</td><td class=\"text-right\">29,381</td><td><a href=\"javascript:void(0);\" onclick='addToWatchlist(\"NLICL\");' title=\"Add to Watchlist\"><i class=\"icon-tags icon-white\"></i></a></td><td><a href=\"javascript:void(0);\" onclick='setAlert(\"NLICL\");' title=\"Set as Alert\"><i class=\"icon-bell icon-white\"></i></a></td></tr>\n",
       "<tr class=\"decrease-row\"><td><a href=\"/CompanyDetail.aspx?symbol=NMB\" target=\"_blank\" title=\"NMB (NMB Bank Limited)\">NMB</a></td><td class=\"text-right\">243.00</td><td class=\"text-right\">-0.82</td><td class=\"text-right\">245.00</td><td class=\"text-right\">240.00</td><td class=\"text-right\">245.00</td><td class=\"text-right\">41,562</td><td><a href=\"javascript:void(0);\" onclick='addToWatchlist(\"NMB\");' title=\"Add to Watchlist\"><i class=\"icon-tags icon-white\"></i></a></td><td><a href=\"javascript:void(0);\" onclick='setAlert(\"NMB\");' title=\"Set as Alert\"><i class=\"icon-bell icon-white\"></i></a></td></tr>\n",
       "<tr class=\"decrease-row\"><td><a href=\"/CompanyDetail.aspx?symbol=NMB50\" target=\"_blank\" title=\"NMB50 (NMB 50)\">NMB50</a></td><td class=\"text-right\">9.97</td><td class=\"text-right\">-1.97</td><td class=\"text-right\">10.10</td><td class=\"text-right\">9.97</td><td class=\"text-right\">10.09</td><td class=\"text-right\">1,900</td><td><a href=\"javascript:void(0);\" onclick='addToWatchlist(\"NMB50\");' title=\"Add to Watchlist\"><i class=\"icon-tags icon-white\"></i></a></td><td><a href=\"javascript:void(0);\" onclick='setAlert(\"NMB50\");' title=\"Set as Alert\"><i class=\"icon-bell icon-white\"></i></a></td></tr>\n",
       "<tr class=\"decrease-row\"><td><a href=\"/CompanyDetail.aspx?symbol=NMBD87/88\" target=\"_blank\" title=\"NMBD87/88 (8.50% NMB Rinpatra 2087/88)\">NMBD87/88</a></td><td class=\"text-right\">980.00</td><td class=\"text-right\">-2</td><td class=\"text-right\">980.00</td><td class=\"text-right\">980.00</td><td class=\"text-right\">980.00</td><td class=\"text-right\">25</td><td><a href=\"javascript:void(0);\" onclick='addToWatchlist(\"NMBD87/88\");' title=\"Add to Watchlist\"><i class=\"icon-tags icon-white\"></i></a></td><td><a href=\"javascript:void(0);\" onclick='setAlert(\"NMBD87/88\");' title=\"Set as Alert\"><i class=\"icon-bell icon-white\"></i></a></td></tr>\n",
       "<tr class=\"increase-row\"><td><a href=\"/CompanyDetail.aspx?symbol=NMBHF1\" target=\"_blank\" title=\"NMBHF1 (NMB Hybrid Fund L-1)\">NMBHF1</a></td><td class=\"text-right\">9.91</td><td class=\"text-right\">0.1</td><td class=\"text-right\">9.93</td><td class=\"text-right\">9.91</td><td class=\"text-right\">9.92</td><td class=\"text-right\">40,964</td><td><a href=\"javascript:void(0);\" onclick='addToWatchlist(\"NMBHF1\");' title=\"Add to Watchlist\"><i class=\"icon-tags icon-white\"></i></a></td><td><a href=\"javascript:void(0);\" onclick='setAlert(\"NMBHF1\");' title=\"Set as Alert\"><i class=\"icon-bell icon-white\"></i></a></td></tr>\n",
       "<tr class=\"decrease-row\"><td><a href=\"/CompanyDetail.aspx?symbol=NMBMF\" target=\"_blank\" title=\"NMBMF (NMB Laghubitta Bittiya Sanstha Ltd.)\">NMBMF</a></td><td class=\"text-right\">760.00</td><td class=\"text-right\">-1.3</td><td class=\"text-right\">775.00</td><td class=\"text-right\">749.00</td><td class=\"text-right\">765.00</td><td class=\"text-right\">2,288</td><td><a href=\"javascript:void(0);\" onclick='addToWatchlist(\"NMBMF\");' title=\"Add to Watchlist\"><i class=\"icon-tags icon-white\"></i></a></td><td><a href=\"javascript:void(0);\" onclick='setAlert(\"NMBMF\");' title=\"Set as Alert\"><i class=\"icon-bell icon-white\"></i></a></td></tr>\n",
       "<tr class=\"nochange-row\"><td><a href=\"/CompanyDetail.aspx?symbol=NMBPO\" target=\"_blank\" title=\"NMBPO (NMB Bank Limited Promoter Share)\">NMBPO</a></td><td class=\"text-right\">134.00</td><td class=\"text-right\">0</td><td class=\"text-right\">134.00</td><td class=\"text-right\">134.00</td><td class=\"text-right\">134.00</td><td class=\"text-right\">9,761</td><td><a href=\"javascript:void(0);\" onclick='addToWatchlist(\"NMBPO\");' title=\"Add to Watchlist\"><i class=\"icon-tags icon-white\"></i></a></td><td><a href=\"javascript:void(0);\" onclick='setAlert(\"NMBPO\");' title=\"Set as Alert\"><i class=\"icon-bell icon-white\"></i></a></td></tr>\n",
       "<tr class=\"decrease-row\"><td><a href=\"/CompanyDetail.aspx?symbol=NMFBS\" target=\"_blank\" title=\"NMFBS (National Microfinance Laghubitta Bittiya Sanstha Ltd.)\">NMFBS</a></td><td class=\"text-right\">2,289.00</td><td class=\"text-right\">-0.95</td><td class=\"text-right\">2,330.00</td><td class=\"text-right\">2,280.00</td><td class=\"text-right\">2,330.00</td><td class=\"text-right\">8,487</td><td><a href=\"javascript:void(0);\" onclick='addToWatchlist(\"NMFBS\");' title=\"Add to Watchlist\"><i class=\"icon-tags icon-white\"></i></a></td><td><a href=\"javascript:void(0);\" onclick='setAlert(\"NMFBS\");' title=\"Set as Alert\"><i class=\"icon-bell icon-white\"></i></a></td></tr>\n",
       "<tr class=\"decrease-row\"><td><a href=\"/CompanyDetail.aspx?symbol=NRIC\" target=\"_blank\" title=\"NRIC (Nepal Re-Insurance Company Limited)\">NRIC</a></td><td class=\"text-right\">838.00</td><td class=\"text-right\">-1.99</td><td class=\"text-right\">855.00</td><td class=\"text-right\">831.00</td><td class=\"text-right\">850.00</td><td class=\"text-right\">34,960</td><td><a href=\"javascript:void(0);\" onclick='addToWatchlist(\"NRIC\");' title=\"Add to Watchlist\"><i class=\"icon-tags icon-white\"></i></a></td><td><a href=\"javascript:void(0);\" onclick='setAlert(\"NRIC\");' title=\"Set as Alert\"><i class=\"icon-bell icon-white\"></i></a></td></tr>\n",
       "<tr class=\"decrease-row\"><td><a href=\"/CompanyDetail.aspx?symbol=NRN\" target=\"_blank\" title=\"NRN (NRN Infrastructure and Development Limited)\">NRN</a></td><td class=\"text-right\">519.00</td><td class=\"text-right\">-2.63</td><td class=\"text-right\">532.00</td><td class=\"text-right\">518.50</td><td class=\"text-right\">522.40</td><td class=\"text-right\">11,015</td><td><a href=\"javascript:void(0);\" onclick='addToWatchlist(\"NRN\");' title=\"Add to Watchlist\"><i class=\"icon-tags icon-white\"></i></a></td><td><a href=\"javascript:void(0);\" onclick='setAlert(\"NRN\");' title=\"Set as Alert\"><i class=\"icon-bell icon-white\"></i></a></td></tr>\n",
       "<tr class=\"decrease-row\"><td><a href=\"/CompanyDetail.aspx?symbol=NSLB\" target=\"_blank\" title=\"NSLB (Naya Sarathi Laghubitta Bittiya Sanstha Limited)\">NSLB</a></td><td class=\"text-right\">925.00</td><td class=\"text-right\">-1.16</td><td class=\"text-right\">948.60</td><td class=\"text-right\">921.00</td><td class=\"text-right\">921.00</td><td class=\"text-right\">466</td><td><a href=\"javascript:void(0);\" onclick='addToWatchlist(\"NSLB\");' title=\"Add to Watchlist\"><i class=\"icon-tags icon-white\"></i></a></td><td><a href=\"javascript:void(0);\" onclick='setAlert(\"NSLB\");' title=\"Set as Alert\"><i class=\"icon-bell icon-white\"></i></a></td></tr>\n",
       "<tr class=\"decrease-row\"><td><a href=\"/CompanyDetail.aspx?symbol=NTC\" target=\"_blank\" title=\"NTC (Nepal Doorsanchar Comapany Limited)\">NTC</a></td><td class=\"text-right\">852.00</td><td class=\"text-right\">-1.5</td><td class=\"text-right\">882.00</td><td class=\"text-right\">851.00</td><td class=\"text-right\">882.00</td><td class=\"text-right\">42,494</td><td><a href=\"javascript:void(0);\" onclick='addToWatchlist(\"NTC\");' title=\"Add to Watchlist\"><i class=\"icon-tags icon-white\"></i></a></td><td><a href=\"javascript:void(0);\" onclick='setAlert(\"NTC\");' title=\"Set as Alert\"><i class=\"icon-bell icon-white\"></i></a></td></tr>\n",
       "<tr class=\"decrease-row\"><td><a href=\"/CompanyDetail.aspx?symbol=NUBL\" target=\"_blank\" title=\"NUBL (Nirdhan Utthan Laghubitta Bittiya Sanstha Limited)\">NUBL</a></td><td class=\"text-right\">998.00</td><td class=\"text-right\">-0.7</td><td class=\"text-right\">1,010.00</td><td class=\"text-right\">990.00</td><td class=\"text-right\">1,000.00</td><td class=\"text-right\">4,210</td><td><a href=\"javascript:void(0);\" onclick='addToWatchlist(\"NUBL\");' title=\"Add to Watchlist\"><i class=\"icon-tags icon-white\"></i></a></td><td><a href=\"javascript:void(0);\" onclick='setAlert(\"NUBL\");' title=\"Set as Alert\"><i class=\"icon-bell icon-white\"></i></a></td></tr>\n",
       "<tr class=\"increase-row\"><td><a href=\"/CompanyDetail.aspx?symbol=NYADI\" target=\"_blank\" title=\"NYADI (Nyadi Hydropower Limited)\">NYADI</a></td><td class=\"text-right\">355.00</td><td class=\"text-right\">3.2</td><td class=\"text-right\">358.00</td><td class=\"text-right\">331.40</td><td class=\"text-right\">344.00</td><td class=\"text-right\">19,300</td><td><a href=\"javascript:void(0);\" onclick='addToWatchlist(\"NYADI\");' title=\"Add to Watchlist\"><i class=\"icon-tags icon-white\"></i></a></td><td><a href=\"javascript:void(0);\" onclick='setAlert(\"NYADI\");' title=\"Set as Alert\"><i class=\"icon-bell icon-white\"></i></a></td></tr>\n",
       "<tr class=\"increase-row\"><td><a href=\"/CompanyDetail.aspx?symbol=OHL\" target=\"_blank\" title=\"OHL (Oriental Hotels Limited)\">OHL</a></td><td class=\"text-right\">555.10</td><td class=\"text-right\">0.93</td><td class=\"text-right\">570.00</td><td class=\"text-right\">539.10</td><td class=\"text-right\">539.20</td><td class=\"text-right\">12,398</td><td><a href=\"javascript:void(0);\" onclick='addToWatchlist(\"OHL\");' title=\"Add to Watchlist\"><i class=\"icon-tags icon-white\"></i></a></td><td><a href=\"javascript:void(0);\" onclick='setAlert(\"OHL\");' title=\"Set as Alert\"><i class=\"icon-bell icon-white\"></i></a></td></tr>\n",
       "<tr class=\"increase-row\"><td><a href=\"/CompanyDetail.aspx?symbol=PBD85\" target=\"_blank\" title=\"PBD85 (8.75% Prime Commercial Bank Debenture 2085)\">PBD85</a></td><td class=\"text-right\">770.00</td><td class=\"text-right\">0.65</td><td class=\"text-right\">770.00</td><td class=\"text-right\">770.00</td><td class=\"text-right\">770.00</td><td class=\"text-right\">25</td><td><a href=\"javascript:void(0);\" onclick='addToWatchlist(\"PBD85\");' title=\"Add to Watchlist\"><i class=\"icon-tags icon-white\"></i></a></td><td><a href=\"javascript:void(0);\" onclick='setAlert(\"PBD85\");' title=\"Set as Alert\"><i class=\"icon-bell icon-white\"></i></a></td></tr>\n",
       "<tr class=\"decrease-row\"><td><a href=\"/CompanyDetail.aspx?symbol=PBD88\" target=\"_blank\" title=\"PBD88 (10% Prime Debenture 2088)\">PBD88</a></td><td class=\"text-right\">825.00</td><td class=\"text-right\">-1.9</td><td class=\"text-right\">840.00</td><td class=\"text-right\">825.00</td><td class=\"text-right\">825.00</td><td class=\"text-right\">279</td><td><a href=\"javascript:void(0);\" onclick='addToWatchlist(\"PBD88\");' title=\"Add to Watchlist\"><i class=\"icon-tags icon-white\"></i></a></td><td><a href=\"javascript:void(0);\" onclick='setAlert(\"PBD88\");' title=\"Set as Alert\"><i class=\"icon-bell icon-white\"></i></a></td></tr>\n",
       "<tr class=\"decrease-row\"><td><a href=\"/CompanyDetail.aspx?symbol=PBLD84\" target=\"_blank\" title=\"PBLD84 (10% Prabhu Bank Debenture 2084 )\">PBLD84</a></td><td class=\"text-right\">866.00</td><td class=\"text-right\">-0.46</td><td class=\"text-right\">870.00</td><td class=\"text-right\">853.10</td><td class=\"text-right\">870.00</td><td class=\"text-right\">194</td><td><a href=\"javascript:void(0);\" onclick='addToWatchlist(\"PBLD84\");' title=\"Add to Watchlist\"><i class=\"icon-tags icon-white\"></i></a></td><td><a href=\"javascript:void(0);\" onclick='setAlert(\"PBLD84\");' title=\"Set as Alert\"><i class=\"icon-bell icon-white\"></i></a></td></tr>\n",
       "<tr class=\"decrease-row\"><td><a href=\"/CompanyDetail.aspx?symbol=PCBL\" target=\"_blank\" title=\"PCBL (Prime Commercial Bank Ltd.)\">PCBL</a></td><td class=\"text-right\">222.90</td><td class=\"text-right\">-0.4</td><td class=\"text-right\">228.20</td><td class=\"text-right\">218.90</td><td class=\"text-right\">228.20</td><td class=\"text-right\">53,496</td><td><a href=\"javascript:void(0);\" onclick='addToWatchlist(\"PCBL\");' title=\"Add to Watchlist\"><i class=\"icon-tags icon-white\"></i></a></td><td><a href=\"javascript:void(0);\" onclick='setAlert(\"PCBL\");' title=\"Set as Alert\"><i class=\"icon-bell icon-white\"></i></a></td></tr>\n",
       "<tr class=\"decrease-row\"><td><a href=\"/CompanyDetail.aspx?symbol=PFL\" target=\"_blank\" title=\"PFL (Pokhara Finance Ltd.)\">PFL</a></td><td class=\"text-right\">412.60</td><td class=\"text-right\">-1.1</td><td class=\"text-right\">425.00</td><td class=\"text-right\">410.00</td><td class=\"text-right\">419.00</td><td class=\"text-right\">30,234</td><td><a href=\"javascript:void(0);\" onclick='addToWatchlist(\"PFL\");' title=\"Add to Watchlist\"><i class=\"icon-tags icon-white\"></i></a></td><td><a href=\"javascript:void(0);\" onclick='setAlert(\"PFL\");' title=\"Set as Alert\"><i class=\"icon-bell icon-white\"></i></a></td></tr>\n",
       "<tr class=\"decrease-row\"><td><a href=\"/CompanyDetail.aspx?symbol=PHCL\" target=\"_blank\" title=\"PHCL (Peoples Hydropower Company Limited)\">PHCL</a></td><td class=\"text-right\">361.80</td><td class=\"text-right\">-2.22</td><td class=\"text-right\">374.00</td><td class=\"text-right\">355.40</td><td class=\"text-right\">362.60</td><td class=\"text-right\">57,465</td><td><a href=\"javascript:void(0);\" onclick='addToWatchlist(\"PHCL\");' title=\"Add to Watchlist\"><i class=\"icon-tags icon-white\"></i></a></td><td><a href=\"javascript:void(0);\" onclick='setAlert(\"PHCL\");' title=\"Set as Alert\"><i class=\"icon-bell icon-white\"></i></a></td></tr>\n",
       "<tr class=\"increase-row\"><td><a href=\"/CompanyDetail.aspx?symbol=PIC\" target=\"_blank\" title=\"PIC (Premier Insurance Co. Ltd.)\">PIC</a></td><td class=\"text-right\">665.20</td><td class=\"text-right\">0.03</td><td class=\"text-right\">678.00</td><td class=\"text-right\">657.00</td><td class=\"text-right\">670.00</td><td class=\"text-right\">9,396</td><td><a href=\"javascript:void(0);\" onclick='addToWatchlist(\"PIC\");' title=\"Add to Watchlist\"><i class=\"icon-tags icon-white\"></i></a></td><td><a href=\"javascript:void(0);\" onclick='setAlert(\"PIC\");' title=\"Set as Alert\"><i class=\"icon-bell icon-white\"></i></a></td></tr>\n",
       "<tr class=\"increase-row\"><td><a href=\"/CompanyDetail.aspx?symbol=PICL\" target=\"_blank\" title=\"PICL (Prudential Insurance Co. Ltd.)\">PICL</a></td><td class=\"text-right\">480.00</td><td class=\"text-right\">0.21</td><td class=\"text-right\">485.00</td><td class=\"text-right\">472.00</td><td class=\"text-right\">480.00</td><td class=\"text-right\">33,920</td><td><a href=\"javascript:void(0);\" onclick='addToWatchlist(\"PICL\");' title=\"Add to Watchlist\"><i class=\"icon-tags icon-white\"></i></a></td><td><a href=\"javascript:void(0);\" onclick='setAlert(\"PICL\");' title=\"Set as Alert\"><i class=\"icon-bell icon-white\"></i></a></td></tr>\n",
       "<tr class=\"increase-row\"><td><a href=\"/CompanyDetail.aspx?symbol=PLI\" target=\"_blank\" title=\"PLI (Prabhu Life Insurance Limited)\">PLI</a></td><td class=\"text-right\">527.00</td><td class=\"text-right\">2.63</td><td class=\"text-right\">536.30</td><td class=\"text-right\">497.00</td><td class=\"text-right\">507.00</td><td class=\"text-right\">23,931</td><td><a href=\"javascript:void(0);\" onclick='addToWatchlist(\"PLI\");' title=\"Add to Watchlist\"><i class=\"icon-tags icon-white\"></i></a></td><td><a href=\"javascript:void(0);\" onclick='setAlert(\"PLI\");' title=\"Set as Alert\"><i class=\"icon-bell icon-white\"></i></a></td></tr>\n",
       "<tr class=\"decrease-row\"><td><a href=\"/CompanyDetail.aspx?symbol=PMHPL\" target=\"_blank\" title=\"PMHPL (Panchakanya Mai Hydropower Ltd)\">PMHPL</a></td><td class=\"text-right\">272.50</td><td class=\"text-right\">-2.68</td><td class=\"text-right\">284.00</td><td class=\"text-right\">272.50</td><td class=\"text-right\">280.00</td><td class=\"text-right\">16,349</td><td><a href=\"javascript:void(0);\" onclick='addToWatchlist(\"PMHPL\");' title=\"Add to Watchlist\"><i class=\"icon-tags icon-white\"></i></a></td><td><a href=\"javascript:void(0);\" onclick='setAlert(\"PMHPL\");' title=\"Set as Alert\"><i class=\"icon-bell icon-white\"></i></a></td></tr>\n",
       "<tr class=\"decrease-row\"><td><a href=\"/CompanyDetail.aspx?symbol=PPCL\" target=\"_blank\" title=\"PPCL (Panchthar Power Company Limited)\">PPCL</a></td><td class=\"text-right\">377.00</td><td class=\"text-right\">-2.33</td><td class=\"text-right\">385.00</td><td class=\"text-right\">375.00</td><td class=\"text-right\">384.00</td><td class=\"text-right\">36,149</td><td><a href=\"javascript:void(0);\" onclick='addToWatchlist(\"PPCL\");' title=\"Add to Watchlist\"><i class=\"icon-tags icon-white\"></i></a></td><td><a href=\"javascript:void(0);\" onclick='setAlert(\"PPCL\");' title=\"Set as Alert\"><i class=\"icon-bell icon-white\"></i></a></td></tr>\n",
       "<tr class=\"decrease-row\"><td><a href=\"/CompanyDetail.aspx?symbol=PPL\" limited=\"\" power=\"\" s=\"\" target=\"_blank\" title=\"PPL (People\">PPL</a></td><td class=\"text-right\">315.10</td><td class=\"text-right\">-3.05</td><td class=\"text-right\">328.00</td><td class=\"text-right\">309.00</td><td class=\"text-right\">325.00</td><td class=\"text-right\">25,826</td><td><a href=\"javascript:void(0);\" onclick='addToWatchlist(\"PPL\");' title=\"Add to Watchlist\"><i class=\"icon-tags icon-white\"></i></a></td><td><a href=\"javascript:void(0);\" onclick='setAlert(\"PPL\");' title=\"Set as Alert\"><i class=\"icon-bell icon-white\"></i></a></td></tr>\n",
       "<tr class=\"decrease-row\"><td><a href=\"/CompanyDetail.aspx?symbol=PRIN\" target=\"_blank\" title=\"PRIN (Prabhu Insurance Ltd.)\">PRIN</a></td><td class=\"text-right\">598.00</td><td class=\"text-right\">-0.17</td><td class=\"text-right\">612.00</td><td class=\"text-right\">587.10</td><td class=\"text-right\">599.00</td><td class=\"text-right\">8,779</td><td><a href=\"javascript:void(0);\" onclick='addToWatchlist(\"PRIN\");' title=\"Add to Watchlist\"><i class=\"icon-tags icon-white\"></i></a></td><td><a href=\"javascript:void(0);\" onclick='setAlert(\"PRIN\");' title=\"Set as Alert\"><i class=\"icon-bell icon-white\"></i></a></td></tr>\n",
       "<tr class=\"decrease-row\"><td><a href=\"/CompanyDetail.aspx?symbol=PROFL\" target=\"_blank\" title=\"PROFL (Progressive Finance Limited)\">PROFL</a></td><td class=\"text-right\">348.00</td><td class=\"text-right\">-3.33</td><td class=\"text-right\">367.00</td><td class=\"text-right\">348.00</td><td class=\"text-right\">358.00</td><td class=\"text-right\">14,761</td><td><a href=\"javascript:void(0);\" onclick='addToWatchlist(\"PROFL\");' title=\"Add to Watchlist\"><i class=\"icon-tags icon-white\"></i></a></td><td><a href=\"javascript:void(0);\" onclick='setAlert(\"PROFL\");' title=\"Set as Alert\"><i class=\"icon-bell icon-white\"></i></a></td></tr>\n",
       "<tr class=\"decrease-row\"><td><a href=\"/CompanyDetail.aspx?symbol=PRVU\" target=\"_blank\" title=\"PRVU (Prabhu Bank Limited)\">PRVU</a></td><td class=\"text-right\">200.50</td><td class=\"text-right\">-0.99</td><td class=\"text-right\">204.30</td><td class=\"text-right\">200.00</td><td class=\"text-right\">202.00</td><td class=\"text-right\">50,286</td><td><a href=\"javascript:void(0);\" onclick='addToWatchlist(\"PRVU\");' title=\"Add to Watchlist\"><i class=\"icon-tags icon-white\"></i></a></td><td><a href=\"javascript:void(0);\" onclick='setAlert(\"PRVU\");' title=\"Set as Alert\"><i class=\"icon-bell icon-white\"></i></a></td></tr>\n",
       "<tr class=\"decrease-row\"><td><a href=\"/CompanyDetail.aspx?symbol=PSF\" target=\"_blank\" title=\"PSF (Prabhu Select Fund)\">PSF</a></td><td class=\"text-right\">8.36</td><td class=\"text-right\">-0.48</td><td class=\"text-right\">8.51</td><td class=\"text-right\">8.30</td><td class=\"text-right\">8.30</td><td class=\"text-right\">14,300</td><td><a href=\"javascript:void(0);\" onclick='addToWatchlist(\"PSF\");' title=\"Add to Watchlist\"><i class=\"icon-tags icon-white\"></i></a></td><td><a href=\"javascript:void(0);\" onclick='setAlert(\"PSF\");' title=\"Set as Alert\"><i class=\"icon-bell icon-white\"></i></a></td></tr>\n",
       "<tr class=\"decrease-row\"><td><a href=\"/CompanyDetail.aspx?symbol=RADHI\" target=\"_blank\" title=\"RADHI (Radhi Bidyut Company Ltd)\">RADHI</a></td><td class=\"text-right\">270.60</td><td class=\"text-right\">-1.64</td><td class=\"text-right\">278.00</td><td class=\"text-right\">265.00</td><td class=\"text-right\">269.70</td><td class=\"text-right\">50,549</td><td><a href=\"javascript:void(0);\" onclick='addToWatchlist(\"RADHI\");' title=\"Add to Watchlist\"><i class=\"icon-tags icon-white\"></i></a></td><td><a href=\"javascript:void(0);\" onclick='setAlert(\"RADHI\");' title=\"Set as Alert\"><i class=\"icon-bell icon-white\"></i></a></td></tr>\n",
       "<tr class=\"decrease-row\"><td><a href=\"/CompanyDetail.aspx?symbol=RBCL\" target=\"_blank\" title=\"RBCL (Rastriya Beema Company Limited)\">RBCL</a></td><td class=\"text-right\">13,800.00</td><td class=\"text-right\">-0.72</td><td class=\"text-right\">13,969.90</td><td class=\"text-right\">13,800.00</td><td class=\"text-right\">13,900.00</td><td class=\"text-right\">278</td><td><a href=\"javascript:void(0);\" onclick='addToWatchlist(\"RBCL\");' title=\"Add to Watchlist\"><i class=\"icon-tags icon-white\"></i></a></td><td><a href=\"javascript:void(0);\" onclick='setAlert(\"RBCL\");' title=\"Set as Alert\"><i class=\"icon-bell icon-white\"></i></a></td></tr>\n",
       "<tr class=\"decrease-row\"><td><a href=\"/CompanyDetail.aspx?symbol=RBCLPO\" target=\"_blank\" title=\"RBCLPO (Rastriya Beema Company Limited Promoter Share)\">RBCLPO</a></td><td class=\"text-right\">11,852.00</td><td class=\"text-right\">-2.85</td><td class=\"text-right\">12,011.00</td><td class=\"text-right\">11,800.00</td><td class=\"text-right\">11,999.00</td><td class=\"text-right\">610</td><td><a href=\"javascript:void(0);\" onclick='addToWatchlist(\"RBCLPO\");' title=\"Add to Watchlist\"><i class=\"icon-tags icon-white\"></i></a></td><td><a href=\"javascript:void(0);\" onclick='setAlert(\"RBCLPO\");' title=\"Set as Alert\"><i class=\"icon-bell icon-white\"></i></a></td></tr>\n",
       "<tr class=\"increase-row\"><td><a href=\"/CompanyDetail.aspx?symbol=RFPL\" target=\"_blank\" title=\"RFPL (River Falls Power Limited)\">RFPL</a></td><td class=\"text-right\">320.00</td><td class=\"text-right\">3.9</td><td class=\"text-right\">325.00</td><td class=\"text-right\">295.10</td><td class=\"text-right\">302.00</td><td class=\"text-right\">54,004</td><td><a href=\"javascript:void(0);\" onclick='addToWatchlist(\"RFPL\");' title=\"Add to Watchlist\"><i class=\"icon-tags icon-white\"></i></a></td><td><a href=\"javascript:void(0);\" onclick='setAlert(\"RFPL\");' title=\"Set as Alert\"><i class=\"icon-bell icon-white\"></i></a></td></tr>\n",
       "<tr class=\"decrease-row\"><td><a href=\"/CompanyDetail.aspx?symbol=RHGCL\" target=\"_blank\" title=\"RHGCL (Rapti Hydro and General Construction Limited)\">RHGCL</a></td><td class=\"text-right\">310.00</td><td class=\"text-right\">-0.96</td><td class=\"text-right\">319.20</td><td class=\"text-right\">300.10</td><td class=\"text-right\">319.20</td><td class=\"text-right\">37,323</td><td><a href=\"javascript:void(0);\" onclick='addToWatchlist(\"RHGCL\");' title=\"Add to Watchlist\"><i class=\"icon-tags icon-white\"></i></a></td><td><a href=\"javascript:void(0);\" onclick='setAlert(\"RHGCL\");' title=\"Set as Alert\"><i class=\"icon-bell icon-white\"></i></a></td></tr>\n",
       "<tr class=\"increase-row\"><td><a href=\"/CompanyDetail.aspx?symbol=RHPL\" target=\"_blank\" title=\"RHPL (RASUWAGADHI HYDROPOWER COMPANY LIMITED)\">RHPL</a></td><td class=\"text-right\">329.80</td><td class=\"text-right\">0.24</td><td class=\"text-right\">337.90</td><td class=\"text-right\">323.00</td><td class=\"text-right\">324.00</td><td class=\"text-right\">74,735</td><td><a href=\"javascript:void(0);\" onclick='addToWatchlist(\"RHPL\");' title=\"Add to Watchlist\"><i class=\"icon-tags icon-white\"></i></a></td><td><a href=\"javascript:void(0);\" onclick='setAlert(\"RHPL\");' title=\"Set as Alert\"><i class=\"icon-bell icon-white\"></i></a></td></tr>\n",
       "<tr class=\"decrease-row\"><td><a href=\"/CompanyDetail.aspx?symbol=RIDI\" target=\"_blank\" title=\"RIDI (Ridi Power Company Limited)\">RIDI</a></td><td class=\"text-right\">565.00</td><td class=\"text-right\">-0.53</td><td class=\"text-right\">579.00</td><td class=\"text-right\">563.10</td><td class=\"text-right\">579.00</td><td class=\"text-right\">109,072</td><td><a href=\"javascript:void(0);\" onclick='addToWatchlist(\"RIDI\");' title=\"Add to Watchlist\"><i class=\"icon-tags icon-white\"></i></a></td><td><a href=\"javascript:void(0);\" onclick='setAlert(\"RIDI\");' title=\"Set as Alert\"><i class=\"icon-bell icon-white\"></i></a></td></tr>\n",
       "<tr class=\"decrease-row\"><td><a href=\"/CompanyDetail.aspx?symbol=RLFL\" target=\"_blank\" title=\"RLFL (Reliance Finance Ltd.)\">RLFL</a></td><td class=\"text-right\">344.00</td><td class=\"text-right\">-2.27</td><td class=\"text-right\">355.00</td><td class=\"text-right\">341.00</td><td class=\"text-right\">345.10</td><td class=\"text-right\">19,550</td><td><a href=\"javascript:void(0);\" onclick='addToWatchlist(\"RLFL\");' title=\"Add to Watchlist\"><i class=\"icon-tags icon-white\"></i></a></td><td><a href=\"javascript:void(0);\" onclick='setAlert(\"RLFL\");' title=\"Set as Alert\"><i class=\"icon-bell icon-white\"></i></a></td></tr>\n",
       "<tr class=\"increase-row\"><td><a href=\"/CompanyDetail.aspx?symbol=RLI\" target=\"_blank\" title=\"RLI (Reliance Life Insurance Company Limited)\">RLI</a></td><td class=\"text-right\">457.80</td><td class=\"text-right\">1.06</td><td class=\"text-right\">459.90</td><td class=\"text-right\">446.10</td><td class=\"text-right\">455.00</td><td class=\"text-right\">9,493</td><td><a href=\"javascript:void(0);\" onclick='addToWatchlist(\"RLI\");' title=\"Add to Watchlist\"><i class=\"icon-tags icon-white\"></i></a></td><td><a href=\"javascript:void(0);\" onclick='setAlert(\"RLI\");' title=\"Set as Alert\"><i class=\"icon-bell icon-white\"></i></a></td></tr>\n",
       "<tr class=\"decrease-row\"><td><a href=\"/CompanyDetail.aspx?symbol=RMDC\" target=\"_blank\" title=\"RMDC (RMDC Laghubitta Bittiya Sanstha Limited)\">RMDC</a></td><td class=\"text-right\">1,076.00</td><td class=\"text-right\">-0.38</td><td class=\"text-right\">1,098.80</td><td class=\"text-right\">1,076.00</td><td class=\"text-right\">1,098.80</td><td class=\"text-right\">8,138</td><td><a href=\"javascript:void(0);\" onclick='addToWatchlist(\"RMDC\");' title=\"Add to Watchlist\"><i class=\"icon-tags icon-white\"></i></a></td><td><a href=\"javascript:void(0);\" onclick='setAlert(\"RMDC\");' title=\"Set as Alert\"><i class=\"icon-bell icon-white\"></i></a></td></tr>\n",
       "<tr class=\"increase-row\"><td><a href=\"/CompanyDetail.aspx?symbol=RMF1\" target=\"_blank\" title=\"RMF1 (RBB Mutual Fund 1)\">RMF1</a></td><td class=\"text-right\">7.94</td><td class=\"text-right\">4.47</td><td class=\"text-right\">7.94</td><td class=\"text-right\">7.45</td><td class=\"text-right\">7.45</td><td class=\"text-right\">27,375</td><td><a href=\"javascript:void(0);\" onclick='addToWatchlist(\"RMF1\");' title=\"Add to Watchlist\"><i class=\"icon-tags icon-white\"></i></a></td><td><a href=\"javascript:void(0);\" onclick='setAlert(\"RMF1\");' title=\"Set as Alert\"><i class=\"icon-bell icon-white\"></i></a></td></tr>\n",
       "<tr class=\"decrease-row\"><td><a href=\"/CompanyDetail.aspx?symbol=RSDC\" target=\"_blank\" title=\"RSDC (RSDC Laghubitta Bittiya Sanstha Ltd.)\">RSDC</a></td><td class=\"text-right\">636.00</td><td class=\"text-right\">-0.62</td><td class=\"text-right\">639.00</td><td class=\"text-right\">628.10</td><td class=\"text-right\">628.20</td><td class=\"text-right\">4,381</td><td><a href=\"javascript:void(0);\" onclick='addToWatchlist(\"RSDC\");' title=\"Add to Watchlist\"><i class=\"icon-tags icon-white\"></i></a></td><td><a href=\"javascript:void(0);\" onclick='setAlert(\"RSDC\");' title=\"Set as Alert\"><i class=\"icon-bell icon-white\"></i></a></td></tr>\n",
       "<tr class=\"decrease-row\"><td><a href=\"/CompanyDetail.aspx?symbol=RULB\" target=\"_blank\" title=\"RULB (Rastra Utthan Laghubitta Sanstha Limited)\">RULB</a></td><td class=\"text-right\">945.00</td><td class=\"text-right\">-3.28</td><td class=\"text-right\">977.00</td><td class=\"text-right\">945.00</td><td class=\"text-right\">957.50</td><td class=\"text-right\">1,593</td><td><a href=\"javascript:void(0);\" onclick='addToWatchlist(\"RULB\");' title=\"Add to Watchlist\"><i class=\"icon-tags icon-white\"></i></a></td><td><a href=\"javascript:void(0);\" onclick='setAlert(\"RULB\");' title=\"Set as Alert\"><i class=\"icon-bell icon-white\"></i></a></td></tr>\n",
       "<tr class=\"decrease-row\"><td><a href=\"/CompanyDetail.aspx?symbol=RURU\" target=\"_blank\" title=\"RURU (Ru Ru Jalbidhyut Pariyojana Limited)\">RURU</a></td><td class=\"text-right\">773.00</td><td class=\"text-right\">-1.53</td><td class=\"text-right\">785.00</td><td class=\"text-right\">770.00</td><td class=\"text-right\">771.50</td><td class=\"text-right\">1,918</td><td><a href=\"javascript:void(0);\" onclick='addToWatchlist(\"RURU\");' title=\"Add to Watchlist\"><i class=\"icon-tags icon-white\"></i></a></td><td><a href=\"javascript:void(0);\" onclick='setAlert(\"RURU\");' title=\"Set as Alert\"><i class=\"icon-bell icon-white\"></i></a></td></tr>\n",
       "<tr class=\"decrease-row\"><td><a href=\"/CompanyDetail.aspx?symbol=SABSL\" target=\"_blank\" title=\"SABSL (SABAIKO LAGHUBITTA BITTIYA SANSTHA LIMITED)\">SABSL</a></td><td class=\"text-right\">1,008.00</td><td class=\"text-right\">-1.18</td><td class=\"text-right\">1,020.00</td><td class=\"text-right\">990.00</td><td class=\"text-right\">1,005.00</td><td class=\"text-right\">1,716</td><td><a href=\"javascript:void(0);\" onclick='addToWatchlist(\"SABSL\");' title=\"Add to Watchlist\"><i class=\"icon-tags icon-white\"></i></a></td><td><a href=\"javascript:void(0);\" onclick='setAlert(\"SABSL\");' title=\"Set as Alert\"><i class=\"icon-bell icon-white\"></i></a></td></tr>\n",
       "<tr class=\"decrease-row\"><td><a href=\"/CompanyDetail.aspx?symbol=SADBL\" target=\"_blank\" title=\"SADBL (Shangrila Development Bank Ltd.)\">SADBL</a></td><td class=\"text-right\">340.00</td><td class=\"text-right\">-1.25</td><td class=\"text-right\">344.90</td><td class=\"text-right\">331.30</td><td class=\"text-right\">337.50</td><td class=\"text-right\">29,948</td><td><a href=\"javascript:void(0);\" onclick='addToWatchlist(\"SADBL\");' title=\"Add to Watchlist\"><i class=\"icon-tags icon-white\"></i></a></td><td><a href=\"javascript:void(0);\" onclick='setAlert(\"SADBL\");' title=\"Set as Alert\"><i class=\"icon-bell icon-white\"></i></a></td></tr>\n",
       "<tr class=\"nochange-row\"><td><a href=\"/CompanyDetail.aspx?symbol=SAEF\" target=\"_blank\" title=\"SAEF (Sanima Equity Fund)\">SAEF</a></td><td class=\"text-right\">11.12</td><td class=\"text-right\">0</td><td class=\"text-right\">11.13</td><td class=\"text-right\">11.03</td><td class=\"text-right\">11.12</td><td class=\"text-right\">25,095</td><td><a href=\"javascript:void(0);\" onclick='addToWatchlist(\"SAEF\");' title=\"Add to Watchlist\"><i class=\"icon-tags icon-white\"></i></a></td><td><a href=\"javascript:void(0);\" onclick='setAlert(\"SAEF\");' title=\"Set as Alert\"><i class=\"icon-bell icon-white\"></i></a></td></tr>\n",
       "<tr class=\"increase-row\"><td><a href=\"/CompanyDetail.aspx?symbol=SAHAS\" target=\"_blank\" title=\"SAHAS (Sahas Urja Limited)\">SAHAS</a></td><td class=\"text-right\">608.10</td><td class=\"text-right\">1.52</td><td class=\"text-right\">616.00</td><td class=\"text-right\">577.30</td><td class=\"text-right\">588.00</td><td class=\"text-right\">61,546</td><td><a href=\"javascript:void(0);\" onclick='addToWatchlist(\"SAHAS\");' title=\"Add to Watchlist\"><i class=\"icon-tags icon-white\"></i></a></td><td><a href=\"javascript:void(0);\" onclick='setAlert(\"SAHAS\");' title=\"Set as Alert\"><i class=\"icon-bell icon-white\"></i></a></td></tr>\n",
       "<tr class=\"increase-row\"><td><a href=\"/CompanyDetail.aspx?symbol=SANIMA\" target=\"_blank\" title=\"SANIMA (Sanima Bank Limited)\">SANIMA</a></td><td class=\"text-right\">260.80</td><td class=\"text-right\">0.69</td><td class=\"text-right\">265.00</td><td class=\"text-right\">259.00</td><td class=\"text-right\">259.00</td><td class=\"text-right\">63,662</td><td><a href=\"javascript:void(0);\" onclick='addToWatchlist(\"SANIMA\");' title=\"Add to Watchlist\"><i class=\"icon-tags icon-white\"></i></a></td><td><a href=\"javascript:void(0);\" onclick='setAlert(\"SANIMA\");' title=\"Set as Alert\"><i class=\"icon-bell icon-white\"></i></a></td></tr>\n",
       "<tr class=\"decrease-row\"><td><a href=\"/CompanyDetail.aspx?symbol=SAPDBL\" target=\"_blank\" title=\"SAPDBL (Saptakoshi Development Bank Ltd)\">SAPDBL</a></td><td class=\"text-right\">260.10</td><td class=\"text-right\">-3.42</td><td class=\"text-right\">274.00</td><td class=\"text-right\">260.10</td><td class=\"text-right\">264.00</td><td class=\"text-right\">20,826</td><td><a href=\"javascript:void(0);\" onclick='addToWatchlist(\"SAPDBL\");' title=\"Add to Watchlist\"><i class=\"icon-tags icon-white\"></i></a></td><td><a href=\"javascript:void(0);\" onclick='setAlert(\"SAPDBL\");' title=\"Set as Alert\"><i class=\"icon-bell icon-white\"></i></a></td></tr>\n",
       "<tr class=\"decrease-row\"><td><a href=\"/CompanyDetail.aspx?symbol=SBCF\" target=\"_blank\" title=\"SBCF (Sunrise Bluechip Fund)\">SBCF</a></td><td class=\"text-right\">8.50</td><td class=\"text-right\">-1.96</td><td class=\"text-right\">8.65</td><td class=\"text-right\">8.50</td><td class=\"text-right\">8.50</td><td class=\"text-right\">150,636</td><td><a href=\"javascript:void(0);\" onclick='addToWatchlist(\"SBCF\");' title=\"Add to Watchlist\"><i class=\"icon-tags icon-white\"></i></a></td><td><a href=\"javascript:void(0);\" onclick='setAlert(\"SBCF\");' title=\"Set as Alert\"><i class=\"icon-bell icon-white\"></i></a></td></tr>\n",
       "<tr class=\"nochange-row\"><td><a href=\"/CompanyDetail.aspx?symbol=SBD87\" target=\"_blank\" title=\"SBD87 (8.5% Sanima Debenture 2087)\">SBD87</a></td><td class=\"text-right\">765.00</td><td class=\"text-right\">0</td><td class=\"text-right\">765.00</td><td class=\"text-right\">765.00</td><td class=\"text-right\">765.00</td><td class=\"text-right\">110</td><td><a href=\"javascript:void(0);\" onclick='addToWatchlist(\"SBD87\");' title=\"Add to Watchlist\"><i class=\"icon-tags icon-white\"></i></a></td><td><a href=\"javascript:void(0);\" onclick='setAlert(\"SBD87\");' title=\"Set as Alert\"><i class=\"icon-bell icon-white\"></i></a></td></tr>\n",
       "<tr class=\"decrease-row\"><td><a href=\"/CompanyDetail.aspx?symbol=SBI\" target=\"_blank\" title=\"SBI (Nepal SBI Bank Limited)\">SBI</a></td><td class=\"text-right\">331.00</td><td class=\"text-right\">-4.06</td><td class=\"text-right\">344.00</td><td class=\"text-right\">329.00</td><td class=\"text-right\">343.90</td><td class=\"text-right\">45,986</td><td><a href=\"javascript:void(0);\" onclick='addToWatchlist(\"SBI\");' title=\"Add to Watchlist\"><i class=\"icon-tags icon-white\"></i></a></td><td><a href=\"javascript:void(0);\" onclick='setAlert(\"SBI\");' title=\"Set as Alert\"><i class=\"icon-bell icon-white\"></i></a></td></tr>\n",
       "<tr class=\"increase-row\"><td><a href=\"/CompanyDetail.aspx?symbol=SBID83\" target=\"_blank\" title=\"SBID83 (10.25% Nepal SBI Bank Debenture 2083)\">SBID83</a></td><td class=\"text-right\">880.10</td><td class=\"text-right\">0.01</td><td class=\"text-right\">880.10</td><td class=\"text-right\">880.10</td><td class=\"text-right\">880.10</td><td class=\"text-right\">25</td><td><a href=\"javascript:void(0);\" onclick='addToWatchlist(\"SBID83\");' title=\"Add to Watchlist\"><i class=\"icon-tags icon-white\"></i></a></td><td><a href=\"javascript:void(0);\" onclick='setAlert(\"SBID83\");' title=\"Set as Alert\"><i class=\"icon-bell icon-white\"></i></a></td></tr>\n",
       "<tr class=\"decrease-row\"><td><a href=\"/CompanyDetail.aspx?symbol=SBL\" target=\"_blank\" title=\"SBL (Siddhartha Bank Limited)\">SBL</a></td><td class=\"text-right\">294.00</td><td class=\"text-right\">-0.68</td><td class=\"text-right\">297.80</td><td class=\"text-right\">293.00</td><td class=\"text-right\">297.00</td><td class=\"text-right\">37,470</td><td><a href=\"javascript:void(0);\" onclick='addToWatchlist(\"SBL\");' title=\"Add to Watchlist\"><i class=\"icon-tags icon-white\"></i></a></td><td><a href=\"javascript:void(0);\" onclick='setAlert(\"SBL\");' title=\"Set as Alert\"><i class=\"icon-bell icon-white\"></i></a></td></tr>\n",
       "<tr class=\"nochange-row\"><td><a href=\"/CompanyDetail.aspx?symbol=SBLD2082\" target=\"_blank\" title=\"SBLD2082 (10.50% SBL Debenture 2082)\">SBLD2082</a></td><td class=\"text-right\">920.00</td><td class=\"text-right\">0</td><td class=\"text-right\">920.00</td><td class=\"text-right\">920.00</td><td class=\"text-right\">920.00</td><td class=\"text-right\">50</td><td><a href=\"javascript:void(0);\" onclick='addToWatchlist(\"SBLD2082\");' title=\"Add to Watchlist\"><i class=\"icon-tags icon-white\"></i></a></td><td><a href=\"javascript:void(0);\" onclick='setAlert(\"SBLD2082\");' title=\"Set as Alert\"><i class=\"icon-bell icon-white\"></i></a></td></tr>\n",
       "<tr class=\"increase-row\"><td><a href=\"/CompanyDetail.aspx?symbol=SBLD84\" target=\"_blank\" title=\"SBLD84 (8.5% SBL Debenture 2084)\">SBLD84</a></td><td class=\"text-right\">790.00</td><td class=\"text-right\">0.38</td><td class=\"text-right\">790.00</td><td class=\"text-right\">790.00</td><td class=\"text-right\">790.00</td><td class=\"text-right\">25</td><td><a href=\"javascript:void(0);\" onclick='addToWatchlist(\"SBLD84\");' title=\"Add to Watchlist\"><i class=\"icon-tags icon-white\"></i></a></td><td><a href=\"javascript:void(0);\" onclick='setAlert(\"SBLD84\");' title=\"Set as Alert\"><i class=\"icon-bell icon-white\"></i></a></td></tr>\n",
       "<tr class=\"nochange-row\"><td><a href=\"/CompanyDetail.aspx?symbol=SBLPO\" target=\"_blank\" title=\"SBLPO (Siddhartha Bank Limited Promoter Share)\">SBLPO</a></td><td class=\"text-right\">171.50</td><td class=\"text-right\">0</td><td class=\"text-right\">171.50</td><td class=\"text-right\">171.50</td><td class=\"text-right\">171.50</td><td class=\"text-right\">46,869</td><td><a href=\"javascript:void(0);\" onclick='addToWatchlist(\"SBLPO\");' title=\"Add to Watchlist\"><i class=\"icon-tags icon-white\"></i></a></td><td><a href=\"javascript:void(0);\" onclick='setAlert(\"SBLPO\");' title=\"Set as Alert\"><i class=\"icon-bell icon-white\"></i></a></td></tr>\n",
       "<tr class=\"decrease-row\"><td><a href=\"/CompanyDetail.aspx?symbol=SCB\" target=\"_blank\" title=\"SCB (Standard Chartered Bank Limited)\">SCB</a></td><td class=\"text-right\">500.00</td><td class=\"text-right\">-0.6</td><td class=\"text-right\">510.00</td><td class=\"text-right\">497.00</td><td class=\"text-right\">507.00</td><td class=\"text-right\">40,164</td><td><a href=\"javascript:void(0);\" onclick='addToWatchlist(\"SCB\");' title=\"Add to Watchlist\"><i class=\"icon-tags icon-white\"></i></a></td><td><a href=\"javascript:void(0);\" onclick='setAlert(\"SCB\");' title=\"Set as Alert\"><i class=\"icon-bell icon-white\"></i></a></td></tr>\n",
       "<tr class=\"nochange-row\"><td><a href=\"/CompanyDetail.aspx?symbol=SDBD87\" target=\"_blank\" title=\"SDBD87 (9% Shangri-la Development Bank Debenture 2087)\">SDBD87</a></td><td class=\"text-right\">780.00</td><td class=\"text-right\">0</td><td class=\"text-right\">780.00</td><td class=\"text-right\">780.00</td><td class=\"text-right\">780.00</td><td class=\"text-right\">200</td><td><a href=\"javascript:void(0);\" onclick='addToWatchlist(\"SDBD87\");' title=\"Add to Watchlist\"><i class=\"icon-tags icon-white\"></i></a></td><td><a href=\"javascript:void(0);\" onclick='setAlert(\"SDBD87\");' title=\"Set as Alert\"><i class=\"icon-bell icon-white\"></i></a></td></tr>\n",
       "<tr class=\"decrease-row\"><td><a href=\"/CompanyDetail.aspx?symbol=SDLBSL\" target=\"_blank\" title=\"SDLBSL (Sadhana Laghubitta Bittiya Sanstha Limited)\">SDLBSL</a></td><td class=\"text-right\">900.00</td><td class=\"text-right\">-1.64</td><td class=\"text-right\">910.00</td><td class=\"text-right\">900.00</td><td class=\"text-right\">902.00</td><td class=\"text-right\">784</td><td><a href=\"javascript:void(0);\" onclick='addToWatchlist(\"SDLBSL\");' title=\"Add to Watchlist\"><i class=\"icon-tags icon-white\"></i></a></td><td><a href=\"javascript:void(0);\" onclick='setAlert(\"SDLBSL\");' title=\"Set as Alert\"><i class=\"icon-bell icon-white\"></i></a></td></tr>\n",
       "<tr class=\"decrease-row\"><td><a href=\"/CompanyDetail.aspx?symbol=SEF\" target=\"_blank\" title=\"SEF (Siddhartha Equity Fund)\">SEF</a></td><td class=\"text-right\">8.77</td><td class=\"text-right\">-3.63</td><td class=\"text-right\">9.00</td><td class=\"text-right\">8.75</td><td class=\"text-right\">8.92</td><td class=\"text-right\">8,720</td><td><a href=\"javascript:void(0);\" onclick='addToWatchlist(\"SEF\");' title=\"Add to Watchlist\"><i class=\"icon-tags icon-white\"></i></a></td><td><a href=\"javascript:void(0);\" onclick='setAlert(\"SEF\");' title=\"Set as Alert\"><i class=\"icon-bell icon-white\"></i></a></td></tr>\n",
       "<tr class=\"decrease-row\"><td><a href=\"/CompanyDetail.aspx?symbol=SFCL\" target=\"_blank\" title=\"SFCL (Samriddhi Finance Company Limited)\">SFCL</a></td><td class=\"text-right\">324.00</td><td class=\"text-right\">-6.09</td><td class=\"text-right\">343.70</td><td class=\"text-right\">323.50</td><td class=\"text-right\">340.10</td><td class=\"text-right\">95,677</td><td><a href=\"javascript:void(0);\" onclick='addToWatchlist(\"SFCL\");' title=\"Add to Watchlist\"><i class=\"icon-tags icon-white\"></i></a></td><td><a href=\"javascript:void(0);\" onclick='setAlert(\"SFCL\");' title=\"Set as Alert\"><i class=\"icon-bell icon-white\"></i></a></td></tr>\n",
       "<tr class=\"nochange-row\"><td><a href=\"/CompanyDetail.aspx?symbol=SFMF\" target=\"_blank\" title=\"SFMF (Sunrise First Mutual Fund)\">SFMF</a></td><td class=\"text-right\">10.22</td><td class=\"text-right\">0</td><td class=\"text-right\">10.42</td><td class=\"text-right\">10.02</td><td class=\"text-right\">10.02</td><td class=\"text-right\">1,700</td><td><a href=\"javascript:void(0);\" onclick='addToWatchlist(\"SFMF\");' title=\"Add to Watchlist\"><i class=\"icon-tags icon-white\"></i></a></td><td><a href=\"javascript:void(0);\" onclick='setAlert(\"SFMF\");' title=\"Set as Alert\"><i class=\"icon-bell icon-white\"></i></a></td></tr>\n",
       "<tr class=\"increase-row\"><td><a href=\"/CompanyDetail.aspx?symbol=SGHC\" target=\"_blank\" title=\"SGHC (Swet-Ganga Hydropower &amp; Construction Limited )\">SGHC</a></td><td class=\"text-right\">411.60</td><td class=\"text-right\">9.67</td><td class=\"text-right\">411.60</td><td class=\"text-right\">358.00</td><td class=\"text-right\">367.80</td><td class=\"text-right\">29,501</td><td><a href=\"javascript:void(0);\" onclick='addToWatchlist(\"SGHC\");' title=\"Add to Watchlist\"><i class=\"icon-tags icon-white\"></i></a></td><td><a href=\"javascript:void(0);\" onclick='setAlert(\"SGHC\");' title=\"Set as Alert\"><i class=\"icon-bell icon-white\"></i></a></td></tr>\n",
       "<tr class=\"increase-row\"><td><a href=\"/CompanyDetail.aspx?symbol=SGIC\" target=\"_blank\" title=\"SGIC (Sanima GIC Insurance Limited)\">SGIC</a></td><td class=\"text-right\">498.00</td><td class=\"text-right\">0.61</td><td class=\"text-right\">514.00</td><td class=\"text-right\">476.00</td><td class=\"text-right\">485.10</td><td class=\"text-right\">23,218</td><td><a href=\"javascript:void(0);\" onclick='addToWatchlist(\"SGIC\");' title=\"Add to Watchlist\"><i class=\"icon-tags icon-white\"></i></a></td><td><a href=\"javascript:void(0);\" onclick='setAlert(\"SGIC\");' title=\"Set as Alert\"><i class=\"icon-bell icon-white\"></i></a></td></tr>\n",
       "<tr class=\"decrease-row\"><td><a href=\"/CompanyDetail.aspx?symbol=SHEL\" target=\"_blank\" title=\"SHEL (Singati Hydro Energy Limited)\">SHEL</a></td><td class=\"text-right\">352.00</td><td class=\"text-right\">-2.79</td><td class=\"text-right\">363.00</td><td class=\"text-right\">350.00</td><td class=\"text-right\">360.00</td><td class=\"text-right\">16,621</td><td><a href=\"javascript:void(0);\" onclick='addToWatchlist(\"SHEL\");' title=\"Add to Watchlist\"><i class=\"icon-tags icon-white\"></i></a></td><td><a href=\"javascript:void(0);\" onclick='setAlert(\"SHEL\");' title=\"Set as Alert\"><i class=\"icon-bell icon-white\"></i></a></td></tr>\n",
       "<tr class=\"decrease-row\"><td><a href=\"/CompanyDetail.aspx?symbol=SHINE\" target=\"_blank\" title=\"SHINE (Shine Resunga Development Bank Ltd.)\">SHINE</a></td><td class=\"text-right\">355.00</td><td class=\"text-right\">-1.11</td><td class=\"text-right\">360.30</td><td class=\"text-right\">351.90</td><td class=\"text-right\">352.00</td><td class=\"text-right\">42,126</td><td><a href=\"javascript:void(0);\" onclick='addToWatchlist(\"SHINE\");' title=\"Add to Watchlist\"><i class=\"icon-tags icon-white\"></i></a></td><td><a href=\"javascript:void(0);\" onclick='setAlert(\"SHINE\");' title=\"Set as Alert\"><i class=\"icon-bell icon-white\"></i></a></td></tr>\n",
       "<tr class=\"decrease-row\"><td><a href=\"/CompanyDetail.aspx?symbol=SHIVM\" target=\"_blank\" title=\"SHIVM (SHIVAM CEMENTS LTD)\">SHIVM</a></td><td class=\"text-right\">525.00</td><td class=\"text-right\">-0.38</td><td class=\"text-right\">534.00</td><td class=\"text-right\">521.00</td><td class=\"text-right\">525.00</td><td class=\"text-right\">94,868</td><td><a href=\"javascript:void(0);\" onclick='addToWatchlist(\"SHIVM\");' title=\"Add to Watchlist\"><i class=\"icon-tags icon-white\"></i></a></td><td><a href=\"javascript:void(0);\" onclick='setAlert(\"SHIVM\");' title=\"Set as Alert\"><i class=\"icon-bell icon-white\"></i></a></td></tr>\n",
       "<tr class=\"increase-row\"><td><a href=\"/CompanyDetail.aspx?symbol=SHL\" target=\"_blank\" title=\"SHL (Soaltee Hotel Limited)\">SHL</a></td><td class=\"text-right\">233.90</td><td class=\"text-right\">0.39</td><td class=\"text-right\">235.00</td><td class=\"text-right\">225.40</td><td class=\"text-right\">230.00</td><td class=\"text-right\">29,133</td><td><a href=\"javascript:void(0);\" onclick='addToWatchlist(\"SHL\");' title=\"Add to Watchlist\"><i class=\"icon-tags icon-white\"></i></a></td><td><a href=\"javascript:void(0);\" onclick='setAlert(\"SHL\");' title=\"Set as Alert\"><i class=\"icon-bell icon-white\"></i></a></td></tr>\n",
       "<tr class=\"decrease-row\"><td><a href=\"/CompanyDetail.aspx?symbol=SHLB\" target=\"_blank\" title=\"SHLB (Shrijanshil Laghubitta Bittiya Sanstha Limited)\">SHLB</a></td><td class=\"text-right\">2,359.00</td><td class=\"text-right\">-0.25</td><td class=\"text-right\">2,404.00</td><td class=\"text-right\">2,353.50</td><td class=\"text-right\">2,355.00</td><td class=\"text-right\">3,435</td><td><a href=\"javascript:void(0);\" onclick='addToWatchlist(\"SHLB\");' title=\"Add to Watchlist\"><i class=\"icon-tags icon-white\"></i></a></td><td><a href=\"javascript:void(0);\" onclick='setAlert(\"SHLB\");' title=\"Set as Alert\"><i class=\"icon-bell icon-white\"></i></a></td></tr>\n",
       "<tr class=\"decrease-row\"><td><a href=\"/CompanyDetail.aspx?symbol=SHPC\" target=\"_blank\" title=\"SHPC (Sanima Mai Hydropower Ltd.)\">SHPC</a></td><td class=\"text-right\">338.00</td><td class=\"text-right\">-0.29</td><td class=\"text-right\">345.00</td><td class=\"text-right\">330.00</td><td class=\"text-right\">333.00</td><td class=\"text-right\">55,667</td><td><a href=\"javascript:void(0);\" onclick='addToWatchlist(\"SHPC\");' title=\"Add to Watchlist\"><i class=\"icon-tags icon-white\"></i></a></td><td><a href=\"javascript:void(0);\" onclick='setAlert(\"SHPC\");' title=\"Set as Alert\"><i class=\"icon-bell icon-white\"></i></a></td></tr>\n",
       "<tr class=\"decrease-row\"><td><a href=\"/CompanyDetail.aspx?symbol=SIC\" target=\"_blank\" title=\"SIC (Sagarmatha Insurance Co. Ltd.)\">SIC</a></td><td class=\"text-right\">870.00</td><td class=\"text-right\">-4.4</td><td class=\"text-right\">930.00</td><td class=\"text-right\">870.00</td><td class=\"text-right\">928.20</td><td class=\"text-right\">15,844</td><td><a href=\"javascript:void(0);\" onclick='addToWatchlist(\"SIC\");' title=\"Add to Watchlist\"><i class=\"icon-tags icon-white\"></i></a></td><td><a href=\"javascript:void(0);\" onclick='setAlert(\"SIC\");' title=\"Set as Alert\"><i class=\"icon-bell icon-white\"></i></a></td></tr>\n",
       "<tr class=\"decrease-row\"><td><a href=\"/CompanyDetail.aspx?symbol=SICL\" target=\"_blank\" title=\"SICL (Shikhar Insurance Co. Ltd.)\">SICL</a></td><td class=\"text-right\">947.20</td><td class=\"text-right\">-1.33</td><td class=\"text-right\">960.00</td><td class=\"text-right\">940.00</td><td class=\"text-right\">941.00</td><td class=\"text-right\">19,240</td><td><a href=\"javascript:void(0);\" onclick='addToWatchlist(\"SICL\");' title=\"Add to Watchlist\"><i class=\"icon-tags icon-white\"></i></a></td><td><a href=\"javascript:void(0);\" onclick='setAlert(\"SICL\");' title=\"Set as Alert\"><i class=\"icon-bell icon-white\"></i></a></td></tr>\n",
       "<tr class=\"decrease-row\"><td><a href=\"/CompanyDetail.aspx?symbol=SIFC\" target=\"_blank\" title=\"SIFC (Shree Investment Finance Co. Ltd.)\">SIFC</a></td><td class=\"text-right\">346.30</td><td class=\"text-right\">-3.54</td><td class=\"text-right\">359.00</td><td class=\"text-right\">345.10</td><td class=\"text-right\">352.30</td><td class=\"text-right\">10,981</td><td><a href=\"javascript:void(0);\" onclick='addToWatchlist(\"SIFC\");' title=\"Add to Watchlist\"><i class=\"icon-tags icon-white\"></i></a></td><td><a href=\"javascript:void(0);\" onclick='setAlert(\"SIFC\");' title=\"Set as Alert\"><i class=\"icon-bell icon-white\"></i></a></td></tr>\n",
       "<tr class=\"decrease-row\"><td><a href=\"/CompanyDetail.aspx?symbol=SIGS2\" target=\"_blank\" title=\"SIGS2 (Siddhartha Investment Growth Scheme - 2)\">SIGS2</a></td><td class=\"text-right\">8.80</td><td class=\"text-right\">-2.65</td><td class=\"text-right\">8.86</td><td class=\"text-right\">8.77</td><td class=\"text-right\">8.86</td><td class=\"text-right\">3,700</td><td><a href=\"javascript:void(0);\" onclick='addToWatchlist(\"SIGS2\");' title=\"Add to Watchlist\"><i class=\"icon-tags icon-white\"></i></a></td><td><a href=\"javascript:void(0);\" onclick='setAlert(\"SIGS2\");' title=\"Set as Alert\"><i class=\"icon-bell icon-white\"></i></a></td></tr>\n",
       "<tr class=\"increase-row\"><td><a href=\"/CompanyDetail.aspx?symbol=SIKLES\" target=\"_blank\" title=\"SIKLES (Sikles Hydropower Limited)\">SIKLES</a></td><td class=\"text-right\">487.00</td><td class=\"text-right\">0.41</td><td class=\"text-right\">487.50</td><td class=\"text-right\">460.90</td><td class=\"text-right\">477.00</td><td class=\"text-right\">20,670</td><td><a href=\"javascript:void(0);\" onclick='addToWatchlist(\"SIKLES\");' title=\"Add to Watchlist\"><i class=\"icon-tags icon-white\"></i></a></td><td><a href=\"javascript:void(0);\" onclick='setAlert(\"SIKLES\");' title=\"Set as Alert\"><i class=\"icon-bell icon-white\"></i></a></td></tr>\n",
       "<tr class=\"increase-row\"><td><a href=\"/CompanyDetail.aspx?symbol=SIL\" target=\"_blank\" title=\"SIL (Siddhartha Insurance Ltd.)\">SIL</a></td><td class=\"text-right\">660.00</td><td class=\"text-right\">1.06</td><td class=\"text-right\">693.90</td><td class=\"text-right\">640.10</td><td class=\"text-right\">640.10</td><td class=\"text-right\">5,818</td><td><a href=\"javascript:void(0);\" onclick='addToWatchlist(\"SIL\");' title=\"Add to Watchlist\"><i class=\"icon-tags icon-white\"></i></a></td><td><a href=\"javascript:void(0);\" onclick='setAlert(\"SIL\");' title=\"Set as Alert\"><i class=\"icon-bell icon-white\"></i></a></td></tr>\n",
       "<tr class=\"decrease-row\"><td><a href=\"/CompanyDetail.aspx?symbol=SINDU\" target=\"_blank\" title=\"SINDU (Sindhu Bikash Bank Ltd)\">SINDU</a></td><td class=\"text-right\">296.00</td><td class=\"text-right\">-1.99</td><td class=\"text-right\">303.00</td><td class=\"text-right\">295.00</td><td class=\"text-right\">296.00</td><td class=\"text-right\">6,030</td><td><a href=\"javascript:void(0);\" onclick='addToWatchlist(\"SINDU\");' title=\"Add to Watchlist\"><i class=\"icon-tags icon-white\"></i></a></td><td><a href=\"javascript:void(0);\" onclick='setAlert(\"SINDU\");' title=\"Set as Alert\"><i class=\"icon-bell icon-white\"></i></a></td></tr>\n",
       "<tr class=\"decrease-row\"><td><a href=\"/CompanyDetail.aspx?symbol=SJCL\" target=\"_blank\" title=\"SJCL (SANJEN JALAVIDHYUT COMPANY LIMITED)\">SJCL</a></td><td class=\"text-right\">331.00</td><td class=\"text-right\">-3.22</td><td class=\"text-right\">344.90</td><td class=\"text-right\">327.70</td><td class=\"text-right\">336.00</td><td class=\"text-right\">50,441</td><td><a href=\"javascript:void(0);\" onclick='addToWatchlist(\"SJCL\");' title=\"Add to Watchlist\"><i class=\"icon-tags icon-white\"></i></a></td><td><a href=\"javascript:void(0);\" onclick='setAlert(\"SJCL\");' title=\"Set as Alert\"><i class=\"icon-bell icon-white\"></i></a></td></tr>\n",
       "<tr class=\"increase-row\"><td><a href=\"/CompanyDetail.aspx?symbol=SJLIC\" target=\"_blank\" title=\"SJLIC (SuryaJyoti Life Insurance Company Limited)\">SJLIC</a></td><td class=\"text-right\">494.40</td><td class=\"text-right\">9.99</td><td class=\"text-right\">494.40</td><td class=\"text-right\">458.40</td><td class=\"text-right\">458.40</td><td class=\"text-right\">1,815</td><td><a href=\"javascript:void(0);\" onclick='addToWatchlist(\"SJLIC\");' title=\"Add to Watchlist\"><i class=\"icon-tags icon-white\"></i></a></td><td><a href=\"javascript:void(0);\" onclick='setAlert(\"SJLIC\");' title=\"Set as Alert\"><i class=\"icon-bell icon-white\"></i></a></td></tr>\n",
       "<tr class=\"decrease-row\"><td><a href=\"/CompanyDetail.aspx?symbol=SKBBL\" target=\"_blank\" title=\"SKBBL (Sana Kisan Bikas Laghubitta Bittiya sanstha Limited.)\">SKBBL</a></td><td class=\"text-right\">1,266.00</td><td class=\"text-right\">-0.71</td><td class=\"text-right\">1,285.90</td><td class=\"text-right\">1,263.00</td><td class=\"text-right\">1,275.00</td><td class=\"text-right\">4,864</td><td><a href=\"javascript:void(0);\" onclick='addToWatchlist(\"SKBBL\");' title=\"Add to Watchlist\"><i class=\"icon-tags icon-white\"></i></a></td><td><a href=\"javascript:void(0);\" onclick='setAlert(\"SKBBL\");' title=\"Set as Alert\"><i class=\"icon-bell icon-white\"></i></a></td></tr>\n",
       "<tr class=\"decrease-row\"><td><a href=\"/CompanyDetail.aspx?symbol=SLBBL\" target=\"_blank\" title=\"SLBBL (Swarojgar Laghubitta Bittiya Sanstha Ltd.)\">SLBBL</a></td><td class=\"text-right\">1,034.00</td><td class=\"text-right\">-0.3</td><td class=\"text-right\">1,036.00</td><td class=\"text-right\">1,018.00</td><td class=\"text-right\">1,036.00</td><td class=\"text-right\">4,068</td><td><a href=\"javascript:void(0);\" onclick='addToWatchlist(\"SLBBL\");' title=\"Add to Watchlist\"><i class=\"icon-tags icon-white\"></i></a></td><td><a href=\"javascript:void(0);\" onclick='setAlert(\"SLBBL\");' title=\"Set as Alert\"><i class=\"icon-bell icon-white\"></i></a></td></tr>\n",
       "<tr class=\"decrease-row\"><td><a href=\"/CompanyDetail.aspx?symbol=SLBSL\" target=\"_blank\" title=\"SLBSL (Samudayik Laghubitta Bittiya Sanstha Limited)\">SLBSL</a></td><td class=\"text-right\">1,258.00</td><td class=\"text-right\">-0.48</td><td class=\"text-right\">1,283.00</td><td class=\"text-right\">1,258.00</td><td class=\"text-right\">1,283.00</td><td class=\"text-right\">134</td><td><a href=\"javascript:void(0);\" onclick='addToWatchlist(\"SLBSL\");' title=\"Add to Watchlist\"><i class=\"icon-tags icon-white\"></i></a></td><td><a href=\"javascript:void(0);\" onclick='setAlert(\"SLBSL\");' title=\"Set as Alert\"><i class=\"icon-bell icon-white\"></i></a></td></tr>\n",
       "<tr class=\"decrease-row\"><td><a href=\"/CompanyDetail.aspx?symbol=SLCF\" target=\"_blank\" title=\"SLCF (Sanima Large Cap Fund)\">SLCF</a></td><td class=\"text-right\">8.21</td><td class=\"text-right\">-2.49</td><td class=\"text-right\">8.40</td><td class=\"text-right\">8.20</td><td class=\"text-right\">8.26</td><td class=\"text-right\">57,080</td><td><a href=\"javascript:void(0);\" onclick='addToWatchlist(\"SLCF\");' title=\"Add to Watchlist\"><i class=\"icon-tags icon-white\"></i></a></td><td><a href=\"javascript:void(0);\" onclick='setAlert(\"SLCF\");' title=\"Set as Alert\"><i class=\"icon-bell icon-white\"></i></a></td></tr>\n",
       "<tr class=\"decrease-row\"><td><a href=\"/CompanyDetail.aspx?symbol=SLI\" target=\"_blank\" title=\"SLI (Sanima Life Insurance)\">SLI</a></td><td class=\"text-right\">452.00</td><td class=\"text-right\">-0.24</td><td class=\"text-right\">464.00</td><td class=\"text-right\">442.00</td><td class=\"text-right\">453.10</td><td class=\"text-right\">13,927</td><td><a href=\"javascript:void(0);\" onclick='addToWatchlist(\"SLI\");' title=\"Add to Watchlist\"><i class=\"icon-tags icon-white\"></i></a></td><td><a href=\"javascript:void(0);\" onclick='setAlert(\"SLI\");' title=\"Set as Alert\"><i class=\"icon-bell icon-white\"></i></a></td></tr>\n",
       "<tr class=\"decrease-row\"><td><a href=\"/CompanyDetail.aspx?symbol=SMATA\" target=\"_blank\" title=\"SMATA (Samata Gharelu Laghubitta Bittiya Sanstha Limited)\">SMATA</a></td><td class=\"text-right\">844.00</td><td class=\"text-right\">-2.43</td><td class=\"text-right\">858.80</td><td class=\"text-right\">840.00</td><td class=\"text-right\">848.00</td><td class=\"text-right\">1,179</td><td><a href=\"javascript:void(0);\" onclick='addToWatchlist(\"SMATA\");' title=\"Add to Watchlist\"><i class=\"icon-tags icon-white\"></i></a></td><td><a href=\"javascript:void(0);\" onclick='setAlert(\"SMATA\");' title=\"Set as Alert\"><i class=\"icon-bell icon-white\"></i></a></td></tr>\n",
       "<tr class=\"decrease-row\"><td><a href=\"/CompanyDetail.aspx?symbol=SMB\" target=\"_blank\" title=\"SMB (Support Microfinance Bittiya Sanstha Ltd.)\">SMB</a></td><td class=\"text-right\">1,264.00</td><td class=\"text-right\">-1.94</td><td class=\"text-right\">1,265.00</td><td class=\"text-right\">1,264.00</td><td class=\"text-right\">1,265.00</td><td class=\"text-right\">56</td><td><a href=\"javascript:void(0);\" onclick='addToWatchlist(\"SMB\");' title=\"Add to Watchlist\"><i class=\"icon-tags icon-white\"></i></a></td><td><a href=\"javascript:void(0);\" onclick='setAlert(\"SMB\");' title=\"Set as Alert\"><i class=\"icon-bell icon-white\"></i></a></td></tr>\n",
       "<tr class=\"increase-row\"><td><a href=\"/CompanyDetail.aspx?symbol=SMFBS\" target=\"_blank\" title=\"SMFBS (Swabhimaan Laghubitta Bittiya Sanstha Ltd)\">SMFBS</a></td><td class=\"text-right\">1,550.00</td><td class=\"text-right\">2.99</td><td class=\"text-right\">1,550.00</td><td class=\"text-right\">1,525.00</td><td class=\"text-right\">1,535.00</td><td class=\"text-right\">531</td><td><a href=\"javascript:void(0);\" onclick='addToWatchlist(\"SMFBS\");' title=\"Add to Watchlist\"><i class=\"icon-tags icon-white\"></i></a></td><td><a href=\"javascript:void(0);\" onclick='setAlert(\"SMFBS\");' title=\"Set as Alert\"><i class=\"icon-bell icon-white\"></i></a></td></tr>\n",
       "<tr class=\"decrease-row\"><td><a href=\"/CompanyDetail.aspx?symbol=SMFDB\" target=\"_blank\" title=\"SMFDB (Summit Laghubitta Bittiya Sanstha  Ltd.)\">SMFDB</a></td><td class=\"text-right\">1,324.00</td><td class=\"text-right\">-1.34</td><td class=\"text-right\">1,334.00</td><td class=\"text-right\">1,312.10</td><td class=\"text-right\">1,320.00</td><td class=\"text-right\">2,587</td><td><a href=\"javascript:void(0);\" onclick='addToWatchlist(\"SMFDB\");' title=\"Add to Watchlist\"><i class=\"icon-tags icon-white\"></i></a></td><td><a href=\"javascript:void(0);\" onclick='setAlert(\"SMFDB\");' title=\"Set as Alert\"><i class=\"icon-bell icon-white\"></i></a></td></tr>\n",
       "<tr class=\"increase-row\"><td><a href=\"/CompanyDetail.aspx?symbol=SPC\" target=\"_blank\" title=\"SPC (Samling Power Company Limited)\">SPC</a></td><td class=\"text-right\">497.00</td><td class=\"text-right\">4.63</td><td class=\"text-right\">500.00</td><td class=\"text-right\">465.00</td><td class=\"text-right\">466.00</td><td class=\"text-right\">18,719</td><td><a href=\"javascript:void(0);\" onclick='addToWatchlist(\"SPC\");' title=\"Add to Watchlist\"><i class=\"icon-tags icon-white\"></i></a></td><td><a href=\"javascript:void(0);\" onclick='setAlert(\"SPC\");' title=\"Set as Alert\"><i class=\"icon-bell icon-white\"></i></a></td></tr>\n",
       "<tr class=\"increase-row\"><td><a href=\"/CompanyDetail.aspx?symbol=SPDL\" target=\"_blank\" title=\"SPDL (Synergy Power Development Ltd.)\">SPDL</a></td><td class=\"text-right\">338.50</td><td class=\"text-right\">0.59</td><td class=\"text-right\">349.80</td><td class=\"text-right\">330.00</td><td class=\"text-right\">333.00</td><td class=\"text-right\">57,277</td><td><a href=\"javascript:void(0);\" onclick='addToWatchlist(\"SPDL\");' title=\"Add to Watchlist\"><i class=\"icon-tags icon-white\"></i></a></td><td><a href=\"javascript:void(0);\" onclick='setAlert(\"SPDL\");' title=\"Set as Alert\"><i class=\"icon-bell icon-white\"></i></a></td></tr>\n",
       "<tr class=\"increase-row\"><td><a href=\"/CompanyDetail.aspx?symbol=SPHL\" target=\"_blank\" title=\"SPHL (Sayapatri Hydropower Limited)\">SPHL</a></td><td class=\"text-right\">483.00</td><td class=\"text-right\">9.8</td><td class=\"text-right\">483.80</td><td class=\"text-right\">420.00</td><td class=\"text-right\">431.20</td><td class=\"text-right\">22,851</td><td><a href=\"javascript:void(0);\" onclick='addToWatchlist(\"SPHL\");' title=\"Add to Watchlist\"><i class=\"icon-tags icon-white\"></i></a></td><td><a href=\"javascript:void(0);\" onclick='setAlert(\"SPHL\");' title=\"Set as Alert\"><i class=\"icon-bell icon-white\"></i></a></td></tr>\n",
       "<tr class=\"decrease-row\"><td><a href=\"/CompanyDetail.aspx?symbol=SRBL\" target=\"_blank\" title=\"SRBL (Sunrise Bank Limited)\">SRBL</a></td><td class=\"text-right\">197.00</td><td class=\"text-right\">-0.25</td><td class=\"text-right\">200.00</td><td class=\"text-right\">195.00</td><td class=\"text-right\">197.50</td><td class=\"text-right\">15,774</td><td><a href=\"javascript:void(0);\" onclick='addToWatchlist(\"SRBL\");' title=\"Add to Watchlist\"><i class=\"icon-tags icon-white\"></i></a></td><td><a href=\"javascript:void(0);\" onclick='setAlert(\"SRBL\");' title=\"Set as Alert\"><i class=\"icon-bell icon-white\"></i></a></td></tr>\n",
       "<tr class=\"decrease-row\"><td><a href=\"/CompanyDetail.aspx?symbol=SRBLD83\" target=\"_blank\" title=\"SRBLD83 (10.25% Sunrise Bank Debenture 2083)\">SRBLD83</a></td><td class=\"text-right\">900.00</td><td class=\"text-right\">-1.59</td><td class=\"text-right\">900.00</td><td class=\"text-right\">900.00</td><td class=\"text-right\">900.00</td><td class=\"text-right\">20</td><td><a href=\"javascript:void(0);\" onclick='addToWatchlist(\"SRBLD83\");' title=\"Add to Watchlist\"><i class=\"icon-tags icon-white\"></i></a></td><td><a href=\"javascript:void(0);\" onclick='setAlert(\"SRBLD83\");' title=\"Set as Alert\"><i class=\"icon-bell icon-white\"></i></a></td></tr>\n",
       "<tr class=\"decrease-row\"><td><a href=\"/CompanyDetail.aspx?symbol=SSHL\" target=\"_blank\" title=\"SSHL (Shiva Shree Hydropower Limited)\">SSHL</a></td><td class=\"text-right\">262.00</td><td class=\"text-right\">-2.6</td><td class=\"text-right\">270.00</td><td class=\"text-right\">260.70</td><td class=\"text-right\">264.00</td><td class=\"text-right\">142,089</td><td><a href=\"javascript:void(0);\" onclick='addToWatchlist(\"SSHL\");' title=\"Add to Watchlist\"><i class=\"icon-tags icon-white\"></i></a></td><td><a href=\"javascript:void(0);\" onclick='setAlert(\"SSHL\");' title=\"Set as Alert\"><i class=\"icon-bell icon-white\"></i></a></td></tr>\n",
       "<tr class=\"decrease-row\"><td><a href=\"/CompanyDetail.aspx?symbol=STC\" target=\"_blank\" title=\"STC (Salt Trading Corporation)\">STC</a></td><td class=\"text-right\">4,670.00</td><td class=\"text-right\">-0.34</td><td class=\"text-right\">4,685.00</td><td class=\"text-right\">4,593.00</td><td class=\"text-right\">4,593.00</td><td class=\"text-right\">1,284</td><td><a href=\"javascript:void(0);\" onclick='addToWatchlist(\"STC\");' title=\"Add to Watchlist\"><i class=\"icon-tags icon-white\"></i></a></td><td><a href=\"javascript:void(0);\" onclick='setAlert(\"STC\");' title=\"Set as Alert\"><i class=\"icon-bell icon-white\"></i></a></td></tr>\n",
       "<tr class=\"decrease-row\"><td><a href=\"/CompanyDetail.aspx?symbol=SWBBL\" target=\"_blank\" title=\"SWBBL (Swabalamban Laghubitta Bittiya Sanstha Limited)\">SWBBL</a></td><td class=\"text-right\">1,180.20</td><td class=\"text-right\">-0.66</td><td class=\"text-right\">1,191.90</td><td class=\"text-right\">1,180.00</td><td class=\"text-right\">1,181.00</td><td class=\"text-right\">1,817</td><td><a href=\"javascript:void(0);\" onclick='addToWatchlist(\"SWBBL\");' title=\"Add to Watchlist\"><i class=\"icon-tags icon-white\"></i></a></td><td><a href=\"javascript:void(0);\" onclick='setAlert(\"SWBBL\");' title=\"Set as Alert\"><i class=\"icon-bell icon-white\"></i></a></td></tr>\n",
       "<tr class=\"decrease-row\"><td><a href=\"/CompanyDetail.aspx?symbol=SWMF\" target=\"_blank\" title=\"SWMF (Suryodaya Womi Laghubitta Bittiya Sanstha Limited )\">SWMF</a></td><td class=\"text-right\">914.00</td><td class=\"text-right\">-5.28</td><td class=\"text-right\">952.00</td><td class=\"text-right\">914.00</td><td class=\"text-right\">946.00</td><td class=\"text-right\">11,867</td><td><a href=\"javascript:void(0);\" onclick='addToWatchlist(\"SWMF\");' title=\"Add to Watchlist\"><i class=\"icon-tags icon-white\"></i></a></td><td><a href=\"javascript:void(0);\" onclick='setAlert(\"SWMF\");' title=\"Set as Alert\"><i class=\"icon-bell icon-white\"></i></a></td></tr>\n",
       "<tr class=\"increase-row\"><td><a href=\"/CompanyDetail.aspx?symbol=TPC\" target=\"_blank\" title=\"TPC (Terhathum Power Company Limited)\">TPC</a></td><td class=\"text-right\">439.00</td><td class=\"text-right\">1.86</td><td class=\"text-right\">451.90</td><td class=\"text-right\">421.50</td><td class=\"text-right\">430.00</td><td class=\"text-right\">10,930</td><td><a href=\"javascript:void(0);\" onclick='addToWatchlist(\"TPC\");' title=\"Add to Watchlist\"><i class=\"icon-tags icon-white\"></i></a></td><td><a href=\"javascript:void(0);\" onclick='setAlert(\"TPC\");' title=\"Set as Alert\"><i class=\"icon-bell icon-white\"></i></a></td></tr>\n",
       "<tr class=\"increase-row\"><td><a href=\"/CompanyDetail.aspx?symbol=TRH\" target=\"_blank\" title=\"TRH (Taragaon Regency Hotel Limited)\">TRH</a></td><td class=\"text-right\">507.00</td><td class=\"text-right\">4.32</td><td class=\"text-right\">507.00</td><td class=\"text-right\">469.00</td><td class=\"text-right\">476.30</td><td class=\"text-right\">67,776</td><td><a href=\"javascript:void(0);\" onclick='addToWatchlist(\"TRH\");' title=\"Add to Watchlist\"><i class=\"icon-tags icon-white\"></i></a></td><td><a href=\"javascript:void(0);\" onclick='setAlert(\"TRH\");' title=\"Set as Alert\"><i class=\"icon-bell icon-white\"></i></a></td></tr>\n",
       "<tr class=\"nochange-row\"><td><a href=\"/CompanyDetail.aspx?symbol=UHEWA\" target=\"_blank\" title=\"UHEWA (Upper Hewakhola Hydropower Company Limited)\">UHEWA</a></td><td class=\"text-right\">470.00</td><td class=\"text-right\">0</td><td class=\"text-right\">480.00</td><td class=\"text-right\">453.00</td><td class=\"text-right\">460.60</td><td class=\"text-right\">15,290</td><td><a href=\"javascript:void(0);\" onclick='addToWatchlist(\"UHEWA\");' title=\"Add to Watchlist\"><i class=\"icon-tags icon-white\"></i></a></td><td><a href=\"javascript:void(0);\" onclick='setAlert(\"UHEWA\");' title=\"Set as Alert\"><i class=\"icon-bell icon-white\"></i></a></td></tr>\n",
       "<tr class=\"decrease-row\"><td><a href=\"/CompanyDetail.aspx?symbol=UIC\" target=\"_blank\" title=\"UIC (United Insurance Co. (Nepal) Ltd.)\">UIC</a></td><td class=\"text-right\">470.10</td><td class=\"text-right\">-0.19</td><td class=\"text-right\">480.00</td><td class=\"text-right\">462.00</td><td class=\"text-right\">465.00</td><td class=\"text-right\">17,855</td><td><a href=\"javascript:void(0);\" onclick='addToWatchlist(\"UIC\");' title=\"Add to Watchlist\"><i class=\"icon-tags icon-white\"></i></a></td><td><a href=\"javascript:void(0);\" onclick='setAlert(\"UIC\");' title=\"Set as Alert\"><i class=\"icon-bell icon-white\"></i></a></td></tr>\n",
       "<tr class=\"increase-row\"><td><a href=\"/CompanyDetail.aspx?symbol=ULBSL\" target=\"_blank\" title=\"ULBSL (Upakar Laghubitta Bittiya Sanstha Limited)\">ULBSL</a></td><td class=\"text-right\">3,789.00</td><td class=\"text-right\">1.47</td><td class=\"text-right\">3,951.40</td><td class=\"text-right\">3,700.00</td><td class=\"text-right\">3,730.00</td><td class=\"text-right\">14,474</td><td><a href=\"javascript:void(0);\" onclick='addToWatchlist(\"ULBSL\");' title=\"Add to Watchlist\"><i class=\"icon-tags icon-white\"></i></a></td><td><a href=\"javascript:void(0);\" onclick='setAlert(\"ULBSL\");' title=\"Set as Alert\"><i class=\"icon-bell icon-white\"></i></a></td></tr>\n",
       "<tr class=\"decrease-row\"><td><a href=\"/CompanyDetail.aspx?symbol=UMHL\" target=\"_blank\" title=\"UMHL (United Modi Hydropower Ltd.)\">UMHL</a></td><td class=\"text-right\">280.00</td><td class=\"text-right\">-1.51</td><td class=\"text-right\">285.00</td><td class=\"text-right\">277.00</td><td class=\"text-right\">280.00</td><td class=\"text-right\">89,657</td><td><a href=\"javascript:void(0);\" onclick='addToWatchlist(\"UMHL\");' title=\"Add to Watchlist\"><i class=\"icon-tags icon-white\"></i></a></td><td><a href=\"javascript:void(0);\" onclick='setAlert(\"UMHL\");' title=\"Set as Alert\"><i class=\"icon-bell icon-white\"></i></a></td></tr>\n",
       "<tr class=\"increase-row\"><td><a href=\"/CompanyDetail.aspx?symbol=UMRH\" target=\"_blank\" title=\"UMRH (United IDI Mardi RB Hydropower Limited.)\">UMRH</a></td><td class=\"text-right\">590.00</td><td class=\"text-right\">7.08</td><td class=\"text-right\">590.00</td><td class=\"text-right\">530.00</td><td class=\"text-right\">550.00</td><td class=\"text-right\">33,807</td><td><a href=\"javascript:void(0);\" onclick='addToWatchlist(\"UMRH\");' title=\"Add to Watchlist\"><i class=\"icon-tags icon-white\"></i></a></td><td><a href=\"javascript:void(0);\" onclick='setAlert(\"UMRH\");' title=\"Set as Alert\"><i class=\"icon-bell icon-white\"></i></a></td></tr>\n",
       "<tr class=\"decrease-row\"><td><a href=\"/CompanyDetail.aspx?symbol=UNHPL\" target=\"_blank\" title=\"UNHPL (Union Hydropower Limited)\">UNHPL</a></td><td class=\"text-right\">254.00</td><td class=\"text-right\">-0.39</td><td class=\"text-right\">260.10</td><td class=\"text-right\">246.00</td><td class=\"text-right\">250.00</td><td class=\"text-right\">77,233</td><td><a href=\"javascript:void(0);\" onclick='addToWatchlist(\"UNHPL\");' title=\"Add to Watchlist\"><i class=\"icon-tags icon-white\"></i></a></td><td><a href=\"javascript:void(0);\" onclick='setAlert(\"UNHPL\");' title=\"Set as Alert\"><i class=\"icon-bell icon-white\"></i></a></td></tr>\n",
       "<tr class=\"increase-row\"><td><a href=\"/CompanyDetail.aspx?symbol=UNL\" target=\"_blank\" title=\"UNL (Unilever Nepal Limited)\">UNL</a></td><td class=\"text-right\">18,400.00</td><td class=\"text-right\">0.44</td><td class=\"text-right\">18,400.00</td><td class=\"text-right\">18,321.00</td><td class=\"text-right\">18,325.00</td><td class=\"text-right\">55</td><td><a href=\"javascript:void(0);\" onclick='addToWatchlist(\"UNL\");' title=\"Add to Watchlist\"><i class=\"icon-tags icon-white\"></i></a></td><td><a href=\"javascript:void(0);\" onclick='setAlert(\"UNL\");' title=\"Set as Alert\"><i class=\"icon-bell icon-white\"></i></a></td></tr>\n",
       "<tr class=\"decrease-row\"><td><a href=\"/CompanyDetail.aspx?symbol=UPCL\" target=\"_blank\" title=\"UPCL (UNIVERSAL POWER COMPANY LTD)\">UPCL</a></td><td class=\"text-right\">262.30</td><td class=\"text-right\">-1.47</td><td class=\"text-right\">270.00</td><td class=\"text-right\">262.00</td><td class=\"text-right\">262.00</td><td class=\"text-right\">94,783</td><td><a href=\"javascript:void(0);\" onclick='addToWatchlist(\"UPCL\");' title=\"Add to Watchlist\"><i class=\"icon-tags icon-white\"></i></a></td><td><a href=\"javascript:void(0);\" onclick='setAlert(\"UPCL\");' title=\"Set as Alert\"><i class=\"icon-bell icon-white\"></i></a></td></tr>\n",
       "<tr class=\"decrease-row\"><td><a href=\"/CompanyDetail.aspx?symbol=UPPER\" target=\"_blank\" title=\"UPPER (Upper Tamakoshi Hydropower Ltd)\">UPPER</a></td><td class=\"text-right\">537.00</td><td class=\"text-right\">-2.13</td><td class=\"text-right\">549.90</td><td class=\"text-right\">535.10</td><td class=\"text-right\">548.70</td><td class=\"text-right\">97,998</td><td><a href=\"javascript:void(0);\" onclick='addToWatchlist(\"UPPER\");' title=\"Add to Watchlist\"><i class=\"icon-tags icon-white\"></i></a></td><td><a href=\"javascript:void(0);\" onclick='setAlert(\"UPPER\");' title=\"Set as Alert\"><i class=\"icon-bell icon-white\"></i></a></td></tr>\n",
       "<tr class=\"decrease-row\"><td><a href=\"/CompanyDetail.aspx?symbol=USHEC\" target=\"_blank\" title=\"USHEC (Upper Solu Hydro Electric Company Limited )\">USHEC</a></td><td class=\"text-right\">382.00</td><td class=\"text-right\">-2.3</td><td class=\"text-right\">392.80</td><td class=\"text-right\">376.10</td><td class=\"text-right\">383.20</td><td class=\"text-right\">20,627</td><td><a href=\"javascript:void(0);\" onclick='addToWatchlist(\"USHEC\");' title=\"Add to Watchlist\"><i class=\"icon-tags icon-white\"></i></a></td><td><a href=\"javascript:void(0);\" onclick='setAlert(\"USHEC\");' title=\"Set as Alert\"><i class=\"icon-bell icon-white\"></i></a></td></tr>\n",
       "<tr class=\"decrease-row\"><td><a href=\"/CompanyDetail.aspx?symbol=USLB\" target=\"_blank\" title=\"USLB (Unnati Sahakarya Laghubitta Bittiya Sanstha Limited)\">USLB</a></td><td class=\"text-right\">983.90</td><td class=\"text-right\">-0.01</td><td class=\"text-right\">984.00</td><td class=\"text-right\">980.00</td><td class=\"text-right\">984.00</td><td class=\"text-right\">360</td><td><a href=\"javascript:void(0);\" onclick='addToWatchlist(\"USLB\");' title=\"Add to Watchlist\"><i class=\"icon-tags icon-white\"></i></a></td><td><a href=\"javascript:void(0);\" onclick='setAlert(\"USLB\");' title=\"Set as Alert\"><i class=\"icon-bell icon-white\"></i></a></td></tr>\n",
       "<tr class=\"decrease-row\"><td><a href=\"/CompanyDetail.aspx?symbol=VLBS\" target=\"_blank\" title=\"VLBS (Vijaya laghubitta Bittiya Sanstha Ltd.)\">VLBS</a></td><td class=\"text-right\">953.10</td><td class=\"text-right\">-2.74</td><td class=\"text-right\">978.00</td><td class=\"text-right\">949.50</td><td class=\"text-right\">961.00</td><td class=\"text-right\">956</td><td><a href=\"javascript:void(0);\" onclick='addToWatchlist(\"VLBS\");' title=\"Add to Watchlist\"><i class=\"icon-tags icon-white\"></i></a></td><td><a href=\"javascript:void(0);\" onclick='setAlert(\"VLBS\");' title=\"Set as Alert\"><i class=\"icon-bell icon-white\"></i></a></td></tr>\n",
       "<tr class=\"decrease-row\"><td><a href=\"/CompanyDetail.aspx?symbol=WNLB\" target=\"_blank\" title=\"WNLB (WEAN Nepal Laghubitta Bittiya Sanstha Limited)\">WNLB</a></td><td class=\"text-right\">1,030.10</td><td class=\"text-right\">-2.91</td><td class=\"text-right\">1,046.00</td><td class=\"text-right\">1,006.00</td><td class=\"text-right\">1,040.00</td><td class=\"text-right\">240</td><td><a href=\"javascript:void(0);\" onclick='addToWatchlist(\"WNLB\");' title=\"Add to Watchlist\"><i class=\"icon-tags icon-white\"></i></a></td><td><a href=\"javascript:void(0);\" onclick='setAlert(\"WNLB\");' title=\"Set as Alert\"><i class=\"icon-bell icon-white\"></i></a></td></tr>\n",
       "</tbody></table>"
      ]
     },
     "execution_count": 3,
     "metadata": {},
     "output_type": "execute_result"
    }
   ],
   "source": [
    "table_code=raw_code.table\n",
    "table_code"
   ]
  },
  {
   "cell_type": "code",
   "execution_count": 4,
   "id": "892cc49c",
   "metadata": {},
   "outputs": [
    {
     "data": {
      "text/plain": [
       "[<tr><th><span>Symbol</span></th><th><span>LTP</span></th><th nowrap=\"\"><span>% Change</span></th><th><span>Open</span></th><th><span>High</span></th><th><span>Low</span></th><th><span>Qty.</span></th><th><span>PClose</span></th><th><span>Diff.</span></th><th></th><th></th></tr>,\n",
       " <tr class=\"decrease-row\"><td><a href=\"/CompanyDetail.aspx?symbol=ACLBSL\" target=\"_blank\" title=\"ACLBSL (Aarambha Chautari Laghubitta Bittiya Sanstha Limited)\">ACLBSL</a></td><td class=\"text-right\">833.00</td><td class=\"text-right\">-0.95</td><td class=\"text-right\">854.00</td><td class=\"text-right\">824.20</td><td class=\"text-right\">854.00</td><td class=\"text-right\">1,126</td><td><a href=\"javascript:void(0);\" onclick='addToWatchlist(\"ACLBSL\");' title=\"Add to Watchlist\"><i class=\"icon-tags icon-white\"></i></a></td><td><a href=\"javascript:void(0);\" onclick='setAlert(\"ACLBSL\");' title=\"Set as Alert\"><i class=\"icon-bell icon-white\"></i></a></td></tr>,\n",
       " <tr class=\"decrease-row\"><td><a href=\"/CompanyDetail.aspx?symbol=ADBL\" target=\"_blank\" title=\"ADBL (Agriculture Development Bank Limited)\">ADBL</a></td><td class=\"text-right\">305.10</td><td class=\"text-right\">-0.94</td><td class=\"text-right\">310.00</td><td class=\"text-right\">305.10</td><td class=\"text-right\">308.00</td><td class=\"text-right\">37,956</td><td><a href=\"javascript:void(0);\" onclick='addToWatchlist(\"ADBL\");' title=\"Add to Watchlist\"><i class=\"icon-tags icon-white\"></i></a></td><td><a href=\"javascript:void(0);\" onclick='setAlert(\"ADBL\");' title=\"Set as Alert\"><i class=\"icon-bell icon-white\"></i></a></td></tr>,\n",
       " <tr class=\"increase-row\"><td><a href=\"/CompanyDetail.aspx?symbol=ADBLD83\" target=\"_blank\" title=\"ADBLD83 (10.35% Agricultural Bank Debenture 2083)\">ADBLD83</a></td><td class=\"text-right\">890.00</td><td class=\"text-right\">0.45</td><td class=\"text-right\">890.00</td><td class=\"text-right\">890.00</td><td class=\"text-right\">890.00</td><td class=\"text-right\">10</td><td><a href=\"javascript:void(0);\" onclick='addToWatchlist(\"ADBLD83\");' title=\"Add to Watchlist\"><i class=\"icon-tags icon-white\"></i></a></td><td><a href=\"javascript:void(0);\" onclick='setAlert(\"ADBLD83\");' title=\"Set as Alert\"><i class=\"icon-bell icon-white\"></i></a></td></tr>,\n",
       " <tr class=\"increase-row\"><td><a href=\"/CompanyDetail.aspx?symbol=ADLB\" target=\"_blank\" title=\"ADLB ( Adarsha Laghubitta Bittiya Sanstha Limited)\">ADLB</a></td><td class=\"text-right\">1,317.60</td><td class=\"text-right\">9.99</td><td class=\"text-right\">1,317.60</td><td class=\"text-right\">1,221.80</td><td class=\"text-right\">1,221.80</td><td class=\"text-right\">90</td><td><a href=\"javascript:void(0);\" onclick='addToWatchlist(\"ADLB\");' title=\"Add to Watchlist\"><i class=\"icon-tags icon-white\"></i></a></td><td><a href=\"javascript:void(0);\" onclick='setAlert(\"ADLB\");' title=\"Set as Alert\"><i class=\"icon-bell icon-white\"></i></a></td></tr>,\n",
       " <tr class=\"decrease-row\"><td><a href=\"/CompanyDetail.aspx?symbol=AHPC\" target=\"_blank\" title=\"AHPC (Arun Valley Hydropower Development Co. Ltd.)\">AHPC</a></td><td class=\"text-right\">344.00</td><td class=\"text-right\">-1.99</td><td class=\"text-right\">352.00</td><td class=\"text-right\">340.00</td><td class=\"text-right\">344.00</td><td class=\"text-right\">84,498</td><td><a href=\"javascript:void(0);\" onclick='addToWatchlist(\"AHPC\");' title=\"Add to Watchlist\"><i class=\"icon-tags icon-white\"></i></a></td><td><a href=\"javascript:void(0);\" onclick='setAlert(\"AHPC\");' title=\"Set as Alert\"><i class=\"icon-bell icon-white\"></i></a></td></tr>,\n",
       " <tr class=\"decrease-row\"><td><a href=\"/CompanyDetail.aspx?symbol=AIL\" target=\"_blank\" title=\"AIL (AJOD Insurance Limited)\">AIL</a></td><td class=\"text-right\">523.00</td><td class=\"text-right\">-2.24</td><td class=\"text-right\">544.00</td><td class=\"text-right\">511.00</td><td class=\"text-right\">524.30</td><td class=\"text-right\">17,050</td><td><a href=\"javascript:void(0);\" onclick='addToWatchlist(\"AIL\");' title=\"Add to Watchlist\"><i class=\"icon-tags icon-white\"></i></a></td><td><a href=\"javascript:void(0);\" onclick='setAlert(\"AIL\");' title=\"Set as Alert\"><i class=\"icon-bell icon-white\"></i></a></td></tr>,\n",
       " <tr class=\"decrease-row\"><td><a href=\"/CompanyDetail.aspx?symbol=AKBSL\" target=\"_blank\" title=\"AKBSL (Adhikhola Laghubitta Bittiya Sanstha Limited)\">AKBSL</a></td><td class=\"text-right\">1,277.00</td><td class=\"text-right\">-1.94</td><td class=\"text-right\">1,300.00</td><td class=\"text-right\">1,277.00</td><td class=\"text-right\">1,280.00</td><td class=\"text-right\">1,002</td><td><a href=\"javascript:void(0);\" onclick='addToWatchlist(\"AKBSL\");' title=\"Add to Watchlist\"><i class=\"icon-tags icon-white\"></i></a></td><td><a href=\"javascript:void(0);\" onclick='setAlert(\"AKBSL\");' title=\"Set as Alert\"><i class=\"icon-bell icon-white\"></i></a></td></tr>,\n",
       " <tr class=\"increase-row\"><td><a href=\"/CompanyDetail.aspx?symbol=AKJCL\" target=\"_blank\" title=\"AKJCL (Ankhu Khola Jalvidhyut Company Ltd)\">AKJCL</a></td><td class=\"text-right\">253.00</td><td class=\"text-right\">1.2</td><td class=\"text-right\">258.00</td><td class=\"text-right\">246.00</td><td class=\"text-right\">247.00</td><td class=\"text-right\">269,117</td><td><a href=\"javascript:void(0);\" onclick='addToWatchlist(\"AKJCL\");' title=\"Add to Watchlist\"><i class=\"icon-tags icon-white\"></i></a></td><td><a href=\"javascript:void(0);\" onclick='setAlert(\"AKJCL\");' title=\"Set as Alert\"><i class=\"icon-bell icon-white\"></i></a></td></tr>,\n",
       " <tr class=\"decrease-row\"><td><a href=\"/CompanyDetail.aspx?symbol=AKPL\" target=\"_blank\" title=\"AKPL (Arun Kabeli Power Ltd.)\">AKPL</a></td><td class=\"text-right\">420.00</td><td class=\"text-right\">-1.64</td><td class=\"text-right\">428.00</td><td class=\"text-right\">416.30</td><td class=\"text-right\">423.00</td><td class=\"text-right\">76,745</td><td><a href=\"javascript:void(0);\" onclick='addToWatchlist(\"AKPL\");' title=\"Add to Watchlist\"><i class=\"icon-tags icon-white\"></i></a></td><td><a href=\"javascript:void(0);\" onclick='setAlert(\"AKPL\");' title=\"Set as Alert\"><i class=\"icon-bell icon-white\"></i></a></td></tr>,\n",
       " <tr class=\"decrease-row\"><td><a href=\"/CompanyDetail.aspx?symbol=ALBSL\" target=\"_blank\" title=\"ALBSL (Asha Laghubitta Bittiya Sanstha Limited)\">ALBSL</a></td><td class=\"text-right\">1,037.00</td><td class=\"text-right\">-0.77</td><td class=\"text-right\">1,040.00</td><td class=\"text-right\">1,003.70</td><td class=\"text-right\">1,024.10</td><td class=\"text-right\">1,474</td><td><a href=\"javascript:void(0);\" onclick='addToWatchlist(\"ALBSL\");' title=\"Add to Watchlist\"><i class=\"icon-tags icon-white\"></i></a></td><td><a href=\"javascript:void(0);\" onclick='setAlert(\"ALBSL\");' title=\"Set as Alert\"><i class=\"icon-bell icon-white\"></i></a></td></tr>,\n",
       " <tr class=\"decrease-row\"><td><a href=\"/CompanyDetail.aspx?symbol=ALICL\" target=\"_blank\" title=\"ALICL (Asian Life Insurance Co. Limited)\">ALICL</a></td><td class=\"text-right\">705.00</td><td class=\"text-right\">-0.7</td><td class=\"text-right\">722.00</td><td class=\"text-right\">696.00</td><td class=\"text-right\">696.00</td><td class=\"text-right\">42,877</td><td><a href=\"javascript:void(0);\" onclick='addToWatchlist(\"ALICL\");' title=\"Add to Watchlist\"><i class=\"icon-tags icon-white\"></i></a></td><td><a href=\"javascript:void(0);\" onclick='setAlert(\"ALICL\");' title=\"Set as Alert\"><i class=\"icon-bell icon-white\"></i></a></td></tr>,\n",
       " <tr class=\"decrease-row\"><td><a href=\"/CompanyDetail.aspx?symbol=API\" target=\"_blank\" title=\"API (Api Power Company Ltd.)\">API</a></td><td class=\"text-right\">291.00</td><td class=\"text-right\">-1.02</td><td class=\"text-right\">297.00</td><td class=\"text-right\">286.00</td><td class=\"text-right\">289.00</td><td class=\"text-right\">189,275</td><td><a href=\"javascript:void(0);\" onclick='addToWatchlist(\"API\");' title=\"Add to Watchlist\"><i class=\"icon-tags icon-white\"></i></a></td><td><a href=\"javascript:void(0);\" onclick='setAlert(\"API\");' title=\"Set as Alert\"><i class=\"icon-bell icon-white\"></i></a></td></tr>,\n",
       " <tr class=\"decrease-row\"><td><a href=\"/CompanyDetail.aspx?symbol=AVYAN\" target=\"_blank\" title=\"AVYAN (Aviyan Laghubitta Bittiya Sanstha Limited)\">AVYAN</a></td><td class=\"text-right\">740.00</td><td class=\"text-right\">-0.74</td><td class=\"text-right\">760.00</td><td class=\"text-right\">733.80</td><td class=\"text-right\">745.50</td><td class=\"text-right\">4,200</td><td><a href=\"javascript:void(0);\" onclick='addToWatchlist(\"AVYAN\");' title=\"Add to Watchlist\"><i class=\"icon-tags icon-white\"></i></a></td><td><a href=\"javascript:void(0);\" onclick='setAlert(\"AVYAN\");' title=\"Set as Alert\"><i class=\"icon-bell icon-white\"></i></a></td></tr>,\n",
       " <tr class=\"decrease-row\"><td><a href=\"/CompanyDetail.aspx?symbol=BARUN\" target=\"_blank\" title=\"BARUN (Barun Hydropower Co. Ltd.)\">BARUN</a></td><td class=\"text-right\">278.90</td><td class=\"text-right\">-0.04</td><td class=\"text-right\">284.00</td><td class=\"text-right\">270.10</td><td class=\"text-right\">284.00</td><td class=\"text-right\">39,512</td><td><a href=\"javascript:void(0);\" onclick='addToWatchlist(\"BARUN\");' title=\"Add to Watchlist\"><i class=\"icon-tags icon-white\"></i></a></td><td><a href=\"javascript:void(0);\" onclick='setAlert(\"BARUN\");' title=\"Set as Alert\"><i class=\"icon-bell icon-white\"></i></a></td></tr>,\n",
       " <tr class=\"decrease-row\"><td><a href=\"/CompanyDetail.aspx?symbol=BBC\" target=\"_blank\" title=\"BBC (Bishal Bazar Company Limited)\">BBC</a></td><td class=\"text-right\">3,450.00</td><td class=\"text-right\">-1.29</td><td class=\"text-right\">3,565.00</td><td class=\"text-right\">3,431.00</td><td class=\"text-right\">3,431.00</td><td class=\"text-right\">215</td><td><a href=\"javascript:void(0);\" onclick='addToWatchlist(\"BBC\");' title=\"Add to Watchlist\"><i class=\"icon-tags icon-white\"></i></a></td><td><a href=\"javascript:void(0);\" onclick='setAlert(\"BBC\");' title=\"Set as Alert\"><i class=\"icon-bell icon-white\"></i></a></td></tr>,\n",
       " <tr class=\"decrease-row\"><td><a href=\"/CompanyDetail.aspx?symbol=BFC\" target=\"_blank\" title=\"BFC (Best Finance Company Ltd.)\">BFC</a></td><td class=\"text-right\">358.00</td><td class=\"text-right\">-1.62</td><td class=\"text-right\">365.00</td><td class=\"text-right\">354.00</td><td class=\"text-right\">363.00</td><td class=\"text-right\">16,455</td><td><a href=\"javascript:void(0);\" onclick='addToWatchlist(\"BFC\");' title=\"Add to Watchlist\"><i class=\"icon-tags icon-white\"></i></a></td><td><a href=\"javascript:void(0);\" onclick='setAlert(\"BFC\");' title=\"Set as Alert\"><i class=\"icon-bell icon-white\"></i></a></td></tr>,\n",
       " <tr class=\"increase-row\"><td><a href=\"/CompanyDetail.aspx?symbol=BHDC\" target=\"_blank\" title=\"BHDC (Bindyabasini Hydropower Development Company Limited)\">BHDC</a></td><td class=\"text-right\">415.20</td><td class=\"text-right\">2.01</td><td class=\"text-right\">426.00</td><td class=\"text-right\">398.90</td><td class=\"text-right\">407.00</td><td class=\"text-right\">12,097</td><td><a href=\"javascript:void(0);\" onclick='addToWatchlist(\"BHDC\");' title=\"Add to Watchlist\"><i class=\"icon-tags icon-white\"></i></a></td><td><a href=\"javascript:void(0);\" onclick='setAlert(\"BHDC\");' title=\"Set as Alert\"><i class=\"icon-bell icon-white\"></i></a></td></tr>,\n",
       " <tr class=\"decrease-row\"><td><a href=\"/CompanyDetail.aspx?symbol=BHL\" target=\"_blank\" title=\"BHL (Balephi Hydropower Limited)\">BHL</a></td><td class=\"text-right\">357.10</td><td class=\"text-right\">-2.96</td><td class=\"text-right\">367.90</td><td class=\"text-right\">346.60</td><td class=\"text-right\">360.70</td><td class=\"text-right\">25,831</td><td><a href=\"javascript:void(0);\" onclick='addToWatchlist(\"BHL\");' title=\"Add to Watchlist\"><i class=\"icon-tags icon-white\"></i></a></td><td><a href=\"javascript:void(0);\" onclick='setAlert(\"BHL\");' title=\"Set as Alert\"><i class=\"icon-bell icon-white\"></i></a></td></tr>,\n",
       " <tr class=\"increase-row\"><td><a href=\"/CompanyDetail.aspx?symbol=BHPL\" target=\"_blank\" title=\"BHPL (Barahi Hydropower Public Limited)\">BHPL</a></td><td class=\"text-right\">534.80</td><td class=\"text-right\">10</td><td class=\"text-right\">534.80</td><td class=\"text-right\">487.00</td><td class=\"text-right\">495.90</td><td class=\"text-right\">21,198</td><td><a href=\"javascript:void(0);\" onclick='addToWatchlist(\"BHPL\");' title=\"Add to Watchlist\"><i class=\"icon-tags icon-white\"></i></a></td><td><a href=\"javascript:void(0);\" onclick='setAlert(\"BHPL\");' title=\"Set as Alert\"><i class=\"icon-bell icon-white\"></i></a></td></tr>,\n",
       " <tr class=\"decrease-row\"><td><a href=\"/CompanyDetail.aspx?symbol=BNHC\" target=\"_blank\" title=\"BNHC (Buddhabhumi Nepal Hydropower Company Limited)\">BNHC</a></td><td class=\"text-right\">434.10</td><td class=\"text-right\">-1.32</td><td class=\"text-right\">443.00</td><td class=\"text-right\">422.60</td><td class=\"text-right\">431.20</td><td class=\"text-right\">2,082</td><td><a href=\"javascript:void(0);\" onclick='addToWatchlist(\"BNHC\");' title=\"Add to Watchlist\"><i class=\"icon-tags icon-white\"></i></a></td><td><a href=\"javascript:void(0);\" onclick='setAlert(\"BNHC\");' title=\"Set as Alert\"><i class=\"icon-bell icon-white\"></i></a></td></tr>,\n",
       " <tr class=\"increase-row\"><td><a href=\"/CompanyDetail.aspx?symbol=BNT\" target=\"_blank\" title=\"BNT (Bottlers Nepal (Terai) Limited)\">BNT</a></td><td class=\"text-right\">13,388.00</td><td class=\"text-right\">2.2</td><td class=\"text-right\">13,620.00</td><td class=\"text-right\">13,172.00</td><td class=\"text-right\">13,360.00</td><td class=\"text-right\">90</td><td><a href=\"javascript:void(0);\" onclick='addToWatchlist(\"BNT\");' title=\"Add to Watchlist\"><i class=\"icon-tags icon-white\"></i></a></td><td><a href=\"javascript:void(0);\" onclick='setAlert(\"BNT\");' title=\"Set as Alert\"><i class=\"icon-bell icon-white\"></i></a></td></tr>,\n",
       " <tr class=\"nochange-row\"><td><a href=\"/CompanyDetail.aspx?symbol=BOKD86\" target=\"_blank\" title=\"BOKD86 (8.5% BOK Debenture 2086)\">BOKD86</a></td><td class=\"text-right\">765.00</td><td class=\"text-right\">0</td><td class=\"text-right\">765.00</td><td class=\"text-right\">765.00</td><td class=\"text-right\">765.00</td><td class=\"text-right\">165</td><td><a href=\"javascript:void(0);\" onclick='addToWatchlist(\"BOKD86\");' title=\"Add to Watchlist\"><i class=\"icon-tags icon-white\"></i></a></td><td><a href=\"javascript:void(0);\" onclick='setAlert(\"BOKD86\");' title=\"Set as Alert\"><i class=\"icon-bell icon-white\"></i></a></td></tr>,\n",
       " <tr class=\"increase-row\"><td><a href=\"/CompanyDetail.aspx?symbol=BPCL\" target=\"_blank\" title=\"BPCL (Butwal Power Company Limited)\">BPCL</a></td><td class=\"text-right\">338.00</td><td class=\"text-right\">1.53</td><td class=\"text-right\">343.50</td><td class=\"text-right\">330.00</td><td class=\"text-right\">330.00</td><td class=\"text-right\">40,319</td><td><a href=\"javascript:void(0);\" onclick='addToWatchlist(\"BPCL\");' title=\"Add to Watchlist\"><i class=\"icon-tags icon-white\"></i></a></td><td><a href=\"javascript:void(0);\" onclick='setAlert(\"BPCL\");' title=\"Set as Alert\"><i class=\"icon-bell icon-white\"></i></a></td></tr>,\n",
       " <tr class=\"decrease-row\"><td><a href=\"/CompanyDetail.aspx?symbol=CBBL\" target=\"_blank\" title=\"CBBL (Chhimek Laghubitta Bittiya Sanstha Limited)\">CBBL</a></td><td class=\"text-right\">1,203.00</td><td class=\"text-right\">-0.66</td><td class=\"text-right\">1,212.00</td><td class=\"text-right\">1,199.00</td><td class=\"text-right\">1,209.00</td><td class=\"text-right\">12,026</td><td><a href=\"javascript:void(0);\" onclick='addToWatchlist(\"CBBL\");' title=\"Add to Watchlist\"><i class=\"icon-tags icon-white\"></i></a></td><td><a href=\"javascript:void(0);\" onclick='setAlert(\"CBBL\");' title=\"Set as Alert\"><i class=\"icon-bell icon-white\"></i></a></td></tr>,\n",
       " <tr class=\"decrease-row\"><td><a href=\"/CompanyDetail.aspx?symbol=CBL\" target=\"_blank\" title=\"CBL (Civil Bank Ltd)\">CBL</a></td><td class=\"text-right\">228.50</td><td class=\"text-right\">-1.3</td><td class=\"text-right\">232.00</td><td class=\"text-right\">228.00</td><td class=\"text-right\">229.10</td><td class=\"text-right\">64,629</td><td><a href=\"javascript:void(0);\" onclick='addToWatchlist(\"CBL\");' title=\"Add to Watchlist\"><i class=\"icon-tags icon-white\"></i></a></td><td><a href=\"javascript:void(0);\" onclick='setAlert(\"CBL\");' title=\"Set as Alert\"><i class=\"icon-bell icon-white\"></i></a></td></tr>,\n",
       " <tr class=\"nochange-row\"><td><a href=\"/CompanyDetail.aspx?symbol=CCBD88\" target=\"_blank\" title=\"CCBD88 (Century Debenture 2088)\">CCBD88</a></td><td class=\"text-right\">845.00</td><td class=\"text-right\">0</td><td class=\"text-right\">845.00</td><td class=\"text-right\">840.10</td><td class=\"text-right\">840.10</td><td class=\"text-right\">75</td><td><a href=\"javascript:void(0);\" onclick='addToWatchlist(\"CCBD88\");' title=\"Add to Watchlist\"><i class=\"icon-tags icon-white\"></i></a></td><td><a href=\"javascript:void(0);\" onclick='setAlert(\"CCBD88\");' title=\"Set as Alert\"><i class=\"icon-bell icon-white\"></i></a></td></tr>,\n",
       " <tr class=\"decrease-row\"><td><a href=\"/CompanyDetail.aspx?symbol=CFCL\" target=\"_blank\" title=\"CFCL (Central Finance Co. Ltd.)\">CFCL</a></td><td class=\"text-right\">341.00</td><td class=\"text-right\">-2.57</td><td class=\"text-right\">350.20</td><td class=\"text-right\">338.10</td><td class=\"text-right\">345.00</td><td class=\"text-right\">20,107</td><td><a href=\"javascript:void(0);\" onclick='addToWatchlist(\"CFCL\");' title=\"Add to Watchlist\"><i class=\"icon-tags icon-white\"></i></a></td><td><a href=\"javascript:void(0);\" onclick='setAlert(\"CFCL\");' title=\"Set as Alert\"><i class=\"icon-bell icon-white\"></i></a></td></tr>,\n",
       " <tr class=\"decrease-row\"><td><a href=\"/CompanyDetail.aspx?symbol=CGH\" target=\"_blank\" title=\"CGH (Chandragiri Hills Limited)\">CGH</a></td><td class=\"text-right\">1,350.00</td><td class=\"text-right\">-1.96</td><td class=\"text-right\">1,379.90</td><td class=\"text-right\">1,324.00</td><td class=\"text-right\">1,351.00</td><td class=\"text-right\">6,899</td><td><a href=\"javascript:void(0);\" onclick='addToWatchlist(\"CGH\");' title=\"Add to Watchlist\"><i class=\"icon-tags icon-white\"></i></a></td><td><a href=\"javascript:void(0);\" onclick='setAlert(\"CGH\");' title=\"Set as Alert\"><i class=\"icon-bell icon-white\"></i></a></td></tr>,\n",
       " <tr class=\"increase-row\"><td><a href=\"/CompanyDetail.aspx?symbol=CHCL\" target=\"_blank\" title=\"CHCL (Chilime Hydropower Company Limited)\">CHCL</a></td><td class=\"text-right\">460.00</td><td class=\"text-right\">5.02</td><td class=\"text-right\">467.00</td><td class=\"text-right\">427.00</td><td class=\"text-right\">438.00</td><td class=\"text-right\">99,840</td><td><a href=\"javascript:void(0);\" onclick='addToWatchlist(\"CHCL\");' title=\"Add to Watchlist\"><i class=\"icon-tags icon-white\"></i></a></td><td><a href=\"javascript:void(0);\" onclick='setAlert(\"CHCL\");' title=\"Set as Alert\"><i class=\"icon-bell icon-white\"></i></a></td></tr>,\n",
       " <tr class=\"decrease-row\"><td><a href=\"/CompanyDetail.aspx?symbol=CHDC\" target=\"_blank\" title=\"CHDC (CEDB Hydropower Development Company Limited)\">CHDC</a></td><td class=\"text-right\">795.00</td><td class=\"text-right\">-1.73</td><td class=\"text-right\">815.00</td><td class=\"text-right\">783.00</td><td class=\"text-right\">815.00</td><td class=\"text-right\">21,806</td><td><a href=\"javascript:void(0);\" onclick='addToWatchlist(\"CHDC\");' title=\"Add to Watchlist\"><i class=\"icon-tags icon-white\"></i></a></td><td><a href=\"javascript:void(0);\" onclick='setAlert(\"CHDC\");' title=\"Set as Alert\"><i class=\"icon-bell icon-white\"></i></a></td></tr>,\n",
       " <tr class=\"decrease-row\"><td><a href=\"/CompanyDetail.aspx?symbol=CHL\" target=\"_blank\" title=\"CHL (Chhyangdi Hydropower Ltd.)\">CHL</a></td><td class=\"text-right\">323.00</td><td class=\"text-right\">-2.12</td><td class=\"text-right\">331.00</td><td class=\"text-right\">322.00</td><td class=\"text-right\">328.00</td><td class=\"text-right\">25,825</td><td><a href=\"javascript:void(0);\" onclick='addToWatchlist(\"CHL\");' title=\"Add to Watchlist\"><i class=\"icon-tags icon-white\"></i></a></td><td><a href=\"javascript:void(0);\" onclick='setAlert(\"CHL\");' title=\"Set as Alert\"><i class=\"icon-bell icon-white\"></i></a></td></tr>,\n",
       " <tr class=\"decrease-row\"><td><a href=\"/CompanyDetail.aspx?symbol=CIT\" target=\"_blank\" title=\"CIT (Citizen Investment Trust)\">CIT</a></td><td class=\"text-right\">2,102.00</td><td class=\"text-right\">-1.64</td><td class=\"text-right\">2,150.00</td><td class=\"text-right\">2,095.00</td><td class=\"text-right\">2,102.00</td><td class=\"text-right\">7,485</td><td><a href=\"javascript:void(0);\" onclick='addToWatchlist(\"CIT\");' title=\"Add to Watchlist\"><i class=\"icon-tags icon-white\"></i></a></td><td><a href=\"javascript:void(0);\" onclick='setAlert(\"CIT\");' title=\"Set as Alert\"><i class=\"icon-bell icon-white\"></i></a></td></tr>,\n",
       " <tr class=\"decrease-row\"><td><a href=\"/CompanyDetail.aspx?symbol=CLBSL\" target=\"_blank\" title=\"CLBSL (Civil Laghubitta Bittiya Sanstha Ltd.)\">CLBSL</a></td><td class=\"text-right\">901.60</td><td class=\"text-right\">-6.08</td><td class=\"text-right\">960.00</td><td class=\"text-right\">901.60</td><td class=\"text-right\">940.80</td><td class=\"text-right\">5,613</td><td><a href=\"javascript:void(0);\" onclick='addToWatchlist(\"CLBSL\");' title=\"Add to Watchlist\"><i class=\"icon-tags icon-white\"></i></a></td><td><a href=\"javascript:void(0);\" onclick='setAlert(\"CLBSL\");' title=\"Set as Alert\"><i class=\"icon-bell icon-white\"></i></a></td></tr>,\n",
       " <tr class=\"increase-row\"><td><a href=\"/CompanyDetail.aspx?symbol=CMF1\" target=\"_blank\" title=\"CMF1 (Citizens Mutual Fund -1)\">CMF1</a></td><td class=\"text-right\">9.08</td><td class=\"text-right\">1.45</td><td class=\"text-right\">9.08</td><td class=\"text-right\">8.80</td><td class=\"text-right\">8.80</td><td class=\"text-right\">31,135</td><td><a href=\"javascript:void(0);\" onclick='addToWatchlist(\"CMF1\");' title=\"Add to Watchlist\"><i class=\"icon-tags icon-white\"></i></a></td><td><a href=\"javascript:void(0);\" onclick='setAlert(\"CMF1\");' title=\"Set as Alert\"><i class=\"icon-bell icon-white\"></i></a></td></tr>,\n",
       " <tr class=\"decrease-row\"><td><a href=\"/CompanyDetail.aspx?symbol=CMF2\" target=\"_blank\" title=\"CMF2 (CITIZENS MUTUAL FUND 2)\">CMF2</a></td><td class=\"text-right\">8.75</td><td class=\"text-right\">-1.35</td><td class=\"text-right\">8.75</td><td class=\"text-right\">8.61</td><td class=\"text-right\">8.75</td><td class=\"text-right\">16,933</td><td><a href=\"javascript:void(0);\" onclick='addToWatchlist(\"CMF2\");' title=\"Add to Watchlist\"><i class=\"icon-tags icon-white\"></i></a></td><td><a href=\"javascript:void(0);\" onclick='setAlert(\"CMF2\");' title=\"Set as Alert\"><i class=\"icon-bell icon-white\"></i></a></td></tr>,\n",
       " <tr class=\"decrease-row\"><td><a href=\"/CompanyDetail.aspx?symbol=CORBL\" target=\"_blank\" title=\"CORBL (Corporate Development Bank Limited)\">CORBL</a></td><td class=\"text-right\">323.00</td><td class=\"text-right\">-2.42</td><td class=\"text-right\">333.30</td><td class=\"text-right\">320.00</td><td class=\"text-right\">326.00</td><td class=\"text-right\">5,052</td><td><a href=\"javascript:void(0);\" onclick='addToWatchlist(\"CORBL\");' title=\"Add to Watchlist\"><i class=\"icon-tags icon-white\"></i></a></td><td><a href=\"javascript:void(0);\" onclick='setAlert(\"CORBL\");' title=\"Set as Alert\"><i class=\"icon-bell icon-white\"></i></a></td></tr>,\n",
       " <tr class=\"increase-row\"><td><a href=\"/CompanyDetail.aspx?symbol=CYCL\" target=\"_blank\" title=\"CYCL (CYC Nepal Laghubitta Bittiya Sanstha Limited)\">CYCL</a></td><td class=\"text-right\">1,895.00</td><td class=\"text-right\">0.25</td><td class=\"text-right\">1,905.00</td><td class=\"text-right\">1,863.00</td><td class=\"text-right\">1,863.00</td><td class=\"text-right\">982</td><td><a href=\"javascript:void(0);\" onclick='addToWatchlist(\"CYCL\");' title=\"Add to Watchlist\"><i class=\"icon-tags icon-white\"></i></a></td><td><a href=\"javascript:void(0);\" onclick='setAlert(\"CYCL\");' title=\"Set as Alert\"><i class=\"icon-bell icon-white\"></i></a></td></tr>,\n",
       " <tr class=\"decrease-row\"><td><a href=\"/CompanyDetail.aspx?symbol=CZBIL\" target=\"_blank\" title=\"CZBIL (Citizen Bank International Limited)\">CZBIL</a></td><td class=\"text-right\">194.40</td><td class=\"text-right\">-1.32</td><td class=\"text-right\">198.00</td><td class=\"text-right\">194.30</td><td class=\"text-right\">196.00</td><td class=\"text-right\">40,999</td><td><a href=\"javascript:void(0);\" onclick='addToWatchlist(\"CZBIL\");' title=\"Add to Watchlist\"><i class=\"icon-tags icon-white\"></i></a></td><td><a href=\"javascript:void(0);\" onclick='setAlert(\"CZBIL\");' title=\"Set as Alert\"><i class=\"icon-bell icon-white\"></i></a></td></tr>,\n",
       " <tr class=\"decrease-row\"><td><a href=\"/CompanyDetail.aspx?symbol=DDBL\" target=\"_blank\" title=\"DDBL (Deprosc Laghubitta Bittiya Sanstha Limited)\">DDBL</a></td><td class=\"text-right\">981.10</td><td class=\"text-right\">-0.29</td><td class=\"text-right\">995.00</td><td class=\"text-right\">976.00</td><td class=\"text-right\">984.00</td><td class=\"text-right\">9,939</td><td><a href=\"javascript:void(0);\" onclick='addToWatchlist(\"DDBL\");' title=\"Add to Watchlist\"><i class=\"icon-tags icon-white\"></i></a></td><td><a href=\"javascript:void(0);\" onclick='setAlert(\"DDBL\");' title=\"Set as Alert\"><i class=\"icon-bell icon-white\"></i></a></td></tr>,\n",
       " <tr class=\"decrease-row\"><td><a href=\"/CompanyDetail.aspx?symbol=DHPL\" target=\"_blank\" title=\"DHPL (Dibyashwori Hydropower Ltd.)\">DHPL</a></td><td class=\"text-right\">248.00</td><td class=\"text-right\">-0.8</td><td class=\"text-right\">253.00</td><td class=\"text-right\">240.10</td><td class=\"text-right\">245.00</td><td class=\"text-right\">26,852</td><td><a href=\"javascript:void(0);\" onclick='addToWatchlist(\"DHPL\");' title=\"Add to Watchlist\"><i class=\"icon-tags icon-white\"></i></a></td><td><a href=\"javascript:void(0);\" onclick='setAlert(\"DHPL\");' title=\"Set as Alert\"><i class=\"icon-bell icon-white\"></i></a></td></tr>,\n",
       " <tr class=\"increase-row\"><td><a href=\"/CompanyDetail.aspx?symbol=DLBS\" target=\"_blank\" title=\"DLBS (Dhaulagiri Laghubitta Bittiya Sanstha Limited)\">DLBS</a></td><td class=\"text-right\">1,369.90</td><td class=\"text-right\">0.36</td><td class=\"text-right\">1,369.90</td><td class=\"text-right\">1,345.00</td><td class=\"text-right\">1,345.00</td><td class=\"text-right\">1,215</td><td><a href=\"javascript:void(0);\" onclick='addToWatchlist(\"DLBS\");' title=\"Add to Watchlist\"><i class=\"icon-tags icon-white\"></i></a></td><td><a href=\"javascript:void(0);\" onclick='setAlert(\"DLBS\");' title=\"Set as Alert\"><i class=\"icon-bell icon-white\"></i></a></td></tr>,\n",
       " <tr class=\"decrease-row\"><td><a href=\"/CompanyDetail.aspx?symbol=DORDI\" target=\"_blank\" title=\"DORDI (Dordi Khola Jal Bidyut Company Limited)\">DORDI</a></td><td class=\"text-right\">325.00</td><td class=\"text-right\">-0.31</td><td class=\"text-right\">335.00</td><td class=\"text-right\">316.00</td><td class=\"text-right\">320.00</td><td class=\"text-right\">34,838</td><td><a href=\"javascript:void(0);\" onclick='addToWatchlist(\"DORDI\");' title=\"Add to Watchlist\"><i class=\"icon-tags icon-white\"></i></a></td><td><a href=\"javascript:void(0);\" onclick='setAlert(\"DORDI\");' title=\"Set as Alert\"><i class=\"icon-bell icon-white\"></i></a></td></tr>,\n",
       " <tr class=\"decrease-row\"><td><a href=\"/CompanyDetail.aspx?symbol=EBL\" target=\"_blank\" title=\"EBL (Everest Bank Limited)\">EBL</a></td><td class=\"text-right\">518.00</td><td class=\"text-right\">-0.13</td><td class=\"text-right\">525.00</td><td class=\"text-right\">512.20</td><td class=\"text-right\">519.00</td><td class=\"text-right\">25,712</td><td><a href=\"javascript:void(0);\" onclick='addToWatchlist(\"EBL\");' title=\"Add to Watchlist\"><i class=\"icon-tags icon-white\"></i></a></td><td><a href=\"javascript:void(0);\" onclick='setAlert(\"EBL\");' title=\"Set as Alert\"><i class=\"icon-bell icon-white\"></i></a></td></tr>,\n",
       " <tr class=\"decrease-row\"><td><a href=\"/CompanyDetail.aspx?symbol=EDBL\" target=\"_blank\" title=\"EDBL (Excel Development Bank Ltd.)\">EDBL</a></td><td class=\"text-right\">345.00</td><td class=\"text-right\">-2.54</td><td class=\"text-right\">359.90</td><td class=\"text-right\">342.50</td><td class=\"text-right\">350.00</td><td class=\"text-right\">18,104</td><td><a href=\"javascript:void(0);\" onclick='addToWatchlist(\"EDBL\");' title=\"Add to Watchlist\"><i class=\"icon-tags icon-white\"></i></a></td><td><a href=\"javascript:void(0);\" onclick='setAlert(\"EDBL\");' title=\"Set as Alert\"><i class=\"icon-bell icon-white\"></i></a></td></tr>,\n",
       " <tr class=\"increase-row\"><td><a href=\"/CompanyDetail.aspx?symbol=EHPL\" target=\"_blank\" title=\"EHPL (Eastern Hydropower Limited)\">EHPL</a></td><td class=\"text-right\">451.50</td><td class=\"text-right\">9.99</td><td class=\"text-right\">451.50</td><td class=\"text-right\">397.00</td><td class=\"text-right\">402.30</td><td class=\"text-right\">16,338</td><td><a href=\"javascript:void(0);\" onclick='addToWatchlist(\"EHPL\");' title=\"Add to Watchlist\"><i class=\"icon-tags icon-white\"></i></a></td><td><a href=\"javascript:void(0);\" onclick='setAlert(\"EHPL\");' title=\"Set as Alert\"><i class=\"icon-bell icon-white\"></i></a></td></tr>,\n",
       " <tr class=\"decrease-row\"><td><a href=\"/CompanyDetail.aspx?symbol=ENL\" target=\"_blank\" title=\"ENL (Emerging Nepal Limited)\">ENL</a></td><td class=\"text-right\">681.00</td><td class=\"text-right\">-1.3</td><td class=\"text-right\">694.00</td><td class=\"text-right\">676.20</td><td class=\"text-right\">676.20</td><td class=\"text-right\">1,114</td><td><a href=\"javascript:void(0);\" onclick='addToWatchlist(\"ENL\");' title=\"Add to Watchlist\"><i class=\"icon-tags icon-white\"></i></a></td><td><a href=\"javascript:void(0);\" onclick='setAlert(\"ENL\");' title=\"Set as Alert\"><i class=\"icon-bell icon-white\"></i></a></td></tr>,\n",
       " <tr class=\"decrease-row\"><td><a href=\"/CompanyDetail.aspx?symbol=FMDBL\" target=\"_blank\" title=\"FMDBL (First Micro Finance Laghubitta Bittiya Sanstha Limited)\">FMDBL</a></td><td class=\"text-right\">685.00</td><td class=\"text-right\">-1.31</td><td class=\"text-right\">705.00</td><td class=\"text-right\">684.00</td><td class=\"text-right\">691.00</td><td class=\"text-right\">19,342</td><td><a href=\"javascript:void(0);\" onclick='addToWatchlist(\"FMDBL\");' title=\"Add to Watchlist\"><i class=\"icon-tags icon-white\"></i></a></td><td><a href=\"javascript:void(0);\" onclick='setAlert(\"FMDBL\");' title=\"Set as Alert\"><i class=\"icon-bell icon-white\"></i></a></td></tr>,\n",
       " <tr class=\"decrease-row\"><td><a href=\"/CompanyDetail.aspx?symbol=FOWAD\" target=\"_blank\" title=\"FOWAD (Forward Microfinance Laghubitta Bittiya Sanstha Ltd.)\">FOWAD</a></td><td class=\"text-right\">1,915.00</td><td class=\"text-right\">-1.14</td><td class=\"text-right\">1,934.00</td><td class=\"text-right\">1,900.00</td><td class=\"text-right\">1,902.00</td><td class=\"text-right\">3,321</td><td><a href=\"javascript:void(0);\" onclick='addToWatchlist(\"FOWAD\");' title=\"Add to Watchlist\"><i class=\"icon-tags icon-white\"></i></a></td><td><a href=\"javascript:void(0);\" onclick='setAlert(\"FOWAD\");' title=\"Set as Alert\"><i class=\"icon-bell icon-white\"></i></a></td></tr>,\n",
       " <tr class=\"decrease-row\"><td><a href=\"/CompanyDetail.aspx?symbol=GBBL\" target=\"_blank\" title=\"GBBL (Garima Bikas Bank Limited)\">GBBL</a></td><td class=\"text-right\">368.20</td><td class=\"text-right\">-1.29</td><td class=\"text-right\">377.00</td><td class=\"text-right\">365.70</td><td class=\"text-right\">373.00</td><td class=\"text-right\">30,204</td><td><a href=\"javascript:void(0);\" onclick='addToWatchlist(\"GBBL\");' title=\"Add to Watchlist\"><i class=\"icon-tags icon-white\"></i></a></td><td><a href=\"javascript:void(0);\" onclick='setAlert(\"GBBL\");' title=\"Set as Alert\"><i class=\"icon-bell icon-white\"></i></a></td></tr>,\n",
       " <tr class=\"decrease-row\"><td><a href=\"/CompanyDetail.aspx?symbol=GBD80/81\" target=\"_blank\" title=\"GBD80/81 (10.25% Global IME Bank Limited Debenture 2080/81)\">GBD80/81</a></td><td class=\"text-right\">953.40</td><td class=\"text-right\">-0.69</td><td class=\"text-right\">953.40</td><td class=\"text-right\">953.40</td><td class=\"text-right\">953.40</td><td class=\"text-right\">10</td><td><a href=\"javascript:void(0);\" onclick='addToWatchlist(\"GBD80/81\");' title=\"Add to Watchlist\"><i class=\"icon-tags icon-white\"></i></a></td><td><a href=\"javascript:void(0);\" onclick='setAlert(\"GBD80/81\");' title=\"Set as Alert\"><i class=\"icon-bell icon-white\"></i></a></td></tr>,\n",
       " <tr class=\"nochange-row\"><td><a href=\"/CompanyDetail.aspx?symbol=GBILD86/87\" target=\"_blank\" title=\"GBILD86/87 (8.5% Global IME Bank Limited Debenture 2086/87)\">GBILD86/87</a></td><td class=\"text-right\">750.00</td><td class=\"text-right\">0</td><td class=\"text-right\">750.00</td><td class=\"text-right\">750.00</td><td class=\"text-right\">750.00</td><td class=\"text-right\">100</td><td><a href=\"javascript:void(0);\" onclick='addToWatchlist(\"GBILD86/87\");' title=\"Add to Watchlist\"><i class=\"icon-tags icon-white\"></i></a></td><td><a href=\"javascript:void(0);\" onclick='setAlert(\"GBILD86/87\");' title=\"Set as Alert\"><i class=\"icon-bell icon-white\"></i></a></td></tr>,\n",
       " <tr class=\"decrease-row\"><td><a href=\"/CompanyDetail.aspx?symbol=GBLBS\" target=\"_blank\" title=\"GBLBS (Grameen Bikas Laghubitta Bittiya Sanstha Ltd.)\">GBLBS</a></td><td class=\"text-right\">636.00</td><td class=\"text-right\">-0.62</td><td class=\"text-right\">652.80</td><td class=\"text-right\">635.00</td><td class=\"text-right\">635.00</td><td class=\"text-right\">2,580</td><td><a href=\"javascript:void(0);\" onclick='addToWatchlist(\"GBLBS\");' title=\"Add to Watchlist\"><i class=\"icon-tags icon-white\"></i></a></td><td><a href=\"javascript:void(0);\" onclick='setAlert(\"GBLBS\");' title=\"Set as Alert\"><i class=\"icon-bell icon-white\"></i></a></td></tr>,\n",
       " <tr class=\"decrease-row\"><td><a href=\"/CompanyDetail.aspx?symbol=GFCL\" target=\"_blank\" title=\"GFCL (Goodwill Finance Co. Ltd.)\">GFCL</a></td><td class=\"text-right\">511.80</td><td class=\"text-right\">-0.45</td><td class=\"text-right\">520.00</td><td class=\"text-right\">505.00</td><td class=\"text-right\">505.10</td><td class=\"text-right\">8,768</td><td><a href=\"javascript:void(0);\" onclick='addToWatchlist(\"GFCL\");' title=\"Add to Watchlist\"><i class=\"icon-tags icon-white\"></i></a></td><td><a href=\"javascript:void(0);\" onclick='setAlert(\"GFCL\");' title=\"Set as Alert\"><i class=\"icon-bell icon-white\"></i></a></td></tr>,\n",
       " <tr class=\"decrease-row\"><td><a href=\"/CompanyDetail.aspx?symbol=GHL\" target=\"_blank\" title=\"GHL (Ghalemdi Hydro Limited)\">GHL</a></td><td class=\"text-right\">297.00</td><td class=\"text-right\">-0.34</td><td class=\"text-right\">305.00</td><td class=\"text-right\">287.00</td><td class=\"text-right\">292.10</td><td class=\"text-right\">99,212</td><td><a href=\"javascript:void(0);\" onclick='addToWatchlist(\"GHL\");' title=\"Add to Watchlist\"><i class=\"icon-tags icon-white\"></i></a></td><td><a href=\"javascript:void(0);\" onclick='setAlert(\"GHL\");' title=\"Set as Alert\"><i class=\"icon-bell icon-white\"></i></a></td></tr>,\n",
       " <tr class=\"increase-row\"><td><a href=\"/CompanyDetail.aspx?symbol=GIBF1\" target=\"_blank\" title=\"GIBF1 (Global IME Balanced Fund-1)\">GIBF1</a></td><td class=\"text-right\">8.43</td><td class=\"text-right\">0.36</td><td class=\"text-right\">8.57</td><td class=\"text-right\">8.41</td><td class=\"text-right\">8.41</td><td class=\"text-right\">6,000</td><td><a href=\"javascript:void(0);\" onclick='addToWatchlist(\"GIBF1\");' title=\"Add to Watchlist\"><i class=\"icon-tags icon-white\"></i></a></td><td><a href=\"javascript:void(0);\" onclick='setAlert(\"GIBF1\");' title=\"Set as Alert\"><i class=\"icon-bell icon-white\"></i></a></td></tr>,\n",
       " <tr class=\"increase-row\"><td><a href=\"/CompanyDetail.aspx?symbol=GILB\" target=\"_blank\" title=\"GILB (Global IME Laghubitta Bittiya Sanstha Ltd.)\">GILB</a></td><td class=\"text-right\">1,183.00</td><td class=\"text-right\">0.17</td><td class=\"text-right\">1,198.00</td><td class=\"text-right\">1,160.00</td><td class=\"text-right\">1,166.00</td><td class=\"text-right\">520</td><td><a href=\"javascript:void(0);\" onclick='addToWatchlist(\"GILB\");' title=\"Add to Watchlist\"><i class=\"icon-tags icon-white\"></i></a></td><td><a href=\"javascript:void(0);\" onclick='setAlert(\"GILB\");' title=\"Set as Alert\"><i class=\"icon-bell icon-white\"></i></a></td></tr>,\n",
       " <tr class=\"nochange-row\"><td><a href=\"/CompanyDetail.aspx?symbol=GIMES1\" target=\"_blank\" title=\"GIMES1 (Global IME Samunnat Scheme-1)\">GIMES1</a></td><td class=\"text-right\">10.15</td><td class=\"text-right\">0</td><td class=\"text-right\">10.15</td><td class=\"text-right\">9.95</td><td class=\"text-right\">9.95</td><td class=\"text-right\">36,491</td><td><a href=\"javascript:void(0);\" onclick='addToWatchlist(\"GIMES1\");' title=\"Add to Watchlist\"><i class=\"icon-tags icon-white\"></i></a></td><td><a href=\"javascript:void(0);\" onclick='setAlert(\"GIMES1\");' title=\"Set as Alert\"><i class=\"icon-bell icon-white\"></i></a></td></tr>,\n",
       " <tr class=\"increase-row\"><td><a href=\"/CompanyDetail.aspx?symbol=GLBSL\" target=\"_blank\" title=\"GLBSL (Gurans Laghubitta Bittiya Sanstha Limited)\">GLBSL</a></td><td class=\"text-right\">865.00</td><td class=\"text-right\">1.45</td><td class=\"text-right\">865.00</td><td class=\"text-right\">825.00</td><td class=\"text-right\">836.20</td><td class=\"text-right\">296</td><td><a href=\"javascript:void(0);\" onclick='addToWatchlist(\"GLBSL\");' title=\"Add to Watchlist\"><i class=\"icon-tags icon-white\"></i></a></td><td><a href=\"javascript:void(0);\" onclick='setAlert(\"GLBSL\");' title=\"Set as Alert\"><i class=\"icon-bell icon-white\"></i></a></td></tr>,\n",
       " <tr class=\"decrease-row\"><td><a href=\"/CompanyDetail.aspx?symbol=GLH\" target=\"_blank\" title=\"GLH (Greenlife Hydropower Limited)\">GLH</a></td><td class=\"text-right\">337.00</td><td class=\"text-right\">-5.07</td><td class=\"text-right\">356.00</td><td class=\"text-right\">335.00</td><td class=\"text-right\">347.90</td><td class=\"text-right\">39,336</td><td><a href=\"javascript:void(0);\" onclick='addToWatchlist(\"GLH\");' title=\"Add to Watchlist\"><i class=\"icon-tags icon-white\"></i></a></td><td><a href=\"javascript:void(0);\" onclick='setAlert(\"GLH\");' title=\"Set as Alert\"><i class=\"icon-bell icon-white\"></i></a></td></tr>,\n",
       " <tr class=\"decrease-row\"><td><a href=\"/CompanyDetail.aspx?symbol=GMFBS\" target=\"_blank\" title=\"GMFBS (Ganapati Microfinance Bittiya Sanstha Ltd)\">GMFBS</a></td><td class=\"text-right\">875.00</td><td class=\"text-right\">-4.68</td><td class=\"text-right\">899.70</td><td class=\"text-right\">852.20</td><td class=\"text-right\">899.70</td><td class=\"text-right\">3,225</td><td><a href=\"javascript:void(0);\" onclick='addToWatchlist(\"GMFBS\");' title=\"Add to Watchlist\"><i class=\"icon-tags icon-white\"></i></a></td><td><a href=\"javascript:void(0);\" onclick='setAlert(\"GMFBS\");' title=\"Set as Alert\"><i class=\"icon-bell icon-white\"></i></a></td></tr>,\n",
       " <tr class=\"decrease-row\"><td><a href=\"/CompanyDetail.aspx?symbol=GMFIL\" target=\"_blank\" title=\"GMFIL (Guheshowori Merchant Bank &amp; Finance Co. Ltd.)\">GMFIL</a></td><td class=\"text-right\">370.00</td><td class=\"text-right\">-0.48</td><td class=\"text-right\">378.00</td><td class=\"text-right\">365.00</td><td class=\"text-right\">370.00</td><td class=\"text-right\">11,635</td><td><a href=\"javascript:void(0);\" onclick='addToWatchlist(\"GMFIL\");' title=\"Add to Watchlist\"><i class=\"icon-tags icon-white\"></i></a></td><td><a href=\"javascript:void(0);\" onclick='setAlert(\"GMFIL\");' title=\"Set as Alert\"><i class=\"icon-bell icon-white\"></i></a></td></tr>,\n",
       " <tr class=\"decrease-row\"><td><a href=\"/CompanyDetail.aspx?symbol=GRDBL\" target=\"_blank\" title=\"GRDBL (Green Development Bank Ltd.)\">GRDBL</a></td><td class=\"text-right\">284.00</td><td class=\"text-right\">-0.7</td><td class=\"text-right\">295.00</td><td class=\"text-right\">280.40</td><td class=\"text-right\">280.40</td><td class=\"text-right\">4,729</td><td><a href=\"javascript:void(0);\" onclick='addToWatchlist(\"GRDBL\");' title=\"Add to Watchlist\"><i class=\"icon-tags icon-white\"></i></a></td><td><a href=\"javascript:void(0);\" onclick='setAlert(\"GRDBL\");' title=\"Set as Alert\"><i class=\"icon-bell icon-white\"></i></a></td></tr>,\n",
       " <tr class=\"decrease-row\"><td><a href=\"/CompanyDetail.aspx?symbol=GUFL\" target=\"_blank\" title=\"GUFL (Gurkhas Finance Ltd.)\">GUFL</a></td><td class=\"text-right\">583.00</td><td class=\"text-right\">-2.83</td><td class=\"text-right\">598.00</td><td class=\"text-right\">581.00</td><td class=\"text-right\">588.80</td><td class=\"text-right\">34,963</td><td><a href=\"javascript:void(0);\" onclick='addToWatchlist(\"GUFL\");' title=\"Add to Watchlist\"><i class=\"icon-tags icon-white\"></i></a></td><td><a href=\"javascript:void(0);\" onclick='setAlert(\"GUFL\");' title=\"Set as Alert\"><i class=\"icon-bell icon-white\"></i></a></td></tr>,\n",
       " <tr class=\"decrease-row\"><td><a href=\"/CompanyDetail.aspx?symbol=GVL\" target=\"_blank\" title=\"GVL (Green Ventures Limited)\">GVL</a></td><td class=\"text-right\">467.00</td><td class=\"text-right\">-4.3</td><td class=\"text-right\">488.00</td><td class=\"text-right\">459.50</td><td class=\"text-right\">488.00</td><td class=\"text-right\">65,442</td><td><a href=\"javascript:void(0);\" onclick='addToWatchlist(\"GVL\");' title=\"Add to Watchlist\"><i class=\"icon-tags icon-white\"></i></a></td><td><a href=\"javascript:void(0);\" onclick='setAlert(\"GVL\");' title=\"Set as Alert\"><i class=\"icon-bell icon-white\"></i></a></td></tr>,\n",
       " <tr class=\"decrease-row\"><td><a href=\"/CompanyDetail.aspx?symbol=HBL\" target=\"_blank\" title=\"HBL (Himalayan Bank Limited)\">HBL</a></td><td class=\"text-right\">306.00</td><td class=\"text-right\">-0.65</td><td class=\"text-right\">310.00</td><td class=\"text-right\">303.10</td><td class=\"text-right\">304.00</td><td class=\"text-right\">12,986</td><td><a href=\"javascript:void(0);\" onclick='addToWatchlist(\"HBL\");' title=\"Add to Watchlist\"><i class=\"icon-tags icon-white\"></i></a></td><td><a href=\"javascript:void(0);\" onclick='setAlert(\"HBL\");' title=\"Set as Alert\"><i class=\"icon-bell icon-white\"></i></a></td></tr>,\n",
       " <tr class=\"decrease-row\"><td><a href=\"/CompanyDetail.aspx?symbol=HDHPC\" target=\"_blank\" title=\"HDHPC (Himal Dolakha Hydropower Company Limited)\">HDHPC</a></td><td class=\"text-right\">248.00</td><td class=\"text-right\">-2.36</td><td class=\"text-right\">255.30</td><td class=\"text-right\">245.20</td><td class=\"text-right\">254.00</td><td class=\"text-right\">261,267</td><td><a href=\"javascript:void(0);\" onclick='addToWatchlist(\"HDHPC\");' title=\"Add to Watchlist\"><i class=\"icon-tags icon-white\"></i></a></td><td><a href=\"javascript:void(0);\" onclick='setAlert(\"HDHPC\");' title=\"Set as Alert\"><i class=\"icon-bell icon-white\"></i></a></td></tr>,\n",
       " <tr class=\"decrease-row\"><td><a href=\"/CompanyDetail.aspx?symbol=HDL\" target=\"_blank\" title=\"HDL (Himalayan Distillery Limited)\">HDL</a></td><td class=\"text-right\">2,648.00</td><td class=\"text-right\">-1.01</td><td class=\"text-right\">2,693.00</td><td class=\"text-right\">2,615.00</td><td class=\"text-right\">2,660.00</td><td class=\"text-right\">16,072</td><td><a href=\"javascript:void(0);\" onclick='addToWatchlist(\"HDL\");' title=\"Add to Watchlist\"><i class=\"icon-tags icon-white\"></i></a></td><td><a href=\"javascript:void(0);\" onclick='setAlert(\"HDL\");' title=\"Set as Alert\"><i class=\"icon-bell icon-white\"></i></a></td></tr>,\n",
       " <tr class=\"decrease-row\"><td><a href=\"/CompanyDetail.aspx?symbol=HEI\" target=\"_blank\" title=\"HEI (Himalayan Everest Insurance Limited)\">HEI</a></td><td class=\"text-right\">460.00</td><td class=\"text-right\">-2.11</td><td class=\"text-right\">476.90</td><td class=\"text-right\">460.00</td><td class=\"text-right\">461.00</td><td class=\"text-right\">49,437</td><td><a href=\"javascript:void(0);\" onclick='addToWatchlist(\"HEI\");' title=\"Add to Watchlist\"><i class=\"icon-tags icon-white\"></i></a></td><td><a href=\"javascript:void(0);\" onclick='setAlert(\"HEI\");' title=\"Set as Alert\"><i class=\"icon-bell icon-white\"></i></a></td></tr>,\n",
       " <tr class=\"decrease-row\"><td><a href=\"/CompanyDetail.aspx?symbol=HEIP\" target=\"_blank\" title=\"HEIP (Himalayan Everest Insurance Limited Promoter)\">HEIP</a></td><td class=\"text-right\">319.00</td><td class=\"text-right\">-3.3</td><td class=\"text-right\">326.00</td><td class=\"text-right\">310.70</td><td class=\"text-right\">323.40</td><td class=\"text-right\">10,230</td><td><a href=\"javascript:void(0);\" onclick='addToWatchlist(\"HEIP\");' title=\"Add to Watchlist\"><i class=\"icon-tags icon-white\"></i></a></td><td><a href=\"javascript:void(0);\" onclick='setAlert(\"HEIP\");' title=\"Set as Alert\"><i class=\"icon-bell icon-white\"></i></a></td></tr>,\n",
       " <tr class=\"decrease-row\"><td><a href=\"/CompanyDetail.aspx?symbol=HHL\" target=\"_blank\" title=\"HHL (Himalayan Hydropower Limited)\">HHL</a></td><td class=\"text-right\">307.00</td><td class=\"text-right\">-0.03</td><td class=\"text-right\">311.00</td><td class=\"text-right\">295.00</td><td class=\"text-right\">308.00</td><td class=\"text-right\">37,312</td><td><a href=\"javascript:void(0);\" onclick='addToWatchlist(\"HHL\");' title=\"Add to Watchlist\"><i class=\"icon-tags icon-white\"></i></a></td><td><a href=\"javascript:void(0);\" onclick='setAlert(\"HHL\");' title=\"Set as Alert\"><i class=\"icon-bell icon-white\"></i></a></td></tr>,\n",
       " <tr class=\"decrease-row\"><td><a href=\"/CompanyDetail.aspx?symbol=HIDCL\" target=\"_blank\" title=\"HIDCL (Hydorelectricity Investment and Development Company Ltd)\">HIDCL</a></td><td class=\"text-right\">209.00</td><td class=\"text-right\">-1.42</td><td class=\"text-right\">215.00</td><td class=\"text-right\">208.00</td><td class=\"text-right\">212.00</td><td class=\"text-right\">151,096</td><td><a href=\"javascript:void(0);\" onclick='addToWatchlist(\"HIDCL\");' title=\"Add to Watchlist\"><i class=\"icon-tags icon-white\"></i></a></td><td><a href=\"javascript:void(0);\" onclick='setAlert(\"HIDCL\");' title=\"Set as Alert\"><i class=\"icon-bell icon-white\"></i></a></td></tr>,\n",
       " <tr class=\"decrease-row\"><td><a href=\"/CompanyDetail.aspx?symbol=HIDCLP\" target=\"_blank\" title=\"HIDCLP (Hydroelectricity Investment and Development Company Limited Promoter Share)\">HIDCLP</a></td><td class=\"text-right\">108.00</td><td class=\"text-right\">-6.09</td><td class=\"text-right\">114.00</td><td class=\"text-right\">106.20</td><td class=\"text-right\">112.70</td><td class=\"text-right\">508,443</td><td><a href=\"javascript:void(0);\" onclick='addToWatchlist(\"HIDCLP\");' title=\"Add to Watchlist\"><i class=\"icon-tags icon-white\"></i></a></td><td><a href=\"javascript:void(0);\" onclick='setAlert(\"HIDCLP\");' title=\"Set as Alert\"><i class=\"icon-bell icon-white\"></i></a></td></tr>,\n",
       " <tr class=\"decrease-row\"><td><a href=\"/CompanyDetail.aspx?symbol=HPPL\" target=\"_blank\" title=\"HPPL (Himalayan Power Partner Ltd.)\">HPPL</a></td><td class=\"text-right\">348.00</td><td class=\"text-right\">-1.14</td><td class=\"text-right\">361.00</td><td class=\"text-right\">344.00</td><td class=\"text-right\">359.00</td><td class=\"text-right\">61,460</td><td><a href=\"javascript:void(0);\" onclick='addToWatchlist(\"HPPL\");' title=\"Add to Watchlist\"><i class=\"icon-tags icon-white\"></i></a></td><td><a href=\"javascript:void(0);\" onclick='setAlert(\"HPPL\");' title=\"Set as Alert\"><i class=\"icon-bell icon-white\"></i></a></td></tr>,\n",
       " <tr class=\"nochange-row\"><td><a href=\"/CompanyDetail.aspx?symbol=HURJA\" target=\"_blank\" title=\"HURJA (Himalaya Urja Bikas Company Limited)\">HURJA</a></td><td class=\"text-right\">410.00</td><td class=\"text-right\">0</td><td class=\"text-right\">443.40</td><td class=\"text-right\">406.00</td><td class=\"text-right\">418.00</td><td class=\"text-right\">221,609</td><td><a href=\"javascript:void(0);\" onclick='addToWatchlist(\"HURJA\");' title=\"Add to Watchlist\"><i class=\"icon-tags icon-white\"></i></a></td><td><a href=\"javascript:void(0);\" onclick='setAlert(\"HURJA\");' title=\"Set as Alert\"><i class=\"icon-bell icon-white\"></i></a></td></tr>,\n",
       " <tr class=\"decrease-row\"><td><a href=\"/CompanyDetail.aspx?symbol=ICFC\" target=\"_blank\" title=\"ICFC (ICFC Finance Limited)\">ICFC</a></td><td class=\"text-right\">479.80</td><td class=\"text-right\">-1.28</td><td class=\"text-right\">488.00</td><td class=\"text-right\">471.00</td><td class=\"text-right\">483.00</td><td class=\"text-right\">28,819</td><td><a href=\"javascript:void(0);\" onclick='addToWatchlist(\"ICFC\");' title=\"Add to Watchlist\"><i class=\"icon-tags icon-white\"></i></a></td><td><a href=\"javascript:void(0);\" onclick='setAlert(\"ICFC\");' title=\"Set as Alert\"><i class=\"icon-bell icon-white\"></i></a></td></tr>,\n",
       " <tr class=\"increase-row\"><td><a href=\"/CompanyDetail.aspx?symbol=IGI\" target=\"_blank\" title=\"IGI (IME General Insurance Ltd.)\">IGI</a></td><td class=\"text-right\">516.00</td><td class=\"text-right\">6.39</td><td class=\"text-right\">525.90</td><td class=\"text-right\">480.00</td><td class=\"text-right\">480.00</td><td class=\"text-right\">198,658</td><td><a href=\"javascript:void(0);\" onclick='addToWatchlist(\"IGI\");' title=\"Add to Watchlist\"><i class=\"icon-tags icon-white\"></i></a></td><td><a href=\"javascript:void(0);\" onclick='setAlert(\"IGI\");' title=\"Set as Alert\"><i class=\"icon-bell icon-white\"></i></a></td></tr>,\n",
       " <tr class=\"decrease-row\"><td><a href=\"/CompanyDetail.aspx?symbol=ILBS\" target=\"_blank\" title=\"ILBS (Infinity Laghubitta Bittiya Sanstha Limited)\">ILBS</a></td><td class=\"text-right\">1,005.00</td><td class=\"text-right\">-1.08</td><td class=\"text-right\">1,014.00</td><td class=\"text-right\">995.70</td><td class=\"text-right\">996.00</td><td class=\"text-right\">1,285</td><td><a href=\"javascript:void(0);\" onclick='addToWatchlist(\"ILBS\");' title=\"Add to Watchlist\"><i class=\"icon-tags icon-white\"></i></a></td><td><a href=\"javascript:void(0);\" onclick='setAlert(\"ILBS\");' title=\"Set as Alert\"><i class=\"icon-bell icon-white\"></i></a></td></tr>,\n",
       " <tr class=\"increase-row\"><td><a href=\"/CompanyDetail.aspx?symbol=JALPA\" target=\"_blank\" title=\"JALPA (Jalpa Samudayik Laghubitta Bittiya Sanstha Limited)\">JALPA</a></td><td class=\"text-right\">3,435.00</td><td class=\"text-right\">0.82</td><td class=\"text-right\">3,462.00</td><td class=\"text-right\">3,393.00</td><td class=\"text-right\">3,420.00</td><td class=\"text-right\">1,642</td><td><a href=\"javascript:void(0);\" onclick='addToWatchlist(\"JALPA\");' title=\"Add to Watchlist\"><i class=\"icon-tags icon-white\"></i></a></td><td><a href=\"javascript:void(0);\" onclick='setAlert(\"JALPA\");' title=\"Set as Alert\"><i class=\"icon-bell icon-white\"></i></a></td></tr>,\n",
       " <tr class=\"decrease-row\"><td><a href=\"/CompanyDetail.aspx?symbol=JBBL\" target=\"_blank\" title=\"JBBL (Jyoti Bikas Bank Limited)\">JBBL</a></td><td class=\"text-right\">304.20</td><td class=\"text-right\">-1.87</td><td class=\"text-right\">311.00</td><td class=\"text-right\">304.00</td><td class=\"text-right\">305.40</td><td class=\"text-right\">43,287</td><td><a href=\"javascript:void(0);\" onclick='addToWatchlist(\"JBBL\");' title=\"Add to Watchlist\"><i class=\"icon-tags icon-white\"></i></a></td><td><a href=\"javascript:void(0);\" onclick='setAlert(\"JBBL\");' title=\"Set as Alert\"><i class=\"icon-bell icon-white\"></i></a></td></tr>,\n",
       " <tr class=\"increase-row\"><td><a href=\"/CompanyDetail.aspx?symbol=JBLB\" target=\"_blank\" title=\"JBLB (Jeevan Bikas Laghubitta Bittiya Sanstha Limited)\">JBLB</a></td><td class=\"text-right\">2,850.00</td><td class=\"text-right\">0.18</td><td class=\"text-right\">2,875.00</td><td class=\"text-right\">2,845.00</td><td class=\"text-right\">2,846.00</td><td class=\"text-right\">5,044</td><td><a href=\"javascript:void(0);\" onclick='addToWatchlist(\"JBLB\");' title=\"Add to Watchlist\"><i class=\"icon-tags icon-white\"></i></a></td><td><a href=\"javascript:void(0);\" onclick='setAlert(\"JBLB\");' title=\"Set as Alert\"><i class=\"icon-bell icon-white\"></i></a></td></tr>,\n",
       " <tr class=\"decrease-row\"><td><a href=\"/CompanyDetail.aspx?symbol=JFL\" target=\"_blank\" title=\"JFL (Janaki Finance Ltd.)\">JFL</a></td><td class=\"text-right\">416.70</td><td class=\"text-right\">-2.39</td><td class=\"text-right\">429.00</td><td class=\"text-right\">416.10</td><td class=\"text-right\">419.00</td><td class=\"text-right\">9,595</td><td><a href=\"javascript:void(0);\" onclick='addToWatchlist(\"JFL\");' title=\"Add to Watchlist\"><i class=\"icon-tags icon-white\"></i></a></td><td><a href=\"javascript:void(0);\" onclick='setAlert(\"JFL\");' title=\"Set as Alert\"><i class=\"icon-bell icon-white\"></i></a></td></tr>,\n",
       " <tr class=\"increase-row\"><td><a href=\"/CompanyDetail.aspx?symbol=JOSHI\" target=\"_blank\" title=\"JOSHI (Joshi Hydropower Development Company Ltd)\">JOSHI</a></td><td class=\"text-right\">263.90</td><td class=\"text-right\">4.31</td><td class=\"text-right\">272.00</td><td class=\"text-right\">248.00</td><td class=\"text-right\">250.00</td><td class=\"text-right\">122,581</td><td><a href=\"javascript:void(0);\" onclick='addToWatchlist(\"JOSHI\");' title=\"Add to Watchlist\"><i class=\"icon-tags icon-white\"></i></a></td><td><a href=\"javascript:void(0);\" onclick='setAlert(\"JOSHI\");' title=\"Set as Alert\"><i class=\"icon-bell icon-white\"></i></a></td></tr>,\n",
       " <tr class=\"decrease-row\"><td><a href=\"/CompanyDetail.aspx?symbol=JSLBB\" target=\"_blank\" title=\"JSLBB (Janautthan Samudayic Laghubitta Bittiya Sanstha Limited)\">JSLBB</a></td><td class=\"text-right\">1,616.00</td><td class=\"text-right\">-1.82</td><td class=\"text-right\">1,670.00</td><td class=\"text-right\">1,581.80</td><td class=\"text-right\">1,614.00</td><td class=\"text-right\">1,051</td><td><a href=\"javascript:void(0);\" onclick='addToWatchlist(\"JSLBB\");' title=\"Add to Watchlist\"><i class=\"icon-tags icon-white\"></i></a></td><td><a href=\"javascript:void(0);\" onclick='setAlert(\"JSLBB\");' title=\"Set as Alert\"><i class=\"icon-bell icon-white\"></i></a></td></tr>,\n",
       " <tr class=\"decrease-row\"><td><a href=\"/CompanyDetail.aspx?symbol=KBL\" target=\"_blank\" title=\"KBL (Kumari Bank Limited)\">KBL</a></td><td class=\"text-right\">195.00</td><td class=\"text-right\">-1.07</td><td class=\"text-right\">199.00</td><td class=\"text-right\">194.00</td><td class=\"text-right\">197.00</td><td class=\"text-right\">172,680</td><td><a href=\"javascript:void(0);\" onclick='addToWatchlist(\"KBL\");' title=\"Add to Watchlist\"><i class=\"icon-tags icon-white\"></i></a></td><td><a href=\"javascript:void(0);\" onclick='setAlert(\"KBL\");' title=\"Set as Alert\"><i class=\"icon-bell icon-white\"></i></a></td></tr>,\n",
       " <tr class=\"decrease-row\"><td><a href=\"/CompanyDetail.aspx?symbol=KBLD86\" target=\"_blank\" title=\"KBLD86 (10.25% Kumari Bank Debenture 2086)\">KBLD86</a></td><td class=\"text-right\">864.40</td><td class=\"text-right\">-3.96</td><td class=\"text-right\">882.00</td><td class=\"text-right\">864.40</td><td class=\"text-right\">882.00</td><td class=\"text-right\">200</td><td><a href=\"javascript:void(0);\" onclick='addToWatchlist(\"KBLD86\");' title=\"Add to Watchlist\"><i class=\"icon-tags icon-white\"></i></a></td><td><a href=\"javascript:void(0);\" onclick='setAlert(\"KBLD86\");' title=\"Set as Alert\"><i class=\"icon-bell icon-white\"></i></a></td></tr>,\n",
       " <tr class=\"increase-row\"><td><a href=\"/CompanyDetail.aspx?symbol=KDBY\" target=\"_blank\" title=\"KDBY (Kumari Dhanabriddhi Yojana)\">KDBY</a></td><td class=\"text-right\">8.78</td><td class=\"text-right\">1.15</td><td class=\"text-right\">8.89</td><td class=\"text-right\">8.51</td><td class=\"text-right\">8.51</td><td class=\"text-right\">5,700</td><td><a href=\"javascript:void(0);\" onclick='addToWatchlist(\"KDBY\");' title=\"Add to Watchlist\"><i class=\"icon-tags icon-white\"></i></a></td><td><a href=\"javascript:void(0);\" onclick='setAlert(\"KDBY\");' title=\"Set as Alert\"><i class=\"icon-bell icon-white\"></i></a></td></tr>,\n",
       " <tr class=\"nochange-row\"><td><a href=\"/CompanyDetail.aspx?symbol=KEF\" target=\"_blank\" title=\"KEF (Kumari Equity Fund)\">KEF</a></td><td class=\"text-right\">9.00</td><td class=\"text-right\">0</td><td class=\"text-right\">9.10</td><td class=\"text-right\">8.71</td><td class=\"text-right\">8.82</td><td class=\"text-right\">17,501</td><td><a href=\"javascript:void(0);\" onclick='addToWatchlist(\"KEF\");' title=\"Add to Watchlist\"><i class=\"icon-tags icon-white\"></i></a></td><td><a href=\"javascript:void(0);\" onclick='setAlert(\"KEF\");' title=\"Set as Alert\"><i class=\"icon-bell icon-white\"></i></a></td></tr>,\n",
       " <tr class=\"decrease-row\"><td><a href=\"/CompanyDetail.aspx?symbol=KKHC\" target=\"_blank\" title=\"KKHC (Khanikhola Hydropower Co. Ltd.)\">KKHC</a></td><td class=\"text-right\">257.00</td><td class=\"text-right\">-1.91</td><td class=\"text-right\">264.10</td><td class=\"text-right\">253.90</td><td class=\"text-right\">262.00</td><td class=\"text-right\">15,345</td><td><a href=\"javascript:void(0);\" onclick='addToWatchlist(\"KKHC\");' title=\"Add to Watchlist\"><i class=\"icon-tags icon-white\"></i></a></td><td><a href=\"javascript:void(0);\" onclick='setAlert(\"KKHC\");' title=\"Set as Alert\"><i class=\"icon-bell icon-white\"></i></a></td></tr>,\n",
       " <tr class=\"decrease-row\"><td><a href=\"/CompanyDetail.aspx?symbol=KLBS\" target=\"_blank\" title=\"KLBS (Khaptad Laghubitta Bittiya Sanstha Limited)\">KLBS</a></td><td class=\"text-right\">1,384.00</td><td class=\"text-right\">-0.44</td><td class=\"text-right\">1,397.00</td><td class=\"text-right\">1,370.00</td><td class=\"text-right\">1,370.20</td><td class=\"text-right\">950</td><td><a href=\"javascript:void(0);\" onclick='addToWatchlist(\"KLBS\");' title=\"Add to Watchlist\"><i class=\"icon-tags icon-white\"></i></a></td><td><a href=\"javascript:void(0);\" onclick='setAlert(\"KLBS\");' title=\"Set as Alert\"><i class=\"icon-bell icon-white\"></i></a></td></tr>,\n",
       " <tr class=\"nochange-row\"><td><a href=\"/CompanyDetail.aspx?symbol=KLBSL\" target=\"_blank\" title=\"KLBSL (Kisan Lagubitta Bittiya Sanstha Limited)\">KLBSL</a></td><td class=\"text-right\">862.00</td><td class=\"text-right\">0</td><td class=\"text-right\">877.00</td><td class=\"text-right\">862.00</td><td class=\"text-right\">865.00</td><td class=\"text-right\">128</td><td><a href=\"javascript:void(0);\" onclick='addToWatchlist(\"KLBSL\");' title=\"Add to Watchlist\"><i class=\"icon-tags icon-white\"></i></a></td><td><a href=\"javascript:void(0);\" onclick='setAlert(\"KLBSL\");' title=\"Set as Alert\"><i class=\"icon-bell icon-white\"></i></a></td></tr>,\n",
       " <tr class=\"decrease-row\"><td><a href=\"/CompanyDetail.aspx?symbol=KMCDB\" target=\"_blank\" title=\"KMCDB (Kalika Laghubitta Bittiya Sanstha Limited)\">KMCDB</a></td><td class=\"text-right\">1,020.00</td><td class=\"text-right\">-3.23</td><td class=\"text-right\">1,050.00</td><td class=\"text-right\">1,015.00</td><td class=\"text-right\">1,050.00</td><td class=\"text-right\">1,489</td><td><a href=\"javascript:void(0);\" onclick='addToWatchlist(\"KMCDB\");' title=\"Add to Watchlist\"><i class=\"icon-tags icon-white\"></i></a></td><td><a href=\"javascript:void(0);\" onclick='setAlert(\"KMCDB\");' title=\"Set as Alert\"><i class=\"icon-bell icon-white\"></i></a></td></tr>,\n",
       " <tr class=\"decrease-row\"><td><a href=\"/CompanyDetail.aspx?symbol=KPCL\" target=\"_blank\" title=\"KPCL (Kalika power Company Ltd)\">KPCL</a></td><td class=\"text-right\">392.00</td><td class=\"text-right\">-1.75</td><td class=\"text-right\">402.00</td><td class=\"text-right\">390.00</td><td class=\"text-right\">400.00</td><td class=\"text-right\">4,457</td><td><a href=\"javascript:void(0);\" onclick='addToWatchlist(\"KPCL\");' title=\"Add to Watchlist\"><i class=\"icon-tags icon-white\"></i></a></td><td><a href=\"javascript:void(0);\" onclick='setAlert(\"KPCL\");' title=\"Set as Alert\"><i class=\"icon-bell icon-white\"></i></a></td></tr>,\n",
       " <tr class=\"decrease-row\"><td><a href=\"/CompanyDetail.aspx?symbol=KRBL\" target=\"_blank\" title=\"KRBL (Karnali Development Bank Limited)\">KRBL</a></td><td class=\"text-right\">299.00</td><td class=\"text-right\">-2.86</td><td class=\"text-right\">304.50</td><td class=\"text-right\">298.00</td><td class=\"text-right\">301.70</td><td class=\"text-right\">13,271</td><td><a href=\"javascript:void(0);\" onclick='addToWatchlist(\"KRBL\");' title=\"Add to Watchlist\"><i class=\"icon-tags icon-white\"></i></a></td><td><a href=\"javascript:void(0);\" onclick='setAlert(\"KRBL\");' title=\"Set as Alert\"><i class=\"icon-bell icon-white\"></i></a></td></tr>,\n",
       " <tr class=\"decrease-row\"><td><a href=\"/CompanyDetail.aspx?symbol=KSBBL\" target=\"_blank\" title=\"KSBBL (Kamana Sewa Bikas Bank Limited)\">KSBBL</a></td><td class=\"text-right\">335.30</td><td class=\"text-right\">-1.09</td><td class=\"text-right\">345.00</td><td class=\"text-right\">333.00</td><td class=\"text-right\">338.00</td><td class=\"text-right\">40,166</td><td><a href=\"javascript:void(0);\" onclick='addToWatchlist(\"KSBBL\");' title=\"Add to Watchlist\"><i class=\"icon-tags icon-white\"></i></a></td><td><a href=\"javascript:void(0);\" onclick='setAlert(\"KSBBL\");' title=\"Set as Alert\"><i class=\"icon-bell icon-white\"></i></a></td></tr>,\n",
       " <tr class=\"decrease-row\"><td><a href=\"/CompanyDetail.aspx?symbol=LBBL\" target=\"_blank\" title=\"LBBL (Lumbini Bikas Bank Ltd.)\">LBBL</a></td><td class=\"text-right\">366.20</td><td class=\"text-right\">-2.84</td><td class=\"text-right\">384.40</td><td class=\"text-right\">366.00</td><td class=\"text-right\">384.40</td><td class=\"text-right\">32,567</td><td><a href=\"javascript:void(0);\" onclick='addToWatchlist(\"LBBL\");' title=\"Add to Watchlist\"><i class=\"icon-tags icon-white\"></i></a></td><td><a href=\"javascript:void(0);\" onclick='setAlert(\"LBBL\");' title=\"Set as Alert\"><i class=\"icon-bell icon-white\"></i></a></td></tr>,\n",
       " <tr class=\"decrease-row\"><td><a href=\"/CompanyDetail.aspx?symbol=LBL\" target=\"_blank\" title=\"LBL (Laxmi Bank Limited)\">LBL</a></td><td class=\"text-right\">199.30</td><td class=\"text-right\">-0.25</td><td class=\"text-right\">202.00</td><td class=\"text-right\">198.60</td><td class=\"text-right\">200.00</td><td class=\"text-right\">24,005</td><td><a href=\"javascript:void(0);\" onclick='addToWatchlist(\"LBL\");' title=\"Add to Watchlist\"><i class=\"icon-tags icon-white\"></i></a></td><td><a href=\"javascript:void(0);\" onclick='setAlert(\"LBL\");' title=\"Set as Alert\"><i class=\"icon-bell icon-white\"></i></a></td></tr>,\n",
       " <tr class=\"decrease-row\"><td><a href=\"/CompanyDetail.aspx?symbol=LEC\" target=\"_blank\" title=\"LEC (Liberty Energy Company Limited)\">LEC</a></td><td class=\"text-right\">296.00</td><td class=\"text-right\">-2.92</td><td class=\"text-right\">303.00</td><td class=\"text-right\">290.00</td><td class=\"text-right\">300.00</td><td class=\"text-right\">28,402</td><td><a href=\"javascript:void(0);\" onclick='addToWatchlist(\"LEC\");' title=\"Add to Watchlist\"><i class=\"icon-tags icon-white\"></i></a></td><td><a href=\"javascript:void(0);\" onclick='setAlert(\"LEC\");' title=\"Set as Alert\"><i class=\"icon-bell icon-white\"></i></a></td></tr>,\n",
       " <tr class=\"increase-row\"><td><a href=\"/CompanyDetail.aspx?symbol=LEMF\" target=\"_blank\" title=\"LEMF (Laxmi Equity Fund)\">LEMF</a></td><td class=\"text-right\">9.60</td><td class=\"text-right\">1.05</td><td class=\"text-right\">9.60</td><td class=\"text-right\">9.42</td><td class=\"text-right\">9.50</td><td class=\"text-right\">42,650</td><td><a href=\"javascript:void(0);\" onclick='addToWatchlist(\"LEMF\");' title=\"Add to Watchlist\"><i class=\"icon-tags icon-white\"></i></a></td><td><a href=\"javascript:void(0);\" onclick='setAlert(\"LEMF\");' title=\"Set as Alert\"><i class=\"icon-bell icon-white\"></i></a></td></tr>,\n",
       " <tr class=\"increase-row\"><td><a href=\"/CompanyDetail.aspx?symbol=LGIL\" target=\"_blank\" title=\"LGIL (Lumbini General Insurance Co. Ltd.)\">LGIL</a></td><td class=\"text-right\">462.20</td><td class=\"text-right\">10</td><td class=\"text-right\">462.20</td><td class=\"text-right\">428.60</td><td class=\"text-right\">428.60</td><td class=\"text-right\">907</td><td><a href=\"javascript:void(0);\" onclick='addToWatchlist(\"LGIL\");' title=\"Add to Watchlist\"><i class=\"icon-tags icon-white\"></i></a></td><td><a href=\"javascript:void(0);\" onclick='setAlert(\"LGIL\");' title=\"Set as Alert\"><i class=\"icon-bell icon-white\"></i></a></td></tr>,\n",
       " <tr class=\"decrease-row\"><td><a href=\"/CompanyDetail.aspx?symbol=LICN\" target=\"_blank\" title=\"LICN (Life Insurance Co. Nepal)\">LICN</a></td><td class=\"text-right\">1,539.30</td><td class=\"text-right\">-0.63</td><td class=\"text-right\">1,574.90</td><td class=\"text-right\">1,519.00</td><td class=\"text-right\">1,574.90</td><td class=\"text-right\">10,343</td><td><a href=\"javascript:void(0);\" onclick='addToWatchlist(\"LICN\");' title=\"Add to Watchlist\"><i class=\"icon-tags icon-white\"></i></a></td><td><a href=\"javascript:void(0);\" onclick='setAlert(\"LICN\");' title=\"Set as Alert\"><i class=\"icon-bell icon-white\"></i></a></td></tr>,\n",
       " <tr class=\"increase-row\"><td><a href=\"/CompanyDetail.aspx?symbol=LLBS\" target=\"_blank\" title=\"LLBS (Laxmi Laghubitta Bittiya Sanstha Ltd.)\">LLBS</a></td><td class=\"text-right\">1,171.00</td><td class=\"text-right\">1.12</td><td class=\"text-right\">1,179.00</td><td class=\"text-right\">1,135.20</td><td class=\"text-right\">1,135.20</td><td class=\"text-right\">1,030</td><td><a href=\"javascript:void(0);\" onclick='addToWatchlist(\"LLBS\");' title=\"Add to Watchlist\"><i class=\"icon-tags icon-white\"></i></a></td><td><a href=\"javascript:void(0);\" onclick='setAlert(\"LLBS\");' title=\"Set as Alert\"><i class=\"icon-bell icon-white\"></i></a></td></tr>,\n",
       " <tr class=\"decrease-row\"><td><a href=\"/CompanyDetail.aspx?symbol=LUK\" target=\"_blank\" title=\"LUK (Laxmi unnati Kosh)\">LUK</a></td><td class=\"text-right\">8.72</td><td class=\"text-right\">-1.8</td><td class=\"text-right\">8.73</td><td class=\"text-right\">8.72</td><td class=\"text-right\">8.73</td><td class=\"text-right\">12,110</td><td><a href=\"javascript:void(0);\" onclick='addToWatchlist(\"LUK\");' title=\"Add to Watchlist\"><i class=\"icon-tags icon-white\"></i></a></td><td><a href=\"javascript:void(0);\" onclick='setAlert(\"LUK\");' title=\"Set as Alert\"><i class=\"icon-bell icon-white\"></i></a></td></tr>,\n",
       " <tr class=\"increase-row\"><td><a href=\"/CompanyDetail.aspx?symbol=MBJC\" target=\"_blank\" title=\"MBJC (Madhya Bhotekoshi Jalavidyut Company Limited)\">MBJC</a></td><td class=\"text-right\">326.00</td><td class=\"text-right\">0.62</td><td class=\"text-right\">332.00</td><td class=\"text-right\">315.10</td><td class=\"text-right\">320.00</td><td class=\"text-right\">56,892</td><td><a href=\"javascript:void(0);\" onclick='addToWatchlist(\"MBJC\");' title=\"Add to Watchlist\"><i class=\"icon-tags icon-white\"></i></a></td><td><a href=\"javascript:void(0);\" onclick='setAlert(\"MBJC\");' title=\"Set as Alert\"><i class=\"icon-bell icon-white\"></i></a></td></tr>,\n",
       " <tr class=\"decrease-row\"><td><a href=\"/CompanyDetail.aspx?symbol=MBL\" target=\"_blank\" title=\"MBL (Machhapuchchhre Bank Limited)\">MBL</a></td><td class=\"text-right\">243.00</td><td class=\"text-right\">-0.82</td><td class=\"text-right\">249.00</td><td class=\"text-right\">242.00</td><td class=\"text-right\">249.00</td><td class=\"text-right\">19,087</td><td><a href=\"javascript:void(0);\" onclick='addToWatchlist(\"MBL\");' title=\"Add to Watchlist\"><i class=\"icon-tags icon-white\"></i></a></td><td><a href=\"javascript:void(0);\" onclick='setAlert(\"MBL\");' title=\"Set as Alert\"><i class=\"icon-bell icon-white\"></i></a></td></tr>,\n",
       " <tr class=\"decrease-row\"><td><a href=\"/CompanyDetail.aspx?symbol=MDB\" target=\"_blank\" title=\"MDB (Miteri Development Bank Limited)\">MDB</a></td><td class=\"text-right\">395.00</td><td class=\"text-right\">-2.47</td><td class=\"text-right\">413.00</td><td class=\"text-right\">395.00</td><td class=\"text-right\">409.90</td><td class=\"text-right\">10,292</td><td><a href=\"javascript:void(0);\" onclick='addToWatchlist(\"MDB\");' title=\"Add to Watchlist\"><i class=\"icon-tags icon-white\"></i></a></td><td><a href=\"javascript:void(0);\" onclick='setAlert(\"MDB\");' title=\"Set as Alert\"><i class=\"icon-bell icon-white\"></i></a></td></tr>,\n",
       " <tr class=\"decrease-row\"><td><a href=\"/CompanyDetail.aspx?symbol=MEN\" target=\"_blank\" title=\"MEN (Mountain Energy Nepal Limited)\">MEN</a></td><td class=\"text-right\">812.00</td><td class=\"text-right\">-0.98</td><td class=\"text-right\">825.00</td><td class=\"text-right\">787.60</td><td class=\"text-right\">803.60</td><td class=\"text-right\">1,393</td><td><a href=\"javascript:void(0);\" onclick='addToWatchlist(\"MEN\");' title=\"Add to Watchlist\"><i class=\"icon-tags icon-white\"></i></a></td><td><a href=\"javascript:void(0);\" onclick='setAlert(\"MEN\");' title=\"Set as Alert\"><i class=\"icon-bell icon-white\"></i></a></td></tr>,\n",
       " <tr class=\"decrease-row\"><td><a href=\"/CompanyDetail.aspx?symbol=MERO\" target=\"_blank\" title=\"MERO (Meromicrofinance Laghubitta Bittiya Sanstha Ltd.)\">MERO</a></td><td class=\"text-right\">772.50</td><td class=\"text-right\">-1.47</td><td class=\"text-right\">779.00</td><td class=\"text-right\">757.20</td><td class=\"text-right\">769.00</td><td class=\"text-right\">1,661</td><td><a href=\"javascript:void(0);\" onclick='addToWatchlist(\"MERO\");' title=\"Add to Watchlist\"><i class=\"icon-tags icon-white\"></i></a></td><td><a href=\"javascript:void(0);\" onclick='setAlert(\"MERO\");' title=\"Set as Alert\"><i class=\"icon-bell icon-white\"></i></a></td></tr>,\n",
       " <tr class=\"decrease-row\"><td><a href=\"/CompanyDetail.aspx?symbol=MFIL\" target=\"_blank\" title=\"MFIL (Manjushree Finance Ltd.)\">MFIL</a></td><td class=\"text-right\">488.00</td><td class=\"text-right\">-0.71</td><td class=\"text-right\">506.00</td><td class=\"text-right\">487.00</td><td class=\"text-right\">491.00</td><td class=\"text-right\">34,460</td><td><a href=\"javascript:void(0);\" onclick='addToWatchlist(\"MFIL\");' title=\"Add to Watchlist\"><i class=\"icon-tags icon-white\"></i></a></td><td><a href=\"javascript:void(0);\" onclick='setAlert(\"MFIL\");' title=\"Set as Alert\"><i class=\"icon-bell icon-white\"></i></a></td></tr>,\n",
       " <tr class=\"decrease-row\"><td><a href=\"/CompanyDetail.aspx?symbol=MHL\" target=\"_blank\" title=\"MHL (Mandakini Hydropower Limited)\">MHL</a></td><td class=\"text-right\">394.00</td><td class=\"text-right\">-0.25</td><td class=\"text-right\">398.00</td><td class=\"text-right\">379.40</td><td class=\"text-right\">387.10</td><td class=\"text-right\">16,850</td><td><a href=\"javascript:void(0);\" onclick='addToWatchlist(\"MHL\");' title=\"Add to Watchlist\"><i class=\"icon-tags icon-white\"></i></a></td><td><a href=\"javascript:void(0);\" onclick='setAlert(\"MHL\");' title=\"Set as Alert\"><i class=\"icon-bell icon-white\"></i></a></td></tr>,\n",
       " <tr class=\"decrease-row\"><td><a href=\"/CompanyDetail.aspx?symbol=MHNL\" target=\"_blank\" title=\"MHNL (Mountain Hydro Nepal Limited)\">MHNL</a></td><td class=\"text-right\">337.00</td><td class=\"text-right\">-2.01</td><td class=\"text-right\">343.00</td><td class=\"text-right\">333.00</td><td class=\"text-right\">338.10</td><td class=\"text-right\">38,355</td><td><a href=\"javascript:void(0);\" onclick='addToWatchlist(\"MHNL\");' title=\"Add to Watchlist\"><i class=\"icon-tags icon-white\"></i></a></td><td><a href=\"javascript:void(0);\" onclick='setAlert(\"MHNL\");' title=\"Set as Alert\"><i class=\"icon-bell icon-white\"></i></a></td></tr>,\n",
       " <tr class=\"decrease-row\"><td><a href=\"/CompanyDetail.aspx?symbol=MKJC\" target=\"_blank\" title=\"MKJC (Mailung Khola Jal Vidhyut Company  Limited)\">MKJC</a></td><td class=\"text-right\">487.90</td><td class=\"text-right\">-1.87</td><td class=\"text-right\">497.00</td><td class=\"text-right\">481.00</td><td class=\"text-right\">490.00</td><td class=\"text-right\">8,276</td><td><a href=\"javascript:void(0);\" onclick='addToWatchlist(\"MKJC\");' title=\"Add to Watchlist\"><i class=\"icon-tags icon-white\"></i></a></td><td><a href=\"javascript:void(0);\" onclick='setAlert(\"MKJC\");' title=\"Set as Alert\"><i class=\"icon-bell icon-white\"></i></a></td></tr>,\n",
       " <tr class=\"decrease-row\"><td><a href=\"/CompanyDetail.aspx?symbol=MKLB\" target=\"_blank\" title=\"MKLB (Manakamana Smart Laghubitta Bittiya Sanstha Limited)\">MKLB</a></td><td class=\"text-right\">890.00</td><td class=\"text-right\">-2.57</td><td class=\"text-right\">901.00</td><td class=\"text-right\">888.00</td><td class=\"text-right\">898.10</td><td class=\"text-right\">545</td><td><a href=\"javascript:void(0);\" onclick='addToWatchlist(\"MKLB\");' title=\"Add to Watchlist\"><i class=\"icon-tags icon-white\"></i></a></td><td><a href=\"javascript:void(0);\" onclick='setAlert(\"MKLB\");' title=\"Set as Alert\"><i class=\"icon-bell icon-white\"></i></a></td></tr>,\n",
       " <tr class=\"decrease-row\"><td><a href=\"/CompanyDetail.aspx?symbol=MLBBL\" target=\"_blank\" title=\"MLBBL (Mithila Laghubitta Bittiya Sanstha Ltd.)\">MLBBL</a></td><td class=\"text-right\">1,103.00</td><td class=\"text-right\">-1.34</td><td class=\"text-right\">1,139.00</td><td class=\"text-right\">1,101.00</td><td class=\"text-right\">1,139.00</td><td class=\"text-right\">972</td><td><a href=\"javascript:void(0);\" onclick='addToWatchlist(\"MLBBL\");' title=\"Add to Watchlist\"><i class=\"icon-tags icon-white\"></i></a></td><td><a href=\"javascript:void(0);\" onclick='setAlert(\"MLBBL\");' title=\"Set as Alert\"><i class=\"icon-bell icon-white\"></i></a></td></tr>,\n",
       " <tr class=\"decrease-row\"><td><a href=\"/CompanyDetail.aspx?symbol=MLBL\" target=\"_blank\" title=\"MLBL (Mahalaxmi Bikas Bank Ltd.)\">MLBL</a></td><td class=\"text-right\">347.50</td><td class=\"text-right\">-1.84</td><td class=\"text-right\">355.00</td><td class=\"text-right\">347.30</td><td class=\"text-right\">352.00</td><td class=\"text-right\">42,047</td><td><a href=\"javascript:void(0);\" onclick='addToWatchlist(\"MLBL\");' title=\"Add to Watchlist\"><i class=\"icon-tags icon-white\"></i></a></td><td><a href=\"javascript:void(0);\" onclick='setAlert(\"MLBL\");' title=\"Set as Alert\"><i class=\"icon-bell icon-white\"></i></a></td></tr>,\n",
       " <tr class=\"decrease-row\"><td><a href=\"/CompanyDetail.aspx?symbol=MLBS\" target=\"_blank\" title=\"MLBS (Manushi Laghubitta Bittiya Sanstha Limited)\">MLBS</a></td><td class=\"text-right\">1,050.20</td><td class=\"text-right\">-3.21</td><td class=\"text-right\">1,080.50</td><td class=\"text-right\">1,045.00</td><td class=\"text-right\">1,080.50</td><td class=\"text-right\">330</td><td><a href=\"javascript:void(0);\" onclick='addToWatchlist(\"MLBS\");' title=\"Add to Watchlist\"><i class=\"icon-tags icon-white\"></i></a></td><td><a href=\"javascript:void(0);\" onclick='setAlert(\"MLBS\");' title=\"Set as Alert\"><i class=\"icon-bell icon-white\"></i></a></td></tr>,\n",
       " <tr class=\"decrease-row\"><td><a href=\"/CompanyDetail.aspx?symbol=MLBSL\" target=\"_blank\" title=\"MLBSL (Mahila Laghubitta Bittiya Sanstha Limited)\">MLBSL</a></td><td class=\"text-right\">4,103.00</td><td class=\"text-right\">-1.13</td><td class=\"text-right\">4,140.00</td><td class=\"text-right\">4,071.00</td><td class=\"text-right\">4,081.00</td><td class=\"text-right\">696</td><td><a href=\"javascript:void(0);\" onclick='addToWatchlist(\"MLBSL\");' title=\"Add to Watchlist\"><i class=\"icon-tags icon-white\"></i></a></td><td><a href=\"javascript:void(0);\" onclick='setAlert(\"MLBSL\");' title=\"Set as Alert\"><i class=\"icon-bell icon-white\"></i></a></td></tr>,\n",
       " <tr class=\"decrease-row\"><td><a href=\"/CompanyDetail.aspx?symbol=MMF1\" target=\"_blank\" title=\"MMF1 (Mega Mutual Fund-1)\">MMF1</a></td><td class=\"text-right\">7.90</td><td class=\"text-right\">-2.59</td><td class=\"text-right\">8.00</td><td class=\"text-right\">7.80</td><td class=\"text-right\">7.95</td><td class=\"text-right\">7,830</td><td><a href=\"javascript:void(0);\" onclick='addToWatchlist(\"MMF1\");' title=\"Add to Watchlist\"><i class=\"icon-tags icon-white\"></i></a></td><td><a href=\"javascript:void(0);\" onclick='setAlert(\"MMF1\");' title=\"Set as Alert\"><i class=\"icon-bell icon-white\"></i></a></td></tr>,\n",
       " <tr class=\"decrease-row\"><td><a href=\"/CompanyDetail.aspx?symbol=MMFDB\" target=\"_blank\" title=\"MMFDB (Mirmire Laghubitta Bittiya Sanstha Ltd.)\">MMFDB</a></td><td class=\"text-right\">830.00</td><td class=\"text-right\">-0.02</td><td class=\"text-right\">850.00</td><td class=\"text-right\">825.00</td><td class=\"text-right\">826.00</td><td class=\"text-right\">1,725</td><td><a href=\"javascript:void(0);\" onclick='addToWatchlist(\"MMFDB\");' title=\"Add to Watchlist\"><i class=\"icon-tags icon-white\"></i></a></td><td><a href=\"javascript:void(0);\" onclick='setAlert(\"MMFDB\");' title=\"Set as Alert\"><i class=\"icon-bell icon-white\"></i></a></td></tr>,\n",
       " <tr class=\"decrease-row\"><td><a href=\"/CompanyDetail.aspx?symbol=MNBBL\" target=\"_blank\" title=\"MNBBL (Muktinath Bikas Bank Ltd.)\">MNBBL</a></td><td class=\"text-right\">412.00</td><td class=\"text-right\">-1.13</td><td class=\"text-right\">420.00</td><td class=\"text-right\">411.00</td><td class=\"text-right\">415.00</td><td class=\"text-right\">25,550</td><td><a href=\"javascript:void(0);\" onclick='addToWatchlist(\"MNBBL\");' title=\"Add to Watchlist\"><i class=\"icon-tags icon-white\"></i></a></td><td><a href=\"javascript:void(0);\" onclick='setAlert(\"MNBBL\");' title=\"Set as Alert\"><i class=\"icon-bell icon-white\"></i></a></td></tr>,\n",
       " <tr class=\"decrease-row\"><td><a href=\"/CompanyDetail.aspx?symbol=MPFL\" target=\"_blank\" title=\"MPFL (Multipurpose Finance Company Limited)\">MPFL</a></td><td class=\"text-right\">347.00</td><td class=\"text-right\">-2.75</td><td class=\"text-right\">354.90</td><td class=\"text-right\">345.10</td><td class=\"text-right\">350.00</td><td class=\"text-right\">12,865</td><td><a href=\"javascript:void(0);\" onclick='addToWatchlist(\"MPFL\");' title=\"Add to Watchlist\"><i class=\"icon-tags icon-white\"></i></a></td><td><a href=\"javascript:void(0);\" onclick='setAlert(\"MPFL\");' title=\"Set as Alert\"><i class=\"icon-bell icon-white\"></i></a></td></tr>,\n",
       " <tr class=\"decrease-row\"><td><a href=\"/CompanyDetail.aspx?symbol=MSLB\" target=\"_blank\" title=\"MSLB (Mahuli Laghubitta Bittiya Sanstha Ltd.)\">MSLB</a></td><td class=\"text-right\">1,214.00</td><td class=\"text-right\">-0.98</td><td class=\"text-right\">1,220.00</td><td class=\"text-right\">1,212.00</td><td class=\"text-right\">1,220.00</td><td class=\"text-right\">78</td><td><a href=\"javascript:void(0);\" onclick='addToWatchlist(\"MSLB\");' title=\"Add to Watchlist\"><i class=\"icon-tags icon-white\"></i></a></td><td><a href=\"javascript:void(0);\" onclick='setAlert(\"MSLB\");' title=\"Set as Alert\"><i class=\"icon-bell icon-white\"></i></a></td></tr>,\n",
       " <tr class=\"increase-row\"><td><a href=\"/CompanyDetail.aspx?symbol=NABBC\" target=\"_blank\" title=\"NABBC (Narayani Development Bank Limited)\">NABBC</a></td><td class=\"text-right\">468.90</td><td class=\"text-right\">0.95</td><td class=\"text-right\">468.90</td><td class=\"text-right\">441.00</td><td class=\"text-right\">458.00</td><td class=\"text-right\">21,898</td><td><a href=\"javascript:void(0);\" onclick='addToWatchlist(\"NABBC\");' title=\"Add to Watchlist\"><i class=\"icon-tags icon-white\"></i></a></td><td><a href=\"javascript:void(0);\" onclick='setAlert(\"NABBC\");' title=\"Set as Alert\"><i class=\"icon-bell icon-white\"></i></a></td></tr>,\n",
       " <tr class=\"decrease-row\"><td><a href=\"/CompanyDetail.aspx?symbol=NABIL\" target=\"_blank\" title=\"NABIL (Nabil Bank Limited)\">NABIL</a></td><td class=\"text-right\">702.50</td><td class=\"text-right\">-0.44</td><td class=\"text-right\">709.00</td><td class=\"text-right\">701.10</td><td class=\"text-right\">707.00</td><td class=\"text-right\">57,268</td><td><a href=\"javascript:void(0);\" onclick='addToWatchlist(\"NABIL\");' title=\"Add to Watchlist\"><i class=\"icon-tags icon-white\"></i></a></td><td><a href=\"javascript:void(0);\" onclick='setAlert(\"NABIL\");' title=\"Set as Alert\"><i class=\"icon-bell icon-white\"></i></a></td></tr>,\n",
       " <tr class=\"decrease-row\"><td><a href=\"/CompanyDetail.aspx?symbol=NADEP\" target=\"_blank\" title=\"NADEP (Nadep Laghubitta Bittiya Sanstha Ltd.)\">NADEP</a></td><td class=\"text-right\">786.00</td><td class=\"text-right\">-2.24</td><td class=\"text-right\">800.00</td><td class=\"text-right\">782.00</td><td class=\"text-right\">790.00</td><td class=\"text-right\">7,696</td><td><a href=\"javascript:void(0);\" onclick='addToWatchlist(\"NADEP\");' title=\"Add to Watchlist\"><i class=\"icon-tags icon-white\"></i></a></td><td><a href=\"javascript:void(0);\" onclick='setAlert(\"NADEP\");' title=\"Set as Alert\"><i class=\"icon-bell icon-white\"></i></a></td></tr>,\n",
       " <tr class=\"decrease-row\"><td><a href=\"/CompanyDetail.aspx?symbol=NBF2\" target=\"_blank\" title=\"NBF2 (NABIL BALANCED FUND-2)\">NBF2</a></td><td class=\"text-right\">9.00</td><td class=\"text-right\">-0.88</td><td class=\"text-right\">9.10</td><td class=\"text-right\">9.00</td><td class=\"text-right\">9.00</td><td class=\"text-right\">12,580</td><td><a href=\"javascript:void(0);\" onclick='addToWatchlist(\"NBF2\");' title=\"Add to Watchlist\"><i class=\"icon-tags icon-white\"></i></a></td><td><a href=\"javascript:void(0);\" onclick='setAlert(\"NBF2\");' title=\"Set as Alert\"><i class=\"icon-bell icon-white\"></i></a></td></tr>,\n",
       " <tr class=\"decrease-row\"><td><a href=\"/CompanyDetail.aspx?symbol=NBF3\" target=\"_blank\" title=\"NBF3 (nabil Balanced Fund-3)\">NBF3</a></td><td class=\"text-right\">7.90</td><td class=\"text-right\">-1.25</td><td class=\"text-right\">7.95</td><td class=\"text-right\">7.70</td><td class=\"text-right\">7.84</td><td class=\"text-right\">19,808</td><td><a href=\"javascript:void(0);\" onclick='addToWatchlist(\"NBF3\");' title=\"Add to Watchlist\"><i class=\"icon-tags icon-white\"></i></a></td><td><a href=\"javascript:void(0);\" onclick='setAlert(\"NBF3\");' title=\"Set as Alert\"><i class=\"icon-bell icon-white\"></i></a></td></tr>,\n",
       " <tr class=\"decrease-row\"><td><a href=\"/CompanyDetail.aspx?symbol=NBL\" target=\"_blank\" title=\"NBL (Nepal Bank Limited)\">NBL</a></td><td class=\"text-right\">274.00</td><td class=\"text-right\">-0.47</td><td class=\"text-right\">279.90</td><td class=\"text-right\">273.10</td><td class=\"text-right\">275.30</td><td class=\"text-right\">42,044</td><td><a href=\"javascript:void(0);\" onclick='addToWatchlist(\"NBL\");' title=\"Add to Watchlist\"><i class=\"icon-tags icon-white\"></i></a></td><td><a href=\"javascript:void(0);\" onclick='setAlert(\"NBL\");' title=\"Set as Alert\"><i class=\"icon-bell icon-white\"></i></a></td></tr>,\n",
       " <tr class=\"increase-row\"><td><a href=\"/CompanyDetail.aspx?symbol=NBLD87\" target=\"_blank\" title=\"NBLD87 (8.5% Nepal Bank Debenture 2087)\">NBLD87</a></td><td class=\"text-right\">740.00</td><td class=\"text-right\">0.07</td><td class=\"text-right\">754.20</td><td class=\"text-right\">740.00</td><td class=\"text-right\">754.20</td><td class=\"text-right\">80</td><td><a href=\"javascript:void(0);\" onclick='addToWatchlist(\"NBLD87\");' title=\"Add to Watchlist\"><i class=\"icon-tags icon-white\"></i></a></td><td><a href=\"javascript:void(0);\" onclick='setAlert(\"NBLD87\");' title=\"Set as Alert\"><i class=\"icon-bell icon-white\"></i></a></td></tr>,\n",
       " <tr class=\"increase-row\"><td><a href=\"/CompanyDetail.aspx?symbol=NEF\" target=\"_blank\" title=\"NEF (Nabil Equity Fund)\">NEF</a></td><td class=\"text-right\">9.05</td><td class=\"text-right\">0.56</td><td class=\"text-right\">9.10</td><td class=\"text-right\">8.99</td><td class=\"text-right\">8.99</td><td class=\"text-right\">30,455</td><td><a href=\"javascript:void(0);\" onclick='addToWatchlist(\"NEF\");' title=\"Add to Watchlist\"><i class=\"icon-tags icon-white\"></i></a></td><td><a href=\"javascript:void(0);\" onclick='setAlert(\"NEF\");' title=\"Set as Alert\"><i class=\"icon-bell icon-white\"></i></a></td></tr>,\n",
       " <tr class=\"increase-row\"><td><a href=\"/CompanyDetail.aspx?symbol=NESDO\" target=\"_blank\" title=\"NESDO (NESDO Sambridha Laghubitta Bittiye Sanstha Limited)\">NESDO</a></td><td class=\"text-right\">3,380.00</td><td class=\"text-right\">1.47</td><td class=\"text-right\">3,420.00</td><td class=\"text-right\">3,264.40</td><td class=\"text-right\">3,264.40</td><td class=\"text-right\">12,481</td><td><a href=\"javascript:void(0);\" onclick='addToWatchlist(\"NESDO\");' title=\"Add to Watchlist\"><i class=\"icon-tags icon-white\"></i></a></td><td><a href=\"javascript:void(0);\" onclick='setAlert(\"NESDO\");' title=\"Set as Alert\"><i class=\"icon-bell icon-white\"></i></a></td></tr>,\n",
       " <tr class=\"decrease-row\"><td><a href=\"/CompanyDetail.aspx?symbol=NFS\" target=\"_blank\" title=\"NFS (Nepal Finance Ltd.)\">NFS</a></td><td class=\"text-right\">316.80</td><td class=\"text-right\">-3.71</td><td class=\"text-right\">328.00</td><td class=\"text-right\">313.60</td><td class=\"text-right\">323.00</td><td class=\"text-right\">59,180</td><td><a href=\"javascript:void(0);\" onclick='addToWatchlist(\"NFS\");' title=\"Add to Watchlist\"><i class=\"icon-tags icon-white\"></i></a></td><td><a href=\"javascript:void(0);\" onclick='setAlert(\"NFS\");' title=\"Set as Alert\"><i class=\"icon-bell icon-white\"></i></a></td></tr>,\n",
       " <tr class=\"decrease-row\"><td><a href=\"/CompanyDetail.aspx?symbol=NGPL\" target=\"_blank\" title=\"NGPL (Ngadi Group Power Ltd.)\">NGPL</a></td><td class=\"text-right\">300.10</td><td class=\"text-right\">-1.93</td><td class=\"text-right\">308.90</td><td class=\"text-right\">298.00</td><td class=\"text-right\">305.00</td><td class=\"text-right\">168,621</td><td><a href=\"javascript:void(0);\" onclick='addToWatchlist(\"NGPL\");' title=\"Add to Watchlist\"><i class=\"icon-tags icon-white\"></i></a></td><td><a href=\"javascript:void(0);\" onclick='setAlert(\"NGPL\");' title=\"Set as Alert\"><i class=\"icon-bell icon-white\"></i></a></td></tr>,\n",
       " <tr class=\"decrease-row\"><td><a href=\"/CompanyDetail.aspx?symbol=NHDL\" target=\"_blank\" title=\"NHDL (Nepal Hydro Developers Ltd.)\">NHDL</a></td><td class=\"text-right\">395.00</td><td class=\"text-right\">-0.5</td><td class=\"text-right\">401.90</td><td class=\"text-right\">387.00</td><td class=\"text-right\">394.10</td><td class=\"text-right\">8,965</td><td><a href=\"javascript:void(0);\" onclick='addToWatchlist(\"NHDL\");' title=\"Add to Watchlist\"><i class=\"icon-tags icon-white\"></i></a></td><td><a href=\"javascript:void(0);\" onclick='setAlert(\"NHDL\");' title=\"Set as Alert\"><i class=\"icon-bell icon-white\"></i></a></td></tr>,\n",
       " <tr class=\"decrease-row\"><td><a href=\"/CompanyDetail.aspx?symbol=NHPC\" target=\"_blank\" title=\"NHPC (National Hydro Power Company Limited)\">NHPC</a></td><td class=\"text-right\">268.60</td><td class=\"text-right\">-2.33</td><td class=\"text-right\">277.00</td><td class=\"text-right\">266.30</td><td class=\"text-right\">270.00</td><td class=\"text-right\">141,177</td><td><a href=\"javascript:void(0);\" onclick='addToWatchlist(\"NHPC\");' title=\"Add to Watchlist\"><i class=\"icon-tags icon-white\"></i></a></td><td><a href=\"javascript:void(0);\" onclick='setAlert(\"NHPC\");' title=\"Set as Alert\"><i class=\"icon-bell icon-white\"></i></a></td></tr>,\n",
       " <tr class=\"increase-row\"><td><a href=\"/CompanyDetail.aspx?symbol=NIBD2082\" target=\"_blank\" title=\"NIBD2082 (10.5% Nepal Investment Debenture 2082)\">NIBD2082</a></td><td class=\"text-right\">905.20</td><td class=\"text-right\">0.52</td><td class=\"text-right\">906.00</td><td class=\"text-right\">905.20</td><td class=\"text-right\">906.00</td><td class=\"text-right\">40</td><td><a href=\"javascript:void(0);\" onclick='addToWatchlist(\"NIBD2082\");' title=\"Add to Watchlist\"><i class=\"icon-tags icon-white\"></i></a></td><td><a href=\"javascript:void(0);\" onclick='setAlert(\"NIBD2082\");' title=\"Set as Alert\"><i class=\"icon-bell icon-white\"></i></a></td></tr>,\n",
       " <tr class=\"nochange-row\"><td><a href=\"/CompanyDetail.aspx?symbol=NIBD84\" target=\"_blank\" title=\"NIBD84 (8.5% Nepal Investment Bank Debenture 2084)\">NIBD84</a></td><td class=\"text-right\">776.00</td><td class=\"text-right\">0</td><td class=\"text-right\">776.00</td><td class=\"text-right\">776.00</td><td class=\"text-right\">776.00</td><td class=\"text-right\">50</td><td><a href=\"javascript:void(0);\" onclick='addToWatchlist(\"NIBD84\");' title=\"Add to Watchlist\"><i class=\"icon-tags icon-white\"></i></a></td><td><a href=\"javascript:void(0);\" onclick='setAlert(\"NIBD84\");' title=\"Set as Alert\"><i class=\"icon-bell icon-white\"></i></a></td></tr>,\n",
       " <tr class=\"decrease-row\"><td><a href=\"/CompanyDetail.aspx?symbol=NIBLPF\" target=\"_blank\" title=\"NIBLPF (NIBL Pragati Fund)\">NIBLPF</a></td><td class=\"text-right\">8.93</td><td class=\"text-right\">-3.25</td><td class=\"text-right\">9.05</td><td class=\"text-right\">8.87</td><td class=\"text-right\">9.05</td><td class=\"text-right\">36,613</td><td><a href=\"javascript:void(0);\" onclick='addToWatchlist(\"NIBLPF\");' title=\"Add to Watchlist\"><i class=\"icon-tags icon-white\"></i></a></td><td><a href=\"javascript:void(0);\" onclick='setAlert(\"NIBLPF\");' title=\"Set as Alert\"><i class=\"icon-bell icon-white\"></i></a></td></tr>,\n",
       " <tr class=\"decrease-row\"><td><a href=\"/CompanyDetail.aspx?symbol=NIBSF2\" target=\"_blank\" title=\"NIBSF2 (NIBL Samriddhi Fund 2)\">NIBSF2</a></td><td class=\"text-right\">7.87</td><td class=\"text-right\">-1.99</td><td class=\"text-right\">8.35</td><td class=\"text-right\">7.76</td><td class=\"text-right\">7.87</td><td class=\"text-right\">14,150</td><td><a href=\"javascript:void(0);\" onclick='addToWatchlist(\"NIBSF2\");' title=\"Add to Watchlist\"><i class=\"icon-tags icon-white\"></i></a></td><td><a href=\"javascript:void(0);\" onclick='setAlert(\"NIBSF2\");' title=\"Set as Alert\"><i class=\"icon-bell icon-white\"></i></a></td></tr>,\n",
       " <tr class=\"increase-row\"><td><a href=\"/CompanyDetail.aspx?symbol=NICA\" target=\"_blank\" title=\"NICA (NIC Asia Bank Ltd.)\">NICA</a></td><td class=\"text-right\">826.00</td><td class=\"text-right\">0.24</td><td class=\"text-right\">833.60</td><td class=\"text-right\">820.00</td><td class=\"text-right\">823.00</td><td class=\"text-right\">86,314</td><td><a href=\"javascript:void(0);\" onclick='addToWatchlist(\"NICA\");' title=\"Add to Watchlist\"><i class=\"icon-tags icon-white\"></i></a></td><td><a href=\"javascript:void(0);\" onclick='setAlert(\"NICA\");' title=\"Set as Alert\"><i class=\"icon-bell icon-white\"></i></a></td></tr>,\n",
       " <tr class=\"decrease-row\"><td><a href=\"/CompanyDetail.aspx?symbol=NICAD8283\" target=\"_blank\" title=\"NICAD8283 (11% NIC Asia Debenture 082/83)\">NICAD8283</a></td><td class=\"text-right\">928.40</td><td class=\"text-right\">-0.71</td><td class=\"text-right\">928.60</td><td class=\"text-right\">927.50</td><td class=\"text-right\">927.50</td><td class=\"text-right\">420</td><td><a href=\"javascript:void(0);\" onclick='addToWatchlist(\"NICAD8283\");' title=\"Add to Watchlist\"><i class=\"icon-tags icon-white\"></i></a></td><td><a href=\"javascript:void(0);\" onclick='setAlert(\"NICAD8283\");' title=\"Set as Alert\"><i class=\"icon-bell icon-white\"></i></a></td></tr>,\n",
       " <tr class=\"increase-row\"><td><a href=\"/CompanyDetail.aspx?symbol=NICBF\" target=\"_blank\" title=\"NICBF (NIC Asia Balanced Fund)\">NICBF</a></td><td class=\"text-right\">9.06</td><td class=\"text-right\">0.11</td><td class=\"text-right\">9.20</td><td class=\"text-right\">9.01</td><td class=\"text-right\">9.01</td><td class=\"text-right\">3,900</td><td><a href=\"javascript:void(0);\" onclick='addToWatchlist(\"NICBF\");' title=\"Add to Watchlist\"><i class=\"icon-tags icon-white\"></i></a></td><td><a href=\"javascript:void(0);\" onclick='setAlert(\"NICBF\");' title=\"Set as Alert\"><i class=\"icon-bell icon-white\"></i></a></td></tr>,\n",
       " <tr class=\"increase-row\"><td><a href=\"/CompanyDetail.aspx?symbol=NICD83/84\" target=\"_blank\" title=\"NICD83/84 (10.25% NIC Asia Debenture 2083/84)\">NICD83/84</a></td><td class=\"text-right\">878.00</td><td class=\"text-right\">0.8</td><td class=\"text-right\">878.00</td><td class=\"text-right\">878.00</td><td class=\"text-right\">878.00</td><td class=\"text-right\">10</td><td><a href=\"javascript:void(0);\" onclick='addToWatchlist(\"NICD83/84\");' title=\"Add to Watchlist\"><i class=\"icon-tags icon-white\"></i></a></td><td><a href=\"javascript:void(0);\" onclick='setAlert(\"NICD83/84\");' title=\"Set as Alert\"><i class=\"icon-bell icon-white\"></i></a></td></tr>,\n",
       " <tr class=\"decrease-row\"><td><a href=\"/CompanyDetail.aspx?symbol=NICFC\" target=\"_blank\" title=\"NICFC (NIC ASIA Flexi CAP Fund)\">NICFC</a></td><td class=\"text-right\">8.42</td><td class=\"text-right\">-0.94</td><td class=\"text-right\">8.42</td><td class=\"text-right\">8.25</td><td class=\"text-right\">8.33</td><td class=\"text-right\">3,100</td><td><a href=\"javascript:void(0);\" onclick='addToWatchlist(\"NICFC\");' title=\"Add to Watchlist\"><i class=\"icon-tags icon-white\"></i></a></td><td><a href=\"javascript:void(0);\" onclick='setAlert(\"NICFC\");' title=\"Set as Alert\"><i class=\"icon-bell icon-white\"></i></a></td></tr>,\n",
       " <tr class=\"nochange-row\"><td><a href=\"/CompanyDetail.aspx?symbol=NICGF\" target=\"_blank\" title=\"NICGF (NIC Asia Growth Fund)\">NICGF</a></td><td class=\"text-right\">9.73</td><td class=\"text-right\">0</td><td class=\"text-right\">9.76</td><td class=\"text-right\">9.73</td><td class=\"text-right\">9.73</td><td class=\"text-right\">43,200</td><td><a href=\"javascript:void(0);\" onclick='addToWatchlist(\"NICGF\");' title=\"Add to Watchlist\"><i class=\"icon-tags icon-white\"></i></a></td><td><a href=\"javascript:void(0);\" onclick='setAlert(\"NICGF\");' title=\"Set as Alert\"><i class=\"icon-bell icon-white\"></i></a></td></tr>,\n",
       " <tr class=\"increase-row\"><td><a href=\"/CompanyDetail.aspx?symbol=NICL\" target=\"_blank\" title=\"NICL (Nepal Insurance Co. Ltd.)\">NICL</a></td><td class=\"text-right\">505.00</td><td class=\"text-right\">1.2</td><td class=\"text-right\">514.00</td><td class=\"text-right\">490.30</td><td class=\"text-right\">500.00</td><td class=\"text-right\">30,582</td><td><a href=\"javascript:void(0);\" onclick='addToWatchlist(\"NICL\");' title=\"Add to Watchlist\"><i class=\"icon-tags icon-white\"></i></a></td><td><a href=\"javascript:void(0);\" onclick='setAlert(\"NICL\");' title=\"Set as Alert\"><i class=\"icon-bell icon-white\"></i></a></td></tr>,\n",
       " <tr class=\"decrease-row\"><td><a href=\"/CompanyDetail.aspx?symbol=NICLBSL\" target=\"_blank\" title=\"NICLBSL (NIC Asia Laghubitta Biitiya Sanstha Limited)\">NICLBSL</a></td><td class=\"text-right\">805.00</td><td class=\"text-right\">-2.19</td><td class=\"text-right\">823.00</td><td class=\"text-right\">805.00</td><td class=\"text-right\">806.90</td><td class=\"text-right\">6,204</td><td><a href=\"javascript:void(0);\" onclick='addToWatchlist(\"NICLBSL\");' title=\"Add to Watchlist\"><i class=\"icon-tags icon-white\"></i></a></td><td><a href=\"javascript:void(0);\" onclick='setAlert(\"NICLBSL\");' title=\"Set as Alert\"><i class=\"icon-bell icon-white\"></i></a></td></tr>,\n",
       " <tr class=\"decrease-row\"><td><a href=\"/CompanyDetail.aspx?symbol=NICSF\" target=\"_blank\" title=\"NICSF (NIC Asia Select - 30 (Index Fund))\">NICSF</a></td><td class=\"text-right\">8.15</td><td class=\"text-right\">-2.28</td><td class=\"text-right\">8.36</td><td class=\"text-right\">8.15</td><td class=\"text-right\">8.20</td><td class=\"text-right\">37,089</td><td><a href=\"javascript:void(0);\" onclick='addToWatchlist(\"NICSF\");' title=\"Add to Watchlist\"><i class=\"icon-tags icon-white\"></i></a></td><td><a href=\"javascript:void(0);\" onclick='setAlert(\"NICSF\");' title=\"Set as Alert\"><i class=\"icon-bell icon-white\"></i></a></td></tr>,\n",
       " <tr class=\"decrease-row\"><td><a href=\"/CompanyDetail.aspx?symbol=NIFRA\" target=\"_blank\" title=\"NIFRA (Nepal Infrastructure Bank Limited)\">NIFRA</a></td><td class=\"text-right\">235.00</td><td class=\"text-right\">-2.08</td><td class=\"text-right\">242.80</td><td class=\"text-right\">235.00</td><td class=\"text-right\">241.00</td><td class=\"text-right\">131,466</td><td><a href=\"javascript:void(0);\" onclick='addToWatchlist(\"NIFRA\");' title=\"Add to Watchlist\"><i class=\"icon-tags icon-white\"></i></a></td><td><a href=\"javascript:void(0);\" onclick='setAlert(\"NIFRA\");' title=\"Set as Alert\"><i class=\"icon-bell icon-white\"></i></a></td></tr>,\n",
       " <tr class=\"decrease-row\"><td><a href=\"/CompanyDetail.aspx?symbol=NIL\" target=\"_blank\" title=\"NIL (Neco Insurance Co. Ltd.)\">NIL</a></td><td class=\"text-right\">790.00</td><td class=\"text-right\">-0.5</td><td class=\"text-right\">795.00</td><td class=\"text-right\">780.00</td><td class=\"text-right\">780.00</td><td class=\"text-right\">8,245</td><td><a href=\"javascript:void(0);\" onclick='addToWatchlist(\"NIL\");' title=\"Add to Watchlist\"><i class=\"icon-tags icon-white\"></i></a></td><td><a href=\"javascript:void(0);\" onclick='setAlert(\"NIL\");' title=\"Set as Alert\"><i class=\"icon-bell icon-white\"></i></a></td></tr>,\n",
       " <tr class=\"decrease-row\"><td><a href=\"/CompanyDetail.aspx?symbol=NLBBL\" target=\"_blank\" title=\"NLBBL (Nerude Laghubita Bittiya Sanstha Limited)\">NLBBL</a></td><td class=\"text-right\">1,020.00</td><td class=\"text-right\">-0.97</td><td class=\"text-right\">1,040.00</td><td class=\"text-right\">1,017.10</td><td class=\"text-right\">1,034.80</td><td class=\"text-right\">11,239</td><td><a href=\"javascript:void(0);\" onclick='addToWatchlist(\"NLBBL\");' title=\"Add to Watchlist\"><i class=\"icon-tags icon-white\"></i></a></td><td><a href=\"javascript:void(0);\" onclick='setAlert(\"NLBBL\");' title=\"Set as Alert\"><i class=\"icon-bell icon-white\"></i></a></td></tr>,\n",
       " <tr class=\"nochange-row\"><td><a href=\"/CompanyDetail.aspx?symbol=NLG\" target=\"_blank\" title=\"NLG (NLG Insurance Company Ltd.)\">NLG</a></td><td class=\"text-right\">710.00</td><td class=\"text-right\">0</td><td class=\"text-right\">718.00</td><td class=\"text-right\">696.00</td><td class=\"text-right\">700.00</td><td class=\"text-right\">13,502</td><td><a href=\"javascript:void(0);\" onclick='addToWatchlist(\"NLG\");' title=\"Add to Watchlist\"><i class=\"icon-tags icon-white\"></i></a></td><td><a href=\"javascript:void(0);\" onclick='setAlert(\"NLG\");' title=\"Set as Alert\"><i class=\"icon-bell icon-white\"></i></a></td></tr>,\n",
       " <tr class=\"decrease-row\"><td><a href=\"/CompanyDetail.aspx?symbol=NLIC\" target=\"_blank\" title=\"NLIC (Nepal Life Insurance Co. Ltd.)\">NLIC</a></td><td class=\"text-right\">755.00</td><td class=\"text-right\">-1.18</td><td class=\"text-right\">769.80</td><td class=\"text-right\">748.00</td><td class=\"text-right\">767.00</td><td class=\"text-right\">87,517</td><td><a href=\"javascript:void(0);\" onclick='addToWatchlist(\"NLIC\");' title=\"Add to Watchlist\"><i class=\"icon-tags icon-white\"></i></a></td><td><a href=\"javascript:void(0);\" onclick='setAlert(\"NLIC\");' title=\"Set as Alert\"><i class=\"icon-bell icon-white\"></i></a></td></tr>,\n",
       " <tr class=\"decrease-row\"><td><a href=\"/CompanyDetail.aspx?symbol=NLICL\" target=\"_blank\" title=\"NLICL (National Life Insurance Co. Ltd.)\">NLICL</a></td><td class=\"text-right\">644.00</td><td class=\"text-right\">-1.38</td><td class=\"text-right\">658.90</td><td class=\"text-right\">640.00</td><td class=\"text-right\">642.10</td><td class=\"text-right\">29,381</td><td><a href=\"javascript:void(0);\" onclick='addToWatchlist(\"NLICL\");' title=\"Add to Watchlist\"><i class=\"icon-tags icon-white\"></i></a></td><td><a href=\"javascript:void(0);\" onclick='setAlert(\"NLICL\");' title=\"Set as Alert\"><i class=\"icon-bell icon-white\"></i></a></td></tr>,\n",
       " <tr class=\"decrease-row\"><td><a href=\"/CompanyDetail.aspx?symbol=NMB\" target=\"_blank\" title=\"NMB (NMB Bank Limited)\">NMB</a></td><td class=\"text-right\">243.00</td><td class=\"text-right\">-0.82</td><td class=\"text-right\">245.00</td><td class=\"text-right\">240.00</td><td class=\"text-right\">245.00</td><td class=\"text-right\">41,562</td><td><a href=\"javascript:void(0);\" onclick='addToWatchlist(\"NMB\");' title=\"Add to Watchlist\"><i class=\"icon-tags icon-white\"></i></a></td><td><a href=\"javascript:void(0);\" onclick='setAlert(\"NMB\");' title=\"Set as Alert\"><i class=\"icon-bell icon-white\"></i></a></td></tr>,\n",
       " <tr class=\"decrease-row\"><td><a href=\"/CompanyDetail.aspx?symbol=NMB50\" target=\"_blank\" title=\"NMB50 (NMB 50)\">NMB50</a></td><td class=\"text-right\">9.97</td><td class=\"text-right\">-1.97</td><td class=\"text-right\">10.10</td><td class=\"text-right\">9.97</td><td class=\"text-right\">10.09</td><td class=\"text-right\">1,900</td><td><a href=\"javascript:void(0);\" onclick='addToWatchlist(\"NMB50\");' title=\"Add to Watchlist\"><i class=\"icon-tags icon-white\"></i></a></td><td><a href=\"javascript:void(0);\" onclick='setAlert(\"NMB50\");' title=\"Set as Alert\"><i class=\"icon-bell icon-white\"></i></a></td></tr>,\n",
       " <tr class=\"decrease-row\"><td><a href=\"/CompanyDetail.aspx?symbol=NMBD87/88\" target=\"_blank\" title=\"NMBD87/88 (8.50% NMB Rinpatra 2087/88)\">NMBD87/88</a></td><td class=\"text-right\">980.00</td><td class=\"text-right\">-2</td><td class=\"text-right\">980.00</td><td class=\"text-right\">980.00</td><td class=\"text-right\">980.00</td><td class=\"text-right\">25</td><td><a href=\"javascript:void(0);\" onclick='addToWatchlist(\"NMBD87/88\");' title=\"Add to Watchlist\"><i class=\"icon-tags icon-white\"></i></a></td><td><a href=\"javascript:void(0);\" onclick='setAlert(\"NMBD87/88\");' title=\"Set as Alert\"><i class=\"icon-bell icon-white\"></i></a></td></tr>,\n",
       " <tr class=\"increase-row\"><td><a href=\"/CompanyDetail.aspx?symbol=NMBHF1\" target=\"_blank\" title=\"NMBHF1 (NMB Hybrid Fund L-1)\">NMBHF1</a></td><td class=\"text-right\">9.91</td><td class=\"text-right\">0.1</td><td class=\"text-right\">9.93</td><td class=\"text-right\">9.91</td><td class=\"text-right\">9.92</td><td class=\"text-right\">40,964</td><td><a href=\"javascript:void(0);\" onclick='addToWatchlist(\"NMBHF1\");' title=\"Add to Watchlist\"><i class=\"icon-tags icon-white\"></i></a></td><td><a href=\"javascript:void(0);\" onclick='setAlert(\"NMBHF1\");' title=\"Set as Alert\"><i class=\"icon-bell icon-white\"></i></a></td></tr>,\n",
       " <tr class=\"decrease-row\"><td><a href=\"/CompanyDetail.aspx?symbol=NMBMF\" target=\"_blank\" title=\"NMBMF (NMB Laghubitta Bittiya Sanstha Ltd.)\">NMBMF</a></td><td class=\"text-right\">760.00</td><td class=\"text-right\">-1.3</td><td class=\"text-right\">775.00</td><td class=\"text-right\">749.00</td><td class=\"text-right\">765.00</td><td class=\"text-right\">2,288</td><td><a href=\"javascript:void(0);\" onclick='addToWatchlist(\"NMBMF\");' title=\"Add to Watchlist\"><i class=\"icon-tags icon-white\"></i></a></td><td><a href=\"javascript:void(0);\" onclick='setAlert(\"NMBMF\");' title=\"Set as Alert\"><i class=\"icon-bell icon-white\"></i></a></td></tr>,\n",
       " <tr class=\"nochange-row\"><td><a href=\"/CompanyDetail.aspx?symbol=NMBPO\" target=\"_blank\" title=\"NMBPO (NMB Bank Limited Promoter Share)\">NMBPO</a></td><td class=\"text-right\">134.00</td><td class=\"text-right\">0</td><td class=\"text-right\">134.00</td><td class=\"text-right\">134.00</td><td class=\"text-right\">134.00</td><td class=\"text-right\">9,761</td><td><a href=\"javascript:void(0);\" onclick='addToWatchlist(\"NMBPO\");' title=\"Add to Watchlist\"><i class=\"icon-tags icon-white\"></i></a></td><td><a href=\"javascript:void(0);\" onclick='setAlert(\"NMBPO\");' title=\"Set as Alert\"><i class=\"icon-bell icon-white\"></i></a></td></tr>,\n",
       " <tr class=\"decrease-row\"><td><a href=\"/CompanyDetail.aspx?symbol=NMFBS\" target=\"_blank\" title=\"NMFBS (National Microfinance Laghubitta Bittiya Sanstha Ltd.)\">NMFBS</a></td><td class=\"text-right\">2,289.00</td><td class=\"text-right\">-0.95</td><td class=\"text-right\">2,330.00</td><td class=\"text-right\">2,280.00</td><td class=\"text-right\">2,330.00</td><td class=\"text-right\">8,487</td><td><a href=\"javascript:void(0);\" onclick='addToWatchlist(\"NMFBS\");' title=\"Add to Watchlist\"><i class=\"icon-tags icon-white\"></i></a></td><td><a href=\"javascript:void(0);\" onclick='setAlert(\"NMFBS\");' title=\"Set as Alert\"><i class=\"icon-bell icon-white\"></i></a></td></tr>,\n",
       " <tr class=\"decrease-row\"><td><a href=\"/CompanyDetail.aspx?symbol=NRIC\" target=\"_blank\" title=\"NRIC (Nepal Re-Insurance Company Limited)\">NRIC</a></td><td class=\"text-right\">838.00</td><td class=\"text-right\">-1.99</td><td class=\"text-right\">855.00</td><td class=\"text-right\">831.00</td><td class=\"text-right\">850.00</td><td class=\"text-right\">34,960</td><td><a href=\"javascript:void(0);\" onclick='addToWatchlist(\"NRIC\");' title=\"Add to Watchlist\"><i class=\"icon-tags icon-white\"></i></a></td><td><a href=\"javascript:void(0);\" onclick='setAlert(\"NRIC\");' title=\"Set as Alert\"><i class=\"icon-bell icon-white\"></i></a></td></tr>,\n",
       " <tr class=\"decrease-row\"><td><a href=\"/CompanyDetail.aspx?symbol=NRN\" target=\"_blank\" title=\"NRN (NRN Infrastructure and Development Limited)\">NRN</a></td><td class=\"text-right\">519.00</td><td class=\"text-right\">-2.63</td><td class=\"text-right\">532.00</td><td class=\"text-right\">518.50</td><td class=\"text-right\">522.40</td><td class=\"text-right\">11,015</td><td><a href=\"javascript:void(0);\" onclick='addToWatchlist(\"NRN\");' title=\"Add to Watchlist\"><i class=\"icon-tags icon-white\"></i></a></td><td><a href=\"javascript:void(0);\" onclick='setAlert(\"NRN\");' title=\"Set as Alert\"><i class=\"icon-bell icon-white\"></i></a></td></tr>,\n",
       " <tr class=\"decrease-row\"><td><a href=\"/CompanyDetail.aspx?symbol=NSLB\" target=\"_blank\" title=\"NSLB (Naya Sarathi Laghubitta Bittiya Sanstha Limited)\">NSLB</a></td><td class=\"text-right\">925.00</td><td class=\"text-right\">-1.16</td><td class=\"text-right\">948.60</td><td class=\"text-right\">921.00</td><td class=\"text-right\">921.00</td><td class=\"text-right\">466</td><td><a href=\"javascript:void(0);\" onclick='addToWatchlist(\"NSLB\");' title=\"Add to Watchlist\"><i class=\"icon-tags icon-white\"></i></a></td><td><a href=\"javascript:void(0);\" onclick='setAlert(\"NSLB\");' title=\"Set as Alert\"><i class=\"icon-bell icon-white\"></i></a></td></tr>,\n",
       " <tr class=\"decrease-row\"><td><a href=\"/CompanyDetail.aspx?symbol=NTC\" target=\"_blank\" title=\"NTC (Nepal Doorsanchar Comapany Limited)\">NTC</a></td><td class=\"text-right\">852.00</td><td class=\"text-right\">-1.5</td><td class=\"text-right\">882.00</td><td class=\"text-right\">851.00</td><td class=\"text-right\">882.00</td><td class=\"text-right\">42,494</td><td><a href=\"javascript:void(0);\" onclick='addToWatchlist(\"NTC\");' title=\"Add to Watchlist\"><i class=\"icon-tags icon-white\"></i></a></td><td><a href=\"javascript:void(0);\" onclick='setAlert(\"NTC\");' title=\"Set as Alert\"><i class=\"icon-bell icon-white\"></i></a></td></tr>,\n",
       " <tr class=\"decrease-row\"><td><a href=\"/CompanyDetail.aspx?symbol=NUBL\" target=\"_blank\" title=\"NUBL (Nirdhan Utthan Laghubitta Bittiya Sanstha Limited)\">NUBL</a></td><td class=\"text-right\">998.00</td><td class=\"text-right\">-0.7</td><td class=\"text-right\">1,010.00</td><td class=\"text-right\">990.00</td><td class=\"text-right\">1,000.00</td><td class=\"text-right\">4,210</td><td><a href=\"javascript:void(0);\" onclick='addToWatchlist(\"NUBL\");' title=\"Add to Watchlist\"><i class=\"icon-tags icon-white\"></i></a></td><td><a href=\"javascript:void(0);\" onclick='setAlert(\"NUBL\");' title=\"Set as Alert\"><i class=\"icon-bell icon-white\"></i></a></td></tr>,\n",
       " <tr class=\"increase-row\"><td><a href=\"/CompanyDetail.aspx?symbol=NYADI\" target=\"_blank\" title=\"NYADI (Nyadi Hydropower Limited)\">NYADI</a></td><td class=\"text-right\">355.00</td><td class=\"text-right\">3.2</td><td class=\"text-right\">358.00</td><td class=\"text-right\">331.40</td><td class=\"text-right\">344.00</td><td class=\"text-right\">19,300</td><td><a href=\"javascript:void(0);\" onclick='addToWatchlist(\"NYADI\");' title=\"Add to Watchlist\"><i class=\"icon-tags icon-white\"></i></a></td><td><a href=\"javascript:void(0);\" onclick='setAlert(\"NYADI\");' title=\"Set as Alert\"><i class=\"icon-bell icon-white\"></i></a></td></tr>,\n",
       " <tr class=\"increase-row\"><td><a href=\"/CompanyDetail.aspx?symbol=OHL\" target=\"_blank\" title=\"OHL (Oriental Hotels Limited)\">OHL</a></td><td class=\"text-right\">555.10</td><td class=\"text-right\">0.93</td><td class=\"text-right\">570.00</td><td class=\"text-right\">539.10</td><td class=\"text-right\">539.20</td><td class=\"text-right\">12,398</td><td><a href=\"javascript:void(0);\" onclick='addToWatchlist(\"OHL\");' title=\"Add to Watchlist\"><i class=\"icon-tags icon-white\"></i></a></td><td><a href=\"javascript:void(0);\" onclick='setAlert(\"OHL\");' title=\"Set as Alert\"><i class=\"icon-bell icon-white\"></i></a></td></tr>,\n",
       " <tr class=\"increase-row\"><td><a href=\"/CompanyDetail.aspx?symbol=PBD85\" target=\"_blank\" title=\"PBD85 (8.75% Prime Commercial Bank Debenture 2085)\">PBD85</a></td><td class=\"text-right\">770.00</td><td class=\"text-right\">0.65</td><td class=\"text-right\">770.00</td><td class=\"text-right\">770.00</td><td class=\"text-right\">770.00</td><td class=\"text-right\">25</td><td><a href=\"javascript:void(0);\" onclick='addToWatchlist(\"PBD85\");' title=\"Add to Watchlist\"><i class=\"icon-tags icon-white\"></i></a></td><td><a href=\"javascript:void(0);\" onclick='setAlert(\"PBD85\");' title=\"Set as Alert\"><i class=\"icon-bell icon-white\"></i></a></td></tr>,\n",
       " <tr class=\"decrease-row\"><td><a href=\"/CompanyDetail.aspx?symbol=PBD88\" target=\"_blank\" title=\"PBD88 (10% Prime Debenture 2088)\">PBD88</a></td><td class=\"text-right\">825.00</td><td class=\"text-right\">-1.9</td><td class=\"text-right\">840.00</td><td class=\"text-right\">825.00</td><td class=\"text-right\">825.00</td><td class=\"text-right\">279</td><td><a href=\"javascript:void(0);\" onclick='addToWatchlist(\"PBD88\");' title=\"Add to Watchlist\"><i class=\"icon-tags icon-white\"></i></a></td><td><a href=\"javascript:void(0);\" onclick='setAlert(\"PBD88\");' title=\"Set as Alert\"><i class=\"icon-bell icon-white\"></i></a></td></tr>,\n",
       " <tr class=\"decrease-row\"><td><a href=\"/CompanyDetail.aspx?symbol=PBLD84\" target=\"_blank\" title=\"PBLD84 (10% Prabhu Bank Debenture 2084 )\">PBLD84</a></td><td class=\"text-right\">866.00</td><td class=\"text-right\">-0.46</td><td class=\"text-right\">870.00</td><td class=\"text-right\">853.10</td><td class=\"text-right\">870.00</td><td class=\"text-right\">194</td><td><a href=\"javascript:void(0);\" onclick='addToWatchlist(\"PBLD84\");' title=\"Add to Watchlist\"><i class=\"icon-tags icon-white\"></i></a></td><td><a href=\"javascript:void(0);\" onclick='setAlert(\"PBLD84\");' title=\"Set as Alert\"><i class=\"icon-bell icon-white\"></i></a></td></tr>,\n",
       " <tr class=\"decrease-row\"><td><a href=\"/CompanyDetail.aspx?symbol=PCBL\" target=\"_blank\" title=\"PCBL (Prime Commercial Bank Ltd.)\">PCBL</a></td><td class=\"text-right\">222.90</td><td class=\"text-right\">-0.4</td><td class=\"text-right\">228.20</td><td class=\"text-right\">218.90</td><td class=\"text-right\">228.20</td><td class=\"text-right\">53,496</td><td><a href=\"javascript:void(0);\" onclick='addToWatchlist(\"PCBL\");' title=\"Add to Watchlist\"><i class=\"icon-tags icon-white\"></i></a></td><td><a href=\"javascript:void(0);\" onclick='setAlert(\"PCBL\");' title=\"Set as Alert\"><i class=\"icon-bell icon-white\"></i></a></td></tr>,\n",
       " <tr class=\"decrease-row\"><td><a href=\"/CompanyDetail.aspx?symbol=PFL\" target=\"_blank\" title=\"PFL (Pokhara Finance Ltd.)\">PFL</a></td><td class=\"text-right\">412.60</td><td class=\"text-right\">-1.1</td><td class=\"text-right\">425.00</td><td class=\"text-right\">410.00</td><td class=\"text-right\">419.00</td><td class=\"text-right\">30,234</td><td><a href=\"javascript:void(0);\" onclick='addToWatchlist(\"PFL\");' title=\"Add to Watchlist\"><i class=\"icon-tags icon-white\"></i></a></td><td><a href=\"javascript:void(0);\" onclick='setAlert(\"PFL\");' title=\"Set as Alert\"><i class=\"icon-bell icon-white\"></i></a></td></tr>,\n",
       " <tr class=\"decrease-row\"><td><a href=\"/CompanyDetail.aspx?symbol=PHCL\" target=\"_blank\" title=\"PHCL (Peoples Hydropower Company Limited)\">PHCL</a></td><td class=\"text-right\">361.80</td><td class=\"text-right\">-2.22</td><td class=\"text-right\">374.00</td><td class=\"text-right\">355.40</td><td class=\"text-right\">362.60</td><td class=\"text-right\">57,465</td><td><a href=\"javascript:void(0);\" onclick='addToWatchlist(\"PHCL\");' title=\"Add to Watchlist\"><i class=\"icon-tags icon-white\"></i></a></td><td><a href=\"javascript:void(0);\" onclick='setAlert(\"PHCL\");' title=\"Set as Alert\"><i class=\"icon-bell icon-white\"></i></a></td></tr>,\n",
       " <tr class=\"increase-row\"><td><a href=\"/CompanyDetail.aspx?symbol=PIC\" target=\"_blank\" title=\"PIC (Premier Insurance Co. Ltd.)\">PIC</a></td><td class=\"text-right\">665.20</td><td class=\"text-right\">0.03</td><td class=\"text-right\">678.00</td><td class=\"text-right\">657.00</td><td class=\"text-right\">670.00</td><td class=\"text-right\">9,396</td><td><a href=\"javascript:void(0);\" onclick='addToWatchlist(\"PIC\");' title=\"Add to Watchlist\"><i class=\"icon-tags icon-white\"></i></a></td><td><a href=\"javascript:void(0);\" onclick='setAlert(\"PIC\");' title=\"Set as Alert\"><i class=\"icon-bell icon-white\"></i></a></td></tr>,\n",
       " <tr class=\"increase-row\"><td><a href=\"/CompanyDetail.aspx?symbol=PICL\" target=\"_blank\" title=\"PICL (Prudential Insurance Co. Ltd.)\">PICL</a></td><td class=\"text-right\">480.00</td><td class=\"text-right\">0.21</td><td class=\"text-right\">485.00</td><td class=\"text-right\">472.00</td><td class=\"text-right\">480.00</td><td class=\"text-right\">33,920</td><td><a href=\"javascript:void(0);\" onclick='addToWatchlist(\"PICL\");' title=\"Add to Watchlist\"><i class=\"icon-tags icon-white\"></i></a></td><td><a href=\"javascript:void(0);\" onclick='setAlert(\"PICL\");' title=\"Set as Alert\"><i class=\"icon-bell icon-white\"></i></a></td></tr>,\n",
       " <tr class=\"increase-row\"><td><a href=\"/CompanyDetail.aspx?symbol=PLI\" target=\"_blank\" title=\"PLI (Prabhu Life Insurance Limited)\">PLI</a></td><td class=\"text-right\">527.00</td><td class=\"text-right\">2.63</td><td class=\"text-right\">536.30</td><td class=\"text-right\">497.00</td><td class=\"text-right\">507.00</td><td class=\"text-right\">23,931</td><td><a href=\"javascript:void(0);\" onclick='addToWatchlist(\"PLI\");' title=\"Add to Watchlist\"><i class=\"icon-tags icon-white\"></i></a></td><td><a href=\"javascript:void(0);\" onclick='setAlert(\"PLI\");' title=\"Set as Alert\"><i class=\"icon-bell icon-white\"></i></a></td></tr>,\n",
       " <tr class=\"decrease-row\"><td><a href=\"/CompanyDetail.aspx?symbol=PMHPL\" target=\"_blank\" title=\"PMHPL (Panchakanya Mai Hydropower Ltd)\">PMHPL</a></td><td class=\"text-right\">272.50</td><td class=\"text-right\">-2.68</td><td class=\"text-right\">284.00</td><td class=\"text-right\">272.50</td><td class=\"text-right\">280.00</td><td class=\"text-right\">16,349</td><td><a href=\"javascript:void(0);\" onclick='addToWatchlist(\"PMHPL\");' title=\"Add to Watchlist\"><i class=\"icon-tags icon-white\"></i></a></td><td><a href=\"javascript:void(0);\" onclick='setAlert(\"PMHPL\");' title=\"Set as Alert\"><i class=\"icon-bell icon-white\"></i></a></td></tr>,\n",
       " <tr class=\"decrease-row\"><td><a href=\"/CompanyDetail.aspx?symbol=PPCL\" target=\"_blank\" title=\"PPCL (Panchthar Power Company Limited)\">PPCL</a></td><td class=\"text-right\">377.00</td><td class=\"text-right\">-2.33</td><td class=\"text-right\">385.00</td><td class=\"text-right\">375.00</td><td class=\"text-right\">384.00</td><td class=\"text-right\">36,149</td><td><a href=\"javascript:void(0);\" onclick='addToWatchlist(\"PPCL\");' title=\"Add to Watchlist\"><i class=\"icon-tags icon-white\"></i></a></td><td><a href=\"javascript:void(0);\" onclick='setAlert(\"PPCL\");' title=\"Set as Alert\"><i class=\"icon-bell icon-white\"></i></a></td></tr>,\n",
       " <tr class=\"decrease-row\"><td><a href=\"/CompanyDetail.aspx?symbol=PPL\" limited=\"\" power=\"\" s=\"\" target=\"_blank\" title=\"PPL (People\">PPL</a></td><td class=\"text-right\">315.10</td><td class=\"text-right\">-3.05</td><td class=\"text-right\">328.00</td><td class=\"text-right\">309.00</td><td class=\"text-right\">325.00</td><td class=\"text-right\">25,826</td><td><a href=\"javascript:void(0);\" onclick='addToWatchlist(\"PPL\");' title=\"Add to Watchlist\"><i class=\"icon-tags icon-white\"></i></a></td><td><a href=\"javascript:void(0);\" onclick='setAlert(\"PPL\");' title=\"Set as Alert\"><i class=\"icon-bell icon-white\"></i></a></td></tr>,\n",
       " <tr class=\"decrease-row\"><td><a href=\"/CompanyDetail.aspx?symbol=PRIN\" target=\"_blank\" title=\"PRIN (Prabhu Insurance Ltd.)\">PRIN</a></td><td class=\"text-right\">598.00</td><td class=\"text-right\">-0.17</td><td class=\"text-right\">612.00</td><td class=\"text-right\">587.10</td><td class=\"text-right\">599.00</td><td class=\"text-right\">8,779</td><td><a href=\"javascript:void(0);\" onclick='addToWatchlist(\"PRIN\");' title=\"Add to Watchlist\"><i class=\"icon-tags icon-white\"></i></a></td><td><a href=\"javascript:void(0);\" onclick='setAlert(\"PRIN\");' title=\"Set as Alert\"><i class=\"icon-bell icon-white\"></i></a></td></tr>,\n",
       " <tr class=\"decrease-row\"><td><a href=\"/CompanyDetail.aspx?symbol=PROFL\" target=\"_blank\" title=\"PROFL (Progressive Finance Limited)\">PROFL</a></td><td class=\"text-right\">348.00</td><td class=\"text-right\">-3.33</td><td class=\"text-right\">367.00</td><td class=\"text-right\">348.00</td><td class=\"text-right\">358.00</td><td class=\"text-right\">14,761</td><td><a href=\"javascript:void(0);\" onclick='addToWatchlist(\"PROFL\");' title=\"Add to Watchlist\"><i class=\"icon-tags icon-white\"></i></a></td><td><a href=\"javascript:void(0);\" onclick='setAlert(\"PROFL\");' title=\"Set as Alert\"><i class=\"icon-bell icon-white\"></i></a></td></tr>,\n",
       " <tr class=\"decrease-row\"><td><a href=\"/CompanyDetail.aspx?symbol=PRVU\" target=\"_blank\" title=\"PRVU (Prabhu Bank Limited)\">PRVU</a></td><td class=\"text-right\">200.50</td><td class=\"text-right\">-0.99</td><td class=\"text-right\">204.30</td><td class=\"text-right\">200.00</td><td class=\"text-right\">202.00</td><td class=\"text-right\">50,286</td><td><a href=\"javascript:void(0);\" onclick='addToWatchlist(\"PRVU\");' title=\"Add to Watchlist\"><i class=\"icon-tags icon-white\"></i></a></td><td><a href=\"javascript:void(0);\" onclick='setAlert(\"PRVU\");' title=\"Set as Alert\"><i class=\"icon-bell icon-white\"></i></a></td></tr>,\n",
       " <tr class=\"decrease-row\"><td><a href=\"/CompanyDetail.aspx?symbol=PSF\" target=\"_blank\" title=\"PSF (Prabhu Select Fund)\">PSF</a></td><td class=\"text-right\">8.36</td><td class=\"text-right\">-0.48</td><td class=\"text-right\">8.51</td><td class=\"text-right\">8.30</td><td class=\"text-right\">8.30</td><td class=\"text-right\">14,300</td><td><a href=\"javascript:void(0);\" onclick='addToWatchlist(\"PSF\");' title=\"Add to Watchlist\"><i class=\"icon-tags icon-white\"></i></a></td><td><a href=\"javascript:void(0);\" onclick='setAlert(\"PSF\");' title=\"Set as Alert\"><i class=\"icon-bell icon-white\"></i></a></td></tr>,\n",
       " <tr class=\"decrease-row\"><td><a href=\"/CompanyDetail.aspx?symbol=RADHI\" target=\"_blank\" title=\"RADHI (Radhi Bidyut Company Ltd)\">RADHI</a></td><td class=\"text-right\">270.60</td><td class=\"text-right\">-1.64</td><td class=\"text-right\">278.00</td><td class=\"text-right\">265.00</td><td class=\"text-right\">269.70</td><td class=\"text-right\">50,549</td><td><a href=\"javascript:void(0);\" onclick='addToWatchlist(\"RADHI\");' title=\"Add to Watchlist\"><i class=\"icon-tags icon-white\"></i></a></td><td><a href=\"javascript:void(0);\" onclick='setAlert(\"RADHI\");' title=\"Set as Alert\"><i class=\"icon-bell icon-white\"></i></a></td></tr>,\n",
       " <tr class=\"decrease-row\"><td><a href=\"/CompanyDetail.aspx?symbol=RBCL\" target=\"_blank\" title=\"RBCL (Rastriya Beema Company Limited)\">RBCL</a></td><td class=\"text-right\">13,800.00</td><td class=\"text-right\">-0.72</td><td class=\"text-right\">13,969.90</td><td class=\"text-right\">13,800.00</td><td class=\"text-right\">13,900.00</td><td class=\"text-right\">278</td><td><a href=\"javascript:void(0);\" onclick='addToWatchlist(\"RBCL\");' title=\"Add to Watchlist\"><i class=\"icon-tags icon-white\"></i></a></td><td><a href=\"javascript:void(0);\" onclick='setAlert(\"RBCL\");' title=\"Set as Alert\"><i class=\"icon-bell icon-white\"></i></a></td></tr>,\n",
       " <tr class=\"decrease-row\"><td><a href=\"/CompanyDetail.aspx?symbol=RBCLPO\" target=\"_blank\" title=\"RBCLPO (Rastriya Beema Company Limited Promoter Share)\">RBCLPO</a></td><td class=\"text-right\">11,852.00</td><td class=\"text-right\">-2.85</td><td class=\"text-right\">12,011.00</td><td class=\"text-right\">11,800.00</td><td class=\"text-right\">11,999.00</td><td class=\"text-right\">610</td><td><a href=\"javascript:void(0);\" onclick='addToWatchlist(\"RBCLPO\");' title=\"Add to Watchlist\"><i class=\"icon-tags icon-white\"></i></a></td><td><a href=\"javascript:void(0);\" onclick='setAlert(\"RBCLPO\");' title=\"Set as Alert\"><i class=\"icon-bell icon-white\"></i></a></td></tr>,\n",
       " <tr class=\"increase-row\"><td><a href=\"/CompanyDetail.aspx?symbol=RFPL\" target=\"_blank\" title=\"RFPL (River Falls Power Limited)\">RFPL</a></td><td class=\"text-right\">320.00</td><td class=\"text-right\">3.9</td><td class=\"text-right\">325.00</td><td class=\"text-right\">295.10</td><td class=\"text-right\">302.00</td><td class=\"text-right\">54,004</td><td><a href=\"javascript:void(0);\" onclick='addToWatchlist(\"RFPL\");' title=\"Add to Watchlist\"><i class=\"icon-tags icon-white\"></i></a></td><td><a href=\"javascript:void(0);\" onclick='setAlert(\"RFPL\");' title=\"Set as Alert\"><i class=\"icon-bell icon-white\"></i></a></td></tr>,\n",
       " <tr class=\"decrease-row\"><td><a href=\"/CompanyDetail.aspx?symbol=RHGCL\" target=\"_blank\" title=\"RHGCL (Rapti Hydro and General Construction Limited)\">RHGCL</a></td><td class=\"text-right\">310.00</td><td class=\"text-right\">-0.96</td><td class=\"text-right\">319.20</td><td class=\"text-right\">300.10</td><td class=\"text-right\">319.20</td><td class=\"text-right\">37,323</td><td><a href=\"javascript:void(0);\" onclick='addToWatchlist(\"RHGCL\");' title=\"Add to Watchlist\"><i class=\"icon-tags icon-white\"></i></a></td><td><a href=\"javascript:void(0);\" onclick='setAlert(\"RHGCL\");' title=\"Set as Alert\"><i class=\"icon-bell icon-white\"></i></a></td></tr>,\n",
       " <tr class=\"increase-row\"><td><a href=\"/CompanyDetail.aspx?symbol=RHPL\" target=\"_blank\" title=\"RHPL (RASUWAGADHI HYDROPOWER COMPANY LIMITED)\">RHPL</a></td><td class=\"text-right\">329.80</td><td class=\"text-right\">0.24</td><td class=\"text-right\">337.90</td><td class=\"text-right\">323.00</td><td class=\"text-right\">324.00</td><td class=\"text-right\">74,735</td><td><a href=\"javascript:void(0);\" onclick='addToWatchlist(\"RHPL\");' title=\"Add to Watchlist\"><i class=\"icon-tags icon-white\"></i></a></td><td><a href=\"javascript:void(0);\" onclick='setAlert(\"RHPL\");' title=\"Set as Alert\"><i class=\"icon-bell icon-white\"></i></a></td></tr>,\n",
       " <tr class=\"decrease-row\"><td><a href=\"/CompanyDetail.aspx?symbol=RIDI\" target=\"_blank\" title=\"RIDI (Ridi Power Company Limited)\">RIDI</a></td><td class=\"text-right\">565.00</td><td class=\"text-right\">-0.53</td><td class=\"text-right\">579.00</td><td class=\"text-right\">563.10</td><td class=\"text-right\">579.00</td><td class=\"text-right\">109,072</td><td><a href=\"javascript:void(0);\" onclick='addToWatchlist(\"RIDI\");' title=\"Add to Watchlist\"><i class=\"icon-tags icon-white\"></i></a></td><td><a href=\"javascript:void(0);\" onclick='setAlert(\"RIDI\");' title=\"Set as Alert\"><i class=\"icon-bell icon-white\"></i></a></td></tr>,\n",
       " <tr class=\"decrease-row\"><td><a href=\"/CompanyDetail.aspx?symbol=RLFL\" target=\"_blank\" title=\"RLFL (Reliance Finance Ltd.)\">RLFL</a></td><td class=\"text-right\">344.00</td><td class=\"text-right\">-2.27</td><td class=\"text-right\">355.00</td><td class=\"text-right\">341.00</td><td class=\"text-right\">345.10</td><td class=\"text-right\">19,550</td><td><a href=\"javascript:void(0);\" onclick='addToWatchlist(\"RLFL\");' title=\"Add to Watchlist\"><i class=\"icon-tags icon-white\"></i></a></td><td><a href=\"javascript:void(0);\" onclick='setAlert(\"RLFL\");' title=\"Set as Alert\"><i class=\"icon-bell icon-white\"></i></a></td></tr>,\n",
       " <tr class=\"increase-row\"><td><a href=\"/CompanyDetail.aspx?symbol=RLI\" target=\"_blank\" title=\"RLI (Reliance Life Insurance Company Limited)\">RLI</a></td><td class=\"text-right\">457.80</td><td class=\"text-right\">1.06</td><td class=\"text-right\">459.90</td><td class=\"text-right\">446.10</td><td class=\"text-right\">455.00</td><td class=\"text-right\">9,493</td><td><a href=\"javascript:void(0);\" onclick='addToWatchlist(\"RLI\");' title=\"Add to Watchlist\"><i class=\"icon-tags icon-white\"></i></a></td><td><a href=\"javascript:void(0);\" onclick='setAlert(\"RLI\");' title=\"Set as Alert\"><i class=\"icon-bell icon-white\"></i></a></td></tr>,\n",
       " <tr class=\"decrease-row\"><td><a href=\"/CompanyDetail.aspx?symbol=RMDC\" target=\"_blank\" title=\"RMDC (RMDC Laghubitta Bittiya Sanstha Limited)\">RMDC</a></td><td class=\"text-right\">1,076.00</td><td class=\"text-right\">-0.38</td><td class=\"text-right\">1,098.80</td><td class=\"text-right\">1,076.00</td><td class=\"text-right\">1,098.80</td><td class=\"text-right\">8,138</td><td><a href=\"javascript:void(0);\" onclick='addToWatchlist(\"RMDC\");' title=\"Add to Watchlist\"><i class=\"icon-tags icon-white\"></i></a></td><td><a href=\"javascript:void(0);\" onclick='setAlert(\"RMDC\");' title=\"Set as Alert\"><i class=\"icon-bell icon-white\"></i></a></td></tr>,\n",
       " <tr class=\"increase-row\"><td><a href=\"/CompanyDetail.aspx?symbol=RMF1\" target=\"_blank\" title=\"RMF1 (RBB Mutual Fund 1)\">RMF1</a></td><td class=\"text-right\">7.94</td><td class=\"text-right\">4.47</td><td class=\"text-right\">7.94</td><td class=\"text-right\">7.45</td><td class=\"text-right\">7.45</td><td class=\"text-right\">27,375</td><td><a href=\"javascript:void(0);\" onclick='addToWatchlist(\"RMF1\");' title=\"Add to Watchlist\"><i class=\"icon-tags icon-white\"></i></a></td><td><a href=\"javascript:void(0);\" onclick='setAlert(\"RMF1\");' title=\"Set as Alert\"><i class=\"icon-bell icon-white\"></i></a></td></tr>,\n",
       " <tr class=\"decrease-row\"><td><a href=\"/CompanyDetail.aspx?symbol=RSDC\" target=\"_blank\" title=\"RSDC (RSDC Laghubitta Bittiya Sanstha Ltd.)\">RSDC</a></td><td class=\"text-right\">636.00</td><td class=\"text-right\">-0.62</td><td class=\"text-right\">639.00</td><td class=\"text-right\">628.10</td><td class=\"text-right\">628.20</td><td class=\"text-right\">4,381</td><td><a href=\"javascript:void(0);\" onclick='addToWatchlist(\"RSDC\");' title=\"Add to Watchlist\"><i class=\"icon-tags icon-white\"></i></a></td><td><a href=\"javascript:void(0);\" onclick='setAlert(\"RSDC\");' title=\"Set as Alert\"><i class=\"icon-bell icon-white\"></i></a></td></tr>,\n",
       " <tr class=\"decrease-row\"><td><a href=\"/CompanyDetail.aspx?symbol=RULB\" target=\"_blank\" title=\"RULB (Rastra Utthan Laghubitta Sanstha Limited)\">RULB</a></td><td class=\"text-right\">945.00</td><td class=\"text-right\">-3.28</td><td class=\"text-right\">977.00</td><td class=\"text-right\">945.00</td><td class=\"text-right\">957.50</td><td class=\"text-right\">1,593</td><td><a href=\"javascript:void(0);\" onclick='addToWatchlist(\"RULB\");' title=\"Add to Watchlist\"><i class=\"icon-tags icon-white\"></i></a></td><td><a href=\"javascript:void(0);\" onclick='setAlert(\"RULB\");' title=\"Set as Alert\"><i class=\"icon-bell icon-white\"></i></a></td></tr>,\n",
       " <tr class=\"decrease-row\"><td><a href=\"/CompanyDetail.aspx?symbol=RURU\" target=\"_blank\" title=\"RURU (Ru Ru Jalbidhyut Pariyojana Limited)\">RURU</a></td><td class=\"text-right\">773.00</td><td class=\"text-right\">-1.53</td><td class=\"text-right\">785.00</td><td class=\"text-right\">770.00</td><td class=\"text-right\">771.50</td><td class=\"text-right\">1,918</td><td><a href=\"javascript:void(0);\" onclick='addToWatchlist(\"RURU\");' title=\"Add to Watchlist\"><i class=\"icon-tags icon-white\"></i></a></td><td><a href=\"javascript:void(0);\" onclick='setAlert(\"RURU\");' title=\"Set as Alert\"><i class=\"icon-bell icon-white\"></i></a></td></tr>,\n",
       " <tr class=\"decrease-row\"><td><a href=\"/CompanyDetail.aspx?symbol=SABSL\" target=\"_blank\" title=\"SABSL (SABAIKO LAGHUBITTA BITTIYA SANSTHA LIMITED)\">SABSL</a></td><td class=\"text-right\">1,008.00</td><td class=\"text-right\">-1.18</td><td class=\"text-right\">1,020.00</td><td class=\"text-right\">990.00</td><td class=\"text-right\">1,005.00</td><td class=\"text-right\">1,716</td><td><a href=\"javascript:void(0);\" onclick='addToWatchlist(\"SABSL\");' title=\"Add to Watchlist\"><i class=\"icon-tags icon-white\"></i></a></td><td><a href=\"javascript:void(0);\" onclick='setAlert(\"SABSL\");' title=\"Set as Alert\"><i class=\"icon-bell icon-white\"></i></a></td></tr>,\n",
       " <tr class=\"decrease-row\"><td><a href=\"/CompanyDetail.aspx?symbol=SADBL\" target=\"_blank\" title=\"SADBL (Shangrila Development Bank Ltd.)\">SADBL</a></td><td class=\"text-right\">340.00</td><td class=\"text-right\">-1.25</td><td class=\"text-right\">344.90</td><td class=\"text-right\">331.30</td><td class=\"text-right\">337.50</td><td class=\"text-right\">29,948</td><td><a href=\"javascript:void(0);\" onclick='addToWatchlist(\"SADBL\");' title=\"Add to Watchlist\"><i class=\"icon-tags icon-white\"></i></a></td><td><a href=\"javascript:void(0);\" onclick='setAlert(\"SADBL\");' title=\"Set as Alert\"><i class=\"icon-bell icon-white\"></i></a></td></tr>,\n",
       " <tr class=\"nochange-row\"><td><a href=\"/CompanyDetail.aspx?symbol=SAEF\" target=\"_blank\" title=\"SAEF (Sanima Equity Fund)\">SAEF</a></td><td class=\"text-right\">11.12</td><td class=\"text-right\">0</td><td class=\"text-right\">11.13</td><td class=\"text-right\">11.03</td><td class=\"text-right\">11.12</td><td class=\"text-right\">25,095</td><td><a href=\"javascript:void(0);\" onclick='addToWatchlist(\"SAEF\");' title=\"Add to Watchlist\"><i class=\"icon-tags icon-white\"></i></a></td><td><a href=\"javascript:void(0);\" onclick='setAlert(\"SAEF\");' title=\"Set as Alert\"><i class=\"icon-bell icon-white\"></i></a></td></tr>,\n",
       " <tr class=\"increase-row\"><td><a href=\"/CompanyDetail.aspx?symbol=SAHAS\" target=\"_blank\" title=\"SAHAS (Sahas Urja Limited)\">SAHAS</a></td><td class=\"text-right\">608.10</td><td class=\"text-right\">1.52</td><td class=\"text-right\">616.00</td><td class=\"text-right\">577.30</td><td class=\"text-right\">588.00</td><td class=\"text-right\">61,546</td><td><a href=\"javascript:void(0);\" onclick='addToWatchlist(\"SAHAS\");' title=\"Add to Watchlist\"><i class=\"icon-tags icon-white\"></i></a></td><td><a href=\"javascript:void(0);\" onclick='setAlert(\"SAHAS\");' title=\"Set as Alert\"><i class=\"icon-bell icon-white\"></i></a></td></tr>,\n",
       " <tr class=\"increase-row\"><td><a href=\"/CompanyDetail.aspx?symbol=SANIMA\" target=\"_blank\" title=\"SANIMA (Sanima Bank Limited)\">SANIMA</a></td><td class=\"text-right\">260.80</td><td class=\"text-right\">0.69</td><td class=\"text-right\">265.00</td><td class=\"text-right\">259.00</td><td class=\"text-right\">259.00</td><td class=\"text-right\">63,662</td><td><a href=\"javascript:void(0);\" onclick='addToWatchlist(\"SANIMA\");' title=\"Add to Watchlist\"><i class=\"icon-tags icon-white\"></i></a></td><td><a href=\"javascript:void(0);\" onclick='setAlert(\"SANIMA\");' title=\"Set as Alert\"><i class=\"icon-bell icon-white\"></i></a></td></tr>,\n",
       " <tr class=\"decrease-row\"><td><a href=\"/CompanyDetail.aspx?symbol=SAPDBL\" target=\"_blank\" title=\"SAPDBL (Saptakoshi Development Bank Ltd)\">SAPDBL</a></td><td class=\"text-right\">260.10</td><td class=\"text-right\">-3.42</td><td class=\"text-right\">274.00</td><td class=\"text-right\">260.10</td><td class=\"text-right\">264.00</td><td class=\"text-right\">20,826</td><td><a href=\"javascript:void(0);\" onclick='addToWatchlist(\"SAPDBL\");' title=\"Add to Watchlist\"><i class=\"icon-tags icon-white\"></i></a></td><td><a href=\"javascript:void(0);\" onclick='setAlert(\"SAPDBL\");' title=\"Set as Alert\"><i class=\"icon-bell icon-white\"></i></a></td></tr>,\n",
       " <tr class=\"decrease-row\"><td><a href=\"/CompanyDetail.aspx?symbol=SBCF\" target=\"_blank\" title=\"SBCF (Sunrise Bluechip Fund)\">SBCF</a></td><td class=\"text-right\">8.50</td><td class=\"text-right\">-1.96</td><td class=\"text-right\">8.65</td><td class=\"text-right\">8.50</td><td class=\"text-right\">8.50</td><td class=\"text-right\">150,636</td><td><a href=\"javascript:void(0);\" onclick='addToWatchlist(\"SBCF\");' title=\"Add to Watchlist\"><i class=\"icon-tags icon-white\"></i></a></td><td><a href=\"javascript:void(0);\" onclick='setAlert(\"SBCF\");' title=\"Set as Alert\"><i class=\"icon-bell icon-white\"></i></a></td></tr>,\n",
       " <tr class=\"nochange-row\"><td><a href=\"/CompanyDetail.aspx?symbol=SBD87\" target=\"_blank\" title=\"SBD87 (8.5% Sanima Debenture 2087)\">SBD87</a></td><td class=\"text-right\">765.00</td><td class=\"text-right\">0</td><td class=\"text-right\">765.00</td><td class=\"text-right\">765.00</td><td class=\"text-right\">765.00</td><td class=\"text-right\">110</td><td><a href=\"javascript:void(0);\" onclick='addToWatchlist(\"SBD87\");' title=\"Add to Watchlist\"><i class=\"icon-tags icon-white\"></i></a></td><td><a href=\"javascript:void(0);\" onclick='setAlert(\"SBD87\");' title=\"Set as Alert\"><i class=\"icon-bell icon-white\"></i></a></td></tr>,\n",
       " <tr class=\"decrease-row\"><td><a href=\"/CompanyDetail.aspx?symbol=SBI\" target=\"_blank\" title=\"SBI (Nepal SBI Bank Limited)\">SBI</a></td><td class=\"text-right\">331.00</td><td class=\"text-right\">-4.06</td><td class=\"text-right\">344.00</td><td class=\"text-right\">329.00</td><td class=\"text-right\">343.90</td><td class=\"text-right\">45,986</td><td><a href=\"javascript:void(0);\" onclick='addToWatchlist(\"SBI\");' title=\"Add to Watchlist\"><i class=\"icon-tags icon-white\"></i></a></td><td><a href=\"javascript:void(0);\" onclick='setAlert(\"SBI\");' title=\"Set as Alert\"><i class=\"icon-bell icon-white\"></i></a></td></tr>,\n",
       " <tr class=\"increase-row\"><td><a href=\"/CompanyDetail.aspx?symbol=SBID83\" target=\"_blank\" title=\"SBID83 (10.25% Nepal SBI Bank Debenture 2083)\">SBID83</a></td><td class=\"text-right\">880.10</td><td class=\"text-right\">0.01</td><td class=\"text-right\">880.10</td><td class=\"text-right\">880.10</td><td class=\"text-right\">880.10</td><td class=\"text-right\">25</td><td><a href=\"javascript:void(0);\" onclick='addToWatchlist(\"SBID83\");' title=\"Add to Watchlist\"><i class=\"icon-tags icon-white\"></i></a></td><td><a href=\"javascript:void(0);\" onclick='setAlert(\"SBID83\");' title=\"Set as Alert\"><i class=\"icon-bell icon-white\"></i></a></td></tr>,\n",
       " <tr class=\"decrease-row\"><td><a href=\"/CompanyDetail.aspx?symbol=SBL\" target=\"_blank\" title=\"SBL (Siddhartha Bank Limited)\">SBL</a></td><td class=\"text-right\">294.00</td><td class=\"text-right\">-0.68</td><td class=\"text-right\">297.80</td><td class=\"text-right\">293.00</td><td class=\"text-right\">297.00</td><td class=\"text-right\">37,470</td><td><a href=\"javascript:void(0);\" onclick='addToWatchlist(\"SBL\");' title=\"Add to Watchlist\"><i class=\"icon-tags icon-white\"></i></a></td><td><a href=\"javascript:void(0);\" onclick='setAlert(\"SBL\");' title=\"Set as Alert\"><i class=\"icon-bell icon-white\"></i></a></td></tr>,\n",
       " <tr class=\"nochange-row\"><td><a href=\"/CompanyDetail.aspx?symbol=SBLD2082\" target=\"_blank\" title=\"SBLD2082 (10.50% SBL Debenture 2082)\">SBLD2082</a></td><td class=\"text-right\">920.00</td><td class=\"text-right\">0</td><td class=\"text-right\">920.00</td><td class=\"text-right\">920.00</td><td class=\"text-right\">920.00</td><td class=\"text-right\">50</td><td><a href=\"javascript:void(0);\" onclick='addToWatchlist(\"SBLD2082\");' title=\"Add to Watchlist\"><i class=\"icon-tags icon-white\"></i></a></td><td><a href=\"javascript:void(0);\" onclick='setAlert(\"SBLD2082\");' title=\"Set as Alert\"><i class=\"icon-bell icon-white\"></i></a></td></tr>,\n",
       " <tr class=\"increase-row\"><td><a href=\"/CompanyDetail.aspx?symbol=SBLD84\" target=\"_blank\" title=\"SBLD84 (8.5% SBL Debenture 2084)\">SBLD84</a></td><td class=\"text-right\">790.00</td><td class=\"text-right\">0.38</td><td class=\"text-right\">790.00</td><td class=\"text-right\">790.00</td><td class=\"text-right\">790.00</td><td class=\"text-right\">25</td><td><a href=\"javascript:void(0);\" onclick='addToWatchlist(\"SBLD84\");' title=\"Add to Watchlist\"><i class=\"icon-tags icon-white\"></i></a></td><td><a href=\"javascript:void(0);\" onclick='setAlert(\"SBLD84\");' title=\"Set as Alert\"><i class=\"icon-bell icon-white\"></i></a></td></tr>,\n",
       " <tr class=\"nochange-row\"><td><a href=\"/CompanyDetail.aspx?symbol=SBLPO\" target=\"_blank\" title=\"SBLPO (Siddhartha Bank Limited Promoter Share)\">SBLPO</a></td><td class=\"text-right\">171.50</td><td class=\"text-right\">0</td><td class=\"text-right\">171.50</td><td class=\"text-right\">171.50</td><td class=\"text-right\">171.50</td><td class=\"text-right\">46,869</td><td><a href=\"javascript:void(0);\" onclick='addToWatchlist(\"SBLPO\");' title=\"Add to Watchlist\"><i class=\"icon-tags icon-white\"></i></a></td><td><a href=\"javascript:void(0);\" onclick='setAlert(\"SBLPO\");' title=\"Set as Alert\"><i class=\"icon-bell icon-white\"></i></a></td></tr>,\n",
       " <tr class=\"decrease-row\"><td><a href=\"/CompanyDetail.aspx?symbol=SCB\" target=\"_blank\" title=\"SCB (Standard Chartered Bank Limited)\">SCB</a></td><td class=\"text-right\">500.00</td><td class=\"text-right\">-0.6</td><td class=\"text-right\">510.00</td><td class=\"text-right\">497.00</td><td class=\"text-right\">507.00</td><td class=\"text-right\">40,164</td><td><a href=\"javascript:void(0);\" onclick='addToWatchlist(\"SCB\");' title=\"Add to Watchlist\"><i class=\"icon-tags icon-white\"></i></a></td><td><a href=\"javascript:void(0);\" onclick='setAlert(\"SCB\");' title=\"Set as Alert\"><i class=\"icon-bell icon-white\"></i></a></td></tr>,\n",
       " <tr class=\"nochange-row\"><td><a href=\"/CompanyDetail.aspx?symbol=SDBD87\" target=\"_blank\" title=\"SDBD87 (9% Shangri-la Development Bank Debenture 2087)\">SDBD87</a></td><td class=\"text-right\">780.00</td><td class=\"text-right\">0</td><td class=\"text-right\">780.00</td><td class=\"text-right\">780.00</td><td class=\"text-right\">780.00</td><td class=\"text-right\">200</td><td><a href=\"javascript:void(0);\" onclick='addToWatchlist(\"SDBD87\");' title=\"Add to Watchlist\"><i class=\"icon-tags icon-white\"></i></a></td><td><a href=\"javascript:void(0);\" onclick='setAlert(\"SDBD87\");' title=\"Set as Alert\"><i class=\"icon-bell icon-white\"></i></a></td></tr>,\n",
       " <tr class=\"decrease-row\"><td><a href=\"/CompanyDetail.aspx?symbol=SDLBSL\" target=\"_blank\" title=\"SDLBSL (Sadhana Laghubitta Bittiya Sanstha Limited)\">SDLBSL</a></td><td class=\"text-right\">900.00</td><td class=\"text-right\">-1.64</td><td class=\"text-right\">910.00</td><td class=\"text-right\">900.00</td><td class=\"text-right\">902.00</td><td class=\"text-right\">784</td><td><a href=\"javascript:void(0);\" onclick='addToWatchlist(\"SDLBSL\");' title=\"Add to Watchlist\"><i class=\"icon-tags icon-white\"></i></a></td><td><a href=\"javascript:void(0);\" onclick='setAlert(\"SDLBSL\");' title=\"Set as Alert\"><i class=\"icon-bell icon-white\"></i></a></td></tr>,\n",
       " <tr class=\"decrease-row\"><td><a href=\"/CompanyDetail.aspx?symbol=SEF\" target=\"_blank\" title=\"SEF (Siddhartha Equity Fund)\">SEF</a></td><td class=\"text-right\">8.77</td><td class=\"text-right\">-3.63</td><td class=\"text-right\">9.00</td><td class=\"text-right\">8.75</td><td class=\"text-right\">8.92</td><td class=\"text-right\">8,720</td><td><a href=\"javascript:void(0);\" onclick='addToWatchlist(\"SEF\");' title=\"Add to Watchlist\"><i class=\"icon-tags icon-white\"></i></a></td><td><a href=\"javascript:void(0);\" onclick='setAlert(\"SEF\");' title=\"Set as Alert\"><i class=\"icon-bell icon-white\"></i></a></td></tr>,\n",
       " <tr class=\"decrease-row\"><td><a href=\"/CompanyDetail.aspx?symbol=SFCL\" target=\"_blank\" title=\"SFCL (Samriddhi Finance Company Limited)\">SFCL</a></td><td class=\"text-right\">324.00</td><td class=\"text-right\">-6.09</td><td class=\"text-right\">343.70</td><td class=\"text-right\">323.50</td><td class=\"text-right\">340.10</td><td class=\"text-right\">95,677</td><td><a href=\"javascript:void(0);\" onclick='addToWatchlist(\"SFCL\");' title=\"Add to Watchlist\"><i class=\"icon-tags icon-white\"></i></a></td><td><a href=\"javascript:void(0);\" onclick='setAlert(\"SFCL\");' title=\"Set as Alert\"><i class=\"icon-bell icon-white\"></i></a></td></tr>,\n",
       " <tr class=\"nochange-row\"><td><a href=\"/CompanyDetail.aspx?symbol=SFMF\" target=\"_blank\" title=\"SFMF (Sunrise First Mutual Fund)\">SFMF</a></td><td class=\"text-right\">10.22</td><td class=\"text-right\">0</td><td class=\"text-right\">10.42</td><td class=\"text-right\">10.02</td><td class=\"text-right\">10.02</td><td class=\"text-right\">1,700</td><td><a href=\"javascript:void(0);\" onclick='addToWatchlist(\"SFMF\");' title=\"Add to Watchlist\"><i class=\"icon-tags icon-white\"></i></a></td><td><a href=\"javascript:void(0);\" onclick='setAlert(\"SFMF\");' title=\"Set as Alert\"><i class=\"icon-bell icon-white\"></i></a></td></tr>,\n",
       " <tr class=\"increase-row\"><td><a href=\"/CompanyDetail.aspx?symbol=SGHC\" target=\"_blank\" title=\"SGHC (Swet-Ganga Hydropower &amp; Construction Limited )\">SGHC</a></td><td class=\"text-right\">411.60</td><td class=\"text-right\">9.67</td><td class=\"text-right\">411.60</td><td class=\"text-right\">358.00</td><td class=\"text-right\">367.80</td><td class=\"text-right\">29,501</td><td><a href=\"javascript:void(0);\" onclick='addToWatchlist(\"SGHC\");' title=\"Add to Watchlist\"><i class=\"icon-tags icon-white\"></i></a></td><td><a href=\"javascript:void(0);\" onclick='setAlert(\"SGHC\");' title=\"Set as Alert\"><i class=\"icon-bell icon-white\"></i></a></td></tr>,\n",
       " <tr class=\"increase-row\"><td><a href=\"/CompanyDetail.aspx?symbol=SGIC\" target=\"_blank\" title=\"SGIC (Sanima GIC Insurance Limited)\">SGIC</a></td><td class=\"text-right\">498.00</td><td class=\"text-right\">0.61</td><td class=\"text-right\">514.00</td><td class=\"text-right\">476.00</td><td class=\"text-right\">485.10</td><td class=\"text-right\">23,218</td><td><a href=\"javascript:void(0);\" onclick='addToWatchlist(\"SGIC\");' title=\"Add to Watchlist\"><i class=\"icon-tags icon-white\"></i></a></td><td><a href=\"javascript:void(0);\" onclick='setAlert(\"SGIC\");' title=\"Set as Alert\"><i class=\"icon-bell icon-white\"></i></a></td></tr>,\n",
       " <tr class=\"decrease-row\"><td><a href=\"/CompanyDetail.aspx?symbol=SHEL\" target=\"_blank\" title=\"SHEL (Singati Hydro Energy Limited)\">SHEL</a></td><td class=\"text-right\">352.00</td><td class=\"text-right\">-2.79</td><td class=\"text-right\">363.00</td><td class=\"text-right\">350.00</td><td class=\"text-right\">360.00</td><td class=\"text-right\">16,621</td><td><a href=\"javascript:void(0);\" onclick='addToWatchlist(\"SHEL\");' title=\"Add to Watchlist\"><i class=\"icon-tags icon-white\"></i></a></td><td><a href=\"javascript:void(0);\" onclick='setAlert(\"SHEL\");' title=\"Set as Alert\"><i class=\"icon-bell icon-white\"></i></a></td></tr>,\n",
       " <tr class=\"decrease-row\"><td><a href=\"/CompanyDetail.aspx?symbol=SHINE\" target=\"_blank\" title=\"SHINE (Shine Resunga Development Bank Ltd.)\">SHINE</a></td><td class=\"text-right\">355.00</td><td class=\"text-right\">-1.11</td><td class=\"text-right\">360.30</td><td class=\"text-right\">351.90</td><td class=\"text-right\">352.00</td><td class=\"text-right\">42,126</td><td><a href=\"javascript:void(0);\" onclick='addToWatchlist(\"SHINE\");' title=\"Add to Watchlist\"><i class=\"icon-tags icon-white\"></i></a></td><td><a href=\"javascript:void(0);\" onclick='setAlert(\"SHINE\");' title=\"Set as Alert\"><i class=\"icon-bell icon-white\"></i></a></td></tr>,\n",
       " <tr class=\"decrease-row\"><td><a href=\"/CompanyDetail.aspx?symbol=SHIVM\" target=\"_blank\" title=\"SHIVM (SHIVAM CEMENTS LTD)\">SHIVM</a></td><td class=\"text-right\">525.00</td><td class=\"text-right\">-0.38</td><td class=\"text-right\">534.00</td><td class=\"text-right\">521.00</td><td class=\"text-right\">525.00</td><td class=\"text-right\">94,868</td><td><a href=\"javascript:void(0);\" onclick='addToWatchlist(\"SHIVM\");' title=\"Add to Watchlist\"><i class=\"icon-tags icon-white\"></i></a></td><td><a href=\"javascript:void(0);\" onclick='setAlert(\"SHIVM\");' title=\"Set as Alert\"><i class=\"icon-bell icon-white\"></i></a></td></tr>,\n",
       " <tr class=\"increase-row\"><td><a href=\"/CompanyDetail.aspx?symbol=SHL\" target=\"_blank\" title=\"SHL (Soaltee Hotel Limited)\">SHL</a></td><td class=\"text-right\">233.90</td><td class=\"text-right\">0.39</td><td class=\"text-right\">235.00</td><td class=\"text-right\">225.40</td><td class=\"text-right\">230.00</td><td class=\"text-right\">29,133</td><td><a href=\"javascript:void(0);\" onclick='addToWatchlist(\"SHL\");' title=\"Add to Watchlist\"><i class=\"icon-tags icon-white\"></i></a></td><td><a href=\"javascript:void(0);\" onclick='setAlert(\"SHL\");' title=\"Set as Alert\"><i class=\"icon-bell icon-white\"></i></a></td></tr>,\n",
       " <tr class=\"decrease-row\"><td><a href=\"/CompanyDetail.aspx?symbol=SHLB\" target=\"_blank\" title=\"SHLB (Shrijanshil Laghubitta Bittiya Sanstha Limited)\">SHLB</a></td><td class=\"text-right\">2,359.00</td><td class=\"text-right\">-0.25</td><td class=\"text-right\">2,404.00</td><td class=\"text-right\">2,353.50</td><td class=\"text-right\">2,355.00</td><td class=\"text-right\">3,435</td><td><a href=\"javascript:void(0);\" onclick='addToWatchlist(\"SHLB\");' title=\"Add to Watchlist\"><i class=\"icon-tags icon-white\"></i></a></td><td><a href=\"javascript:void(0);\" onclick='setAlert(\"SHLB\");' title=\"Set as Alert\"><i class=\"icon-bell icon-white\"></i></a></td></tr>,\n",
       " <tr class=\"decrease-row\"><td><a href=\"/CompanyDetail.aspx?symbol=SHPC\" target=\"_blank\" title=\"SHPC (Sanima Mai Hydropower Ltd.)\">SHPC</a></td><td class=\"text-right\">338.00</td><td class=\"text-right\">-0.29</td><td class=\"text-right\">345.00</td><td class=\"text-right\">330.00</td><td class=\"text-right\">333.00</td><td class=\"text-right\">55,667</td><td><a href=\"javascript:void(0);\" onclick='addToWatchlist(\"SHPC\");' title=\"Add to Watchlist\"><i class=\"icon-tags icon-white\"></i></a></td><td><a href=\"javascript:void(0);\" onclick='setAlert(\"SHPC\");' title=\"Set as Alert\"><i class=\"icon-bell icon-white\"></i></a></td></tr>,\n",
       " <tr class=\"decrease-row\"><td><a href=\"/CompanyDetail.aspx?symbol=SIC\" target=\"_blank\" title=\"SIC (Sagarmatha Insurance Co. Ltd.)\">SIC</a></td><td class=\"text-right\">870.00</td><td class=\"text-right\">-4.4</td><td class=\"text-right\">930.00</td><td class=\"text-right\">870.00</td><td class=\"text-right\">928.20</td><td class=\"text-right\">15,844</td><td><a href=\"javascript:void(0);\" onclick='addToWatchlist(\"SIC\");' title=\"Add to Watchlist\"><i class=\"icon-tags icon-white\"></i></a></td><td><a href=\"javascript:void(0);\" onclick='setAlert(\"SIC\");' title=\"Set as Alert\"><i class=\"icon-bell icon-white\"></i></a></td></tr>,\n",
       " <tr class=\"decrease-row\"><td><a href=\"/CompanyDetail.aspx?symbol=SICL\" target=\"_blank\" title=\"SICL (Shikhar Insurance Co. Ltd.)\">SICL</a></td><td class=\"text-right\">947.20</td><td class=\"text-right\">-1.33</td><td class=\"text-right\">960.00</td><td class=\"text-right\">940.00</td><td class=\"text-right\">941.00</td><td class=\"text-right\">19,240</td><td><a href=\"javascript:void(0);\" onclick='addToWatchlist(\"SICL\");' title=\"Add to Watchlist\"><i class=\"icon-tags icon-white\"></i></a></td><td><a href=\"javascript:void(0);\" onclick='setAlert(\"SICL\");' title=\"Set as Alert\"><i class=\"icon-bell icon-white\"></i></a></td></tr>,\n",
       " <tr class=\"decrease-row\"><td><a href=\"/CompanyDetail.aspx?symbol=SIFC\" target=\"_blank\" title=\"SIFC (Shree Investment Finance Co. Ltd.)\">SIFC</a></td><td class=\"text-right\">346.30</td><td class=\"text-right\">-3.54</td><td class=\"text-right\">359.00</td><td class=\"text-right\">345.10</td><td class=\"text-right\">352.30</td><td class=\"text-right\">10,981</td><td><a href=\"javascript:void(0);\" onclick='addToWatchlist(\"SIFC\");' title=\"Add to Watchlist\"><i class=\"icon-tags icon-white\"></i></a></td><td><a href=\"javascript:void(0);\" onclick='setAlert(\"SIFC\");' title=\"Set as Alert\"><i class=\"icon-bell icon-white\"></i></a></td></tr>,\n",
       " <tr class=\"decrease-row\"><td><a href=\"/CompanyDetail.aspx?symbol=SIGS2\" target=\"_blank\" title=\"SIGS2 (Siddhartha Investment Growth Scheme - 2)\">SIGS2</a></td><td class=\"text-right\">8.80</td><td class=\"text-right\">-2.65</td><td class=\"text-right\">8.86</td><td class=\"text-right\">8.77</td><td class=\"text-right\">8.86</td><td class=\"text-right\">3,700</td><td><a href=\"javascript:void(0);\" onclick='addToWatchlist(\"SIGS2\");' title=\"Add to Watchlist\"><i class=\"icon-tags icon-white\"></i></a></td><td><a href=\"javascript:void(0);\" onclick='setAlert(\"SIGS2\");' title=\"Set as Alert\"><i class=\"icon-bell icon-white\"></i></a></td></tr>,\n",
       " <tr class=\"increase-row\"><td><a href=\"/CompanyDetail.aspx?symbol=SIKLES\" target=\"_blank\" title=\"SIKLES (Sikles Hydropower Limited)\">SIKLES</a></td><td class=\"text-right\">487.00</td><td class=\"text-right\">0.41</td><td class=\"text-right\">487.50</td><td class=\"text-right\">460.90</td><td class=\"text-right\">477.00</td><td class=\"text-right\">20,670</td><td><a href=\"javascript:void(0);\" onclick='addToWatchlist(\"SIKLES\");' title=\"Add to Watchlist\"><i class=\"icon-tags icon-white\"></i></a></td><td><a href=\"javascript:void(0);\" onclick='setAlert(\"SIKLES\");' title=\"Set as Alert\"><i class=\"icon-bell icon-white\"></i></a></td></tr>,\n",
       " <tr class=\"increase-row\"><td><a href=\"/CompanyDetail.aspx?symbol=SIL\" target=\"_blank\" title=\"SIL (Siddhartha Insurance Ltd.)\">SIL</a></td><td class=\"text-right\">660.00</td><td class=\"text-right\">1.06</td><td class=\"text-right\">693.90</td><td class=\"text-right\">640.10</td><td class=\"text-right\">640.10</td><td class=\"text-right\">5,818</td><td><a href=\"javascript:void(0);\" onclick='addToWatchlist(\"SIL\");' title=\"Add to Watchlist\"><i class=\"icon-tags icon-white\"></i></a></td><td><a href=\"javascript:void(0);\" onclick='setAlert(\"SIL\");' title=\"Set as Alert\"><i class=\"icon-bell icon-white\"></i></a></td></tr>,\n",
       " <tr class=\"decrease-row\"><td><a href=\"/CompanyDetail.aspx?symbol=SINDU\" target=\"_blank\" title=\"SINDU (Sindhu Bikash Bank Ltd)\">SINDU</a></td><td class=\"text-right\">296.00</td><td class=\"text-right\">-1.99</td><td class=\"text-right\">303.00</td><td class=\"text-right\">295.00</td><td class=\"text-right\">296.00</td><td class=\"text-right\">6,030</td><td><a href=\"javascript:void(0);\" onclick='addToWatchlist(\"SINDU\");' title=\"Add to Watchlist\"><i class=\"icon-tags icon-white\"></i></a></td><td><a href=\"javascript:void(0);\" onclick='setAlert(\"SINDU\");' title=\"Set as Alert\"><i class=\"icon-bell icon-white\"></i></a></td></tr>,\n",
       " <tr class=\"decrease-row\"><td><a href=\"/CompanyDetail.aspx?symbol=SJCL\" target=\"_blank\" title=\"SJCL (SANJEN JALAVIDHYUT COMPANY LIMITED)\">SJCL</a></td><td class=\"text-right\">331.00</td><td class=\"text-right\">-3.22</td><td class=\"text-right\">344.90</td><td class=\"text-right\">327.70</td><td class=\"text-right\">336.00</td><td class=\"text-right\">50,441</td><td><a href=\"javascript:void(0);\" onclick='addToWatchlist(\"SJCL\");' title=\"Add to Watchlist\"><i class=\"icon-tags icon-white\"></i></a></td><td><a href=\"javascript:void(0);\" onclick='setAlert(\"SJCL\");' title=\"Set as Alert\"><i class=\"icon-bell icon-white\"></i></a></td></tr>,\n",
       " <tr class=\"increase-row\"><td><a href=\"/CompanyDetail.aspx?symbol=SJLIC\" target=\"_blank\" title=\"SJLIC (SuryaJyoti Life Insurance Company Limited)\">SJLIC</a></td><td class=\"text-right\">494.40</td><td class=\"text-right\">9.99</td><td class=\"text-right\">494.40</td><td class=\"text-right\">458.40</td><td class=\"text-right\">458.40</td><td class=\"text-right\">1,815</td><td><a href=\"javascript:void(0);\" onclick='addToWatchlist(\"SJLIC\");' title=\"Add to Watchlist\"><i class=\"icon-tags icon-white\"></i></a></td><td><a href=\"javascript:void(0);\" onclick='setAlert(\"SJLIC\");' title=\"Set as Alert\"><i class=\"icon-bell icon-white\"></i></a></td></tr>,\n",
       " <tr class=\"decrease-row\"><td><a href=\"/CompanyDetail.aspx?symbol=SKBBL\" target=\"_blank\" title=\"SKBBL (Sana Kisan Bikas Laghubitta Bittiya sanstha Limited.)\">SKBBL</a></td><td class=\"text-right\">1,266.00</td><td class=\"text-right\">-0.71</td><td class=\"text-right\">1,285.90</td><td class=\"text-right\">1,263.00</td><td class=\"text-right\">1,275.00</td><td class=\"text-right\">4,864</td><td><a href=\"javascript:void(0);\" onclick='addToWatchlist(\"SKBBL\");' title=\"Add to Watchlist\"><i class=\"icon-tags icon-white\"></i></a></td><td><a href=\"javascript:void(0);\" onclick='setAlert(\"SKBBL\");' title=\"Set as Alert\"><i class=\"icon-bell icon-white\"></i></a></td></tr>,\n",
       " <tr class=\"decrease-row\"><td><a href=\"/CompanyDetail.aspx?symbol=SLBBL\" target=\"_blank\" title=\"SLBBL (Swarojgar Laghubitta Bittiya Sanstha Ltd.)\">SLBBL</a></td><td class=\"text-right\">1,034.00</td><td class=\"text-right\">-0.3</td><td class=\"text-right\">1,036.00</td><td class=\"text-right\">1,018.00</td><td class=\"text-right\">1,036.00</td><td class=\"text-right\">4,068</td><td><a href=\"javascript:void(0);\" onclick='addToWatchlist(\"SLBBL\");' title=\"Add to Watchlist\"><i class=\"icon-tags icon-white\"></i></a></td><td><a href=\"javascript:void(0);\" onclick='setAlert(\"SLBBL\");' title=\"Set as Alert\"><i class=\"icon-bell icon-white\"></i></a></td></tr>,\n",
       " <tr class=\"decrease-row\"><td><a href=\"/CompanyDetail.aspx?symbol=SLBSL\" target=\"_blank\" title=\"SLBSL (Samudayik Laghubitta Bittiya Sanstha Limited)\">SLBSL</a></td><td class=\"text-right\">1,258.00</td><td class=\"text-right\">-0.48</td><td class=\"text-right\">1,283.00</td><td class=\"text-right\">1,258.00</td><td class=\"text-right\">1,283.00</td><td class=\"text-right\">134</td><td><a href=\"javascript:void(0);\" onclick='addToWatchlist(\"SLBSL\");' title=\"Add to Watchlist\"><i class=\"icon-tags icon-white\"></i></a></td><td><a href=\"javascript:void(0);\" onclick='setAlert(\"SLBSL\");' title=\"Set as Alert\"><i class=\"icon-bell icon-white\"></i></a></td></tr>,\n",
       " <tr class=\"decrease-row\"><td><a href=\"/CompanyDetail.aspx?symbol=SLCF\" target=\"_blank\" title=\"SLCF (Sanima Large Cap Fund)\">SLCF</a></td><td class=\"text-right\">8.21</td><td class=\"text-right\">-2.49</td><td class=\"text-right\">8.40</td><td class=\"text-right\">8.20</td><td class=\"text-right\">8.26</td><td class=\"text-right\">57,080</td><td><a href=\"javascript:void(0);\" onclick='addToWatchlist(\"SLCF\");' title=\"Add to Watchlist\"><i class=\"icon-tags icon-white\"></i></a></td><td><a href=\"javascript:void(0);\" onclick='setAlert(\"SLCF\");' title=\"Set as Alert\"><i class=\"icon-bell icon-white\"></i></a></td></tr>,\n",
       " <tr class=\"decrease-row\"><td><a href=\"/CompanyDetail.aspx?symbol=SLI\" target=\"_blank\" title=\"SLI (Sanima Life Insurance)\">SLI</a></td><td class=\"text-right\">452.00</td><td class=\"text-right\">-0.24</td><td class=\"text-right\">464.00</td><td class=\"text-right\">442.00</td><td class=\"text-right\">453.10</td><td class=\"text-right\">13,927</td><td><a href=\"javascript:void(0);\" onclick='addToWatchlist(\"SLI\");' title=\"Add to Watchlist\"><i class=\"icon-tags icon-white\"></i></a></td><td><a href=\"javascript:void(0);\" onclick='setAlert(\"SLI\");' title=\"Set as Alert\"><i class=\"icon-bell icon-white\"></i></a></td></tr>,\n",
       " <tr class=\"decrease-row\"><td><a href=\"/CompanyDetail.aspx?symbol=SMATA\" target=\"_blank\" title=\"SMATA (Samata Gharelu Laghubitta Bittiya Sanstha Limited)\">SMATA</a></td><td class=\"text-right\">844.00</td><td class=\"text-right\">-2.43</td><td class=\"text-right\">858.80</td><td class=\"text-right\">840.00</td><td class=\"text-right\">848.00</td><td class=\"text-right\">1,179</td><td><a href=\"javascript:void(0);\" onclick='addToWatchlist(\"SMATA\");' title=\"Add to Watchlist\"><i class=\"icon-tags icon-white\"></i></a></td><td><a href=\"javascript:void(0);\" onclick='setAlert(\"SMATA\");' title=\"Set as Alert\"><i class=\"icon-bell icon-white\"></i></a></td></tr>,\n",
       " <tr class=\"decrease-row\"><td><a href=\"/CompanyDetail.aspx?symbol=SMB\" target=\"_blank\" title=\"SMB (Support Microfinance Bittiya Sanstha Ltd.)\">SMB</a></td><td class=\"text-right\">1,264.00</td><td class=\"text-right\">-1.94</td><td class=\"text-right\">1,265.00</td><td class=\"text-right\">1,264.00</td><td class=\"text-right\">1,265.00</td><td class=\"text-right\">56</td><td><a href=\"javascript:void(0);\" onclick='addToWatchlist(\"SMB\");' title=\"Add to Watchlist\"><i class=\"icon-tags icon-white\"></i></a></td><td><a href=\"javascript:void(0);\" onclick='setAlert(\"SMB\");' title=\"Set as Alert\"><i class=\"icon-bell icon-white\"></i></a></td></tr>,\n",
       " <tr class=\"increase-row\"><td><a href=\"/CompanyDetail.aspx?symbol=SMFBS\" target=\"_blank\" title=\"SMFBS (Swabhimaan Laghubitta Bittiya Sanstha Ltd)\">SMFBS</a></td><td class=\"text-right\">1,550.00</td><td class=\"text-right\">2.99</td><td class=\"text-right\">1,550.00</td><td class=\"text-right\">1,525.00</td><td class=\"text-right\">1,535.00</td><td class=\"text-right\">531</td><td><a href=\"javascript:void(0);\" onclick='addToWatchlist(\"SMFBS\");' title=\"Add to Watchlist\"><i class=\"icon-tags icon-white\"></i></a></td><td><a href=\"javascript:void(0);\" onclick='setAlert(\"SMFBS\");' title=\"Set as Alert\"><i class=\"icon-bell icon-white\"></i></a></td></tr>,\n",
       " <tr class=\"decrease-row\"><td><a href=\"/CompanyDetail.aspx?symbol=SMFDB\" target=\"_blank\" title=\"SMFDB (Summit Laghubitta Bittiya Sanstha  Ltd.)\">SMFDB</a></td><td class=\"text-right\">1,324.00</td><td class=\"text-right\">-1.34</td><td class=\"text-right\">1,334.00</td><td class=\"text-right\">1,312.10</td><td class=\"text-right\">1,320.00</td><td class=\"text-right\">2,587</td><td><a href=\"javascript:void(0);\" onclick='addToWatchlist(\"SMFDB\");' title=\"Add to Watchlist\"><i class=\"icon-tags icon-white\"></i></a></td><td><a href=\"javascript:void(0);\" onclick='setAlert(\"SMFDB\");' title=\"Set as Alert\"><i class=\"icon-bell icon-white\"></i></a></td></tr>,\n",
       " <tr class=\"increase-row\"><td><a href=\"/CompanyDetail.aspx?symbol=SPC\" target=\"_blank\" title=\"SPC (Samling Power Company Limited)\">SPC</a></td><td class=\"text-right\">497.00</td><td class=\"text-right\">4.63</td><td class=\"text-right\">500.00</td><td class=\"text-right\">465.00</td><td class=\"text-right\">466.00</td><td class=\"text-right\">18,719</td><td><a href=\"javascript:void(0);\" onclick='addToWatchlist(\"SPC\");' title=\"Add to Watchlist\"><i class=\"icon-tags icon-white\"></i></a></td><td><a href=\"javascript:void(0);\" onclick='setAlert(\"SPC\");' title=\"Set as Alert\"><i class=\"icon-bell icon-white\"></i></a></td></tr>,\n",
       " <tr class=\"increase-row\"><td><a href=\"/CompanyDetail.aspx?symbol=SPDL\" target=\"_blank\" title=\"SPDL (Synergy Power Development Ltd.)\">SPDL</a></td><td class=\"text-right\">338.50</td><td class=\"text-right\">0.59</td><td class=\"text-right\">349.80</td><td class=\"text-right\">330.00</td><td class=\"text-right\">333.00</td><td class=\"text-right\">57,277</td><td><a href=\"javascript:void(0);\" onclick='addToWatchlist(\"SPDL\");' title=\"Add to Watchlist\"><i class=\"icon-tags icon-white\"></i></a></td><td><a href=\"javascript:void(0);\" onclick='setAlert(\"SPDL\");' title=\"Set as Alert\"><i class=\"icon-bell icon-white\"></i></a></td></tr>,\n",
       " <tr class=\"increase-row\"><td><a href=\"/CompanyDetail.aspx?symbol=SPHL\" target=\"_blank\" title=\"SPHL (Sayapatri Hydropower Limited)\">SPHL</a></td><td class=\"text-right\">483.00</td><td class=\"text-right\">9.8</td><td class=\"text-right\">483.80</td><td class=\"text-right\">420.00</td><td class=\"text-right\">431.20</td><td class=\"text-right\">22,851</td><td><a href=\"javascript:void(0);\" onclick='addToWatchlist(\"SPHL\");' title=\"Add to Watchlist\"><i class=\"icon-tags icon-white\"></i></a></td><td><a href=\"javascript:void(0);\" onclick='setAlert(\"SPHL\");' title=\"Set as Alert\"><i class=\"icon-bell icon-white\"></i></a></td></tr>,\n",
       " <tr class=\"decrease-row\"><td><a href=\"/CompanyDetail.aspx?symbol=SRBL\" target=\"_blank\" title=\"SRBL (Sunrise Bank Limited)\">SRBL</a></td><td class=\"text-right\">197.00</td><td class=\"text-right\">-0.25</td><td class=\"text-right\">200.00</td><td class=\"text-right\">195.00</td><td class=\"text-right\">197.50</td><td class=\"text-right\">15,774</td><td><a href=\"javascript:void(0);\" onclick='addToWatchlist(\"SRBL\");' title=\"Add to Watchlist\"><i class=\"icon-tags icon-white\"></i></a></td><td><a href=\"javascript:void(0);\" onclick='setAlert(\"SRBL\");' title=\"Set as Alert\"><i class=\"icon-bell icon-white\"></i></a></td></tr>,\n",
       " <tr class=\"decrease-row\"><td><a href=\"/CompanyDetail.aspx?symbol=SRBLD83\" target=\"_blank\" title=\"SRBLD83 (10.25% Sunrise Bank Debenture 2083)\">SRBLD83</a></td><td class=\"text-right\">900.00</td><td class=\"text-right\">-1.59</td><td class=\"text-right\">900.00</td><td class=\"text-right\">900.00</td><td class=\"text-right\">900.00</td><td class=\"text-right\">20</td><td><a href=\"javascript:void(0);\" onclick='addToWatchlist(\"SRBLD83\");' title=\"Add to Watchlist\"><i class=\"icon-tags icon-white\"></i></a></td><td><a href=\"javascript:void(0);\" onclick='setAlert(\"SRBLD83\");' title=\"Set as Alert\"><i class=\"icon-bell icon-white\"></i></a></td></tr>,\n",
       " <tr class=\"decrease-row\"><td><a href=\"/CompanyDetail.aspx?symbol=SSHL\" target=\"_blank\" title=\"SSHL (Shiva Shree Hydropower Limited)\">SSHL</a></td><td class=\"text-right\">262.00</td><td class=\"text-right\">-2.6</td><td class=\"text-right\">270.00</td><td class=\"text-right\">260.70</td><td class=\"text-right\">264.00</td><td class=\"text-right\">142,089</td><td><a href=\"javascript:void(0);\" onclick='addToWatchlist(\"SSHL\");' title=\"Add to Watchlist\"><i class=\"icon-tags icon-white\"></i></a></td><td><a href=\"javascript:void(0);\" onclick='setAlert(\"SSHL\");' title=\"Set as Alert\"><i class=\"icon-bell icon-white\"></i></a></td></tr>,\n",
       " <tr class=\"decrease-row\"><td><a href=\"/CompanyDetail.aspx?symbol=STC\" target=\"_blank\" title=\"STC (Salt Trading Corporation)\">STC</a></td><td class=\"text-right\">4,670.00</td><td class=\"text-right\">-0.34</td><td class=\"text-right\">4,685.00</td><td class=\"text-right\">4,593.00</td><td class=\"text-right\">4,593.00</td><td class=\"text-right\">1,284</td><td><a href=\"javascript:void(0);\" onclick='addToWatchlist(\"STC\");' title=\"Add to Watchlist\"><i class=\"icon-tags icon-white\"></i></a></td><td><a href=\"javascript:void(0);\" onclick='setAlert(\"STC\");' title=\"Set as Alert\"><i class=\"icon-bell icon-white\"></i></a></td></tr>,\n",
       " <tr class=\"decrease-row\"><td><a href=\"/CompanyDetail.aspx?symbol=SWBBL\" target=\"_blank\" title=\"SWBBL (Swabalamban Laghubitta Bittiya Sanstha Limited)\">SWBBL</a></td><td class=\"text-right\">1,180.20</td><td class=\"text-right\">-0.66</td><td class=\"text-right\">1,191.90</td><td class=\"text-right\">1,180.00</td><td class=\"text-right\">1,181.00</td><td class=\"text-right\">1,817</td><td><a href=\"javascript:void(0);\" onclick='addToWatchlist(\"SWBBL\");' title=\"Add to Watchlist\"><i class=\"icon-tags icon-white\"></i></a></td><td><a href=\"javascript:void(0);\" onclick='setAlert(\"SWBBL\");' title=\"Set as Alert\"><i class=\"icon-bell icon-white\"></i></a></td></tr>,\n",
       " <tr class=\"decrease-row\"><td><a href=\"/CompanyDetail.aspx?symbol=SWMF\" target=\"_blank\" title=\"SWMF (Suryodaya Womi Laghubitta Bittiya Sanstha Limited )\">SWMF</a></td><td class=\"text-right\">914.00</td><td class=\"text-right\">-5.28</td><td class=\"text-right\">952.00</td><td class=\"text-right\">914.00</td><td class=\"text-right\">946.00</td><td class=\"text-right\">11,867</td><td><a href=\"javascript:void(0);\" onclick='addToWatchlist(\"SWMF\");' title=\"Add to Watchlist\"><i class=\"icon-tags icon-white\"></i></a></td><td><a href=\"javascript:void(0);\" onclick='setAlert(\"SWMF\");' title=\"Set as Alert\"><i class=\"icon-bell icon-white\"></i></a></td></tr>,\n",
       " <tr class=\"increase-row\"><td><a href=\"/CompanyDetail.aspx?symbol=TPC\" target=\"_blank\" title=\"TPC (Terhathum Power Company Limited)\">TPC</a></td><td class=\"text-right\">439.00</td><td class=\"text-right\">1.86</td><td class=\"text-right\">451.90</td><td class=\"text-right\">421.50</td><td class=\"text-right\">430.00</td><td class=\"text-right\">10,930</td><td><a href=\"javascript:void(0);\" onclick='addToWatchlist(\"TPC\");' title=\"Add to Watchlist\"><i class=\"icon-tags icon-white\"></i></a></td><td><a href=\"javascript:void(0);\" onclick='setAlert(\"TPC\");' title=\"Set as Alert\"><i class=\"icon-bell icon-white\"></i></a></td></tr>,\n",
       " <tr class=\"increase-row\"><td><a href=\"/CompanyDetail.aspx?symbol=TRH\" target=\"_blank\" title=\"TRH (Taragaon Regency Hotel Limited)\">TRH</a></td><td class=\"text-right\">507.00</td><td class=\"text-right\">4.32</td><td class=\"text-right\">507.00</td><td class=\"text-right\">469.00</td><td class=\"text-right\">476.30</td><td class=\"text-right\">67,776</td><td><a href=\"javascript:void(0);\" onclick='addToWatchlist(\"TRH\");' title=\"Add to Watchlist\"><i class=\"icon-tags icon-white\"></i></a></td><td><a href=\"javascript:void(0);\" onclick='setAlert(\"TRH\");' title=\"Set as Alert\"><i class=\"icon-bell icon-white\"></i></a></td></tr>,\n",
       " <tr class=\"nochange-row\"><td><a href=\"/CompanyDetail.aspx?symbol=UHEWA\" target=\"_blank\" title=\"UHEWA (Upper Hewakhola Hydropower Company Limited)\">UHEWA</a></td><td class=\"text-right\">470.00</td><td class=\"text-right\">0</td><td class=\"text-right\">480.00</td><td class=\"text-right\">453.00</td><td class=\"text-right\">460.60</td><td class=\"text-right\">15,290</td><td><a href=\"javascript:void(0);\" onclick='addToWatchlist(\"UHEWA\");' title=\"Add to Watchlist\"><i class=\"icon-tags icon-white\"></i></a></td><td><a href=\"javascript:void(0);\" onclick='setAlert(\"UHEWA\");' title=\"Set as Alert\"><i class=\"icon-bell icon-white\"></i></a></td></tr>,\n",
       " <tr class=\"decrease-row\"><td><a href=\"/CompanyDetail.aspx?symbol=UIC\" target=\"_blank\" title=\"UIC (United Insurance Co. (Nepal) Ltd.)\">UIC</a></td><td class=\"text-right\">470.10</td><td class=\"text-right\">-0.19</td><td class=\"text-right\">480.00</td><td class=\"text-right\">462.00</td><td class=\"text-right\">465.00</td><td class=\"text-right\">17,855</td><td><a href=\"javascript:void(0);\" onclick='addToWatchlist(\"UIC\");' title=\"Add to Watchlist\"><i class=\"icon-tags icon-white\"></i></a></td><td><a href=\"javascript:void(0);\" onclick='setAlert(\"UIC\");' title=\"Set as Alert\"><i class=\"icon-bell icon-white\"></i></a></td></tr>,\n",
       " <tr class=\"increase-row\"><td><a href=\"/CompanyDetail.aspx?symbol=ULBSL\" target=\"_blank\" title=\"ULBSL (Upakar Laghubitta Bittiya Sanstha Limited)\">ULBSL</a></td><td class=\"text-right\">3,789.00</td><td class=\"text-right\">1.47</td><td class=\"text-right\">3,951.40</td><td class=\"text-right\">3,700.00</td><td class=\"text-right\">3,730.00</td><td class=\"text-right\">14,474</td><td><a href=\"javascript:void(0);\" onclick='addToWatchlist(\"ULBSL\");' title=\"Add to Watchlist\"><i class=\"icon-tags icon-white\"></i></a></td><td><a href=\"javascript:void(0);\" onclick='setAlert(\"ULBSL\");' title=\"Set as Alert\"><i class=\"icon-bell icon-white\"></i></a></td></tr>,\n",
       " <tr class=\"decrease-row\"><td><a href=\"/CompanyDetail.aspx?symbol=UMHL\" target=\"_blank\" title=\"UMHL (United Modi Hydropower Ltd.)\">UMHL</a></td><td class=\"text-right\">280.00</td><td class=\"text-right\">-1.51</td><td class=\"text-right\">285.00</td><td class=\"text-right\">277.00</td><td class=\"text-right\">280.00</td><td class=\"text-right\">89,657</td><td><a href=\"javascript:void(0);\" onclick='addToWatchlist(\"UMHL\");' title=\"Add to Watchlist\"><i class=\"icon-tags icon-white\"></i></a></td><td><a href=\"javascript:void(0);\" onclick='setAlert(\"UMHL\");' title=\"Set as Alert\"><i class=\"icon-bell icon-white\"></i></a></td></tr>,\n",
       " <tr class=\"increase-row\"><td><a href=\"/CompanyDetail.aspx?symbol=UMRH\" target=\"_blank\" title=\"UMRH (United IDI Mardi RB Hydropower Limited.)\">UMRH</a></td><td class=\"text-right\">590.00</td><td class=\"text-right\">7.08</td><td class=\"text-right\">590.00</td><td class=\"text-right\">530.00</td><td class=\"text-right\">550.00</td><td class=\"text-right\">33,807</td><td><a href=\"javascript:void(0);\" onclick='addToWatchlist(\"UMRH\");' title=\"Add to Watchlist\"><i class=\"icon-tags icon-white\"></i></a></td><td><a href=\"javascript:void(0);\" onclick='setAlert(\"UMRH\");' title=\"Set as Alert\"><i class=\"icon-bell icon-white\"></i></a></td></tr>,\n",
       " <tr class=\"decrease-row\"><td><a href=\"/CompanyDetail.aspx?symbol=UNHPL\" target=\"_blank\" title=\"UNHPL (Union Hydropower Limited)\">UNHPL</a></td><td class=\"text-right\">254.00</td><td class=\"text-right\">-0.39</td><td class=\"text-right\">260.10</td><td class=\"text-right\">246.00</td><td class=\"text-right\">250.00</td><td class=\"text-right\">77,233</td><td><a href=\"javascript:void(0);\" onclick='addToWatchlist(\"UNHPL\");' title=\"Add to Watchlist\"><i class=\"icon-tags icon-white\"></i></a></td><td><a href=\"javascript:void(0);\" onclick='setAlert(\"UNHPL\");' title=\"Set as Alert\"><i class=\"icon-bell icon-white\"></i></a></td></tr>,\n",
       " <tr class=\"increase-row\"><td><a href=\"/CompanyDetail.aspx?symbol=UNL\" target=\"_blank\" title=\"UNL (Unilever Nepal Limited)\">UNL</a></td><td class=\"text-right\">18,400.00</td><td class=\"text-right\">0.44</td><td class=\"text-right\">18,400.00</td><td class=\"text-right\">18,321.00</td><td class=\"text-right\">18,325.00</td><td class=\"text-right\">55</td><td><a href=\"javascript:void(0);\" onclick='addToWatchlist(\"UNL\");' title=\"Add to Watchlist\"><i class=\"icon-tags icon-white\"></i></a></td><td><a href=\"javascript:void(0);\" onclick='setAlert(\"UNL\");' title=\"Set as Alert\"><i class=\"icon-bell icon-white\"></i></a></td></tr>,\n",
       " <tr class=\"decrease-row\"><td><a href=\"/CompanyDetail.aspx?symbol=UPCL\" target=\"_blank\" title=\"UPCL (UNIVERSAL POWER COMPANY LTD)\">UPCL</a></td><td class=\"text-right\">262.30</td><td class=\"text-right\">-1.47</td><td class=\"text-right\">270.00</td><td class=\"text-right\">262.00</td><td class=\"text-right\">262.00</td><td class=\"text-right\">94,783</td><td><a href=\"javascript:void(0);\" onclick='addToWatchlist(\"UPCL\");' title=\"Add to Watchlist\"><i class=\"icon-tags icon-white\"></i></a></td><td><a href=\"javascript:void(0);\" onclick='setAlert(\"UPCL\");' title=\"Set as Alert\"><i class=\"icon-bell icon-white\"></i></a></td></tr>,\n",
       " <tr class=\"decrease-row\"><td><a href=\"/CompanyDetail.aspx?symbol=UPPER\" target=\"_blank\" title=\"UPPER (Upper Tamakoshi Hydropower Ltd)\">UPPER</a></td><td class=\"text-right\">537.00</td><td class=\"text-right\">-2.13</td><td class=\"text-right\">549.90</td><td class=\"text-right\">535.10</td><td class=\"text-right\">548.70</td><td class=\"text-right\">97,998</td><td><a href=\"javascript:void(0);\" onclick='addToWatchlist(\"UPPER\");' title=\"Add to Watchlist\"><i class=\"icon-tags icon-white\"></i></a></td><td><a href=\"javascript:void(0);\" onclick='setAlert(\"UPPER\");' title=\"Set as Alert\"><i class=\"icon-bell icon-white\"></i></a></td></tr>,\n",
       " <tr class=\"decrease-row\"><td><a href=\"/CompanyDetail.aspx?symbol=USHEC\" target=\"_blank\" title=\"USHEC (Upper Solu Hydro Electric Company Limited )\">USHEC</a></td><td class=\"text-right\">382.00</td><td class=\"text-right\">-2.3</td><td class=\"text-right\">392.80</td><td class=\"text-right\">376.10</td><td class=\"text-right\">383.20</td><td class=\"text-right\">20,627</td><td><a href=\"javascript:void(0);\" onclick='addToWatchlist(\"USHEC\");' title=\"Add to Watchlist\"><i class=\"icon-tags icon-white\"></i></a></td><td><a href=\"javascript:void(0);\" onclick='setAlert(\"USHEC\");' title=\"Set as Alert\"><i class=\"icon-bell icon-white\"></i></a></td></tr>,\n",
       " <tr class=\"decrease-row\"><td><a href=\"/CompanyDetail.aspx?symbol=USLB\" target=\"_blank\" title=\"USLB (Unnati Sahakarya Laghubitta Bittiya Sanstha Limited)\">USLB</a></td><td class=\"text-right\">983.90</td><td class=\"text-right\">-0.01</td><td class=\"text-right\">984.00</td><td class=\"text-right\">980.00</td><td class=\"text-right\">984.00</td><td class=\"text-right\">360</td><td><a href=\"javascript:void(0);\" onclick='addToWatchlist(\"USLB\");' title=\"Add to Watchlist\"><i class=\"icon-tags icon-white\"></i></a></td><td><a href=\"javascript:void(0);\" onclick='setAlert(\"USLB\");' title=\"Set as Alert\"><i class=\"icon-bell icon-white\"></i></a></td></tr>,\n",
       " <tr class=\"decrease-row\"><td><a href=\"/CompanyDetail.aspx?symbol=VLBS\" target=\"_blank\" title=\"VLBS (Vijaya laghubitta Bittiya Sanstha Ltd.)\">VLBS</a></td><td class=\"text-right\">953.10</td><td class=\"text-right\">-2.74</td><td class=\"text-right\">978.00</td><td class=\"text-right\">949.50</td><td class=\"text-right\">961.00</td><td class=\"text-right\">956</td><td><a href=\"javascript:void(0);\" onclick='addToWatchlist(\"VLBS\");' title=\"Add to Watchlist\"><i class=\"icon-tags icon-white\"></i></a></td><td><a href=\"javascript:void(0);\" onclick='setAlert(\"VLBS\");' title=\"Set as Alert\"><i class=\"icon-bell icon-white\"></i></a></td></tr>,\n",
       " <tr class=\"decrease-row\"><td><a href=\"/CompanyDetail.aspx?symbol=WNLB\" target=\"_blank\" title=\"WNLB (WEAN Nepal Laghubitta Bittiya Sanstha Limited)\">WNLB</a></td><td class=\"text-right\">1,030.10</td><td class=\"text-right\">-2.91</td><td class=\"text-right\">1,046.00</td><td class=\"text-right\">1,006.00</td><td class=\"text-right\">1,040.00</td><td class=\"text-right\">240</td><td><a href=\"javascript:void(0);\" onclick='addToWatchlist(\"WNLB\");' title=\"Add to Watchlist\"><i class=\"icon-tags icon-white\"></i></a></td><td><a href=\"javascript:void(0);\" onclick='setAlert(\"WNLB\");' title=\"Set as Alert\"><i class=\"icon-bell icon-white\"></i></a></td></tr>]"
      ]
     },
     "execution_count": 4,
     "metadata": {},
     "output_type": "execute_result"
    }
   ],
   "source": [
    "tags=table_code.find_all('tr')\n",
    "tags"
   ]
  },
  {
   "cell_type": "code",
   "execution_count": 5,
   "id": "2fcdb4cb",
   "metadata": {},
   "outputs": [
    {
     "name": "stdout",
     "output_type": "stream",
     "text": [
      "SymbolLTP% ChangeOpenHighLowQty.PCloseDiff.\n",
      "ACLBSL833.00-0.95854.00824.20854.001,126\n",
      "ADBL305.10-0.94310.00305.10308.0037,956\n",
      "ADBLD83890.000.45890.00890.00890.0010\n",
      "ADLB1,317.609.991,317.601,221.801,221.8090\n",
      "AHPC344.00-1.99352.00340.00344.0084,498\n",
      "AIL523.00-2.24544.00511.00524.3017,050\n",
      "AKBSL1,277.00-1.941,300.001,277.001,280.001,002\n",
      "AKJCL253.001.2258.00246.00247.00269,117\n",
      "AKPL420.00-1.64428.00416.30423.0076,745\n",
      "ALBSL1,037.00-0.771,040.001,003.701,024.101,474\n",
      "ALICL705.00-0.7722.00696.00696.0042,877\n",
      "API291.00-1.02297.00286.00289.00189,275\n",
      "AVYAN740.00-0.74760.00733.80745.504,200\n",
      "BARUN278.90-0.04284.00270.10284.0039,512\n",
      "BBC3,450.00-1.293,565.003,431.003,431.00215\n",
      "BFC358.00-1.62365.00354.00363.0016,455\n",
      "BHDC415.202.01426.00398.90407.0012,097\n",
      "BHL357.10-2.96367.90346.60360.7025,831\n",
      "BHPL534.8010534.80487.00495.9021,198\n",
      "BNHC434.10-1.32443.00422.60431.202,082\n",
      "BNT13,388.002.213,620.0013,172.0013,360.0090\n",
      "BOKD86765.000765.00765.00765.00165\n",
      "BPCL338.001.53343.50330.00330.0040,319\n",
      "CBBL1,203.00-0.661,212.001,199.001,209.0012,026\n",
      "CBL228.50-1.3232.00228.00229.1064,629\n",
      "CCBD88845.000845.00840.10840.1075\n",
      "CFCL341.00-2.57350.20338.10345.0020,107\n",
      "CGH1,350.00-1.961,379.901,324.001,351.006,899\n",
      "CHCL460.005.02467.00427.00438.0099,840\n",
      "CHDC795.00-1.73815.00783.00815.0021,806\n",
      "CHL323.00-2.12331.00322.00328.0025,825\n",
      "CIT2,102.00-1.642,150.002,095.002,102.007,485\n",
      "CLBSL901.60-6.08960.00901.60940.805,613\n",
      "CMF19.081.459.088.808.8031,135\n",
      "CMF28.75-1.358.758.618.7516,933\n",
      "CORBL323.00-2.42333.30320.00326.005,052\n",
      "CYCL1,895.000.251,905.001,863.001,863.00982\n",
      "CZBIL194.40-1.32198.00194.30196.0040,999\n",
      "DDBL981.10-0.29995.00976.00984.009,939\n",
      "DHPL248.00-0.8253.00240.10245.0026,852\n",
      "DLBS1,369.900.361,369.901,345.001,345.001,215\n",
      "DORDI325.00-0.31335.00316.00320.0034,838\n",
      "EBL518.00-0.13525.00512.20519.0025,712\n",
      "EDBL345.00-2.54359.90342.50350.0018,104\n",
      "EHPL451.509.99451.50397.00402.3016,338\n",
      "ENL681.00-1.3694.00676.20676.201,114\n",
      "FMDBL685.00-1.31705.00684.00691.0019,342\n",
      "FOWAD1,915.00-1.141,934.001,900.001,902.003,321\n",
      "GBBL368.20-1.29377.00365.70373.0030,204\n",
      "GBD80/81953.40-0.69953.40953.40953.4010\n",
      "GBILD86/87750.000750.00750.00750.00100\n",
      "GBLBS636.00-0.62652.80635.00635.002,580\n",
      "GFCL511.80-0.45520.00505.00505.108,768\n",
      "GHL297.00-0.34305.00287.00292.1099,212\n",
      "GIBF18.430.368.578.418.416,000\n",
      "GILB1,183.000.171,198.001,160.001,166.00520\n",
      "GIMES110.15010.159.959.9536,491\n",
      "GLBSL865.001.45865.00825.00836.20296\n",
      "GLH337.00-5.07356.00335.00347.9039,336\n",
      "GMFBS875.00-4.68899.70852.20899.703,225\n",
      "GMFIL370.00-0.48378.00365.00370.0011,635\n",
      "GRDBL284.00-0.7295.00280.40280.404,729\n",
      "GUFL583.00-2.83598.00581.00588.8034,963\n",
      "GVL467.00-4.3488.00459.50488.0065,442\n",
      "HBL306.00-0.65310.00303.10304.0012,986\n",
      "HDHPC248.00-2.36255.30245.20254.00261,267\n",
      "HDL2,648.00-1.012,693.002,615.002,660.0016,072\n",
      "HEI460.00-2.11476.90460.00461.0049,437\n",
      "HEIP319.00-3.3326.00310.70323.4010,230\n",
      "HHL307.00-0.03311.00295.00308.0037,312\n",
      "HIDCL209.00-1.42215.00208.00212.00151,096\n",
      "HIDCLP108.00-6.09114.00106.20112.70508,443\n",
      "HPPL348.00-1.14361.00344.00359.0061,460\n",
      "HURJA410.000443.40406.00418.00221,609\n",
      "ICFC479.80-1.28488.00471.00483.0028,819\n",
      "IGI516.006.39525.90480.00480.00198,658\n",
      "ILBS1,005.00-1.081,014.00995.70996.001,285\n",
      "JALPA3,435.000.823,462.003,393.003,420.001,642\n",
      "JBBL304.20-1.87311.00304.00305.4043,287\n",
      "JBLB2,850.000.182,875.002,845.002,846.005,044\n",
      "JFL416.70-2.39429.00416.10419.009,595\n",
      "JOSHI263.904.31272.00248.00250.00122,581\n",
      "JSLBB1,616.00-1.821,670.001,581.801,614.001,051\n",
      "KBL195.00-1.07199.00194.00197.00172,680\n",
      "KBLD86864.40-3.96882.00864.40882.00200\n",
      "KDBY8.781.158.898.518.515,700\n",
      "KEF9.0009.108.718.8217,501\n",
      "KKHC257.00-1.91264.10253.90262.0015,345\n",
      "KLBS1,384.00-0.441,397.001,370.001,370.20950\n",
      "KLBSL862.000877.00862.00865.00128\n",
      "KMCDB1,020.00-3.231,050.001,015.001,050.001,489\n",
      "KPCL392.00-1.75402.00390.00400.004,457\n",
      "KRBL299.00-2.86304.50298.00301.7013,271\n",
      "KSBBL335.30-1.09345.00333.00338.0040,166\n",
      "LBBL366.20-2.84384.40366.00384.4032,567\n",
      "LBL199.30-0.25202.00198.60200.0024,005\n",
      "LEC296.00-2.92303.00290.00300.0028,402\n",
      "LEMF9.601.059.609.429.5042,650\n",
      "LGIL462.2010462.20428.60428.60907\n",
      "LICN1,539.30-0.631,574.901,519.001,574.9010,343\n",
      "LLBS1,171.001.121,179.001,135.201,135.201,030\n",
      "LUK8.72-1.88.738.728.7312,110\n",
      "MBJC326.000.62332.00315.10320.0056,892\n",
      "MBL243.00-0.82249.00242.00249.0019,087\n",
      "MDB395.00-2.47413.00395.00409.9010,292\n",
      "MEN812.00-0.98825.00787.60803.601,393\n",
      "MERO772.50-1.47779.00757.20769.001,661\n",
      "MFIL488.00-0.71506.00487.00491.0034,460\n",
      "MHL394.00-0.25398.00379.40387.1016,850\n",
      "MHNL337.00-2.01343.00333.00338.1038,355\n",
      "MKJC487.90-1.87497.00481.00490.008,276\n",
      "MKLB890.00-2.57901.00888.00898.10545\n",
      "MLBBL1,103.00-1.341,139.001,101.001,139.00972\n",
      "MLBL347.50-1.84355.00347.30352.0042,047\n",
      "MLBS1,050.20-3.211,080.501,045.001,080.50330\n",
      "MLBSL4,103.00-1.134,140.004,071.004,081.00696\n",
      "MMF17.90-2.598.007.807.957,830\n",
      "MMFDB830.00-0.02850.00825.00826.001,725\n",
      "MNBBL412.00-1.13420.00411.00415.0025,550\n",
      "MPFL347.00-2.75354.90345.10350.0012,865\n",
      "MSLB1,214.00-0.981,220.001,212.001,220.0078\n",
      "NABBC468.900.95468.90441.00458.0021,898\n",
      "NABIL702.50-0.44709.00701.10707.0057,268\n",
      "NADEP786.00-2.24800.00782.00790.007,696\n",
      "NBF29.00-0.889.109.009.0012,580\n",
      "NBF37.90-1.257.957.707.8419,808\n",
      "NBL274.00-0.47279.90273.10275.3042,044\n",
      "NBLD87740.000.07754.20740.00754.2080\n",
      "NEF9.050.569.108.998.9930,455\n",
      "NESDO3,380.001.473,420.003,264.403,264.4012,481\n",
      "NFS316.80-3.71328.00313.60323.0059,180\n",
      "NGPL300.10-1.93308.90298.00305.00168,621\n",
      "NHDL395.00-0.5401.90387.00394.108,965\n",
      "NHPC268.60-2.33277.00266.30270.00141,177\n",
      "NIBD2082905.200.52906.00905.20906.0040\n",
      "NIBD84776.000776.00776.00776.0050\n",
      "NIBLPF8.93-3.259.058.879.0536,613\n",
      "NIBSF27.87-1.998.357.767.8714,150\n",
      "NICA826.000.24833.60820.00823.0086,314\n",
      "NICAD8283928.40-0.71928.60927.50927.50420\n",
      "NICBF9.060.119.209.019.013,900\n",
      "NICD83/84878.000.8878.00878.00878.0010\n",
      "NICFC8.42-0.948.428.258.333,100\n",
      "NICGF9.7309.769.739.7343,200\n",
      "NICL505.001.2514.00490.30500.0030,582\n",
      "NICLBSL805.00-2.19823.00805.00806.906,204\n",
      "NICSF8.15-2.288.368.158.2037,089\n",
      "NIFRA235.00-2.08242.80235.00241.00131,466\n",
      "NIL790.00-0.5795.00780.00780.008,245\n",
      "NLBBL1,020.00-0.971,040.001,017.101,034.8011,239\n",
      "NLG710.000718.00696.00700.0013,502\n",
      "NLIC755.00-1.18769.80748.00767.0087,517\n",
      "NLICL644.00-1.38658.90640.00642.1029,381\n",
      "NMB243.00-0.82245.00240.00245.0041,562\n",
      "NMB509.97-1.9710.109.9710.091,900\n",
      "NMBD87/88980.00-2980.00980.00980.0025\n",
      "NMBHF19.910.19.939.919.9240,964\n",
      "NMBMF760.00-1.3775.00749.00765.002,288\n",
      "NMBPO134.000134.00134.00134.009,761\n",
      "NMFBS2,289.00-0.952,330.002,280.002,330.008,487\n",
      "NRIC838.00-1.99855.00831.00850.0034,960\n",
      "NRN519.00-2.63532.00518.50522.4011,015\n",
      "NSLB925.00-1.16948.60921.00921.00466\n",
      "NTC852.00-1.5882.00851.00882.0042,494\n",
      "NUBL998.00-0.71,010.00990.001,000.004,210\n",
      "NYADI355.003.2358.00331.40344.0019,300\n",
      "OHL555.100.93570.00539.10539.2012,398\n",
      "PBD85770.000.65770.00770.00770.0025\n",
      "PBD88825.00-1.9840.00825.00825.00279\n",
      "PBLD84866.00-0.46870.00853.10870.00194\n",
      "PCBL222.90-0.4228.20218.90228.2053,496\n",
      "PFL412.60-1.1425.00410.00419.0030,234\n",
      "PHCL361.80-2.22374.00355.40362.6057,465\n",
      "PIC665.200.03678.00657.00670.009,396\n",
      "PICL480.000.21485.00472.00480.0033,920\n",
      "PLI527.002.63536.30497.00507.0023,931\n",
      "PMHPL272.50-2.68284.00272.50280.0016,349\n",
      "PPCL377.00-2.33385.00375.00384.0036,149\n",
      "PPL315.10-3.05328.00309.00325.0025,826\n",
      "PRIN598.00-0.17612.00587.10599.008,779\n",
      "PROFL348.00-3.33367.00348.00358.0014,761\n",
      "PRVU200.50-0.99204.30200.00202.0050,286\n",
      "PSF8.36-0.488.518.308.3014,300\n",
      "RADHI270.60-1.64278.00265.00269.7050,549\n",
      "RBCL13,800.00-0.7213,969.9013,800.0013,900.00278\n",
      "RBCLPO11,852.00-2.8512,011.0011,800.0011,999.00610\n",
      "RFPL320.003.9325.00295.10302.0054,004\n",
      "RHGCL310.00-0.96319.20300.10319.2037,323\n",
      "RHPL329.800.24337.90323.00324.0074,735\n",
      "RIDI565.00-0.53579.00563.10579.00109,072\n",
      "RLFL344.00-2.27355.00341.00345.1019,550\n",
      "RLI457.801.06459.90446.10455.009,493\n",
      "RMDC1,076.00-0.381,098.801,076.001,098.808,138\n",
      "RMF17.944.477.947.457.4527,375\n",
      "RSDC636.00-0.62639.00628.10628.204,381\n",
      "RULB945.00-3.28977.00945.00957.501,593\n",
      "RURU773.00-1.53785.00770.00771.501,918\n",
      "SABSL1,008.00-1.181,020.00990.001,005.001,716\n",
      "SADBL340.00-1.25344.90331.30337.5029,948\n",
      "SAEF11.12011.1311.0311.1225,095\n",
      "SAHAS608.101.52616.00577.30588.0061,546\n",
      "SANIMA260.800.69265.00259.00259.0063,662\n",
      "SAPDBL260.10-3.42274.00260.10264.0020,826\n",
      "SBCF8.50-1.968.658.508.50150,636\n",
      "SBD87765.000765.00765.00765.00110\n",
      "SBI331.00-4.06344.00329.00343.9045,986\n",
      "SBID83880.100.01880.10880.10880.1025\n",
      "SBL294.00-0.68297.80293.00297.0037,470\n",
      "SBLD2082920.000920.00920.00920.0050\n",
      "SBLD84790.000.38790.00790.00790.0025\n",
      "SBLPO171.500171.50171.50171.5046,869\n",
      "SCB500.00-0.6510.00497.00507.0040,164\n",
      "SDBD87780.000780.00780.00780.00200\n",
      "SDLBSL900.00-1.64910.00900.00902.00784\n",
      "SEF8.77-3.639.008.758.928,720\n",
      "SFCL324.00-6.09343.70323.50340.1095,677\n",
      "SFMF10.22010.4210.0210.021,700\n",
      "SGHC411.609.67411.60358.00367.8029,501\n",
      "SGIC498.000.61514.00476.00485.1023,218\n",
      "SHEL352.00-2.79363.00350.00360.0016,621\n",
      "SHINE355.00-1.11360.30351.90352.0042,126\n",
      "SHIVM525.00-0.38534.00521.00525.0094,868\n",
      "SHL233.900.39235.00225.40230.0029,133\n",
      "SHLB2,359.00-0.252,404.002,353.502,355.003,435\n",
      "SHPC338.00-0.29345.00330.00333.0055,667\n",
      "SIC870.00-4.4930.00870.00928.2015,844\n",
      "SICL947.20-1.33960.00940.00941.0019,240\n",
      "SIFC346.30-3.54359.00345.10352.3010,981\n",
      "SIGS28.80-2.658.868.778.863,700\n",
      "SIKLES487.000.41487.50460.90477.0020,670\n",
      "SIL660.001.06693.90640.10640.105,818\n",
      "SINDU296.00-1.99303.00295.00296.006,030\n",
      "SJCL331.00-3.22344.90327.70336.0050,441\n",
      "SJLIC494.409.99494.40458.40458.401,815\n",
      "SKBBL1,266.00-0.711,285.901,263.001,275.004,864\n",
      "SLBBL1,034.00-0.31,036.001,018.001,036.004,068\n",
      "SLBSL1,258.00-0.481,283.001,258.001,283.00134\n",
      "SLCF8.21-2.498.408.208.2657,080\n",
      "SLI452.00-0.24464.00442.00453.1013,927\n",
      "SMATA844.00-2.43858.80840.00848.001,179\n",
      "SMB1,264.00-1.941,265.001,264.001,265.0056\n",
      "SMFBS1,550.002.991,550.001,525.001,535.00531\n",
      "SMFDB1,324.00-1.341,334.001,312.101,320.002,587\n",
      "SPC497.004.63500.00465.00466.0018,719\n",
      "SPDL338.500.59349.80330.00333.0057,277\n",
      "SPHL483.009.8483.80420.00431.2022,851\n",
      "SRBL197.00-0.25200.00195.00197.5015,774\n",
      "SRBLD83900.00-1.59900.00900.00900.0020\n",
      "SSHL262.00-2.6270.00260.70264.00142,089\n",
      "STC4,670.00-0.344,685.004,593.004,593.001,284\n",
      "SWBBL1,180.20-0.661,191.901,180.001,181.001,817\n",
      "SWMF914.00-5.28952.00914.00946.0011,867\n",
      "TPC439.001.86451.90421.50430.0010,930\n",
      "TRH507.004.32507.00469.00476.3067,776\n",
      "UHEWA470.000480.00453.00460.6015,290\n",
      "UIC470.10-0.19480.00462.00465.0017,855\n",
      "ULBSL3,789.001.473,951.403,700.003,730.0014,474\n",
      "UMHL280.00-1.51285.00277.00280.0089,657\n",
      "UMRH590.007.08590.00530.00550.0033,807\n",
      "UNHPL254.00-0.39260.10246.00250.0077,233\n",
      "UNL18,400.000.4418,400.0018,321.0018,325.0055\n",
      "UPCL262.30-1.47270.00262.00262.0094,783\n",
      "UPPER537.00-2.13549.90535.10548.7097,998\n",
      "USHEC382.00-2.3392.80376.10383.2020,627\n",
      "USLB983.90-0.01984.00980.00984.00360\n",
      "VLBS953.10-2.74978.00949.50961.00956\n",
      "WNLB1,030.10-2.911,046.001,006.001,040.00240\n"
     ]
    }
   ],
   "source": [
    "raw_data=[]\n",
    "for tag in tags:\n",
    "    raw_data=print(tag.text)"
   ]
  },
  {
   "cell_type": "code",
   "execution_count": 6,
   "id": "ac9585cf",
   "metadata": {},
   "outputs": [
    {
     "data": {
      "text/plain": [
       "[['SymbolLTP% ChangeOpenHighLowQty.PCloseDiff.'],\n",
       " ['ACLBSL833.00-0.95854.00824.20854.001,126'],\n",
       " ['ADBL305.10-0.94310.00305.10308.0037,956'],\n",
       " ['ADBLD83890.000.45890.00890.00890.0010'],\n",
       " ['ADLB1,317.609.991,317.601,221.801,221.8090'],\n",
       " ['AHPC344.00-1.99352.00340.00344.0084,498'],\n",
       " ['AIL523.00-2.24544.00511.00524.3017,050'],\n",
       " ['AKBSL1,277.00-1.941,300.001,277.001,280.001,002'],\n",
       " ['AKJCL253.001.2258.00246.00247.00269,117'],\n",
       " ['AKPL420.00-1.64428.00416.30423.0076,745'],\n",
       " ['ALBSL1,037.00-0.771,040.001,003.701,024.101,474'],\n",
       " ['ALICL705.00-0.7722.00696.00696.0042,877'],\n",
       " ['API291.00-1.02297.00286.00289.00189,275'],\n",
       " ['AVYAN740.00-0.74760.00733.80745.504,200'],\n",
       " ['BARUN278.90-0.04284.00270.10284.0039,512'],\n",
       " ['BBC3,450.00-1.293,565.003,431.003,431.00215'],\n",
       " ['BFC358.00-1.62365.00354.00363.0016,455'],\n",
       " ['BHDC415.202.01426.00398.90407.0012,097'],\n",
       " ['BHL357.10-2.96367.90346.60360.7025,831'],\n",
       " ['BHPL534.8010534.80487.00495.9021,198'],\n",
       " ['BNHC434.10-1.32443.00422.60431.202,082'],\n",
       " ['BNT13,388.002.213,620.0013,172.0013,360.0090'],\n",
       " ['BOKD86765.000765.00765.00765.00165'],\n",
       " ['BPCL338.001.53343.50330.00330.0040,319'],\n",
       " ['CBBL1,203.00-0.661,212.001,199.001,209.0012,026'],\n",
       " ['CBL228.50-1.3232.00228.00229.1064,629'],\n",
       " ['CCBD88845.000845.00840.10840.1075'],\n",
       " ['CFCL341.00-2.57350.20338.10345.0020,107'],\n",
       " ['CGH1,350.00-1.961,379.901,324.001,351.006,899'],\n",
       " ['CHCL460.005.02467.00427.00438.0099,840'],\n",
       " ['CHDC795.00-1.73815.00783.00815.0021,806'],\n",
       " ['CHL323.00-2.12331.00322.00328.0025,825'],\n",
       " ['CIT2,102.00-1.642,150.002,095.002,102.007,485'],\n",
       " ['CLBSL901.60-6.08960.00901.60940.805,613'],\n",
       " ['CMF19.081.459.088.808.8031,135'],\n",
       " ['CMF28.75-1.358.758.618.7516,933'],\n",
       " ['CORBL323.00-2.42333.30320.00326.005,052'],\n",
       " ['CYCL1,895.000.251,905.001,863.001,863.00982'],\n",
       " ['CZBIL194.40-1.32198.00194.30196.0040,999'],\n",
       " ['DDBL981.10-0.29995.00976.00984.009,939'],\n",
       " ['DHPL248.00-0.8253.00240.10245.0026,852'],\n",
       " ['DLBS1,369.900.361,369.901,345.001,345.001,215'],\n",
       " ['DORDI325.00-0.31335.00316.00320.0034,838'],\n",
       " ['EBL518.00-0.13525.00512.20519.0025,712'],\n",
       " ['EDBL345.00-2.54359.90342.50350.0018,104'],\n",
       " ['EHPL451.509.99451.50397.00402.3016,338'],\n",
       " ['ENL681.00-1.3694.00676.20676.201,114'],\n",
       " ['FMDBL685.00-1.31705.00684.00691.0019,342'],\n",
       " ['FOWAD1,915.00-1.141,934.001,900.001,902.003,321'],\n",
       " ['GBBL368.20-1.29377.00365.70373.0030,204'],\n",
       " ['GBD80/81953.40-0.69953.40953.40953.4010'],\n",
       " ['GBILD86/87750.000750.00750.00750.00100'],\n",
       " ['GBLBS636.00-0.62652.80635.00635.002,580'],\n",
       " ['GFCL511.80-0.45520.00505.00505.108,768'],\n",
       " ['GHL297.00-0.34305.00287.00292.1099,212'],\n",
       " ['GIBF18.430.368.578.418.416,000'],\n",
       " ['GILB1,183.000.171,198.001,160.001,166.00520'],\n",
       " ['GIMES110.15010.159.959.9536,491'],\n",
       " ['GLBSL865.001.45865.00825.00836.20296'],\n",
       " ['GLH337.00-5.07356.00335.00347.9039,336'],\n",
       " ['GMFBS875.00-4.68899.70852.20899.703,225'],\n",
       " ['GMFIL370.00-0.48378.00365.00370.0011,635'],\n",
       " ['GRDBL284.00-0.7295.00280.40280.404,729'],\n",
       " ['GUFL583.00-2.83598.00581.00588.8034,963'],\n",
       " ['GVL467.00-4.3488.00459.50488.0065,442'],\n",
       " ['HBL306.00-0.65310.00303.10304.0012,986'],\n",
       " ['HDHPC248.00-2.36255.30245.20254.00261,267'],\n",
       " ['HDL2,648.00-1.012,693.002,615.002,660.0016,072'],\n",
       " ['HEI460.00-2.11476.90460.00461.0049,437'],\n",
       " ['HEIP319.00-3.3326.00310.70323.4010,230'],\n",
       " ['HHL307.00-0.03311.00295.00308.0037,312'],\n",
       " ['HIDCL209.00-1.42215.00208.00212.00151,096'],\n",
       " ['HIDCLP108.00-6.09114.00106.20112.70508,443'],\n",
       " ['HPPL348.00-1.14361.00344.00359.0061,460'],\n",
       " ['HURJA410.000443.40406.00418.00221,609'],\n",
       " ['ICFC479.80-1.28488.00471.00483.0028,819'],\n",
       " ['IGI516.006.39525.90480.00480.00198,658'],\n",
       " ['ILBS1,005.00-1.081,014.00995.70996.001,285'],\n",
       " ['JALPA3,435.000.823,462.003,393.003,420.001,642'],\n",
       " ['JBBL304.20-1.87311.00304.00305.4043,287'],\n",
       " ['JBLB2,850.000.182,875.002,845.002,846.005,044'],\n",
       " ['JFL416.70-2.39429.00416.10419.009,595'],\n",
       " ['JOSHI263.904.31272.00248.00250.00122,581'],\n",
       " ['JSLBB1,616.00-1.821,670.001,581.801,614.001,051'],\n",
       " ['KBL195.00-1.07199.00194.00197.00172,680'],\n",
       " ['KBLD86864.40-3.96882.00864.40882.00200'],\n",
       " ['KDBY8.781.158.898.518.515,700'],\n",
       " ['KEF9.0009.108.718.8217,501'],\n",
       " ['KKHC257.00-1.91264.10253.90262.0015,345'],\n",
       " ['KLBS1,384.00-0.441,397.001,370.001,370.20950'],\n",
       " ['KLBSL862.000877.00862.00865.00128'],\n",
       " ['KMCDB1,020.00-3.231,050.001,015.001,050.001,489'],\n",
       " ['KPCL392.00-1.75402.00390.00400.004,457'],\n",
       " ['KRBL299.00-2.86304.50298.00301.7013,271'],\n",
       " ['KSBBL335.30-1.09345.00333.00338.0040,166'],\n",
       " ['LBBL366.20-2.84384.40366.00384.4032,567'],\n",
       " ['LBL199.30-0.25202.00198.60200.0024,005'],\n",
       " ['LEC296.00-2.92303.00290.00300.0028,402'],\n",
       " ['LEMF9.601.059.609.429.5042,650'],\n",
       " ['LGIL462.2010462.20428.60428.60907'],\n",
       " ['LICN1,539.30-0.631,574.901,519.001,574.9010,343'],\n",
       " ['LLBS1,171.001.121,179.001,135.201,135.201,030'],\n",
       " ['LUK8.72-1.88.738.728.7312,110'],\n",
       " ['MBJC326.000.62332.00315.10320.0056,892'],\n",
       " ['MBL243.00-0.82249.00242.00249.0019,087'],\n",
       " ['MDB395.00-2.47413.00395.00409.9010,292'],\n",
       " ['MEN812.00-0.98825.00787.60803.601,393'],\n",
       " ['MERO772.50-1.47779.00757.20769.001,661'],\n",
       " ['MFIL488.00-0.71506.00487.00491.0034,460'],\n",
       " ['MHL394.00-0.25398.00379.40387.1016,850'],\n",
       " ['MHNL337.00-2.01343.00333.00338.1038,355'],\n",
       " ['MKJC487.90-1.87497.00481.00490.008,276'],\n",
       " ['MKLB890.00-2.57901.00888.00898.10545'],\n",
       " ['MLBBL1,103.00-1.341,139.001,101.001,139.00972'],\n",
       " ['MLBL347.50-1.84355.00347.30352.0042,047'],\n",
       " ['MLBS1,050.20-3.211,080.501,045.001,080.50330'],\n",
       " ['MLBSL4,103.00-1.134,140.004,071.004,081.00696'],\n",
       " ['MMF17.90-2.598.007.807.957,830'],\n",
       " ['MMFDB830.00-0.02850.00825.00826.001,725'],\n",
       " ['MNBBL412.00-1.13420.00411.00415.0025,550'],\n",
       " ['MPFL347.00-2.75354.90345.10350.0012,865'],\n",
       " ['MSLB1,214.00-0.981,220.001,212.001,220.0078'],\n",
       " ['NABBC468.900.95468.90441.00458.0021,898'],\n",
       " ['NABIL702.50-0.44709.00701.10707.0057,268'],\n",
       " ['NADEP786.00-2.24800.00782.00790.007,696'],\n",
       " ['NBF29.00-0.889.109.009.0012,580'],\n",
       " ['NBF37.90-1.257.957.707.8419,808'],\n",
       " ['NBL274.00-0.47279.90273.10275.3042,044'],\n",
       " ['NBLD87740.000.07754.20740.00754.2080'],\n",
       " ['NEF9.050.569.108.998.9930,455'],\n",
       " ['NESDO3,380.001.473,420.003,264.403,264.4012,481'],\n",
       " ['NFS316.80-3.71328.00313.60323.0059,180'],\n",
       " ['NGPL300.10-1.93308.90298.00305.00168,621'],\n",
       " ['NHDL395.00-0.5401.90387.00394.108,965'],\n",
       " ['NHPC268.60-2.33277.00266.30270.00141,177'],\n",
       " ['NIBD2082905.200.52906.00905.20906.0040'],\n",
       " ['NIBD84776.000776.00776.00776.0050'],\n",
       " ['NIBLPF8.93-3.259.058.879.0536,613'],\n",
       " ['NIBSF27.87-1.998.357.767.8714,150'],\n",
       " ['NICA826.000.24833.60820.00823.0086,314'],\n",
       " ['NICAD8283928.40-0.71928.60927.50927.50420'],\n",
       " ['NICBF9.060.119.209.019.013,900'],\n",
       " ['NICD83/84878.000.8878.00878.00878.0010'],\n",
       " ['NICFC8.42-0.948.428.258.333,100'],\n",
       " ['NICGF9.7309.769.739.7343,200'],\n",
       " ['NICL505.001.2514.00490.30500.0030,582'],\n",
       " ['NICLBSL805.00-2.19823.00805.00806.906,204'],\n",
       " ['NICSF8.15-2.288.368.158.2037,089'],\n",
       " ['NIFRA235.00-2.08242.80235.00241.00131,466'],\n",
       " ['NIL790.00-0.5795.00780.00780.008,245'],\n",
       " ['NLBBL1,020.00-0.971,040.001,017.101,034.8011,239'],\n",
       " ['NLG710.000718.00696.00700.0013,502'],\n",
       " ['NLIC755.00-1.18769.80748.00767.0087,517'],\n",
       " ['NLICL644.00-1.38658.90640.00642.1029,381'],\n",
       " ['NMB243.00-0.82245.00240.00245.0041,562'],\n",
       " ['NMB509.97-1.9710.109.9710.091,900'],\n",
       " ['NMBD87/88980.00-2980.00980.00980.0025'],\n",
       " ['NMBHF19.910.19.939.919.9240,964'],\n",
       " ['NMBMF760.00-1.3775.00749.00765.002,288'],\n",
       " ['NMBPO134.000134.00134.00134.009,761'],\n",
       " ['NMFBS2,289.00-0.952,330.002,280.002,330.008,487'],\n",
       " ['NRIC838.00-1.99855.00831.00850.0034,960'],\n",
       " ['NRN519.00-2.63532.00518.50522.4011,015'],\n",
       " ['NSLB925.00-1.16948.60921.00921.00466'],\n",
       " ['NTC852.00-1.5882.00851.00882.0042,494'],\n",
       " ['NUBL998.00-0.71,010.00990.001,000.004,210'],\n",
       " ['NYADI355.003.2358.00331.40344.0019,300'],\n",
       " ['OHL555.100.93570.00539.10539.2012,398'],\n",
       " ['PBD85770.000.65770.00770.00770.0025'],\n",
       " ['PBD88825.00-1.9840.00825.00825.00279'],\n",
       " ['PBLD84866.00-0.46870.00853.10870.00194'],\n",
       " ['PCBL222.90-0.4228.20218.90228.2053,496'],\n",
       " ['PFL412.60-1.1425.00410.00419.0030,234'],\n",
       " ['PHCL361.80-2.22374.00355.40362.6057,465'],\n",
       " ['PIC665.200.03678.00657.00670.009,396'],\n",
       " ['PICL480.000.21485.00472.00480.0033,920'],\n",
       " ['PLI527.002.63536.30497.00507.0023,931'],\n",
       " ['PMHPL272.50-2.68284.00272.50280.0016,349'],\n",
       " ['PPCL377.00-2.33385.00375.00384.0036,149'],\n",
       " ['PPL315.10-3.05328.00309.00325.0025,826'],\n",
       " ['PRIN598.00-0.17612.00587.10599.008,779'],\n",
       " ['PROFL348.00-3.33367.00348.00358.0014,761'],\n",
       " ['PRVU200.50-0.99204.30200.00202.0050,286'],\n",
       " ['PSF8.36-0.488.518.308.3014,300'],\n",
       " ['RADHI270.60-1.64278.00265.00269.7050,549'],\n",
       " ['RBCL13,800.00-0.7213,969.9013,800.0013,900.00278'],\n",
       " ['RBCLPO11,852.00-2.8512,011.0011,800.0011,999.00610'],\n",
       " ['RFPL320.003.9325.00295.10302.0054,004'],\n",
       " ['RHGCL310.00-0.96319.20300.10319.2037,323'],\n",
       " ['RHPL329.800.24337.90323.00324.0074,735'],\n",
       " ['RIDI565.00-0.53579.00563.10579.00109,072'],\n",
       " ['RLFL344.00-2.27355.00341.00345.1019,550'],\n",
       " ['RLI457.801.06459.90446.10455.009,493'],\n",
       " ['RMDC1,076.00-0.381,098.801,076.001,098.808,138'],\n",
       " ['RMF17.944.477.947.457.4527,375'],\n",
       " ['RSDC636.00-0.62639.00628.10628.204,381'],\n",
       " ['RULB945.00-3.28977.00945.00957.501,593'],\n",
       " ['RURU773.00-1.53785.00770.00771.501,918'],\n",
       " ['SABSL1,008.00-1.181,020.00990.001,005.001,716'],\n",
       " ['SADBL340.00-1.25344.90331.30337.5029,948'],\n",
       " ['SAEF11.12011.1311.0311.1225,095'],\n",
       " ['SAHAS608.101.52616.00577.30588.0061,546'],\n",
       " ['SANIMA260.800.69265.00259.00259.0063,662'],\n",
       " ['SAPDBL260.10-3.42274.00260.10264.0020,826'],\n",
       " ['SBCF8.50-1.968.658.508.50150,636'],\n",
       " ['SBD87765.000765.00765.00765.00110'],\n",
       " ['SBI331.00-4.06344.00329.00343.9045,986'],\n",
       " ['SBID83880.100.01880.10880.10880.1025'],\n",
       " ['SBL294.00-0.68297.80293.00297.0037,470'],\n",
       " ['SBLD2082920.000920.00920.00920.0050'],\n",
       " ['SBLD84790.000.38790.00790.00790.0025'],\n",
       " ['SBLPO171.500171.50171.50171.5046,869'],\n",
       " ['SCB500.00-0.6510.00497.00507.0040,164'],\n",
       " ['SDBD87780.000780.00780.00780.00200'],\n",
       " ['SDLBSL900.00-1.64910.00900.00902.00784'],\n",
       " ['SEF8.77-3.639.008.758.928,720'],\n",
       " ['SFCL324.00-6.09343.70323.50340.1095,677'],\n",
       " ['SFMF10.22010.4210.0210.021,700'],\n",
       " ['SGHC411.609.67411.60358.00367.8029,501'],\n",
       " ['SGIC498.000.61514.00476.00485.1023,218'],\n",
       " ['SHEL352.00-2.79363.00350.00360.0016,621'],\n",
       " ['SHINE355.00-1.11360.30351.90352.0042,126'],\n",
       " ['SHIVM525.00-0.38534.00521.00525.0094,868'],\n",
       " ['SHL233.900.39235.00225.40230.0029,133'],\n",
       " ['SHLB2,359.00-0.252,404.002,353.502,355.003,435'],\n",
       " ['SHPC338.00-0.29345.00330.00333.0055,667'],\n",
       " ['SIC870.00-4.4930.00870.00928.2015,844'],\n",
       " ['SICL947.20-1.33960.00940.00941.0019,240'],\n",
       " ['SIFC346.30-3.54359.00345.10352.3010,981'],\n",
       " ['SIGS28.80-2.658.868.778.863,700'],\n",
       " ['SIKLES487.000.41487.50460.90477.0020,670'],\n",
       " ['SIL660.001.06693.90640.10640.105,818'],\n",
       " ['SINDU296.00-1.99303.00295.00296.006,030'],\n",
       " ['SJCL331.00-3.22344.90327.70336.0050,441'],\n",
       " ['SJLIC494.409.99494.40458.40458.401,815'],\n",
       " ['SKBBL1,266.00-0.711,285.901,263.001,275.004,864'],\n",
       " ['SLBBL1,034.00-0.31,036.001,018.001,036.004,068'],\n",
       " ['SLBSL1,258.00-0.481,283.001,258.001,283.00134'],\n",
       " ['SLCF8.21-2.498.408.208.2657,080'],\n",
       " ['SLI452.00-0.24464.00442.00453.1013,927'],\n",
       " ['SMATA844.00-2.43858.80840.00848.001,179'],\n",
       " ['SMB1,264.00-1.941,265.001,264.001,265.0056'],\n",
       " ['SMFBS1,550.002.991,550.001,525.001,535.00531'],\n",
       " ['SMFDB1,324.00-1.341,334.001,312.101,320.002,587'],\n",
       " ['SPC497.004.63500.00465.00466.0018,719'],\n",
       " ['SPDL338.500.59349.80330.00333.0057,277'],\n",
       " ['SPHL483.009.8483.80420.00431.2022,851'],\n",
       " ['SRBL197.00-0.25200.00195.00197.5015,774'],\n",
       " ['SRBLD83900.00-1.59900.00900.00900.0020'],\n",
       " ['SSHL262.00-2.6270.00260.70264.00142,089'],\n",
       " ['STC4,670.00-0.344,685.004,593.004,593.001,284'],\n",
       " ['SWBBL1,180.20-0.661,191.901,180.001,181.001,817'],\n",
       " ['SWMF914.00-5.28952.00914.00946.0011,867'],\n",
       " ['TPC439.001.86451.90421.50430.0010,930'],\n",
       " ['TRH507.004.32507.00469.00476.3067,776'],\n",
       " ['UHEWA470.000480.00453.00460.6015,290'],\n",
       " ['UIC470.10-0.19480.00462.00465.0017,855'],\n",
       " ['ULBSL3,789.001.473,951.403,700.003,730.0014,474'],\n",
       " ['UMHL280.00-1.51285.00277.00280.0089,657'],\n",
       " ['UMRH590.007.08590.00530.00550.0033,807'],\n",
       " ['UNHPL254.00-0.39260.10246.00250.0077,233'],\n",
       " ['UNL18,400.000.4418,400.0018,321.0018,325.0055'],\n",
       " ['UPCL262.30-1.47270.00262.00262.0094,783'],\n",
       " ['UPPER537.00-2.13549.90535.10548.7097,998'],\n",
       " ['USHEC382.00-2.3392.80376.10383.2020,627'],\n",
       " ['USLB983.90-0.01984.00980.00984.00360'],\n",
       " ['VLBS953.10-2.74978.00949.50961.00956'],\n",
       " ['WNLB1,030.10-2.911,046.001,006.001,040.00240']]"
      ]
     },
     "execution_count": 6,
     "metadata": {},
     "output_type": "execute_result"
    }
   ],
   "source": [
    "raw_data=[]\n",
    "for tag in tags:\n",
    "    raw_data.append(tag.text.split(' \\n'))\n",
    "\n",
    "raw_data"
   ]
  },
  {
   "cell_type": "code",
   "execution_count": 7,
   "id": "7d2d1319",
   "metadata": {},
   "outputs": [],
   "source": [
    "# raw_data=[]\n",
    "# for row in table_code.find_all('tr'):\n",
    "#     columns = row.find_all('th') \n",
    "#     columns = row.find_all('td') \n",
    "#     columns = [col.text.strip() for col in columns]\n",
    "#     raw_data.append(columns)\n",
    "# raw_data"
   ]
  },
  {
   "cell_type": "code",
   "execution_count": 10,
   "id": "e715e4da",
   "metadata": {},
   "outputs": [
    {
     "name": "stdout",
     "output_type": "stream",
     "text": [
      "{'Symbol': 'ACLBSL', 'LTP': '833.00', '% Change': '-0.95', 'Open': '854.00', 'High': '824.20', 'Low': '854.00', 'Qty.': '1,126', 'PClose': '', 'Diff.': ''}\n",
      "{'Symbol': 'ADBL', 'LTP': '305.10', '% Change': '-0.94', 'Open': '310.00', 'High': '305.10', 'Low': '308.00', 'Qty.': '37,956', 'PClose': '', 'Diff.': ''}\n",
      "{'Symbol': 'ADBLD83', 'LTP': '890.00', '% Change': '0.45', 'Open': '890.00', 'High': '890.00', 'Low': '890.00', 'Qty.': '10', 'PClose': '', 'Diff.': ''}\n",
      "{'Symbol': 'ADLB', 'LTP': '1,317.60', '% Change': '9.99', 'Open': '1,317.60', 'High': '1,221.80', 'Low': '1,221.80', 'Qty.': '90', 'PClose': '', 'Diff.': ''}\n",
      "{'Symbol': 'AHPC', 'LTP': '344.00', '% Change': '-1.99', 'Open': '352.00', 'High': '340.00', 'Low': '344.00', 'Qty.': '84,498', 'PClose': '', 'Diff.': ''}\n",
      "{'Symbol': 'AIL', 'LTP': '523.00', '% Change': '-2.24', 'Open': '544.00', 'High': '511.00', 'Low': '524.30', 'Qty.': '17,050', 'PClose': '', 'Diff.': ''}\n",
      "{'Symbol': 'AKBSL', 'LTP': '1,277.00', '% Change': '-1.94', 'Open': '1,300.00', 'High': '1,277.00', 'Low': '1,280.00', 'Qty.': '1,002', 'PClose': '', 'Diff.': ''}\n",
      "{'Symbol': 'AKJCL', 'LTP': '253.00', '% Change': '1.2', 'Open': '258.00', 'High': '246.00', 'Low': '247.00', 'Qty.': '269,117', 'PClose': '', 'Diff.': ''}\n",
      "{'Symbol': 'AKPL', 'LTP': '420.00', '% Change': '-1.64', 'Open': '428.00', 'High': '416.30', 'Low': '423.00', 'Qty.': '76,745', 'PClose': '', 'Diff.': ''}\n",
      "{'Symbol': 'ALBSL', 'LTP': '1,037.00', '% Change': '-0.77', 'Open': '1,040.00', 'High': '1,003.70', 'Low': '1,024.10', 'Qty.': '1,474', 'PClose': '', 'Diff.': ''}\n",
      "{'Symbol': 'ALICL', 'LTP': '705.00', '% Change': '-0.7', 'Open': '722.00', 'High': '696.00', 'Low': '696.00', 'Qty.': '42,877', 'PClose': '', 'Diff.': ''}\n",
      "{'Symbol': 'API', 'LTP': '291.00', '% Change': '-1.02', 'Open': '297.00', 'High': '286.00', 'Low': '289.00', 'Qty.': '189,275', 'PClose': '', 'Diff.': ''}\n",
      "{'Symbol': 'AVYAN', 'LTP': '740.00', '% Change': '-0.74', 'Open': '760.00', 'High': '733.80', 'Low': '745.50', 'Qty.': '4,200', 'PClose': '', 'Diff.': ''}\n",
      "{'Symbol': 'BARUN', 'LTP': '278.90', '% Change': '-0.04', 'Open': '284.00', 'High': '270.10', 'Low': '284.00', 'Qty.': '39,512', 'PClose': '', 'Diff.': ''}\n",
      "{'Symbol': 'BBC', 'LTP': '3,450.00', '% Change': '-1.29', 'Open': '3,565.00', 'High': '3,431.00', 'Low': '3,431.00', 'Qty.': '215', 'PClose': '', 'Diff.': ''}\n",
      "{'Symbol': 'BFC', 'LTP': '358.00', '% Change': '-1.62', 'Open': '365.00', 'High': '354.00', 'Low': '363.00', 'Qty.': '16,455', 'PClose': '', 'Diff.': ''}\n",
      "{'Symbol': 'BHDC', 'LTP': '415.20', '% Change': '2.01', 'Open': '426.00', 'High': '398.90', 'Low': '407.00', 'Qty.': '12,097', 'PClose': '', 'Diff.': ''}\n",
      "{'Symbol': 'BHL', 'LTP': '357.10', '% Change': '-2.96', 'Open': '367.90', 'High': '346.60', 'Low': '360.70', 'Qty.': '25,831', 'PClose': '', 'Diff.': ''}\n",
      "{'Symbol': 'BHPL', 'LTP': '534.80', '% Change': '10', 'Open': '534.80', 'High': '487.00', 'Low': '495.90', 'Qty.': '21,198', 'PClose': '', 'Diff.': ''}\n",
      "{'Symbol': 'BNHC', 'LTP': '434.10', '% Change': '-1.32', 'Open': '443.00', 'High': '422.60', 'Low': '431.20', 'Qty.': '2,082', 'PClose': '', 'Diff.': ''}\n",
      "{'Symbol': 'BNT', 'LTP': '13,388.00', '% Change': '2.2', 'Open': '13,620.00', 'High': '13,172.00', 'Low': '13,360.00', 'Qty.': '90', 'PClose': '', 'Diff.': ''}\n",
      "{'Symbol': 'BOKD86', 'LTP': '765.00', '% Change': '0', 'Open': '765.00', 'High': '765.00', 'Low': '765.00', 'Qty.': '165', 'PClose': '', 'Diff.': ''}\n",
      "{'Symbol': 'BPCL', 'LTP': '338.00', '% Change': '1.53', 'Open': '343.50', 'High': '330.00', 'Low': '330.00', 'Qty.': '40,319', 'PClose': '', 'Diff.': ''}\n",
      "{'Symbol': 'CBBL', 'LTP': '1,203.00', '% Change': '-0.66', 'Open': '1,212.00', 'High': '1,199.00', 'Low': '1,209.00', 'Qty.': '12,026', 'PClose': '', 'Diff.': ''}\n",
      "{'Symbol': 'CBL', 'LTP': '228.50', '% Change': '-1.3', 'Open': '232.00', 'High': '228.00', 'Low': '229.10', 'Qty.': '64,629', 'PClose': '', 'Diff.': ''}\n",
      "{'Symbol': 'CCBD88', 'LTP': '845.00', '% Change': '0', 'Open': '845.00', 'High': '840.10', 'Low': '840.10', 'Qty.': '75', 'PClose': '', 'Diff.': ''}\n",
      "{'Symbol': 'CFCL', 'LTP': '341.00', '% Change': '-2.57', 'Open': '350.20', 'High': '338.10', 'Low': '345.00', 'Qty.': '20,107', 'PClose': '', 'Diff.': ''}\n",
      "{'Symbol': 'CGH', 'LTP': '1,350.00', '% Change': '-1.96', 'Open': '1,379.90', 'High': '1,324.00', 'Low': '1,351.00', 'Qty.': '6,899', 'PClose': '', 'Diff.': ''}\n",
      "{'Symbol': 'CHCL', 'LTP': '460.00', '% Change': '5.02', 'Open': '467.00', 'High': '427.00', 'Low': '438.00', 'Qty.': '99,840', 'PClose': '', 'Diff.': ''}\n",
      "{'Symbol': 'CHDC', 'LTP': '795.00', '% Change': '-1.73', 'Open': '815.00', 'High': '783.00', 'Low': '815.00', 'Qty.': '21,806', 'PClose': '', 'Diff.': ''}\n",
      "{'Symbol': 'CHL', 'LTP': '323.00', '% Change': '-2.12', 'Open': '331.00', 'High': '322.00', 'Low': '328.00', 'Qty.': '25,825', 'PClose': '', 'Diff.': ''}\n",
      "{'Symbol': 'CIT', 'LTP': '2,102.00', '% Change': '-1.64', 'Open': '2,150.00', 'High': '2,095.00', 'Low': '2,102.00', 'Qty.': '7,485', 'PClose': '', 'Diff.': ''}\n",
      "{'Symbol': 'CLBSL', 'LTP': '901.60', '% Change': '-6.08', 'Open': '960.00', 'High': '901.60', 'Low': '940.80', 'Qty.': '5,613', 'PClose': '', 'Diff.': ''}\n",
      "{'Symbol': 'CMF1', 'LTP': '9.08', '% Change': '1.45', 'Open': '9.08', 'High': '8.80', 'Low': '8.80', 'Qty.': '31,135', 'PClose': '', 'Diff.': ''}\n",
      "{'Symbol': 'CMF2', 'LTP': '8.75', '% Change': '-1.35', 'Open': '8.75', 'High': '8.61', 'Low': '8.75', 'Qty.': '16,933', 'PClose': '', 'Diff.': ''}\n",
      "{'Symbol': 'CORBL', 'LTP': '323.00', '% Change': '-2.42', 'Open': '333.30', 'High': '320.00', 'Low': '326.00', 'Qty.': '5,052', 'PClose': '', 'Diff.': ''}\n",
      "{'Symbol': 'CYCL', 'LTP': '1,895.00', '% Change': '0.25', 'Open': '1,905.00', 'High': '1,863.00', 'Low': '1,863.00', 'Qty.': '982', 'PClose': '', 'Diff.': ''}\n",
      "{'Symbol': 'CZBIL', 'LTP': '194.40', '% Change': '-1.32', 'Open': '198.00', 'High': '194.30', 'Low': '196.00', 'Qty.': '40,999', 'PClose': '', 'Diff.': ''}\n",
      "{'Symbol': 'DDBL', 'LTP': '981.10', '% Change': '-0.29', 'Open': '995.00', 'High': '976.00', 'Low': '984.00', 'Qty.': '9,939', 'PClose': '', 'Diff.': ''}\n",
      "{'Symbol': 'DHPL', 'LTP': '248.00', '% Change': '-0.8', 'Open': '253.00', 'High': '240.10', 'Low': '245.00', 'Qty.': '26,852', 'PClose': '', 'Diff.': ''}\n",
      "{'Symbol': 'DLBS', 'LTP': '1,369.90', '% Change': '0.36', 'Open': '1,369.90', 'High': '1,345.00', 'Low': '1,345.00', 'Qty.': '1,215', 'PClose': '', 'Diff.': ''}\n",
      "{'Symbol': 'DORDI', 'LTP': '325.00', '% Change': '-0.31', 'Open': '335.00', 'High': '316.00', 'Low': '320.00', 'Qty.': '34,838', 'PClose': '', 'Diff.': ''}\n",
      "{'Symbol': 'EBL', 'LTP': '518.00', '% Change': '-0.13', 'Open': '525.00', 'High': '512.20', 'Low': '519.00', 'Qty.': '25,712', 'PClose': '', 'Diff.': ''}\n",
      "{'Symbol': 'EDBL', 'LTP': '345.00', '% Change': '-2.54', 'Open': '359.90', 'High': '342.50', 'Low': '350.00', 'Qty.': '18,104', 'PClose': '', 'Diff.': ''}\n",
      "{'Symbol': 'EHPL', 'LTP': '451.50', '% Change': '9.99', 'Open': '451.50', 'High': '397.00', 'Low': '402.30', 'Qty.': '16,338', 'PClose': '', 'Diff.': ''}\n",
      "{'Symbol': 'ENL', 'LTP': '681.00', '% Change': '-1.3', 'Open': '694.00', 'High': '676.20', 'Low': '676.20', 'Qty.': '1,114', 'PClose': '', 'Diff.': ''}\n",
      "{'Symbol': 'FMDBL', 'LTP': '685.00', '% Change': '-1.31', 'Open': '705.00', 'High': '684.00', 'Low': '691.00', 'Qty.': '19,342', 'PClose': '', 'Diff.': ''}\n",
      "{'Symbol': 'FOWAD', 'LTP': '1,915.00', '% Change': '-1.14', 'Open': '1,934.00', 'High': '1,900.00', 'Low': '1,902.00', 'Qty.': '3,321', 'PClose': '', 'Diff.': ''}\n",
      "{'Symbol': 'GBBL', 'LTP': '368.20', '% Change': '-1.29', 'Open': '377.00', 'High': '365.70', 'Low': '373.00', 'Qty.': '30,204', 'PClose': '', 'Diff.': ''}\n",
      "{'Symbol': 'GBD80/81', 'LTP': '953.40', '% Change': '-0.69', 'Open': '953.40', 'High': '953.40', 'Low': '953.40', 'Qty.': '10', 'PClose': '', 'Diff.': ''}\n",
      "{'Symbol': 'GBILD86/87', 'LTP': '750.00', '% Change': '0', 'Open': '750.00', 'High': '750.00', 'Low': '750.00', 'Qty.': '100', 'PClose': '', 'Diff.': ''}\n",
      "{'Symbol': 'GBLBS', 'LTP': '636.00', '% Change': '-0.62', 'Open': '652.80', 'High': '635.00', 'Low': '635.00', 'Qty.': '2,580', 'PClose': '', 'Diff.': ''}\n",
      "{'Symbol': 'GFCL', 'LTP': '511.80', '% Change': '-0.45', 'Open': '520.00', 'High': '505.00', 'Low': '505.10', 'Qty.': '8,768', 'PClose': '', 'Diff.': ''}\n",
      "{'Symbol': 'GHL', 'LTP': '297.00', '% Change': '-0.34', 'Open': '305.00', 'High': '287.00', 'Low': '292.10', 'Qty.': '99,212', 'PClose': '', 'Diff.': ''}\n",
      "{'Symbol': 'GIBF1', 'LTP': '8.43', '% Change': '0.36', 'Open': '8.57', 'High': '8.41', 'Low': '8.41', 'Qty.': '6,000', 'PClose': '', 'Diff.': ''}\n",
      "{'Symbol': 'GILB', 'LTP': '1,183.00', '% Change': '0.17', 'Open': '1,198.00', 'High': '1,160.00', 'Low': '1,166.00', 'Qty.': '520', 'PClose': '', 'Diff.': ''}\n",
      "{'Symbol': 'GIMES1', 'LTP': '10.15', '% Change': '0', 'Open': '10.15', 'High': '9.95', 'Low': '9.95', 'Qty.': '36,491', 'PClose': '', 'Diff.': ''}\n",
      "{'Symbol': 'GLBSL', 'LTP': '865.00', '% Change': '1.45', 'Open': '865.00', 'High': '825.00', 'Low': '836.20', 'Qty.': '296', 'PClose': '', 'Diff.': ''}\n",
      "{'Symbol': 'GLH', 'LTP': '337.00', '% Change': '-5.07', 'Open': '356.00', 'High': '335.00', 'Low': '347.90', 'Qty.': '39,336', 'PClose': '', 'Diff.': ''}\n",
      "{'Symbol': 'GMFBS', 'LTP': '875.00', '% Change': '-4.68', 'Open': '899.70', 'High': '852.20', 'Low': '899.70', 'Qty.': '3,225', 'PClose': '', 'Diff.': ''}\n",
      "{'Symbol': 'GMFIL', 'LTP': '370.00', '% Change': '-0.48', 'Open': '378.00', 'High': '365.00', 'Low': '370.00', 'Qty.': '11,635', 'PClose': '', 'Diff.': ''}\n",
      "{'Symbol': 'GRDBL', 'LTP': '284.00', '% Change': '-0.7', 'Open': '295.00', 'High': '280.40', 'Low': '280.40', 'Qty.': '4,729', 'PClose': '', 'Diff.': ''}\n",
      "{'Symbol': 'GUFL', 'LTP': '583.00', '% Change': '-2.83', 'Open': '598.00', 'High': '581.00', 'Low': '588.80', 'Qty.': '34,963', 'PClose': '', 'Diff.': ''}\n",
      "{'Symbol': 'GVL', 'LTP': '467.00', '% Change': '-4.3', 'Open': '488.00', 'High': '459.50', 'Low': '488.00', 'Qty.': '65,442', 'PClose': '', 'Diff.': ''}\n",
      "{'Symbol': 'HBL', 'LTP': '306.00', '% Change': '-0.65', 'Open': '310.00', 'High': '303.10', 'Low': '304.00', 'Qty.': '12,986', 'PClose': '', 'Diff.': ''}\n",
      "{'Symbol': 'HDHPC', 'LTP': '248.00', '% Change': '-2.36', 'Open': '255.30', 'High': '245.20', 'Low': '254.00', 'Qty.': '261,267', 'PClose': '', 'Diff.': ''}\n",
      "{'Symbol': 'HDL', 'LTP': '2,648.00', '% Change': '-1.01', 'Open': '2,693.00', 'High': '2,615.00', 'Low': '2,660.00', 'Qty.': '16,072', 'PClose': '', 'Diff.': ''}\n",
      "{'Symbol': 'HEI', 'LTP': '460.00', '% Change': '-2.11', 'Open': '476.90', 'High': '460.00', 'Low': '461.00', 'Qty.': '49,437', 'PClose': '', 'Diff.': ''}\n",
      "{'Symbol': 'HEIP', 'LTP': '319.00', '% Change': '-3.3', 'Open': '326.00', 'High': '310.70', 'Low': '323.40', 'Qty.': '10,230', 'PClose': '', 'Diff.': ''}\n",
      "{'Symbol': 'HHL', 'LTP': '307.00', '% Change': '-0.03', 'Open': '311.00', 'High': '295.00', 'Low': '308.00', 'Qty.': '37,312', 'PClose': '', 'Diff.': ''}\n",
      "{'Symbol': 'HIDCL', 'LTP': '209.00', '% Change': '-1.42', 'Open': '215.00', 'High': '208.00', 'Low': '212.00', 'Qty.': '151,096', 'PClose': '', 'Diff.': ''}\n",
      "{'Symbol': 'HIDCLP', 'LTP': '108.00', '% Change': '-6.09', 'Open': '114.00', 'High': '106.20', 'Low': '112.70', 'Qty.': '508,443', 'PClose': '', 'Diff.': ''}\n",
      "{'Symbol': 'HPPL', 'LTP': '348.00', '% Change': '-1.14', 'Open': '361.00', 'High': '344.00', 'Low': '359.00', 'Qty.': '61,460', 'PClose': '', 'Diff.': ''}\n",
      "{'Symbol': 'HURJA', 'LTP': '410.00', '% Change': '0', 'Open': '443.40', 'High': '406.00', 'Low': '418.00', 'Qty.': '221,609', 'PClose': '', 'Diff.': ''}\n",
      "{'Symbol': 'ICFC', 'LTP': '479.80', '% Change': '-1.28', 'Open': '488.00', 'High': '471.00', 'Low': '483.00', 'Qty.': '28,819', 'PClose': '', 'Diff.': ''}\n",
      "{'Symbol': 'IGI', 'LTP': '516.00', '% Change': '6.39', 'Open': '525.90', 'High': '480.00', 'Low': '480.00', 'Qty.': '198,658', 'PClose': '', 'Diff.': ''}\n",
      "{'Symbol': 'ILBS', 'LTP': '1,005.00', '% Change': '-1.08', 'Open': '1,014.00', 'High': '995.70', 'Low': '996.00', 'Qty.': '1,285', 'PClose': '', 'Diff.': ''}\n",
      "{'Symbol': 'JALPA', 'LTP': '3,435.00', '% Change': '0.82', 'Open': '3,462.00', 'High': '3,393.00', 'Low': '3,420.00', 'Qty.': '1,642', 'PClose': '', 'Diff.': ''}\n",
      "{'Symbol': 'JBBL', 'LTP': '304.20', '% Change': '-1.87', 'Open': '311.00', 'High': '304.00', 'Low': '305.40', 'Qty.': '43,287', 'PClose': '', 'Diff.': ''}\n",
      "{'Symbol': 'JBLB', 'LTP': '2,850.00', '% Change': '0.18', 'Open': '2,875.00', 'High': '2,845.00', 'Low': '2,846.00', 'Qty.': '5,044', 'PClose': '', 'Diff.': ''}\n",
      "{'Symbol': 'JFL', 'LTP': '416.70', '% Change': '-2.39', 'Open': '429.00', 'High': '416.10', 'Low': '419.00', 'Qty.': '9,595', 'PClose': '', 'Diff.': ''}\n",
      "{'Symbol': 'JOSHI', 'LTP': '263.90', '% Change': '4.31', 'Open': '272.00', 'High': '248.00', 'Low': '250.00', 'Qty.': '122,581', 'PClose': '', 'Diff.': ''}\n",
      "{'Symbol': 'JSLBB', 'LTP': '1,616.00', '% Change': '-1.82', 'Open': '1,670.00', 'High': '1,581.80', 'Low': '1,614.00', 'Qty.': '1,051', 'PClose': '', 'Diff.': ''}\n",
      "{'Symbol': 'KBL', 'LTP': '195.00', '% Change': '-1.07', 'Open': '199.00', 'High': '194.00', 'Low': '197.00', 'Qty.': '172,680', 'PClose': '', 'Diff.': ''}\n",
      "{'Symbol': 'KBLD86', 'LTP': '864.40', '% Change': '-3.96', 'Open': '882.00', 'High': '864.40', 'Low': '882.00', 'Qty.': '200', 'PClose': '', 'Diff.': ''}\n",
      "{'Symbol': 'KDBY', 'LTP': '8.78', '% Change': '1.15', 'Open': '8.89', 'High': '8.51', 'Low': '8.51', 'Qty.': '5,700', 'PClose': '', 'Diff.': ''}\n",
      "{'Symbol': 'KEF', 'LTP': '9.00', '% Change': '0', 'Open': '9.10', 'High': '8.71', 'Low': '8.82', 'Qty.': '17,501', 'PClose': '', 'Diff.': ''}\n",
      "{'Symbol': 'KKHC', 'LTP': '257.00', '% Change': '-1.91', 'Open': '264.10', 'High': '253.90', 'Low': '262.00', 'Qty.': '15,345', 'PClose': '', 'Diff.': ''}\n",
      "{'Symbol': 'KLBS', 'LTP': '1,384.00', '% Change': '-0.44', 'Open': '1,397.00', 'High': '1,370.00', 'Low': '1,370.20', 'Qty.': '950', 'PClose': '', 'Diff.': ''}\n",
      "{'Symbol': 'KLBSL', 'LTP': '862.00', '% Change': '0', 'Open': '877.00', 'High': '862.00', 'Low': '865.00', 'Qty.': '128', 'PClose': '', 'Diff.': ''}\n",
      "{'Symbol': 'KMCDB', 'LTP': '1,020.00', '% Change': '-3.23', 'Open': '1,050.00', 'High': '1,015.00', 'Low': '1,050.00', 'Qty.': '1,489', 'PClose': '', 'Diff.': ''}\n",
      "{'Symbol': 'KPCL', 'LTP': '392.00', '% Change': '-1.75', 'Open': '402.00', 'High': '390.00', 'Low': '400.00', 'Qty.': '4,457', 'PClose': '', 'Diff.': ''}\n",
      "{'Symbol': 'KRBL', 'LTP': '299.00', '% Change': '-2.86', 'Open': '304.50', 'High': '298.00', 'Low': '301.70', 'Qty.': '13,271', 'PClose': '', 'Diff.': ''}\n",
      "{'Symbol': 'KSBBL', 'LTP': '335.30', '% Change': '-1.09', 'Open': '345.00', 'High': '333.00', 'Low': '338.00', 'Qty.': '40,166', 'PClose': '', 'Diff.': ''}\n",
      "{'Symbol': 'LBBL', 'LTP': '366.20', '% Change': '-2.84', 'Open': '384.40', 'High': '366.00', 'Low': '384.40', 'Qty.': '32,567', 'PClose': '', 'Diff.': ''}\n",
      "{'Symbol': 'LBL', 'LTP': '199.30', '% Change': '-0.25', 'Open': '202.00', 'High': '198.60', 'Low': '200.00', 'Qty.': '24,005', 'PClose': '', 'Diff.': ''}\n",
      "{'Symbol': 'LEC', 'LTP': '296.00', '% Change': '-2.92', 'Open': '303.00', 'High': '290.00', 'Low': '300.00', 'Qty.': '28,402', 'PClose': '', 'Diff.': ''}\n",
      "{'Symbol': 'LEMF', 'LTP': '9.60', '% Change': '1.05', 'Open': '9.60', 'High': '9.42', 'Low': '9.50', 'Qty.': '42,650', 'PClose': '', 'Diff.': ''}\n",
      "{'Symbol': 'LGIL', 'LTP': '462.20', '% Change': '10', 'Open': '462.20', 'High': '428.60', 'Low': '428.60', 'Qty.': '907', 'PClose': '', 'Diff.': ''}\n",
      "{'Symbol': 'LICN', 'LTP': '1,539.30', '% Change': '-0.63', 'Open': '1,574.90', 'High': '1,519.00', 'Low': '1,574.90', 'Qty.': '10,343', 'PClose': '', 'Diff.': ''}\n",
      "{'Symbol': 'LLBS', 'LTP': '1,171.00', '% Change': '1.12', 'Open': '1,179.00', 'High': '1,135.20', 'Low': '1,135.20', 'Qty.': '1,030', 'PClose': '', 'Diff.': ''}\n",
      "{'Symbol': 'LUK', 'LTP': '8.72', '% Change': '-1.8', 'Open': '8.73', 'High': '8.72', 'Low': '8.73', 'Qty.': '12,110', 'PClose': '', 'Diff.': ''}\n",
      "{'Symbol': 'MBJC', 'LTP': '326.00', '% Change': '0.62', 'Open': '332.00', 'High': '315.10', 'Low': '320.00', 'Qty.': '56,892', 'PClose': '', 'Diff.': ''}\n",
      "{'Symbol': 'MBL', 'LTP': '243.00', '% Change': '-0.82', 'Open': '249.00', 'High': '242.00', 'Low': '249.00', 'Qty.': '19,087', 'PClose': '', 'Diff.': ''}\n",
      "{'Symbol': 'MDB', 'LTP': '395.00', '% Change': '-2.47', 'Open': '413.00', 'High': '395.00', 'Low': '409.90', 'Qty.': '10,292', 'PClose': '', 'Diff.': ''}\n",
      "{'Symbol': 'MEN', 'LTP': '812.00', '% Change': '-0.98', 'Open': '825.00', 'High': '787.60', 'Low': '803.60', 'Qty.': '1,393', 'PClose': '', 'Diff.': ''}\n",
      "{'Symbol': 'MERO', 'LTP': '772.50', '% Change': '-1.47', 'Open': '779.00', 'High': '757.20', 'Low': '769.00', 'Qty.': '1,661', 'PClose': '', 'Diff.': ''}\n",
      "{'Symbol': 'MFIL', 'LTP': '488.00', '% Change': '-0.71', 'Open': '506.00', 'High': '487.00', 'Low': '491.00', 'Qty.': '34,460', 'PClose': '', 'Diff.': ''}\n",
      "{'Symbol': 'MHL', 'LTP': '394.00', '% Change': '-0.25', 'Open': '398.00', 'High': '379.40', 'Low': '387.10', 'Qty.': '16,850', 'PClose': '', 'Diff.': ''}\n",
      "{'Symbol': 'MHNL', 'LTP': '337.00', '% Change': '-2.01', 'Open': '343.00', 'High': '333.00', 'Low': '338.10', 'Qty.': '38,355', 'PClose': '', 'Diff.': ''}\n",
      "{'Symbol': 'MKJC', 'LTP': '487.90', '% Change': '-1.87', 'Open': '497.00', 'High': '481.00', 'Low': '490.00', 'Qty.': '8,276', 'PClose': '', 'Diff.': ''}\n",
      "{'Symbol': 'MKLB', 'LTP': '890.00', '% Change': '-2.57', 'Open': '901.00', 'High': '888.00', 'Low': '898.10', 'Qty.': '545', 'PClose': '', 'Diff.': ''}\n",
      "{'Symbol': 'MLBBL', 'LTP': '1,103.00', '% Change': '-1.34', 'Open': '1,139.00', 'High': '1,101.00', 'Low': '1,139.00', 'Qty.': '972', 'PClose': '', 'Diff.': ''}\n",
      "{'Symbol': 'MLBL', 'LTP': '347.50', '% Change': '-1.84', 'Open': '355.00', 'High': '347.30', 'Low': '352.00', 'Qty.': '42,047', 'PClose': '', 'Diff.': ''}\n",
      "{'Symbol': 'MLBS', 'LTP': '1,050.20', '% Change': '-3.21', 'Open': '1,080.50', 'High': '1,045.00', 'Low': '1,080.50', 'Qty.': '330', 'PClose': '', 'Diff.': ''}\n",
      "{'Symbol': 'MLBSL', 'LTP': '4,103.00', '% Change': '-1.13', 'Open': '4,140.00', 'High': '4,071.00', 'Low': '4,081.00', 'Qty.': '696', 'PClose': '', 'Diff.': ''}\n",
      "{'Symbol': 'MMF1', 'LTP': '7.90', '% Change': '-2.59', 'Open': '8.00', 'High': '7.80', 'Low': '7.95', 'Qty.': '7,830', 'PClose': '', 'Diff.': ''}\n",
      "{'Symbol': 'MMFDB', 'LTP': '830.00', '% Change': '-0.02', 'Open': '850.00', 'High': '825.00', 'Low': '826.00', 'Qty.': '1,725', 'PClose': '', 'Diff.': ''}\n",
      "{'Symbol': 'MNBBL', 'LTP': '412.00', '% Change': '-1.13', 'Open': '420.00', 'High': '411.00', 'Low': '415.00', 'Qty.': '25,550', 'PClose': '', 'Diff.': ''}\n",
      "{'Symbol': 'MPFL', 'LTP': '347.00', '% Change': '-2.75', 'Open': '354.90', 'High': '345.10', 'Low': '350.00', 'Qty.': '12,865', 'PClose': '', 'Diff.': ''}\n",
      "{'Symbol': 'MSLB', 'LTP': '1,214.00', '% Change': '-0.98', 'Open': '1,220.00', 'High': '1,212.00', 'Low': '1,220.00', 'Qty.': '78', 'PClose': '', 'Diff.': ''}\n",
      "{'Symbol': 'NABBC', 'LTP': '468.90', '% Change': '0.95', 'Open': '468.90', 'High': '441.00', 'Low': '458.00', 'Qty.': '21,898', 'PClose': '', 'Diff.': ''}\n",
      "{'Symbol': 'NABIL', 'LTP': '702.50', '% Change': '-0.44', 'Open': '709.00', 'High': '701.10', 'Low': '707.00', 'Qty.': '57,268', 'PClose': '', 'Diff.': ''}\n",
      "{'Symbol': 'NADEP', 'LTP': '786.00', '% Change': '-2.24', 'Open': '800.00', 'High': '782.00', 'Low': '790.00', 'Qty.': '7,696', 'PClose': '', 'Diff.': ''}\n",
      "{'Symbol': 'NBF2', 'LTP': '9.00', '% Change': '-0.88', 'Open': '9.10', 'High': '9.00', 'Low': '9.00', 'Qty.': '12,580', 'PClose': '', 'Diff.': ''}\n",
      "{'Symbol': 'NBF3', 'LTP': '7.90', '% Change': '-1.25', 'Open': '7.95', 'High': '7.70', 'Low': '7.84', 'Qty.': '19,808', 'PClose': '', 'Diff.': ''}\n",
      "{'Symbol': 'NBL', 'LTP': '274.00', '% Change': '-0.47', 'Open': '279.90', 'High': '273.10', 'Low': '275.30', 'Qty.': '42,044', 'PClose': '', 'Diff.': ''}\n",
      "{'Symbol': 'NBLD87', 'LTP': '740.00', '% Change': '0.07', 'Open': '754.20', 'High': '740.00', 'Low': '754.20', 'Qty.': '80', 'PClose': '', 'Diff.': ''}\n",
      "{'Symbol': 'NEF', 'LTP': '9.05', '% Change': '0.56', 'Open': '9.10', 'High': '8.99', 'Low': '8.99', 'Qty.': '30,455', 'PClose': '', 'Diff.': ''}\n",
      "{'Symbol': 'NESDO', 'LTP': '3,380.00', '% Change': '1.47', 'Open': '3,420.00', 'High': '3,264.40', 'Low': '3,264.40', 'Qty.': '12,481', 'PClose': '', 'Diff.': ''}\n",
      "{'Symbol': 'NFS', 'LTP': '316.80', '% Change': '-3.71', 'Open': '328.00', 'High': '313.60', 'Low': '323.00', 'Qty.': '59,180', 'PClose': '', 'Diff.': ''}\n",
      "{'Symbol': 'NGPL', 'LTP': '300.10', '% Change': '-1.93', 'Open': '308.90', 'High': '298.00', 'Low': '305.00', 'Qty.': '168,621', 'PClose': '', 'Diff.': ''}\n",
      "{'Symbol': 'NHDL', 'LTP': '395.00', '% Change': '-0.5', 'Open': '401.90', 'High': '387.00', 'Low': '394.10', 'Qty.': '8,965', 'PClose': '', 'Diff.': ''}\n",
      "{'Symbol': 'NHPC', 'LTP': '268.60', '% Change': '-2.33', 'Open': '277.00', 'High': '266.30', 'Low': '270.00', 'Qty.': '141,177', 'PClose': '', 'Diff.': ''}\n",
      "{'Symbol': 'NIBD2082', 'LTP': '905.20', '% Change': '0.52', 'Open': '906.00', 'High': '905.20', 'Low': '906.00', 'Qty.': '40', 'PClose': '', 'Diff.': ''}\n",
      "{'Symbol': 'NIBD84', 'LTP': '776.00', '% Change': '0', 'Open': '776.00', 'High': '776.00', 'Low': '776.00', 'Qty.': '50', 'PClose': '', 'Diff.': ''}\n",
      "{'Symbol': 'NIBLPF', 'LTP': '8.93', '% Change': '-3.25', 'Open': '9.05', 'High': '8.87', 'Low': '9.05', 'Qty.': '36,613', 'PClose': '', 'Diff.': ''}\n",
      "{'Symbol': 'NIBSF2', 'LTP': '7.87', '% Change': '-1.99', 'Open': '8.35', 'High': '7.76', 'Low': '7.87', 'Qty.': '14,150', 'PClose': '', 'Diff.': ''}\n",
      "{'Symbol': 'NICA', 'LTP': '826.00', '% Change': '0.24', 'Open': '833.60', 'High': '820.00', 'Low': '823.00', 'Qty.': '86,314', 'PClose': '', 'Diff.': ''}\n",
      "{'Symbol': 'NICAD8283', 'LTP': '928.40', '% Change': '-0.71', 'Open': '928.60', 'High': '927.50', 'Low': '927.50', 'Qty.': '420', 'PClose': '', 'Diff.': ''}\n",
      "{'Symbol': 'NICBF', 'LTP': '9.06', '% Change': '0.11', 'Open': '9.20', 'High': '9.01', 'Low': '9.01', 'Qty.': '3,900', 'PClose': '', 'Diff.': ''}\n",
      "{'Symbol': 'NICD83/84', 'LTP': '878.00', '% Change': '0.8', 'Open': '878.00', 'High': '878.00', 'Low': '878.00', 'Qty.': '10', 'PClose': '', 'Diff.': ''}\n",
      "{'Symbol': 'NICFC', 'LTP': '8.42', '% Change': '-0.94', 'Open': '8.42', 'High': '8.25', 'Low': '8.33', 'Qty.': '3,100', 'PClose': '', 'Diff.': ''}\n",
      "{'Symbol': 'NICGF', 'LTP': '9.73', '% Change': '0', 'Open': '9.76', 'High': '9.73', 'Low': '9.73', 'Qty.': '43,200', 'PClose': '', 'Diff.': ''}\n",
      "{'Symbol': 'NICL', 'LTP': '505.00', '% Change': '1.2', 'Open': '514.00', 'High': '490.30', 'Low': '500.00', 'Qty.': '30,582', 'PClose': '', 'Diff.': ''}\n",
      "{'Symbol': 'NICLBSL', 'LTP': '805.00', '% Change': '-2.19', 'Open': '823.00', 'High': '805.00', 'Low': '806.90', 'Qty.': '6,204', 'PClose': '', 'Diff.': ''}\n",
      "{'Symbol': 'NICSF', 'LTP': '8.15', '% Change': '-2.28', 'Open': '8.36', 'High': '8.15', 'Low': '8.20', 'Qty.': '37,089', 'PClose': '', 'Diff.': ''}\n",
      "{'Symbol': 'NIFRA', 'LTP': '235.00', '% Change': '-2.08', 'Open': '242.80', 'High': '235.00', 'Low': '241.00', 'Qty.': '131,466', 'PClose': '', 'Diff.': ''}\n",
      "{'Symbol': 'NIL', 'LTP': '790.00', '% Change': '-0.5', 'Open': '795.00', 'High': '780.00', 'Low': '780.00', 'Qty.': '8,245', 'PClose': '', 'Diff.': ''}\n",
      "{'Symbol': 'NLBBL', 'LTP': '1,020.00', '% Change': '-0.97', 'Open': '1,040.00', 'High': '1,017.10', 'Low': '1,034.80', 'Qty.': '11,239', 'PClose': '', 'Diff.': ''}\n",
      "{'Symbol': 'NLG', 'LTP': '710.00', '% Change': '0', 'Open': '718.00', 'High': '696.00', 'Low': '700.00', 'Qty.': '13,502', 'PClose': '', 'Diff.': ''}\n",
      "{'Symbol': 'NLIC', 'LTP': '755.00', '% Change': '-1.18', 'Open': '769.80', 'High': '748.00', 'Low': '767.00', 'Qty.': '87,517', 'PClose': '', 'Diff.': ''}\n",
      "{'Symbol': 'NLICL', 'LTP': '644.00', '% Change': '-1.38', 'Open': '658.90', 'High': '640.00', 'Low': '642.10', 'Qty.': '29,381', 'PClose': '', 'Diff.': ''}\n",
      "{'Symbol': 'NMB', 'LTP': '243.00', '% Change': '-0.82', 'Open': '245.00', 'High': '240.00', 'Low': '245.00', 'Qty.': '41,562', 'PClose': '', 'Diff.': ''}\n",
      "{'Symbol': 'NMB50', 'LTP': '9.97', '% Change': '-1.97', 'Open': '10.10', 'High': '9.97', 'Low': '10.09', 'Qty.': '1,900', 'PClose': '', 'Diff.': ''}\n",
      "{'Symbol': 'NMBD87/88', 'LTP': '980.00', '% Change': '-2', 'Open': '980.00', 'High': '980.00', 'Low': '980.00', 'Qty.': '25', 'PClose': '', 'Diff.': ''}\n",
      "{'Symbol': 'NMBHF1', 'LTP': '9.91', '% Change': '0.1', 'Open': '9.93', 'High': '9.91', 'Low': '9.92', 'Qty.': '40,964', 'PClose': '', 'Diff.': ''}\n",
      "{'Symbol': 'NMBMF', 'LTP': '760.00', '% Change': '-1.3', 'Open': '775.00', 'High': '749.00', 'Low': '765.00', 'Qty.': '2,288', 'PClose': '', 'Diff.': ''}\n",
      "{'Symbol': 'NMBPO', 'LTP': '134.00', '% Change': '0', 'Open': '134.00', 'High': '134.00', 'Low': '134.00', 'Qty.': '9,761', 'PClose': '', 'Diff.': ''}\n",
      "{'Symbol': 'NMFBS', 'LTP': '2,289.00', '% Change': '-0.95', 'Open': '2,330.00', 'High': '2,280.00', 'Low': '2,330.00', 'Qty.': '8,487', 'PClose': '', 'Diff.': ''}\n",
      "{'Symbol': 'NRIC', 'LTP': '838.00', '% Change': '-1.99', 'Open': '855.00', 'High': '831.00', 'Low': '850.00', 'Qty.': '34,960', 'PClose': '', 'Diff.': ''}\n",
      "{'Symbol': 'NRN', 'LTP': '519.00', '% Change': '-2.63', 'Open': '532.00', 'High': '518.50', 'Low': '522.40', 'Qty.': '11,015', 'PClose': '', 'Diff.': ''}\n",
      "{'Symbol': 'NSLB', 'LTP': '925.00', '% Change': '-1.16', 'Open': '948.60', 'High': '921.00', 'Low': '921.00', 'Qty.': '466', 'PClose': '', 'Diff.': ''}\n",
      "{'Symbol': 'NTC', 'LTP': '852.00', '% Change': '-1.5', 'Open': '882.00', 'High': '851.00', 'Low': '882.00', 'Qty.': '42,494', 'PClose': '', 'Diff.': ''}\n",
      "{'Symbol': 'NUBL', 'LTP': '998.00', '% Change': '-0.7', 'Open': '1,010.00', 'High': '990.00', 'Low': '1,000.00', 'Qty.': '4,210', 'PClose': '', 'Diff.': ''}\n",
      "{'Symbol': 'NYADI', 'LTP': '355.00', '% Change': '3.2', 'Open': '358.00', 'High': '331.40', 'Low': '344.00', 'Qty.': '19,300', 'PClose': '', 'Diff.': ''}\n",
      "{'Symbol': 'OHL', 'LTP': '555.10', '% Change': '0.93', 'Open': '570.00', 'High': '539.10', 'Low': '539.20', 'Qty.': '12,398', 'PClose': '', 'Diff.': ''}\n",
      "{'Symbol': 'PBD85', 'LTP': '770.00', '% Change': '0.65', 'Open': '770.00', 'High': '770.00', 'Low': '770.00', 'Qty.': '25', 'PClose': '', 'Diff.': ''}\n",
      "{'Symbol': 'PBD88', 'LTP': '825.00', '% Change': '-1.9', 'Open': '840.00', 'High': '825.00', 'Low': '825.00', 'Qty.': '279', 'PClose': '', 'Diff.': ''}\n",
      "{'Symbol': 'PBLD84', 'LTP': '866.00', '% Change': '-0.46', 'Open': '870.00', 'High': '853.10', 'Low': '870.00', 'Qty.': '194', 'PClose': '', 'Diff.': ''}\n",
      "{'Symbol': 'PCBL', 'LTP': '222.90', '% Change': '-0.4', 'Open': '228.20', 'High': '218.90', 'Low': '228.20', 'Qty.': '53,496', 'PClose': '', 'Diff.': ''}\n",
      "{'Symbol': 'PFL', 'LTP': '412.60', '% Change': '-1.1', 'Open': '425.00', 'High': '410.00', 'Low': '419.00', 'Qty.': '30,234', 'PClose': '', 'Diff.': ''}\n",
      "{'Symbol': 'PHCL', 'LTP': '361.80', '% Change': '-2.22', 'Open': '374.00', 'High': '355.40', 'Low': '362.60', 'Qty.': '57,465', 'PClose': '', 'Diff.': ''}\n",
      "{'Symbol': 'PIC', 'LTP': '665.20', '% Change': '0.03', 'Open': '678.00', 'High': '657.00', 'Low': '670.00', 'Qty.': '9,396', 'PClose': '', 'Diff.': ''}\n",
      "{'Symbol': 'PICL', 'LTP': '480.00', '% Change': '0.21', 'Open': '485.00', 'High': '472.00', 'Low': '480.00', 'Qty.': '33,920', 'PClose': '', 'Diff.': ''}\n",
      "{'Symbol': 'PLI', 'LTP': '527.00', '% Change': '2.63', 'Open': '536.30', 'High': '497.00', 'Low': '507.00', 'Qty.': '23,931', 'PClose': '', 'Diff.': ''}\n",
      "{'Symbol': 'PMHPL', 'LTP': '272.50', '% Change': '-2.68', 'Open': '284.00', 'High': '272.50', 'Low': '280.00', 'Qty.': '16,349', 'PClose': '', 'Diff.': ''}\n",
      "{'Symbol': 'PPCL', 'LTP': '377.00', '% Change': '-2.33', 'Open': '385.00', 'High': '375.00', 'Low': '384.00', 'Qty.': '36,149', 'PClose': '', 'Diff.': ''}\n",
      "{'Symbol': 'PPL', 'LTP': '315.10', '% Change': '-3.05', 'Open': '328.00', 'High': '309.00', 'Low': '325.00', 'Qty.': '25,826', 'PClose': '', 'Diff.': ''}\n",
      "{'Symbol': 'PRIN', 'LTP': '598.00', '% Change': '-0.17', 'Open': '612.00', 'High': '587.10', 'Low': '599.00', 'Qty.': '8,779', 'PClose': '', 'Diff.': ''}\n",
      "{'Symbol': 'PROFL', 'LTP': '348.00', '% Change': '-3.33', 'Open': '367.00', 'High': '348.00', 'Low': '358.00', 'Qty.': '14,761', 'PClose': '', 'Diff.': ''}\n",
      "{'Symbol': 'PRVU', 'LTP': '200.50', '% Change': '-0.99', 'Open': '204.30', 'High': '200.00', 'Low': '202.00', 'Qty.': '50,286', 'PClose': '', 'Diff.': ''}\n",
      "{'Symbol': 'PSF', 'LTP': '8.36', '% Change': '-0.48', 'Open': '8.51', 'High': '8.30', 'Low': '8.30', 'Qty.': '14,300', 'PClose': '', 'Diff.': ''}\n",
      "{'Symbol': 'RADHI', 'LTP': '270.60', '% Change': '-1.64', 'Open': '278.00', 'High': '265.00', 'Low': '269.70', 'Qty.': '50,549', 'PClose': '', 'Diff.': ''}\n",
      "{'Symbol': 'RBCL', 'LTP': '13,800.00', '% Change': '-0.72', 'Open': '13,969.90', 'High': '13,800.00', 'Low': '13,900.00', 'Qty.': '278', 'PClose': '', 'Diff.': ''}\n",
      "{'Symbol': 'RBCLPO', 'LTP': '11,852.00', '% Change': '-2.85', 'Open': '12,011.00', 'High': '11,800.00', 'Low': '11,999.00', 'Qty.': '610', 'PClose': '', 'Diff.': ''}\n",
      "{'Symbol': 'RFPL', 'LTP': '320.00', '% Change': '3.9', 'Open': '325.00', 'High': '295.10', 'Low': '302.00', 'Qty.': '54,004', 'PClose': '', 'Diff.': ''}\n",
      "{'Symbol': 'RHGCL', 'LTP': '310.00', '% Change': '-0.96', 'Open': '319.20', 'High': '300.10', 'Low': '319.20', 'Qty.': '37,323', 'PClose': '', 'Diff.': ''}\n",
      "{'Symbol': 'RHPL', 'LTP': '329.80', '% Change': '0.24', 'Open': '337.90', 'High': '323.00', 'Low': '324.00', 'Qty.': '74,735', 'PClose': '', 'Diff.': ''}\n",
      "{'Symbol': 'RIDI', 'LTP': '565.00', '% Change': '-0.53', 'Open': '579.00', 'High': '563.10', 'Low': '579.00', 'Qty.': '109,072', 'PClose': '', 'Diff.': ''}\n",
      "{'Symbol': 'RLFL', 'LTP': '344.00', '% Change': '-2.27', 'Open': '355.00', 'High': '341.00', 'Low': '345.10', 'Qty.': '19,550', 'PClose': '', 'Diff.': ''}\n",
      "{'Symbol': 'RLI', 'LTP': '457.80', '% Change': '1.06', 'Open': '459.90', 'High': '446.10', 'Low': '455.00', 'Qty.': '9,493', 'PClose': '', 'Diff.': ''}\n",
      "{'Symbol': 'RMDC', 'LTP': '1,076.00', '% Change': '-0.38', 'Open': '1,098.80', 'High': '1,076.00', 'Low': '1,098.80', 'Qty.': '8,138', 'PClose': '', 'Diff.': ''}\n",
      "{'Symbol': 'RMF1', 'LTP': '7.94', '% Change': '4.47', 'Open': '7.94', 'High': '7.45', 'Low': '7.45', 'Qty.': '27,375', 'PClose': '', 'Diff.': ''}\n",
      "{'Symbol': 'RSDC', 'LTP': '636.00', '% Change': '-0.62', 'Open': '639.00', 'High': '628.10', 'Low': '628.20', 'Qty.': '4,381', 'PClose': '', 'Diff.': ''}\n",
      "{'Symbol': 'RULB', 'LTP': '945.00', '% Change': '-3.28', 'Open': '977.00', 'High': '945.00', 'Low': '957.50', 'Qty.': '1,593', 'PClose': '', 'Diff.': ''}\n",
      "{'Symbol': 'RURU', 'LTP': '773.00', '% Change': '-1.53', 'Open': '785.00', 'High': '770.00', 'Low': '771.50', 'Qty.': '1,918', 'PClose': '', 'Diff.': ''}\n",
      "{'Symbol': 'SABSL', 'LTP': '1,008.00', '% Change': '-1.18', 'Open': '1,020.00', 'High': '990.00', 'Low': '1,005.00', 'Qty.': '1,716', 'PClose': '', 'Diff.': ''}\n",
      "{'Symbol': 'SADBL', 'LTP': '340.00', '% Change': '-1.25', 'Open': '344.90', 'High': '331.30', 'Low': '337.50', 'Qty.': '29,948', 'PClose': '', 'Diff.': ''}\n",
      "{'Symbol': 'SAEF', 'LTP': '11.12', '% Change': '0', 'Open': '11.13', 'High': '11.03', 'Low': '11.12', 'Qty.': '25,095', 'PClose': '', 'Diff.': ''}\n",
      "{'Symbol': 'SAHAS', 'LTP': '608.10', '% Change': '1.52', 'Open': '616.00', 'High': '577.30', 'Low': '588.00', 'Qty.': '61,546', 'PClose': '', 'Diff.': ''}\n",
      "{'Symbol': 'SANIMA', 'LTP': '260.80', '% Change': '0.69', 'Open': '265.00', 'High': '259.00', 'Low': '259.00', 'Qty.': '63,662', 'PClose': '', 'Diff.': ''}\n",
      "{'Symbol': 'SAPDBL', 'LTP': '260.10', '% Change': '-3.42', 'Open': '274.00', 'High': '260.10', 'Low': '264.00', 'Qty.': '20,826', 'PClose': '', 'Diff.': ''}\n",
      "{'Symbol': 'SBCF', 'LTP': '8.50', '% Change': '-1.96', 'Open': '8.65', 'High': '8.50', 'Low': '8.50', 'Qty.': '150,636', 'PClose': '', 'Diff.': ''}\n",
      "{'Symbol': 'SBD87', 'LTP': '765.00', '% Change': '0', 'Open': '765.00', 'High': '765.00', 'Low': '765.00', 'Qty.': '110', 'PClose': '', 'Diff.': ''}\n",
      "{'Symbol': 'SBI', 'LTP': '331.00', '% Change': '-4.06', 'Open': '344.00', 'High': '329.00', 'Low': '343.90', 'Qty.': '45,986', 'PClose': '', 'Diff.': ''}\n",
      "{'Symbol': 'SBID83', 'LTP': '880.10', '% Change': '0.01', 'Open': '880.10', 'High': '880.10', 'Low': '880.10', 'Qty.': '25', 'PClose': '', 'Diff.': ''}\n",
      "{'Symbol': 'SBL', 'LTP': '294.00', '% Change': '-0.68', 'Open': '297.80', 'High': '293.00', 'Low': '297.00', 'Qty.': '37,470', 'PClose': '', 'Diff.': ''}\n",
      "{'Symbol': 'SBLD2082', 'LTP': '920.00', '% Change': '0', 'Open': '920.00', 'High': '920.00', 'Low': '920.00', 'Qty.': '50', 'PClose': '', 'Diff.': ''}\n",
      "{'Symbol': 'SBLD84', 'LTP': '790.00', '% Change': '0.38', 'Open': '790.00', 'High': '790.00', 'Low': '790.00', 'Qty.': '25', 'PClose': '', 'Diff.': ''}\n",
      "{'Symbol': 'SBLPO', 'LTP': '171.50', '% Change': '0', 'Open': '171.50', 'High': '171.50', 'Low': '171.50', 'Qty.': '46,869', 'PClose': '', 'Diff.': ''}\n",
      "{'Symbol': 'SCB', 'LTP': '500.00', '% Change': '-0.6', 'Open': '510.00', 'High': '497.00', 'Low': '507.00', 'Qty.': '40,164', 'PClose': '', 'Diff.': ''}\n",
      "{'Symbol': 'SDBD87', 'LTP': '780.00', '% Change': '0', 'Open': '780.00', 'High': '780.00', 'Low': '780.00', 'Qty.': '200', 'PClose': '', 'Diff.': ''}\n",
      "{'Symbol': 'SDLBSL', 'LTP': '900.00', '% Change': '-1.64', 'Open': '910.00', 'High': '900.00', 'Low': '902.00', 'Qty.': '784', 'PClose': '', 'Diff.': ''}\n",
      "{'Symbol': 'SEF', 'LTP': '8.77', '% Change': '-3.63', 'Open': '9.00', 'High': '8.75', 'Low': '8.92', 'Qty.': '8,720', 'PClose': '', 'Diff.': ''}\n",
      "{'Symbol': 'SFCL', 'LTP': '324.00', '% Change': '-6.09', 'Open': '343.70', 'High': '323.50', 'Low': '340.10', 'Qty.': '95,677', 'PClose': '', 'Diff.': ''}\n",
      "{'Symbol': 'SFMF', 'LTP': '10.22', '% Change': '0', 'Open': '10.42', 'High': '10.02', 'Low': '10.02', 'Qty.': '1,700', 'PClose': '', 'Diff.': ''}\n",
      "{'Symbol': 'SGHC', 'LTP': '411.60', '% Change': '9.67', 'Open': '411.60', 'High': '358.00', 'Low': '367.80', 'Qty.': '29,501', 'PClose': '', 'Diff.': ''}\n",
      "{'Symbol': 'SGIC', 'LTP': '498.00', '% Change': '0.61', 'Open': '514.00', 'High': '476.00', 'Low': '485.10', 'Qty.': '23,218', 'PClose': '', 'Diff.': ''}\n",
      "{'Symbol': 'SHEL', 'LTP': '352.00', '% Change': '-2.79', 'Open': '363.00', 'High': '350.00', 'Low': '360.00', 'Qty.': '16,621', 'PClose': '', 'Diff.': ''}\n",
      "{'Symbol': 'SHINE', 'LTP': '355.00', '% Change': '-1.11', 'Open': '360.30', 'High': '351.90', 'Low': '352.00', 'Qty.': '42,126', 'PClose': '', 'Diff.': ''}\n",
      "{'Symbol': 'SHIVM', 'LTP': '525.00', '% Change': '-0.38', 'Open': '534.00', 'High': '521.00', 'Low': '525.00', 'Qty.': '94,868', 'PClose': '', 'Diff.': ''}\n",
      "{'Symbol': 'SHL', 'LTP': '233.90', '% Change': '0.39', 'Open': '235.00', 'High': '225.40', 'Low': '230.00', 'Qty.': '29,133', 'PClose': '', 'Diff.': ''}\n",
      "{'Symbol': 'SHLB', 'LTP': '2,359.00', '% Change': '-0.25', 'Open': '2,404.00', 'High': '2,353.50', 'Low': '2,355.00', 'Qty.': '3,435', 'PClose': '', 'Diff.': ''}\n",
      "{'Symbol': 'SHPC', 'LTP': '338.00', '% Change': '-0.29', 'Open': '345.00', 'High': '330.00', 'Low': '333.00', 'Qty.': '55,667', 'PClose': '', 'Diff.': ''}\n",
      "{'Symbol': 'SIC', 'LTP': '870.00', '% Change': '-4.4', 'Open': '930.00', 'High': '870.00', 'Low': '928.20', 'Qty.': '15,844', 'PClose': '', 'Diff.': ''}\n",
      "{'Symbol': 'SICL', 'LTP': '947.20', '% Change': '-1.33', 'Open': '960.00', 'High': '940.00', 'Low': '941.00', 'Qty.': '19,240', 'PClose': '', 'Diff.': ''}\n",
      "{'Symbol': 'SIFC', 'LTP': '346.30', '% Change': '-3.54', 'Open': '359.00', 'High': '345.10', 'Low': '352.30', 'Qty.': '10,981', 'PClose': '', 'Diff.': ''}\n",
      "{'Symbol': 'SIGS2', 'LTP': '8.80', '% Change': '-2.65', 'Open': '8.86', 'High': '8.77', 'Low': '8.86', 'Qty.': '3,700', 'PClose': '', 'Diff.': ''}\n",
      "{'Symbol': 'SIKLES', 'LTP': '487.00', '% Change': '0.41', 'Open': '487.50', 'High': '460.90', 'Low': '477.00', 'Qty.': '20,670', 'PClose': '', 'Diff.': ''}\n",
      "{'Symbol': 'SIL', 'LTP': '660.00', '% Change': '1.06', 'Open': '693.90', 'High': '640.10', 'Low': '640.10', 'Qty.': '5,818', 'PClose': '', 'Diff.': ''}\n",
      "{'Symbol': 'SINDU', 'LTP': '296.00', '% Change': '-1.99', 'Open': '303.00', 'High': '295.00', 'Low': '296.00', 'Qty.': '6,030', 'PClose': '', 'Diff.': ''}\n",
      "{'Symbol': 'SJCL', 'LTP': '331.00', '% Change': '-3.22', 'Open': '344.90', 'High': '327.70', 'Low': '336.00', 'Qty.': '50,441', 'PClose': '', 'Diff.': ''}\n",
      "{'Symbol': 'SJLIC', 'LTP': '494.40', '% Change': '9.99', 'Open': '494.40', 'High': '458.40', 'Low': '458.40', 'Qty.': '1,815', 'PClose': '', 'Diff.': ''}\n",
      "{'Symbol': 'SKBBL', 'LTP': '1,266.00', '% Change': '-0.71', 'Open': '1,285.90', 'High': '1,263.00', 'Low': '1,275.00', 'Qty.': '4,864', 'PClose': '', 'Diff.': ''}\n",
      "{'Symbol': 'SLBBL', 'LTP': '1,034.00', '% Change': '-0.3', 'Open': '1,036.00', 'High': '1,018.00', 'Low': '1,036.00', 'Qty.': '4,068', 'PClose': '', 'Diff.': ''}\n",
      "{'Symbol': 'SLBSL', 'LTP': '1,258.00', '% Change': '-0.48', 'Open': '1,283.00', 'High': '1,258.00', 'Low': '1,283.00', 'Qty.': '134', 'PClose': '', 'Diff.': ''}\n",
      "{'Symbol': 'SLCF', 'LTP': '8.21', '% Change': '-2.49', 'Open': '8.40', 'High': '8.20', 'Low': '8.26', 'Qty.': '57,080', 'PClose': '', 'Diff.': ''}\n",
      "{'Symbol': 'SLI', 'LTP': '452.00', '% Change': '-0.24', 'Open': '464.00', 'High': '442.00', 'Low': '453.10', 'Qty.': '13,927', 'PClose': '', 'Diff.': ''}\n",
      "{'Symbol': 'SMATA', 'LTP': '844.00', '% Change': '-2.43', 'Open': '858.80', 'High': '840.00', 'Low': '848.00', 'Qty.': '1,179', 'PClose': '', 'Diff.': ''}\n",
      "{'Symbol': 'SMB', 'LTP': '1,264.00', '% Change': '-1.94', 'Open': '1,265.00', 'High': '1,264.00', 'Low': '1,265.00', 'Qty.': '56', 'PClose': '', 'Diff.': ''}\n",
      "{'Symbol': 'SMFBS', 'LTP': '1,550.00', '% Change': '2.99', 'Open': '1,550.00', 'High': '1,525.00', 'Low': '1,535.00', 'Qty.': '531', 'PClose': '', 'Diff.': ''}\n",
      "{'Symbol': 'SMFDB', 'LTP': '1,324.00', '% Change': '-1.34', 'Open': '1,334.00', 'High': '1,312.10', 'Low': '1,320.00', 'Qty.': '2,587', 'PClose': '', 'Diff.': ''}\n",
      "{'Symbol': 'SPC', 'LTP': '497.00', '% Change': '4.63', 'Open': '500.00', 'High': '465.00', 'Low': '466.00', 'Qty.': '18,719', 'PClose': '', 'Diff.': ''}\n",
      "{'Symbol': 'SPDL', 'LTP': '338.50', '% Change': '0.59', 'Open': '349.80', 'High': '330.00', 'Low': '333.00', 'Qty.': '57,277', 'PClose': '', 'Diff.': ''}\n",
      "{'Symbol': 'SPHL', 'LTP': '483.00', '% Change': '9.8', 'Open': '483.80', 'High': '420.00', 'Low': '431.20', 'Qty.': '22,851', 'PClose': '', 'Diff.': ''}\n",
      "{'Symbol': 'SRBL', 'LTP': '197.00', '% Change': '-0.25', 'Open': '200.00', 'High': '195.00', 'Low': '197.50', 'Qty.': '15,774', 'PClose': '', 'Diff.': ''}\n",
      "{'Symbol': 'SRBLD83', 'LTP': '900.00', '% Change': '-1.59', 'Open': '900.00', 'High': '900.00', 'Low': '900.00', 'Qty.': '20', 'PClose': '', 'Diff.': ''}\n",
      "{'Symbol': 'SSHL', 'LTP': '262.00', '% Change': '-2.6', 'Open': '270.00', 'High': '260.70', 'Low': '264.00', 'Qty.': '142,089', 'PClose': '', 'Diff.': ''}\n",
      "{'Symbol': 'STC', 'LTP': '4,670.00', '% Change': '-0.34', 'Open': '4,685.00', 'High': '4,593.00', 'Low': '4,593.00', 'Qty.': '1,284', 'PClose': '', 'Diff.': ''}\n",
      "{'Symbol': 'SWBBL', 'LTP': '1,180.20', '% Change': '-0.66', 'Open': '1,191.90', 'High': '1,180.00', 'Low': '1,181.00', 'Qty.': '1,817', 'PClose': '', 'Diff.': ''}\n",
      "{'Symbol': 'SWMF', 'LTP': '914.00', '% Change': '-5.28', 'Open': '952.00', 'High': '914.00', 'Low': '946.00', 'Qty.': '11,867', 'PClose': '', 'Diff.': ''}\n",
      "{'Symbol': 'TPC', 'LTP': '439.00', '% Change': '1.86', 'Open': '451.90', 'High': '421.50', 'Low': '430.00', 'Qty.': '10,930', 'PClose': '', 'Diff.': ''}\n",
      "{'Symbol': 'TRH', 'LTP': '507.00', '% Change': '4.32', 'Open': '507.00', 'High': '469.00', 'Low': '476.30', 'Qty.': '67,776', 'PClose': '', 'Diff.': ''}\n",
      "{'Symbol': 'UHEWA', 'LTP': '470.00', '% Change': '0', 'Open': '480.00', 'High': '453.00', 'Low': '460.60', 'Qty.': '15,290', 'PClose': '', 'Diff.': ''}\n",
      "{'Symbol': 'UIC', 'LTP': '470.10', '% Change': '-0.19', 'Open': '480.00', 'High': '462.00', 'Low': '465.00', 'Qty.': '17,855', 'PClose': '', 'Diff.': ''}\n",
      "{'Symbol': 'ULBSL', 'LTP': '3,789.00', '% Change': '1.47', 'Open': '3,951.40', 'High': '3,700.00', 'Low': '3,730.00', 'Qty.': '14,474', 'PClose': '', 'Diff.': ''}\n",
      "{'Symbol': 'UMHL', 'LTP': '280.00', '% Change': '-1.51', 'Open': '285.00', 'High': '277.00', 'Low': '280.00', 'Qty.': '89,657', 'PClose': '', 'Diff.': ''}\n",
      "{'Symbol': 'UMRH', 'LTP': '590.00', '% Change': '7.08', 'Open': '590.00', 'High': '530.00', 'Low': '550.00', 'Qty.': '33,807', 'PClose': '', 'Diff.': ''}\n",
      "{'Symbol': 'UNHPL', 'LTP': '254.00', '% Change': '-0.39', 'Open': '260.10', 'High': '246.00', 'Low': '250.00', 'Qty.': '77,233', 'PClose': '', 'Diff.': ''}\n",
      "{'Symbol': 'UNL', 'LTP': '18,400.00', '% Change': '0.44', 'Open': '18,400.00', 'High': '18,321.00', 'Low': '18,325.00', 'Qty.': '55', 'PClose': '', 'Diff.': ''}\n",
      "{'Symbol': 'UPCL', 'LTP': '262.30', '% Change': '-1.47', 'Open': '270.00', 'High': '262.00', 'Low': '262.00', 'Qty.': '94,783', 'PClose': '', 'Diff.': ''}\n",
      "{'Symbol': 'UPPER', 'LTP': '537.00', '% Change': '-2.13', 'Open': '549.90', 'High': '535.10', 'Low': '548.70', 'Qty.': '97,998', 'PClose': '', 'Diff.': ''}\n",
      "{'Symbol': 'USHEC', 'LTP': '382.00', '% Change': '-2.3', 'Open': '392.80', 'High': '376.10', 'Low': '383.20', 'Qty.': '20,627', 'PClose': '', 'Diff.': ''}\n",
      "{'Symbol': 'USLB', 'LTP': '983.90', '% Change': '-0.01', 'Open': '984.00', 'High': '980.00', 'Low': '984.00', 'Qty.': '360', 'PClose': '', 'Diff.': ''}\n",
      "{'Symbol': 'VLBS', 'LTP': '953.10', '% Change': '-2.74', 'Open': '978.00', 'High': '949.50', 'Low': '961.00', 'Qty.': '956', 'PClose': '', 'Diff.': ''}\n",
      "{'Symbol': 'WNLB', 'LTP': '1,030.10', '% Change': '-2.91', 'Open': '1,046.00', 'High': '1,006.00', 'Low': '1,040.00', 'Qty.': '240', 'PClose': '', 'Diff.': ''}\n"
     ]
    }
   ],
   "source": [
    "#extract headings with data\n",
    "# headers = []\n",
    "# for header in table_code.find_all('th'):\n",
    "#     headers.append(header.text.strip())\n",
    "# rows = []\n",
    "# for row in table_code.find_all('tr'):\n",
    "#     cols = row.find_all('td')\n",
    "#     raw_data = [col.text.strip() for col in cols]\n",
    "#     if raw_data:\n",
    "#         rows.append(dict(zip(headers, raw_data)))\n",
    "\n",
    "# for row in rows:\n",
    "#     print(row)"
   ]
  },
  {
   "cell_type": "code",
   "execution_count": 17,
   "id": "9be7fa56",
   "metadata": {},
   "outputs": [],
   "source": [
    "headings = [header.text for header in table_code.find_all('th')]\n",
    "rows = []\n",
    "for row in table_code.find_all('tr'):\n",
    "    cols = row.find_all('td')\n",
    "    cols = [col.text.strip() for col in cols]\n",
    "    rows.append(cols)\n",
    "\n",
    "table_code_data = [headings] + rows\n",
    "\n"
   ]
  },
  {
   "cell_type": "code",
   "execution_count": 18,
   "id": "4e3c5b36",
   "metadata": {},
   "outputs": [],
   "source": [
    "import csv\n",
    "with open('mero_lagani.csv','w') as file:\n",
    "    x=csv.writer(file)\n",
    "    x.writerows(table_code_data)\n",
    "\n",
    "    file.close()"
   ]
  },
  {
   "cell_type": "code",
   "execution_count": 19,
   "id": "de7e8556",
   "metadata": {},
   "outputs": [
    {
     "data": {
      "text/html": [
       "<div>\n",
       "<style scoped>\n",
       "    .dataframe tbody tr th:only-of-type {\n",
       "        vertical-align: middle;\n",
       "    }\n",
       "\n",
       "    .dataframe tbody tr th {\n",
       "        vertical-align: top;\n",
       "    }\n",
       "\n",
       "    .dataframe thead th {\n",
       "        text-align: right;\n",
       "    }\n",
       "</style>\n",
       "<table border=\"1\" class=\"dataframe\">\n",
       "  <thead>\n",
       "    <tr style=\"text-align: right;\">\n",
       "      <th></th>\n",
       "      <th>Symbol</th>\n",
       "      <th>LTP</th>\n",
       "      <th>% Change</th>\n",
       "      <th>Open</th>\n",
       "      <th>High</th>\n",
       "      <th>Low</th>\n",
       "      <th>Qty.</th>\n",
       "      <th>PClose</th>\n",
       "      <th>Diff.</th>\n",
       "      <th>Unnamed: 9</th>\n",
       "      <th>Unnamed: 10</th>\n",
       "    </tr>\n",
       "  </thead>\n",
       "  <tbody>\n",
       "    <tr>\n",
       "      <th>0</th>\n",
       "      <td>ACLBSL</td>\n",
       "      <td>833.00</td>\n",
       "      <td>-0.95</td>\n",
       "      <td>854.00</td>\n",
       "      <td>824.20</td>\n",
       "      <td>854.00</td>\n",
       "      <td>1,126</td>\n",
       "      <td>NaN</td>\n",
       "      <td>NaN</td>\n",
       "      <td>NaN</td>\n",
       "      <td>NaN</td>\n",
       "    </tr>\n",
       "    <tr>\n",
       "      <th>1</th>\n",
       "      <td>ADBL</td>\n",
       "      <td>305.10</td>\n",
       "      <td>-0.94</td>\n",
       "      <td>310.00</td>\n",
       "      <td>305.10</td>\n",
       "      <td>308.00</td>\n",
       "      <td>37,956</td>\n",
       "      <td>NaN</td>\n",
       "      <td>NaN</td>\n",
       "      <td>NaN</td>\n",
       "      <td>NaN</td>\n",
       "    </tr>\n",
       "    <tr>\n",
       "      <th>2</th>\n",
       "      <td>ADBLD83</td>\n",
       "      <td>890.00</td>\n",
       "      <td>0.45</td>\n",
       "      <td>890.00</td>\n",
       "      <td>890.00</td>\n",
       "      <td>890.00</td>\n",
       "      <td>10</td>\n",
       "      <td>NaN</td>\n",
       "      <td>NaN</td>\n",
       "      <td>NaN</td>\n",
       "      <td>NaN</td>\n",
       "    </tr>\n",
       "    <tr>\n",
       "      <th>3</th>\n",
       "      <td>ADLB</td>\n",
       "      <td>1,317.60</td>\n",
       "      <td>9.99</td>\n",
       "      <td>1,317.60</td>\n",
       "      <td>1,221.80</td>\n",
       "      <td>1,221.80</td>\n",
       "      <td>90</td>\n",
       "      <td>NaN</td>\n",
       "      <td>NaN</td>\n",
       "      <td>NaN</td>\n",
       "      <td>NaN</td>\n",
       "    </tr>\n",
       "    <tr>\n",
       "      <th>4</th>\n",
       "      <td>AHPC</td>\n",
       "      <td>344.00</td>\n",
       "      <td>-1.99</td>\n",
       "      <td>352.00</td>\n",
       "      <td>340.00</td>\n",
       "      <td>344.00</td>\n",
       "      <td>84,498</td>\n",
       "      <td>NaN</td>\n",
       "      <td>NaN</td>\n",
       "      <td>NaN</td>\n",
       "      <td>NaN</td>\n",
       "    </tr>\n",
       "    <tr>\n",
       "      <th>...</th>\n",
       "      <td>...</td>\n",
       "      <td>...</td>\n",
       "      <td>...</td>\n",
       "      <td>...</td>\n",
       "      <td>...</td>\n",
       "      <td>...</td>\n",
       "      <td>...</td>\n",
       "      <td>...</td>\n",
       "      <td>...</td>\n",
       "      <td>...</td>\n",
       "      <td>...</td>\n",
       "    </tr>\n",
       "    <tr>\n",
       "      <th>262</th>\n",
       "      <td>UPPER</td>\n",
       "      <td>537.00</td>\n",
       "      <td>-2.13</td>\n",
       "      <td>549.90</td>\n",
       "      <td>535.10</td>\n",
       "      <td>548.70</td>\n",
       "      <td>97,998</td>\n",
       "      <td>NaN</td>\n",
       "      <td>NaN</td>\n",
       "      <td>NaN</td>\n",
       "      <td>NaN</td>\n",
       "    </tr>\n",
       "    <tr>\n",
       "      <th>263</th>\n",
       "      <td>USHEC</td>\n",
       "      <td>382.00</td>\n",
       "      <td>-2.30</td>\n",
       "      <td>392.80</td>\n",
       "      <td>376.10</td>\n",
       "      <td>383.20</td>\n",
       "      <td>20,627</td>\n",
       "      <td>NaN</td>\n",
       "      <td>NaN</td>\n",
       "      <td>NaN</td>\n",
       "      <td>NaN</td>\n",
       "    </tr>\n",
       "    <tr>\n",
       "      <th>264</th>\n",
       "      <td>USLB</td>\n",
       "      <td>983.90</td>\n",
       "      <td>-0.01</td>\n",
       "      <td>984.00</td>\n",
       "      <td>980.00</td>\n",
       "      <td>984.00</td>\n",
       "      <td>360</td>\n",
       "      <td>NaN</td>\n",
       "      <td>NaN</td>\n",
       "      <td>NaN</td>\n",
       "      <td>NaN</td>\n",
       "    </tr>\n",
       "    <tr>\n",
       "      <th>265</th>\n",
       "      <td>VLBS</td>\n",
       "      <td>953.10</td>\n",
       "      <td>-2.74</td>\n",
       "      <td>978.00</td>\n",
       "      <td>949.50</td>\n",
       "      <td>961.00</td>\n",
       "      <td>956</td>\n",
       "      <td>NaN</td>\n",
       "      <td>NaN</td>\n",
       "      <td>NaN</td>\n",
       "      <td>NaN</td>\n",
       "    </tr>\n",
       "    <tr>\n",
       "      <th>266</th>\n",
       "      <td>WNLB</td>\n",
       "      <td>1,030.10</td>\n",
       "      <td>-2.91</td>\n",
       "      <td>1,046.00</td>\n",
       "      <td>1,006.00</td>\n",
       "      <td>1,040.00</td>\n",
       "      <td>240</td>\n",
       "      <td>NaN</td>\n",
       "      <td>NaN</td>\n",
       "      <td>NaN</td>\n",
       "      <td>NaN</td>\n",
       "    </tr>\n",
       "  </tbody>\n",
       "</table>\n",
       "<p>267 rows × 11 columns</p>\n",
       "</div>"
      ],
      "text/plain": [
       "      Symbol       LTP  % Change      Open      High       Low    Qty.  \\\n",
       "0     ACLBSL    833.00     -0.95    854.00    824.20    854.00   1,126   \n",
       "1       ADBL    305.10     -0.94    310.00    305.10    308.00  37,956   \n",
       "2    ADBLD83    890.00      0.45    890.00    890.00    890.00      10   \n",
       "3       ADLB  1,317.60      9.99  1,317.60  1,221.80  1,221.80      90   \n",
       "4       AHPC    344.00     -1.99    352.00    340.00    344.00  84,498   \n",
       "..       ...       ...       ...       ...       ...       ...     ...   \n",
       "262    UPPER    537.00     -2.13    549.90    535.10    548.70  97,998   \n",
       "263    USHEC    382.00     -2.30    392.80    376.10    383.20  20,627   \n",
       "264     USLB    983.90     -0.01    984.00    980.00    984.00     360   \n",
       "265     VLBS    953.10     -2.74    978.00    949.50    961.00     956   \n",
       "266     WNLB  1,030.10     -2.91  1,046.00  1,006.00  1,040.00     240   \n",
       "\n",
       "     PClose  Diff.  Unnamed: 9  Unnamed: 10  \n",
       "0       NaN    NaN         NaN          NaN  \n",
       "1       NaN    NaN         NaN          NaN  \n",
       "2       NaN    NaN         NaN          NaN  \n",
       "3       NaN    NaN         NaN          NaN  \n",
       "4       NaN    NaN         NaN          NaN  \n",
       "..      ...    ...         ...          ...  \n",
       "262     NaN    NaN         NaN          NaN  \n",
       "263     NaN    NaN         NaN          NaN  \n",
       "264     NaN    NaN         NaN          NaN  \n",
       "265     NaN    NaN         NaN          NaN  \n",
       "266     NaN    NaN         NaN          NaN  \n",
       "\n",
       "[267 rows x 11 columns]"
      ]
     },
     "execution_count": 19,
     "metadata": {},
     "output_type": "execute_result"
    }
   ],
   "source": [
    "# uf8 error aayo vane encoding latin garne\n",
    "import pandas as pd\n",
    "df = pd.read_csv('mero_lagani.csv')\n",
    "df"
   ]
  },
  {
   "cell_type": "code",
   "execution_count": 20,
   "id": "c4639b01",
   "metadata": {},
   "outputs": [
    {
     "data": {
      "text/plain": [
       "Index(['Symbol', 'LTP', '% Change', 'Open', 'High', 'Low', 'Qty.', 'PClose',\n",
       "       'Diff.', 'Unnamed: 9', 'Unnamed: 10'],\n",
       "      dtype='object')"
      ]
     },
     "execution_count": 20,
     "metadata": {},
     "output_type": "execute_result"
    }
   ],
   "source": [
    "df.columns"
   ]
  },
  {
   "cell_type": "code",
   "execution_count": 25,
   "id": "098f6ef4",
   "metadata": {},
   "outputs": [
    {
     "data": {
      "application/vnd.plotly.v1+json": {
       "config": {
        "plotlyServerURL": "https://plot.ly"
       },
       "data": [
        {
         "type": "bar",
         "x": [
          "ACLBSL",
          "ADBL",
          "ADBLD83",
          "ADLB",
          "AHPC",
          "AIL",
          "AKBSL",
          "AKJCL",
          "AKPL",
          "ALBSL"
         ],
         "y": [
          "833.00",
          "305.10",
          "890.00",
          "1,317.60",
          "344.00",
          "523.00",
          "1,277.00",
          "253.00",
          "420.00",
          "1,037.00"
         ]
        }
       ],
       "layout": {
        "template": {
         "data": {
          "bar": [
           {
            "error_x": {
             "color": "#2a3f5f"
            },
            "error_y": {
             "color": "#2a3f5f"
            },
            "marker": {
             "line": {
              "color": "#E5ECF6",
              "width": 0.5
             },
             "pattern": {
              "fillmode": "overlay",
              "size": 10,
              "solidity": 0.2
             }
            },
            "type": "bar"
           }
          ],
          "barpolar": [
           {
            "marker": {
             "line": {
              "color": "#E5ECF6",
              "width": 0.5
             },
             "pattern": {
              "fillmode": "overlay",
              "size": 10,
              "solidity": 0.2
             }
            },
            "type": "barpolar"
           }
          ],
          "carpet": [
           {
            "aaxis": {
             "endlinecolor": "#2a3f5f",
             "gridcolor": "white",
             "linecolor": "white",
             "minorgridcolor": "white",
             "startlinecolor": "#2a3f5f"
            },
            "baxis": {
             "endlinecolor": "#2a3f5f",
             "gridcolor": "white",
             "linecolor": "white",
             "minorgridcolor": "white",
             "startlinecolor": "#2a3f5f"
            },
            "type": "carpet"
           }
          ],
          "choropleth": [
           {
            "colorbar": {
             "outlinewidth": 0,
             "ticks": ""
            },
            "type": "choropleth"
           }
          ],
          "contour": [
           {
            "colorbar": {
             "outlinewidth": 0,
             "ticks": ""
            },
            "colorscale": [
             [
              0,
              "#0d0887"
             ],
             [
              0.1111111111111111,
              "#46039f"
             ],
             [
              0.2222222222222222,
              "#7201a8"
             ],
             [
              0.3333333333333333,
              "#9c179e"
             ],
             [
              0.4444444444444444,
              "#bd3786"
             ],
             [
              0.5555555555555556,
              "#d8576b"
             ],
             [
              0.6666666666666666,
              "#ed7953"
             ],
             [
              0.7777777777777778,
              "#fb9f3a"
             ],
             [
              0.8888888888888888,
              "#fdca26"
             ],
             [
              1,
              "#f0f921"
             ]
            ],
            "type": "contour"
           }
          ],
          "contourcarpet": [
           {
            "colorbar": {
             "outlinewidth": 0,
             "ticks": ""
            },
            "type": "contourcarpet"
           }
          ],
          "heatmap": [
           {
            "colorbar": {
             "outlinewidth": 0,
             "ticks": ""
            },
            "colorscale": [
             [
              0,
              "#0d0887"
             ],
             [
              0.1111111111111111,
              "#46039f"
             ],
             [
              0.2222222222222222,
              "#7201a8"
             ],
             [
              0.3333333333333333,
              "#9c179e"
             ],
             [
              0.4444444444444444,
              "#bd3786"
             ],
             [
              0.5555555555555556,
              "#d8576b"
             ],
             [
              0.6666666666666666,
              "#ed7953"
             ],
             [
              0.7777777777777778,
              "#fb9f3a"
             ],
             [
              0.8888888888888888,
              "#fdca26"
             ],
             [
              1,
              "#f0f921"
             ]
            ],
            "type": "heatmap"
           }
          ],
          "heatmapgl": [
           {
            "colorbar": {
             "outlinewidth": 0,
             "ticks": ""
            },
            "colorscale": [
             [
              0,
              "#0d0887"
             ],
             [
              0.1111111111111111,
              "#46039f"
             ],
             [
              0.2222222222222222,
              "#7201a8"
             ],
             [
              0.3333333333333333,
              "#9c179e"
             ],
             [
              0.4444444444444444,
              "#bd3786"
             ],
             [
              0.5555555555555556,
              "#d8576b"
             ],
             [
              0.6666666666666666,
              "#ed7953"
             ],
             [
              0.7777777777777778,
              "#fb9f3a"
             ],
             [
              0.8888888888888888,
              "#fdca26"
             ],
             [
              1,
              "#f0f921"
             ]
            ],
            "type": "heatmapgl"
           }
          ],
          "histogram": [
           {
            "marker": {
             "pattern": {
              "fillmode": "overlay",
              "size": 10,
              "solidity": 0.2
             }
            },
            "type": "histogram"
           }
          ],
          "histogram2d": [
           {
            "colorbar": {
             "outlinewidth": 0,
             "ticks": ""
            },
            "colorscale": [
             [
              0,
              "#0d0887"
             ],
             [
              0.1111111111111111,
              "#46039f"
             ],
             [
              0.2222222222222222,
              "#7201a8"
             ],
             [
              0.3333333333333333,
              "#9c179e"
             ],
             [
              0.4444444444444444,
              "#bd3786"
             ],
             [
              0.5555555555555556,
              "#d8576b"
             ],
             [
              0.6666666666666666,
              "#ed7953"
             ],
             [
              0.7777777777777778,
              "#fb9f3a"
             ],
             [
              0.8888888888888888,
              "#fdca26"
             ],
             [
              1,
              "#f0f921"
             ]
            ],
            "type": "histogram2d"
           }
          ],
          "histogram2dcontour": [
           {
            "colorbar": {
             "outlinewidth": 0,
             "ticks": ""
            },
            "colorscale": [
             [
              0,
              "#0d0887"
             ],
             [
              0.1111111111111111,
              "#46039f"
             ],
             [
              0.2222222222222222,
              "#7201a8"
             ],
             [
              0.3333333333333333,
              "#9c179e"
             ],
             [
              0.4444444444444444,
              "#bd3786"
             ],
             [
              0.5555555555555556,
              "#d8576b"
             ],
             [
              0.6666666666666666,
              "#ed7953"
             ],
             [
              0.7777777777777778,
              "#fb9f3a"
             ],
             [
              0.8888888888888888,
              "#fdca26"
             ],
             [
              1,
              "#f0f921"
             ]
            ],
            "type": "histogram2dcontour"
           }
          ],
          "mesh3d": [
           {
            "colorbar": {
             "outlinewidth": 0,
             "ticks": ""
            },
            "type": "mesh3d"
           }
          ],
          "parcoords": [
           {
            "line": {
             "colorbar": {
              "outlinewidth": 0,
              "ticks": ""
             }
            },
            "type": "parcoords"
           }
          ],
          "pie": [
           {
            "automargin": true,
            "type": "pie"
           }
          ],
          "scatter": [
           {
            "fillpattern": {
             "fillmode": "overlay",
             "size": 10,
             "solidity": 0.2
            },
            "type": "scatter"
           }
          ],
          "scatter3d": [
           {
            "line": {
             "colorbar": {
              "outlinewidth": 0,
              "ticks": ""
             }
            },
            "marker": {
             "colorbar": {
              "outlinewidth": 0,
              "ticks": ""
             }
            },
            "type": "scatter3d"
           }
          ],
          "scattercarpet": [
           {
            "marker": {
             "colorbar": {
              "outlinewidth": 0,
              "ticks": ""
             }
            },
            "type": "scattercarpet"
           }
          ],
          "scattergeo": [
           {
            "marker": {
             "colorbar": {
              "outlinewidth": 0,
              "ticks": ""
             }
            },
            "type": "scattergeo"
           }
          ],
          "scattergl": [
           {
            "marker": {
             "colorbar": {
              "outlinewidth": 0,
              "ticks": ""
             }
            },
            "type": "scattergl"
           }
          ],
          "scattermapbox": [
           {
            "marker": {
             "colorbar": {
              "outlinewidth": 0,
              "ticks": ""
             }
            },
            "type": "scattermapbox"
           }
          ],
          "scatterpolar": [
           {
            "marker": {
             "colorbar": {
              "outlinewidth": 0,
              "ticks": ""
             }
            },
            "type": "scatterpolar"
           }
          ],
          "scatterpolargl": [
           {
            "marker": {
             "colorbar": {
              "outlinewidth": 0,
              "ticks": ""
             }
            },
            "type": "scatterpolargl"
           }
          ],
          "scatterternary": [
           {
            "marker": {
             "colorbar": {
              "outlinewidth": 0,
              "ticks": ""
             }
            },
            "type": "scatterternary"
           }
          ],
          "surface": [
           {
            "colorbar": {
             "outlinewidth": 0,
             "ticks": ""
            },
            "colorscale": [
             [
              0,
              "#0d0887"
             ],
             [
              0.1111111111111111,
              "#46039f"
             ],
             [
              0.2222222222222222,
              "#7201a8"
             ],
             [
              0.3333333333333333,
              "#9c179e"
             ],
             [
              0.4444444444444444,
              "#bd3786"
             ],
             [
              0.5555555555555556,
              "#d8576b"
             ],
             [
              0.6666666666666666,
              "#ed7953"
             ],
             [
              0.7777777777777778,
              "#fb9f3a"
             ],
             [
              0.8888888888888888,
              "#fdca26"
             ],
             [
              1,
              "#f0f921"
             ]
            ],
            "type": "surface"
           }
          ],
          "table": [
           {
            "cells": {
             "fill": {
              "color": "#EBF0F8"
             },
             "line": {
              "color": "white"
             }
            },
            "header": {
             "fill": {
              "color": "#C8D4E3"
             },
             "line": {
              "color": "white"
             }
            },
            "type": "table"
           }
          ]
         },
         "layout": {
          "annotationdefaults": {
           "arrowcolor": "#2a3f5f",
           "arrowhead": 0,
           "arrowwidth": 1
          },
          "autotypenumbers": "strict",
          "coloraxis": {
           "colorbar": {
            "outlinewidth": 0,
            "ticks": ""
           }
          },
          "colorscale": {
           "diverging": [
            [
             0,
             "#8e0152"
            ],
            [
             0.1,
             "#c51b7d"
            ],
            [
             0.2,
             "#de77ae"
            ],
            [
             0.3,
             "#f1b6da"
            ],
            [
             0.4,
             "#fde0ef"
            ],
            [
             0.5,
             "#f7f7f7"
            ],
            [
             0.6,
             "#e6f5d0"
            ],
            [
             0.7,
             "#b8e186"
            ],
            [
             0.8,
             "#7fbc41"
            ],
            [
             0.9,
             "#4d9221"
            ],
            [
             1,
             "#276419"
            ]
           ],
           "sequential": [
            [
             0,
             "#0d0887"
            ],
            [
             0.1111111111111111,
             "#46039f"
            ],
            [
             0.2222222222222222,
             "#7201a8"
            ],
            [
             0.3333333333333333,
             "#9c179e"
            ],
            [
             0.4444444444444444,
             "#bd3786"
            ],
            [
             0.5555555555555556,
             "#d8576b"
            ],
            [
             0.6666666666666666,
             "#ed7953"
            ],
            [
             0.7777777777777778,
             "#fb9f3a"
            ],
            [
             0.8888888888888888,
             "#fdca26"
            ],
            [
             1,
             "#f0f921"
            ]
           ],
           "sequentialminus": [
            [
             0,
             "#0d0887"
            ],
            [
             0.1111111111111111,
             "#46039f"
            ],
            [
             0.2222222222222222,
             "#7201a8"
            ],
            [
             0.3333333333333333,
             "#9c179e"
            ],
            [
             0.4444444444444444,
             "#bd3786"
            ],
            [
             0.5555555555555556,
             "#d8576b"
            ],
            [
             0.6666666666666666,
             "#ed7953"
            ],
            [
             0.7777777777777778,
             "#fb9f3a"
            ],
            [
             0.8888888888888888,
             "#fdca26"
            ],
            [
             1,
             "#f0f921"
            ]
           ]
          },
          "colorway": [
           "#636efa",
           "#EF553B",
           "#00cc96",
           "#ab63fa",
           "#FFA15A",
           "#19d3f3",
           "#FF6692",
           "#B6E880",
           "#FF97FF",
           "#FECB52"
          ],
          "font": {
           "color": "#2a3f5f"
          },
          "geo": {
           "bgcolor": "white",
           "lakecolor": "white",
           "landcolor": "#E5ECF6",
           "showlakes": true,
           "showland": true,
           "subunitcolor": "white"
          },
          "hoverlabel": {
           "align": "left"
          },
          "hovermode": "closest",
          "mapbox": {
           "style": "light"
          },
          "paper_bgcolor": "white",
          "plot_bgcolor": "#E5ECF6",
          "polar": {
           "angularaxis": {
            "gridcolor": "white",
            "linecolor": "white",
            "ticks": ""
           },
           "bgcolor": "#E5ECF6",
           "radialaxis": {
            "gridcolor": "white",
            "linecolor": "white",
            "ticks": ""
           }
          },
          "scene": {
           "xaxis": {
            "backgroundcolor": "#E5ECF6",
            "gridcolor": "white",
            "gridwidth": 2,
            "linecolor": "white",
            "showbackground": true,
            "ticks": "",
            "zerolinecolor": "white"
           },
           "yaxis": {
            "backgroundcolor": "#E5ECF6",
            "gridcolor": "white",
            "gridwidth": 2,
            "linecolor": "white",
            "showbackground": true,
            "ticks": "",
            "zerolinecolor": "white"
           },
           "zaxis": {
            "backgroundcolor": "#E5ECF6",
            "gridcolor": "white",
            "gridwidth": 2,
            "linecolor": "white",
            "showbackground": true,
            "ticks": "",
            "zerolinecolor": "white"
           }
          },
          "shapedefaults": {
           "line": {
            "color": "#2a3f5f"
           }
          },
          "ternary": {
           "aaxis": {
            "gridcolor": "white",
            "linecolor": "white",
            "ticks": ""
           },
           "baxis": {
            "gridcolor": "white",
            "linecolor": "white",
            "ticks": ""
           },
           "bgcolor": "#E5ECF6",
           "caxis": {
            "gridcolor": "white",
            "linecolor": "white",
            "ticks": ""
           }
          },
          "title": {
           "x": 0.05
          },
          "xaxis": {
           "automargin": true,
           "gridcolor": "white",
           "linecolor": "white",
           "ticks": "",
           "title": {
            "standoff": 15
           },
           "zerolinecolor": "white",
           "zerolinewidth": 2
          },
          "yaxis": {
           "automargin": true,
           "gridcolor": "white",
           "linecolor": "white",
           "ticks": "",
           "title": {
            "standoff": 15
           },
           "zerolinecolor": "white",
           "zerolinewidth": 2
          }
         }
        }
       }
      },
      "text/html": [
       "<div>                            <div id=\"3b239955-88f2-4182-a861-248f27ee577a\" class=\"plotly-graph-div\" style=\"height:525px; width:100%;\"></div>            <script type=\"text/javascript\">                require([\"plotly\"], function(Plotly) {                    window.PLOTLYENV=window.PLOTLYENV || {};                                    if (document.getElementById(\"3b239955-88f2-4182-a861-248f27ee577a\")) {                    Plotly.newPlot(                        \"3b239955-88f2-4182-a861-248f27ee577a\",                        [{\"x\":[\"ACLBSL\",\"ADBL\",\"ADBLD83\",\"ADLB\",\"AHPC\",\"AIL\",\"AKBSL\",\"AKJCL\",\"AKPL\",\"ALBSL\"],\"y\":[\"833.00\",\"305.10\",\"890.00\",\"1,317.60\",\"344.00\",\"523.00\",\"1,277.00\",\"253.00\",\"420.00\",\"1,037.00\"],\"type\":\"bar\"}],                        {\"template\":{\"data\":{\"histogram2dcontour\":[{\"type\":\"histogram2dcontour\",\"colorbar\":{\"outlinewidth\":0,\"ticks\":\"\"},\"colorscale\":[[0.0,\"#0d0887\"],[0.1111111111111111,\"#46039f\"],[0.2222222222222222,\"#7201a8\"],[0.3333333333333333,\"#9c179e\"],[0.4444444444444444,\"#bd3786\"],[0.5555555555555556,\"#d8576b\"],[0.6666666666666666,\"#ed7953\"],[0.7777777777777778,\"#fb9f3a\"],[0.8888888888888888,\"#fdca26\"],[1.0,\"#f0f921\"]]}],\"choropleth\":[{\"type\":\"choropleth\",\"colorbar\":{\"outlinewidth\":0,\"ticks\":\"\"}}],\"histogram2d\":[{\"type\":\"histogram2d\",\"colorbar\":{\"outlinewidth\":0,\"ticks\":\"\"},\"colorscale\":[[0.0,\"#0d0887\"],[0.1111111111111111,\"#46039f\"],[0.2222222222222222,\"#7201a8\"],[0.3333333333333333,\"#9c179e\"],[0.4444444444444444,\"#bd3786\"],[0.5555555555555556,\"#d8576b\"],[0.6666666666666666,\"#ed7953\"],[0.7777777777777778,\"#fb9f3a\"],[0.8888888888888888,\"#fdca26\"],[1.0,\"#f0f921\"]]}],\"heatmap\":[{\"type\":\"heatmap\",\"colorbar\":{\"outlinewidth\":0,\"ticks\":\"\"},\"colorscale\":[[0.0,\"#0d0887\"],[0.1111111111111111,\"#46039f\"],[0.2222222222222222,\"#7201a8\"],[0.3333333333333333,\"#9c179e\"],[0.4444444444444444,\"#bd3786\"],[0.5555555555555556,\"#d8576b\"],[0.6666666666666666,\"#ed7953\"],[0.7777777777777778,\"#fb9f3a\"],[0.8888888888888888,\"#fdca26\"],[1.0,\"#f0f921\"]]}],\"heatmapgl\":[{\"type\":\"heatmapgl\",\"colorbar\":{\"outlinewidth\":0,\"ticks\":\"\"},\"colorscale\":[[0.0,\"#0d0887\"],[0.1111111111111111,\"#46039f\"],[0.2222222222222222,\"#7201a8\"],[0.3333333333333333,\"#9c179e\"],[0.4444444444444444,\"#bd3786\"],[0.5555555555555556,\"#d8576b\"],[0.6666666666666666,\"#ed7953\"],[0.7777777777777778,\"#fb9f3a\"],[0.8888888888888888,\"#fdca26\"],[1.0,\"#f0f921\"]]}],\"contourcarpet\":[{\"type\":\"contourcarpet\",\"colorbar\":{\"outlinewidth\":0,\"ticks\":\"\"}}],\"contour\":[{\"type\":\"contour\",\"colorbar\":{\"outlinewidth\":0,\"ticks\":\"\"},\"colorscale\":[[0.0,\"#0d0887\"],[0.1111111111111111,\"#46039f\"],[0.2222222222222222,\"#7201a8\"],[0.3333333333333333,\"#9c179e\"],[0.4444444444444444,\"#bd3786\"],[0.5555555555555556,\"#d8576b\"],[0.6666666666666666,\"#ed7953\"],[0.7777777777777778,\"#fb9f3a\"],[0.8888888888888888,\"#fdca26\"],[1.0,\"#f0f921\"]]}],\"surface\":[{\"type\":\"surface\",\"colorbar\":{\"outlinewidth\":0,\"ticks\":\"\"},\"colorscale\":[[0.0,\"#0d0887\"],[0.1111111111111111,\"#46039f\"],[0.2222222222222222,\"#7201a8\"],[0.3333333333333333,\"#9c179e\"],[0.4444444444444444,\"#bd3786\"],[0.5555555555555556,\"#d8576b\"],[0.6666666666666666,\"#ed7953\"],[0.7777777777777778,\"#fb9f3a\"],[0.8888888888888888,\"#fdca26\"],[1.0,\"#f0f921\"]]}],\"mesh3d\":[{\"type\":\"mesh3d\",\"colorbar\":{\"outlinewidth\":0,\"ticks\":\"\"}}],\"scatter\":[{\"fillpattern\":{\"fillmode\":\"overlay\",\"size\":10,\"solidity\":0.2},\"type\":\"scatter\"}],\"parcoords\":[{\"type\":\"parcoords\",\"line\":{\"colorbar\":{\"outlinewidth\":0,\"ticks\":\"\"}}}],\"scatterpolargl\":[{\"type\":\"scatterpolargl\",\"marker\":{\"colorbar\":{\"outlinewidth\":0,\"ticks\":\"\"}}}],\"bar\":[{\"error_x\":{\"color\":\"#2a3f5f\"},\"error_y\":{\"color\":\"#2a3f5f\"},\"marker\":{\"line\":{\"color\":\"#E5ECF6\",\"width\":0.5},\"pattern\":{\"fillmode\":\"overlay\",\"size\":10,\"solidity\":0.2}},\"type\":\"bar\"}],\"scattergeo\":[{\"type\":\"scattergeo\",\"marker\":{\"colorbar\":{\"outlinewidth\":0,\"ticks\":\"\"}}}],\"scatterpolar\":[{\"type\":\"scatterpolar\",\"marker\":{\"colorbar\":{\"outlinewidth\":0,\"ticks\":\"\"}}}],\"histogram\":[{\"marker\":{\"pattern\":{\"fillmode\":\"overlay\",\"size\":10,\"solidity\":0.2}},\"type\":\"histogram\"}],\"scattergl\":[{\"type\":\"scattergl\",\"marker\":{\"colorbar\":{\"outlinewidth\":0,\"ticks\":\"\"}}}],\"scatter3d\":[{\"type\":\"scatter3d\",\"line\":{\"colorbar\":{\"outlinewidth\":0,\"ticks\":\"\"}},\"marker\":{\"colorbar\":{\"outlinewidth\":0,\"ticks\":\"\"}}}],\"scattermapbox\":[{\"type\":\"scattermapbox\",\"marker\":{\"colorbar\":{\"outlinewidth\":0,\"ticks\":\"\"}}}],\"scatterternary\":[{\"type\":\"scatterternary\",\"marker\":{\"colorbar\":{\"outlinewidth\":0,\"ticks\":\"\"}}}],\"scattercarpet\":[{\"type\":\"scattercarpet\",\"marker\":{\"colorbar\":{\"outlinewidth\":0,\"ticks\":\"\"}}}],\"carpet\":[{\"aaxis\":{\"endlinecolor\":\"#2a3f5f\",\"gridcolor\":\"white\",\"linecolor\":\"white\",\"minorgridcolor\":\"white\",\"startlinecolor\":\"#2a3f5f\"},\"baxis\":{\"endlinecolor\":\"#2a3f5f\",\"gridcolor\":\"white\",\"linecolor\":\"white\",\"minorgridcolor\":\"white\",\"startlinecolor\":\"#2a3f5f\"},\"type\":\"carpet\"}],\"table\":[{\"cells\":{\"fill\":{\"color\":\"#EBF0F8\"},\"line\":{\"color\":\"white\"}},\"header\":{\"fill\":{\"color\":\"#C8D4E3\"},\"line\":{\"color\":\"white\"}},\"type\":\"table\"}],\"barpolar\":[{\"marker\":{\"line\":{\"color\":\"#E5ECF6\",\"width\":0.5},\"pattern\":{\"fillmode\":\"overlay\",\"size\":10,\"solidity\":0.2}},\"type\":\"barpolar\"}],\"pie\":[{\"automargin\":true,\"type\":\"pie\"}]},\"layout\":{\"autotypenumbers\":\"strict\",\"colorway\":[\"#636efa\",\"#EF553B\",\"#00cc96\",\"#ab63fa\",\"#FFA15A\",\"#19d3f3\",\"#FF6692\",\"#B6E880\",\"#FF97FF\",\"#FECB52\"],\"font\":{\"color\":\"#2a3f5f\"},\"hovermode\":\"closest\",\"hoverlabel\":{\"align\":\"left\"},\"paper_bgcolor\":\"white\",\"plot_bgcolor\":\"#E5ECF6\",\"polar\":{\"bgcolor\":\"#E5ECF6\",\"angularaxis\":{\"gridcolor\":\"white\",\"linecolor\":\"white\",\"ticks\":\"\"},\"radialaxis\":{\"gridcolor\":\"white\",\"linecolor\":\"white\",\"ticks\":\"\"}},\"ternary\":{\"bgcolor\":\"#E5ECF6\",\"aaxis\":{\"gridcolor\":\"white\",\"linecolor\":\"white\",\"ticks\":\"\"},\"baxis\":{\"gridcolor\":\"white\",\"linecolor\":\"white\",\"ticks\":\"\"},\"caxis\":{\"gridcolor\":\"white\",\"linecolor\":\"white\",\"ticks\":\"\"}},\"coloraxis\":{\"colorbar\":{\"outlinewidth\":0,\"ticks\":\"\"}},\"colorscale\":{\"sequential\":[[0.0,\"#0d0887\"],[0.1111111111111111,\"#46039f\"],[0.2222222222222222,\"#7201a8\"],[0.3333333333333333,\"#9c179e\"],[0.4444444444444444,\"#bd3786\"],[0.5555555555555556,\"#d8576b\"],[0.6666666666666666,\"#ed7953\"],[0.7777777777777778,\"#fb9f3a\"],[0.8888888888888888,\"#fdca26\"],[1.0,\"#f0f921\"]],\"sequentialminus\":[[0.0,\"#0d0887\"],[0.1111111111111111,\"#46039f\"],[0.2222222222222222,\"#7201a8\"],[0.3333333333333333,\"#9c179e\"],[0.4444444444444444,\"#bd3786\"],[0.5555555555555556,\"#d8576b\"],[0.6666666666666666,\"#ed7953\"],[0.7777777777777778,\"#fb9f3a\"],[0.8888888888888888,\"#fdca26\"],[1.0,\"#f0f921\"]],\"diverging\":[[0,\"#8e0152\"],[0.1,\"#c51b7d\"],[0.2,\"#de77ae\"],[0.3,\"#f1b6da\"],[0.4,\"#fde0ef\"],[0.5,\"#f7f7f7\"],[0.6,\"#e6f5d0\"],[0.7,\"#b8e186\"],[0.8,\"#7fbc41\"],[0.9,\"#4d9221\"],[1,\"#276419\"]]},\"xaxis\":{\"gridcolor\":\"white\",\"linecolor\":\"white\",\"ticks\":\"\",\"title\":{\"standoff\":15},\"zerolinecolor\":\"white\",\"automargin\":true,\"zerolinewidth\":2},\"yaxis\":{\"gridcolor\":\"white\",\"linecolor\":\"white\",\"ticks\":\"\",\"title\":{\"standoff\":15},\"zerolinecolor\":\"white\",\"automargin\":true,\"zerolinewidth\":2},\"scene\":{\"xaxis\":{\"backgroundcolor\":\"#E5ECF6\",\"gridcolor\":\"white\",\"linecolor\":\"white\",\"showbackground\":true,\"ticks\":\"\",\"zerolinecolor\":\"white\",\"gridwidth\":2},\"yaxis\":{\"backgroundcolor\":\"#E5ECF6\",\"gridcolor\":\"white\",\"linecolor\":\"white\",\"showbackground\":true,\"ticks\":\"\",\"zerolinecolor\":\"white\",\"gridwidth\":2},\"zaxis\":{\"backgroundcolor\":\"#E5ECF6\",\"gridcolor\":\"white\",\"linecolor\":\"white\",\"showbackground\":true,\"ticks\":\"\",\"zerolinecolor\":\"white\",\"gridwidth\":2}},\"shapedefaults\":{\"line\":{\"color\":\"#2a3f5f\"}},\"annotationdefaults\":{\"arrowcolor\":\"#2a3f5f\",\"arrowhead\":0,\"arrowwidth\":1},\"geo\":{\"bgcolor\":\"white\",\"landcolor\":\"#E5ECF6\",\"subunitcolor\":\"white\",\"showland\":true,\"showlakes\":true,\"lakecolor\":\"white\"},\"title\":{\"x\":0.05},\"mapbox\":{\"style\":\"light\"}}}},                        {\"responsive\": true}                    ).then(function(){\n",
       "                            \n",
       "var gd = document.getElementById('3b239955-88f2-4182-a861-248f27ee577a');\n",
       "var x = new MutationObserver(function (mutations, observer) {{\n",
       "        var display = window.getComputedStyle(gd).display;\n",
       "        if (!display || display === 'none') {{\n",
       "            console.log([gd, 'removed!']);\n",
       "            Plotly.purge(gd);\n",
       "            observer.disconnect();\n",
       "        }}\n",
       "}});\n",
       "\n",
       "// Listen for the removal of the full notebook cells\n",
       "var notebookContainer = gd.closest('#notebook-container');\n",
       "if (notebookContainer) {{\n",
       "    x.observe(notebookContainer, {childList: true});\n",
       "}}\n",
       "\n",
       "// Listen for the clearing of the current output cell\n",
       "var outputEl = gd.closest('.output');\n",
       "if (outputEl) {{\n",
       "    x.observe(outputEl, {childList: true});\n",
       "}}\n",
       "\n",
       "                        })                };                });            </script>        </div>"
      ]
     },
     "metadata": {},
     "output_type": "display_data"
    }
   ],
   "source": [
    "import plotly.graph_objects as go\n",
    "symbol=df['Symbol'][0:10]\n",
    "LTP=df['LTP'][0:10]\n",
    "fig = go.Figure([go.Bar(x=symbol,y=LTP)])\n",
    "fig.show()"
   ]
  },
  {
   "cell_type": "code",
   "execution_count": 26,
   "id": "9e3fe4f2",
   "metadata": {},
   "outputs": [
    {
     "data": {
      "application/vnd.plotly.v1+json": {
       "config": {
        "plotlyServerURL": "https://plot.ly"
       },
       "data": [
        {
         "labels": [
          "ACLBSL",
          "ADBL",
          "ADBLD83",
          "ADLB",
          "AHPC",
          "AIL",
          "AKBSL",
          "AKJCL",
          "AKPL",
          "ALBSL"
         ],
         "type": "pie",
         "values": [
          "833.00",
          "305.10",
          "890.00",
          "1,317.60",
          "344.00",
          "523.00",
          "1,277.00",
          "253.00",
          "420.00",
          "1,037.00"
         ]
        }
       ],
       "layout": {
        "template": {
         "data": {
          "bar": [
           {
            "error_x": {
             "color": "#2a3f5f"
            },
            "error_y": {
             "color": "#2a3f5f"
            },
            "marker": {
             "line": {
              "color": "#E5ECF6",
              "width": 0.5
             },
             "pattern": {
              "fillmode": "overlay",
              "size": 10,
              "solidity": 0.2
             }
            },
            "type": "bar"
           }
          ],
          "barpolar": [
           {
            "marker": {
             "line": {
              "color": "#E5ECF6",
              "width": 0.5
             },
             "pattern": {
              "fillmode": "overlay",
              "size": 10,
              "solidity": 0.2
             }
            },
            "type": "barpolar"
           }
          ],
          "carpet": [
           {
            "aaxis": {
             "endlinecolor": "#2a3f5f",
             "gridcolor": "white",
             "linecolor": "white",
             "minorgridcolor": "white",
             "startlinecolor": "#2a3f5f"
            },
            "baxis": {
             "endlinecolor": "#2a3f5f",
             "gridcolor": "white",
             "linecolor": "white",
             "minorgridcolor": "white",
             "startlinecolor": "#2a3f5f"
            },
            "type": "carpet"
           }
          ],
          "choropleth": [
           {
            "colorbar": {
             "outlinewidth": 0,
             "ticks": ""
            },
            "type": "choropleth"
           }
          ],
          "contour": [
           {
            "colorbar": {
             "outlinewidth": 0,
             "ticks": ""
            },
            "colorscale": [
             [
              0,
              "#0d0887"
             ],
             [
              0.1111111111111111,
              "#46039f"
             ],
             [
              0.2222222222222222,
              "#7201a8"
             ],
             [
              0.3333333333333333,
              "#9c179e"
             ],
             [
              0.4444444444444444,
              "#bd3786"
             ],
             [
              0.5555555555555556,
              "#d8576b"
             ],
             [
              0.6666666666666666,
              "#ed7953"
             ],
             [
              0.7777777777777778,
              "#fb9f3a"
             ],
             [
              0.8888888888888888,
              "#fdca26"
             ],
             [
              1,
              "#f0f921"
             ]
            ],
            "type": "contour"
           }
          ],
          "contourcarpet": [
           {
            "colorbar": {
             "outlinewidth": 0,
             "ticks": ""
            },
            "type": "contourcarpet"
           }
          ],
          "heatmap": [
           {
            "colorbar": {
             "outlinewidth": 0,
             "ticks": ""
            },
            "colorscale": [
             [
              0,
              "#0d0887"
             ],
             [
              0.1111111111111111,
              "#46039f"
             ],
             [
              0.2222222222222222,
              "#7201a8"
             ],
             [
              0.3333333333333333,
              "#9c179e"
             ],
             [
              0.4444444444444444,
              "#bd3786"
             ],
             [
              0.5555555555555556,
              "#d8576b"
             ],
             [
              0.6666666666666666,
              "#ed7953"
             ],
             [
              0.7777777777777778,
              "#fb9f3a"
             ],
             [
              0.8888888888888888,
              "#fdca26"
             ],
             [
              1,
              "#f0f921"
             ]
            ],
            "type": "heatmap"
           }
          ],
          "heatmapgl": [
           {
            "colorbar": {
             "outlinewidth": 0,
             "ticks": ""
            },
            "colorscale": [
             [
              0,
              "#0d0887"
             ],
             [
              0.1111111111111111,
              "#46039f"
             ],
             [
              0.2222222222222222,
              "#7201a8"
             ],
             [
              0.3333333333333333,
              "#9c179e"
             ],
             [
              0.4444444444444444,
              "#bd3786"
             ],
             [
              0.5555555555555556,
              "#d8576b"
             ],
             [
              0.6666666666666666,
              "#ed7953"
             ],
             [
              0.7777777777777778,
              "#fb9f3a"
             ],
             [
              0.8888888888888888,
              "#fdca26"
             ],
             [
              1,
              "#f0f921"
             ]
            ],
            "type": "heatmapgl"
           }
          ],
          "histogram": [
           {
            "marker": {
             "pattern": {
              "fillmode": "overlay",
              "size": 10,
              "solidity": 0.2
             }
            },
            "type": "histogram"
           }
          ],
          "histogram2d": [
           {
            "colorbar": {
             "outlinewidth": 0,
             "ticks": ""
            },
            "colorscale": [
             [
              0,
              "#0d0887"
             ],
             [
              0.1111111111111111,
              "#46039f"
             ],
             [
              0.2222222222222222,
              "#7201a8"
             ],
             [
              0.3333333333333333,
              "#9c179e"
             ],
             [
              0.4444444444444444,
              "#bd3786"
             ],
             [
              0.5555555555555556,
              "#d8576b"
             ],
             [
              0.6666666666666666,
              "#ed7953"
             ],
             [
              0.7777777777777778,
              "#fb9f3a"
             ],
             [
              0.8888888888888888,
              "#fdca26"
             ],
             [
              1,
              "#f0f921"
             ]
            ],
            "type": "histogram2d"
           }
          ],
          "histogram2dcontour": [
           {
            "colorbar": {
             "outlinewidth": 0,
             "ticks": ""
            },
            "colorscale": [
             [
              0,
              "#0d0887"
             ],
             [
              0.1111111111111111,
              "#46039f"
             ],
             [
              0.2222222222222222,
              "#7201a8"
             ],
             [
              0.3333333333333333,
              "#9c179e"
             ],
             [
              0.4444444444444444,
              "#bd3786"
             ],
             [
              0.5555555555555556,
              "#d8576b"
             ],
             [
              0.6666666666666666,
              "#ed7953"
             ],
             [
              0.7777777777777778,
              "#fb9f3a"
             ],
             [
              0.8888888888888888,
              "#fdca26"
             ],
             [
              1,
              "#f0f921"
             ]
            ],
            "type": "histogram2dcontour"
           }
          ],
          "mesh3d": [
           {
            "colorbar": {
             "outlinewidth": 0,
             "ticks": ""
            },
            "type": "mesh3d"
           }
          ],
          "parcoords": [
           {
            "line": {
             "colorbar": {
              "outlinewidth": 0,
              "ticks": ""
             }
            },
            "type": "parcoords"
           }
          ],
          "pie": [
           {
            "automargin": true,
            "type": "pie"
           }
          ],
          "scatter": [
           {
            "fillpattern": {
             "fillmode": "overlay",
             "size": 10,
             "solidity": 0.2
            },
            "type": "scatter"
           }
          ],
          "scatter3d": [
           {
            "line": {
             "colorbar": {
              "outlinewidth": 0,
              "ticks": ""
             }
            },
            "marker": {
             "colorbar": {
              "outlinewidth": 0,
              "ticks": ""
             }
            },
            "type": "scatter3d"
           }
          ],
          "scattercarpet": [
           {
            "marker": {
             "colorbar": {
              "outlinewidth": 0,
              "ticks": ""
             }
            },
            "type": "scattercarpet"
           }
          ],
          "scattergeo": [
           {
            "marker": {
             "colorbar": {
              "outlinewidth": 0,
              "ticks": ""
             }
            },
            "type": "scattergeo"
           }
          ],
          "scattergl": [
           {
            "marker": {
             "colorbar": {
              "outlinewidth": 0,
              "ticks": ""
             }
            },
            "type": "scattergl"
           }
          ],
          "scattermapbox": [
           {
            "marker": {
             "colorbar": {
              "outlinewidth": 0,
              "ticks": ""
             }
            },
            "type": "scattermapbox"
           }
          ],
          "scatterpolar": [
           {
            "marker": {
             "colorbar": {
              "outlinewidth": 0,
              "ticks": ""
             }
            },
            "type": "scatterpolar"
           }
          ],
          "scatterpolargl": [
           {
            "marker": {
             "colorbar": {
              "outlinewidth": 0,
              "ticks": ""
             }
            },
            "type": "scatterpolargl"
           }
          ],
          "scatterternary": [
           {
            "marker": {
             "colorbar": {
              "outlinewidth": 0,
              "ticks": ""
             }
            },
            "type": "scatterternary"
           }
          ],
          "surface": [
           {
            "colorbar": {
             "outlinewidth": 0,
             "ticks": ""
            },
            "colorscale": [
             [
              0,
              "#0d0887"
             ],
             [
              0.1111111111111111,
              "#46039f"
             ],
             [
              0.2222222222222222,
              "#7201a8"
             ],
             [
              0.3333333333333333,
              "#9c179e"
             ],
             [
              0.4444444444444444,
              "#bd3786"
             ],
             [
              0.5555555555555556,
              "#d8576b"
             ],
             [
              0.6666666666666666,
              "#ed7953"
             ],
             [
              0.7777777777777778,
              "#fb9f3a"
             ],
             [
              0.8888888888888888,
              "#fdca26"
             ],
             [
              1,
              "#f0f921"
             ]
            ],
            "type": "surface"
           }
          ],
          "table": [
           {
            "cells": {
             "fill": {
              "color": "#EBF0F8"
             },
             "line": {
              "color": "white"
             }
            },
            "header": {
             "fill": {
              "color": "#C8D4E3"
             },
             "line": {
              "color": "white"
             }
            },
            "type": "table"
           }
          ]
         },
         "layout": {
          "annotationdefaults": {
           "arrowcolor": "#2a3f5f",
           "arrowhead": 0,
           "arrowwidth": 1
          },
          "autotypenumbers": "strict",
          "coloraxis": {
           "colorbar": {
            "outlinewidth": 0,
            "ticks": ""
           }
          },
          "colorscale": {
           "diverging": [
            [
             0,
             "#8e0152"
            ],
            [
             0.1,
             "#c51b7d"
            ],
            [
             0.2,
             "#de77ae"
            ],
            [
             0.3,
             "#f1b6da"
            ],
            [
             0.4,
             "#fde0ef"
            ],
            [
             0.5,
             "#f7f7f7"
            ],
            [
             0.6,
             "#e6f5d0"
            ],
            [
             0.7,
             "#b8e186"
            ],
            [
             0.8,
             "#7fbc41"
            ],
            [
             0.9,
             "#4d9221"
            ],
            [
             1,
             "#276419"
            ]
           ],
           "sequential": [
            [
             0,
             "#0d0887"
            ],
            [
             0.1111111111111111,
             "#46039f"
            ],
            [
             0.2222222222222222,
             "#7201a8"
            ],
            [
             0.3333333333333333,
             "#9c179e"
            ],
            [
             0.4444444444444444,
             "#bd3786"
            ],
            [
             0.5555555555555556,
             "#d8576b"
            ],
            [
             0.6666666666666666,
             "#ed7953"
            ],
            [
             0.7777777777777778,
             "#fb9f3a"
            ],
            [
             0.8888888888888888,
             "#fdca26"
            ],
            [
             1,
             "#f0f921"
            ]
           ],
           "sequentialminus": [
            [
             0,
             "#0d0887"
            ],
            [
             0.1111111111111111,
             "#46039f"
            ],
            [
             0.2222222222222222,
             "#7201a8"
            ],
            [
             0.3333333333333333,
             "#9c179e"
            ],
            [
             0.4444444444444444,
             "#bd3786"
            ],
            [
             0.5555555555555556,
             "#d8576b"
            ],
            [
             0.6666666666666666,
             "#ed7953"
            ],
            [
             0.7777777777777778,
             "#fb9f3a"
            ],
            [
             0.8888888888888888,
             "#fdca26"
            ],
            [
             1,
             "#f0f921"
            ]
           ]
          },
          "colorway": [
           "#636efa",
           "#EF553B",
           "#00cc96",
           "#ab63fa",
           "#FFA15A",
           "#19d3f3",
           "#FF6692",
           "#B6E880",
           "#FF97FF",
           "#FECB52"
          ],
          "font": {
           "color": "#2a3f5f"
          },
          "geo": {
           "bgcolor": "white",
           "lakecolor": "white",
           "landcolor": "#E5ECF6",
           "showlakes": true,
           "showland": true,
           "subunitcolor": "white"
          },
          "hoverlabel": {
           "align": "left"
          },
          "hovermode": "closest",
          "mapbox": {
           "style": "light"
          },
          "paper_bgcolor": "white",
          "plot_bgcolor": "#E5ECF6",
          "polar": {
           "angularaxis": {
            "gridcolor": "white",
            "linecolor": "white",
            "ticks": ""
           },
           "bgcolor": "#E5ECF6",
           "radialaxis": {
            "gridcolor": "white",
            "linecolor": "white",
            "ticks": ""
           }
          },
          "scene": {
           "xaxis": {
            "backgroundcolor": "#E5ECF6",
            "gridcolor": "white",
            "gridwidth": 2,
            "linecolor": "white",
            "showbackground": true,
            "ticks": "",
            "zerolinecolor": "white"
           },
           "yaxis": {
            "backgroundcolor": "#E5ECF6",
            "gridcolor": "white",
            "gridwidth": 2,
            "linecolor": "white",
            "showbackground": true,
            "ticks": "",
            "zerolinecolor": "white"
           },
           "zaxis": {
            "backgroundcolor": "#E5ECF6",
            "gridcolor": "white",
            "gridwidth": 2,
            "linecolor": "white",
            "showbackground": true,
            "ticks": "",
            "zerolinecolor": "white"
           }
          },
          "shapedefaults": {
           "line": {
            "color": "#2a3f5f"
           }
          },
          "ternary": {
           "aaxis": {
            "gridcolor": "white",
            "linecolor": "white",
            "ticks": ""
           },
           "baxis": {
            "gridcolor": "white",
            "linecolor": "white",
            "ticks": ""
           },
           "bgcolor": "#E5ECF6",
           "caxis": {
            "gridcolor": "white",
            "linecolor": "white",
            "ticks": ""
           }
          },
          "title": {
           "x": 0.05
          },
          "xaxis": {
           "automargin": true,
           "gridcolor": "white",
           "linecolor": "white",
           "ticks": "",
           "title": {
            "standoff": 15
           },
           "zerolinecolor": "white",
           "zerolinewidth": 2
          },
          "yaxis": {
           "automargin": true,
           "gridcolor": "white",
           "linecolor": "white",
           "ticks": "",
           "title": {
            "standoff": 15
           },
           "zerolinecolor": "white",
           "zerolinewidth": 2
          }
         }
        }
       }
      },
      "text/html": [
       "<div>                            <div id=\"8e100e45-4a89-4823-b94d-9dafc9a42084\" class=\"plotly-graph-div\" style=\"height:525px; width:100%;\"></div>            <script type=\"text/javascript\">                require([\"plotly\"], function(Plotly) {                    window.PLOTLYENV=window.PLOTLYENV || {};                                    if (document.getElementById(\"8e100e45-4a89-4823-b94d-9dafc9a42084\")) {                    Plotly.newPlot(                        \"8e100e45-4a89-4823-b94d-9dafc9a42084\",                        [{\"labels\":[\"ACLBSL\",\"ADBL\",\"ADBLD83\",\"ADLB\",\"AHPC\",\"AIL\",\"AKBSL\",\"AKJCL\",\"AKPL\",\"ALBSL\"],\"values\":[\"833.00\",\"305.10\",\"890.00\",\"1,317.60\",\"344.00\",\"523.00\",\"1,277.00\",\"253.00\",\"420.00\",\"1,037.00\"],\"type\":\"pie\"}],                        {\"template\":{\"data\":{\"histogram2dcontour\":[{\"type\":\"histogram2dcontour\",\"colorbar\":{\"outlinewidth\":0,\"ticks\":\"\"},\"colorscale\":[[0.0,\"#0d0887\"],[0.1111111111111111,\"#46039f\"],[0.2222222222222222,\"#7201a8\"],[0.3333333333333333,\"#9c179e\"],[0.4444444444444444,\"#bd3786\"],[0.5555555555555556,\"#d8576b\"],[0.6666666666666666,\"#ed7953\"],[0.7777777777777778,\"#fb9f3a\"],[0.8888888888888888,\"#fdca26\"],[1.0,\"#f0f921\"]]}],\"choropleth\":[{\"type\":\"choropleth\",\"colorbar\":{\"outlinewidth\":0,\"ticks\":\"\"}}],\"histogram2d\":[{\"type\":\"histogram2d\",\"colorbar\":{\"outlinewidth\":0,\"ticks\":\"\"},\"colorscale\":[[0.0,\"#0d0887\"],[0.1111111111111111,\"#46039f\"],[0.2222222222222222,\"#7201a8\"],[0.3333333333333333,\"#9c179e\"],[0.4444444444444444,\"#bd3786\"],[0.5555555555555556,\"#d8576b\"],[0.6666666666666666,\"#ed7953\"],[0.7777777777777778,\"#fb9f3a\"],[0.8888888888888888,\"#fdca26\"],[1.0,\"#f0f921\"]]}],\"heatmap\":[{\"type\":\"heatmap\",\"colorbar\":{\"outlinewidth\":0,\"ticks\":\"\"},\"colorscale\":[[0.0,\"#0d0887\"],[0.1111111111111111,\"#46039f\"],[0.2222222222222222,\"#7201a8\"],[0.3333333333333333,\"#9c179e\"],[0.4444444444444444,\"#bd3786\"],[0.5555555555555556,\"#d8576b\"],[0.6666666666666666,\"#ed7953\"],[0.7777777777777778,\"#fb9f3a\"],[0.8888888888888888,\"#fdca26\"],[1.0,\"#f0f921\"]]}],\"heatmapgl\":[{\"type\":\"heatmapgl\",\"colorbar\":{\"outlinewidth\":0,\"ticks\":\"\"},\"colorscale\":[[0.0,\"#0d0887\"],[0.1111111111111111,\"#46039f\"],[0.2222222222222222,\"#7201a8\"],[0.3333333333333333,\"#9c179e\"],[0.4444444444444444,\"#bd3786\"],[0.5555555555555556,\"#d8576b\"],[0.6666666666666666,\"#ed7953\"],[0.7777777777777778,\"#fb9f3a\"],[0.8888888888888888,\"#fdca26\"],[1.0,\"#f0f921\"]]}],\"contourcarpet\":[{\"type\":\"contourcarpet\",\"colorbar\":{\"outlinewidth\":0,\"ticks\":\"\"}}],\"contour\":[{\"type\":\"contour\",\"colorbar\":{\"outlinewidth\":0,\"ticks\":\"\"},\"colorscale\":[[0.0,\"#0d0887\"],[0.1111111111111111,\"#46039f\"],[0.2222222222222222,\"#7201a8\"],[0.3333333333333333,\"#9c179e\"],[0.4444444444444444,\"#bd3786\"],[0.5555555555555556,\"#d8576b\"],[0.6666666666666666,\"#ed7953\"],[0.7777777777777778,\"#fb9f3a\"],[0.8888888888888888,\"#fdca26\"],[1.0,\"#f0f921\"]]}],\"surface\":[{\"type\":\"surface\",\"colorbar\":{\"outlinewidth\":0,\"ticks\":\"\"},\"colorscale\":[[0.0,\"#0d0887\"],[0.1111111111111111,\"#46039f\"],[0.2222222222222222,\"#7201a8\"],[0.3333333333333333,\"#9c179e\"],[0.4444444444444444,\"#bd3786\"],[0.5555555555555556,\"#d8576b\"],[0.6666666666666666,\"#ed7953\"],[0.7777777777777778,\"#fb9f3a\"],[0.8888888888888888,\"#fdca26\"],[1.0,\"#f0f921\"]]}],\"mesh3d\":[{\"type\":\"mesh3d\",\"colorbar\":{\"outlinewidth\":0,\"ticks\":\"\"}}],\"scatter\":[{\"fillpattern\":{\"fillmode\":\"overlay\",\"size\":10,\"solidity\":0.2},\"type\":\"scatter\"}],\"parcoords\":[{\"type\":\"parcoords\",\"line\":{\"colorbar\":{\"outlinewidth\":0,\"ticks\":\"\"}}}],\"scatterpolargl\":[{\"type\":\"scatterpolargl\",\"marker\":{\"colorbar\":{\"outlinewidth\":0,\"ticks\":\"\"}}}],\"bar\":[{\"error_x\":{\"color\":\"#2a3f5f\"},\"error_y\":{\"color\":\"#2a3f5f\"},\"marker\":{\"line\":{\"color\":\"#E5ECF6\",\"width\":0.5},\"pattern\":{\"fillmode\":\"overlay\",\"size\":10,\"solidity\":0.2}},\"type\":\"bar\"}],\"scattergeo\":[{\"type\":\"scattergeo\",\"marker\":{\"colorbar\":{\"outlinewidth\":0,\"ticks\":\"\"}}}],\"scatterpolar\":[{\"type\":\"scatterpolar\",\"marker\":{\"colorbar\":{\"outlinewidth\":0,\"ticks\":\"\"}}}],\"histogram\":[{\"marker\":{\"pattern\":{\"fillmode\":\"overlay\",\"size\":10,\"solidity\":0.2}},\"type\":\"histogram\"}],\"scattergl\":[{\"type\":\"scattergl\",\"marker\":{\"colorbar\":{\"outlinewidth\":0,\"ticks\":\"\"}}}],\"scatter3d\":[{\"type\":\"scatter3d\",\"line\":{\"colorbar\":{\"outlinewidth\":0,\"ticks\":\"\"}},\"marker\":{\"colorbar\":{\"outlinewidth\":0,\"ticks\":\"\"}}}],\"scattermapbox\":[{\"type\":\"scattermapbox\",\"marker\":{\"colorbar\":{\"outlinewidth\":0,\"ticks\":\"\"}}}],\"scatterternary\":[{\"type\":\"scatterternary\",\"marker\":{\"colorbar\":{\"outlinewidth\":0,\"ticks\":\"\"}}}],\"scattercarpet\":[{\"type\":\"scattercarpet\",\"marker\":{\"colorbar\":{\"outlinewidth\":0,\"ticks\":\"\"}}}],\"carpet\":[{\"aaxis\":{\"endlinecolor\":\"#2a3f5f\",\"gridcolor\":\"white\",\"linecolor\":\"white\",\"minorgridcolor\":\"white\",\"startlinecolor\":\"#2a3f5f\"},\"baxis\":{\"endlinecolor\":\"#2a3f5f\",\"gridcolor\":\"white\",\"linecolor\":\"white\",\"minorgridcolor\":\"white\",\"startlinecolor\":\"#2a3f5f\"},\"type\":\"carpet\"}],\"table\":[{\"cells\":{\"fill\":{\"color\":\"#EBF0F8\"},\"line\":{\"color\":\"white\"}},\"header\":{\"fill\":{\"color\":\"#C8D4E3\"},\"line\":{\"color\":\"white\"}},\"type\":\"table\"}],\"barpolar\":[{\"marker\":{\"line\":{\"color\":\"#E5ECF6\",\"width\":0.5},\"pattern\":{\"fillmode\":\"overlay\",\"size\":10,\"solidity\":0.2}},\"type\":\"barpolar\"}],\"pie\":[{\"automargin\":true,\"type\":\"pie\"}]},\"layout\":{\"autotypenumbers\":\"strict\",\"colorway\":[\"#636efa\",\"#EF553B\",\"#00cc96\",\"#ab63fa\",\"#FFA15A\",\"#19d3f3\",\"#FF6692\",\"#B6E880\",\"#FF97FF\",\"#FECB52\"],\"font\":{\"color\":\"#2a3f5f\"},\"hovermode\":\"closest\",\"hoverlabel\":{\"align\":\"left\"},\"paper_bgcolor\":\"white\",\"plot_bgcolor\":\"#E5ECF6\",\"polar\":{\"bgcolor\":\"#E5ECF6\",\"angularaxis\":{\"gridcolor\":\"white\",\"linecolor\":\"white\",\"ticks\":\"\"},\"radialaxis\":{\"gridcolor\":\"white\",\"linecolor\":\"white\",\"ticks\":\"\"}},\"ternary\":{\"bgcolor\":\"#E5ECF6\",\"aaxis\":{\"gridcolor\":\"white\",\"linecolor\":\"white\",\"ticks\":\"\"},\"baxis\":{\"gridcolor\":\"white\",\"linecolor\":\"white\",\"ticks\":\"\"},\"caxis\":{\"gridcolor\":\"white\",\"linecolor\":\"white\",\"ticks\":\"\"}},\"coloraxis\":{\"colorbar\":{\"outlinewidth\":0,\"ticks\":\"\"}},\"colorscale\":{\"sequential\":[[0.0,\"#0d0887\"],[0.1111111111111111,\"#46039f\"],[0.2222222222222222,\"#7201a8\"],[0.3333333333333333,\"#9c179e\"],[0.4444444444444444,\"#bd3786\"],[0.5555555555555556,\"#d8576b\"],[0.6666666666666666,\"#ed7953\"],[0.7777777777777778,\"#fb9f3a\"],[0.8888888888888888,\"#fdca26\"],[1.0,\"#f0f921\"]],\"sequentialminus\":[[0.0,\"#0d0887\"],[0.1111111111111111,\"#46039f\"],[0.2222222222222222,\"#7201a8\"],[0.3333333333333333,\"#9c179e\"],[0.4444444444444444,\"#bd3786\"],[0.5555555555555556,\"#d8576b\"],[0.6666666666666666,\"#ed7953\"],[0.7777777777777778,\"#fb9f3a\"],[0.8888888888888888,\"#fdca26\"],[1.0,\"#f0f921\"]],\"diverging\":[[0,\"#8e0152\"],[0.1,\"#c51b7d\"],[0.2,\"#de77ae\"],[0.3,\"#f1b6da\"],[0.4,\"#fde0ef\"],[0.5,\"#f7f7f7\"],[0.6,\"#e6f5d0\"],[0.7,\"#b8e186\"],[0.8,\"#7fbc41\"],[0.9,\"#4d9221\"],[1,\"#276419\"]]},\"xaxis\":{\"gridcolor\":\"white\",\"linecolor\":\"white\",\"ticks\":\"\",\"title\":{\"standoff\":15},\"zerolinecolor\":\"white\",\"automargin\":true,\"zerolinewidth\":2},\"yaxis\":{\"gridcolor\":\"white\",\"linecolor\":\"white\",\"ticks\":\"\",\"title\":{\"standoff\":15},\"zerolinecolor\":\"white\",\"automargin\":true,\"zerolinewidth\":2},\"scene\":{\"xaxis\":{\"backgroundcolor\":\"#E5ECF6\",\"gridcolor\":\"white\",\"linecolor\":\"white\",\"showbackground\":true,\"ticks\":\"\",\"zerolinecolor\":\"white\",\"gridwidth\":2},\"yaxis\":{\"backgroundcolor\":\"#E5ECF6\",\"gridcolor\":\"white\",\"linecolor\":\"white\",\"showbackground\":true,\"ticks\":\"\",\"zerolinecolor\":\"white\",\"gridwidth\":2},\"zaxis\":{\"backgroundcolor\":\"#E5ECF6\",\"gridcolor\":\"white\",\"linecolor\":\"white\",\"showbackground\":true,\"ticks\":\"\",\"zerolinecolor\":\"white\",\"gridwidth\":2}},\"shapedefaults\":{\"line\":{\"color\":\"#2a3f5f\"}},\"annotationdefaults\":{\"arrowcolor\":\"#2a3f5f\",\"arrowhead\":0,\"arrowwidth\":1},\"geo\":{\"bgcolor\":\"white\",\"landcolor\":\"#E5ECF6\",\"subunitcolor\":\"white\",\"showland\":true,\"showlakes\":true,\"lakecolor\":\"white\"},\"title\":{\"x\":0.05},\"mapbox\":{\"style\":\"light\"}}}},                        {\"responsive\": true}                    ).then(function(){\n",
       "                            \n",
       "var gd = document.getElementById('8e100e45-4a89-4823-b94d-9dafc9a42084');\n",
       "var x = new MutationObserver(function (mutations, observer) {{\n",
       "        var display = window.getComputedStyle(gd).display;\n",
       "        if (!display || display === 'none') {{\n",
       "            console.log([gd, 'removed!']);\n",
       "            Plotly.purge(gd);\n",
       "            observer.disconnect();\n",
       "        }}\n",
       "}});\n",
       "\n",
       "// Listen for the removal of the full notebook cells\n",
       "var notebookContainer = gd.closest('#notebook-container');\n",
       "if (notebookContainer) {{\n",
       "    x.observe(notebookContainer, {childList: true});\n",
       "}}\n",
       "\n",
       "// Listen for the clearing of the current output cell\n",
       "var outputEl = gd.closest('.output');\n",
       "if (outputEl) {{\n",
       "    x.observe(outputEl, {childList: true});\n",
       "}}\n",
       "\n",
       "                        })                };                });            </script>        </div>"
      ]
     },
     "metadata": {},
     "output_type": "display_data"
    }
   ],
   "source": [
    "import plotly.graph_objects as go\n",
    "\n",
    "\n",
    "fig = go.Figure(data=[go.Pie(labels=symbol,values=LTP)])\n",
    "fig.show()"
   ]
  },
  {
   "cell_type": "code",
   "execution_count": 30,
   "id": "f69edbb1",
   "metadata": {},
   "outputs": [
    {
     "data": {
      "application/vnd.plotly.v1+json": {
       "config": {
        "plotlyServerURL": "https://plot.ly"
       },
       "data": [
        {
         "name": "% Change",
         "type": "bar",
         "x": [
          "ACLBSL",
          "ADBL",
          "ADBLD83",
          "ADLB",
          "AHPC",
          "AIL",
          "AKBSL",
          "AKJCL",
          "AKPL",
          "ALBSL"
         ],
         "y": [
          "833.00",
          "305.10",
          "890.00",
          "1,317.60",
          "344.00",
          "523.00",
          "1,277.00",
          "253.00",
          "420.00",
          "1,037.00"
         ]
        },
        {
         "name": "LTP",
         "type": "bar",
         "x": [
          "ACLBSL",
          "ADBL",
          "ADBLD83",
          "ADLB",
          "AHPC",
          "AIL",
          "AKBSL",
          "AKJCL",
          "AKPL",
          "ALBSL"
         ],
         "y": [
          -0.95,
          -0.94,
          0.45,
          9.99,
          -1.99,
          -2.24,
          -1.94,
          1.2,
          -1.64,
          -0.77
         ]
        }
       ],
       "layout": {
        "barmode": "group",
        "template": {
         "data": {
          "bar": [
           {
            "error_x": {
             "color": "#2a3f5f"
            },
            "error_y": {
             "color": "#2a3f5f"
            },
            "marker": {
             "line": {
              "color": "#E5ECF6",
              "width": 0.5
             },
             "pattern": {
              "fillmode": "overlay",
              "size": 10,
              "solidity": 0.2
             }
            },
            "type": "bar"
           }
          ],
          "barpolar": [
           {
            "marker": {
             "line": {
              "color": "#E5ECF6",
              "width": 0.5
             },
             "pattern": {
              "fillmode": "overlay",
              "size": 10,
              "solidity": 0.2
             }
            },
            "type": "barpolar"
           }
          ],
          "carpet": [
           {
            "aaxis": {
             "endlinecolor": "#2a3f5f",
             "gridcolor": "white",
             "linecolor": "white",
             "minorgridcolor": "white",
             "startlinecolor": "#2a3f5f"
            },
            "baxis": {
             "endlinecolor": "#2a3f5f",
             "gridcolor": "white",
             "linecolor": "white",
             "minorgridcolor": "white",
             "startlinecolor": "#2a3f5f"
            },
            "type": "carpet"
           }
          ],
          "choropleth": [
           {
            "colorbar": {
             "outlinewidth": 0,
             "ticks": ""
            },
            "type": "choropleth"
           }
          ],
          "contour": [
           {
            "colorbar": {
             "outlinewidth": 0,
             "ticks": ""
            },
            "colorscale": [
             [
              0,
              "#0d0887"
             ],
             [
              0.1111111111111111,
              "#46039f"
             ],
             [
              0.2222222222222222,
              "#7201a8"
             ],
             [
              0.3333333333333333,
              "#9c179e"
             ],
             [
              0.4444444444444444,
              "#bd3786"
             ],
             [
              0.5555555555555556,
              "#d8576b"
             ],
             [
              0.6666666666666666,
              "#ed7953"
             ],
             [
              0.7777777777777778,
              "#fb9f3a"
             ],
             [
              0.8888888888888888,
              "#fdca26"
             ],
             [
              1,
              "#f0f921"
             ]
            ],
            "type": "contour"
           }
          ],
          "contourcarpet": [
           {
            "colorbar": {
             "outlinewidth": 0,
             "ticks": ""
            },
            "type": "contourcarpet"
           }
          ],
          "heatmap": [
           {
            "colorbar": {
             "outlinewidth": 0,
             "ticks": ""
            },
            "colorscale": [
             [
              0,
              "#0d0887"
             ],
             [
              0.1111111111111111,
              "#46039f"
             ],
             [
              0.2222222222222222,
              "#7201a8"
             ],
             [
              0.3333333333333333,
              "#9c179e"
             ],
             [
              0.4444444444444444,
              "#bd3786"
             ],
             [
              0.5555555555555556,
              "#d8576b"
             ],
             [
              0.6666666666666666,
              "#ed7953"
             ],
             [
              0.7777777777777778,
              "#fb9f3a"
             ],
             [
              0.8888888888888888,
              "#fdca26"
             ],
             [
              1,
              "#f0f921"
             ]
            ],
            "type": "heatmap"
           }
          ],
          "heatmapgl": [
           {
            "colorbar": {
             "outlinewidth": 0,
             "ticks": ""
            },
            "colorscale": [
             [
              0,
              "#0d0887"
             ],
             [
              0.1111111111111111,
              "#46039f"
             ],
             [
              0.2222222222222222,
              "#7201a8"
             ],
             [
              0.3333333333333333,
              "#9c179e"
             ],
             [
              0.4444444444444444,
              "#bd3786"
             ],
             [
              0.5555555555555556,
              "#d8576b"
             ],
             [
              0.6666666666666666,
              "#ed7953"
             ],
             [
              0.7777777777777778,
              "#fb9f3a"
             ],
             [
              0.8888888888888888,
              "#fdca26"
             ],
             [
              1,
              "#f0f921"
             ]
            ],
            "type": "heatmapgl"
           }
          ],
          "histogram": [
           {
            "marker": {
             "pattern": {
              "fillmode": "overlay",
              "size": 10,
              "solidity": 0.2
             }
            },
            "type": "histogram"
           }
          ],
          "histogram2d": [
           {
            "colorbar": {
             "outlinewidth": 0,
             "ticks": ""
            },
            "colorscale": [
             [
              0,
              "#0d0887"
             ],
             [
              0.1111111111111111,
              "#46039f"
             ],
             [
              0.2222222222222222,
              "#7201a8"
             ],
             [
              0.3333333333333333,
              "#9c179e"
             ],
             [
              0.4444444444444444,
              "#bd3786"
             ],
             [
              0.5555555555555556,
              "#d8576b"
             ],
             [
              0.6666666666666666,
              "#ed7953"
             ],
             [
              0.7777777777777778,
              "#fb9f3a"
             ],
             [
              0.8888888888888888,
              "#fdca26"
             ],
             [
              1,
              "#f0f921"
             ]
            ],
            "type": "histogram2d"
           }
          ],
          "histogram2dcontour": [
           {
            "colorbar": {
             "outlinewidth": 0,
             "ticks": ""
            },
            "colorscale": [
             [
              0,
              "#0d0887"
             ],
             [
              0.1111111111111111,
              "#46039f"
             ],
             [
              0.2222222222222222,
              "#7201a8"
             ],
             [
              0.3333333333333333,
              "#9c179e"
             ],
             [
              0.4444444444444444,
              "#bd3786"
             ],
             [
              0.5555555555555556,
              "#d8576b"
             ],
             [
              0.6666666666666666,
              "#ed7953"
             ],
             [
              0.7777777777777778,
              "#fb9f3a"
             ],
             [
              0.8888888888888888,
              "#fdca26"
             ],
             [
              1,
              "#f0f921"
             ]
            ],
            "type": "histogram2dcontour"
           }
          ],
          "mesh3d": [
           {
            "colorbar": {
             "outlinewidth": 0,
             "ticks": ""
            },
            "type": "mesh3d"
           }
          ],
          "parcoords": [
           {
            "line": {
             "colorbar": {
              "outlinewidth": 0,
              "ticks": ""
             }
            },
            "type": "parcoords"
           }
          ],
          "pie": [
           {
            "automargin": true,
            "type": "pie"
           }
          ],
          "scatter": [
           {
            "fillpattern": {
             "fillmode": "overlay",
             "size": 10,
             "solidity": 0.2
            },
            "type": "scatter"
           }
          ],
          "scatter3d": [
           {
            "line": {
             "colorbar": {
              "outlinewidth": 0,
              "ticks": ""
             }
            },
            "marker": {
             "colorbar": {
              "outlinewidth": 0,
              "ticks": ""
             }
            },
            "type": "scatter3d"
           }
          ],
          "scattercarpet": [
           {
            "marker": {
             "colorbar": {
              "outlinewidth": 0,
              "ticks": ""
             }
            },
            "type": "scattercarpet"
           }
          ],
          "scattergeo": [
           {
            "marker": {
             "colorbar": {
              "outlinewidth": 0,
              "ticks": ""
             }
            },
            "type": "scattergeo"
           }
          ],
          "scattergl": [
           {
            "marker": {
             "colorbar": {
              "outlinewidth": 0,
              "ticks": ""
             }
            },
            "type": "scattergl"
           }
          ],
          "scattermapbox": [
           {
            "marker": {
             "colorbar": {
              "outlinewidth": 0,
              "ticks": ""
             }
            },
            "type": "scattermapbox"
           }
          ],
          "scatterpolar": [
           {
            "marker": {
             "colorbar": {
              "outlinewidth": 0,
              "ticks": ""
             }
            },
            "type": "scatterpolar"
           }
          ],
          "scatterpolargl": [
           {
            "marker": {
             "colorbar": {
              "outlinewidth": 0,
              "ticks": ""
             }
            },
            "type": "scatterpolargl"
           }
          ],
          "scatterternary": [
           {
            "marker": {
             "colorbar": {
              "outlinewidth": 0,
              "ticks": ""
             }
            },
            "type": "scatterternary"
           }
          ],
          "surface": [
           {
            "colorbar": {
             "outlinewidth": 0,
             "ticks": ""
            },
            "colorscale": [
             [
              0,
              "#0d0887"
             ],
             [
              0.1111111111111111,
              "#46039f"
             ],
             [
              0.2222222222222222,
              "#7201a8"
             ],
             [
              0.3333333333333333,
              "#9c179e"
             ],
             [
              0.4444444444444444,
              "#bd3786"
             ],
             [
              0.5555555555555556,
              "#d8576b"
             ],
             [
              0.6666666666666666,
              "#ed7953"
             ],
             [
              0.7777777777777778,
              "#fb9f3a"
             ],
             [
              0.8888888888888888,
              "#fdca26"
             ],
             [
              1,
              "#f0f921"
             ]
            ],
            "type": "surface"
           }
          ],
          "table": [
           {
            "cells": {
             "fill": {
              "color": "#EBF0F8"
             },
             "line": {
              "color": "white"
             }
            },
            "header": {
             "fill": {
              "color": "#C8D4E3"
             },
             "line": {
              "color": "white"
             }
            },
            "type": "table"
           }
          ]
         },
         "layout": {
          "annotationdefaults": {
           "arrowcolor": "#2a3f5f",
           "arrowhead": 0,
           "arrowwidth": 1
          },
          "autotypenumbers": "strict",
          "coloraxis": {
           "colorbar": {
            "outlinewidth": 0,
            "ticks": ""
           }
          },
          "colorscale": {
           "diverging": [
            [
             0,
             "#8e0152"
            ],
            [
             0.1,
             "#c51b7d"
            ],
            [
             0.2,
             "#de77ae"
            ],
            [
             0.3,
             "#f1b6da"
            ],
            [
             0.4,
             "#fde0ef"
            ],
            [
             0.5,
             "#f7f7f7"
            ],
            [
             0.6,
             "#e6f5d0"
            ],
            [
             0.7,
             "#b8e186"
            ],
            [
             0.8,
             "#7fbc41"
            ],
            [
             0.9,
             "#4d9221"
            ],
            [
             1,
             "#276419"
            ]
           ],
           "sequential": [
            [
             0,
             "#0d0887"
            ],
            [
             0.1111111111111111,
             "#46039f"
            ],
            [
             0.2222222222222222,
             "#7201a8"
            ],
            [
             0.3333333333333333,
             "#9c179e"
            ],
            [
             0.4444444444444444,
             "#bd3786"
            ],
            [
             0.5555555555555556,
             "#d8576b"
            ],
            [
             0.6666666666666666,
             "#ed7953"
            ],
            [
             0.7777777777777778,
             "#fb9f3a"
            ],
            [
             0.8888888888888888,
             "#fdca26"
            ],
            [
             1,
             "#f0f921"
            ]
           ],
           "sequentialminus": [
            [
             0,
             "#0d0887"
            ],
            [
             0.1111111111111111,
             "#46039f"
            ],
            [
             0.2222222222222222,
             "#7201a8"
            ],
            [
             0.3333333333333333,
             "#9c179e"
            ],
            [
             0.4444444444444444,
             "#bd3786"
            ],
            [
             0.5555555555555556,
             "#d8576b"
            ],
            [
             0.6666666666666666,
             "#ed7953"
            ],
            [
             0.7777777777777778,
             "#fb9f3a"
            ],
            [
             0.8888888888888888,
             "#fdca26"
            ],
            [
             1,
             "#f0f921"
            ]
           ]
          },
          "colorway": [
           "#636efa",
           "#EF553B",
           "#00cc96",
           "#ab63fa",
           "#FFA15A",
           "#19d3f3",
           "#FF6692",
           "#B6E880",
           "#FF97FF",
           "#FECB52"
          ],
          "font": {
           "color": "#2a3f5f"
          },
          "geo": {
           "bgcolor": "white",
           "lakecolor": "white",
           "landcolor": "#E5ECF6",
           "showlakes": true,
           "showland": true,
           "subunitcolor": "white"
          },
          "hoverlabel": {
           "align": "left"
          },
          "hovermode": "closest",
          "mapbox": {
           "style": "light"
          },
          "paper_bgcolor": "white",
          "plot_bgcolor": "#E5ECF6",
          "polar": {
           "angularaxis": {
            "gridcolor": "white",
            "linecolor": "white",
            "ticks": ""
           },
           "bgcolor": "#E5ECF6",
           "radialaxis": {
            "gridcolor": "white",
            "linecolor": "white",
            "ticks": ""
           }
          },
          "scene": {
           "xaxis": {
            "backgroundcolor": "#E5ECF6",
            "gridcolor": "white",
            "gridwidth": 2,
            "linecolor": "white",
            "showbackground": true,
            "ticks": "",
            "zerolinecolor": "white"
           },
           "yaxis": {
            "backgroundcolor": "#E5ECF6",
            "gridcolor": "white",
            "gridwidth": 2,
            "linecolor": "white",
            "showbackground": true,
            "ticks": "",
            "zerolinecolor": "white"
           },
           "zaxis": {
            "backgroundcolor": "#E5ECF6",
            "gridcolor": "white",
            "gridwidth": 2,
            "linecolor": "white",
            "showbackground": true,
            "ticks": "",
            "zerolinecolor": "white"
           }
          },
          "shapedefaults": {
           "line": {
            "color": "#2a3f5f"
           }
          },
          "ternary": {
           "aaxis": {
            "gridcolor": "white",
            "linecolor": "white",
            "ticks": ""
           },
           "baxis": {
            "gridcolor": "white",
            "linecolor": "white",
            "ticks": ""
           },
           "bgcolor": "#E5ECF6",
           "caxis": {
            "gridcolor": "white",
            "linecolor": "white",
            "ticks": ""
           }
          },
          "title": {
           "x": 0.05
          },
          "xaxis": {
           "automargin": true,
           "gridcolor": "white",
           "linecolor": "white",
           "ticks": "",
           "title": {
            "standoff": 15
           },
           "zerolinecolor": "white",
           "zerolinewidth": 2
          },
          "yaxis": {
           "automargin": true,
           "gridcolor": "white",
           "linecolor": "white",
           "ticks": "",
           "title": {
            "standoff": 15
           },
           "zerolinecolor": "white",
           "zerolinewidth": 2
          }
         }
        }
       }
      },
      "text/html": [
       "<div>                            <div id=\"5e28ea2d-3125-45d3-8e7e-6723fd49e2c3\" class=\"plotly-graph-div\" style=\"height:525px; width:100%;\"></div>            <script type=\"text/javascript\">                require([\"plotly\"], function(Plotly) {                    window.PLOTLYENV=window.PLOTLYENV || {};                                    if (document.getElementById(\"5e28ea2d-3125-45d3-8e7e-6723fd49e2c3\")) {                    Plotly.newPlot(                        \"5e28ea2d-3125-45d3-8e7e-6723fd49e2c3\",                        [{\"name\":\"% Change\",\"x\":[\"ACLBSL\",\"ADBL\",\"ADBLD83\",\"ADLB\",\"AHPC\",\"AIL\",\"AKBSL\",\"AKJCL\",\"AKPL\",\"ALBSL\"],\"y\":[\"833.00\",\"305.10\",\"890.00\",\"1,317.60\",\"344.00\",\"523.00\",\"1,277.00\",\"253.00\",\"420.00\",\"1,037.00\"],\"type\":\"bar\"},{\"name\":\"LTP\",\"x\":[\"ACLBSL\",\"ADBL\",\"ADBLD83\",\"ADLB\",\"AHPC\",\"AIL\",\"AKBSL\",\"AKJCL\",\"AKPL\",\"ALBSL\"],\"y\":[-0.95,-0.94,0.45,9.99,-1.99,-2.24,-1.94,1.2,-1.64,-0.77],\"type\":\"bar\"}],                        {\"template\":{\"data\":{\"histogram2dcontour\":[{\"type\":\"histogram2dcontour\",\"colorbar\":{\"outlinewidth\":0,\"ticks\":\"\"},\"colorscale\":[[0.0,\"#0d0887\"],[0.1111111111111111,\"#46039f\"],[0.2222222222222222,\"#7201a8\"],[0.3333333333333333,\"#9c179e\"],[0.4444444444444444,\"#bd3786\"],[0.5555555555555556,\"#d8576b\"],[0.6666666666666666,\"#ed7953\"],[0.7777777777777778,\"#fb9f3a\"],[0.8888888888888888,\"#fdca26\"],[1.0,\"#f0f921\"]]}],\"choropleth\":[{\"type\":\"choropleth\",\"colorbar\":{\"outlinewidth\":0,\"ticks\":\"\"}}],\"histogram2d\":[{\"type\":\"histogram2d\",\"colorbar\":{\"outlinewidth\":0,\"ticks\":\"\"},\"colorscale\":[[0.0,\"#0d0887\"],[0.1111111111111111,\"#46039f\"],[0.2222222222222222,\"#7201a8\"],[0.3333333333333333,\"#9c179e\"],[0.4444444444444444,\"#bd3786\"],[0.5555555555555556,\"#d8576b\"],[0.6666666666666666,\"#ed7953\"],[0.7777777777777778,\"#fb9f3a\"],[0.8888888888888888,\"#fdca26\"],[1.0,\"#f0f921\"]]}],\"heatmap\":[{\"type\":\"heatmap\",\"colorbar\":{\"outlinewidth\":0,\"ticks\":\"\"},\"colorscale\":[[0.0,\"#0d0887\"],[0.1111111111111111,\"#46039f\"],[0.2222222222222222,\"#7201a8\"],[0.3333333333333333,\"#9c179e\"],[0.4444444444444444,\"#bd3786\"],[0.5555555555555556,\"#d8576b\"],[0.6666666666666666,\"#ed7953\"],[0.7777777777777778,\"#fb9f3a\"],[0.8888888888888888,\"#fdca26\"],[1.0,\"#f0f921\"]]}],\"heatmapgl\":[{\"type\":\"heatmapgl\",\"colorbar\":{\"outlinewidth\":0,\"ticks\":\"\"},\"colorscale\":[[0.0,\"#0d0887\"],[0.1111111111111111,\"#46039f\"],[0.2222222222222222,\"#7201a8\"],[0.3333333333333333,\"#9c179e\"],[0.4444444444444444,\"#bd3786\"],[0.5555555555555556,\"#d8576b\"],[0.6666666666666666,\"#ed7953\"],[0.7777777777777778,\"#fb9f3a\"],[0.8888888888888888,\"#fdca26\"],[1.0,\"#f0f921\"]]}],\"contourcarpet\":[{\"type\":\"contourcarpet\",\"colorbar\":{\"outlinewidth\":0,\"ticks\":\"\"}}],\"contour\":[{\"type\":\"contour\",\"colorbar\":{\"outlinewidth\":0,\"ticks\":\"\"},\"colorscale\":[[0.0,\"#0d0887\"],[0.1111111111111111,\"#46039f\"],[0.2222222222222222,\"#7201a8\"],[0.3333333333333333,\"#9c179e\"],[0.4444444444444444,\"#bd3786\"],[0.5555555555555556,\"#d8576b\"],[0.6666666666666666,\"#ed7953\"],[0.7777777777777778,\"#fb9f3a\"],[0.8888888888888888,\"#fdca26\"],[1.0,\"#f0f921\"]]}],\"surface\":[{\"type\":\"surface\",\"colorbar\":{\"outlinewidth\":0,\"ticks\":\"\"},\"colorscale\":[[0.0,\"#0d0887\"],[0.1111111111111111,\"#46039f\"],[0.2222222222222222,\"#7201a8\"],[0.3333333333333333,\"#9c179e\"],[0.4444444444444444,\"#bd3786\"],[0.5555555555555556,\"#d8576b\"],[0.6666666666666666,\"#ed7953\"],[0.7777777777777778,\"#fb9f3a\"],[0.8888888888888888,\"#fdca26\"],[1.0,\"#f0f921\"]]}],\"mesh3d\":[{\"type\":\"mesh3d\",\"colorbar\":{\"outlinewidth\":0,\"ticks\":\"\"}}],\"scatter\":[{\"fillpattern\":{\"fillmode\":\"overlay\",\"size\":10,\"solidity\":0.2},\"type\":\"scatter\"}],\"parcoords\":[{\"type\":\"parcoords\",\"line\":{\"colorbar\":{\"outlinewidth\":0,\"ticks\":\"\"}}}],\"scatterpolargl\":[{\"type\":\"scatterpolargl\",\"marker\":{\"colorbar\":{\"outlinewidth\":0,\"ticks\":\"\"}}}],\"bar\":[{\"error_x\":{\"color\":\"#2a3f5f\"},\"error_y\":{\"color\":\"#2a3f5f\"},\"marker\":{\"line\":{\"color\":\"#E5ECF6\",\"width\":0.5},\"pattern\":{\"fillmode\":\"overlay\",\"size\":10,\"solidity\":0.2}},\"type\":\"bar\"}],\"scattergeo\":[{\"type\":\"scattergeo\",\"marker\":{\"colorbar\":{\"outlinewidth\":0,\"ticks\":\"\"}}}],\"scatterpolar\":[{\"type\":\"scatterpolar\",\"marker\":{\"colorbar\":{\"outlinewidth\":0,\"ticks\":\"\"}}}],\"histogram\":[{\"marker\":{\"pattern\":{\"fillmode\":\"overlay\",\"size\":10,\"solidity\":0.2}},\"type\":\"histogram\"}],\"scattergl\":[{\"type\":\"scattergl\",\"marker\":{\"colorbar\":{\"outlinewidth\":0,\"ticks\":\"\"}}}],\"scatter3d\":[{\"type\":\"scatter3d\",\"line\":{\"colorbar\":{\"outlinewidth\":0,\"ticks\":\"\"}},\"marker\":{\"colorbar\":{\"outlinewidth\":0,\"ticks\":\"\"}}}],\"scattermapbox\":[{\"type\":\"scattermapbox\",\"marker\":{\"colorbar\":{\"outlinewidth\":0,\"ticks\":\"\"}}}],\"scatterternary\":[{\"type\":\"scatterternary\",\"marker\":{\"colorbar\":{\"outlinewidth\":0,\"ticks\":\"\"}}}],\"scattercarpet\":[{\"type\":\"scattercarpet\",\"marker\":{\"colorbar\":{\"outlinewidth\":0,\"ticks\":\"\"}}}],\"carpet\":[{\"aaxis\":{\"endlinecolor\":\"#2a3f5f\",\"gridcolor\":\"white\",\"linecolor\":\"white\",\"minorgridcolor\":\"white\",\"startlinecolor\":\"#2a3f5f\"},\"baxis\":{\"endlinecolor\":\"#2a3f5f\",\"gridcolor\":\"white\",\"linecolor\":\"white\",\"minorgridcolor\":\"white\",\"startlinecolor\":\"#2a3f5f\"},\"type\":\"carpet\"}],\"table\":[{\"cells\":{\"fill\":{\"color\":\"#EBF0F8\"},\"line\":{\"color\":\"white\"}},\"header\":{\"fill\":{\"color\":\"#C8D4E3\"},\"line\":{\"color\":\"white\"}},\"type\":\"table\"}],\"barpolar\":[{\"marker\":{\"line\":{\"color\":\"#E5ECF6\",\"width\":0.5},\"pattern\":{\"fillmode\":\"overlay\",\"size\":10,\"solidity\":0.2}},\"type\":\"barpolar\"}],\"pie\":[{\"automargin\":true,\"type\":\"pie\"}]},\"layout\":{\"autotypenumbers\":\"strict\",\"colorway\":[\"#636efa\",\"#EF553B\",\"#00cc96\",\"#ab63fa\",\"#FFA15A\",\"#19d3f3\",\"#FF6692\",\"#B6E880\",\"#FF97FF\",\"#FECB52\"],\"font\":{\"color\":\"#2a3f5f\"},\"hovermode\":\"closest\",\"hoverlabel\":{\"align\":\"left\"},\"paper_bgcolor\":\"white\",\"plot_bgcolor\":\"#E5ECF6\",\"polar\":{\"bgcolor\":\"#E5ECF6\",\"angularaxis\":{\"gridcolor\":\"white\",\"linecolor\":\"white\",\"ticks\":\"\"},\"radialaxis\":{\"gridcolor\":\"white\",\"linecolor\":\"white\",\"ticks\":\"\"}},\"ternary\":{\"bgcolor\":\"#E5ECF6\",\"aaxis\":{\"gridcolor\":\"white\",\"linecolor\":\"white\",\"ticks\":\"\"},\"baxis\":{\"gridcolor\":\"white\",\"linecolor\":\"white\",\"ticks\":\"\"},\"caxis\":{\"gridcolor\":\"white\",\"linecolor\":\"white\",\"ticks\":\"\"}},\"coloraxis\":{\"colorbar\":{\"outlinewidth\":0,\"ticks\":\"\"}},\"colorscale\":{\"sequential\":[[0.0,\"#0d0887\"],[0.1111111111111111,\"#46039f\"],[0.2222222222222222,\"#7201a8\"],[0.3333333333333333,\"#9c179e\"],[0.4444444444444444,\"#bd3786\"],[0.5555555555555556,\"#d8576b\"],[0.6666666666666666,\"#ed7953\"],[0.7777777777777778,\"#fb9f3a\"],[0.8888888888888888,\"#fdca26\"],[1.0,\"#f0f921\"]],\"sequentialminus\":[[0.0,\"#0d0887\"],[0.1111111111111111,\"#46039f\"],[0.2222222222222222,\"#7201a8\"],[0.3333333333333333,\"#9c179e\"],[0.4444444444444444,\"#bd3786\"],[0.5555555555555556,\"#d8576b\"],[0.6666666666666666,\"#ed7953\"],[0.7777777777777778,\"#fb9f3a\"],[0.8888888888888888,\"#fdca26\"],[1.0,\"#f0f921\"]],\"diverging\":[[0,\"#8e0152\"],[0.1,\"#c51b7d\"],[0.2,\"#de77ae\"],[0.3,\"#f1b6da\"],[0.4,\"#fde0ef\"],[0.5,\"#f7f7f7\"],[0.6,\"#e6f5d0\"],[0.7,\"#b8e186\"],[0.8,\"#7fbc41\"],[0.9,\"#4d9221\"],[1,\"#276419\"]]},\"xaxis\":{\"gridcolor\":\"white\",\"linecolor\":\"white\",\"ticks\":\"\",\"title\":{\"standoff\":15},\"zerolinecolor\":\"white\",\"automargin\":true,\"zerolinewidth\":2},\"yaxis\":{\"gridcolor\":\"white\",\"linecolor\":\"white\",\"ticks\":\"\",\"title\":{\"standoff\":15},\"zerolinecolor\":\"white\",\"automargin\":true,\"zerolinewidth\":2},\"scene\":{\"xaxis\":{\"backgroundcolor\":\"#E5ECF6\",\"gridcolor\":\"white\",\"linecolor\":\"white\",\"showbackground\":true,\"ticks\":\"\",\"zerolinecolor\":\"white\",\"gridwidth\":2},\"yaxis\":{\"backgroundcolor\":\"#E5ECF6\",\"gridcolor\":\"white\",\"linecolor\":\"white\",\"showbackground\":true,\"ticks\":\"\",\"zerolinecolor\":\"white\",\"gridwidth\":2},\"zaxis\":{\"backgroundcolor\":\"#E5ECF6\",\"gridcolor\":\"white\",\"linecolor\":\"white\",\"showbackground\":true,\"ticks\":\"\",\"zerolinecolor\":\"white\",\"gridwidth\":2}},\"shapedefaults\":{\"line\":{\"color\":\"#2a3f5f\"}},\"annotationdefaults\":{\"arrowcolor\":\"#2a3f5f\",\"arrowhead\":0,\"arrowwidth\":1},\"geo\":{\"bgcolor\":\"white\",\"landcolor\":\"#E5ECF6\",\"subunitcolor\":\"white\",\"showland\":true,\"showlakes\":true,\"lakecolor\":\"white\"},\"title\":{\"x\":0.05},\"mapbox\":{\"style\":\"light\"}}},\"barmode\":\"group\"},                        {\"responsive\": true}                    ).then(function(){\n",
       "                            \n",
       "var gd = document.getElementById('5e28ea2d-3125-45d3-8e7e-6723fd49e2c3');\n",
       "var x = new MutationObserver(function (mutations, observer) {{\n",
       "        var display = window.getComputedStyle(gd).display;\n",
       "        if (!display || display === 'none') {{\n",
       "            console.log([gd, 'removed!']);\n",
       "            Plotly.purge(gd);\n",
       "            observer.disconnect();\n",
       "        }}\n",
       "}});\n",
       "\n",
       "// Listen for the removal of the full notebook cells\n",
       "var notebookContainer = gd.closest('#notebook-container');\n",
       "if (notebookContainer) {{\n",
       "    x.observe(notebookContainer, {childList: true});\n",
       "}}\n",
       "\n",
       "// Listen for the clearing of the current output cell\n",
       "var outputEl = gd.closest('.output');\n",
       "if (outputEl) {{\n",
       "    x.observe(outputEl, {childList: true});\n",
       "}}\n",
       "\n",
       "                        })                };                });            </script>        </div>"
      ]
     },
     "metadata": {},
     "output_type": "display_data"
    }
   ],
   "source": [
    "import plotly.graph_objects as go\n",
    "\n",
    "\n",
    "change=df['% Change'][0:10]\n",
    "\n",
    "\n",
    "fig = go.Figure(data=[\n",
    "    go.Bar(name='% Change', x=symbol, y=LTP),\n",
    "    go.Bar(name='LTP', x=symbol, y=change),\n",
    "\n",
    "    \n",
    "])\n",
    "# Change the bar mode\n",
    "fig.update_layout(barmode='group')\n",
    "fig.show()"
   ]
  },
  {
   "cell_type": "code",
   "execution_count": 31,
   "id": "3c70c4c2",
   "metadata": {},
   "outputs": [
    {
     "data": {
      "application/vnd.plotly.v1+json": {
       "config": {
        "plotlyServerURL": "https://plot.ly"
       },
       "data": [
        {
         "name": "Open",
         "type": "bar",
         "x": [
          "ACLBSL",
          "ADBL",
          "ADBLD83",
          "ADLB",
          "AHPC",
          "AIL",
          "AKBSL",
          "AKJCL",
          "AKPL",
          "ALBSL"
         ],
         "y": [
          "854.00",
          "310.00",
          "890.00",
          "1,317.60",
          "352.00",
          "544.00",
          "1,300.00",
          "258.00",
          "428.00",
          "1,040.00"
         ]
        },
        {
         "name": "High",
         "type": "bar",
         "x": [
          "ACLBSL",
          "ADBL",
          "ADBLD83",
          "ADLB",
          "AHPC",
          "AIL",
          "AKBSL",
          "AKJCL",
          "AKPL",
          "ALBSL"
         ],
         "y": [
          "824.20",
          "305.10",
          "890.00",
          "1,221.80",
          "340.00",
          "511.00",
          "1,277.00",
          "246.00",
          "416.30",
          "1,003.70"
         ]
        },
        {
         "name": "Low",
         "type": "bar",
         "x": [
          "ACLBSL",
          "ADBL",
          "ADBLD83",
          "ADLB",
          "AHPC",
          "AIL",
          "AKBSL",
          "AKJCL",
          "AKPL",
          "ALBSL"
         ],
         "y": [
          "854.00",
          "308.00",
          "890.00",
          "1,221.80",
          "344.00",
          "524.30",
          "1,280.00",
          "247.00",
          "423.00",
          "1,024.10"
         ]
        }
       ],
       "layout": {
        "barmode": "group",
        "template": {
         "data": {
          "bar": [
           {
            "error_x": {
             "color": "#2a3f5f"
            },
            "error_y": {
             "color": "#2a3f5f"
            },
            "marker": {
             "line": {
              "color": "#E5ECF6",
              "width": 0.5
             },
             "pattern": {
              "fillmode": "overlay",
              "size": 10,
              "solidity": 0.2
             }
            },
            "type": "bar"
           }
          ],
          "barpolar": [
           {
            "marker": {
             "line": {
              "color": "#E5ECF6",
              "width": 0.5
             },
             "pattern": {
              "fillmode": "overlay",
              "size": 10,
              "solidity": 0.2
             }
            },
            "type": "barpolar"
           }
          ],
          "carpet": [
           {
            "aaxis": {
             "endlinecolor": "#2a3f5f",
             "gridcolor": "white",
             "linecolor": "white",
             "minorgridcolor": "white",
             "startlinecolor": "#2a3f5f"
            },
            "baxis": {
             "endlinecolor": "#2a3f5f",
             "gridcolor": "white",
             "linecolor": "white",
             "minorgridcolor": "white",
             "startlinecolor": "#2a3f5f"
            },
            "type": "carpet"
           }
          ],
          "choropleth": [
           {
            "colorbar": {
             "outlinewidth": 0,
             "ticks": ""
            },
            "type": "choropleth"
           }
          ],
          "contour": [
           {
            "colorbar": {
             "outlinewidth": 0,
             "ticks": ""
            },
            "colorscale": [
             [
              0,
              "#0d0887"
             ],
             [
              0.1111111111111111,
              "#46039f"
             ],
             [
              0.2222222222222222,
              "#7201a8"
             ],
             [
              0.3333333333333333,
              "#9c179e"
             ],
             [
              0.4444444444444444,
              "#bd3786"
             ],
             [
              0.5555555555555556,
              "#d8576b"
             ],
             [
              0.6666666666666666,
              "#ed7953"
             ],
             [
              0.7777777777777778,
              "#fb9f3a"
             ],
             [
              0.8888888888888888,
              "#fdca26"
             ],
             [
              1,
              "#f0f921"
             ]
            ],
            "type": "contour"
           }
          ],
          "contourcarpet": [
           {
            "colorbar": {
             "outlinewidth": 0,
             "ticks": ""
            },
            "type": "contourcarpet"
           }
          ],
          "heatmap": [
           {
            "colorbar": {
             "outlinewidth": 0,
             "ticks": ""
            },
            "colorscale": [
             [
              0,
              "#0d0887"
             ],
             [
              0.1111111111111111,
              "#46039f"
             ],
             [
              0.2222222222222222,
              "#7201a8"
             ],
             [
              0.3333333333333333,
              "#9c179e"
             ],
             [
              0.4444444444444444,
              "#bd3786"
             ],
             [
              0.5555555555555556,
              "#d8576b"
             ],
             [
              0.6666666666666666,
              "#ed7953"
             ],
             [
              0.7777777777777778,
              "#fb9f3a"
             ],
             [
              0.8888888888888888,
              "#fdca26"
             ],
             [
              1,
              "#f0f921"
             ]
            ],
            "type": "heatmap"
           }
          ],
          "heatmapgl": [
           {
            "colorbar": {
             "outlinewidth": 0,
             "ticks": ""
            },
            "colorscale": [
             [
              0,
              "#0d0887"
             ],
             [
              0.1111111111111111,
              "#46039f"
             ],
             [
              0.2222222222222222,
              "#7201a8"
             ],
             [
              0.3333333333333333,
              "#9c179e"
             ],
             [
              0.4444444444444444,
              "#bd3786"
             ],
             [
              0.5555555555555556,
              "#d8576b"
             ],
             [
              0.6666666666666666,
              "#ed7953"
             ],
             [
              0.7777777777777778,
              "#fb9f3a"
             ],
             [
              0.8888888888888888,
              "#fdca26"
             ],
             [
              1,
              "#f0f921"
             ]
            ],
            "type": "heatmapgl"
           }
          ],
          "histogram": [
           {
            "marker": {
             "pattern": {
              "fillmode": "overlay",
              "size": 10,
              "solidity": 0.2
             }
            },
            "type": "histogram"
           }
          ],
          "histogram2d": [
           {
            "colorbar": {
             "outlinewidth": 0,
             "ticks": ""
            },
            "colorscale": [
             [
              0,
              "#0d0887"
             ],
             [
              0.1111111111111111,
              "#46039f"
             ],
             [
              0.2222222222222222,
              "#7201a8"
             ],
             [
              0.3333333333333333,
              "#9c179e"
             ],
             [
              0.4444444444444444,
              "#bd3786"
             ],
             [
              0.5555555555555556,
              "#d8576b"
             ],
             [
              0.6666666666666666,
              "#ed7953"
             ],
             [
              0.7777777777777778,
              "#fb9f3a"
             ],
             [
              0.8888888888888888,
              "#fdca26"
             ],
             [
              1,
              "#f0f921"
             ]
            ],
            "type": "histogram2d"
           }
          ],
          "histogram2dcontour": [
           {
            "colorbar": {
             "outlinewidth": 0,
             "ticks": ""
            },
            "colorscale": [
             [
              0,
              "#0d0887"
             ],
             [
              0.1111111111111111,
              "#46039f"
             ],
             [
              0.2222222222222222,
              "#7201a8"
             ],
             [
              0.3333333333333333,
              "#9c179e"
             ],
             [
              0.4444444444444444,
              "#bd3786"
             ],
             [
              0.5555555555555556,
              "#d8576b"
             ],
             [
              0.6666666666666666,
              "#ed7953"
             ],
             [
              0.7777777777777778,
              "#fb9f3a"
             ],
             [
              0.8888888888888888,
              "#fdca26"
             ],
             [
              1,
              "#f0f921"
             ]
            ],
            "type": "histogram2dcontour"
           }
          ],
          "mesh3d": [
           {
            "colorbar": {
             "outlinewidth": 0,
             "ticks": ""
            },
            "type": "mesh3d"
           }
          ],
          "parcoords": [
           {
            "line": {
             "colorbar": {
              "outlinewidth": 0,
              "ticks": ""
             }
            },
            "type": "parcoords"
           }
          ],
          "pie": [
           {
            "automargin": true,
            "type": "pie"
           }
          ],
          "scatter": [
           {
            "fillpattern": {
             "fillmode": "overlay",
             "size": 10,
             "solidity": 0.2
            },
            "type": "scatter"
           }
          ],
          "scatter3d": [
           {
            "line": {
             "colorbar": {
              "outlinewidth": 0,
              "ticks": ""
             }
            },
            "marker": {
             "colorbar": {
              "outlinewidth": 0,
              "ticks": ""
             }
            },
            "type": "scatter3d"
           }
          ],
          "scattercarpet": [
           {
            "marker": {
             "colorbar": {
              "outlinewidth": 0,
              "ticks": ""
             }
            },
            "type": "scattercarpet"
           }
          ],
          "scattergeo": [
           {
            "marker": {
             "colorbar": {
              "outlinewidth": 0,
              "ticks": ""
             }
            },
            "type": "scattergeo"
           }
          ],
          "scattergl": [
           {
            "marker": {
             "colorbar": {
              "outlinewidth": 0,
              "ticks": ""
             }
            },
            "type": "scattergl"
           }
          ],
          "scattermapbox": [
           {
            "marker": {
             "colorbar": {
              "outlinewidth": 0,
              "ticks": ""
             }
            },
            "type": "scattermapbox"
           }
          ],
          "scatterpolar": [
           {
            "marker": {
             "colorbar": {
              "outlinewidth": 0,
              "ticks": ""
             }
            },
            "type": "scatterpolar"
           }
          ],
          "scatterpolargl": [
           {
            "marker": {
             "colorbar": {
              "outlinewidth": 0,
              "ticks": ""
             }
            },
            "type": "scatterpolargl"
           }
          ],
          "scatterternary": [
           {
            "marker": {
             "colorbar": {
              "outlinewidth": 0,
              "ticks": ""
             }
            },
            "type": "scatterternary"
           }
          ],
          "surface": [
           {
            "colorbar": {
             "outlinewidth": 0,
             "ticks": ""
            },
            "colorscale": [
             [
              0,
              "#0d0887"
             ],
             [
              0.1111111111111111,
              "#46039f"
             ],
             [
              0.2222222222222222,
              "#7201a8"
             ],
             [
              0.3333333333333333,
              "#9c179e"
             ],
             [
              0.4444444444444444,
              "#bd3786"
             ],
             [
              0.5555555555555556,
              "#d8576b"
             ],
             [
              0.6666666666666666,
              "#ed7953"
             ],
             [
              0.7777777777777778,
              "#fb9f3a"
             ],
             [
              0.8888888888888888,
              "#fdca26"
             ],
             [
              1,
              "#f0f921"
             ]
            ],
            "type": "surface"
           }
          ],
          "table": [
           {
            "cells": {
             "fill": {
              "color": "#EBF0F8"
             },
             "line": {
              "color": "white"
             }
            },
            "header": {
             "fill": {
              "color": "#C8D4E3"
             },
             "line": {
              "color": "white"
             }
            },
            "type": "table"
           }
          ]
         },
         "layout": {
          "annotationdefaults": {
           "arrowcolor": "#2a3f5f",
           "arrowhead": 0,
           "arrowwidth": 1
          },
          "autotypenumbers": "strict",
          "coloraxis": {
           "colorbar": {
            "outlinewidth": 0,
            "ticks": ""
           }
          },
          "colorscale": {
           "diverging": [
            [
             0,
             "#8e0152"
            ],
            [
             0.1,
             "#c51b7d"
            ],
            [
             0.2,
             "#de77ae"
            ],
            [
             0.3,
             "#f1b6da"
            ],
            [
             0.4,
             "#fde0ef"
            ],
            [
             0.5,
             "#f7f7f7"
            ],
            [
             0.6,
             "#e6f5d0"
            ],
            [
             0.7,
             "#b8e186"
            ],
            [
             0.8,
             "#7fbc41"
            ],
            [
             0.9,
             "#4d9221"
            ],
            [
             1,
             "#276419"
            ]
           ],
           "sequential": [
            [
             0,
             "#0d0887"
            ],
            [
             0.1111111111111111,
             "#46039f"
            ],
            [
             0.2222222222222222,
             "#7201a8"
            ],
            [
             0.3333333333333333,
             "#9c179e"
            ],
            [
             0.4444444444444444,
             "#bd3786"
            ],
            [
             0.5555555555555556,
             "#d8576b"
            ],
            [
             0.6666666666666666,
             "#ed7953"
            ],
            [
             0.7777777777777778,
             "#fb9f3a"
            ],
            [
             0.8888888888888888,
             "#fdca26"
            ],
            [
             1,
             "#f0f921"
            ]
           ],
           "sequentialminus": [
            [
             0,
             "#0d0887"
            ],
            [
             0.1111111111111111,
             "#46039f"
            ],
            [
             0.2222222222222222,
             "#7201a8"
            ],
            [
             0.3333333333333333,
             "#9c179e"
            ],
            [
             0.4444444444444444,
             "#bd3786"
            ],
            [
             0.5555555555555556,
             "#d8576b"
            ],
            [
             0.6666666666666666,
             "#ed7953"
            ],
            [
             0.7777777777777778,
             "#fb9f3a"
            ],
            [
             0.8888888888888888,
             "#fdca26"
            ],
            [
             1,
             "#f0f921"
            ]
           ]
          },
          "colorway": [
           "#636efa",
           "#EF553B",
           "#00cc96",
           "#ab63fa",
           "#FFA15A",
           "#19d3f3",
           "#FF6692",
           "#B6E880",
           "#FF97FF",
           "#FECB52"
          ],
          "font": {
           "color": "#2a3f5f"
          },
          "geo": {
           "bgcolor": "white",
           "lakecolor": "white",
           "landcolor": "#E5ECF6",
           "showlakes": true,
           "showland": true,
           "subunitcolor": "white"
          },
          "hoverlabel": {
           "align": "left"
          },
          "hovermode": "closest",
          "mapbox": {
           "style": "light"
          },
          "paper_bgcolor": "white",
          "plot_bgcolor": "#E5ECF6",
          "polar": {
           "angularaxis": {
            "gridcolor": "white",
            "linecolor": "white",
            "ticks": ""
           },
           "bgcolor": "#E5ECF6",
           "radialaxis": {
            "gridcolor": "white",
            "linecolor": "white",
            "ticks": ""
           }
          },
          "scene": {
           "xaxis": {
            "backgroundcolor": "#E5ECF6",
            "gridcolor": "white",
            "gridwidth": 2,
            "linecolor": "white",
            "showbackground": true,
            "ticks": "",
            "zerolinecolor": "white"
           },
           "yaxis": {
            "backgroundcolor": "#E5ECF6",
            "gridcolor": "white",
            "gridwidth": 2,
            "linecolor": "white",
            "showbackground": true,
            "ticks": "",
            "zerolinecolor": "white"
           },
           "zaxis": {
            "backgroundcolor": "#E5ECF6",
            "gridcolor": "white",
            "gridwidth": 2,
            "linecolor": "white",
            "showbackground": true,
            "ticks": "",
            "zerolinecolor": "white"
           }
          },
          "shapedefaults": {
           "line": {
            "color": "#2a3f5f"
           }
          },
          "ternary": {
           "aaxis": {
            "gridcolor": "white",
            "linecolor": "white",
            "ticks": ""
           },
           "baxis": {
            "gridcolor": "white",
            "linecolor": "white",
            "ticks": ""
           },
           "bgcolor": "#E5ECF6",
           "caxis": {
            "gridcolor": "white",
            "linecolor": "white",
            "ticks": ""
           }
          },
          "title": {
           "x": 0.05
          },
          "xaxis": {
           "automargin": true,
           "gridcolor": "white",
           "linecolor": "white",
           "ticks": "",
           "title": {
            "standoff": 15
           },
           "zerolinecolor": "white",
           "zerolinewidth": 2
          },
          "yaxis": {
           "automargin": true,
           "gridcolor": "white",
           "linecolor": "white",
           "ticks": "",
           "title": {
            "standoff": 15
           },
           "zerolinecolor": "white",
           "zerolinewidth": 2
          }
         }
        }
       }
      },
      "text/html": [
       "<div>                            <div id=\"3ae14bc8-d856-42c4-8336-4820f0546cb9\" class=\"plotly-graph-div\" style=\"height:525px; width:100%;\"></div>            <script type=\"text/javascript\">                require([\"plotly\"], function(Plotly) {                    window.PLOTLYENV=window.PLOTLYENV || {};                                    if (document.getElementById(\"3ae14bc8-d856-42c4-8336-4820f0546cb9\")) {                    Plotly.newPlot(                        \"3ae14bc8-d856-42c4-8336-4820f0546cb9\",                        [{\"name\":\"Open\",\"x\":[\"ACLBSL\",\"ADBL\",\"ADBLD83\",\"ADLB\",\"AHPC\",\"AIL\",\"AKBSL\",\"AKJCL\",\"AKPL\",\"ALBSL\"],\"y\":[\"854.00\",\"310.00\",\"890.00\",\"1,317.60\",\"352.00\",\"544.00\",\"1,300.00\",\"258.00\",\"428.00\",\"1,040.00\"],\"type\":\"bar\"},{\"name\":\"High\",\"x\":[\"ACLBSL\",\"ADBL\",\"ADBLD83\",\"ADLB\",\"AHPC\",\"AIL\",\"AKBSL\",\"AKJCL\",\"AKPL\",\"ALBSL\"],\"y\":[\"824.20\",\"305.10\",\"890.00\",\"1,221.80\",\"340.00\",\"511.00\",\"1,277.00\",\"246.00\",\"416.30\",\"1,003.70\"],\"type\":\"bar\"},{\"name\":\"Low\",\"x\":[\"ACLBSL\",\"ADBL\",\"ADBLD83\",\"ADLB\",\"AHPC\",\"AIL\",\"AKBSL\",\"AKJCL\",\"AKPL\",\"ALBSL\"],\"y\":[\"854.00\",\"308.00\",\"890.00\",\"1,221.80\",\"344.00\",\"524.30\",\"1,280.00\",\"247.00\",\"423.00\",\"1,024.10\"],\"type\":\"bar\"}],                        {\"template\":{\"data\":{\"histogram2dcontour\":[{\"type\":\"histogram2dcontour\",\"colorbar\":{\"outlinewidth\":0,\"ticks\":\"\"},\"colorscale\":[[0.0,\"#0d0887\"],[0.1111111111111111,\"#46039f\"],[0.2222222222222222,\"#7201a8\"],[0.3333333333333333,\"#9c179e\"],[0.4444444444444444,\"#bd3786\"],[0.5555555555555556,\"#d8576b\"],[0.6666666666666666,\"#ed7953\"],[0.7777777777777778,\"#fb9f3a\"],[0.8888888888888888,\"#fdca26\"],[1.0,\"#f0f921\"]]}],\"choropleth\":[{\"type\":\"choropleth\",\"colorbar\":{\"outlinewidth\":0,\"ticks\":\"\"}}],\"histogram2d\":[{\"type\":\"histogram2d\",\"colorbar\":{\"outlinewidth\":0,\"ticks\":\"\"},\"colorscale\":[[0.0,\"#0d0887\"],[0.1111111111111111,\"#46039f\"],[0.2222222222222222,\"#7201a8\"],[0.3333333333333333,\"#9c179e\"],[0.4444444444444444,\"#bd3786\"],[0.5555555555555556,\"#d8576b\"],[0.6666666666666666,\"#ed7953\"],[0.7777777777777778,\"#fb9f3a\"],[0.8888888888888888,\"#fdca26\"],[1.0,\"#f0f921\"]]}],\"heatmap\":[{\"type\":\"heatmap\",\"colorbar\":{\"outlinewidth\":0,\"ticks\":\"\"},\"colorscale\":[[0.0,\"#0d0887\"],[0.1111111111111111,\"#46039f\"],[0.2222222222222222,\"#7201a8\"],[0.3333333333333333,\"#9c179e\"],[0.4444444444444444,\"#bd3786\"],[0.5555555555555556,\"#d8576b\"],[0.6666666666666666,\"#ed7953\"],[0.7777777777777778,\"#fb9f3a\"],[0.8888888888888888,\"#fdca26\"],[1.0,\"#f0f921\"]]}],\"heatmapgl\":[{\"type\":\"heatmapgl\",\"colorbar\":{\"outlinewidth\":0,\"ticks\":\"\"},\"colorscale\":[[0.0,\"#0d0887\"],[0.1111111111111111,\"#46039f\"],[0.2222222222222222,\"#7201a8\"],[0.3333333333333333,\"#9c179e\"],[0.4444444444444444,\"#bd3786\"],[0.5555555555555556,\"#d8576b\"],[0.6666666666666666,\"#ed7953\"],[0.7777777777777778,\"#fb9f3a\"],[0.8888888888888888,\"#fdca26\"],[1.0,\"#f0f921\"]]}],\"contourcarpet\":[{\"type\":\"contourcarpet\",\"colorbar\":{\"outlinewidth\":0,\"ticks\":\"\"}}],\"contour\":[{\"type\":\"contour\",\"colorbar\":{\"outlinewidth\":0,\"ticks\":\"\"},\"colorscale\":[[0.0,\"#0d0887\"],[0.1111111111111111,\"#46039f\"],[0.2222222222222222,\"#7201a8\"],[0.3333333333333333,\"#9c179e\"],[0.4444444444444444,\"#bd3786\"],[0.5555555555555556,\"#d8576b\"],[0.6666666666666666,\"#ed7953\"],[0.7777777777777778,\"#fb9f3a\"],[0.8888888888888888,\"#fdca26\"],[1.0,\"#f0f921\"]]}],\"surface\":[{\"type\":\"surface\",\"colorbar\":{\"outlinewidth\":0,\"ticks\":\"\"},\"colorscale\":[[0.0,\"#0d0887\"],[0.1111111111111111,\"#46039f\"],[0.2222222222222222,\"#7201a8\"],[0.3333333333333333,\"#9c179e\"],[0.4444444444444444,\"#bd3786\"],[0.5555555555555556,\"#d8576b\"],[0.6666666666666666,\"#ed7953\"],[0.7777777777777778,\"#fb9f3a\"],[0.8888888888888888,\"#fdca26\"],[1.0,\"#f0f921\"]]}],\"mesh3d\":[{\"type\":\"mesh3d\",\"colorbar\":{\"outlinewidth\":0,\"ticks\":\"\"}}],\"scatter\":[{\"fillpattern\":{\"fillmode\":\"overlay\",\"size\":10,\"solidity\":0.2},\"type\":\"scatter\"}],\"parcoords\":[{\"type\":\"parcoords\",\"line\":{\"colorbar\":{\"outlinewidth\":0,\"ticks\":\"\"}}}],\"scatterpolargl\":[{\"type\":\"scatterpolargl\",\"marker\":{\"colorbar\":{\"outlinewidth\":0,\"ticks\":\"\"}}}],\"bar\":[{\"error_x\":{\"color\":\"#2a3f5f\"},\"error_y\":{\"color\":\"#2a3f5f\"},\"marker\":{\"line\":{\"color\":\"#E5ECF6\",\"width\":0.5},\"pattern\":{\"fillmode\":\"overlay\",\"size\":10,\"solidity\":0.2}},\"type\":\"bar\"}],\"scattergeo\":[{\"type\":\"scattergeo\",\"marker\":{\"colorbar\":{\"outlinewidth\":0,\"ticks\":\"\"}}}],\"scatterpolar\":[{\"type\":\"scatterpolar\",\"marker\":{\"colorbar\":{\"outlinewidth\":0,\"ticks\":\"\"}}}],\"histogram\":[{\"marker\":{\"pattern\":{\"fillmode\":\"overlay\",\"size\":10,\"solidity\":0.2}},\"type\":\"histogram\"}],\"scattergl\":[{\"type\":\"scattergl\",\"marker\":{\"colorbar\":{\"outlinewidth\":0,\"ticks\":\"\"}}}],\"scatter3d\":[{\"type\":\"scatter3d\",\"line\":{\"colorbar\":{\"outlinewidth\":0,\"ticks\":\"\"}},\"marker\":{\"colorbar\":{\"outlinewidth\":0,\"ticks\":\"\"}}}],\"scattermapbox\":[{\"type\":\"scattermapbox\",\"marker\":{\"colorbar\":{\"outlinewidth\":0,\"ticks\":\"\"}}}],\"scatterternary\":[{\"type\":\"scatterternary\",\"marker\":{\"colorbar\":{\"outlinewidth\":0,\"ticks\":\"\"}}}],\"scattercarpet\":[{\"type\":\"scattercarpet\",\"marker\":{\"colorbar\":{\"outlinewidth\":0,\"ticks\":\"\"}}}],\"carpet\":[{\"aaxis\":{\"endlinecolor\":\"#2a3f5f\",\"gridcolor\":\"white\",\"linecolor\":\"white\",\"minorgridcolor\":\"white\",\"startlinecolor\":\"#2a3f5f\"},\"baxis\":{\"endlinecolor\":\"#2a3f5f\",\"gridcolor\":\"white\",\"linecolor\":\"white\",\"minorgridcolor\":\"white\",\"startlinecolor\":\"#2a3f5f\"},\"type\":\"carpet\"}],\"table\":[{\"cells\":{\"fill\":{\"color\":\"#EBF0F8\"},\"line\":{\"color\":\"white\"}},\"header\":{\"fill\":{\"color\":\"#C8D4E3\"},\"line\":{\"color\":\"white\"}},\"type\":\"table\"}],\"barpolar\":[{\"marker\":{\"line\":{\"color\":\"#E5ECF6\",\"width\":0.5},\"pattern\":{\"fillmode\":\"overlay\",\"size\":10,\"solidity\":0.2}},\"type\":\"barpolar\"}],\"pie\":[{\"automargin\":true,\"type\":\"pie\"}]},\"layout\":{\"autotypenumbers\":\"strict\",\"colorway\":[\"#636efa\",\"#EF553B\",\"#00cc96\",\"#ab63fa\",\"#FFA15A\",\"#19d3f3\",\"#FF6692\",\"#B6E880\",\"#FF97FF\",\"#FECB52\"],\"font\":{\"color\":\"#2a3f5f\"},\"hovermode\":\"closest\",\"hoverlabel\":{\"align\":\"left\"},\"paper_bgcolor\":\"white\",\"plot_bgcolor\":\"#E5ECF6\",\"polar\":{\"bgcolor\":\"#E5ECF6\",\"angularaxis\":{\"gridcolor\":\"white\",\"linecolor\":\"white\",\"ticks\":\"\"},\"radialaxis\":{\"gridcolor\":\"white\",\"linecolor\":\"white\",\"ticks\":\"\"}},\"ternary\":{\"bgcolor\":\"#E5ECF6\",\"aaxis\":{\"gridcolor\":\"white\",\"linecolor\":\"white\",\"ticks\":\"\"},\"baxis\":{\"gridcolor\":\"white\",\"linecolor\":\"white\",\"ticks\":\"\"},\"caxis\":{\"gridcolor\":\"white\",\"linecolor\":\"white\",\"ticks\":\"\"}},\"coloraxis\":{\"colorbar\":{\"outlinewidth\":0,\"ticks\":\"\"}},\"colorscale\":{\"sequential\":[[0.0,\"#0d0887\"],[0.1111111111111111,\"#46039f\"],[0.2222222222222222,\"#7201a8\"],[0.3333333333333333,\"#9c179e\"],[0.4444444444444444,\"#bd3786\"],[0.5555555555555556,\"#d8576b\"],[0.6666666666666666,\"#ed7953\"],[0.7777777777777778,\"#fb9f3a\"],[0.8888888888888888,\"#fdca26\"],[1.0,\"#f0f921\"]],\"sequentialminus\":[[0.0,\"#0d0887\"],[0.1111111111111111,\"#46039f\"],[0.2222222222222222,\"#7201a8\"],[0.3333333333333333,\"#9c179e\"],[0.4444444444444444,\"#bd3786\"],[0.5555555555555556,\"#d8576b\"],[0.6666666666666666,\"#ed7953\"],[0.7777777777777778,\"#fb9f3a\"],[0.8888888888888888,\"#fdca26\"],[1.0,\"#f0f921\"]],\"diverging\":[[0,\"#8e0152\"],[0.1,\"#c51b7d\"],[0.2,\"#de77ae\"],[0.3,\"#f1b6da\"],[0.4,\"#fde0ef\"],[0.5,\"#f7f7f7\"],[0.6,\"#e6f5d0\"],[0.7,\"#b8e186\"],[0.8,\"#7fbc41\"],[0.9,\"#4d9221\"],[1,\"#276419\"]]},\"xaxis\":{\"gridcolor\":\"white\",\"linecolor\":\"white\",\"ticks\":\"\",\"title\":{\"standoff\":15},\"zerolinecolor\":\"white\",\"automargin\":true,\"zerolinewidth\":2},\"yaxis\":{\"gridcolor\":\"white\",\"linecolor\":\"white\",\"ticks\":\"\",\"title\":{\"standoff\":15},\"zerolinecolor\":\"white\",\"automargin\":true,\"zerolinewidth\":2},\"scene\":{\"xaxis\":{\"backgroundcolor\":\"#E5ECF6\",\"gridcolor\":\"white\",\"linecolor\":\"white\",\"showbackground\":true,\"ticks\":\"\",\"zerolinecolor\":\"white\",\"gridwidth\":2},\"yaxis\":{\"backgroundcolor\":\"#E5ECF6\",\"gridcolor\":\"white\",\"linecolor\":\"white\",\"showbackground\":true,\"ticks\":\"\",\"zerolinecolor\":\"white\",\"gridwidth\":2},\"zaxis\":{\"backgroundcolor\":\"#E5ECF6\",\"gridcolor\":\"white\",\"linecolor\":\"white\",\"showbackground\":true,\"ticks\":\"\",\"zerolinecolor\":\"white\",\"gridwidth\":2}},\"shapedefaults\":{\"line\":{\"color\":\"#2a3f5f\"}},\"annotationdefaults\":{\"arrowcolor\":\"#2a3f5f\",\"arrowhead\":0,\"arrowwidth\":1},\"geo\":{\"bgcolor\":\"white\",\"landcolor\":\"#E5ECF6\",\"subunitcolor\":\"white\",\"showland\":true,\"showlakes\":true,\"lakecolor\":\"white\"},\"title\":{\"x\":0.05},\"mapbox\":{\"style\":\"light\"}}},\"barmode\":\"group\"},                        {\"responsive\": true}                    ).then(function(){\n",
       "                            \n",
       "var gd = document.getElementById('3ae14bc8-d856-42c4-8336-4820f0546cb9');\n",
       "var x = new MutationObserver(function (mutations, observer) {{\n",
       "        var display = window.getComputedStyle(gd).display;\n",
       "        if (!display || display === 'none') {{\n",
       "            console.log([gd, 'removed!']);\n",
       "            Plotly.purge(gd);\n",
       "            observer.disconnect();\n",
       "        }}\n",
       "}});\n",
       "\n",
       "// Listen for the removal of the full notebook cells\n",
       "var notebookContainer = gd.closest('#notebook-container');\n",
       "if (notebookContainer) {{\n",
       "    x.observe(notebookContainer, {childList: true});\n",
       "}}\n",
       "\n",
       "// Listen for the clearing of the current output cell\n",
       "var outputEl = gd.closest('.output');\n",
       "if (outputEl) {{\n",
       "    x.observe(outputEl, {childList: true});\n",
       "}}\n",
       "\n",
       "                        })                };                });            </script>        </div>"
      ]
     },
     "metadata": {},
     "output_type": "display_data"
    }
   ],
   "source": [
    "import plotly.graph_objects as go\n",
    "\n",
    "\n",
    "open1=df['Open'][0:10]\n",
    "high1=df['High'][0:10]\n",
    "low1=df['Low'][0:10]\n",
    "\n",
    "fig = go.Figure(data=[\n",
    "    go.Bar(name='Open', x=symbol, y=open1),\n",
    "    go.Bar(name='High', x=symbol, y=high1),\n",
    "    go.Bar(name='Low', x=symbol, y=low1),\n",
    "\n",
    "    \n",
    "])\n",
    "# Change the bar mode\n",
    "fig.update_layout(barmode='group')\n",
    "fig.show()"
   ]
  },
  {
   "cell_type": "code",
   "execution_count": null,
   "id": "1efe9d68",
   "metadata": {},
   "outputs": [],
   "source": []
  },
  {
   "cell_type": "code",
   "execution_count": null,
   "id": "473991f1",
   "metadata": {},
   "outputs": [],
   "source": [
    "%%"
   ]
  }
 ],
 "metadata": {
  "kernelspec": {
   "display_name": "Python 3 (ipykernel)",
   "language": "python",
   "name": "python3"
  },
  "language_info": {
   "codemirror_mode": {
    "name": "ipython",
    "version": 3
   },
   "file_extension": ".py",
   "mimetype": "text/x-python",
   "name": "python",
   "nbconvert_exporter": "python",
   "pygments_lexer": "ipython3",
   "version": "3.9.13"
  }
 },
 "nbformat": 4,
 "nbformat_minor": 5
}
