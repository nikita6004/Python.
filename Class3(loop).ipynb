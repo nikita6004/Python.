{
 "cells": [
  {
   "cell_type": "code",
   "execution_count": 1,
   "id": "febc4014",
   "metadata": {},
   "outputs": [
    {
     "name": "stdout",
     "output_type": "stream",
     "text": [
      "0\n",
      "1\n",
      "2\n",
      "3\n",
      "4\n"
     ]
    }
   ],
   "source": [
    "#range(x,y,i)\n",
    "for i in range(5):\n",
    "    print(i)"
   ]
  },
  {
   "cell_type": "code",
   "execution_count": 3,
   "id": "90665594",
   "metadata": {},
   "outputs": [
    {
     "name": "stdout",
     "output_type": "stream",
     "text": [
      "hello\n",
      "hello\n",
      "hello\n",
      "hello\n",
      "hello\n"
     ]
    }
   ],
   "source": [
    "for i in range(5):\n",
    "    print(\"hello\")"
   ]
  },
  {
   "cell_type": "code",
   "execution_count": 4,
   "id": "96a4f6af",
   "metadata": {},
   "outputs": [
    {
     "name": "stdout",
     "output_type": "stream",
     "text": [
      "0 hello\n",
      "1 hello\n",
      "2 hello\n",
      "3 hello\n",
      "4 hello\n"
     ]
    }
   ],
   "source": [
    "for i in range(5):\n",
    "    print(i,\"hello\")"
   ]
  },
  {
   "cell_type": "code",
   "execution_count": 6,
   "id": "fffc7b44",
   "metadata": {},
   "outputs": [
    {
     "name": "stdout",
     "output_type": "stream",
     "text": [
      "1\n",
      "2\n",
      "3\n",
      "4\n"
     ]
    }
   ],
   "source": [
    "for i in range(1,5):\n",
    "    print(i)"
   ]
  },
  {
   "cell_type": "code",
   "execution_count": 9,
   "id": "742d6768",
   "metadata": {},
   "outputs": [
    {
     "name": "stdout",
     "output_type": "stream",
     "text": [
      "1\n",
      "3\n",
      "5\n",
      "7\n",
      "9\n"
     ]
    }
   ],
   "source": [
    "for i in range(1,11,2):\n",
    "    print(i)"
   ]
  },
  {
   "cell_type": "code",
   "execution_count": 12,
   "id": "834bcca4",
   "metadata": {},
   "outputs": [
    {
     "name": "stdout",
     "output_type": "stream",
     "text": [
      "Enter the value of n 9\n",
      "9 X 1 = 9\n",
      "9 X 2 = 18\n",
      "9 X 3 = 27\n",
      "9 X 4 = 36\n",
      "9 X 5 = 45\n",
      "9 X 6 = 54\n",
      "9 X 7 = 63\n",
      "9 X 8 = 72\n",
      "9 X 9 = 81\n",
      "9 X 10 = 90\n"
     ]
    }
   ],
   "source": [
    "n=int(input(\"Enter the value of n \"))\n",
    "for i in range(1,11):\n",
    "    print(n,\"X\",i,\"=\",n*i)"
   ]
  },
  {
   "cell_type": "code",
   "execution_count": 13,
   "id": "ab5b076d",
   "metadata": {},
   "outputs": [
    {
     "name": "stdout",
     "output_type": "stream",
     "text": [
      "Enter value of x20\n",
      "20\n",
      "Enter value of x90\n",
      "90\n",
      "Enter value of x00\n",
      "0\n",
      "Enter value of x365\n",
      "365\n",
      "Enter value of x37\n",
      "37\n"
     ]
    }
   ],
   "source": [
    "for i in range(5):\n",
    "    x=int(input(\"Enter value of x\"))\n",
    "    print(x)\n"
   ]
  },
  {
   "cell_type": "code",
   "execution_count": 2,
   "id": "c485a344",
   "metadata": {},
   "outputs": [
    {
     "name": "stdout",
     "output_type": "stream",
     "text": [
      "Enter value of x 2\n",
      "2\n",
      "Enter value of x 4\n",
      "4\n",
      "Enter value of x 5\n",
      "5\n",
      "Enter value of x 6\n",
      "6\n",
      "Enter value of x 3\n",
      "3\n",
      "Total sum is 20\n"
     ]
    }
   ],
   "source": [
    "s=0\n",
    "for i in range(5):\n",
    "    x=int(input(\"Enter value of x \"))\n",
    "    print(x)\n",
    "    s=s+x\n",
    "    \n",
    "print(\"Total sum is\",s)"
   ]
  },
  {
   "cell_type": "code",
   "execution_count": 2,
   "id": "27ec6f84",
   "metadata": {},
   "outputs": [
    {
     "name": "stdout",
     "output_type": "stream",
     "text": [
      "Enter n =8\n",
      "Enter 1 value = 5\n",
      "Enter 2 value = 4\n",
      "Enter 3 value = 3\n",
      "Enter 4 value = 2\n",
      "Enter 5 value = 2\n",
      "Enter 6 value = 1\n",
      "Enter 7 value = 3\n",
      "Enter 8 value = 5\n",
      "Total sum is 25\n"
     ]
    }
   ],
   "source": [
    "# enter 1st, 2nd value...\n",
    "s=0\n",
    "n = int(input(\"Enter n =\"))\n",
    "for i in range (1,n+1):\n",
    "    x=int(input(f\"Enter {i} value = \"))\n",
    "    s=s+x\n",
    "    \n",
    "print(\"Total sum is\",s)\n",
    "    "
   ]
  },
  {
   "cell_type": "code",
   "execution_count": 7,
   "id": "5ae870a7",
   "metadata": {},
   "outputs": [
    {
     "name": "stdout",
     "output_type": "stream",
     "text": [
      "Enter n =3\n",
      "Enter physics marks = 4\n",
      "4\n",
      "Enter maths marks = 2\n",
      "2\n",
      "Enter english marks = 1\n",
      "1\n"
     ]
    }
   ],
   "source": [
    "sub= ['physics','maths', 'english']\n",
    "n = int(input(\"Enter n =\"))\n",
    "for i in range (n):\n",
    "    x=int(input(f\"Enter {sub[i]} marks = \"))\n",
    "    print(x)"
   ]
  },
  {
   "cell_type": "code",
   "execution_count": 6,
   "id": "a51c62f3",
   "metadata": {},
   "outputs": [
    {
     "name": "stdout",
     "output_type": "stream",
     "text": [
      "enter the value of n8\n",
      "Enter value of x8\n",
      "Enter value of x8\n",
      "Enter value of x0\n",
      "Enter value of x3\n",
      "Enter value of x2\n",
      "Enter value of x1\n",
      "Enter value of x1\n",
      "Enter value of x2\n",
      "Total sum is 25\n"
     ]
    }
   ],
   "source": [
    "s=0\n",
    "n=int(input(\"enter the value of n\"))\n",
    "for i in range(n):\n",
    "    x=int(input(\"Enter value of x\"))\n",
    "    s=s+x\n",
    "    \n",
    "print(\"Total sum is\",s)"
   ]
  },
  {
   "cell_type": "code",
   "execution_count": 5,
   "id": "6162db3f",
   "metadata": {},
   "outputs": [
    {
     "name": "stdout",
     "output_type": "stream",
     "text": [
      "Enter value of x1\n",
      "1\n",
      "Total sum is 1\n",
      "Enter value of x2\n",
      "2\n",
      "Total sum is 3\n",
      "Enter value of x3\n",
      "3\n",
      "Total sum is 6\n",
      "Enter value of x6\n",
      "6\n",
      "Total sum is 12\n",
      "Enter value of x4\n",
      "4\n",
      "Total sum is 16\n"
     ]
    }
   ],
   "source": [
    "s=0\n",
    "for i in range(5):\n",
    "    x=int(input(\"Enter value of x\"))\n",
    "    print(x)\n",
    "    s=s+x\n",
    "    print(\"Total sum is\",s)"
   ]
  },
  {
   "cell_type": "code",
   "execution_count": 15,
   "id": "592ba828",
   "metadata": {},
   "outputs": [
    {
     "name": "stdout",
     "output_type": "stream",
     "text": [
      "enter name4\n",
      "Enter value of xRam\n",
      "Enter value of xshyam\n",
      "Enter value of xtyam\n",
      "Enter value of xkyam\n",
      "Ram shyam tyam kyam \n"
     ]
    }
   ],
   "source": [
    "s=str()\n",
    "n=int(input(\"enter value of n\"))\n",
    "for i in range(n):\n",
    "    x=input(\"Enter name\")\n",
    "    s=s+x+' '\n",
    "       \n",
    "print(s)"
   ]
  },
  {
   "cell_type": "code",
   "execution_count": 1,
   "id": "ce265e0e",
   "metadata": {},
   "outputs": [
    {
     "name": "stdout",
     "output_type": "stream",
     "text": [
      "Enter number3\n",
      "Enter name Nikita\n",
      "Enter phone number 9860826004\n",
      "Enter name Kiki\n",
      "Enter phone number 9860826004\n",
      "Enter name OOP\n",
      "Enter phone number 9860826004\n",
      "Nikita 9860826004\n",
      "Kiki 9860826004\n",
      "OOP 9860826004\n",
      "\n"
     ]
    }
   ],
   "source": [
    "s=str()\n",
    "n=int(input(\"Enter number\"))\n",
    "for i in range(n):\n",
    "    x=input(\"Enter name \")\n",
    "    y=input(\"Enter phone number \")    \n",
    "    s=s+x+\" \"+y+'\\n'    \n",
    "\n",
    "print(s)"
   ]
  },
  {
   "cell_type": "code",
   "execution_count": 3,
   "id": "971693e6",
   "metadata": {},
   "outputs": [
    {
     "name": "stdout",
     "output_type": "stream",
     "text": [
      "Enter number7\n",
      "28\n"
     ]
    }
   ],
   "source": [
    "s=0\n",
    "n=int(input(\"Enter number\"))\n",
    "for i in range(n+1):\n",
    "    s=s+i\n",
    "print(s)"
   ]
  },
  {
   "cell_type": "code",
   "execution_count": 9,
   "id": "b394d23b",
   "metadata": {},
   "outputs": [
    {
     "name": "stdout",
     "output_type": "stream",
     "text": [
      "Enter number4\n",
      "24\n"
     ]
    }
   ],
   "source": [
    "a=1\n",
    "n=int(input(\"Enter number\"))\n",
    "for i in range(1,n+1):\n",
    "    a=a*i\n",
    "print(a)"
   ]
  },
  {
   "cell_type": "code",
   "execution_count": 10,
   "id": "145b75b3",
   "metadata": {},
   "outputs": [
    {
     "name": "stdout",
     "output_type": "stream",
     "text": [
      "0\n",
      "2\n",
      "4\n",
      "6\n",
      "8\n",
      "10\n",
      "12\n",
      "14\n",
      "16\n",
      "18\n",
      "20\n"
     ]
    }
   ],
   "source": [
    "for i in range(21):\n",
    "    if i%2 == 0:\n",
    "        print(i)"
   ]
  },
  {
   "cell_type": "code",
   "execution_count": 16,
   "id": "c6c1c063",
   "metadata": {},
   "outputs": [
    {
     "name": "stdout",
     "output_type": "stream",
     "text": [
      "5\n",
      "4\n",
      "3\n",
      "2\n",
      "1\n",
      "0\n",
      "-1\n",
      "-2\n",
      "-3\n",
      "-4\n",
      "-5\n"
     ]
    }
   ],
   "source": [
    "for i in range(5,-6,-1):\n",
    "    print(i)"
   ]
  },
  {
   "cell_type": "code",
   "execution_count": 20,
   "id": "f9a50932",
   "metadata": {},
   "outputs": [
    {
     "name": "stdout",
     "output_type": "stream",
     "text": [
      "5\n",
      "4\n",
      "3\n",
      "2\n",
      "1\n",
      "0\n"
     ]
    }
   ],
   "source": [
    "for i in range(5,-1,-1):\n",
    "    print(i)"
   ]
  },
  {
   "cell_type": "code",
   "execution_count": 24,
   "id": "e9b97b3e",
   "metadata": {},
   "outputs": [
    {
     "name": "stdout",
     "output_type": "stream",
     "text": [
      "0 2 4 6 8 10 12 14 16 18 20 22 24 26 28 30 32 34 36 38 40 42 44 46 48 50 52 54 56 58 60 62 64 66 68 70 72 74 76 78 80 82 84 86 88 90 92 94 96 98 "
     ]
    }
   ],
   "source": [
    "for i in range(100):\n",
    "    if i%2 == 0:\n",
    "        print(i, end=\" \")"
   ]
  },
  {
   "cell_type": "code",
   "execution_count": 25,
   "id": "11179d38",
   "metadata": {},
   "outputs": [
    {
     "name": "stdout",
     "output_type": "stream",
     "text": [
      "P Y T H O N "
     ]
    }
   ],
   "source": [
    "a=\"PYTHON\"\n",
    "for i in a:\n",
    "    print(i, end=\" \")"
   ]
  },
  {
   "cell_type": "code",
   "execution_count": 34,
   "id": "e9dac6cf",
   "metadata": {},
   "outputs": [
    {
     "name": "stdout",
     "output_type": "stream",
     "text": [
      "Heo Word I m Python"
     ]
    }
   ],
   "source": [
    "a=\"Hello World I am Python\"\n",
    "for i in a:\n",
    "    if i != \"l\" and i != \"a\":\n",
    "        print(i, end=\"\")"
   ]
  },
  {
   "cell_type": "code",
   "execution_count": 1,
   "id": "d4ed46da",
   "metadata": {},
   "outputs": [
    {
     "name": "stdout",
     "output_type": "stream",
     "text": [
      "Enter n1 = 10\n",
      "Enter n2 = 50\n",
      "11\n",
      "13\n",
      "17\n",
      "19\n",
      "23\n",
      "29\n",
      "31\n",
      "37\n",
      "41\n",
      "43\n",
      "47\n"
     ]
    }
   ],
   "source": [
    "#print prime numbers between  two numbers \n",
    "n1= int(input(\"Enter n1 = \"))\n",
    "n2= int(input(\"Enter n2 = \"))\n",
    "if n1>=2 and n2>=0:\n",
    "    for i in range(n1,n2):\n",
    "        for j in range (2,i):\n",
    "            if i%j==0:\n",
    "                break\n",
    "        else:\n",
    "            print(i)\n",
    "            \n",
    "else:\n",
    "    print(\"Please Enter Valid Number\")  "
   ]
  },
  {
   "cell_type": "code",
   "execution_count": null,
   "id": "dcc24b3d",
   "metadata": {},
   "outputs": [],
   "source": []
  }
 ],
 "metadata": {
  "kernelspec": {
   "display_name": "Python 3 (ipykernel)",
   "language": "python",
   "name": "python3"
  },
  "language_info": {
   "codemirror_mode": {
    "name": "ipython",
    "version": 3
   },
   "file_extension": ".py",
   "mimetype": "text/x-python",
   "name": "python",
   "nbconvert_exporter": "python",
   "pygments_lexer": "ipython3",
   "version": "3.9.13"
  }
 },
 "nbformat": 4,
 "nbformat_minor": 5
}
